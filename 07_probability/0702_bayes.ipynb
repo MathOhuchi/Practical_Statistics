{
 "cells": [
  {
   "cell_type": "markdown",
   "metadata": {},
   "source": [
    "# ベイズの定理\n",
    "\n",
    "事象の集合$A$および$B$について次の式が成り立ちます．\n",
    "\n",
    "> <font color=blue>$$\n",
    "\\begin{eqnarray}\n",
    "P(A{\\mid}B) \n",
    "&=& \\frac{P(B{\\mid}A)P(A)}{P(B)} \\\\\n",
    "&=& \\frac{P(B{\\mid}A)P(A)}{P(B{\\mid}A)P(A) + P(B{\\mid}A^c)P(A^c)}  \\\\\n",
    "\\end{eqnarray}\n",
    "$$</font>\n",
    "\n",
    "この式をベイズの定理と言います．\n",
    "ここで $A^c$ は $A$ の補集合です．"
   ]
  },
  {
   "cell_type": "markdown",
   "metadata": {},
   "source": [
    "## ベイズ定理の用語\n",
    "\n",
    "ベイズの定理では次の解釈を与えています．\n",
    "\n",
    "- $P(A)$：事象$A$の事前確率\n",
    "- $P(A{\\mid}B)$：事象$B$が起きた後の事象$A$の事後確率\n"
   ]
  },
  {
   "cell_type": "markdown",
   "metadata": {},
   "source": [
    "## 証明\n",
    "\n",
    "乗法定理の式を$A$と$B$を入替えた2通りの表現で記述します．\n",
    "\n",
    "$$ P(A{\\cap}B) = P(B){\\cdot}P(A{\\mid}B) $$\n",
    "$$ P(B{\\cap}A) = P(A){\\cdot}P(B{\\mid}A) $$\n",
    "\n",
    "これらの式から$P(A{\\cap}B)=P(B{\\cap}A)$なので2つの式が結びつきます．\n",
    "\n",
    "$$ P(B){\\cdot}P(A{\\mid}B) = P(A){\\cdot}P(B{\\mid}A) $$\n",
    "\n",
    "両辺を$P(B)$で割れば次の式が得られます．\n",
    "\n",
    "<font color=blue> $$ P(A{\\mid}B) = \\frac{P(B{\\mid}A)P(A)}{P(B)} $$ </font>"
   ]
  },
  {
   "cell_type": "markdown",
   "metadata": {},
   "source": [
    "右辺の分母にある$P(B)$ですが，$B = (B{\\cap}A)\\cup(B{\\cap}A^c)$ であるので，\n",
    "この式に加法定理と乗法定理を適用して式変形を行います．\n",
    "\n",
    "$$\n",
    "\\begin{eqnarray}\n",
    "P(B)\n",
    "&=& P((B{\\cap}A)\\cup(B{\\cap}A^c)) \\\\\n",
    "&=& P(B{\\cap}A) + P(B{\\cap}A^c) \\\\\n",
    "&=& P(B{\\mid}A)P(A) + P(B{\\mid}A^c)P(A^c) \\\\\n",
    "\\end{eqnarray}\n",
    "$$\n",
    "\n",
    "これを上式に代入すればベイズの定理が求まります．"
   ]
  },
  {
   "cell_type": "markdown",
   "metadata": {},
   "source": [
    "## ベイズの定理の一般化\n",
    "\n",
    "最初に提示したベイズの定理は事象$A$が起こる確率を考えましたが，この事象を複数の排反する事象 $A_1,A_2,\\cdots,A_n$とします．\n",
    "さらに，これらの事象のどれかが必ず起こるものとします．\n",
    "すなわち，次の2つの条件が成立すると仮定します．\n",
    "\n",
    "- $ A_i \\cap A_j = \\emptyset \\ (i \\neq j) $\n",
    "- $ A_1 \\cup A_2 \\cup \\cdots \\cup A_n = \\Omega $\n",
    "\n",
    "このとき次の式が成立します．\n",
    "\n",
    "> <font color=blue>$$\n",
    "P(A_i{\\mid}B) = \\frac{P(B{\\mid}A_i)P(A_i)}{\\sum_{j=1}^{n}P(B{\\mid}A_j)P(A_j)} \n",
    "$$</font>\n",
    "\n",
    "この式が一般的なベイズの定理です．\n",
    "\n",
    "証明は，$B = (A_1{\\cap}B) \\cup (A_2{\\cap}B) \\cup \\cdots \\cup (A_n{\\cap}B)$ に対して加法定理と乗法定理を適用すれば一般的なベイズの定理の式が求まります．"
   ]
  },
  {
   "cell_type": "markdown",
   "metadata": {},
   "source": [
    "## ベイズの定理の解釈\n",
    "\n",
    "事象$B$を得られたとき，その原因が事象$A_i \\ (i=1,\\cdots,n)$ のどれか1つだと仮定します．\n",
    "\n",
    "- 原因$A_i$について，それぞれの起こりやすさの確率が$P(A_i)$です．\n",
    "- 原因$A_i$が発生したときに結果$B$が起こる確率は$P(B{\\mid}A_i)$です．\n",
    "- $P(A_i{\\mid}B)$は，事象$B$が得られたときに，その原因が$A_i$である確率です．\n",
    "\n"
   ]
  },
  {
   "cell_type": "markdown",
   "metadata": {},
   "source": [
    "ベイズ統計は機械学習において中心的な役割を果たします．\n",
    "\n",
    "ベイズ統計はこの講座の範疇ではないので，解説はここまでとします．\n",
    "\n",
    "*****"
   ]
  }
 ],
 "metadata": {
  "kernelspec": {
   "display_name": "Python 3",
   "language": "python",
   "name": "python3"
  },
  "language_info": {
   "codemirror_mode": {
    "name": "ipython",
    "version": 3
   },
   "file_extension": ".py",
   "mimetype": "text/x-python",
   "name": "python",
   "nbconvert_exporter": "python",
   "pygments_lexer": "ipython3",
   "version": "3.6.1"
  }
 },
 "nbformat": 4,
 "nbformat_minor": 2
}
