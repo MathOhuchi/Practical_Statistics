{
 "cells": [
  {
   "cell_type": "markdown",
   "metadata": {},
   "source": [
    "# 期待値\n",
    "\n",
    "結果に数値をとる試行について，繰り返し試行した結果の平均値が収束する値を期待値と言います．  \n",
    "繰り返しの試行結果を $r_1,r_2,\\cdots$ としたとき，期待値は次のようになります．\n",
    "\n",
    "> $$ \\frac{r_1+r_2+\\cdots+r_k}{k} \\ \\xrightarrow{k{\\rightarrow}{\\infty}} \\ \\text{期待値} $$\n",
    "\n",
    "この条件を確率論の言葉によって定義します．"
   ]
  },
  {
   "cell_type": "markdown",
   "metadata": {},
   "source": [
    "## 確率変数\n",
    "\n",
    "ある変量 $x$ の取りうる値を $x_1,x_2,\\cdots,x_m$ とします．\n",
    "夫々の値の出る確率 $P_i=P(x_i)$ が与えら有れているものとします．\n",
    "このとき，この変量に対する試行を $X$ と書き，確率変数と言います．"
   ]
  },
  {
   "cell_type": "markdown",
   "metadata": {},
   "source": [
    "## 期待値の定義\n",
    "\n",
    "ある確率変数 $X$ が $x_1,x_2,\\cdots,x_m$ の有限個の値をとり得るとします．\n",
    "そして，$x_i$ が出る確率を $P_i$ とします．\n",
    "このとき次の式で定義される値 $E(X)$ を期待値と言います．\n",
    "\n",
    "> $$ E(X) = \\sum_{i=1}^{m}x_iP_i $$\n",
    "\n",
    "確率変数の取りうる値が実数の連続値の場合，期待値は積分を用いた定義となります．  \n",
    "変数 $x \\in \\mathbb{R}$ の確率密度関数を $p(x)$ とすると，\n",
    "$p(x) \\ge 0$ であり，$\\int_{-\\infty}^{\\infty}p(x)dx=1$の条件が成り立ちます．\n",
    "この場合の期待値は次の式になります．\n",
    "\n",
    "> $$ E(X) = \\int_{-\\infty}^{\\infty}xp(x)dx $$"
   ]
  },
  {
   "cell_type": "markdown",
   "metadata": {},
   "source": [
    "### 期待値の例：サイコロ\n",
    "\n",
    "期待値は確率論における平均値と考えられることをサイコロの例で示します．\n",
    "\n",
    "|index|1|2|3|4|5|6|\n",
    "|:---:|:---:|:---:|:---:|:---:|:---:|:---:|\n",
    "|**サイコロの目** $x_i$| $1$ | $2$ | $3$ | $4$ | $5$ | $6$ |\n",
    "|**確率** $P_i$ |$\\frac{1}{6}$|$\\frac{1}{6}$|$\\frac{1}{6}$|$\\frac{1}{6}$|$\\frac{1}{6}$|$\\frac{1}{6}$|\n",
    "\n",
    "この期待値を計算すると\n",
    "\n",
    "$$ \n",
    "\\begin{eqnarray}\n",
    "E(X)\n",
    "&=& 1\\times\\frac{1}{6}+2\\times\\frac{1}{6}+3\\times\\frac{1}{6}+4\\times\\frac{1}{6}+5\\times\\frac{1}{6}+6\\times\\frac{1}{6} \\\\\n",
    "&=& \\frac{1+2+3+4+5+6}{6} \\\\\n",
    "&=& 3.5\n",
    "\\end{eqnarray}\n",
    "$$\n",
    "\n",
    "このように期待値の計算式がサイコロの目の平均値に一致します．\n",
    "実際にサイコロを何度も振ると，出た目の平均値は3.5に近づいていきます．"
   ]
  },
  {
   "cell_type": "markdown",
   "metadata": {},
   "source": [
    "*****\n",
    "## 数値の有限の集まりから数値を取り出す期待値\n",
    "\n",
    "有限個の数値の集まりを$x_1,x_2,\\cdots,x_n$とします．\n",
    "この集まりから1つの数値をランダムに取り出す試行を確率変数$X$で表すことにします．\n",
    "このとき，確率変数の期待値は母集団の平均値 $\\mu$ に一致します．\n",
    "\n",
    "> $$ E(X) = \\mu $$"
   ]
  },
  {
   "cell_type": "markdown",
   "metadata": {},
   "source": [
    "### 解説\n",
    "\n",
    "箱の中に $n$個の玉が入っていて，それぞれの玉には数字が記載されています．\n",
    "ランダムサンプリングによって夫々の玉が取り出される確率は$\\frac{1}{n}$です．\n",
    "\n",
    "玉に記載されている数値は，$x_1,x_2,\\cdots,x_m$ の $m$個の値として，数値$x_i$が記載されている玉の個数を $k_i$個とします．\n",
    "このとき，取り出された数値が$x_i$である確率$P_i$は加法定理によって，$P_i=k_i\\frac{1}{n}=\\frac{k_i}{n}$です．\n",
    "\n",
    "箱の中は下図のようになっています．\n",
    "![玉の集まり](./images/ball_set.jpg)"
   ]
  },
  {
   "cell_type": "markdown",
   "metadata": {},
   "source": [
    "ここで $n$個の数値を別の変数で $y_1,y_2,\\cdots,y_n$ と表すと，\n",
    "この集まりは $k_1$個の$x_1$，$k_2$個の$x_2$，… $k_m$個の$x_m$ の集まりと対応します．\n",
    "したがって，次の式が成立します．\n",
    "\n",
    "$$ \\sum_{i=1}^{m}k_ix_i = \\sum_{j=1}^{n}y_j $$"
   ]
  },
  {
   "cell_type": "markdown",
   "metadata": {},
   "source": [
    "したがって，$n$個の数値から $1$個の数値をランダムに取り出すときに出る数値を確率変数$X$とすると，\n",
    "期待値$E(X)$は次式のように計算できます．\n",
    "\n",
    "$$ \n",
    "\\begin{eqnarray}\n",
    "E(X)\n",
    "&=& \\sum_{i=1}^{m}x_iP_i \\\\\n",
    "&=& \\sum_{i=1}^{m}x_i\\frac{k_i}{n} \\\\\n",
    "&=& \\frac{1}{n}\\sum_{i=1}^{m}k_ix_i \\\\\n",
    "&=& \\frac{1}{n}\\sum_{j=1}^{n}y_i \\\\\n",
    "&=& \\mu \\\\\n",
    "\\end{eqnarray}\n",
    "$$\n",
    "\n",
    "すなわち，数値を1つ取り出す試行の期待値は母集団の平均値に一致します．"
   ]
  },
  {
   "cell_type": "markdown",
   "metadata": {},
   "source": [
    "*****\n",
    "## 期待値の公式\n",
    "\n",
    "確率変数 $X$ と $Y$ および定数 $c$ について，次の式が成り立ちます．\n",
    "\n",
    "- $E(c) = c$\n",
    "- $E(cX) = cE(X)$\n",
    "- $E(X+Y) = E(X)+E(Y)$\n"
   ]
  },
  {
   "cell_type": "markdown",
   "metadata": {},
   "source": [
    "### $E(c)=c$ の証明\n",
    "\n",
    "常に定数$c$が発生するので，その確率$P_c$は$P_c=1$ となります．\n",
    "定義により，\n",
    "\n",
    "$$E(c)= \\sum cP_c = c{\\cdot}1 = c$$"
   ]
  },
  {
   "cell_type": "markdown",
   "metadata": {
    "collapsed": true
   },
   "source": [
    "### $E(cX)=cE(X)$ の証明\n",
    "\n",
    "確率変数$X$の取りうる値を $x_1,x_2,\\cdots,x_n$ とし，\n",
    "その確率を $P_1,P_2,\\cdots,P_n$ とします．\n",
    "\n",
    "$$ E(cX) = \\sum_{i=1}^{n}(cx_i)P_i = c\\sum_{i=1}^{n}c_iP_i = cE(X) $$"
   ]
  },
  {
   "cell_type": "markdown",
   "metadata": {},
   "source": [
    "### $E(X+Y)=E(X)+E(Y)$ の証明\n",
    "\n",
    "2つの母集団から数値を1つずつランダムに選択したとき，\n",
    "合計値の期待値が各々の期待値の合計になることを示しています．\n",
    "\n",
    "確率変数$X$の値の取りうる値を $x_1,x_2,\\cdots,x_n$ とし，\n",
    "確率変数$Y$の値の取りうる値を $y_1,y_2,\\cdots,y_m$ とします．\n",
    "\n",
    "確率変数$X$の値が $x_i$ であり，確率変数$Y$の値が $y_j$ となる確率を $P_{ij}$ とします．\n",
    "このとき期待値は次の式で表せます．\n",
    "\n",
    "$$\n",
    "\\begin{eqnarray}\n",
    "E(X+Y)\n",
    "&=& \\sum_{x_i,y_j}(x_i+y_j)P_{ij} \\\\\n",
    "&=& \\sum_{i=1}^{n}\\sum_{j=1}^{m}(x_iP_{ij}+y_jP_{ij}) \\\\\n",
    "&=& \\sum_{i=1}^{n}x_i\\sum_{j=1}^{m}P_{ij} + \\sum_{j=1}^{m}y_j\\sum_{i=1}^{n}P_{ij} \\\\\n",
    "\\end{eqnarray}\n",
    "$$"
   ]
  },
  {
   "cell_type": "markdown",
   "metadata": {},
   "source": [
    "ここで，$\\sum_{j=1}^{m}P_{ij}=P(x_i)$，および $\\sum_{i=1}^{n}P_{ij}=P(y_j)$ が成り立つので，\n",
    "\n",
    "$$ \n",
    "\\begin{eqnarray}\n",
    "E(X+Y)\n",
    "&=& \\sum_{i=1}^{n}x_iP(x_i) + \\sum_{j=1}^{m}y_jP(y_j) \\\\\n",
    "&=& E(X) + E(Y) \\\\\n",
    "\\end{eqnarray}\n",
    "$$"
   ]
  },
  {
   "cell_type": "markdown",
   "metadata": {},
   "source": [
    "*****\n",
    "## 分散\n",
    "\n",
    "確率変数 $X$ の期待値を $\\mu$ としたとき，\n",
    "\n",
    "> $$ V(X) = E\\left((X-\\mu)^2\\right) $$\n",
    "\n",
    "を確率変数 $X$ の分散といいます．"
   ]
  },
  {
   "cell_type": "markdown",
   "metadata": {},
   "source": [
    "*****\n",
    "## 分散の公式\n",
    "\n",
    "確率変数 $X$ と $Y$ および定数 $c$ について，次の式が成り立ちます．\n",
    "\n",
    "- $V(c)=0$\n",
    "- $V(X+c)=V(X)$\n",
    "- $V(cX)=c^2V(X)$\n",
    "- $V(X+Y)=V(X)+V(Y)+2\\text{Cov}(X,Y)$\n",
    "\n",
    "ここで，$\\text{Cov}(X,Y)=E\\left((X-\\mu_x)(Y-\\mu_y)\\right)$ です．\n",
    "この値を $X$ と $Y$ の共分散と言います．"
   ]
  },
  {
   "cell_type": "markdown",
   "metadata": {},
   "source": [
    "### $V(c)=0$ の証明\n",
    "\n",
    "確率変数が常に定数 $c$ になるため，期待値は $\\mu=c$ となります．\n",
    "したがって定義により，\n",
    "\n",
    "$$ \n",
    "V(c) = E\\left((c-\\mu)^2\\right) = E\\left((c-c)^2\\right) = E(0) = 0\n",
    "$$\n",
    "\n",
    "となります．"
   ]
  },
  {
   "cell_type": "markdown",
   "metadata": {},
   "source": [
    "### $V(X+c)=V(X)$ の証明\n",
    "\n",
    "確率変数 $X$ の期待値を $\\mu$ とすると，$X+c$ の期待値は $\\mu+c$ となります．\n",
    "したがって，定義により，\n",
    "\n",
    "$$ \n",
    "V(X+c) = E\\left(\\{(X+c)-(\\mu+c)\\}^2\\right) = E\\left((X-\\mu)^2\\right) = V(X)\n",
    "$$\n",
    "\n",
    "となります．"
   ]
  },
  {
   "cell_type": "markdown",
   "metadata": {},
   "source": [
    "### $V(cX)=c^2V(X)$ の証明\n",
    "\n",
    "確率変数 $X$ の期待値を $\\mu$ とすると，$cX$ の期待値は $c\\mu$ となります．\n",
    "したがって，定義により，\n",
    "\n",
    "$$ \n",
    "V(cX) = E\\left(\\{cX-c\\mu\\}^2\\right) = E\\left(c^2(X-\\mu)^2\\right) = c^2E\\left((X-\\mu)^2\\right) = c^2V(X)\n",
    "$$\n",
    "\n",
    "となります．"
   ]
  },
  {
   "cell_type": "markdown",
   "metadata": {},
   "source": [
    "### $V(X+Y)=V(X)+V(Y)+2E\\left((X-\\mu_x)(Y-\\mu_y)\\right)$ の証明\n",
    "\n",
    "確率変数 $X$ の期待値を $\\mu_x$ とし，確率変数 $Y$ の期待値を $\\mu_y$ とします．\n",
    "定義に従って，$V(X+Y)$ を計算します．\n",
    "\n",
    "$$\n",
    "\\begin{eqnarray}\n",
    "V(X+Y)\n",
    "&=& E\\left(\\{(X+Y)-(\\mu_x+\\mu_y)\\}^2\\right) \\\\\n",
    "&=& E\\left(\\{(X-\\mu_x)+(Y-\\mu_y)\\}^2\\right) \\\\\n",
    "&=& E\\left( \\{(X-\\mu_x)^2 + (Y-\\mu_y)^2 + 2(X-\\mu_x)(Y-\\mu_y)\\} \\right) \\\\\n",
    "&=& E\\left((X-\\mu_x)^2\\right) + E\\left((Y-\\mu_y)^2\\right) + 2E\\left((X-\\mu_x)(Y-\\mu_y)\\right) \\\\\n",
    "&=& V(X)+V(Y)+\\text{Cov}(X,Y) \\\\\n",
    "\\end{eqnarray}\n",
    "$$"
   ]
  },
  {
   "cell_type": "markdown",
   "metadata": {},
   "source": [
    "*****\n",
    "## 独立事象の共分散\n",
    "\n",
    "確率変数 $X$ と $Y$ が独立の場合，共分散の値はゼロになります．\n",
    "\n",
    "> $$ \\text{Cov}(X,Y) = 0 $$"
   ]
  },
  {
   "cell_type": "markdown",
   "metadata": {},
   "source": [
    "確率変数 $X$ と $Y$ が独立であるという事は，$X=x_i \\land Y=y_j$となる確率がそれぞれの確率の積で表せることでした．\n",
    "すなわち，次の式が成り立ちます．\n",
    "\n",
    "$$ P(X=x_i \\land Y=y_j) = P(X=x_i)P(Y=y_j) $$"
   ]
  },
  {
   "cell_type": "markdown",
   "metadata": {},
   "source": [
    "この場合の共分散を計算します．\n",
    "\n",
    "$$\n",
    "\\begin{eqnarray}\n",
    "\\text{Cov}(X,Y)\n",
    "&=& E\\left( (X-\\mu_x)(Y-\\mu_y) \\right) \\\\\n",
    "&=& \\sum_{i,j}^{}(x_i-\\mu_x)(y_j-\\mu_y)P(x_i{\\land}y_j) \\\\\n",
    "&=& \\sum_{i=1}^{n}\\sum_{j=1}^{m}(x_i-\\mu_x)(y_j-\\mu_y)P(x_i)P(y_j) \\\\\n",
    "&=& \\left\\{\\sum_{i=1}^{n}(x_i-\\mu_x)P(x_i)\\right\\} \\left\\{\\sum_{j=1}^{m}(y_j-\\mu_y)P(y_j)\\right\\} \\\\\n",
    "&=& \\left\\{\\sum_{i=1}^{n}x_iP(x_i)-\\mu_x\\sum_{i=1}^{n}P(x_i)\\right\\} \n",
    "\\left\\{\\sum_{j=1}^{m}y_jP(y_j)-\\mu_y\\sum_{j=1}^{m}P(y_j)\\right\\} \\\\\n",
    "&=& (\\mu_x-\\mu_x)(\\mu_y-\\mu_y) \\\\\n",
    "&=& 0\n",
    "\\end{eqnarray}\n",
    "$$"
   ]
  },
  {
   "cell_type": "markdown",
   "metadata": {},
   "source": [
    "*****"
   ]
  }
 ],
 "metadata": {
  "kernelspec": {
   "display_name": "Python 3",
   "language": "python",
   "name": "python3"
  },
  "language_info": {
   "codemirror_mode": {
    "name": "ipython",
    "version": 3
   },
   "file_extension": ".py",
   "mimetype": "text/x-python",
   "name": "python",
   "nbconvert_exporter": "python",
   "pygments_lexer": "ipython3",
   "version": "3.6.1"
  }
 },
 "nbformat": 4,
 "nbformat_minor": 2
}
