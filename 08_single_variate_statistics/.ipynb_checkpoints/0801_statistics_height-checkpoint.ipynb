{
 "cells": [
  {
   "cell_type": "markdown",
   "metadata": {},
   "source": [
    "# 1変量の基本統計：height\n",
    "\n",
    "クレンジング済みの身体調査データをデータフレームに取り込んで，変量について個別に基本統計を取ります．\n",
    "ただしクレンジング済みではありますが，データに間違いがないとは言えないことを忘れてはいけません．\n",
    "基本統計を調べる過程でデータに潜む間違いも発見していきます．\n",
    "\n",
    "まずは，変量 height について調べます．\n",
    "最初に必要となるライブラリーを搬入します．\n",
    "\n",
    "```Python\n",
    "import numpy as np\n",
    "import pandas as pd\n",
    "import matplotlib.pyplot as plt\n",
    "%matplotlib inline\n",
    "```"
   ]
  },
  {
   "cell_type": "code",
   "execution_count": 1,
   "metadata": {
    "collapsed": true
   },
   "outputs": [],
   "source": [
    "import numpy as np\n",
    "import pandas as pd\n",
    "import matplotlib.pyplot as plt\n",
    "%matplotlib inline"
   ]
  },
  {
   "cell_type": "markdown",
   "metadata": {},
   "source": [
    "クレンジング済みのデータがCSVファイルに格納されているので，それを取り込んでデータフレームを構築します．\n",
    "\n",
    "```Python\n",
    "df = pd.read_csv('./cleansed_body_data.csv')\n",
    "df.set_index('person',inplace=True)\n",
    "```"
   ]
  },
  {
   "cell_type": "code",
   "execution_count": 2,
   "metadata": {
    "collapsed": true
   },
   "outputs": [],
   "source": [
    "df = pd.read_csv('./cleansed_body_data.csv')\n",
    "df.set_index('person',inplace=True)"
   ]
  },
  {
   "cell_type": "markdown",
   "metadata": {},
   "source": [
    "*****\n",
    "## 基本統計量\n",
    "\n",
    "ここからデータに対して純粋な記述統計を行います．\n",
    "データフレームには，<font color=green>describe()</font>という便利な関数があります．\n",
    "describe関数は，大半の基本統計量を一括して求めてくれます．\n",
    "\n",
    "```Python\n",
    "df.height.describe()\n",
    "```"
   ]
  },
  {
   "cell_type": "code",
   "execution_count": 3,
   "metadata": {},
   "outputs": [
    {
     "data": {
      "text/plain": [
       "count     200.000000\n",
       "mean      169.107500\n",
       "std       103.481227\n",
       "min        77.300000\n",
       "25%       155.250000\n",
       "50%       162.350000\n",
       "75%       170.750000\n",
       "max      1609.000000\n",
       "Name: height, dtype: float64"
      ]
     },
     "execution_count": 3,
     "metadata": {},
     "output_type": "execute_result"
    }
   ],
   "source": [
    "df.height.describe()"
   ]
  },
  {
   "cell_type": "markdown",
   "metadata": {},
   "source": [
    "結果について確認します．\n",
    "\n",
    "|記述|値|統計量|\n",
    "|:---:|:---:|:---:|\n",
    "|count| 200.000000 |有効な値を持つデータ件数|\n",
    "|mean | 169.307500 |平均値     |\n",
    "|std  | 103.477886 |標準偏差   |\n",
    "|min  |  77.300000 |最小値     |\n",
    "|25%  | 155.250000 |第1四分位数|\n",
    "|50%  | 162.850000 |中央値     |\n",
    "|75%  | 171.400000 |第3四分位数|\n",
    "|max  |1609.000000 |最大値     |"
   ]
  },
  {
   "cell_type": "markdown",
   "metadata": {},
   "source": [
    "## 最大値の確認\n",
    "\n",
    "この結果で注目すべき値が最大値です．\n",
    "この変量は身長(cm)です．\n",
    "最大値=1609 cm は，明らかに異常です．\n",
    "この値の影響で，平均値と標準偏差が信頼できない値になっています．\n",
    "\n",
    "念のために値の分布をヒストグラムで表示してみます．\n",
    "\n",
    "```Python\n",
    "plt.hist(df.height,bins=20,color='lightcyan',edgecolor='black')\n",
    "plt.xlabel('Height (cm)')\n",
    "plt.ylabel('Counts')\n",
    "plt.show()\n",
    "```"
   ]
  },
  {
   "cell_type": "code",
   "execution_count": 4,
   "metadata": {
    "scrolled": true
   },
   "outputs": [
    {
     "data": {
      "image/png": "[encoded data removed]",
      "text/plain": [
       "<matplotlib.figure.Figure at 0x213e0652c88>"
      ]
     },
     "metadata": {},
     "output_type": "display_data"
    }
   ],
   "source": [
    "plt.hist(df.height,bins=20,color='lightcyan',edgecolor='black')\n",
    "plt.xlabel('Height (cm)')\n",
    "plt.ylabel('Counts')\n",
    "plt.show()"
   ]
  },
  {
   "cell_type": "markdown",
   "metadata": {},
   "source": [
    "やはり，最大値が異常値として，分布から大きく外れていることが分かります．\n",
    "\n",
    "この値が誰の値であるか調査します．\n",
    "最大値と同じ値を持つ人のデータを検出します．\n",
    "\n",
    "```Python\n",
    "df[df.height==1609.0]\n",
    "```"
   ]
  },
  {
   "cell_type": "code",
   "execution_count": 5,
   "metadata": {},
   "outputs": [
    {
     "data": {
      "text/html": [
       "<div>\n",
       "<style>\n",
       "    .dataframe thead tr:only-child th {\n",
       "        text-align: right;\n",
       "    }\n",
       "\n",
       "    .dataframe thead th {\n",
       "        text-align: left;\n",
       "    }\n",
       "\n",
       "    .dataframe tbody tr th {\n",
       "        vertical-align: top;\n",
       "    }\n",
       "</style>\n",
       "<table border=\"1\" class=\"dataframe\">\n",
       "  <thead>\n",
       "    <tr style=\"text-align: right;\">\n",
       "      <th></th>\n",
       "      <th>height</th>\n",
       "      <th>weight</th>\n",
       "      <th>age</th>\n",
       "      <th>gender</th>\n",
       "      <th>blood</th>\n",
       "    </tr>\n",
       "    <tr>\n",
       "      <th>person</th>\n",
       "      <th></th>\n",
       "      <th></th>\n",
       "      <th></th>\n",
       "      <th></th>\n",
       "      <th></th>\n",
       "    </tr>\n",
       "  </thead>\n",
       "  <tbody>\n",
       "    <tr>\n",
       "      <th>p060</th>\n",
       "      <td>1609.0</td>\n",
       "      <td>95.2</td>\n",
       "      <td>64.0</td>\n",
       "      <td>Male</td>\n",
       "      <td>B</td>\n",
       "    </tr>\n",
       "  </tbody>\n",
       "</table>\n",
       "</div>"
      ],
      "text/plain": [
       "        height  weight   age gender blood\n",
       "person                                   \n",
       "p060    1609.0    95.2  64.0   Male     B"
      ]
     },
     "execution_count": 5,
     "metadata": {},
     "output_type": "execute_result"
    }
   ],
   "source": [
    "df[df.height==1609.0]"
   ]
  },
  {
   "cell_type": "markdown",
   "metadata": {},
   "source": [
    "## p060のデータについて調査して修正\n",
    "\n",
    "この異常値を持つ対象が p060 であることが分かりました．\n",
    "\n",
    "測定時の原本に戻って確認したところ，この人の身長は 160.9 cm でした．\n",
    "電子化するときに誤って 1609 と登録してしまったようです．\n",
    "そこで，この値を修正します．\n",
    "\n",
    "```Python\n",
    "df.at['p060','height'] = 160.9\n",
    "df.height['p060']\n",
    "```"
   ]
  },
  {
   "cell_type": "code",
   "execution_count": 6,
   "metadata": {},
   "outputs": [
    {
     "data": {
      "text/plain": [
       "160.90000000000001"
      ]
     },
     "execution_count": 6,
     "metadata": {},
     "output_type": "execute_result"
    }
   ],
   "source": [
    "df.at['p060','height'] = 160.9\n",
    "df.height['p060']"
   ]
  },
  {
   "cell_type": "markdown",
   "metadata": {},
   "source": [
    "再度ヒストグラムを表示します．\n",
    "今度は，データが問題なく分布していることが分かります．\n",
    "\n",
    "```Python\n",
    "plt.hist(df.height,bins=20,color='lightcyan',edgecolor='black')\n",
    "plt.xlabel('Height (cm)')\n",
    "plt.ylabel('Counts')\n",
    "plt.show()\n",
    "```"
   ]
  },
  {
   "cell_type": "code",
   "execution_count": 7,
   "metadata": {},
   "outputs": [
    {
     "data": {
      "image/png": "[encoded data removed]",
      "text/plain": [
       "<matplotlib.figure.Figure at 0x213e0af7d68>"
      ]
     },
     "metadata": {},
     "output_type": "display_data"
    }
   ],
   "source": [
    "plt.hist(df.height,bins=20,color='lightcyan',edgecolor='black')\n",
    "plt.xlabel('Height (cm)')\n",
    "plt.ylabel('Counts')\n",
    "plt.show()"
   ]
  },
  {
   "cell_type": "markdown",
   "metadata": {},
   "source": [
    "さらに基本統計量を再度確認します．\n",
    "\n",
    "```Python\n",
    "df.height.describe()\n",
    "```"
   ]
  },
  {
   "cell_type": "code",
   "execution_count": 8,
   "metadata": {},
   "outputs": [
    {
     "data": {
      "text/plain": [
       "count    200.000000\n",
       "mean     161.867000\n",
       "std       15.410057\n",
       "min       77.300000\n",
       "25%      155.250000\n",
       "50%      162.250000\n",
       "75%      170.700000\n",
       "max      187.800000\n",
       "Name: height, dtype: float64"
      ]
     },
     "execution_count": 8,
     "metadata": {},
     "output_type": "execute_result"
    }
   ],
   "source": [
    "df.height.describe()"
   ]
  },
  {
   "cell_type": "markdown",
   "metadata": {},
   "source": [
    "データ修正前と比較して，平均値と標準偏差が大きく変化していることが分かります．\n",
    "データ修正前とは異なり，平均値が中央値に近い値になっています．"
   ]
  },
  {
   "cell_type": "markdown",
   "metadata": {},
   "source": [
    "## 最小値の確認\n",
    "\n",
    "今度は最小値です．\n",
    "身長の最小値が 77.3 cm について問題が無いか確認します．\n",
    "まず対象者を特定します．\n",
    "\n",
    "```Python\n",
    "df[df.height==77.3]\n",
    "```"
   ]
  },
  {
   "cell_type": "code",
   "execution_count": 9,
   "metadata": {},
   "outputs": [
    {
     "data": {
      "text/html": [
       "<div>\n",
       "<style>\n",
       "    .dataframe thead tr:only-child th {\n",
       "        text-align: right;\n",
       "    }\n",
       "\n",
       "    .dataframe thead th {\n",
       "        text-align: left;\n",
       "    }\n",
       "\n",
       "    .dataframe tbody tr th {\n",
       "        vertical-align: top;\n",
       "    }\n",
       "</style>\n",
       "<table border=\"1\" class=\"dataframe\">\n",
       "  <thead>\n",
       "    <tr style=\"text-align: right;\">\n",
       "      <th></th>\n",
       "      <th>height</th>\n",
       "      <th>weight</th>\n",
       "      <th>age</th>\n",
       "      <th>gender</th>\n",
       "      <th>blood</th>\n",
       "    </tr>\n",
       "    <tr>\n",
       "      <th>person</th>\n",
       "      <th></th>\n",
       "      <th></th>\n",
       "      <th></th>\n",
       "      <th></th>\n",
       "      <th></th>\n",
       "    </tr>\n",
       "  </thead>\n",
       "  <tbody>\n",
       "    <tr>\n",
       "      <th>p096</th>\n",
       "      <td>77.3</td>\n",
       "      <td>9.9</td>\n",
       "      <td>1.0</td>\n",
       "      <td>Female</td>\n",
       "      <td>NaN</td>\n",
       "    </tr>\n",
       "  </tbody>\n",
       "</table>\n",
       "</div>"
      ],
      "text/plain": [
       "        height  weight  age  gender blood\n",
       "person                                   \n",
       "p096      77.3     9.9  1.0  Female   NaN"
      ]
     },
     "execution_count": 9,
     "metadata": {},
     "output_type": "execute_result"
    }
   ],
   "source": [
    "df[df.height==77.3]"
   ]
  },
  {
   "cell_type": "markdown",
   "metadata": {},
   "source": [
    "対象者は p096 であることが分かりました．\n",
    "この対象者のデータは次の通りです．\n",
    "\n",
    "- 身長： 77.3 cm\n",
    "- 体重： 9.9 kg\n",
    "- 年齢： 1 歳\n",
    "- 性別： 女性\n",
    "- 血液型： 不明\n",
    "\n",
    "1歳の乳幼児であり，身体データとしては標準的であることが分かります．\n",
    "よって，このデータは異常値ではありません．"
   ]
  },
  {
   "cell_type": "markdown",
   "metadata": {},
   "source": [
    "*****\n",
    "## 修正済みデータのCSVファイルへの保管\n",
    "\n",
    "修正したデータを新しいCSVファイルに保管します．\n",
    "\n"
   ]
  },
  {
   "cell_type": "code",
   "execution_count": 10,
   "metadata": {
    "collapsed": true
   },
   "outputs": [],
   "source": [
    "df.to_csv('./cleansed_body_data2.csv')"
   ]
  },
  {
   "cell_type": "markdown",
   "metadata": {},
   "source": [
    "以上で，変量 height の基本統計を終わります．\n",
    "\n",
    "*****"
   ]
  }
 ],
 "metadata": {
  "kernelspec": {
   "display_name": "Python 3",
   "language": "python",
   "name": "python3"
  },
  "language_info": {
   "codemirror_mode": {
    "name": "ipython",
    "version": 3
   },
   "file_extension": ".py",
   "mimetype": "text/x-python",
   "name": "python",
   "nbconvert_exporter": "python",
   "pygments_lexer": "ipython3",
   "version": "3.6.1"
  }
 },
 "nbformat": 4,
 "nbformat_minor": 2
}
