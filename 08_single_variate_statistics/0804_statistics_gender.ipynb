{
 "cells": [
  {
   "cell_type": "markdown",
   "metadata": {},
   "source": [
    "# 1変量の基本統計：gender\n",
    "\n",
    "性別を表す変量 gender はカテゴリーデータですので，数値とは異なる集計になります．"
   ]
  },
  {
   "cell_type": "markdown",
   "metadata": {},
   "source": [
    "## ライブラリーの搬入\n",
    "\n",
    "```Python\n",
    "import numpy as np\n",
    "import pandas as pd\n",
    "import matplotlib.pyplot as plt\n",
    "%matplotlib inline\n",
    "```"
   ]
  },
  {
   "cell_type": "code",
   "execution_count": 1,
   "metadata": {
    "collapsed": true
   },
   "outputs": [],
   "source": [
    "import numpy as np\n",
    "import pandas as pd\n",
    "import matplotlib.pyplot as plt\n",
    "%matplotlib inline"
   ]
  },
  {
   "cell_type": "markdown",
   "metadata": {},
   "source": [
    "## CSVファイルからデータフレームの生成\n",
    "\n",
    "```Python\n",
    "df = pd.read_csv('./cleansed_body_data.csv')\n",
    "df.set_index('person',inplace=True)\n",
    "```"
   ]
  },
  {
   "cell_type": "code",
   "execution_count": 2,
   "metadata": {
    "collapsed": true
   },
   "outputs": [],
   "source": [
    "df = pd.read_csv('./cleansed_body_data.csv')\n",
    "df.set_index('person',inplace=True)"
   ]
  },
  {
   "cell_type": "markdown",
   "metadata": {},
   "source": [
    "## 基本統計の確認\n",
    "\n",
    "```Python\n",
    "df.gender.describe()\n",
    "```"
   ]
  },
  {
   "cell_type": "code",
   "execution_count": 3,
   "metadata": {},
   "outputs": [
    {
     "data": {
      "text/plain": [
       "count        199\n",
       "unique         2\n",
       "top       Female\n",
       "freq         103\n",
       "Name: gender, dtype: object"
      ]
     },
     "execution_count": 3,
     "metadata": {},
     "output_type": "execute_result"
    }
   ],
   "source": [
    "df.gender.describe()"
   ]
  },
  {
   "cell_type": "markdown",
   "metadata": {},
   "source": [
    "df.gender は数値ではないため describe()の結果はカテゴリーに適用できる統計量となります．\n",
    "\n",
    "|記述|値|説明|\n",
    "|:---:|:---:|:---:|\n",
    "|count |   199|欠損値以外の有効なデータ件数|\n",
    "|unique|     2|有効な値の種類 |\n",
    "|top   |Female|最頻値         |\n",
    "|freq  |   103|最頻値の度数   |\n",
    "\n",
    "実際に記載されている値をset()関数でリストアップしてみます．\n",
    "\n",
    "```Python\n",
    "set(df.gender)\n",
    "```"
   ]
  },
  {
   "cell_type": "code",
   "execution_count": 4,
   "metadata": {},
   "outputs": [
    {
     "data": {
      "text/plain": [
       "{nan, 'Male', 'Female'}"
      ]
     },
     "execution_count": 4,
     "metadata": {},
     "output_type": "execute_result"
    }
   ],
   "source": [
    "set(df.gender)"
   ]
  },
  {
   "cell_type": "markdown",
   "metadata": {},
   "source": [
    "さらに，頻度を value_counts()メソッドによって求めます．\n",
    "引数に dropna=False を与えることによって NaN の件数もカウントします．\n",
    "\n",
    "```Python\n",
    "df.gender.value_counts(dropna=False)\n",
    "```"
   ]
  },
  {
   "cell_type": "code",
   "execution_count": 5,
   "metadata": {
    "scrolled": true
   },
   "outputs": [
    {
     "data": {
      "text/plain": [
       "Female    103\n",
       "Male       96\n",
       "NaN         1\n",
       "Name: gender, dtype: int64"
      ]
     },
     "execution_count": 5,
     "metadata": {},
     "output_type": "execute_result"
    }
   ],
   "source": [
    "df.gender.value_counts(dropna=False)"
   ]
  },
  {
   "cell_type": "markdown",
   "metadata": {},
   "source": [
    "## パイチャートの表示\n",
    "\n",
    "カテゴリー値なので，ヒストグラムではなくパイチャートでデータの分布を確認します．\n",
    "データの頻度を得るためにデータフレームの機能である<font color=green>value_counts(dropna=False)</font>を使用します．\n",
    "パイチャートは matplotlib.pyplot の<font color=green>pie()</font>関数を使用します．\n",
    "\n",
    "```Python\n",
    "genderDistribution = df.gender.value_counts(dropna=False)\n",
    "plt.pie(genderDistribution, labels=genderDistribution.index,\n",
    "        startangle=90, counterclock=False, autopct='%1.1f%%', wedgeprops={'linewidth': 1, 'edgecolor':\"white\"})\n",
    "plt.axis('equal')\n",
    "plt.show()\n",
    "```"
   ]
  },
  {
   "cell_type": "code",
   "execution_count": 6,
   "metadata": {},
   "outputs": [
    {
     "data": {
      "image/png": "[encoded data removed]",
      "text/plain": [
       "<matplotlib.figure.Figure at 0x1e50eb0b0f0>"
      ]
     },
     "metadata": {},
     "output_type": "display_data"
    }
   ],
   "source": [
    "genderDistribution = df.gender.value_counts(dropna=False)\n",
    "plt.pie(genderDistribution, labels=genderDistribution.index,\n",
    "        startangle=90, counterclock=False, autopct='%1.1f%%', wedgeprops={'linewidth': 1, 'edgecolor':\"white\"})\n",
    "plt.axis('equal')\n",
    "plt.show()"
   ]
  },
  {
   "cell_type": "markdown",
   "metadata": {},
   "source": [
    "このように男女の比率がほぼ半々になっていることが分かります．\n",
    "\n",
    "*****"
   ]
  }
 ],
 "metadata": {
  "kernelspec": {
   "display_name": "Python 3",
   "language": "python",
   "name": "python3"
  },
  "language_info": {
   "codemirror_mode": {
    "name": "ipython",
    "version": 3
   },
   "file_extension": ".py",
   "mimetype": "text/x-python",
   "name": "python",
   "nbconvert_exporter": "python",
   "pygments_lexer": "ipython3",
   "version": "3.6.1"
  }
 },
 "nbformat": 4,
 "nbformat_minor": 2
}
