{
 "cells": [
  {
   "cell_type": "markdown",
   "metadata": {},
   "source": [
    "# ファイルコピー\n",
    "\n",
    "データフレームのクレンジングで作成したCSVファイルを自分のディレクトリーにコピーします．\n",
    "\n",
    "ファイルコピーするためにshutilライブラリーを搬入します．\n",
    "\n",
    "```Python\n",
    "import shutil\n",
    "```"
   ]
  },
  {
   "cell_type": "code",
   "execution_count": 1,
   "metadata": {
    "collapsed": true
   },
   "outputs": [],
   "source": [
    "import shutil"
   ]
  },
  {
   "cell_type": "markdown",
   "metadata": {},
   "source": [
    "ファイルをコピーするために<font color=green>shutil.copy2()</font>関数を使用します．\n",
    "copy2()関数はファイルの付属情報も一緒にコピーします．\n",
    "\n",
    "```Python\n",
    "shutil.copy2('../05_dataframe_cleansing/cleansed_body_data.csv','./')\n",
    "```"
   ]
  },
  {
   "cell_type": "code",
   "execution_count": 2,
   "metadata": {},
   "outputs": [
    {
     "data": {
      "text/plain": [
       "'./cleansed_body_data.csv'"
      ]
     },
     "execution_count": 2,
     "metadata": {},
     "output_type": "execute_result"
    }
   ],
   "source": [
    "shutil.copy2('../05_dataframe_cleansing/cleansed_body_data.csv','./')"
   ]
  },
  {
   "cell_type": "markdown",
   "metadata": {},
   "source": [
    "*****"
   ]
  }
 ],
 "metadata": {
  "kernelspec": {
   "display_name": "Python 3",
   "language": "python",
   "name": "python3"
  },
  "language_info": {
   "codemirror_mode": {
    "name": "ipython",
    "version": 3
   },
   "file_extension": ".py",
   "mimetype": "text/x-python",
   "name": "python",
   "nbconvert_exporter": "python",
   "pygments_lexer": "ipython3",
   "version": "3.6.1"
  }
 },
 "nbformat": 4,
 "nbformat_minor": 2
}
