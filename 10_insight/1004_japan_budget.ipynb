{
 "cells": [
  {
   "cell_type": "markdown",
   "metadata": {},
   "source": [
    "# グラフ解読\n",
    "\n",
    "データをグラフ化するためには，一般的に普及している様々なグラフが参考になります．\n",
    "良いグラフを作成するには，良いグラフを読み解くスキルが不可欠です．\n",
    "ここでは，一般的に普及しているグラフを利用して，グラフ解読を試みます．\n"
   ]
  },
  {
   "cell_type": "markdown",
   "metadata": {},
   "source": [
    "## 日本の国家予算\n",
    "\n",
    "ここに財務省がまとめた2019年度の一般会計のグラフがあります．\n",
    "ただし国家予算には一般会計の他に特別会計もありますので，これが国家予算の全てではないことに留意しましょう．\n",
    "\n",
    "（出典：[https://www.mof.go.jp/tax_policy/summary/condition/a02.htm](https://www.mof.go.jp/tax_policy/summary/condition/a02.htm) ）\n",
    "\n",
    "![日本国家予算](./images/japan_account2019.jpg)\n",
    "\n",
    "このグラフを解読して，考察を与えてください．"
   ]
  },
  {
   "cell_type": "markdown",
   "metadata": {},
   "source": [
    "## 考察のステップ\n",
    "\n",
    "- まず，データから分かる事実のみを提示します．\n",
    "- 裏付けのある外部情報を提示します．\n",
    "- 明確な根拠が無いが，推測されることや危惧されることを提示します．"
   ]
  },
  {
   "cell_type": "markdown",
   "metadata": {},
   "source": [
    "## データの事実\n",
    "\n",
    "- 一般会計予算は，約100兆円です．\n",
    "- 財政の基盤となる税収は歳入の半分しかない．\n",
    "- 歳入の3分の1は公債，すなわち借金で賄われている．\n",
    "- 歳入における税は，所得税：法人税：消費税＝19%：12%:19% になっている．\n",
    "- 歳出の3分の1が社会保障費用になっている．\n",
    "- 歳出の4分の1は公債への支払いに充てられている．\n",
    "\n",
    "一般会計予算の約100兆円は常識的な数値なので，覚えておくとフェルミ推定の基礎になります．\n",
    "\n",
    "歳出の比率から財政再建のポイントは，国債と社会保障であることが分かります．\n",
    "\n"
   ]
  },
  {
   "cell_type": "markdown",
   "metadata": {},
   "source": [
    "## 外部情報\n",
    "\n",
    "一般会計予算を参照したの財務省の同じ資料（[https://www.mof.go.jp/tax_policy/summary/condition/a02.htm](https://www.mof.go.jp/tax_policy/summary/condition/a02.htm)）から次のことが言えます．\n",
    "- 過去の一般会計予算は約100兆円で，その内訳もほぼ同じ構成になっている．\n",
    "- 公債残高は毎年増加しており，2019年時点で約900兆円になっている．\n",
    "\n",
    "財務省の2018年度の特別会計ハンドブック（ [https://www.mof.go.jp/budget/topics/special_account/fy2018](https://www.mof.go.jp/budget/topics/special_account/fy2018) ）からの情報です．\n",
    "一般会計のグラフと年度が異なりますが，数値は同程度なので参考になります．\n",
    "- 特別会計予算は約390兆円ですが，一般会計との重複があり，単純な合計が国家予算とはなりません．\n",
    "- 一般会計と特別会計を合わせて重複を除いた国家予算は約240兆円です．\n",
    "- 240兆円の国家予算の歳出においても国債が4割を占め，社会保障費が3分の1を占めている．"
   ]
  },
  {
   "cell_type": "markdown",
   "metadata": {},
   "source": [
    "参考：2018年度の一般会計と特別会計を重複を除いて合計した予算\n",
    "![一般会計＋特別会計](./images/japan_account2018all.jpg)"
   ]
  },
  {
   "cell_type": "markdown",
   "metadata": {},
   "source": [
    "## 推測されること\n",
    "\n",
    "- 少子高齢化による社会保障費の増大と所得税の減少への対応\n",
    "    - 年金制度の抜本的改訂により年金だけでは生活できなくなる．\n",
    "    - 歳入を増やすために消費税率の引き上げになる．\n",
    "    - 老後生活費の貯蓄にために個人消費が落ち込み，長期の消費不況になる．\n",
    "- 国債費がさらに増大して財政再建が不可能になる．\n",
    "    - 超緊縮予算となり，不況になる．\n",
    "    - お金の価値が下がり，高インフレとなる．\n",
    "    - 貧困により治安が悪化する．\n",
    "\n",
    "推測されることは，正しいとは言い切れないので，これらの意見を元に更なるデータの収集と分析の課題が明確になります．\n",
    "また，負の予想に対しては，そうならないような対策を検討する提言に繋げます．"
   ]
  },
  {
   "cell_type": "markdown",
   "metadata": {},
   "source": [
    "*****\n",
    "このデータのように政府機関が提供するデータには重要なものが多いので，じっくり解読すると様々な洞察力が身に付きます．"
   ]
  }
 ],
 "metadata": {
  "kernelspec": {
   "display_name": "Python 3",
   "language": "python",
   "name": "python3"
  },
  "language_info": {
   "codemirror_mode": {
    "name": "ipython",
    "version": 3
   },
   "file_extension": ".py",
   "mimetype": "text/x-python",
   "name": "python",
   "nbconvert_exporter": "python",
   "pygments_lexer": "ipython3",
   "version": "3.6.1"
  }
 },
 "nbformat": 4,
 "nbformat_minor": 2
}
