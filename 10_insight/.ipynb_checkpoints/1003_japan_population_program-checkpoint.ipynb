{
 "cells": [
  {
   "cell_type": "markdown",
   "metadata": {},
   "source": [
    "# 日本人の人口のPythonによる分析\n",
    "\n",
    "平成29年10月1日時点での日本に住む人の総人口を1歳刻みで記録したデータから分析結果を求めるPythonのプログラムを記述します．\n",
    "\n",
    "人口データはCSVファイルとして用意してありますので，これを取り込んでデータフレームを作成します．\n",
    "データは度数分布表になっているので，代表値の計算では，重み付きの処理が必要になります．"
   ]
  },
  {
   "cell_type": "code",
   "execution_count": 1,
   "metadata": {
    "collapsed": true
   },
   "outputs": [],
   "source": [
    "import numpy as np\n",
    "import pandas as pd\n",
    "import matplotlib.pyplot as plt\n",
    "%matplotlib inline"
   ]
  },
  {
   "cell_type": "code",
   "execution_count": 2,
   "metadata": {},
   "outputs": [
    {
     "data": {
      "text/html": [
       "<div>\n",
       "<style>\n",
       "    .dataframe thead tr:only-child th {\n",
       "        text-align: right;\n",
       "    }\n",
       "\n",
       "    .dataframe thead th {\n",
       "        text-align: left;\n",
       "    }\n",
       "\n",
       "    .dataframe tbody tr th {\n",
       "        vertical-align: top;\n",
       "    }\n",
       "</style>\n",
       "<table border=\"1\" class=\"dataframe\">\n",
       "  <thead>\n",
       "    <tr style=\"text-align: right;\">\n",
       "      <th></th>\n",
       "      <th>age</th>\n",
       "      <th>male</th>\n",
       "      <th>female</th>\n",
       "    </tr>\n",
       "  </thead>\n",
       "  <tbody>\n",
       "    <tr>\n",
       "      <th>0</th>\n",
       "      <td>0</td>\n",
       "      <td>493</td>\n",
       "      <td>470</td>\n",
       "    </tr>\n",
       "    <tr>\n",
       "      <th>1</th>\n",
       "      <td>1</td>\n",
       "      <td>514</td>\n",
       "      <td>486</td>\n",
       "    </tr>\n",
       "    <tr>\n",
       "      <th>2</th>\n",
       "      <td>2</td>\n",
       "      <td>490</td>\n",
       "      <td>470</td>\n",
       "    </tr>\n",
       "    <tr>\n",
       "      <th>3</th>\n",
       "      <td>3</td>\n",
       "      <td>499</td>\n",
       "      <td>476</td>\n",
       "    </tr>\n",
       "    <tr>\n",
       "      <th>4</th>\n",
       "      <td>4</td>\n",
       "      <td>517</td>\n",
       "      <td>495</td>\n",
       "    </tr>\n",
       "  </tbody>\n",
       "</table>\n",
       "</div>"
      ],
      "text/plain": [
       "   age  male  female\n",
       "0    0   493     470\n",
       "1    1   514     486\n",
       "2    2   490     470\n",
       "3    3   499     476\n",
       "4    4   517     495"
      ]
     },
     "execution_count": 2,
     "metadata": {},
     "output_type": "execute_result"
    }
   ],
   "source": [
    "df = pd.read_csv('./population.csv')\n",
    "df.head()"
   ]
  },
  {
   "cell_type": "code",
   "execution_count": 3,
   "metadata": {},
   "outputs": [
    {
     "data": {
      "image/png": "[encoded data removed]",
      "text/plain": [
       "<matplotlib.figure.Figure at 0x2014b5867b8>"
      ]
     },
     "metadata": {},
     "output_type": "display_data"
    }
   ],
   "source": [
    "fig, ax = plt.subplots(ncols=2, figsize=(8,6))  # 2 plot area\n",
    "# Male\n",
    "ax[0].barh(df.age,df.male,color='blue',height=0.5, label='Male')  # horizontal bar\n",
    "ax[0].yaxis.tick_right()\n",
    "ax[0].set_yticks(np.array(range(0,111,10)))\n",
    "ax[0].set_yticklabels([])\n",
    "ax[0].set_xlim([1200,0])\n",
    "ax[0].set_xlabel('Male population (thousands)')\n",
    "# Female\n",
    "ax[1].barh(df.age,df.female,color='red', height=0.5, label='Female')  # horizontal bar\n",
    "ax[1].set_yticks(np.array(range(0,111,10)))\n",
    "ax[1].set_xlim([0,1200])\n",
    "ax[1].set_xlabel('Female population (thousands)')\n",
    "#\n",
    "plt.show()"
   ]
  },
  {
   "cell_type": "code",
   "execution_count": 4,
   "metadata": {},
   "outputs": [
    {
     "name": "stdout",
     "output_type": "stream",
     "text": [
      "男性 平均値： 44.8\n",
      "女性 平均値： 48.0\n"
     ]
    }
   ],
   "source": [
    "print('男性 平均値：',round((df.age*df.male).sum()/df.male.sum(),1))\n",
    "print('女性 平均値：',round((df.age*df.female).sum()/df.female.sum(),1))"
   ]
  },
  {
   "cell_type": "code",
   "execution_count": 5,
   "metadata": {},
   "outputs": [
    {
     "name": "stdout",
     "output_type": "stream",
     "text": [
      "男性 中央値： 45\n",
      "女性 中央値： 49\n"
     ]
    }
   ],
   "source": [
    "male50 = df.male.sum()/2\n",
    "df['cumMale'] = df.male.cumsum()\n",
    "print('男性 中央値：',len([a for a in df.cumMale if a<male50]))\n",
    "female50 = df.female.sum()/2\n",
    "df['cumFemale'] = df.female.cumsum()\n",
    "print('女性 中央値：',len([a for a in df.cumFemale if a<female50]))"
   ]
  },
  {
   "cell_type": "code",
   "execution_count": 6,
   "metadata": {
    "scrolled": true
   },
   "outputs": [
    {
     "name": "stdout",
     "output_type": "stream",
     "text": [
      "男性 最頻値： 68\n",
      "女性 最頻値： 68\n"
     ]
    }
   ],
   "source": [
    "print('男性 最頻値：',df[df.male==df.male.max()].age.values[0])\n",
    "print('女性 最頻値：',df[df.female==df.female.max()].age.values[0])"
   ]
  },
  {
   "cell_type": "markdown",
   "metadata": {},
   "source": [
    "*****"
   ]
  }
 ],
 "metadata": {
  "kernelspec": {
   "display_name": "Python 3",
   "language": "python",
   "name": "python3"
  },
  "language_info": {
   "codemirror_mode": {
    "name": "ipython",
    "version": 3
   },
   "file_extension": ".py",
   "mimetype": "text/x-python",
   "name": "python",
   "nbconvert_exporter": "python",
   "pygments_lexer": "ipython3",
   "version": "3.6.1"
  }
 },
 "nbformat": 4,
 "nbformat_minor": 2
}
