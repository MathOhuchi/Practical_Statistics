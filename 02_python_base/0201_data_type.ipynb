{
 "cells": [
  {
   "cell_type": "markdown",
   "metadata": {},
   "source": [
    "# Pythonのデータ型\n",
    "\n",
    "ここでは，この講座でよく利用するPythonのデータ型について，簡単に説明します．\n",
    "基本的なデータ型には次のものがあります．\n",
    "\n",
    " | データ型 | 意味 | 例 |\n",
    "|:---:|:---:|:---:|\n",
    "| str |文字列      |'abcd'|\n",
    "| int |整数        | 100  |\n",
    "|float|浮動小数点数| 3.14 |\n",
    "\n",
    "Pythonでは明示的にデータ型の宣言を行いません．\n",
    "変数に値を代入するときに，その値に対応したデータ型が自動的に割り当てられます．"
   ]
  },
  {
   "cell_type": "markdown",
   "metadata": {},
   "source": [
    "*****\n",
    "## type関数\n",
    "\n",
    "Pythonにおけるデータ型を確認するための関数が<font color=green>type()</font>関数です．\n",
    "データ型の確認はデータ整備のプロセスの最初に行うことです．  \n",
    "\n",
    "ここでは，同じ変数 x に色々な値を代入して，変数 x のデータ型を確認します．\n",
    "\n",
    "文字型データのデータ型を確認します．\n",
    "```Python\n",
    "x = 'abcd'\n",
    "type(x)\n",
    "```"
   ]
  },
  {
   "cell_type": "code",
   "execution_count": 1,
   "metadata": {},
   "outputs": [
    {
     "data": {
      "text/plain": [
       "str"
      ]
     },
     "execution_count": 1,
     "metadata": {},
     "output_type": "execute_result"
    }
   ],
   "source": [
    "x = 'abcd'\n",
    "type(x)"
   ]
  },
  {
   "cell_type": "markdown",
   "metadata": {},
   "source": [
    "整数型のデータ型を確認します．\n",
    "```Python\n",
    "x = 100\n",
    "type(x)\n",
    "```"
   ]
  },
  {
   "cell_type": "code",
   "execution_count": 2,
   "metadata": {},
   "outputs": [
    {
     "data": {
      "text/plain": [
       "int"
      ]
     },
     "execution_count": 2,
     "metadata": {},
     "output_type": "execute_result"
    }
   ],
   "source": [
    "x = 100\n",
    "type(x)"
   ]
  },
  {
   "cell_type": "markdown",
   "metadata": {},
   "source": [
    "浮動小数点数型のデータ型を確認します．\n",
    "```Python\n",
    "x = 3.14\n",
    "type(x)\n",
    "```"
   ]
  },
  {
   "cell_type": "code",
   "execution_count": 3,
   "metadata": {},
   "outputs": [
    {
     "data": {
      "text/plain": [
       "float"
      ]
     },
     "execution_count": 3,
     "metadata": {},
     "output_type": "execute_result"
    }
   ],
   "source": [
    "x = 3.14\n",
    "type(x)"
   ]
  },
  {
   "cell_type": "markdown",
   "metadata": {},
   "source": [
    "type()関数は，あらゆる複雑なデータ型にも対応しています．\n",
    "したがって，そのデータの構造を知る上でtype()関数は重要です．"
   ]
  },
  {
   "cell_type": "markdown",
   "metadata": {},
   "source": [
    "*****\n",
    "## 配列：リスト，タプル，辞書\n",
    "\n",
    "Pythonにはリスト，タプル，辞書という3種類の配列があります．\n",
    "それぞれの記法は次のようになります．\n",
    "\n",
    "```Python\n",
    "myList = [1,2,3,4,5]\n",
    "myTuple = (1,2,3,4,5)\n",
    "myDict = {'one':1,'two':2,'three':3,'four':4,'five':5}\n",
    "```"
   ]
  },
  {
   "cell_type": "code",
   "execution_count": 4,
   "metadata": {
    "collapsed": true
   },
   "outputs": [],
   "source": [
    "myList = [1,2,3,4,5]\n",
    "myTuple = (1,2,3,4,5)\n",
    "myDict = {'one':1,'two':2,'three':3,'four':4,'five':5}"
   ]
  },
  {
   "cell_type": "markdown",
   "metadata": {},
   "source": [
    "リスト，タプル，辞書の違いは下表の通りです．\n",
    "\n",
    "| 配列の種類 | データ型 | 特徴 |\n",
    "|:---:|:---:|:---:|\n",
    "| リスト | list  | 配列の要素について追加，削除，変更が可能 |\n",
    "| タプル | tuple | 配列の要素について追加，削除，変更ができない |\n",
    "| 辞書   | dict  | 配列の要素がキーと値のペアになっている |"
   ]
  },
  {
   "cell_type": "markdown",
   "metadata": {},
   "source": [
    "配列についてもtype()関数によってデータ型を調べることができます．\n",
    "\n",
    "リスト配列のデータ型を確認します．\n",
    "```Python\n",
    "type(myList)\n",
    "```"
   ]
  },
  {
   "cell_type": "code",
   "execution_count": 5,
   "metadata": {},
   "outputs": [
    {
     "data": {
      "text/plain": [
       "list"
      ]
     },
     "execution_count": 5,
     "metadata": {},
     "output_type": "execute_result"
    }
   ],
   "source": [
    "type(myList)"
   ]
  },
  {
   "cell_type": "markdown",
   "metadata": {},
   "source": [
    "タプル配列のデータ型を確認します．\n",
    "```Python\n",
    "type(myTuple)\n",
    "```"
   ]
  },
  {
   "cell_type": "code",
   "execution_count": 6,
   "metadata": {},
   "outputs": [
    {
     "data": {
      "text/plain": [
       "tuple"
      ]
     },
     "execution_count": 6,
     "metadata": {},
     "output_type": "execute_result"
    }
   ],
   "source": [
    "type(myTuple)"
   ]
  },
  {
   "cell_type": "markdown",
   "metadata": {},
   "source": [
    "辞書配列のデータ型を確認します．\n",
    "```Python\n",
    "type(myDict)\n",
    "```"
   ]
  },
  {
   "cell_type": "code",
   "execution_count": 7,
   "metadata": {},
   "outputs": [
    {
     "data": {
      "text/plain": [
       "dict"
      ]
     },
     "execution_count": 7,
     "metadata": {},
     "output_type": "execute_result"
    }
   ],
   "source": [
    "type(myDict)"
   ]
  },
  {
   "cell_type": "markdown",
   "metadata": {},
   "source": [
    "*****\n",
    "## range()関数とlist()関数\n",
    "\n",
    "リスト配列を作成するときに，<font face='courier new' color='green'>myList = [1,2,3,4,5]</font> というように要素を記述する方法は，要素数が多い場合は向いていません．\n",
    "要素数が多く，かつ要素に規則性がある場合は，range()関数を利用することができます．"
   ]
  },
  {
   "cell_type": "markdown",
   "metadata": {},
   "source": [
    "range()関数は，返り値として，数値列を生成する　rangeオブジェクトを生成します．\n",
    "range()関数の構文は2種類あります．\n",
    "\n",
    "> <font face='courier new' color='green'>range(終了値)</font>\n",
    "\n",
    "この場合は，0から始まって，1づつ増加して，終了値より小さい値までの数列を返すオブジェクトが作成されます．\n",
    "\n",
    "> <font face='courier new' color='green'>range(開始値, 終了値, 間隔値)</font>\n",
    "\n",
    "この場合は，開始値から始まって，間隔値づつ増加して，終了値より小さい値までの数列を返すオブジェクトが作成されます．\n",
    "\n",
    "生成される数列に終了値が含まれないことに注意しましょう．"
   ]
  },
  {
   "cell_type": "markdown",
   "metadata": {},
   "source": [
    "例として，0から始まって4までの数値を返すrangeオブジェクトは次のようになります．\n",
    "\n",
    "```Python\n",
    "range(5)\n",
    "```"
   ]
  },
  {
   "cell_type": "code",
   "execution_count": 8,
   "metadata": {},
   "outputs": [
    {
     "data": {
      "text/plain": [
       "range(0, 5)"
      ]
     },
     "execution_count": 8,
     "metadata": {},
     "output_type": "execute_result"
    }
   ],
   "source": [
    "range(5)"
   ]
  },
  {
   "cell_type": "markdown",
   "metadata": {},
   "source": [
    "このように返り値はオブジェクトになります．\n",
    "このオブジェクトからリスト配列を生成するには，list()関数を利用します．\n",
    "\n",
    "> <font face='courier new' color='green'>list(rangeオブジェクト)</font>\n",
    "\n",
    "このlist()関数とrange()関数を組み合わせて，0から始まって4までの数値のリスト配列を作成してみます．\n",
    "\n",
    "```Python\n",
    "list(range(5))\n",
    "```"
   ]
  },
  {
   "cell_type": "code",
   "execution_count": 9,
   "metadata": {},
   "outputs": [
    {
     "data": {
      "text/plain": [
       "[0, 1, 2, 3, 4]"
      ]
     },
     "execution_count": 9,
     "metadata": {},
     "output_type": "execute_result"
    }
   ],
   "source": [
    "list(range(5))"
   ]
  },
  {
   "cell_type": "markdown",
   "metadata": {},
   "source": [
    "次の例は，1から始まって，3づつ増加して，20未満の数値のリスト配列を生成してみます．\n",
    "\n",
    "```Python\n",
    "list(range(1,20,3))\n",
    "```"
   ]
  },
  {
   "cell_type": "code",
   "execution_count": 10,
   "metadata": {},
   "outputs": [
    {
     "data": {
      "text/plain": [
       "[1, 4, 7, 10, 13, 16, 19]"
      ]
     },
     "execution_count": 10,
     "metadata": {},
     "output_type": "execute_result"
    }
   ],
   "source": [
    "list(range(1,20,3))"
   ]
  },
  {
   "cell_type": "markdown",
   "metadata": {},
   "source": [
    "*****\n",
    "## set関数と集合型\n",
    "\n",
    "配列の要素を重複の無い集合を求めるには<font color=green>set()</font>関数を使用します．\n",
    "\n",
    "```Python\n",
    "myList = ['apple','orange','banana','orange','banana','apple']\n",
    "set(myList)\n",
    "```"
   ]
  },
  {
   "cell_type": "code",
   "execution_count": 11,
   "metadata": {},
   "outputs": [
    {
     "data": {
      "text/plain": [
       "{'apple', 'banana', 'orange'}"
      ]
     },
     "execution_count": 11,
     "metadata": {},
     "output_type": "execute_result"
    }
   ],
   "source": [
    "myList = ['apple','orange','banana','orange','banana','apple']\n",
    "set(myList)"
   ]
  },
  {
   "cell_type": "markdown",
   "metadata": {},
   "source": [
    "このように元のリストの要素から重複を除いた要素の集合が求まります．\n",
    "set()関数は，カテゴリー値データの変量について，実際に記載されている値の確認に使用します．\n",
    "\n",
    "集合オブジェクトのデータ型は set になります．\n",
    "これを集合型と言います．\n",
    "\n",
    "```Python\n",
    "mySet = {'alpha','beta','gamma'}\n",
    "type(mySet)\n",
    "```"
   ]
  },
  {
   "cell_type": "code",
   "execution_count": 12,
   "metadata": {},
   "outputs": [
    {
     "data": {
      "text/plain": [
       "set"
      ]
     },
     "execution_count": 12,
     "metadata": {},
     "output_type": "execute_result"
    }
   ],
   "source": [
    "mySet = {'alpha','beta','gamma'}\n",
    "type(mySet)"
   ]
  },
  {
   "cell_type": "markdown",
   "metadata": {},
   "source": [
    "集合型は，重複を除いたデータの集まりです．\n",
    "集合型にはインデックスはありませんので，利用頻度はあまり高くありません．"
   ]
  },
  {
   "cell_type": "markdown",
   "metadata": {},
   "source": [
    "*****\n",
    "## 列挙型データ\n",
    "\n",
    "Pythonにおける列挙型データについて紹介します．\n",
    "列挙型は，取りうる値が有限個で指定されたカテゴリー値しか持たないデータです．\n",
    "\n",
    "例として，性別を<font face='courier new' color='green'>{'male','female','others'}</font>の3種類のカテゴリーとします．\n",
    "このようなカテゴリー値を取る列挙型のクラスGenderを定義します．\n",
    "列挙型のデータを定義するために，enumライブラリーから型宣言のためのEnumモジュールと自動附番を行うauto関数を搬入します．\n",
    "\n",
    "```Python\n",
    "from enum import Enum, auto\n",
    "```"
   ]
  },
  {
   "cell_type": "code",
   "execution_count": 13,
   "metadata": {
    "collapsed": true
   },
   "outputs": [],
   "source": [
    "from enum import Enum, auto"
   ]
  },
  {
   "cell_type": "markdown",
   "metadata": {},
   "source": [
    "性別の定義を与える変数のクラスGenderを定義します．\n",
    "\n",
    "```Python\n",
    "class Gender(Enum):\n",
    "    male =auto()\n",
    "    female = auto()\n",
    "    others = auto()\n",
    "```"
   ]
  },
  {
   "cell_type": "code",
   "execution_count": 14,
   "metadata": {
    "collapsed": true
   },
   "outputs": [],
   "source": [
    "class Gender(Enum):\n",
    "    male =auto()\n",
    "    female = auto()\n",
    "    others = auto()"
   ]
  },
  {
   "cell_type": "markdown",
   "metadata": {},
   "source": [
    "とり得る3つの値をリスト配列として定義してみます．\n",
    "\n",
    "```Pyython\n",
    "[Gender.male, Gender.female, Gender.others]\n",
    "```"
   ]
  },
  {
   "cell_type": "code",
   "execution_count": 15,
   "metadata": {},
   "outputs": [
    {
     "data": {
      "text/plain": [
       "[<Gender.male: 1>, <Gender.female: 2>, <Gender.others: 3>]"
      ]
     },
     "execution_count": 15,
     "metadata": {},
     "output_type": "execute_result"
    }
   ],
   "source": [
    "[Gender.male, Gender.female, Gender.others]"
   ]
  },
  {
   "cell_type": "markdown",
   "metadata": {},
   "source": [
    "このようにそれぞれの値は，その名前と値の組み合わせになっています．\n",
    "\n",
    "列挙型データのデータ型についても確認してみましょう．\n",
    "\n",
    "```Python\n",
    "x = Gender.male\n",
    "type(x)\n",
    "```"
   ]
  },
  {
   "cell_type": "code",
   "execution_count": 16,
   "metadata": {},
   "outputs": [
    {
     "data": {
      "text/plain": [
       "<enum 'Gender'>"
      ]
     },
     "execution_count": 16,
     "metadata": {},
     "output_type": "execute_result"
    }
   ],
   "source": [
    "x = Gender.male\n",
    "type(x)"
   ]
  },
  {
   "cell_type": "markdown",
   "metadata": {},
   "source": [
    "この講座の中では列挙型データを使用しませんが，確定的な値を保証するときに便利な方法です．\n",
    "*****"
   ]
  }
 ],
 "metadata": {
  "kernelspec": {
   "display_name": "Python 3",
   "language": "python",
   "name": "python3"
  },
  "language_info": {
   "codemirror_mode": {
    "name": "ipython",
    "version": 3
   },
   "file_extension": ".py",
   "mimetype": "text/x-python",
   "name": "python",
   "nbconvert_exporter": "python",
   "pygments_lexer": "ipython3",
   "version": "3.7.4"
  }
 },
 "nbformat": 4,
 "nbformat_minor": 2
}
