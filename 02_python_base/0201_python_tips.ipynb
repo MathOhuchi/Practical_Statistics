{
 "cells": [
  {
   "cell_type": "markdown",
   "metadata": {},
   "source": [
    "# よく利用するPythonのテクニック\n",
    "\n",
    "ここでは，この講座でよく利用するPythonのテクニックについて，簡単に説明します．"
   ]
  },
  {
   "cell_type": "markdown",
   "metadata": {},
   "source": [
    "*****\n",
    "## type関数\n",
    "\n",
    "Pythonにおけるデータ型を確認するための関数が<font color=green>type()</font>関数です．\n",
    "データ型の確認はデータ整備の最初に行うことです．  \n",
    "データ型の代表的な例として，次のデータの型を確認します．\n",
    "\n",
    "| 値の例 | データ型 | 意味 |\n",
    "|:---:|:---:|:---:|\n",
    "| 'alphabet' | str | 文字列 |\n",
    "| 100 | int | 整数 |\n",
    "| 3.14 | float | 小数点付数 |"
   ]
  },
  {
   "cell_type": "code",
   "execution_count": 1,
   "metadata": {},
   "outputs": [
    {
     "data": {
      "text/plain": [
       "str"
      ]
     },
     "execution_count": 1,
     "metadata": {},
     "output_type": "execute_result"
    }
   ],
   "source": [
    "x = 'alphabet'\n",
    "type(x)"
   ]
  },
  {
   "cell_type": "code",
   "execution_count": 2,
   "metadata": {},
   "outputs": [
    {
     "data": {
      "text/plain": [
       "int"
      ]
     },
     "execution_count": 2,
     "metadata": {},
     "output_type": "execute_result"
    }
   ],
   "source": [
    "x = 100\n",
    "type(x)"
   ]
  },
  {
   "cell_type": "code",
   "execution_count": 3,
   "metadata": {},
   "outputs": [
    {
     "data": {
      "text/plain": [
       "float"
      ]
     },
     "execution_count": 3,
     "metadata": {},
     "output_type": "execute_result"
    }
   ],
   "source": [
    "x = 3.14\n",
    "type(x)"
   ]
  },
  {
   "cell_type": "markdown",
   "metadata": {},
   "source": [
    "*****\n",
    "## 配列：リスト，タプル，辞書\n",
    "\n",
    "Pythonにはリスト，タプル，辞書という3種類の配列があります．\n",
    "それぞれの記法は次のようになります．\n",
    "\n",
    "```Python\n",
    "myList = [1,2,3,4,5]\n",
    "myTuple = (1,2,3,4,5)\n",
    "myDict = {'one':1,'two':2,'three':3,'four':4,'five':5}\n",
    "```"
   ]
  },
  {
   "cell_type": "code",
   "execution_count": 4,
   "metadata": {
    "collapsed": true
   },
   "outputs": [],
   "source": [
    "myList = [1,2,3,4,5]\n",
    "myTuple = (1,2,3,4,5)\n",
    "myDict = {'one':1,'two':2,'three':3,'four':4,'five':5}"
   ]
  },
  {
   "cell_type": "markdown",
   "metadata": {},
   "source": [
    "配列についてもtype()関数によってデータ型を調べることができます．"
   ]
  },
  {
   "cell_type": "code",
   "execution_count": 5,
   "metadata": {},
   "outputs": [
    {
     "data": {
      "text/plain": [
       "list"
      ]
     },
     "execution_count": 5,
     "metadata": {},
     "output_type": "execute_result"
    }
   ],
   "source": [
    "type(myList)"
   ]
  },
  {
   "cell_type": "code",
   "execution_count": 6,
   "metadata": {},
   "outputs": [
    {
     "data": {
      "text/plain": [
       "tuple"
      ]
     },
     "execution_count": 6,
     "metadata": {},
     "output_type": "execute_result"
    }
   ],
   "source": [
    "type(myTuple)"
   ]
  },
  {
   "cell_type": "code",
   "execution_count": 7,
   "metadata": {},
   "outputs": [
    {
     "data": {
      "text/plain": [
       "dict"
      ]
     },
     "execution_count": 7,
     "metadata": {},
     "output_type": "execute_result"
    }
   ],
   "source": [
    "type(myDict)"
   ]
  },
  {
   "cell_type": "markdown",
   "metadata": {},
   "source": [
    "リスト，タプル，辞書の違いは下表の通りです．\n",
    "\n",
    "| 配列の種類 | データ型 | 特徴 |\n",
    "|:---:|:---:|:---:|\n",
    "| リスト | list  | 配列の要素について追加，削除，変更が可能 |\n",
    "| タプル | tuple | 配列の要素について追加，削除，変更ができない |\n",
    "| 辞書   | dict  | 配列の要素がキーと値のペアになっている |"
   ]
  },
  {
   "cell_type": "markdown",
   "metadata": {},
   "source": [
    "*****\n",
    "## set関数\n",
    "\n",
    "配列の要素を重複の無い集合で表すには<font color=green>set()</font>関数を使用します．\n",
    "\n",
    "```Python\n",
    "myList = ['apple','orange','banana','orange','banana','apple']\n",
    "set(myList)\n",
    "```"
   ]
  },
  {
   "cell_type": "code",
   "execution_count": 8,
   "metadata": {},
   "outputs": [
    {
     "data": {
      "text/plain": [
       "{'apple', 'banana', 'orange'}"
      ]
     },
     "execution_count": 8,
     "metadata": {},
     "output_type": "execute_result"
    }
   ],
   "source": [
    "myList = ['apple','orange','banana','orange','banana','apple']\n",
    "set(myList)"
   ]
  },
  {
   "cell_type": "markdown",
   "metadata": {},
   "source": [
    "*****\n",
    "## import：ライブラリーの搬入\n",
    "\n",
    "Pythonでは様々なツールが用意されていますが，それらが全てPythonに組み込まれているとプログラムモジュールが膨大になってしまいます．\n",
    "そこで必要なライブラリーだけを宣言してプログラムに取り込みます．\n",
    "ライブラリーを取り込むことを搬入と言い，<font color=green>import</font>文によって実現します．\n",
    "\n",
    "> <font color=green>import</font> ライブラリー名\n",
    "\n",
    "また，プログラムの中でライブラリー名を別名で使用するための宣言方法もあります．\n",
    "\n",
    "> <font color=green>import</font> ライブラリー名 <font color=green>as</font> 別名\n",
    "\n",
    "さらに，ライブラリーの一部のモジュールしか使用しない場合，そのモジュールだけを搬入することもできます．\n",
    "\n",
    "> <font color=green>from</font> ライブラリー名 <font color=green>import</font> モジュール名 <font color=green>as</font> 別名"
   ]
  },
  {
   "cell_type": "markdown",
   "metadata": {},
   "source": [
    "*****\n",
    "## 列挙型データ\n",
    "\n",
    "Pythonにおける列挙型データについて紹介します．\n",
    "列挙型は，取りうる値が有限個で指定されたカテゴリー値しか持たないデータです．\n",
    "\n",
    "例として，性別を{'male','female','other'}の3種類のカテゴリーとします．\n",
    "このようなカテゴリー値を取る列挙型のクラスGenderを定義します．\n",
    "列挙型のデータを定義するために，enumライブラリーから型宣言のためのEnumモジュールと自動附番を行うauto関数を搬入します．\n",
    "\n",
    "```Python\n",
    "from enum import Enum, auto\n",
    "```"
   ]
  },
  {
   "cell_type": "code",
   "execution_count": 9,
   "metadata": {
    "collapsed": true
   },
   "outputs": [],
   "source": [
    "from enum import Enum, auto"
   ]
  },
  {
   "cell_type": "markdown",
   "metadata": {},
   "source": [
    "性別の定義を与える変数のクラスGenderを定義します．\n",
    "\n",
    "```Python\n",
    "class Gender(Enum):\n",
    "    male =auto()\n",
    "    female = auto()\n",
    "    others = auto()\n",
    "```"
   ]
  },
  {
   "cell_type": "code",
   "execution_count": 10,
   "metadata": {
    "collapsed": true
   },
   "outputs": [],
   "source": [
    "class Gender(Enum):\n",
    "    male =auto()\n",
    "    female = auto()\n",
    "    others = auto()"
   ]
  },
  {
   "cell_type": "markdown",
   "metadata": {},
   "source": [
    "とり得る3つの値をリスト配列として定義してみます．\n",
    "\n",
    "```Pyython\n",
    "[Gender.male, Gender.female, Gender.others]\n",
    "```"
   ]
  },
  {
   "cell_type": "code",
   "execution_count": 11,
   "metadata": {},
   "outputs": [
    {
     "data": {
      "text/plain": [
       "[<Gender.male: 1>, <Gender.female: 2>, <Gender.others: 3>]"
      ]
     },
     "execution_count": 11,
     "metadata": {},
     "output_type": "execute_result"
    }
   ],
   "source": [
    "[Gender.male, Gender.female, Gender.others]"
   ]
  },
  {
   "cell_type": "markdown",
   "metadata": {},
   "source": [
    "このようにそれぞれの値は，その名前と値の組み合わせになっています．\n",
    "\n",
    "列挙型データのデータ型についても確認してみましょう．\n",
    "\n",
    "```Python\n",
    "x = Gender.male\n",
    "type(x)\n",
    "```"
   ]
  },
  {
   "cell_type": "code",
   "execution_count": 12,
   "metadata": {},
   "outputs": [
    {
     "data": {
      "text/plain": [
       "<enum 'Gender'>"
      ]
     },
     "execution_count": 12,
     "metadata": {},
     "output_type": "execute_result"
    }
   ],
   "source": [
    "x = Gender.male\n",
    "type(x)"
   ]
  },
  {
   "cell_type": "markdown",
   "metadata": {},
   "source": [
    "この講座の中では列挙型データを使用しませんが，確定的な値を保証するときに便利な方法です．\n",
    "*****"
   ]
  }
 ],
 "metadata": {
  "kernelspec": {
   "display_name": "Python 3",
   "language": "python",
   "name": "python3"
  },
  "language_info": {
   "codemirror_mode": {
    "name": "ipython",
    "version": 3
   },
   "file_extension": ".py",
   "mimetype": "text/x-python",
   "name": "python",
   "nbconvert_exporter": "python",
   "pygments_lexer": "ipython3",
   "version": "3.6.1"
  }
 },
 "nbformat": 4,
 "nbformat_minor": 2
}
