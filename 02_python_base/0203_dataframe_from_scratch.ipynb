{
 "cells": [
  {
   "cell_type": "markdown",
   "metadata": {},
   "source": [
    "# pandasデータフレームの生成\n",
    "\n",
    "私たちが分析するデータは，pandasのデータフレームに格納します．\n",
    "データフレームとは，スプレッドシートに似た特性を持ったデータ構造です．\n",
    "\n",
    "ここでは，簡単なデータフレームをプログラムの中で何もないところから作成します．\n",
    "下表のデータを想定します．"
   ]
  },
  {
   "cell_type": "markdown",
   "metadata": {},
   "source": [
    "|person|height|weight|age|gender|blood |\n",
    "| :---: | :---: | :---:|:---:|:---:| :---:|\n",
    "| p01 | 162.3 | 55.6 | 23  | Male   | A  |\n",
    "| p02 | 173.1 | 62.0 | 35  | Male   | AB |\n",
    "| p03 | 158.8 | 68.5 | 47  | Male   | B  |\n",
    "| p04 | 120.8 | 24.3 |  8  | Female |None|  \n",
    "| p05 | 145.7 | 37.8 | 11  | Female |None|\n",
    "| p06 | 159.2 | 44.5 | 13  | Male   | O  |\n",
    "| p07 | 157.5 | 49.0 | 18  | Female | B  |\n",
    "| p08 | 158.9 | None |None |  ' '   | A  |\n",
    "| p09 | 160.4 | 48.5 | 30  |  ''    | A  |\n",
    "| p10 | 170.0 | 77.7 | 51  | Male   | O  |"
   ]
  },
  {
   "cell_type": "markdown",
   "metadata": {},
   "source": [
    "まず最初にpandasのライブラリーを搬入します．\n",
    "\n",
    "```Python\n",
    "import pandas as pd\n",
    "```"
   ]
  },
  {
   "cell_type": "code",
   "execution_count": 1,
   "metadata": {
    "collapsed": true
   },
   "outputs": [],
   "source": [
    "import pandas as pd"
   ]
  },
  {
   "cell_type": "markdown",
   "metadata": {},
   "source": [
    "データフレームを何もないところから作成します．\n",
    "データフレームを作成するには，<font color=green>pandas.DataFrame()</font>関数を使います．\n",
    "その引数に構造化したデータを渡します．\n",
    "\n",
    "```Python\n",
    "df = pd.DataFrame(\n",
    "    {\n",
    "    'person':['p01','p02','p03','p04','p05','p06','p07','p08','p09','p10'],\n",
    "    'height':[162.3,173.1,158.8,120.8,145.7,159.2,157.5,158.9,160.4,170.0],\n",
    "    'weight':[55.6,62.0,68.5,24.3,37.8,44.5,49.0,None,48.5,77.7],\n",
    "    'age':[23,35,47,8,11,13,18,None,30,51],\n",
    "    'gender':['Male','Male','Male','Female','Female','Male','Female',' ','','Male'],\n",
    "    'blood':['A','AB','B',None,None,'O','B','A','A','O']\n",
    "    }, \n",
    "    columns=['person','height','weight','age','gender','blood']\n",
    ")\n",
    "```"
   ]
  },
  {
   "cell_type": "code",
   "execution_count": 2,
   "metadata": {
    "collapsed": true
   },
   "outputs": [],
   "source": [
    "df = pd.DataFrame(\n",
    "    {\n",
    "    'person':['p01','p02','p03','p04','p05','p06','p07','p08','p09','p10'],\n",
    "    'height':[162.3,173.1,158.8,120.8,145.7,159.2,157.5,158.9,160.4,170.0],\n",
    "    'weight':[55.6,62.0,68.5,24.3,37.8,44.5,49.0,None,48.5,77.7],\n",
    "    'age':[23,35,47,8,11,13,18,None,30,51],\n",
    "    'gender':['Male','Male','Male','Female','Female','Male','Female',' ','','Male'],\n",
    "    'blood':['A','AB','B',None,None,'O','B','A','A','O']\n",
    "    }, \n",
    "    columns=['person','height','weight','age','gender','blood']\n",
    ")"
   ]
  },
  {
   "cell_type": "markdown",
   "metadata": {},
   "source": [
    "生成されたデータフレームは変数dfに格納されています．\n",
    "実際にデータフレームの中身を表示してみます．\n",
    "\n",
    "```Python\n",
    "df\n",
    "```"
   ]
  },
  {
   "cell_type": "code",
   "execution_count": 3,
   "metadata": {},
   "outputs": [
    {
     "data": {
      "text/html": [
       "<div>\n",
       "<style>\n",
       "    .dataframe thead tr:only-child th {\n",
       "        text-align: right;\n",
       "    }\n",
       "\n",
       "    .dataframe thead th {\n",
       "        text-align: left;\n",
       "    }\n",
       "\n",
       "    .dataframe tbody tr th {\n",
       "        vertical-align: top;\n",
       "    }\n",
       "</style>\n",
       "<table border=\"1\" class=\"dataframe\">\n",
       "  <thead>\n",
       "    <tr style=\"text-align: right;\">\n",
       "      <th></th>\n",
       "      <th>person</th>\n",
       "      <th>height</th>\n",
       "      <th>weight</th>\n",
       "      <th>age</th>\n",
       "      <th>gender</th>\n",
       "      <th>blood</th>\n",
       "    </tr>\n",
       "  </thead>\n",
       "  <tbody>\n",
       "    <tr>\n",
       "      <th>0</th>\n",
       "      <td>p01</td>\n",
       "      <td>162.3</td>\n",
       "      <td>55.6</td>\n",
       "      <td>23.0</td>\n",
       "      <td>Male</td>\n",
       "      <td>A</td>\n",
       "    </tr>\n",
       "    <tr>\n",
       "      <th>1</th>\n",
       "      <td>p02</td>\n",
       "      <td>173.1</td>\n",
       "      <td>62.0</td>\n",
       "      <td>35.0</td>\n",
       "      <td>Male</td>\n",
       "      <td>AB</td>\n",
       "    </tr>\n",
       "    <tr>\n",
       "      <th>2</th>\n",
       "      <td>p03</td>\n",
       "      <td>158.8</td>\n",
       "      <td>68.5</td>\n",
       "      <td>47.0</td>\n",
       "      <td>Male</td>\n",
       "      <td>B</td>\n",
       "    </tr>\n",
       "    <tr>\n",
       "      <th>3</th>\n",
       "      <td>p04</td>\n",
       "      <td>120.8</td>\n",
       "      <td>24.3</td>\n",
       "      <td>8.0</td>\n",
       "      <td>Female</td>\n",
       "      <td>None</td>\n",
       "    </tr>\n",
       "    <tr>\n",
       "      <th>4</th>\n",
       "      <td>p05</td>\n",
       "      <td>145.7</td>\n",
       "      <td>37.8</td>\n",
       "      <td>11.0</td>\n",
       "      <td>Female</td>\n",
       "      <td>None</td>\n",
       "    </tr>\n",
       "    <tr>\n",
       "      <th>5</th>\n",
       "      <td>p06</td>\n",
       "      <td>159.2</td>\n",
       "      <td>44.5</td>\n",
       "      <td>13.0</td>\n",
       "      <td>Male</td>\n",
       "      <td>O</td>\n",
       "    </tr>\n",
       "    <tr>\n",
       "      <th>6</th>\n",
       "      <td>p07</td>\n",
       "      <td>157.5</td>\n",
       "      <td>49.0</td>\n",
       "      <td>18.0</td>\n",
       "      <td>Female</td>\n",
       "      <td>B</td>\n",
       "    </tr>\n",
       "    <tr>\n",
       "      <th>7</th>\n",
       "      <td>p08</td>\n",
       "      <td>158.9</td>\n",
       "      <td>NaN</td>\n",
       "      <td>NaN</td>\n",
       "      <td></td>\n",
       "      <td>A</td>\n",
       "    </tr>\n",
       "    <tr>\n",
       "      <th>8</th>\n",
       "      <td>p09</td>\n",
       "      <td>160.4</td>\n",
       "      <td>48.5</td>\n",
       "      <td>30.0</td>\n",
       "      <td></td>\n",
       "      <td>A</td>\n",
       "    </tr>\n",
       "    <tr>\n",
       "      <th>9</th>\n",
       "      <td>p10</td>\n",
       "      <td>170.0</td>\n",
       "      <td>77.7</td>\n",
       "      <td>51.0</td>\n",
       "      <td>Male</td>\n",
       "      <td>O</td>\n",
       "    </tr>\n",
       "  </tbody>\n",
       "</table>\n",
       "</div>"
      ],
      "text/plain": [
       "  person  height  weight   age  gender blood\n",
       "0    p01   162.3    55.6  23.0    Male     A\n",
       "1    p02   173.1    62.0  35.0    Male    AB\n",
       "2    p03   158.8    68.5  47.0    Male     B\n",
       "3    p04   120.8    24.3   8.0  Female  None\n",
       "4    p05   145.7    37.8  11.0  Female  None\n",
       "5    p06   159.2    44.5  13.0    Male     O\n",
       "6    p07   157.5    49.0  18.0  Female     B\n",
       "7    p08   158.9     NaN   NaN             A\n",
       "8    p09   160.4    48.5  30.0             A\n",
       "9    p10   170.0    77.7  51.0    Male     O"
      ]
     },
     "execution_count": 3,
     "metadata": {},
     "output_type": "execute_result"
    }
   ],
   "source": [
    "df"
   ]
  },
  {
   "cell_type": "markdown",
   "metadata": {},
   "source": [
    "この表示内容から，作成されたデータフレームについて確認します．\n",
    "手書きの表と見比べて，次の点に注目してください．\n",
    "\n",
    "- 左端に通し番号がついている．\n",
    "- 欠損値，空白が4種類「None, NaN, 空白文字, 空白」ある．"
   ]
  },
  {
   "cell_type": "markdown",
   "metadata": {},
   "source": [
    "### インデックス\n",
    "\n",
    "データフレームの左端に付けられた番号はインデックスです．\n",
    "データフレーム生成時に明示的にインデックスを指定しない場合は，このようなインデックスが自動的に付けられます．\n",
    "\n",
    "インデックスは，\n",
    "- 全ての行に渡ってユニークな値になっていて，\n",
    "- 行を指定するときの索引になっています．"
   ]
  },
  {
   "cell_type": "markdown",
   "metadata": {},
   "source": [
    "### 欠損値，空白\n",
    "\n",
    "4種類ある欠損値，空白文字および空白については，次のような違いがあります．\n",
    "\n",
    "| 値 | データ型 | 特徴 |\n",
    "|:---:|:---:|:---|\n",
    "| NaN | numpy.float64 | 数値型であるが値が入っていない．pandasの統計関数ではNaNを考慮した計算を行ってくれる． |\n",
    "| None| NoneType      | 配列の場所はあるが，値も無ければデータ型もない． |\n",
    "| ' ' | str           | 文字列として定義されていて，空白文字が1文字入っている． |\n",
    "| ''  | str           | 文字列としてブランクが定義されている．空白文字も入っていない． |\n",
    "\n",
    "データクレンジングにおいて，これらの値の違いも考慮しなければなりません．"
   ]
  },
  {
   "cell_type": "markdown",
   "metadata": {},
   "source": [
    "*****\n",
    "## CSVファイルへの書き出し\n",
    "\n",
    "データフレームのデータをCSVファイルに書き出すには，<font color=green>to_csv()</font>メソッドを使用します．\n",
    "\n",
    "```Python\n",
    "df.to_csv('./sample_data.csv',index=False)\n",
    "```\n",
    "\n",
    "最初の引数が保管先のCSVファイル名です．\n",
    "引数のindex=Falseは，インデックスを削除して保存します．\n",
    "このデータフレームのインデックスは自動で付けられたものなので，保存は不要と判断しました．"
   ]
  },
  {
   "cell_type": "code",
   "execution_count": 4,
   "metadata": {
    "collapsed": true
   },
   "outputs": [],
   "source": [
    "df.to_csv('./sample_data.csv',index=False)"
   ]
  },
  {
   "cell_type": "markdown",
   "metadata": {},
   "source": [
    "生成されたCSVファイルの中身は次のようになっています．\n",
    "このように変量名も保存されます．\n",
    "欠損値および空白は値無しになっています．\n",
    "空白文字は，そのまま残っています．\n",
    "\n",
    "```\n",
    "person,height,weight,age,gender,blood\n",
    "p01,162.3,55.6,23.0,Male,A\n",
    "p02,173.1,62.0,35.0,Male,AB\n",
    "p03,158.8,68.5,47.0,Male,B\n",
    "p04,120.8,24.3,8.0,Female,\n",
    "p05,145.7,37.8,11.0,Female,\n",
    "p06,159.2,44.5,13.0,Male,O\n",
    "p07,157.5,49.0,18.0,Female,B\n",
    "p08,158.9,,, ,A\n",
    "p09,160.4,48.5,30.0,,A\n",
    "p10,170.0,77.7,51.0,Male,O\n",
    "```"
   ]
  },
  {
   "cell_type": "markdown",
   "metadata": {},
   "source": [
    "この後，このCSVファイルを読み込んでデータフレーム生成するプロセスについても解説します．\n",
    "\n",
    "*****"
   ]
  }
 ],
 "metadata": {
  "kernelspec": {
   "display_name": "Python 3",
   "language": "python",
   "name": "python3"
  },
  "language_info": {
   "codemirror_mode": {
    "name": "ipython",
    "version": 3
   },
   "file_extension": ".py",
   "mimetype": "text/x-python",
   "name": "python",
   "nbconvert_exporter": "python",
   "pygments_lexer": "ipython3",
   "version": "3.6.1"
  }
 },
 "nbformat": 4,
 "nbformat_minor": 2
}
