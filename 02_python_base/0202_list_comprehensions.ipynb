{
 "cells": [
  {
   "cell_type": "markdown",
   "metadata": {},
   "source": [
    "# リスト内包表記\n",
    "\n",
    "リスト配列の全てのデータに対して何らかの処理をする場合，一般的なプログラムではループ処理を書きます．\n",
    "Pythonのリスト内包表記は，角括弧で囲った中に簡単なプログラムを記載して処理する方法です．"
   ]
  },
  {
   "cell_type": "markdown",
   "metadata": {},
   "source": [
    "具体的な例で考えます．\n",
    "まず，次のようなリスト配列があるとします．\n",
    "> \n",
    "```Python\n",
    "sample = [1,2,3,4,5,6]\n",
    "```"
   ]
  },
  {
   "cell_type": "code",
   "execution_count": 1,
   "metadata": {
    "collapsed": true
   },
   "outputs": [],
   "source": [
    "sample = [1,2,3,4,5,6]"
   ]
  },
  {
   "cell_type": "markdown",
   "metadata": {},
   "source": [
    "このリスト配列の全ての値を2乗にしたリストが必要だとします．\n",
    "目的のリストは次のようになります．\n",
    "> \n",
    "```Python\n",
    "[1,4,9,16,25,36]\n",
    "```\n",
    "\n",
    "一般的なプログラムは次のようになります．\n",
    "```Python\n",
    "squares = []\n",
    "for x in sample:\n",
    "    squares.append(x**2)\n",
    "squares\n",
    "```"
   ]
  },
  {
   "cell_type": "code",
   "execution_count": 2,
   "metadata": {},
   "outputs": [
    {
     "data": {
      "text/plain": [
       "[1, 4, 9, 16, 25, 36]"
      ]
     },
     "execution_count": 2,
     "metadata": {},
     "output_type": "execute_result"
    }
   ],
   "source": [
    "squares = []\n",
    "for x in sample:\n",
    "    squares.append(x**2)\n",
    "squares"
   ]
  },
  {
   "cell_type": "markdown",
   "metadata": {},
   "source": [
    "単純なリスト内表記は次のように記載します．\n",
    "\n",
    "> \n",
    "```Python\n",
    "[計算式 for 変数 in リスト配列]\n",
    "```\n",
    "\n",
    "このプログラムと同じ働きをリスト内包表記にすると次のようになります．\n",
    "\n",
    "> \n",
    "```Python\n",
    "[x**2 for x in sample]\n",
    "```\n",
    "\n",
    "このプログラムを解釈すると，「<font color=blue>リスト配列sampleにある全ての要素xについて，xの2乗を計算して，それらをリスト配列にする</font>」となります．．"
   ]
  },
  {
   "cell_type": "code",
   "execution_count": 3,
   "metadata": {},
   "outputs": [
    {
     "data": {
      "text/plain": [
       "[1, 4, 9, 16, 25, 36]"
      ]
     },
     "execution_count": 3,
     "metadata": {},
     "output_type": "execute_result"
    }
   ],
   "source": [
    "[x**2 for x in sample]"
   ]
  },
  {
   "cell_type": "markdown",
   "metadata": {},
   "source": [
    "リスト内包表記ではif条件を入れることができます．\n",
    "\n",
    "> \n",
    "```Python\n",
    "[条件が真の場合の計算式 for 変数 in リスト配列 if 条件]\n",
    "```\n",
    "\n",
    "リストの値を2乗するリスト内包表記において，値が偶数のものだけを拾って2乗し，奇数の値は拾わないプログラムは次のようになります．\n",
    "\n",
    "```Python\n",
    "[x**2 for x in sample if x%2==0]\n",
    "```\n",
    "\n",
    "このようにifブロックが最後尾に付きます．"
   ]
  },
  {
   "cell_type": "code",
   "execution_count": 4,
   "metadata": {},
   "outputs": [
    {
     "data": {
      "text/plain": [
       "[4, 16, 36]"
      ]
     },
     "execution_count": 4,
     "metadata": {},
     "output_type": "execute_result"
    }
   ],
   "source": [
    "[x**2 for x in sample if x%2==0]"
   ]
  },
  {
   "cell_type": "markdown",
   "metadata": {},
   "source": [
    "リスト内包表記においてifとelseの両方を付けることもできます．\n",
    "その場合，次の構文となります．\n",
    "\n",
    "> \n",
    "```Python\n",
    "[条件が真の場合の計算式 if 条件 else 条件が偽の場合の計算式 for 変数 in リスト配列]\n",
    "```\n",
    "\n",
    "それではリストの値が偶数の場合に2乗して，奇数の場合に符号を反転する処理をリスト内包表記で実行します．\n",
    "\n",
    "```Python\n",
    "[x**2 if x%2==0 else -x for x in sample]\n",
    "```"
   ]
  },
  {
   "cell_type": "code",
   "execution_count": 5,
   "metadata": {},
   "outputs": [
    {
     "data": {
      "text/plain": [
       "[-1, 4, -3, 16, -5, 36]"
      ]
     },
     "execution_count": 5,
     "metadata": {},
     "output_type": "execute_result"
    }
   ],
   "source": [
    "[x**2 if x%2==0 else -x for x in sample]"
   ]
  },
  {
   "cell_type": "markdown",
   "metadata": {},
   "source": [
    "リスト内包表記は大変便利なので，データ処理において頻繁に利用します．\n",
    "*****"
   ]
  }
 ],
 "metadata": {
  "kernelspec": {
   "display_name": "Python 3",
   "language": "python",
   "name": "python3"
  },
  "language_info": {
   "codemirror_mode": {
    "name": "ipython",
    "version": 3
   },
   "file_extension": ".py",
   "mimetype": "text/x-python",
   "name": "python",
   "nbconvert_exporter": "python",
   "pygments_lexer": "ipython3",
   "version": "3.6.1"
  }
 },
 "nbformat": 4,
 "nbformat_minor": 2
}
