{
 "cells": [
  {
   "cell_type": "markdown",
   "metadata": {},
   "source": [
    "# pandasデータフレームをCSVファイルから生成\n",
    "\n",
    "そのCSVファイルに格納されているデータを読み込んでデータフレームを作成します．\n",
    "ここで使用するCSVファイルは，この前に作成してpandas.to_csv()関数によって保管したファイルを使用します．\n",
    "\n",
    "先ずは，pandasライブラリーを搬入します．\n",
    "\n",
    "```Python\n",
    "import pandas as pd\n",
    "```"
   ]
  },
  {
   "cell_type": "code",
   "execution_count": 1,
   "metadata": {
    "collapsed": true
   },
   "outputs": [],
   "source": [
    "import pandas as pd"
   ]
  },
  {
   "cell_type": "markdown",
   "metadata": {},
   "source": [
    "そして，CSVファイルを読み込んで，データフレームを作成します．\n",
    "これは，<font color=green>pandas.read_csv()</font>関数を使用します．\n",
    "\n",
    "```Python\n",
    "df = pd.read_csv('./sample_data.csv')\n",
    "```"
   ]
  },
  {
   "cell_type": "code",
   "execution_count": 2,
   "metadata": {
    "collapsed": true
   },
   "outputs": [],
   "source": [
    "df = pd.read_csv('./sample_data.csv')"
   ]
  },
  {
   "cell_type": "markdown",
   "metadata": {},
   "source": [
    "私たちは，このCSVファイルの中身について知っていますが，このファイルの中身を知らないと仮定すると，全てのデータを表示すると膨大な表示になってしまう危険があります．\n",
    "そこで，生成されたデータフレームについて概要を確認します．"
   ]
  },
  {
   "cell_type": "markdown",
   "metadata": {},
   "source": [
    "## インデックスの確認\n",
    "\n",
    "最初にデータフレームのインデックスについて<font color=green>index</font>属性によって確認します．\n",
    "\n",
    "```Python\n",
    "df.index\n",
    "```"
   ]
  },
  {
   "cell_type": "code",
   "execution_count": 3,
   "metadata": {},
   "outputs": [
    {
     "data": {
      "text/plain": [
       "RangeIndex(start=0, stop=10, step=1)"
      ]
     },
     "execution_count": 3,
     "metadata": {},
     "output_type": "execute_result"
    }
   ],
   "source": [
    "df.index"
   ]
  },
  {
   "cell_type": "markdown",
   "metadata": {},
   "source": [
    "このデータフレームのインデックスは，0から始まって，1ずつ増えていき，10の手前で終わります．\n",
    "すなわち0から9までのインデックスが付けられていて，全体が10行であることが分かります．"
   ]
  },
  {
   "cell_type": "markdown",
   "metadata": {},
   "source": [
    "## カラム名\n",
    "\n",
    "次にカラムについて<font color=green>columns</font>属性で確認します．\n",
    "\n",
    "```Pthon\n",
    "df.columns\n",
    "```"
   ]
  },
  {
   "cell_type": "code",
   "execution_count": 4,
   "metadata": {},
   "outputs": [
    {
     "data": {
      "text/plain": [
       "Index(['person', 'height', 'weight', 'age', 'gender', 'blood'], dtype='object')"
      ]
     },
     "execution_count": 4,
     "metadata": {},
     "output_type": "execute_result"
    }
   ],
   "source": [
    "df.columns"
   ]
  },
  {
   "cell_type": "markdown",
   "metadata": {},
   "source": [
    "この結果によって，データフレームには6個の列があり，各々の列名が判明しました．"
   ]
  },
  {
   "cell_type": "markdown",
   "metadata": {},
   "source": [
    "## データフレームの表示\n",
    "\n",
    "このデータフレームは行数が10行と少ないので，全てのデータを表示しても問題ありません．\n",
    "データフレーム全体を表示するには，単に変数名 df を参照するだけです．\n",
    "ただし，データ量が膨大な場合は，最初の数行を表示する head() メソッドを使用します．\n",
    "\n",
    "```Python\n",
    "df\n",
    "```"
   ]
  },
  {
   "cell_type": "code",
   "execution_count": 5,
   "metadata": {
    "scrolled": true
   },
   "outputs": [
    {
     "data": {
      "text/html": [
       "<div>\n",
       "<style>\n",
       "    .dataframe thead tr:only-child th {\n",
       "        text-align: right;\n",
       "    }\n",
       "\n",
       "    .dataframe thead th {\n",
       "        text-align: left;\n",
       "    }\n",
       "\n",
       "    .dataframe tbody tr th {\n",
       "        vertical-align: top;\n",
       "    }\n",
       "</style>\n",
       "<table border=\"1\" class=\"dataframe\">\n",
       "  <thead>\n",
       "    <tr style=\"text-align: right;\">\n",
       "      <th></th>\n",
       "      <th>person</th>\n",
       "      <th>height</th>\n",
       "      <th>weight</th>\n",
       "      <th>age</th>\n",
       "      <th>gender</th>\n",
       "      <th>blood</th>\n",
       "    </tr>\n",
       "  </thead>\n",
       "  <tbody>\n",
       "    <tr>\n",
       "      <th>0</th>\n",
       "      <td>p01</td>\n",
       "      <td>162.3</td>\n",
       "      <td>55.6</td>\n",
       "      <td>23.0</td>\n",
       "      <td>Male</td>\n",
       "      <td>A</td>\n",
       "    </tr>\n",
       "    <tr>\n",
       "      <th>1</th>\n",
       "      <td>p02</td>\n",
       "      <td>173.1</td>\n",
       "      <td>62.0</td>\n",
       "      <td>35.0</td>\n",
       "      <td>Male</td>\n",
       "      <td>AB</td>\n",
       "    </tr>\n",
       "    <tr>\n",
       "      <th>2</th>\n",
       "      <td>p03</td>\n",
       "      <td>158.8</td>\n",
       "      <td>68.5</td>\n",
       "      <td>47.0</td>\n",
       "      <td>Male</td>\n",
       "      <td>B</td>\n",
       "    </tr>\n",
       "    <tr>\n",
       "      <th>3</th>\n",
       "      <td>p04</td>\n",
       "      <td>120.8</td>\n",
       "      <td>24.3</td>\n",
       "      <td>8.0</td>\n",
       "      <td>Female</td>\n",
       "      <td>NaN</td>\n",
       "    </tr>\n",
       "    <tr>\n",
       "      <th>4</th>\n",
       "      <td>p05</td>\n",
       "      <td>145.7</td>\n",
       "      <td>37.8</td>\n",
       "      <td>11.0</td>\n",
       "      <td>Female</td>\n",
       "      <td>NaN</td>\n",
       "    </tr>\n",
       "    <tr>\n",
       "      <th>5</th>\n",
       "      <td>p06</td>\n",
       "      <td>159.2</td>\n",
       "      <td>44.5</td>\n",
       "      <td>13.0</td>\n",
       "      <td>Male</td>\n",
       "      <td>O</td>\n",
       "    </tr>\n",
       "    <tr>\n",
       "      <th>6</th>\n",
       "      <td>p07</td>\n",
       "      <td>157.5</td>\n",
       "      <td>49.0</td>\n",
       "      <td>18.0</td>\n",
       "      <td>Female</td>\n",
       "      <td>B</td>\n",
       "    </tr>\n",
       "    <tr>\n",
       "      <th>7</th>\n",
       "      <td>p08</td>\n",
       "      <td>158.9</td>\n",
       "      <td>NaN</td>\n",
       "      <td>NaN</td>\n",
       "      <td></td>\n",
       "      <td>A</td>\n",
       "    </tr>\n",
       "    <tr>\n",
       "      <th>8</th>\n",
       "      <td>p09</td>\n",
       "      <td>160.4</td>\n",
       "      <td>48.5</td>\n",
       "      <td>30.0</td>\n",
       "      <td>NaN</td>\n",
       "      <td>A</td>\n",
       "    </tr>\n",
       "    <tr>\n",
       "      <th>9</th>\n",
       "      <td>p10</td>\n",
       "      <td>170.0</td>\n",
       "      <td>77.7</td>\n",
       "      <td>51.0</td>\n",
       "      <td>Male</td>\n",
       "      <td>O</td>\n",
       "    </tr>\n",
       "  </tbody>\n",
       "</table>\n",
       "</div>"
      ],
      "text/plain": [
       "  person  height  weight   age  gender blood\n",
       "0    p01   162.3    55.6  23.0    Male     A\n",
       "1    p02   173.1    62.0  35.0    Male    AB\n",
       "2    p03   158.8    68.5  47.0    Male     B\n",
       "3    p04   120.8    24.3   8.0  Female   NaN\n",
       "4    p05   145.7    37.8  11.0  Female   NaN\n",
       "5    p06   159.2    44.5  13.0    Male     O\n",
       "6    p07   157.5    49.0  18.0  Female     B\n",
       "7    p08   158.9     NaN   NaN             A\n",
       "8    p09   160.4    48.5  30.0     NaN     A\n",
       "9    p10   170.0    77.7  51.0    Male     O"
      ]
     },
     "execution_count": 5,
     "metadata": {},
     "output_type": "execute_result"
    }
   ],
   "source": [
    "df"
   ]
  },
  {
   "cell_type": "markdown",
   "metadata": {},
   "source": [
    "## CSVファイルを経由することの副作用\n",
    "\n",
    "一から作成したデータフレームと一旦CSVファイルに保存したデータから再生したデータフレームを比較すると欠損値および空白について差があることが分かります．\n",
    "\n",
    "前のデータフレームでは<font color=green>None</font>および<font color=green>空白</font>であった値が\n",
    "全て<font color=green>NaN</font>になっています．  \n",
    "前のデータフレームで1文字の空白文字については，そのまま残っています．\n",
    "\n",
    "このように欠損値および空白については注意が必要です．"
   ]
  },
  {
   "cell_type": "markdown",
   "metadata": {},
   "source": [
    "## インデックスの再設定\n",
    "\n",
    "データフレームのperson列は全ての行を通してユニークに割り振られています．\n",
    "インデックスが自動附番されていますが，その代わりにpersonをインデックスに設定します．\n",
    "インデックスの再設定は<font color=green>set_index()</font>メソッドを使います．\n",
    "\n",
    "```\n",
    "df = df.set_index('person')\n",
    "df\n",
    "```"
   ]
  },
  {
   "cell_type": "code",
   "execution_count": 6,
   "metadata": {},
   "outputs": [
    {
     "data": {
      "text/html": [
       "<div>\n",
       "<style>\n",
       "    .dataframe thead tr:only-child th {\n",
       "        text-align: right;\n",
       "    }\n",
       "\n",
       "    .dataframe thead th {\n",
       "        text-align: left;\n",
       "    }\n",
       "\n",
       "    .dataframe tbody tr th {\n",
       "        vertical-align: top;\n",
       "    }\n",
       "</style>\n",
       "<table border=\"1\" class=\"dataframe\">\n",
       "  <thead>\n",
       "    <tr style=\"text-align: right;\">\n",
       "      <th></th>\n",
       "      <th>height</th>\n",
       "      <th>weight</th>\n",
       "      <th>age</th>\n",
       "      <th>gender</th>\n",
       "      <th>blood</th>\n",
       "    </tr>\n",
       "    <tr>\n",
       "      <th>person</th>\n",
       "      <th></th>\n",
       "      <th></th>\n",
       "      <th></th>\n",
       "      <th></th>\n",
       "      <th></th>\n",
       "    </tr>\n",
       "  </thead>\n",
       "  <tbody>\n",
       "    <tr>\n",
       "      <th>p01</th>\n",
       "      <td>162.3</td>\n",
       "      <td>55.6</td>\n",
       "      <td>23.0</td>\n",
       "      <td>Male</td>\n",
       "      <td>A</td>\n",
       "    </tr>\n",
       "    <tr>\n",
       "      <th>p02</th>\n",
       "      <td>173.1</td>\n",
       "      <td>62.0</td>\n",
       "      <td>35.0</td>\n",
       "      <td>Male</td>\n",
       "      <td>AB</td>\n",
       "    </tr>\n",
       "    <tr>\n",
       "      <th>p03</th>\n",
       "      <td>158.8</td>\n",
       "      <td>68.5</td>\n",
       "      <td>47.0</td>\n",
       "      <td>Male</td>\n",
       "      <td>B</td>\n",
       "    </tr>\n",
       "    <tr>\n",
       "      <th>p04</th>\n",
       "      <td>120.8</td>\n",
       "      <td>24.3</td>\n",
       "      <td>8.0</td>\n",
       "      <td>Female</td>\n",
       "      <td>NaN</td>\n",
       "    </tr>\n",
       "    <tr>\n",
       "      <th>p05</th>\n",
       "      <td>145.7</td>\n",
       "      <td>37.8</td>\n",
       "      <td>11.0</td>\n",
       "      <td>Female</td>\n",
       "      <td>NaN</td>\n",
       "    </tr>\n",
       "    <tr>\n",
       "      <th>p06</th>\n",
       "      <td>159.2</td>\n",
       "      <td>44.5</td>\n",
       "      <td>13.0</td>\n",
       "      <td>Male</td>\n",
       "      <td>O</td>\n",
       "    </tr>\n",
       "    <tr>\n",
       "      <th>p07</th>\n",
       "      <td>157.5</td>\n",
       "      <td>49.0</td>\n",
       "      <td>18.0</td>\n",
       "      <td>Female</td>\n",
       "      <td>B</td>\n",
       "    </tr>\n",
       "    <tr>\n",
       "      <th>p08</th>\n",
       "      <td>158.9</td>\n",
       "      <td>NaN</td>\n",
       "      <td>NaN</td>\n",
       "      <td></td>\n",
       "      <td>A</td>\n",
       "    </tr>\n",
       "    <tr>\n",
       "      <th>p09</th>\n",
       "      <td>160.4</td>\n",
       "      <td>48.5</td>\n",
       "      <td>30.0</td>\n",
       "      <td>NaN</td>\n",
       "      <td>A</td>\n",
       "    </tr>\n",
       "    <tr>\n",
       "      <th>p10</th>\n",
       "      <td>170.0</td>\n",
       "      <td>77.7</td>\n",
       "      <td>51.0</td>\n",
       "      <td>Male</td>\n",
       "      <td>O</td>\n",
       "    </tr>\n",
       "  </tbody>\n",
       "</table>\n",
       "</div>"
      ],
      "text/plain": [
       "        height  weight   age  gender blood\n",
       "person                                    \n",
       "p01      162.3    55.6  23.0    Male     A\n",
       "p02      173.1    62.0  35.0    Male    AB\n",
       "p03      158.8    68.5  47.0    Male     B\n",
       "p04      120.8    24.3   8.0  Female   NaN\n",
       "p05      145.7    37.8  11.0  Female   NaN\n",
       "p06      159.2    44.5  13.0    Male     O\n",
       "p07      157.5    49.0  18.0  Female     B\n",
       "p08      158.9     NaN   NaN             A\n",
       "p09      160.4    48.5  30.0     NaN     A\n",
       "p10      170.0    77.7  51.0    Male     O"
      ]
     },
     "execution_count": 6,
     "metadata": {},
     "output_type": "execute_result"
    }
   ],
   "source": [
    "df = df.set_index('person')\n",
    "df"
   ]
  },
  {
   "cell_type": "markdown",
   "metadata": {},
   "source": [
    "この結果として，自動附番のインデックスが削除され，代わりにperson列がインデックスになったことが分かります．"
   ]
  },
  {
   "cell_type": "markdown",
   "metadata": {},
   "source": [
    "## データフレームの一部を表示\n",
    "\n",
    "データフレームの行数が多い場合，その一部だけを表示することが得策です．\n",
    "データフレームの先頭の数行を表示するには<font color=green>head()</font>メソッドを使います．\n",
    "```Python\n",
    "df.head(3)\n",
    "```\n",
    "\n",
    "データフレームの末尾の数行を表示するには<font color=green>taild()</font>メソッドを使います．\n",
    "```Python\n",
    "df.tail(3)\n",
    "```"
   ]
  },
  {
   "cell_type": "code",
   "execution_count": 7,
   "metadata": {},
   "outputs": [
    {
     "data": {
      "text/html": [
       "<div>\n",
       "<style>\n",
       "    .dataframe thead tr:only-child th {\n",
       "        text-align: right;\n",
       "    }\n",
       "\n",
       "    .dataframe thead th {\n",
       "        text-align: left;\n",
       "    }\n",
       "\n",
       "    .dataframe tbody tr th {\n",
       "        vertical-align: top;\n",
       "    }\n",
       "</style>\n",
       "<table border=\"1\" class=\"dataframe\">\n",
       "  <thead>\n",
       "    <tr style=\"text-align: right;\">\n",
       "      <th></th>\n",
       "      <th>height</th>\n",
       "      <th>weight</th>\n",
       "      <th>age</th>\n",
       "      <th>gender</th>\n",
       "      <th>blood</th>\n",
       "    </tr>\n",
       "    <tr>\n",
       "      <th>person</th>\n",
       "      <th></th>\n",
       "      <th></th>\n",
       "      <th></th>\n",
       "      <th></th>\n",
       "      <th></th>\n",
       "    </tr>\n",
       "  </thead>\n",
       "  <tbody>\n",
       "    <tr>\n",
       "      <th>p01</th>\n",
       "      <td>162.3</td>\n",
       "      <td>55.6</td>\n",
       "      <td>23.0</td>\n",
       "      <td>Male</td>\n",
       "      <td>A</td>\n",
       "    </tr>\n",
       "    <tr>\n",
       "      <th>p02</th>\n",
       "      <td>173.1</td>\n",
       "      <td>62.0</td>\n",
       "      <td>35.0</td>\n",
       "      <td>Male</td>\n",
       "      <td>AB</td>\n",
       "    </tr>\n",
       "    <tr>\n",
       "      <th>p03</th>\n",
       "      <td>158.8</td>\n",
       "      <td>68.5</td>\n",
       "      <td>47.0</td>\n",
       "      <td>Male</td>\n",
       "      <td>B</td>\n",
       "    </tr>\n",
       "  </tbody>\n",
       "</table>\n",
       "</div>"
      ],
      "text/plain": [
       "        height  weight   age gender blood\n",
       "person                                   \n",
       "p01      162.3    55.6  23.0   Male     A\n",
       "p02      173.1    62.0  35.0   Male    AB\n",
       "p03      158.8    68.5  47.0   Male     B"
      ]
     },
     "execution_count": 7,
     "metadata": {},
     "output_type": "execute_result"
    }
   ],
   "source": [
    "df.head(3)"
   ]
  },
  {
   "cell_type": "code",
   "execution_count": 8,
   "metadata": {},
   "outputs": [
    {
     "data": {
      "text/html": [
       "<div>\n",
       "<style>\n",
       "    .dataframe thead tr:only-child th {\n",
       "        text-align: right;\n",
       "    }\n",
       "\n",
       "    .dataframe thead th {\n",
       "        text-align: left;\n",
       "    }\n",
       "\n",
       "    .dataframe tbody tr th {\n",
       "        vertical-align: top;\n",
       "    }\n",
       "</style>\n",
       "<table border=\"1\" class=\"dataframe\">\n",
       "  <thead>\n",
       "    <tr style=\"text-align: right;\">\n",
       "      <th></th>\n",
       "      <th>height</th>\n",
       "      <th>weight</th>\n",
       "      <th>age</th>\n",
       "      <th>gender</th>\n",
       "      <th>blood</th>\n",
       "    </tr>\n",
       "    <tr>\n",
       "      <th>person</th>\n",
       "      <th></th>\n",
       "      <th></th>\n",
       "      <th></th>\n",
       "      <th></th>\n",
       "      <th></th>\n",
       "    </tr>\n",
       "  </thead>\n",
       "  <tbody>\n",
       "    <tr>\n",
       "      <th>p08</th>\n",
       "      <td>158.9</td>\n",
       "      <td>NaN</td>\n",
       "      <td>NaN</td>\n",
       "      <td></td>\n",
       "      <td>A</td>\n",
       "    </tr>\n",
       "    <tr>\n",
       "      <th>p09</th>\n",
       "      <td>160.4</td>\n",
       "      <td>48.5</td>\n",
       "      <td>30.0</td>\n",
       "      <td>NaN</td>\n",
       "      <td>A</td>\n",
       "    </tr>\n",
       "    <tr>\n",
       "      <th>p10</th>\n",
       "      <td>170.0</td>\n",
       "      <td>77.7</td>\n",
       "      <td>51.0</td>\n",
       "      <td>Male</td>\n",
       "      <td>O</td>\n",
       "    </tr>\n",
       "  </tbody>\n",
       "</table>\n",
       "</div>"
      ],
      "text/plain": [
       "        height  weight   age gender blood\n",
       "person                                   \n",
       "p08      158.9     NaN   NaN            A\n",
       "p09      160.4    48.5  30.0    NaN     A\n",
       "p10      170.0    77.7  51.0   Male     O"
      ]
     },
     "execution_count": 8,
     "metadata": {},
     "output_type": "execute_result"
    }
   ],
   "source": [
    "df.tail(3)"
   ]
  },
  {
   "cell_type": "markdown",
   "metadata": {},
   "source": [
    "## カラムごとの概要の確認\n",
    "\n",
    "各列のデータについて概要を確認するにはデータフレームの<font color=green>describe()</font>メソッドを使用します．  \n",
    "まずheight列について，その概要を表示してみます．\n",
    "\n",
    "```Python\n",
    "df.height.describe()\n",
    "```"
   ]
  },
  {
   "cell_type": "code",
   "execution_count": 9,
   "metadata": {
    "scrolled": true
   },
   "outputs": [
    {
     "data": {
      "text/plain": [
       "count     10.000000\n",
       "mean     156.670000\n",
       "std       14.593914\n",
       "min      120.800000\n",
       "25%      157.825000\n",
       "50%      159.050000\n",
       "75%      161.825000\n",
       "max      173.100000\n",
       "Name: height, dtype: float64"
      ]
     },
     "execution_count": 9,
     "metadata": {},
     "output_type": "execute_result"
    }
   ],
   "source": [
    "df.height.describe()"
   ]
  },
  {
   "cell_type": "markdown",
   "metadata": {},
   "source": [
    "このようにカラムを指定してdescribe()メソッドを発行すると，様々な統計情報を得ることができます．\n",
    "これらの情報は後々の統計分析によって利用します．\n",
    "ここでは出力の最初の行と最後の行に注目してください．\n",
    "\n",
    "> \n",
    "```\n",
    "count     10.000000\n",
    "Name: height, dtype: float64\n",
    "```\n",
    "\n",
    "最初の行は，count=10ということで，欠損値を除いたデータが10個あることが分かります．\n",
    "データフレームの行数が10行なので，欠損値がないことが保証されます．\n",
    "最後の行は，dtype:float64なので小数点付数であることが分かります．"
   ]
  },
  {
   "cell_type": "markdown",
   "metadata": {},
   "source": [
    "describe()メソッドは，データフレームそのものに対して実行すると，数値型のカラムについての基礎統計を得ることができます．\n",
    "\n",
    "```Python\n",
    "df.describe()\n",
    "```"
   ]
  },
  {
   "cell_type": "code",
   "execution_count": 10,
   "metadata": {},
   "outputs": [
    {
     "data": {
      "text/html": [
       "<div>\n",
       "<style>\n",
       "    .dataframe thead tr:only-child th {\n",
       "        text-align: right;\n",
       "    }\n",
       "\n",
       "    .dataframe thead th {\n",
       "        text-align: left;\n",
       "    }\n",
       "\n",
       "    .dataframe tbody tr th {\n",
       "        vertical-align: top;\n",
       "    }\n",
       "</style>\n",
       "<table border=\"1\" class=\"dataframe\">\n",
       "  <thead>\n",
       "    <tr style=\"text-align: right;\">\n",
       "      <th></th>\n",
       "      <th>height</th>\n",
       "      <th>weight</th>\n",
       "      <th>age</th>\n",
       "    </tr>\n",
       "  </thead>\n",
       "  <tbody>\n",
       "    <tr>\n",
       "      <th>count</th>\n",
       "      <td>10.000000</td>\n",
       "      <td>9.000000</td>\n",
       "      <td>9.000000</td>\n",
       "    </tr>\n",
       "    <tr>\n",
       "      <th>mean</th>\n",
       "      <td>156.670000</td>\n",
       "      <td>51.988889</td>\n",
       "      <td>26.222222</td>\n",
       "    </tr>\n",
       "    <tr>\n",
       "      <th>std</th>\n",
       "      <td>14.593914</td>\n",
       "      <td>16.171460</td>\n",
       "      <td>15.626722</td>\n",
       "    </tr>\n",
       "    <tr>\n",
       "      <th>min</th>\n",
       "      <td>120.800000</td>\n",
       "      <td>24.300000</td>\n",
       "      <td>8.000000</td>\n",
       "    </tr>\n",
       "    <tr>\n",
       "      <th>25%</th>\n",
       "      <td>157.825000</td>\n",
       "      <td>44.500000</td>\n",
       "      <td>13.000000</td>\n",
       "    </tr>\n",
       "    <tr>\n",
       "      <th>50%</th>\n",
       "      <td>159.050000</td>\n",
       "      <td>49.000000</td>\n",
       "      <td>23.000000</td>\n",
       "    </tr>\n",
       "    <tr>\n",
       "      <th>75%</th>\n",
       "      <td>161.825000</td>\n",
       "      <td>62.000000</td>\n",
       "      <td>35.000000</td>\n",
       "    </tr>\n",
       "    <tr>\n",
       "      <th>max</th>\n",
       "      <td>173.100000</td>\n",
       "      <td>77.700000</td>\n",
       "      <td>51.000000</td>\n",
       "    </tr>\n",
       "  </tbody>\n",
       "</table>\n",
       "</div>"
      ],
      "text/plain": [
       "           height     weight        age\n",
       "count   10.000000   9.000000   9.000000\n",
       "mean   156.670000  51.988889  26.222222\n",
       "std     14.593914  16.171460  15.626722\n",
       "min    120.800000  24.300000   8.000000\n",
       "25%    157.825000  44.500000  13.000000\n",
       "50%    159.050000  49.000000  23.000000\n",
       "75%    161.825000  62.000000  35.000000\n",
       "max    173.100000  77.700000  51.000000"
      ]
     },
     "execution_count": 10,
     "metadata": {},
     "output_type": "execute_result"
    }
   ],
   "source": [
    "df.describe()"
   ]
  },
  {
   "cell_type": "markdown",
   "metadata": {},
   "source": [
    "この出力には数値型以外のカラム情報は記載されません．\n",
    "その他のデータ型については，個別にカラムを指定してdescribe()メソッドを発行します．\n",
    "\n",
    "```Python\n",
    "df.gender.describe()\n",
    "```"
   ]
  },
  {
   "cell_type": "code",
   "execution_count": 11,
   "metadata": {},
   "outputs": [
    {
     "data": {
      "text/plain": [
       "count        9\n",
       "unique       3\n",
       "top       Male\n",
       "freq         5\n",
       "Name: gender, dtype: object"
      ]
     },
     "execution_count": 11,
     "metadata": {},
     "output_type": "execute_result"
    }
   ],
   "source": [
    "df.gender.describe()"
   ]
  },
  {
   "cell_type": "markdown",
   "metadata": {},
   "source": [
    "このように数値型でない場合は，離散的な統計情報が表示されます．\n",
    "この情報を読み解きます．\n",
    "データ型は<font color=green>object</font>型となりますが，object型は様々なデータへのポインターです．\n",
    "複数のデータ型が存在することもあり得ます．\n",
    "個々の要素についての具体的なデータ型については後で確認します．\n",
    "\n",
    "その他の情報は次のように解釈します．\n",
    "> \n",
    "```\n",
    "count        9   （欠損値以外の有効なデータの個数）\n",
    "unique       3   （有効値の重複を除いた個数）\n",
    "top       Male   （最頻値）\n",
    "freq         5   （最頻値の度数）\n",
    "```"
   ]
  },
  {
   "cell_type": "markdown",
   "metadata": {},
   "source": [
    "重複を除いた有効値の個数が3個ですが，その具体的な値を求めるには<font color=green>set()</font>関数を使用します．\n",
    "\n",
    "```Python\n",
    "set(df.gender)\n",
    "```"
   ]
  },
  {
   "cell_type": "code",
   "execution_count": 12,
   "metadata": {},
   "outputs": [
    {
     "data": {
      "text/plain": [
       "{nan, 'Female', 'Male', ' '}"
      ]
     },
     "execution_count": 12,
     "metadata": {},
     "output_type": "execute_result"
    }
   ],
   "source": [
    "set(df.gender)"
   ]
  },
  {
   "cell_type": "markdown",
   "metadata": {},
   "source": [
    "df.genderの個別の要素のデータ型については，リスト内包表記とtype()関数の組み合わせによってデータ型のリストを作成し，set()関数によって重複を除けば求まります．\n",
    "\n",
    "```Python\n",
    "set([type(x) for x in df.gender])\n",
    "```"
   ]
  },
  {
   "cell_type": "code",
   "execution_count": 13,
   "metadata": {},
   "outputs": [
    {
     "data": {
      "text/plain": [
       "{str, float}"
      ]
     },
     "execution_count": 13,
     "metadata": {},
     "output_type": "execute_result"
    }
   ],
   "source": [
    "set([type(x) for x in df.gender])"
   ]
  },
  {
   "cell_type": "markdown",
   "metadata": {},
   "source": [
    "このように，df.genderの各要素のデータ型はstr型とfloat型があることが分かりました．\n",
    "ちなみにfloat型になっている値は欠損値のnanです．\n",
    "\n",
    "これで，CSVファイルを読み込んでデータフレームを作成し確認するプロセスについての説明を完了します．\n",
    "*****"
   ]
  }
 ],
 "metadata": {
  "kernelspec": {
   "display_name": "Python 3",
   "language": "python",
   "name": "python3"
  },
  "language_info": {
   "codemirror_mode": {
    "name": "ipython",
    "version": 3
   },
   "file_extension": ".py",
   "mimetype": "text/x-python",
   "name": "python",
   "nbconvert_exporter": "python",
   "pygments_lexer": "ipython3",
   "version": "3.6.1"
  }
 },
 "nbformat": 4,
 "nbformat_minor": 2
}
