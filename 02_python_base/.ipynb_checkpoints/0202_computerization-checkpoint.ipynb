{
 "cells": [
  {
   "cell_type": "markdown",
   "metadata": {},
   "source": [
    "# データの電子化\n",
    "\n",
    "データ分析のために入手したデータについて，最初に実施する処理は分析システムの入力として使用するための電子化です．\n",
    "この操作はオリジナルデータが紙の場合はもちろんですが，システム出力である電子データについても必要な作業となります．\n",
    "\n"
   ]
  },
  {
   "cell_type": "markdown",
   "metadata": {},
   "source": [
    "## 身体調査データ\n",
    "\n",
    "健康管理のために，10名に身体調査データを記載したサンプルデータがあります．\n",
    "この表は，各個人が別々に記入した紙の内容を転記したものです．\n",
    "\n",
    "|対象者番号|身長(cm)|体重(kg)|年齢|性別|血液型|\n",
    "|:---:| :---: | :---:|:---:|:---:| :---:|\n",
    "| p01 | 162.3 | 55.6 | 23  | 男  | A    |\n",
    "| p02 | 173.1 | 62.0 | 35  | 男  | AB   |\n",
    "| p03 | 158.8 | 68.5 | 47  | 男  | B    |\n",
    "| p04 | 120.8 | 24.3 |  8  | 女  |      |\n",
    "| p05 | 145.7 | 37.8 | 11  | 女  |      |\n",
    "| p06 | 159.2 | 44.5 | 13  | 男  | O    |\n",
    "| p07 | 157.5 | 49.0 | 18  | 女  | B    |\n",
    "| p08 | 158.9 |      |     | 女  | A    |\n",
    "| p09 | 160.4 | 48.5 | 30  |     | A    |\n",
    "| p10 | 170.0 | 77.7 | 51  | 男  | O    |\n",
    "\n",
    "このデータを使って，電子化の作法について学習していきます．"
   ]
  },
  {
   "cell_type": "markdown",
   "metadata": {},
   "source": [
    "## 変量\n",
    "\n",
    "このデータを見ると，縦に同じ種類のデータが並んでいます．\n",
    "この縦の各列を変量と言います．\n",
    "個々では次の変量が定義されています．\n",
    "\n",
    "- 対象者番号\n",
    "- 身長\n",
    "- 体重\n",
    "- 年齢\n",
    "- 性別\n",
    "- 血液型\n",
    "\n",
    "そして，横向きの1行がそれぞれ一人一人の属性になっています．\n",
    "この各1行を個々の標本と言います．  \n",
    "それぞれの変量について，特徴を確認します．"
   ]
  },
  {
   "cell_type": "markdown",
   "metadata": {},
   "source": [
    "#### 対象者番号\n",
    "この<font color=green>対象者番号</font>は個々の標本に付ける識別子です．\n",
    "すなわち，各々が標本全体を通してユニークな値になっています．\n",
    "この対象者番号を指定することによって，1つの標本を特定することができます．"
   ]
  },
  {
   "cell_type": "markdown",
   "metadata": {},
   "source": [
    "#### 身長\n",
    "\n",
    "<font color=green>身長</font>は対象者の身長をセンチメートルで0.1cm刻みで記録してあります．\n",
    "データ型としては浮動小数点付数になります．\n",
    "とり得る範囲としては，正の実数です．\n",
    "実際には，身長が1cmとか900㎝の人はいないので，そのような値があれば，異常値でないか吟味する必要があります．\n",
    "また実際の値を見ると，有効数字が小数点以下1桁になっています．"
   ]
  },
  {
   "cell_type": "markdown",
   "metadata": {},
   "source": [
    "#### 体重\n",
    "\n",
    "<font color=green>体重</font>も対象者の体重をキログラムで0.1kg刻みで記録してあります．\n",
    "データ型としては浮動小数点付数になります．\n",
    "とり得る範囲としては，正の実数です．\n",
    "やはり，体重も上下限がある程度予想できるので，異常値の確認が必要となります．\n",
    "\n",
    "このデータでは，対象者p08の体重が未記入となっています．\n",
    "この未記入の数値についての取扱いには注意が必要です．\n",
    "なぜならば，利用するデータ分析システムで数値を扱うときに数値以外は受け付けない仕様になっているシステムもあります．\n",
    "欠損値を許すシステムならば，そのまま欠損値としてデータを生成しますが，欠損値を許さない場合はデフォルト値がセットされることになります．\n",
    "数値のデフォルト値をゼロにするシステムが多いですが，9999などの値をデフォルトにするシステムもあります．\n",
    "\n",
    "入手したデータに欠損値がある場合，その理由を考えることはその後の分析の役に立ちます．\n",
    "まず，何らかのトラブルで欠損になったかを確認しなければなりません．\n",
    "トラブルでないとすると，なぜ欠損になったのでしょうか．\n",
    "この対象者p08の場合，体重を知られたくないという意図かもしれません．\n",
    "その真偽は定かではありませんが，情報を出したくないとか，情報を正しく教えたくない，というようなバイアスが情報所有者にあるということを念頭に置いて分析に臨みます．"
   ]
  },
  {
   "cell_type": "markdown",
   "metadata": {},
   "source": [
    "#### 年齢\n",
    "\n",
    "<font color=green>年齢</font>は対象者の年齢を自然数で表しています．\n",
    "とり得る範囲についても当然上限を想定します．\n",
    "\n",
    "また年齢についても対象者p08が欠損値になっています．\n",
    "デフォルトがゼロになるシステムでは，電子化した段階でこの方の年齢が0歳となってしまう可能性がありますので要注意です．\n"
   ]
  },
  {
   "cell_type": "markdown",
   "metadata": {},
   "source": [
    "#### 性別\n",
    "\n",
    "一般的に<font color=green>性別</font>は男女の2値としますが，LGBTへの配慮で「その他」という選択肢も用意します．\n",
    "そのような選択肢があっても，そもそも性別を明示したくないという意向もあり，記載無しもあります．\n",
    "データを電子化する段階で，この記載なしは「その他」と一緒にしてはいけません．\n"
   ]
  },
  {
   "cell_type": "markdown",
   "metadata": {},
   "source": [
    "#### 血液型\n",
    "\n",
    "<font color=green>血液型</font>は，{A,B,O,AB}の4種類の値をとる文字列です．\n",
    "血液型には他のカテゴリーもありますが，ここでは日本で標準的に用いられているABO型とします．\n",
    "\n",
    "対象者p04,p05の2人について血液型の記載が無いですが，年齢的に未だ血液型検査をしていない可能性があります．\n",
    "このような場合は，データを電子化した段階で「不明」という解釈になります．\n"
   ]
  },
  {
   "cell_type": "markdown",
   "metadata": {},
   "source": [
    "*****\n",
    "## データフレーム\n",
    "\n",
    "この身体調査データを電子化してデータフレームを構成します．\n",
    "<font color=blue>データフレームとは2次元の表形式</font>の電子データで，行が個々の標本を示し，列が各変量を示します．\n",
    "値の無い部分については，いったん None に統一します．\n",
    "「未記入」や「不明」への書き換えは各変量の分布確認の時点で行います．\n",
    "\n",
    "| index |height |weight| age |gender|blood|\n",
    "| :---: | :---: | :---:|:---:|:---:| :---:|\n",
    "| 'p01' | 162.3 | 55.6 | 23  | 'M' | 'A'  |\n",
    "| 'p02' | 173.1 | 62.0 | 35  | 'M' | 'AB' |\n",
    "| 'p03' | 158.8 | 68.5 | 47  | 'M' | 'B'  |\n",
    "| 'p04' | 120.8 | 24.3 |  8  | 'F' | None |\n",
    "| 'p05' | 145.7 | 37.8 | 11  | 'F' | None |\n",
    "| 'p06' | 159.2 | 44.5 | 13  | 'M' | 'O'  |\n",
    "| 'p07' | 157.5 | 49.0 | 18  | 'F' | 'B'  |\n",
    "| 'p08' | 158.9 | None |None | 'F' | 'A'  |\n",
    "| 'p09' | 160.4 | 48.5 | 30  |None | 'A'  |\n",
    "| 'p10' | 170.0 | 77.7 | 51  | 'M' | 'O'  |\n"
   ]
  },
  {
   "cell_type": "markdown",
   "metadata": {},
   "source": [
    "### 変数名\n",
    "\n",
    "データを電子化したときに各変量に分かりやすい名前を付けますが，変数名については次のような命名規則を設けることをお薦めします．\n",
    "\n",
    "- 変数名は英字始まりの英数字とする．特殊文字やブランク，全角文字は使用しない．\n",
    "- 変数名に複数の単語を使う場合はキャメルケースにする．例：苗字を familyName とする．\n",
    "- 変数名は英語の意味が通じるようにする．"
   ]
  },
  {
   "cell_type": "markdown",
   "metadata": {},
   "source": [
    "## オリジナルデータの保管\n",
    "\n",
    "オリジナルデータは入手したデータそのものです．\n",
    "そこにはデータの間違いも含まれています．\n",
    "この後，オリジナルデータに対してデータクレンジングを行うことになりますが，修正を施したデータでオリジナルデータを上書きしてはいけません．\n",
    "なぜならば，その修正にミスがあった場合，元の状態に戻すことが出来ないからです．\n",
    "したがって，オリジナルデータは必ず保管します．\n",
    "\n",
    "さらに，データクレンジングや数値データのカテゴリー化など変更を加えたデータは，適切なタイミングで保管していきます．\n",
    "そして，その変更を全てプログラムで実施すればデータの変更過程も記録されることになり，後々の検証することが可能となります．"
   ]
  },
  {
   "cell_type": "markdown",
   "metadata": {},
   "source": [
    "## データ加工プロセスのプログラム化\n",
    "\n",
    "オリジナルデータがクリーンであることは稀です．\n",
    "そこでクレンジング作業が発生します．\n",
    "クレンジングには次のようなことが想定されます．\n",
    "\n",
    "- 半角全角を揃える\n",
    "- 余分な空白文字を取り除く\n",
    "- 和暦を西暦に統一する\n",
    "- 電話番号などのフォーマットを揃える\n",
    "- 未入力，空白文字の整合的な値の変更\n",
    "\n",
    "このような事象に対して変更を加える処理ですが，基本的にはプログラムで対応すべきです．\n",
    "これは，データ加工でミスが発生しないためのルールです．\n",
    "もし手作業で実施すると，再現性も保証できなくなります．"
   ]
  },
  {
   "cell_type": "markdown",
   "metadata": {},
   "source": [
    "## カテゴリー値のコード化とマスター表\n",
    "\n",
    "性別のように取りうる値が有限個の決まった値の場合，それらの値をコード化して，そのコードをマスター表で対応付けることもあります．\n",
    "性別と血液型についてコード化してみます．\n"
   ]
  },
  {
   "cell_type": "markdown",
   "metadata": {},
   "source": [
    "#### 性別のマスター表\n",
    "\n",
    "| genderCode | gender |\n",
    "|:---:|:---:|\n",
    "| 1 | None |\n",
    "| 2 | 'M' |\n",
    "| 3 | 'F' |\n",
    "| 4 | 'other' |"
   ]
  },
  {
   "cell_type": "markdown",
   "metadata": {},
   "source": [
    "#### 血液型のマスター表\n",
    "\n",
    "| bloodCode | blood |\n",
    "|:---:|:---:|\n",
    "| 1 | None |\n",
    "| 2 | 'A' |\n",
    "| 3 | 'B' |\n",
    "| 4 | 'O' |\n",
    "| 5 | 'AB' |"
   ]
  },
  {
   "cell_type": "markdown",
   "metadata": {},
   "source": [
    "### カテゴリー値をコード化したデータフレーム\n",
    "\n",
    "上記の性別および血液型のマスター表を使用すると，データフレームは次のようになります．\n",
    "\n",
    "| index |height |weight| age |genderCode|bloodCode|\n",
    "| :---: | :---: | :---:|:---:|:---:| :---:|\n",
    "| 'p01' | 162.3 | 55.6 | 23  | 2 | 2 |\n",
    "| 'p02' | 173.1 | 62.0 | 35  | 2 | 5 |\n",
    "| 'p03' | 158.8 | 68.5 | 47  | 2 | 3 |\n",
    "| 'p04' | 120.8 | 24.3 |  8  | 3 | 1 |\n",
    "| 'p05' | 145.7 | 37.8 | 11  | 3 | 1 |\n",
    "| 'p06' | 159.2 | 44.5 | 13  | 2 | 4 |\n",
    "| 'p07' | 157.5 | 49.0 | 18  | 3 | 3 |\n",
    "| 'p08' | 158.9 | None |None | 3 | 2 |\n",
    "| 'p09' | 160.4 | 48.5 | 30  | 1 | 2 |\n",
    "| 'p10' | 170.0 | 77.7 | 51  | 2 | 4 |\n"
   ]
  },
  {
   "cell_type": "markdown",
   "metadata": {},
   "source": [
    "#### コード化のメリット\n",
    "コード化のメリットは，その変量の値が画一化されていることと，データのサイズを小さくできることです．\n",
    "例えばアンケート調査の解答項目が「大いに不満，不満，どちらともいえない，満足，大いに満足」としたとき，これらを文字列で持っているよりも，コード化して「1,2,3,4,5」とした方がメモリーの省力化となります．\n",
    "\n",
    "変量のコード化では初歩的なデータクレンジングを行うことができます．\n",
    "例えば血液型の値として，' A 'や'Ａ'があったとします．\n",
    "' A 'は前後にスペース文字が付いています．'Ａ'は全角文字で記載されています．\n",
    "これらは両方とも'A'と同じと見なすべきです．\n",
    "この処理をコード化と共に行うことができます．\n",
    "\n",
    "#### コード化のデメリット\n",
    "デメリットとしては，値を見ただけでは何を示しているか分からないので，コードの付け間違いなどの大きなエラーを見逃してしまう危険があります．\n",
    "\n",
    "さらに注意すべきことはマスター表が変更されるとコードと値の対応付けが変わってしまうので，マスター表管理を厳格に行う必要がります．"
   ]
  },
  {
   "cell_type": "code",
   "execution_count": 1,
   "metadata": {
    "collapsed": true
   },
   "outputs": [],
   "source": [
    "import pandas as pd"
   ]
  },
  {
   "cell_type": "code",
   "execution_count": 2,
   "metadata": {
    "collapsed": true
   },
   "outputs": [],
   "source": [
    "originalDF = pd.DataFrame(\n",
    "    {\n",
    "    'height':[162.3,173.1,158.8,120.8,145.7,159.2,157.5,158.9,160.4,170.0],\n",
    "    'weight':[55.6,62.0,68.5,24.3,37.8,44.5,49.0,None,48.5,77.7],\n",
    "    'age':[23,35,47,8,11,13,18,None,30,51],\n",
    "    'gender':['M','M','M','F','F','M','F','F',None,'M'],\n",
    "    'blood':['A','AB','B',None,None,'O','B','A','A','O'] \n",
    "    }, \n",
    "    columns=['height','weight','age','gender','blood'] ,\n",
    "    index=['p01','p02','p03','p04','p05','p06','p07','p08','p09','p10'],\n",
    "    dtype='object'\n",
    ")"
   ]
  },
  {
   "cell_type": "code",
   "execution_count": 3,
   "metadata": {
    "scrolled": true
   },
   "outputs": [
    {
     "data": {
      "text/html": [
       "<div>\n",
       "<style>\n",
       "    .dataframe thead tr:only-child th {\n",
       "        text-align: right;\n",
       "    }\n",
       "\n",
       "    .dataframe thead th {\n",
       "        text-align: left;\n",
       "    }\n",
       "\n",
       "    .dataframe tbody tr th {\n",
       "        vertical-align: top;\n",
       "    }\n",
       "</style>\n",
       "<table border=\"1\" class=\"dataframe\">\n",
       "  <thead>\n",
       "    <tr style=\"text-align: right;\">\n",
       "      <th></th>\n",
       "      <th>height</th>\n",
       "      <th>weight</th>\n",
       "      <th>age</th>\n",
       "      <th>gender</th>\n",
       "      <th>blood</th>\n",
       "    </tr>\n",
       "  </thead>\n",
       "  <tbody>\n",
       "    <tr>\n",
       "      <th>count</th>\n",
       "      <td>10.0</td>\n",
       "      <td>9.0</td>\n",
       "      <td>9</td>\n",
       "      <td>9</td>\n",
       "      <td>8</td>\n",
       "    </tr>\n",
       "    <tr>\n",
       "      <th>unique</th>\n",
       "      <td>10.0</td>\n",
       "      <td>9.0</td>\n",
       "      <td>9</td>\n",
       "      <td>2</td>\n",
       "      <td>4</td>\n",
       "    </tr>\n",
       "    <tr>\n",
       "      <th>top</th>\n",
       "      <td>159.2</td>\n",
       "      <td>62.0</td>\n",
       "      <td>47</td>\n",
       "      <td>M</td>\n",
       "      <td>A</td>\n",
       "    </tr>\n",
       "    <tr>\n",
       "      <th>freq</th>\n",
       "      <td>1.0</td>\n",
       "      <td>1.0</td>\n",
       "      <td>1</td>\n",
       "      <td>5</td>\n",
       "      <td>3</td>\n",
       "    </tr>\n",
       "  </tbody>\n",
       "</table>\n",
       "</div>"
      ],
      "text/plain": [
       "        height  weight  age gender blood\n",
       "count     10.0     9.0    9      9     8\n",
       "unique    10.0     9.0    9      2     4\n",
       "top      159.2    62.0   47      M     A\n",
       "freq       1.0     1.0    1      5     3"
      ]
     },
     "execution_count": 3,
     "metadata": {},
     "output_type": "execute_result"
    }
   ],
   "source": [
    "originalDF.describe()"
   ]
  },
  {
   "cell_type": "code",
   "execution_count": 4,
   "metadata": {},
   "outputs": [
    {
     "data": {
      "text/html": [
       "<div>\n",
       "<style>\n",
       "    .dataframe thead tr:only-child th {\n",
       "        text-align: right;\n",
       "    }\n",
       "\n",
       "    .dataframe thead th {\n",
       "        text-align: left;\n",
       "    }\n",
       "\n",
       "    .dataframe tbody tr th {\n",
       "        vertical-align: top;\n",
       "    }\n",
       "</style>\n",
       "<table border=\"1\" class=\"dataframe\">\n",
       "  <thead>\n",
       "    <tr style=\"text-align: right;\">\n",
       "      <th></th>\n",
       "      <th>height</th>\n",
       "      <th>weight</th>\n",
       "      <th>age</th>\n",
       "      <th>gender</th>\n",
       "      <th>blood</th>\n",
       "    </tr>\n",
       "  </thead>\n",
       "  <tbody>\n",
       "    <tr>\n",
       "      <th>p01</th>\n",
       "      <td>162.3</td>\n",
       "      <td>55.6</td>\n",
       "      <td>23</td>\n",
       "      <td>M</td>\n",
       "      <td>A</td>\n",
       "    </tr>\n",
       "    <tr>\n",
       "      <th>p02</th>\n",
       "      <td>173.1</td>\n",
       "      <td>62</td>\n",
       "      <td>35</td>\n",
       "      <td>M</td>\n",
       "      <td>AB</td>\n",
       "    </tr>\n",
       "    <tr>\n",
       "      <th>p03</th>\n",
       "      <td>158.8</td>\n",
       "      <td>68.5</td>\n",
       "      <td>47</td>\n",
       "      <td>M</td>\n",
       "      <td>B</td>\n",
       "    </tr>\n",
       "  </tbody>\n",
       "</table>\n",
       "</div>"
      ],
      "text/plain": [
       "    height weight age gender blood\n",
       "p01  162.3   55.6  23      M     A\n",
       "p02  173.1     62  35      M    AB\n",
       "p03  158.8   68.5  47      M     B"
      ]
     },
     "execution_count": 4,
     "metadata": {},
     "output_type": "execute_result"
    }
   ],
   "source": [
    "originalDF.head(3)"
   ]
  },
  {
   "cell_type": "code",
   "execution_count": 5,
   "metadata": {},
   "outputs": [
    {
     "data": {
      "text/html": [
       "<div>\n",
       "<style>\n",
       "    .dataframe thead tr:only-child th {\n",
       "        text-align: right;\n",
       "    }\n",
       "\n",
       "    .dataframe thead th {\n",
       "        text-align: left;\n",
       "    }\n",
       "\n",
       "    .dataframe tbody tr th {\n",
       "        vertical-align: top;\n",
       "    }\n",
       "</style>\n",
       "<table border=\"1\" class=\"dataframe\">\n",
       "  <thead>\n",
       "    <tr style=\"text-align: right;\">\n",
       "      <th></th>\n",
       "      <th>height</th>\n",
       "      <th>weight</th>\n",
       "      <th>age</th>\n",
       "      <th>gender</th>\n",
       "      <th>blood</th>\n",
       "    </tr>\n",
       "  </thead>\n",
       "  <tbody>\n",
       "    <tr>\n",
       "      <th>p08</th>\n",
       "      <td>158.9</td>\n",
       "      <td>None</td>\n",
       "      <td>None</td>\n",
       "      <td>F</td>\n",
       "      <td>A</td>\n",
       "    </tr>\n",
       "    <tr>\n",
       "      <th>p09</th>\n",
       "      <td>160.4</td>\n",
       "      <td>48.5</td>\n",
       "      <td>30</td>\n",
       "      <td>None</td>\n",
       "      <td>A</td>\n",
       "    </tr>\n",
       "    <tr>\n",
       "      <th>p10</th>\n",
       "      <td>170</td>\n",
       "      <td>77.7</td>\n",
       "      <td>51</td>\n",
       "      <td>M</td>\n",
       "      <td>O</td>\n",
       "    </tr>\n",
       "  </tbody>\n",
       "</table>\n",
       "</div>"
      ],
      "text/plain": [
       "    height weight   age gender blood\n",
       "p08  158.9   None  None      F     A\n",
       "p09  160.4   48.5    30   None     A\n",
       "p10    170   77.7    51      M     O"
      ]
     },
     "execution_count": 5,
     "metadata": {},
     "output_type": "execute_result"
    }
   ],
   "source": [
    "originalDF.tail(3)"
   ]
  },
  {
   "cell_type": "code",
   "execution_count": 9,
   "metadata": {},
   "outputs": [
    {
     "data": {
      "text/plain": [
       "467.9"
      ]
     },
     "execution_count": 9,
     "metadata": {},
     "output_type": "execute_result"
    }
   ],
   "source": [
    "originalDF.weight.sum()"
   ]
  },
  {
   "cell_type": "code",
   "execution_count": 10,
   "metadata": {},
   "outputs": [
    {
     "data": {
      "text/plain": [
       "51.988888888888887"
      ]
     },
     "execution_count": 10,
     "metadata": {},
     "output_type": "execute_result"
    }
   ],
   "source": [
    "originalDF.weight.mean()"
   ]
  },
  {
   "cell_type": "code",
   "execution_count": null,
   "metadata": {
    "collapsed": true
   },
   "outputs": [],
   "source": []
  }
 ],
 "metadata": {
  "kernelspec": {
   "display_name": "Python 3",
   "language": "python",
   "name": "python3"
  },
  "language_info": {
   "codemirror_mode": {
    "name": "ipython",
    "version": 3
   },
   "file_extension": ".py",
   "mimetype": "text/x-python",
   "name": "python",
   "nbconvert_exporter": "python",
   "pygments_lexer": "ipython3",
   "version": "3.6.1"
  }
 },
 "nbformat": 4,
 "nbformat_minor": 2
}
