{
 "cells": [
  {
   "cell_type": "markdown",
   "metadata": {},
   "source": [
    "# ライブラリーの搬入\n",
    "\n",
    "Pythonでは様々なツールが用意されていますが，それらが全てPythonに組み込まれているとプログラムモジュールが膨大になってしまいます．\n",
    "そこで必要なライブラリーだけを宣言してプログラムに取り込みます．\n",
    "ライブラリーを取り込むことを搬入と言い，<font color='green'>import</font>文によって実現します．\n",
    "\n",
    "> <font color=green>import</font> ライブラリー名\n",
    "\n",
    "また，プログラムの中でライブラリー名を別名で使用するための宣言方法もあります．\n",
    "\n",
    "> <font color=green>import</font> ライブラリー名 <font color=green>as</font> 別名\n",
    "\n",
    "さらに，ライブラリーの一部のモジュールしか使用しない場合，そのモジュールだけを搬入することもできます．\n",
    "\n",
    "> <font color=green>from</font> ライブラリー名 <font color=green>import</font> モジュール名 <font color=green>as</font> 別名"
   ]
  },
  {
   "cell_type": "markdown",
   "metadata": {},
   "source": [
    "## 重要なライブラリー\n",
    "\n",
    "データ分析において定番となっている重要なライブラリーがあります．\n",
    "それらのライブラリーについて簡単に説明します．\n",
    "\n",
    "|ライブラリー名|機能||一般的な搬入文|\n",
    "|:---:|:---:|:---:|:---|\n",
    "| NumPy     |高速の配列計算  || <font face='courier new'>import numpy as np</font>             |\n",
    "| pandas    |データフレーム  || <font face='courier new'>import pandas as pd</font>            |\n",
    "| matplotlib|高機能グラフ描画|| <font face='courier new'>import matplotlib.pyplot as plt</font>|"
   ]
  },
  {
   "cell_type": "markdown",
   "metadata": {},
   "source": [
    "*****\n",
    "## NumPy\n",
    "\n",
    "NumPyは高性能の配列計算ライブラリーです．\n",
    "NumPyの搬入は，次のように記載します．\n",
    "\n",
    "```Python\n",
    "import numpy as np\n",
    "```"
   ]
  },
  {
   "cell_type": "code",
   "execution_count": 1,
   "metadata": {
    "collapsed": true
   },
   "outputs": [],
   "source": [
    "import numpy as np"
   ]
  },
  {
   "cell_type": "markdown",
   "metadata": {},
   "source": [
    "ここで別名の np ですが，Pythonのプログラマーの間では慣用的に使われている別名です．\n",
    "私たちもこの別名を継承します．"
   ]
  },
  {
   "cell_type": "markdown",
   "metadata": {},
   "source": [
    "NumPyでは独自の配列を用意しています．\n",
    "NumPyの配列は次のようにして定義します．\n",
    "\n",
    "```Python\n",
    "x = np.array([2,3,5,7,9])\n",
    "x\n",
    "```"
   ]
  },
  {
   "cell_type": "code",
   "execution_count": 2,
   "metadata": {},
   "outputs": [
    {
     "data": {
      "text/plain": [
       "array([2, 3, 5, 7, 9])"
      ]
     },
     "execution_count": 2,
     "metadata": {},
     "output_type": "execute_result"
    }
   ],
   "source": [
    "x = np.array([2,3,5,7,9])\n",
    "x"
   ]
  },
  {
   "cell_type": "markdown",
   "metadata": {},
   "source": [
    "この変数についてもtype()関数で，そのデータ型を確認することができます．\n",
    "\n",
    "```Python\n",
    "type(x)\n",
    "```"
   ]
  },
  {
   "cell_type": "code",
   "execution_count": 3,
   "metadata": {},
   "outputs": [
    {
     "data": {
      "text/plain": [
       "numpy.ndarray"
      ]
     },
     "execution_count": 3,
     "metadata": {},
     "output_type": "execute_result"
    }
   ],
   "source": [
    "type(x)"
   ]
  },
  {
   "cell_type": "markdown",
   "metadata": {},
   "source": [
    "NumPy配列は，通常の配列ではできない計算を行うためのメソッドが沢山用意されています．\n",
    "さらに，計算精度と計算速度についての配慮もされていて，科学技術計算での利用に適しています．"
   ]
  },
  {
   "cell_type": "markdown",
   "metadata": {},
   "source": [
    "*****\n",
    "## pandas\n",
    "\n",
    "pandasはデータフレームを実現するライブラリーです．\n",
    "pandasの搬入は，次のように記述します．\n",
    "\n",
    "```Python\n",
    "import pandas as pd\n",
    "```"
   ]
  },
  {
   "cell_type": "code",
   "execution_count": 4,
   "metadata": {
    "collapsed": true
   },
   "outputs": [],
   "source": [
    "import pandas as pd"
   ]
  },
  {
   "cell_type": "markdown",
   "metadata": {},
   "source": [
    "データフレームの利用方法については，次のレクチャーで詳しく説明します．"
   ]
  },
  {
   "cell_type": "markdown",
   "metadata": {},
   "source": [
    "*****\n",
    "## matplotlib\n",
    "\n",
    "matplotlibは，作図用のライブラリーです．\n",
    "私たちが利用するグラフは，matplotlibのpyplotというモジュールです．\n",
    "このモジュールの搬入は，次のように記述します．\n",
    "\n",
    "```Python\n",
    "import matplotlib.pyplot as plt\n",
    "%matplotlib inline\n",
    "```"
   ]
  },
  {
   "cell_type": "code",
   "execution_count": 5,
   "metadata": {
    "collapsed": true
   },
   "outputs": [],
   "source": [
    "import matplotlib.pyplot as plt\n",
    "%matplotlib inline"
   ]
  },
  {
   "cell_type": "markdown",
   "metadata": {},
   "source": [
    "ここで2行目の「%matplotlib inline」ですが，この文はJupyter notebook上でプログラムを実行するときにノートブック内にグラフを表示させるためのコマンドです．"
   ]
  },
  {
   "cell_type": "markdown",
   "metadata": {},
   "source": [
    "実用的な統計のアウトプットとして，幾つかの種類のグラフを描画します．\n",
    "代表的なグラフについて，対応する関数を下表にまとめました．\n",
    "\n",
    "|グラフの種類|関数|\n",
    "|:---:|:---:|\n",
    "|ヒストグラム|hist()|\n",
    "|棒グラフ|bar()|\n",
    "|パイチャート|pie()|\n",
    "|散布図|scatter()|\n",
    "|折れ線グラフ|plot()|"
   ]
  },
  {
   "cell_type": "markdown",
   "metadata": {},
   "source": [
    "この他にも多くのグラフが用意されています．\n",
    "グラフを描画するには，多くのパラメータや付加的な関数を扱う必要があります．\n",
    "これらを覚えることは無理なので，マニュアルを見ながらグラフを作り上げていきます．\n",
    "\n",
    "参照）\n",
    "[https://matplotlib.org/3.1.1/api/_as_gen/matplotlib.pyplot.html](https://matplotlib.org/3.1.1/api/_as_gen/matplotlib.pyplot.html)\n",
    "\n",
    "*****"
   ]
  }
 ],
 "metadata": {
  "kernelspec": {
   "display_name": "Python 3",
   "language": "python",
   "name": "python3"
  },
  "language_info": {
   "codemirror_mode": {
    "name": "ipython",
    "version": 3
   },
   "file_extension": ".py",
   "mimetype": "text/x-python",
   "name": "python",
   "nbconvert_exporter": "python",
   "pygments_lexer": "ipython3",
   "version": "3.6.1"
  }
 },
 "nbformat": 4,
 "nbformat_minor": 2
}
