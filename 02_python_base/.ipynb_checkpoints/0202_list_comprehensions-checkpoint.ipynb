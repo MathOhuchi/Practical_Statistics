{
 "cells": [
  {
   "cell_type": "markdown",
   "metadata": {},
   "source": [
    "# リスト内包表記\n",
    "\n",
    "リスト配列の全てのデータに対して何らかの処理をする場合，一般的なプログラムではループ処理を書きます．\n",
    "Pythonのリスト内包表記は，角括弧で囲った中にfor構文を用いた簡単なプログラムを記載して処理する方法です．\n",
    "リスト内包表記は，データ加工プログラムでは頻繁に利用される方法です．\n",
    "\n",
    "> <font face='courier new' color='green'>[計算式 for 変数 in 配列的オブジェクト]</font>\n",
    "\n",
    "ここで，\n",
    "- 配列的オブジェクト：リスト・タプル・辞書などの配列やrange関数などの配列を生成するオブジェクトです．\n",
    "- 変数：配列の中のひとつの要素をその変数に代入します．\n",
    "- 計算式：変数を使用した計算式です．\n",
    "\n",
    "for文により配列の中の要素ごとの値が変数に代入されて計算式が実行されます．\n",
    "その計算結果がリスト配列として保管されます．\n",
    "そして，返り値は計算結果のリスト配列になります．"
   ]
  },
  {
   "cell_type": "markdown",
   "metadata": {},
   "source": [
    "具体的な例で確認します．  \n",
    "まず，次のようなリスト配列があるとします．\n",
    "\n",
    "```Python\n",
    "sample = [1,2,3,4,5,6]\n",
    "```"
   ]
  },
  {
   "cell_type": "code",
   "execution_count": 1,
   "metadata": {
    "collapsed": true
   },
   "outputs": [],
   "source": [
    "sample = [1,2,3,4,5,6]"
   ]
  },
  {
   "cell_type": "markdown",
   "metadata": {},
   "source": [
    "このリスト配列の全ての値を2乗にしたリストが必要だとします．\n",
    "目的のリストは次のようになります．\n",
    "> \n",
    "```Python\n",
    "[1,4,9,16,25,36]\n",
    "```\n",
    "\n",
    "一般的なプログラムは次のようになります．\n",
    "```Python\n",
    "squares = []\n",
    "for x in sample:\n",
    "    squares.append(x**2)\n",
    "squares\n",
    "```"
   ]
  },
  {
   "cell_type": "code",
   "execution_count": 2,
   "metadata": {},
   "outputs": [
    {
     "data": {
      "text/plain": [
       "[1, 4, 9, 16, 25, 36]"
      ]
     },
     "execution_count": 2,
     "metadata": {},
     "output_type": "execute_result"
    }
   ],
   "source": [
    "squares = []\n",
    "for x in sample:\n",
    "    squares.append(x**2)\n",
    "squares"
   ]
  },
  {
   "cell_type": "markdown",
   "metadata": {},
   "source": [
    "単純なリスト内包表記は次のように記載します．\n",
    "\n",
    "> <font face='courier new' color='green'>[計算式 for 変数 in リスト配列]</font>\n",
    "\n",
    "このプログラムと同じ働きをリスト内包表記にすると次のようになります．\n",
    "\n",
    "```Python\n",
    "[x**2 for x in sample]\n",
    "```\n",
    "\n",
    "このプログラムを解釈すると，「<font color=blue>リスト配列sampleにある全ての要素xについて，xの2乗を計算して，それらをリスト配列にする</font>」となります．\n",
    "実際に実行してみます．"
   ]
  },
  {
   "cell_type": "code",
   "execution_count": 3,
   "metadata": {},
   "outputs": [
    {
     "data": {
      "text/plain": [
       "[1, 4, 9, 16, 25, 36]"
      ]
     },
     "execution_count": 3,
     "metadata": {},
     "output_type": "execute_result"
    }
   ],
   "source": [
    "[x**2 for x in sample]"
   ]
  },
  {
   "cell_type": "markdown",
   "metadata": {},
   "source": [
    "リスト内包表記ではif条件を入れることができます．\n",
    "\n",
    "> <font face='courier new' color='green'>[条件が真の場合の計算式 for 変数 in リスト配列 if 条件]</font>\n",
    "\n",
    "リストの値を2乗するリスト内包表記において，値が偶数のものだけを拾って2乗し，奇数の値は拾わないプログラムは次のようになります．\n",
    "\n",
    "```Python\n",
    "[x**2 for x in sample if x%2==0]\n",
    "```\n",
    "\n",
    "このようにifブロックが最後尾に付きます．  \n",
    "ここで，x%2 はxを2で割った余りを求める計算式です．\n",
    "よって x%2==0 は，xを2で割った余りが0であればTrueとなる条件です．"
   ]
  },
  {
   "cell_type": "code",
   "execution_count": 4,
   "metadata": {},
   "outputs": [
    {
     "data": {
      "text/plain": [
       "[4, 16, 36]"
      ]
     },
     "execution_count": 4,
     "metadata": {},
     "output_type": "execute_result"
    }
   ],
   "source": [
    "[x**2 for x in sample if x%2==0]"
   ]
  },
  {
   "cell_type": "markdown",
   "metadata": {},
   "source": [
    "リスト内包表記においてifとelseの両方を付けることもできます．\n",
    "その場合，次の構文となります．\n",
    "\n",
    "> <font face='courier new' color='green'>[条件が真の場合の計算式 if 条件 else 条件が偽の場合の計算式 for 変数 in リスト配列]</font>\n",
    "\n",
    "それではリストの値が偶数の場合に2乗して，奇数の場合に符号を反転する処理をリスト内包表記で実行します．\n",
    "\n",
    "```Python\n",
    "[x**2 if x%2==0 else -x for x in sample]\n",
    "```"
   ]
  },
  {
   "cell_type": "code",
   "execution_count": 5,
   "metadata": {},
   "outputs": [
    {
     "data": {
      "text/plain": [
       "[-1, 4, -3, 16, -5, 36]"
      ]
     },
     "execution_count": 5,
     "metadata": {},
     "output_type": "execute_result"
    }
   ],
   "source": [
    "[x**2 if x%2==0 else -x for x in sample]"
   ]
  },
  {
   "cell_type": "markdown",
   "metadata": {},
   "source": [
    "## 辞書内包表記\n",
    "\n",
    "辞書としても内包表記を使用することができます．\n",
    "全体を波括弧で囲っています．\n",
    "\n",
    "> <font face='courier new' color='green'>{キー:値 for 変数 in 配列的オブジェクト}</font>\n",
    "\n",
    "一般的に，このキーと値は変数による計算式になります．"
   ]
  },
  {
   "cell_type": "markdown",
   "metadata": {},
   "source": [
    "リストにある元の値をキーにして，元の値が偶数の場合その2乗を値とし奇数の場合はマイナスの値にする辞書配列を生成する例です．\n",
    "\n",
    "```Python\n",
    "{x:x**2 if x%2==0 else -x for x in sample}\n",
    "```"
   ]
  },
  {
   "cell_type": "code",
   "execution_count": 6,
   "metadata": {},
   "outputs": [
    {
     "data": {
      "text/plain": [
       "{1: -1, 2: 4, 3: -3, 4: 16, 5: -5, 6: 36}"
      ]
     },
     "execution_count": 6,
     "metadata": {},
     "output_type": "execute_result"
    }
   ],
   "source": [
    "{x:x**2 if x%2==0 else -x for x in sample}"
   ]
  },
  {
   "cell_type": "markdown",
   "metadata": {},
   "source": [
    "## 集合内包表記\n",
    "\n",
    "辞書内包表記と似ていますが，計算式の部分を値だけにすると，集合型データを求める内包表記になります．\n",
    "\n",
    "> <font face='courier new' color='green'>{計算式 for 変数 in 配列的オブジェクト}</font>\n",
    "\n",
    "次の例は，重複する要素のリストから重複を除いた集合を求めています．\n",
    "\n",
    "```Python\n",
    "{x for x in [1,2,1,2,3,2,1]}\n",
    "```"
   ]
  },
  {
   "cell_type": "code",
   "execution_count": 7,
   "metadata": {},
   "outputs": [
    {
     "data": {
      "text/plain": [
       "{1, 2, 3}"
      ]
     },
     "execution_count": 7,
     "metadata": {},
     "output_type": "execute_result"
    }
   ],
   "source": [
    "{x for x in [1,2,1,2,3,2,1]}"
   ]
  },
  {
   "cell_type": "markdown",
   "metadata": {},
   "source": [
    "この例は辞書内包表記を理解するためのプログラムですが，実際には辞書内包表記よりもset関数を用いた方が適切なプログラムになります．"
   ]
  },
  {
   "cell_type": "markdown",
   "metadata": {},
   "source": [
    "## タプル内包表記\n",
    "\n",
    "リスト内包表記の各括弧を丸括弧に変更してもタプルを生成することはできません．\n",
    "内包表記でタプルを作成する場合は，<font color='green'>tuple()</font>関数を使います．\n",
    "\n",
    "> <font face='courier new' color='green'>tuple(計算式 for 変数 in 配列的オブジェクト)</font>\n",
    "\n",
    "次の例は，リスト配列から奇数を負の数にして偶数を2乗にした値のタプルを求めています．\n",
    "\n",
    "```Python\n",
    "tuple(x**2 if x%2==0 else -x for x in sample)\n",
    "```"
   ]
  },
  {
   "cell_type": "code",
   "execution_count": 8,
   "metadata": {},
   "outputs": [
    {
     "data": {
      "text/plain": [
       "(-1, 4, -3, 16, -5, 36)"
      ]
     },
     "execution_count": 8,
     "metadata": {},
     "output_type": "execute_result"
    }
   ],
   "source": [
    "tuple(x**2 if x%2==0 else -x for x in sample)"
   ]
  },
  {
   "cell_type": "markdown",
   "metadata": {},
   "source": [
    "辞書，集合，タプルの内包表記においても，リスト内包表記と同様のif構文が使用可能です．\n",
    "\n",
    "リスト内包表記は大変便利なので，データ処理において頻繁に利用します．\n",
    "しっかりとマスターしましょう．\n",
    "*****"
   ]
  }
 ],
 "metadata": {
  "kernelspec": {
   "display_name": "Python 3",
   "language": "python",
   "name": "python3"
  },
  "language_info": {
   "codemirror_mode": {
    "name": "ipython",
    "version": 3
   },
   "file_extension": ".py",
   "mimetype": "text/x-python",
   "name": "python",
   "nbconvert_exporter": "python",
   "pygments_lexer": "ipython3",
   "version": "3.6.1"
  }
 },
 "nbformat": 4,
 "nbformat_minor": 2
}
