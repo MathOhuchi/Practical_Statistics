{
 "cells": [
  {
   "cell_type": "markdown",
   "metadata": {},
   "source": [
    "# データフレームの編集\n",
    "\n",
    "pandasのデータフレームの編集について説明します．\n",
    "CSVファイルからデータをインポートしてデータフレームを作成するまでは，直前の内容と同様なので一気に実行します．"
   ]
  },
  {
   "cell_type": "code",
   "execution_count": 1,
   "metadata": {},
   "outputs": [
    {
     "data": {
      "text/html": [
       "<div>\n",
       "<style>\n",
       "    .dataframe thead tr:only-child th {\n",
       "        text-align: right;\n",
       "    }\n",
       "\n",
       "    .dataframe thead th {\n",
       "        text-align: left;\n",
       "    }\n",
       "\n",
       "    .dataframe tbody tr th {\n",
       "        vertical-align: top;\n",
       "    }\n",
       "</style>\n",
       "<table border=\"1\" class=\"dataframe\">\n",
       "  <thead>\n",
       "    <tr style=\"text-align: right;\">\n",
       "      <th></th>\n",
       "      <th>height</th>\n",
       "      <th>weight</th>\n",
       "      <th>age</th>\n",
       "      <th>gender</th>\n",
       "      <th>blood</th>\n",
       "    </tr>\n",
       "    <tr>\n",
       "      <th>person</th>\n",
       "      <th></th>\n",
       "      <th></th>\n",
       "      <th></th>\n",
       "      <th></th>\n",
       "      <th></th>\n",
       "    </tr>\n",
       "  </thead>\n",
       "  <tbody>\n",
       "    <tr>\n",
       "      <th>p01</th>\n",
       "      <td>162.3</td>\n",
       "      <td>55.6</td>\n",
       "      <td>23.0</td>\n",
       "      <td>Male</td>\n",
       "      <td>A</td>\n",
       "    </tr>\n",
       "    <tr>\n",
       "      <th>p02</th>\n",
       "      <td>173.1</td>\n",
       "      <td>62.0</td>\n",
       "      <td>35.0</td>\n",
       "      <td>Male</td>\n",
       "      <td>AB</td>\n",
       "    </tr>\n",
       "    <tr>\n",
       "      <th>p03</th>\n",
       "      <td>158.8</td>\n",
       "      <td>68.5</td>\n",
       "      <td>47.0</td>\n",
       "      <td>Male</td>\n",
       "      <td>B</td>\n",
       "    </tr>\n",
       "    <tr>\n",
       "      <th>p04</th>\n",
       "      <td>120.8</td>\n",
       "      <td>24.3</td>\n",
       "      <td>8.0</td>\n",
       "      <td>Female</td>\n",
       "      <td>NaN</td>\n",
       "    </tr>\n",
       "    <tr>\n",
       "      <th>p05</th>\n",
       "      <td>145.7</td>\n",
       "      <td>37.8</td>\n",
       "      <td>11.0</td>\n",
       "      <td>Female</td>\n",
       "      <td>NaN</td>\n",
       "    </tr>\n",
       "    <tr>\n",
       "      <th>p06</th>\n",
       "      <td>159.2</td>\n",
       "      <td>44.5</td>\n",
       "      <td>13.0</td>\n",
       "      <td>Male</td>\n",
       "      <td>O</td>\n",
       "    </tr>\n",
       "    <tr>\n",
       "      <th>p07</th>\n",
       "      <td>157.5</td>\n",
       "      <td>49.0</td>\n",
       "      <td>18.0</td>\n",
       "      <td>Female</td>\n",
       "      <td>B</td>\n",
       "    </tr>\n",
       "    <tr>\n",
       "      <th>p08</th>\n",
       "      <td>158.9</td>\n",
       "      <td>NaN</td>\n",
       "      <td>NaN</td>\n",
       "      <td></td>\n",
       "      <td>A</td>\n",
       "    </tr>\n",
       "    <tr>\n",
       "      <th>p09</th>\n",
       "      <td>160.4</td>\n",
       "      <td>48.5</td>\n",
       "      <td>30.0</td>\n",
       "      <td>NaN</td>\n",
       "      <td>A</td>\n",
       "    </tr>\n",
       "    <tr>\n",
       "      <th>p10</th>\n",
       "      <td>170.0</td>\n",
       "      <td>77.7</td>\n",
       "      <td>51.0</td>\n",
       "      <td>Male</td>\n",
       "      <td>O</td>\n",
       "    </tr>\n",
       "  </tbody>\n",
       "</table>\n",
       "</div>"
      ],
      "text/plain": [
       "        height  weight   age  gender blood\n",
       "person                                    \n",
       "p01      162.3    55.6  23.0    Male     A\n",
       "p02      173.1    62.0  35.0    Male    AB\n",
       "p03      158.8    68.5  47.0    Male     B\n",
       "p04      120.8    24.3   8.0  Female   NaN\n",
       "p05      145.7    37.8  11.0  Female   NaN\n",
       "p06      159.2    44.5  13.0    Male     O\n",
       "p07      157.5    49.0  18.0  Female     B\n",
       "p08      158.9     NaN   NaN             A\n",
       "p09      160.4    48.5  30.0     NaN     A\n",
       "p10      170.0    77.7  51.0    Male     O"
      ]
     },
     "execution_count": 1,
     "metadata": {},
     "output_type": "execute_result"
    }
   ],
   "source": [
    "import pandas as pd\n",
    "df = pd.read_csv('./sample_data.csv')\n",
    "df = df.set_index('person')\n",
    "df"
   ]
  },
  {
   "cell_type": "markdown",
   "metadata": {},
   "source": [
    "*****\n",
    "## 要素の参照\n",
    "\n",
    "データフレームの中の一つのデータを参照する方法は幾つかあります．\n",
    "ここでは，person='p02'のweightの値を参照します．\n",
    "下記のどの記法を用いても同じ結果を得ることができます．\n",
    "\n",
    "```Python\n",
    "df.weight['p02']\n",
    "df.weight[1]\n",
    "df['weight']['p02']\n",
    "df['weight'][1]\n",
    "```"
   ]
  },
  {
   "cell_type": "code",
   "execution_count": 2,
   "metadata": {},
   "outputs": [
    {
     "data": {
      "text/plain": [
       "62.0"
      ]
     },
     "execution_count": 2,
     "metadata": {},
     "output_type": "execute_result"
    }
   ],
   "source": [
    "df.weight['p02']"
   ]
  },
  {
   "cell_type": "markdown",
   "metadata": {},
   "source": [
    "## 行の参照\n",
    "\n",
    "person='p02'の全てのカラムを表示するには次のどちらかの記載方法をとります．\n",
    "ただし，二つの方法でインデックスの終端についての仕様が異なるので注意してください．\n",
    "\n",
    "```Python\n",
    "df['p02':'p02']\n",
    "df[1:2]\n",
    "```"
   ]
  },
  {
   "cell_type": "code",
   "execution_count": 3,
   "metadata": {},
   "outputs": [
    {
     "data": {
      "text/html": [
       "<div>\n",
       "<style>\n",
       "    .dataframe thead tr:only-child th {\n",
       "        text-align: right;\n",
       "    }\n",
       "\n",
       "    .dataframe thead th {\n",
       "        text-align: left;\n",
       "    }\n",
       "\n",
       "    .dataframe tbody tr th {\n",
       "        vertical-align: top;\n",
       "    }\n",
       "</style>\n",
       "<table border=\"1\" class=\"dataframe\">\n",
       "  <thead>\n",
       "    <tr style=\"text-align: right;\">\n",
       "      <th></th>\n",
       "      <th>height</th>\n",
       "      <th>weight</th>\n",
       "      <th>age</th>\n",
       "      <th>gender</th>\n",
       "      <th>blood</th>\n",
       "    </tr>\n",
       "    <tr>\n",
       "      <th>person</th>\n",
       "      <th></th>\n",
       "      <th></th>\n",
       "      <th></th>\n",
       "      <th></th>\n",
       "      <th></th>\n",
       "    </tr>\n",
       "  </thead>\n",
       "  <tbody>\n",
       "    <tr>\n",
       "      <th>p02</th>\n",
       "      <td>173.1</td>\n",
       "      <td>62.0</td>\n",
       "      <td>35.0</td>\n",
       "      <td>Male</td>\n",
       "      <td>AB</td>\n",
       "    </tr>\n",
       "  </tbody>\n",
       "</table>\n",
       "</div>"
      ],
      "text/plain": [
       "        height  weight   age gender blood\n",
       "person                                   \n",
       "p02      173.1    62.0  35.0   Male    AB"
      ]
     },
     "execution_count": 3,
     "metadata": {},
     "output_type": "execute_result"
    }
   ],
   "source": [
    "df['p02':'p02']"
   ]
  },
  {
   "cell_type": "markdown",
   "metadata": {},
   "source": [
    "これらの行の参照方法は，参照したい行の範囲をインデックスで指定するので複数行を参照することが可能です．\n",
    "\n",
    "```Python\n",
    "df['p05':'p06']\n",
    "```"
   ]
  },
  {
   "cell_type": "code",
   "execution_count": 4,
   "metadata": {},
   "outputs": [
    {
     "data": {
      "text/html": [
       "<div>\n",
       "<style>\n",
       "    .dataframe thead tr:only-child th {\n",
       "        text-align: right;\n",
       "    }\n",
       "\n",
       "    .dataframe thead th {\n",
       "        text-align: left;\n",
       "    }\n",
       "\n",
       "    .dataframe tbody tr th {\n",
       "        vertical-align: top;\n",
       "    }\n",
       "</style>\n",
       "<table border=\"1\" class=\"dataframe\">\n",
       "  <thead>\n",
       "    <tr style=\"text-align: right;\">\n",
       "      <th></th>\n",
       "      <th>height</th>\n",
       "      <th>weight</th>\n",
       "      <th>age</th>\n",
       "      <th>gender</th>\n",
       "      <th>blood</th>\n",
       "    </tr>\n",
       "    <tr>\n",
       "      <th>person</th>\n",
       "      <th></th>\n",
       "      <th></th>\n",
       "      <th></th>\n",
       "      <th></th>\n",
       "      <th></th>\n",
       "    </tr>\n",
       "  </thead>\n",
       "  <tbody>\n",
       "    <tr>\n",
       "      <th>p05</th>\n",
       "      <td>145.7</td>\n",
       "      <td>37.8</td>\n",
       "      <td>11.0</td>\n",
       "      <td>Female</td>\n",
       "      <td>NaN</td>\n",
       "    </tr>\n",
       "    <tr>\n",
       "      <th>p06</th>\n",
       "      <td>159.2</td>\n",
       "      <td>44.5</td>\n",
       "      <td>13.0</td>\n",
       "      <td>Male</td>\n",
       "      <td>O</td>\n",
       "    </tr>\n",
       "  </tbody>\n",
       "</table>\n",
       "</div>"
      ],
      "text/plain": [
       "        height  weight   age  gender blood\n",
       "person                                    \n",
       "p05      145.7    37.8  11.0  Female   NaN\n",
       "p06      159.2    44.5  13.0    Male     O"
      ]
     },
     "execution_count": 4,
     "metadata": {},
     "output_type": "execute_result"
    }
   ],
   "source": [
    "df['p05':'p06']"
   ]
  },
  {
   "cell_type": "markdown",
   "metadata": {},
   "source": [
    "## 列の参照\n",
    "\n",
    "一つの列を参照するには，その列の名称だけを指定すれば求まります．\n",
    "ここでは，weightの列を参照しますが，次のどちらの方法でも可能です．\n",
    "\n",
    "```Python\n",
    "df.weight\n",
    "df['weight']\n",
    "```"
   ]
  },
  {
   "cell_type": "code",
   "execution_count": 5,
   "metadata": {},
   "outputs": [
    {
     "data": {
      "text/plain": [
       "person\n",
       "p01    55.6\n",
       "p02    62.0\n",
       "p03    68.5\n",
       "p04    24.3\n",
       "p05    37.8\n",
       "p06    44.5\n",
       "p07    49.0\n",
       "p08     NaN\n",
       "p09    48.5\n",
       "p10    77.7\n",
       "Name: weight, dtype: float64"
      ]
     },
     "execution_count": 5,
     "metadata": {},
     "output_type": "execute_result"
    }
   ],
   "source": [
    "df.weight"
   ]
  },
  {
   "cell_type": "markdown",
   "metadata": {},
   "source": [
    "複数の列を参照する場合は，df[ ] の角括弧の中にリスト配列で列名を与えます．\n",
    "角括弧が2重になることに注意してください．\n",
    "\n",
    "```Python\n",
    "df[['height','weight']]\n",
    "```"
   ]
  },
  {
   "cell_type": "code",
   "execution_count": 6,
   "metadata": {},
   "outputs": [
    {
     "data": {
      "text/html": [
       "<div>\n",
       "<style>\n",
       "    .dataframe thead tr:only-child th {\n",
       "        text-align: right;\n",
       "    }\n",
       "\n",
       "    .dataframe thead th {\n",
       "        text-align: left;\n",
       "    }\n",
       "\n",
       "    .dataframe tbody tr th {\n",
       "        vertical-align: top;\n",
       "    }\n",
       "</style>\n",
       "<table border=\"1\" class=\"dataframe\">\n",
       "  <thead>\n",
       "    <tr style=\"text-align: right;\">\n",
       "      <th></th>\n",
       "      <th>height</th>\n",
       "      <th>weight</th>\n",
       "    </tr>\n",
       "    <tr>\n",
       "      <th>person</th>\n",
       "      <th></th>\n",
       "      <th></th>\n",
       "    </tr>\n",
       "  </thead>\n",
       "  <tbody>\n",
       "    <tr>\n",
       "      <th>p01</th>\n",
       "      <td>162.3</td>\n",
       "      <td>55.6</td>\n",
       "    </tr>\n",
       "    <tr>\n",
       "      <th>p02</th>\n",
       "      <td>173.1</td>\n",
       "      <td>62.0</td>\n",
       "    </tr>\n",
       "    <tr>\n",
       "      <th>p03</th>\n",
       "      <td>158.8</td>\n",
       "      <td>68.5</td>\n",
       "    </tr>\n",
       "    <tr>\n",
       "      <th>p04</th>\n",
       "      <td>120.8</td>\n",
       "      <td>24.3</td>\n",
       "    </tr>\n",
       "    <tr>\n",
       "      <th>p05</th>\n",
       "      <td>145.7</td>\n",
       "      <td>37.8</td>\n",
       "    </tr>\n",
       "    <tr>\n",
       "      <th>p06</th>\n",
       "      <td>159.2</td>\n",
       "      <td>44.5</td>\n",
       "    </tr>\n",
       "    <tr>\n",
       "      <th>p07</th>\n",
       "      <td>157.5</td>\n",
       "      <td>49.0</td>\n",
       "    </tr>\n",
       "    <tr>\n",
       "      <th>p08</th>\n",
       "      <td>158.9</td>\n",
       "      <td>NaN</td>\n",
       "    </tr>\n",
       "    <tr>\n",
       "      <th>p09</th>\n",
       "      <td>160.4</td>\n",
       "      <td>48.5</td>\n",
       "    </tr>\n",
       "    <tr>\n",
       "      <th>p10</th>\n",
       "      <td>170.0</td>\n",
       "      <td>77.7</td>\n",
       "    </tr>\n",
       "  </tbody>\n",
       "</table>\n",
       "</div>"
      ],
      "text/plain": [
       "        height  weight\n",
       "person                \n",
       "p01      162.3    55.6\n",
       "p02      173.1    62.0\n",
       "p03      158.8    68.5\n",
       "p04      120.8    24.3\n",
       "p05      145.7    37.8\n",
       "p06      159.2    44.5\n",
       "p07      157.5    49.0\n",
       "p08      158.9     NaN\n",
       "p09      160.4    48.5\n",
       "p10      170.0    77.7"
      ]
     },
     "execution_count": 6,
     "metadata": {},
     "output_type": "execute_result"
    }
   ],
   "source": [
    "df[['height','weight']]"
   ]
  },
  {
   "cell_type": "markdown",
   "metadata": {},
   "source": [
    "## 要素の値の変更\n",
    "\n",
    "ある一つの値を変更するには，atあるいはlocを使用します．\n",
    "値の参照を使って，df.weight['p02'] = 100.0 のようにするとSettingWithCopyWarningが出ますので，これは避けるようにしましょう．\n",
    "\n",
    "ここでは<font color=green>at</font>属性を使用します．\n",
    "ここではp02のweightを62.0から100.0に変更します．\n",
    "\n",
    "```Python\n",
    "df.at['p02','weight'] = 100.0\n",
    "df.loc['p02','weight'] = 100.0\n",
    "```"
   ]
  },
  {
   "cell_type": "code",
   "execution_count": 7,
   "metadata": {
    "collapsed": true
   },
   "outputs": [],
   "source": [
    "df.at['p02','weight'] = 100.0"
   ]
  },
  {
   "cell_type": "markdown",
   "metadata": {},
   "source": [
    "変更した値を確認します．\n",
    "\n",
    "```Python\n",
    "df.weight['p02']\n",
    "```"
   ]
  },
  {
   "cell_type": "code",
   "execution_count": 8,
   "metadata": {},
   "outputs": [
    {
     "data": {
      "text/plain": [
       "100.0"
      ]
     },
     "execution_count": 8,
     "metadata": {},
     "output_type": "execute_result"
    }
   ],
   "source": [
    "df.weight['p02']"
   ]
  },
  {
   "cell_type": "markdown",
   "metadata": {},
   "source": [
    "## 行の追加\n",
    "\n",
    "新しい行を追加するには<font color=green>at[ ]</font> の角括弧の中に新しい行のインデックスを記載し，等号記号の右辺にその行の値のリストを記載します．\n",
    "この値のリスト配列の長さはカラム数に一致していることが前提となります．\n",
    "\n",
    "```Python\n",
    "df.at['p11'] = [180.0,70.0,None,'Male','A']\n",
    "```"
   ]
  },
  {
   "cell_type": "code",
   "execution_count": 9,
   "metadata": {
    "collapsed": true
   },
   "outputs": [],
   "source": [
    "df.at['p11'] = [180.0,70.0,None,'Male','A']"
   ]
  },
  {
   "cell_type": "markdown",
   "metadata": {},
   "source": [
    "## 行の削除\n",
    "\n",
    "行の削除は，<font color=green>drop()</font>メソッドを使います．\n",
    "このとき，引数に<font color=green>inplace=True</font>を指定する必要があります．\n",
    "この引数は，変更をデータフレームの内部に適用するためのものです．\n",
    "\n",
    "```Python\n",
    "df.drop('p01',inplace=True)\n",
    "```"
   ]
  },
  {
   "cell_type": "code",
   "execution_count": 10,
   "metadata": {
    "collapsed": true
   },
   "outputs": [],
   "source": [
    "df.drop('p01',inplace=True)"
   ]
  },
  {
   "cell_type": "markdown",
   "metadata": {},
   "source": [
    "## インデックスの変更\n",
    "\n",
    "インデックスを変更するには，<font color='green'>rename()</font>メソッドを使用します．\n",
    "ここで引数に指定した <font color='green'>index={'p03':'q03'}</font> がインデックスの 'p03' を 'q03' へ変更することを指示しています．\n",
    "ここでも，オプションの引数として<font color=green>inplace=True</font>を付けてデータフレーム内部での変更にします．\n",
    "\n",
    "```Python\n",
    "df.rename(index={'p03':'q03'},inplace=True)\n",
    "```"
   ]
  },
  {
   "cell_type": "code",
   "execution_count": 11,
   "metadata": {
    "collapsed": true
   },
   "outputs": [],
   "source": [
    "df.rename(index={'p03':'q03'},inplace=True)"
   ]
  },
  {
   "cell_type": "markdown",
   "metadata": {},
   "source": [
    "## 行の値の変更\n",
    "\n",
    "行の値を変更する場合は，行の追加と同じ操作になります．\n",
    "指定するインデックスが既存の値ならば行の変更になり，インデックスが新しい名前ならば追加になります．\n",
    "\n",
    "```Python\n",
    "df.at['q03'] = [155.0,55.0,55,'Female','O']\n",
    "```"
   ]
  },
  {
   "cell_type": "code",
   "execution_count": 12,
   "metadata": {
    "collapsed": true
   },
   "outputs": [],
   "source": [
    "df.at['q03'] = [155.0,55.0,55,'Female','O']"
   ]
  },
  {
   "cell_type": "markdown",
   "metadata": {},
   "source": [
    "行の操作結果を確認します．"
   ]
  },
  {
   "cell_type": "code",
   "execution_count": 13,
   "metadata": {},
   "outputs": [
    {
     "data": {
      "text/html": [
       "<div>\n",
       "<style>\n",
       "    .dataframe thead tr:only-child th {\n",
       "        text-align: right;\n",
       "    }\n",
       "\n",
       "    .dataframe thead th {\n",
       "        text-align: left;\n",
       "    }\n",
       "\n",
       "    .dataframe tbody tr th {\n",
       "        vertical-align: top;\n",
       "    }\n",
       "</style>\n",
       "<table border=\"1\" class=\"dataframe\">\n",
       "  <thead>\n",
       "    <tr style=\"text-align: right;\">\n",
       "      <th></th>\n",
       "      <th>height</th>\n",
       "      <th>weight</th>\n",
       "      <th>age</th>\n",
       "      <th>gender</th>\n",
       "      <th>blood</th>\n",
       "    </tr>\n",
       "    <tr>\n",
       "      <th>person</th>\n",
       "      <th></th>\n",
       "      <th></th>\n",
       "      <th></th>\n",
       "      <th></th>\n",
       "      <th></th>\n",
       "    </tr>\n",
       "  </thead>\n",
       "  <tbody>\n",
       "    <tr>\n",
       "      <th>p02</th>\n",
       "      <td>173.1</td>\n",
       "      <td>100.0</td>\n",
       "      <td>35.0</td>\n",
       "      <td>Male</td>\n",
       "      <td>AB</td>\n",
       "    </tr>\n",
       "    <tr>\n",
       "      <th>q03</th>\n",
       "      <td>155.0</td>\n",
       "      <td>55.0</td>\n",
       "      <td>55.0</td>\n",
       "      <td>Female</td>\n",
       "      <td>O</td>\n",
       "    </tr>\n",
       "    <tr>\n",
       "      <th>p04</th>\n",
       "      <td>120.8</td>\n",
       "      <td>24.3</td>\n",
       "      <td>8.0</td>\n",
       "      <td>Female</td>\n",
       "      <td>NaN</td>\n",
       "    </tr>\n",
       "    <tr>\n",
       "      <th>p05</th>\n",
       "      <td>145.7</td>\n",
       "      <td>37.8</td>\n",
       "      <td>11.0</td>\n",
       "      <td>Female</td>\n",
       "      <td>NaN</td>\n",
       "    </tr>\n",
       "    <tr>\n",
       "      <th>p06</th>\n",
       "      <td>159.2</td>\n",
       "      <td>44.5</td>\n",
       "      <td>13.0</td>\n",
       "      <td>Male</td>\n",
       "      <td>O</td>\n",
       "    </tr>\n",
       "    <tr>\n",
       "      <th>p07</th>\n",
       "      <td>157.5</td>\n",
       "      <td>49.0</td>\n",
       "      <td>18.0</td>\n",
       "      <td>Female</td>\n",
       "      <td>B</td>\n",
       "    </tr>\n",
       "    <tr>\n",
       "      <th>p08</th>\n",
       "      <td>158.9</td>\n",
       "      <td>NaN</td>\n",
       "      <td>NaN</td>\n",
       "      <td></td>\n",
       "      <td>A</td>\n",
       "    </tr>\n",
       "    <tr>\n",
       "      <th>p09</th>\n",
       "      <td>160.4</td>\n",
       "      <td>48.5</td>\n",
       "      <td>30.0</td>\n",
       "      <td>NaN</td>\n",
       "      <td>A</td>\n",
       "    </tr>\n",
       "    <tr>\n",
       "      <th>p10</th>\n",
       "      <td>170.0</td>\n",
       "      <td>77.7</td>\n",
       "      <td>51.0</td>\n",
       "      <td>Male</td>\n",
       "      <td>O</td>\n",
       "    </tr>\n",
       "    <tr>\n",
       "      <th>p11</th>\n",
       "      <td>180.0</td>\n",
       "      <td>70.0</td>\n",
       "      <td>NaN</td>\n",
       "      <td>Male</td>\n",
       "      <td>A</td>\n",
       "    </tr>\n",
       "  </tbody>\n",
       "</table>\n",
       "</div>"
      ],
      "text/plain": [
       "        height  weight   age  gender blood\n",
       "person                                    \n",
       "p02      173.1   100.0  35.0    Male    AB\n",
       "q03      155.0    55.0  55.0  Female     O\n",
       "p04      120.8    24.3   8.0  Female   NaN\n",
       "p05      145.7    37.8  11.0  Female   NaN\n",
       "p06      159.2    44.5  13.0    Male     O\n",
       "p07      157.5    49.0  18.0  Female     B\n",
       "p08      158.9     NaN   NaN             A\n",
       "p09      160.4    48.5  30.0     NaN     A\n",
       "p10      170.0    77.7  51.0    Male     O\n",
       "p11      180.0    70.0   NaN    Male     A"
      ]
     },
     "execution_count": 13,
     "metadata": {},
     "output_type": "execute_result"
    }
   ],
   "source": [
    "df"
   ]
  },
  {
   "cell_type": "markdown",
   "metadata": {},
   "source": [
    "## 列の追加\n",
    "\n",
    "データフレームに後から列を追加することができます．\n",
    "データフレーム名の後に角括弧で新規の列名を記載して列の代入を行います．\n",
    "代入する値に単一の値を指定すると，列の値が全てその値に設定されます．\n",
    "\n",
    "```Python\n",
    "df['zero'] = 0\n",
    "```"
   ]
  },
  {
   "cell_type": "code",
   "execution_count": 14,
   "metadata": {
    "collapsed": true
   },
   "outputs": [],
   "source": [
    "df['zero'] = 0"
   ]
  },
  {
   "cell_type": "markdown",
   "metadata": {},
   "source": [
    "代入する値をリスト配列で指定する場合は，リストの長さをデータフレームの行数に合わせる必要があります．\n",
    "\n",
    "```Python\n",
    "df['group'] = ['a1','b2','c3','d4','e5','f6','g7','h8','i9','j10']\n",
    "```"
   ]
  },
  {
   "cell_type": "code",
   "execution_count": 15,
   "metadata": {
    "collapsed": true
   },
   "outputs": [],
   "source": [
    "df['group'] = ['a1','b2','c3','d4','e5','f6','g7','h8','i9','j10']"
   ]
  },
  {
   "cell_type": "markdown",
   "metadata": {},
   "source": [
    "他の列の計算値を代入する場合は，計算式をそれらの列名を使って記述します．\n",
    "\n",
    "```Python\n",
    "df['bmi'] =round(df.weight/(df.height)**2*10000,1)\n",
    "```"
   ]
  },
  {
   "cell_type": "code",
   "execution_count": 16,
   "metadata": {
    "collapsed": true
   },
   "outputs": [],
   "source": [
    "df['bmi'] =round(df.weight/(df.height)**2*10000,1)"
   ]
  },
  {
   "cell_type": "markdown",
   "metadata": {},
   "source": [
    "## 列の削除\n",
    "\n",
    "列を削除するときも<font color=green>drop()</font>メソッドを使用します．\n",
    "オプション引数として，<font color=green>axis=1</font>および<font color=green>inplae=True</font>を渡すことを忘れないようにしましょう．\n",
    "- axis=1は削除対象が列であることを指定するオプションです．\n",
    "- inplace=Trueは対象のデータフレーム内で削除することを指定するオプションです．\n",
    "\n",
    "```Python\n",
    "df.drop('age',axis=1,inplace=True)\n",
    "```"
   ]
  },
  {
   "cell_type": "code",
   "execution_count": 17,
   "metadata": {
    "collapsed": true
   },
   "outputs": [],
   "source": [
    "df.drop('age',axis=1,inplace=True)"
   ]
  },
  {
   "cell_type": "markdown",
   "metadata": {},
   "source": [
    "列の追加，削除の結果を確認します．\n",
    "新たな列として，zero, group, bmi が追加されていて，ageの列が無くなっています．"
   ]
  },
  {
   "cell_type": "code",
   "execution_count": 18,
   "metadata": {
    "scrolled": true
   },
   "outputs": [
    {
     "data": {
      "text/html": [
       "<div>\n",
       "<style>\n",
       "    .dataframe thead tr:only-child th {\n",
       "        text-align: right;\n",
       "    }\n",
       "\n",
       "    .dataframe thead th {\n",
       "        text-align: left;\n",
       "    }\n",
       "\n",
       "    .dataframe tbody tr th {\n",
       "        vertical-align: top;\n",
       "    }\n",
       "</style>\n",
       "<table border=\"1\" class=\"dataframe\">\n",
       "  <thead>\n",
       "    <tr style=\"text-align: right;\">\n",
       "      <th></th>\n",
       "      <th>height</th>\n",
       "      <th>weight</th>\n",
       "      <th>gender</th>\n",
       "      <th>blood</th>\n",
       "      <th>zero</th>\n",
       "      <th>group</th>\n",
       "      <th>bmi</th>\n",
       "    </tr>\n",
       "    <tr>\n",
       "      <th>person</th>\n",
       "      <th></th>\n",
       "      <th></th>\n",
       "      <th></th>\n",
       "      <th></th>\n",
       "      <th></th>\n",
       "      <th></th>\n",
       "      <th></th>\n",
       "    </tr>\n",
       "  </thead>\n",
       "  <tbody>\n",
       "    <tr>\n",
       "      <th>p02</th>\n",
       "      <td>173.1</td>\n",
       "      <td>100.0</td>\n",
       "      <td>Male</td>\n",
       "      <td>AB</td>\n",
       "      <td>0</td>\n",
       "      <td>a1</td>\n",
       "      <td>33.4</td>\n",
       "    </tr>\n",
       "    <tr>\n",
       "      <th>q03</th>\n",
       "      <td>155.0</td>\n",
       "      <td>55.0</td>\n",
       "      <td>Female</td>\n",
       "      <td>O</td>\n",
       "      <td>0</td>\n",
       "      <td>b2</td>\n",
       "      <td>22.9</td>\n",
       "    </tr>\n",
       "    <tr>\n",
       "      <th>p04</th>\n",
       "      <td>120.8</td>\n",
       "      <td>24.3</td>\n",
       "      <td>Female</td>\n",
       "      <td>NaN</td>\n",
       "      <td>0</td>\n",
       "      <td>c3</td>\n",
       "      <td>16.7</td>\n",
       "    </tr>\n",
       "    <tr>\n",
       "      <th>p05</th>\n",
       "      <td>145.7</td>\n",
       "      <td>37.8</td>\n",
       "      <td>Female</td>\n",
       "      <td>NaN</td>\n",
       "      <td>0</td>\n",
       "      <td>d4</td>\n",
       "      <td>17.8</td>\n",
       "    </tr>\n",
       "    <tr>\n",
       "      <th>p06</th>\n",
       "      <td>159.2</td>\n",
       "      <td>44.5</td>\n",
       "      <td>Male</td>\n",
       "      <td>O</td>\n",
       "      <td>0</td>\n",
       "      <td>e5</td>\n",
       "      <td>17.6</td>\n",
       "    </tr>\n",
       "    <tr>\n",
       "      <th>p07</th>\n",
       "      <td>157.5</td>\n",
       "      <td>49.0</td>\n",
       "      <td>Female</td>\n",
       "      <td>B</td>\n",
       "      <td>0</td>\n",
       "      <td>f6</td>\n",
       "      <td>19.8</td>\n",
       "    </tr>\n",
       "    <tr>\n",
       "      <th>p08</th>\n",
       "      <td>158.9</td>\n",
       "      <td>NaN</td>\n",
       "      <td></td>\n",
       "      <td>A</td>\n",
       "      <td>0</td>\n",
       "      <td>g7</td>\n",
       "      <td>NaN</td>\n",
       "    </tr>\n",
       "    <tr>\n",
       "      <th>p09</th>\n",
       "      <td>160.4</td>\n",
       "      <td>48.5</td>\n",
       "      <td>NaN</td>\n",
       "      <td>A</td>\n",
       "      <td>0</td>\n",
       "      <td>h8</td>\n",
       "      <td>18.9</td>\n",
       "    </tr>\n",
       "    <tr>\n",
       "      <th>p10</th>\n",
       "      <td>170.0</td>\n",
       "      <td>77.7</td>\n",
       "      <td>Male</td>\n",
       "      <td>O</td>\n",
       "      <td>0</td>\n",
       "      <td>i9</td>\n",
       "      <td>26.9</td>\n",
       "    </tr>\n",
       "    <tr>\n",
       "      <th>p11</th>\n",
       "      <td>180.0</td>\n",
       "      <td>70.0</td>\n",
       "      <td>Male</td>\n",
       "      <td>A</td>\n",
       "      <td>0</td>\n",
       "      <td>j10</td>\n",
       "      <td>21.6</td>\n",
       "    </tr>\n",
       "  </tbody>\n",
       "</table>\n",
       "</div>"
      ],
      "text/plain": [
       "        height  weight  gender blood  zero group   bmi\n",
       "person                                                \n",
       "p02      173.1   100.0    Male    AB     0    a1  33.4\n",
       "q03      155.0    55.0  Female     O     0    b2  22.9\n",
       "p04      120.8    24.3  Female   NaN     0    c3  16.7\n",
       "p05      145.7    37.8  Female   NaN     0    d4  17.8\n",
       "p06      159.2    44.5    Male     O     0    e5  17.6\n",
       "p07      157.5    49.0  Female     B     0    f6  19.8\n",
       "p08      158.9     NaN             A     0    g7   NaN\n",
       "p09      160.4    48.5     NaN     A     0    h8  18.9\n",
       "p10      170.0    77.7    Male     O     0    i9  26.9\n",
       "p11      180.0    70.0    Male     A     0   j10  21.6"
      ]
     },
     "execution_count": 18,
     "metadata": {},
     "output_type": "execute_result"
    }
   ],
   "source": [
    "df"
   ]
  },
  {
   "cell_type": "markdown",
   "metadata": {},
   "source": [
    "## 列名の変更\n",
    "\n",
    "列名を変更するには，<font color=green>rename()</font>メソッドを使用します．\n",
    "ここで引数に指定した <font color='green'>columns={'zero':'one'}</font> が列名の 'zero' を 'one' へ変更することを指示しています．\n",
    "ここでも，オプションの引数として<font color=green>inplace=True</font>を付けてデータフレーム内部での変更にします．\n",
    "\n",
    "```Python\n",
    "df.rename(columns={'zero':'one'},inplace=True)\n",
    "```"
   ]
  },
  {
   "cell_type": "code",
   "execution_count": 19,
   "metadata": {
    "collapsed": true
   },
   "outputs": [],
   "source": [
    "df.rename(columns={'zero':'one'},inplace=True)"
   ]
  },
  {
   "cell_type": "markdown",
   "metadata": {},
   "source": [
    "## 列の値の変更\n",
    "\n",
    "列の値を変更は，列の追加と同じ操作になります．\n",
    "列名が既存であれば変更となり，新規であれば追加になります．\n",
    "\n",
    "```Python\n",
    "df.one = 1\n",
    "```"
   ]
  },
  {
   "cell_type": "code",
   "execution_count": 20,
   "metadata": {
    "collapsed": true
   },
   "outputs": [],
   "source": [
    "df.one = 1"
   ]
  },
  {
   "cell_type": "markdown",
   "metadata": {},
   "source": [
    "列についての操作結果を確認します．"
   ]
  },
  {
   "cell_type": "code",
   "execution_count": 21,
   "metadata": {},
   "outputs": [
    {
     "data": {
      "text/html": [
       "<div>\n",
       "<style>\n",
       "    .dataframe thead tr:only-child th {\n",
       "        text-align: right;\n",
       "    }\n",
       "\n",
       "    .dataframe thead th {\n",
       "        text-align: left;\n",
       "    }\n",
       "\n",
       "    .dataframe tbody tr th {\n",
       "        vertical-align: top;\n",
       "    }\n",
       "</style>\n",
       "<table border=\"1\" class=\"dataframe\">\n",
       "  <thead>\n",
       "    <tr style=\"text-align: right;\">\n",
       "      <th></th>\n",
       "      <th>height</th>\n",
       "      <th>weight</th>\n",
       "      <th>gender</th>\n",
       "      <th>blood</th>\n",
       "      <th>one</th>\n",
       "      <th>group</th>\n",
       "      <th>bmi</th>\n",
       "    </tr>\n",
       "    <tr>\n",
       "      <th>person</th>\n",
       "      <th></th>\n",
       "      <th></th>\n",
       "      <th></th>\n",
       "      <th></th>\n",
       "      <th></th>\n",
       "      <th></th>\n",
       "      <th></th>\n",
       "    </tr>\n",
       "  </thead>\n",
       "  <tbody>\n",
       "    <tr>\n",
       "      <th>p02</th>\n",
       "      <td>173.1</td>\n",
       "      <td>100.0</td>\n",
       "      <td>Male</td>\n",
       "      <td>AB</td>\n",
       "      <td>1</td>\n",
       "      <td>a1</td>\n",
       "      <td>33.4</td>\n",
       "    </tr>\n",
       "    <tr>\n",
       "      <th>q03</th>\n",
       "      <td>155.0</td>\n",
       "      <td>55.0</td>\n",
       "      <td>Female</td>\n",
       "      <td>O</td>\n",
       "      <td>1</td>\n",
       "      <td>b2</td>\n",
       "      <td>22.9</td>\n",
       "    </tr>\n",
       "    <tr>\n",
       "      <th>p04</th>\n",
       "      <td>120.8</td>\n",
       "      <td>24.3</td>\n",
       "      <td>Female</td>\n",
       "      <td>NaN</td>\n",
       "      <td>1</td>\n",
       "      <td>c3</td>\n",
       "      <td>16.7</td>\n",
       "    </tr>\n",
       "    <tr>\n",
       "      <th>p05</th>\n",
       "      <td>145.7</td>\n",
       "      <td>37.8</td>\n",
       "      <td>Female</td>\n",
       "      <td>NaN</td>\n",
       "      <td>1</td>\n",
       "      <td>d4</td>\n",
       "      <td>17.8</td>\n",
       "    </tr>\n",
       "    <tr>\n",
       "      <th>p06</th>\n",
       "      <td>159.2</td>\n",
       "      <td>44.5</td>\n",
       "      <td>Male</td>\n",
       "      <td>O</td>\n",
       "      <td>1</td>\n",
       "      <td>e5</td>\n",
       "      <td>17.6</td>\n",
       "    </tr>\n",
       "    <tr>\n",
       "      <th>p07</th>\n",
       "      <td>157.5</td>\n",
       "      <td>49.0</td>\n",
       "      <td>Female</td>\n",
       "      <td>B</td>\n",
       "      <td>1</td>\n",
       "      <td>f6</td>\n",
       "      <td>19.8</td>\n",
       "    </tr>\n",
       "    <tr>\n",
       "      <th>p08</th>\n",
       "      <td>158.9</td>\n",
       "      <td>NaN</td>\n",
       "      <td></td>\n",
       "      <td>A</td>\n",
       "      <td>1</td>\n",
       "      <td>g7</td>\n",
       "      <td>NaN</td>\n",
       "    </tr>\n",
       "    <tr>\n",
       "      <th>p09</th>\n",
       "      <td>160.4</td>\n",
       "      <td>48.5</td>\n",
       "      <td>NaN</td>\n",
       "      <td>A</td>\n",
       "      <td>1</td>\n",
       "      <td>h8</td>\n",
       "      <td>18.9</td>\n",
       "    </tr>\n",
       "    <tr>\n",
       "      <th>p10</th>\n",
       "      <td>170.0</td>\n",
       "      <td>77.7</td>\n",
       "      <td>Male</td>\n",
       "      <td>O</td>\n",
       "      <td>1</td>\n",
       "      <td>i9</td>\n",
       "      <td>26.9</td>\n",
       "    </tr>\n",
       "    <tr>\n",
       "      <th>p11</th>\n",
       "      <td>180.0</td>\n",
       "      <td>70.0</td>\n",
       "      <td>Male</td>\n",
       "      <td>A</td>\n",
       "      <td>1</td>\n",
       "      <td>j10</td>\n",
       "      <td>21.6</td>\n",
       "    </tr>\n",
       "  </tbody>\n",
       "</table>\n",
       "</div>"
      ],
      "text/plain": [
       "        height  weight  gender blood  one group   bmi\n",
       "person                                               \n",
       "p02      173.1   100.0    Male    AB    1    a1  33.4\n",
       "q03      155.0    55.0  Female     O    1    b2  22.9\n",
       "p04      120.8    24.3  Female   NaN    1    c3  16.7\n",
       "p05      145.7    37.8  Female   NaN    1    d4  17.8\n",
       "p06      159.2    44.5    Male     O    1    e5  17.6\n",
       "p07      157.5    49.0  Female     B    1    f6  19.8\n",
       "p08      158.9     NaN             A    1    g7   NaN\n",
       "p09      160.4    48.5     NaN     A    1    h8  18.9\n",
       "p10      170.0    77.7    Male     O    1    i9  26.9\n",
       "p11      180.0    70.0    Male     A    1   j10  21.6"
      ]
     },
     "execution_count": 21,
     "metadata": {},
     "output_type": "execute_result"
    }
   ],
   "source": [
    "df"
   ]
  },
  {
   "cell_type": "markdown",
   "metadata": {},
   "source": [
    "以上でデータフレーム内の操作が出来るようになります．\n",
    "\n",
    "*****"
   ]
  }
 ],
 "metadata": {
  "kernelspec": {
   "display_name": "Python 3",
   "language": "python",
   "name": "python3"
  },
  "language_info": {
   "codemirror_mode": {
    "name": "ipython",
    "version": 3
   },
   "file_extension": ".py",
   "mimetype": "text/x-python",
   "name": "python",
   "nbconvert_exporter": "python",
   "pygments_lexer": "ipython3",
   "version": "3.6.1"
  }
 },
 "nbformat": 4,
 "nbformat_minor": 2
}
