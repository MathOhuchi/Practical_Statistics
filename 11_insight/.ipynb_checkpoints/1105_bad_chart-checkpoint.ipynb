{
 "cells": [
  {
   "cell_type": "markdown",
   "metadata": {},
   "source": [
    "# 誤った考察\n",
    "\n",
    "適切なグラフは，深い洞察を導いてくれます．\n",
    "しかし，不適切なグラフを作成すると，誤った考察を誘導してしまう危険があります．"
   ]
  },
  {
   "cell_type": "markdown",
   "metadata": {},
   "source": [
    "下記のデータは，ある会社の月次の売上を表しています．\n",
    "このデータをグラフ化して，そのグラフを見て考察を考えます．\n",
    "\n",
    "|month| Jan | Feb | Mar | Apr | May | Jun |\n",
    "|:---:|:---:|:---:|:---:|:---:|:---:|:---:|\n",
    "|**sales** (百万円)|984.7|984.4|984.5|984.6|984.7|984.8|"
   ]
  },
  {
   "cell_type": "markdown",
   "metadata": {},
   "source": [
    "このデータをグラフにします．\n",
    "グラフはmatplotlibの<font color='green'>bar()</font>関数によって作成します．\n",
    "\n",
    "このグラフは，意図的に作成されたグラフです．\n",
    "注意深く観察して，このグラフに隠された罠を確認しましょう．"
   ]
  },
  {
   "cell_type": "code",
   "execution_count": 1,
   "metadata": {
    "collapsed": true
   },
   "outputs": [],
   "source": [
    "import numpy as np\n",
    "import pandas as pd\n",
    "import matplotlib.pyplot as plt\n",
    "%matplotlib inline"
   ]
  },
  {
   "cell_type": "code",
   "execution_count": 2,
   "metadata": {},
   "outputs": [],
   "source": [
    "left = [1,2,3,4,5,6]\n",
    "month = ['Jan','Feb','Mar','Apr','May','Jun']\n",
    "sales = np.array([984.7,984.4,984.5,984.6,984.7,984.8])\n",
    "base = np.array([984,984,984,984,984,984])\n",
    "height = sales-base"
   ]
  },
  {
   "cell_type": "code",
   "execution_count": 3,
   "metadata": {},
   "outputs": [
    {
     "data": {
      "image/png": "[encoded data removed]",
      "text/plain": [
       "<matplotlib.figure.Figure at 0x15500fd4b70>"
      ]
     },
     "metadata": {},
     "output_type": "display_data"
    }
   ],
   "source": [
    "plt.bar(left,height,bottom=base,tick_label=month,align='center')\n",
    "plt.title('Monthly sales actual')\n",
    "plt.xlabel('Month')\n",
    "plt.ylabel('Sales (million yen)')\n",
    "plt.show()"
   ]
  },
  {
   "cell_type": "markdown",
   "metadata": {},
   "source": [
    "*****\n",
    "## グラフ解釈の悪い例\n",
    "\n",
    "【考察】\n",
    "- 売上が2月以降順調に伸びており，売上拡大傾向にある．\n",
    "- 1月から2月にかけて売上が落ち込んでいるのは，正月の特需および2月が営業日が少ないためである．\n",
    "\n",
    "この考察では，売り上げが伸びていること，および，2月の売上が少ないことに問題が無いことを主張しています．\n",
    "しかし，このグラフおよび考察が報告を受けた者に誤解を与えることになります．"
   ]
  },
  {
   "cell_type": "markdown",
   "metadata": {},
   "source": [
    "## グラフの問題点\n",
    "\n",
    "このグラフの問題点は，グラフの底辺が984百万円になっていることです．\n",
    "これにより，グラフ上部の小さな変化を大きく見せていることです．\n",
    "\n",
    "具体的には，この期間の最大値は98,480万円で最小値は98,440万円なので，差額は40万円です．\n",
    "月々の売上がほぼ10億円なので，振れ幅は約0.04%しかありません．"
   ]
  },
  {
   "cell_type": "markdown",
   "metadata": {},
   "source": [
    "## 正しい例\n",
    "\n",
    "【考察】\n",
    "- 毎月の売上は安定して，9億8千万円台を維持している．\n",
    "- 売上は拡大も縮小もしていない．\n",
    "\n",
    "実際にグラフの底辺を0円にした図を描くと，下図のようになります．\n",
    "明らかに一定の値が続いていることが分かります．"
   ]
  },
  {
   "cell_type": "code",
   "execution_count": 4,
   "metadata": {},
   "outputs": [
    {
     "data": {
      "image/png": "[encoded data removed]",
      "text/plain": [
       "<matplotlib.figure.Figure at 0x15500ff6320>"
      ]
     },
     "metadata": {},
     "output_type": "display_data"
    }
   ],
   "source": [
    "plt.bar(left,sales,tick_label=month,align='center')\n",
    "plt.title('Monthly sales actual')\n",
    "plt.xlabel('Month')\n",
    "plt.ylabel('Sales (million yen)')\n",
    "plt.show()"
   ]
  },
  {
   "cell_type": "markdown",
   "metadata": {},
   "source": [
    "このように誤った考察を導かないためにも適切なグラフを作成しなければなりません．\n",
    "\n",
    "*****"
   ]
  }
 ],
 "metadata": {
  "kernelspec": {
   "display_name": "Python 3",
   "language": "python",
   "name": "python3"
  },
  "language_info": {
   "codemirror_mode": {
    "name": "ipython",
    "version": 3
   },
   "file_extension": ".py",
   "mimetype": "text/x-python",
   "name": "python",
   "nbconvert_exporter": "python",
   "pygments_lexer": "ipython3",
   "version": "3.7.4"
  }
 },
 "nbformat": 4,
 "nbformat_minor": 2
}
