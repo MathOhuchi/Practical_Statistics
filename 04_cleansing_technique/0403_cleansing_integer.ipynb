{
 "cells": [
  {
   "cell_type": "markdown",
   "metadata": {},
   "source": [
    "# 整数データのクレンジング\n",
    "\n",
    "整数値データを綺麗にするクレンジングについて学習します．\n",
    "電子化されたオリジナルデータのデータ型が数値型になっている場合は，その時点である程度クリーンなデータであると言えます．\n",
    "オリジナルデータが文字列型の場合，数値化することを前提にクレンジングを行う必要があります．\n",
    "具体的な整数データの例として，年齢データについてクレンジングを行っていきます．\n",
    "\n",
    "年齢のデータは正の整数と考えて良いでしょう．\n",
    "最小値が0歳で最大値は100歳前後になるでしょう．\n",
    "前提として数字は洋数字とし，漢数字での記載は無効とします．\n",
    "漢数字の洋数字への変換は複雑で込み入っていますので，洋数字だけに限定します．"
   ]
  },
  {
   "cell_type": "markdown",
   "metadata": {},
   "source": [
    "## 練習用データ\n",
    "\n",
    "クレンジングの練習用に年齢を記載した簡単なデータをPythonのリスト配列で用意します．\n",
    "これらのデータの内容としては，年齢を文字で記載することを想定しています．\n",
    "\n",
    "年齢の場合，'17歳'や'17才'のように数字の後に漢字を付けて書くことがありますで，これも考慮することにします．\n",
    "\n",
    "```Python\n",
    "ageData = ['27','18','33','42','55歳','167','５０',' 22 ','６　','２９才','二十五','秘密','08']\n",
    "```"
   ]
  },
  {
   "cell_type": "code",
   "execution_count": 1,
   "metadata": {
    "collapsed": true
   },
   "outputs": [],
   "source": [
    "ageData = ['27','18','33','42','55歳','167','５０',' 22 ','６　','２９才','二十五','秘密','08']"
   ]
  },
  {
   "cell_type": "markdown",
   "metadata": {},
   "source": [
    "まず，データの件数を確認します．\n",
    "これは<font color=green>len()</font>関数で求まります．\n",
    "\n",
    "```Python\n",
    "len(ageData)\n",
    "```"
   ]
  },
  {
   "cell_type": "code",
   "execution_count": 2,
   "metadata": {
    "scrolled": true
   },
   "outputs": [
    {
     "data": {
      "text/plain": [
       "13"
      ]
     },
     "execution_count": 2,
     "metadata": {},
     "output_type": "execute_result"
    }
   ],
   "source": [
    "len(ageData)"
   ]
  },
  {
   "cell_type": "markdown",
   "metadata": {},
   "source": [
    "## 文字列から整数への変換\n",
    "\n",
    "Pythonには，文字列から整数へ変換する関数として<font color=green>int()</font>があります．\n",
    "この変換を行う前に，数値変換の可能性を確認する必要があります．\n",
    "漢数字は除外する前提なので，数値化の可能性をチェックするには文字列の<font color=green>isdecimal()</font>メソッドを使用します．\n",
    "この文字列が数値化かのうならばTrueが返ってきて，ダメならばFalseが返ってきます．\n",
    "まず例として，変数fooに文字列で'10'が代入されている場合を確認します．\n",
    "\n",
    "```Python\n",
    "foo = '10'\n",
    "foo.isdecimal()\n",
    "```"
   ]
  },
  {
   "cell_type": "code",
   "execution_count": 3,
   "metadata": {},
   "outputs": [
    {
     "data": {
      "text/plain": [
       "True"
      ]
     },
     "execution_count": 3,
     "metadata": {},
     "output_type": "execute_result"
    }
   ],
   "source": [
    "foo = '10'\n",
    "foo.isdecimal()"
   ]
  },
  {
   "cell_type": "markdown",
   "metadata": {},
   "source": [
    "このようにisdecimal()メソッドの結果としてTrueが返ってきましたので，この変数を数値化することができます．\n",
    "対象は整数ですのでint()関数で変換します．\n",
    "\n",
    "```Python\n",
    "int(foo)\n",
    "```"
   ]
  },
  {
   "cell_type": "code",
   "execution_count": 4,
   "metadata": {},
   "outputs": [
    {
     "data": {
      "text/plain": [
       "10"
      ]
     },
     "execution_count": 4,
     "metadata": {},
     "output_type": "execute_result"
    }
   ],
   "source": [
    "int(foo)"
   ]
  },
  {
   "cell_type": "markdown",
   "metadata": {},
   "source": [
    "### 全角の洋数字\n",
    "\n",
    "さて，同じ洋数字でも半角と全角の両方の可能性があります．\n",
    "今度は，値が'１０'と全角で記載されている場合について確認します．\n",
    "\n",
    "```Python\n",
    "foo = '２５'\n",
    "foo.isdecimal()\n",
    "```"
   ]
  },
  {
   "cell_type": "code",
   "execution_count": 5,
   "metadata": {},
   "outputs": [
    {
     "data": {
      "text/plain": [
       "True"
      ]
     },
     "execution_count": 5,
     "metadata": {},
     "output_type": "execute_result"
    }
   ],
   "source": [
    "foo = '２５'\n",
    "foo.isdecimal()"
   ]
  },
  {
   "cell_type": "markdown",
   "metadata": {},
   "source": [
    "ただし，全角の数字の後に空白文字がある場合は，Falseとなり数値と見なされません．"
   ]
  },
  {
   "cell_type": "code",
   "execution_count": 6,
   "metadata": {},
   "outputs": [
    {
     "data": {
      "text/plain": [
       "False"
      ]
     },
     "execution_count": 6,
     "metadata": {},
     "output_type": "execute_result"
    }
   ],
   "source": [
    "foo = '２５ '\n",
    "foo.isdecimal()"
   ]
  },
  {
   "cell_type": "markdown",
   "metadata": {},
   "source": [
    "したがって，isdecimal()による判定のためには空白文字を削除する必要があります．\n",
    "しかし，int()関数では全角の空白文字があっても適切に変換を行ってくれます．\n",
    "このような，仕様の差異には要注意です．"
   ]
  },
  {
   "cell_type": "code",
   "execution_count": 7,
   "metadata": {},
   "outputs": [
    {
     "data": {
      "text/plain": [
       "25"
      ]
     },
     "execution_count": 7,
     "metadata": {},
     "output_type": "execute_result"
    }
   ],
   "source": [
    "int(foo)"
   ]
  },
  {
   "cell_type": "markdown",
   "metadata": {},
   "source": [
    "### 前後の空白文字\n",
    "\n",
    "数字の前後に空白文字が入っている場合の影響について確認します．\n",
    "次の例は半角の数字の前後に半角のブランクが入っているケースです．\n",
    "この変数に対して，そのままint()関数で変化を行います．\n",
    "\n",
    "```Python\n",
    "foo = ' 7 '\n",
    "int(foo)\n",
    "```"
   ]
  },
  {
   "cell_type": "code",
   "execution_count": 8,
   "metadata": {},
   "outputs": [
    {
     "data": {
      "text/plain": [
       "7"
      ]
     },
     "execution_count": 8,
     "metadata": {},
     "output_type": "execute_result"
    }
   ],
   "source": [
    "foo = ' 7 '\n",
    "int(foo)"
   ]
  },
  {
   "cell_type": "markdown",
   "metadata": {},
   "source": [
    "このように，前後の空白についてはint()関数が削除して変換を行ってくれます．\n",
    "さらに，空白文字が全角であっても同様に処理してくれます．\n",
    "\n",
    "しかし，整数への変換を行う前に文字列が数値であるかの判定が必要で，そこでisdecimal()メソッドの返り値がFalseとなってしまいます．\n",
    "よって，前後の空白の削除処理はisdecimal()メソッドより前に必要となります．\n",
    "\n",
    "```Python\n",
    "foo ='　８　'\n",
    "foo.strip()\n",
    "int(foo)\n",
    "```"
   ]
  },
  {
   "cell_type": "code",
   "execution_count": 9,
   "metadata": {},
   "outputs": [
    {
     "data": {
      "text/plain": [
       "8"
      ]
     },
     "execution_count": 9,
     "metadata": {},
     "output_type": "execute_result"
    }
   ],
   "source": [
    "foo ='　８　'\n",
    "foo.strip()\n",
    "int(foo)"
   ]
  },
  {
   "cell_type": "markdown",
   "metadata": {},
   "source": [
    "### 単位（歳，才）の削除\n",
    "\n",
    "さて，年齢の値として'４２歳'のように単位が付いている場合，この'歳'や'才'を削除する必要があります．\n",
    "次の例では，数字の後に'歳'あるいは'才'が付いていたら，これをブランクに置き換えます．\n",
    "この処理は，文字列における<font color=green>replace()</font>メソッドを２回使用することで実現します．\n",
    "\n",
    "```Python\n",
    "foo = '４２歳　'\n",
    "foo.replace('歳','').replace('才','')\n",
    "```"
   ]
  },
  {
   "cell_type": "code",
   "execution_count": 10,
   "metadata": {},
   "outputs": [
    {
     "data": {
      "text/plain": [
       "'４２\\u3000'"
      ]
     },
     "execution_count": 10,
     "metadata": {},
     "output_type": "execute_result"
    }
   ],
   "source": [
    "foo = '４２歳　'\n",
    "foo.replace('歳','').replace('才','')"
   ]
  },
  {
   "cell_type": "markdown",
   "metadata": {},
   "source": [
    "### 空白文字の対応\n",
    "\n",
    "空白文字を代入した変数について数値化の確認を行うと，次に示すようにFalseになります．\n",
    "\n",
    "```Python\n",
    "foo = ''\n",
    "foo.isdecimal()\n",
    "```"
   ]
  },
  {
   "cell_type": "code",
   "execution_count": 14,
   "metadata": {},
   "outputs": [
    {
     "data": {
      "text/plain": [
       "False"
      ]
     },
     "execution_count": 14,
     "metadata": {},
     "output_type": "execute_result"
    }
   ],
   "source": [
    "foo = ''\n",
    "foo.isdecimal()"
   ]
  },
  {
   "cell_type": "markdown",
   "metadata": {},
   "source": [
    "そこで空白文字をどのように処理するかを決めなければなりません．\n",
    "\n",
    "元々のデータを入力するシステムが数値化まで行ってくれる場合にも，ブランクについては注意が必要です．\n",
    "すなわち，ブランクに対してデフォルト設定されていることがあります．\n",
    "よくあるデフォルトとしては，次の例があります．\n",
    "- 0\n",
    "- -1\n",
    "- 9999のような大きな数値\n",
    "\n",
    "このようにデフォルトが決まっている場合は，その値が入力値であるかデフォルト値であるかの見極めが必要です．\n",
    "\n",
    "このデータについては，空白文字をPythonの<font color=green>None</font>値に置き換えます．\n",
    "None値にする理由は，その後の統計処理で便利なことがあるからです．\n",
    "ただし，データフレームにおける対応では別なNaNという値にすることもあります．"
   ]
  },
  {
   "cell_type": "markdown",
   "metadata": {},
   "source": [
    "### クレンジング処理プログラムのまとめ\n",
    "\n",
    "それでは，リスト配列のageDataに対して，これまで決めた処理を適用します．  \n",
    "プログラムは，リスト内包表記で対応しますが，空白と'歳','才'を除去したところで一旦中間データとして，ageTempに保管します．  \n",
    "その後，ageTempの各要素について，isdecimal()メソッドで数値化の判断をして，数値化できるものについてはint()関数で整数に変換し，そうでないものについてはNoneを割り当てます．\n",
    "\n",
    "```Pyython\n",
    "ageTemp = [value.strip().replace('歳','').replace('才','') for value in ageData]\n",
    "[int(value) if value.isdecimal() else None for value in ageTemp]\n",
    "```"
   ]
  },
  {
   "cell_type": "code",
   "execution_count": 11,
   "metadata": {},
   "outputs": [
    {
     "data": {
      "text/plain": [
       "[27, 18, 33, 42, 55, 167, 50, 22, 6, 29, None, None, 8]"
      ]
     },
     "execution_count": 11,
     "metadata": {},
     "output_type": "execute_result"
    }
   ],
   "source": [
    "ageTemp = [value.strip().replace('歳','').replace('才','') for value in ageData]\n",
    "[int(value) if value.isdecimal() else None for value in ageTemp]"
   ]
  },
  {
   "cell_type": "markdown",
   "metadata": {},
   "source": [
    "確認のために，数値化できなかった文字列を確認します．\n",
    "この例題では件数が少ないので問題ありませんが，<font color=green>set()</font>関数で重複を除いたリストにします．\n",
    "\n",
    "```Python\n",
    "set([value for value in ageTemp if not value.isdecimal()])\n",
    "```"
   ]
  },
  {
   "cell_type": "code",
   "execution_count": 15,
   "metadata": {},
   "outputs": [
    {
     "data": {
      "text/plain": [
       "{'二十五', '秘密'}"
      ]
     },
     "execution_count": 15,
     "metadata": {},
     "output_type": "execute_result"
    }
   ],
   "source": [
    "set([value for value in ageTemp if not value.isdecimal()])"
   ]
  },
  {
   "cell_type": "markdown",
   "metadata": {},
   "source": [
    "漢数字の'二十五'については'25'と変換したいところですが処理が複雑になるため，ここではその他のデータとして扱います．\n",
    "*****"
   ]
  }
 ],
 "metadata": {
  "kernelspec": {
   "display_name": "Python 3",
   "language": "python",
   "name": "python3"
  },
  "language_info": {
   "codemirror_mode": {
    "name": "ipython",
    "version": 3
   },
   "file_extension": ".py",
   "mimetype": "text/x-python",
   "name": "python",
   "nbconvert_exporter": "python",
   "pygments_lexer": "ipython3",
   "version": "3.6.1"
  }
 },
 "nbformat": 4,
 "nbformat_minor": 2
}
