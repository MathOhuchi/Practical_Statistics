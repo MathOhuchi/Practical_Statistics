{
 "cells": [
  {
   "cell_type": "markdown",
   "metadata": {},
   "source": [
    "# カテゴリーデータのクレンジング\n",
    "\n",
    "カテゴリーデータを綺麗にするクレンジングについて学習します．\n",
    "初期データが文字列データで電子化されていることを前提とします．\n",
    "具体的なデータを使ったクレンジングの例として，血液型データについて実施します．\n",
    "まず，血液型データとして許される値を定義します．\n",
    "まず，電子化データとして採用する値を次のように定めます\n",
    "\n",
    "> {'A', 'B', 'O', 'AB', ''}\n",
    "\n",
    "まず，全ての正しい値を半角のアルファベットとします．\n",
    "正式な血液型をA型，B型，O型，AB型の4種類として，それぞれアルファベットのA,B,O,AB で表します．\n",
    "\n",
    "もし，入力システムが制限なしに文字列の記入を可能としていたら，半角アルファベットのA,B,O,AB だけであることは期待できません．\n",
    "そこで，血液型として認識できる文字列を半角アルファベットのA,B,O,AB に変換します．\n",
    "また，未記入あるいは空白文字だけの場合はブランクとします．\n",
    "そして，それ以外の文字列については後で検討するという前提でそのまま残します．\n",
    "その他のデータを保持するため，Pythonにおける最終的なデータ型はstr型のままとし，列挙型にはしません．\n",
    "\n",
    "それでは具体的な例で血液型のクレンジングを行っていきます．"
   ]
  },
  {
   "cell_type": "markdown",
   "metadata": {},
   "source": [
    "### 練習用データ\n",
    "\n",
    "血液型データのクレンジングのための簡単なデータを用意します．\n",
    "このデータは練習用なのでデータ量が少なく，全ての値を目視で確認することができます．\n",
    "しかし，一般的にはデータ量が膨大にな事が多く，全ての値を目視で確認することは困難となります．\n",
    "そこで，データ量が多いという前提でデータクレンジングの方法を説明します．\n",
    "\n",
    "ここでは次のデータを用意します．\n",
    "\n",
    "```Python\n",
    "bloodData =['A','O','B','AB','Z','AA','AO','Ｂ',' B ','　ＡＢ　','Ｏ型','不明','',' ','a','o','b','ab']\n",
    "```"
   ]
  },
  {
   "cell_type": "code",
   "execution_count": 1,
   "metadata": {
    "collapsed": true
   },
   "outputs": [],
   "source": [
    "bloodData =['A','O','B','AB','Z','AA','AO','Ｂ',' B ','　ＡＢ　','Ｏ型','不明','',' ','a','o','b','ab']"
   ]
  },
  {
   "cell_type": "markdown",
   "metadata": {},
   "source": [
    "このデータは文字列のリスト配列になっています．\n",
    "ここでは，これを初期状態としてクレンジングを進めます．  \n",
    "このデータの内容は一目瞭然ですが，通常はデータ量が多くて全てを眺めることが出来ないことが想定されます．\n",
    "\n",
    "まず，最初にデータの件数を調べます．\n",
    "これは<font color=green>len()</font>関数で求まります．\n",
    "\n",
    "```Python\n",
    "len(bloodData)\n",
    "```"
   ]
  },
  {
   "cell_type": "code",
   "execution_count": 2,
   "metadata": {},
   "outputs": [
    {
     "data": {
      "text/plain": [
       "18"
      ]
     },
     "execution_count": 2,
     "metadata": {},
     "output_type": "execute_result"
    }
   ],
   "source": [
    "len(bloodData)"
   ]
  },
  {
   "cell_type": "markdown",
   "metadata": {},
   "source": [
    "データの中身を少しでも目視で確認することは，データに対する洞察として重要です．\n",
    "そこで，この血液型データの中身を覗いてみます．\n",
    "\n",
    "このデータはPythonの標準的なリスト配列になっています．\n",
    "リスト配列の参照方法ですが，変数名の後ろに角括弧でインデックスの番号を記載します．\n",
    "そして，配列の最初のインデックスはゼロから始まります．\n",
    "したがって，最初の値を見るには次のようにします．\n",
    "\n",
    "```Python\n",
    "bloodData[0]\n",
    "```"
   ]
  },
  {
   "cell_type": "code",
   "execution_count": 3,
   "metadata": {},
   "outputs": [
    {
     "data": {
      "text/plain": [
       "'A'"
      ]
     },
     "execution_count": 3,
     "metadata": {},
     "output_type": "execute_result"
    }
   ],
   "source": [
    "bloodData[0]"
   ]
  },
  {
   "cell_type": "markdown",
   "metadata": {},
   "source": [
    "また，配列の最後尾の要素を参照する場合は，インデックスに-1を指定します．\n",
    "\n",
    "```Python\n",
    "bloodData[-1]\n",
    "```"
   ]
  },
  {
   "cell_type": "code",
   "execution_count": 4,
   "metadata": {},
   "outputs": [
    {
     "data": {
      "text/plain": [
       "'ab'"
      ]
     },
     "execution_count": 4,
     "metadata": {},
     "output_type": "execute_result"
    }
   ],
   "source": [
    "bloodData[-1]"
   ]
  },
  {
   "cell_type": "markdown",
   "metadata": {},
   "source": [
    "一つの値だけではなく，連続する幾つもの値を参照する場合は，変数名の後に角括弧の中に最初のインデックスと最後のインデックスの次の値をコロンを挟んで記載します．\n",
    "例えば，先頭から3個目までの配列の値は次のようにします．\n",
    "\n",
    "```Python\n",
    "bloodData[0:3]\n",
    "```\n",
    "\n",
    "また，このインデックスの記載において，先頭のゼロを省略することができます．\n",
    "次のように記述しても同じ結果を得ることができます．\n",
    "\n",
    "```Python\n",
    "bloodData[:3]\n",
    "```"
   ]
  },
  {
   "cell_type": "code",
   "execution_count": 5,
   "metadata": {},
   "outputs": [
    {
     "data": {
      "text/plain": [
       "['A', 'O', 'B']"
      ]
     },
     "execution_count": 5,
     "metadata": {},
     "output_type": "execute_result"
    }
   ],
   "source": [
    "bloodData[:3]"
   ]
  },
  {
   "cell_type": "markdown",
   "metadata": {},
   "source": [
    "また，データの最後尾から数個の要素を参照する場合は，負のインデックスを記載します．\n",
    "最後の3個の要素を参照する場合は，bloodData[-3:-1] としますが，この記述において-1を省略することができます．\n",
    "\n",
    "```Python\n",
    "bloodData[-3:]\n",
    "```"
   ]
  },
  {
   "cell_type": "code",
   "execution_count": 6,
   "metadata": {},
   "outputs": [
    {
     "data": {
      "text/plain": [
       "['o', 'b', 'ab']"
      ]
     },
     "execution_count": 6,
     "metadata": {},
     "output_type": "execute_result"
    }
   ],
   "source": [
    "bloodData[-3:]"
   ]
  },
  {
   "cell_type": "markdown",
   "metadata": {},
   "source": [
    "### 記載されている値の集合\n",
    "\n",
    "オリジナルの血液型データに記載されている値の集合は<font color=green>set()</font>関数によって一覧のリスト配列にすることができます．\n",
    "\n",
    "```Python\n",
    "set(bloodData)\n",
    "```"
   ]
  },
  {
   "cell_type": "code",
   "execution_count": 7,
   "metadata": {},
   "outputs": [
    {
     "data": {
      "text/plain": [
       "{'',\n",
       " ' ',\n",
       " ' B ',\n",
       " 'A',\n",
       " 'AA',\n",
       " 'AB',\n",
       " 'AO',\n",
       " 'B',\n",
       " 'O',\n",
       " 'Z',\n",
       " 'a',\n",
       " 'ab',\n",
       " 'b',\n",
       " 'o',\n",
       " '\\u3000ＡＢ\\u3000',\n",
       " '不明',\n",
       " 'Ｂ',\n",
       " 'Ｏ型'}"
      ]
     },
     "execution_count": 7,
     "metadata": {},
     "output_type": "execute_result"
    }
   ],
   "source": [
    "set(bloodData)"
   ]
  },
  {
   "cell_type": "markdown",
   "metadata": {},
   "source": [
    "血液型データが理想的な表現になっているならば，それらの重複を除いた値は，{'A', 'B', 'O', 'AB', '' } の5種類になるはずです．\n",
    "set()関数の実行結果から，値の重複を除いた個数が想定以上になっています．\n",
    "したがって，これらの値を適正に修正する必要が認められます．"
   ]
  },
  {
   "cell_type": "markdown",
   "metadata": {},
   "source": [
    "### 小文字から大文字への統一\n",
    "\n",
    "この血液型データの値を見ると，大文字のA,B,O,AB の他に小文字のa,b,o,ab も存在しているようです．\n",
    "そこで，それらを全て大文字に統一します．\n",
    "文字データを小文字から大文字に変換するには<font color=green>upper()</font>メソッドを使用します．\n",
    "次の命令文では，小文字の english を大文字の ENGLISH に変換します．\n",
    "\n",
    "```Python\n",
    "foo = 'english'\n",
    "foo.upper()\n",
    "```"
   ]
  },
  {
   "cell_type": "code",
   "execution_count": 8,
   "metadata": {},
   "outputs": [
    {
     "data": {
      "text/plain": [
       "'ENGLISH'"
      ]
     },
     "execution_count": 8,
     "metadata": {},
     "output_type": "execute_result"
    }
   ],
   "source": [
    "foo = 'english'\n",
    "foo.upper()"
   ]
  },
  {
   "cell_type": "markdown",
   "metadata": {},
   "source": [
    "この大文字への変換をリスト配列の全ての要素に適用するには，次のようにリスト内包表記で処理を行います．\n",
    "\n",
    "```Python\n",
    "[value.upper() for value in bloodData]\n",
    "```"
   ]
  },
  {
   "cell_type": "code",
   "execution_count": 9,
   "metadata": {},
   "outputs": [
    {
     "data": {
      "text/plain": [
       "['A',\n",
       " 'O',\n",
       " 'B',\n",
       " 'AB',\n",
       " 'Z',\n",
       " 'AA',\n",
       " 'AO',\n",
       " 'Ｂ',\n",
       " ' B ',\n",
       " '\\u3000ＡＢ\\u3000',\n",
       " 'Ｏ型',\n",
       " '不明',\n",
       " '',\n",
       " ' ',\n",
       " 'A',\n",
       " 'O',\n",
       " 'B',\n",
       " 'AB']"
      ]
     },
     "execution_count": 9,
     "metadata": {},
     "output_type": "execute_result"
    }
   ],
   "source": [
    "[value.upper() for value in bloodData]"
   ]
  },
  {
   "cell_type": "markdown",
   "metadata": {},
   "source": [
    "### 空白文字の削除\n",
    "\n",
    "血液型データの前後に余計な空白文字が付いている可能性があります．\n",
    "これらの空白文字はトラブルの原因にもなりますので，削除します．\n",
    "文字列の前後に付く空白文字を削除するには<font color=green>strip()</font>メソッドを使用します．\n",
    "次の例ではABの前後に付いている複数の空白文字を消しています．\n",
    "\n",
    "```Python\n",
    "foo = ' AB '\n",
    "foo.strip()\n",
    "```"
   ]
  },
  {
   "cell_type": "code",
   "execution_count": 10,
   "metadata": {},
   "outputs": [
    {
     "data": {
      "text/plain": [
       "'AB'"
      ]
     },
     "execution_count": 10,
     "metadata": {},
     "output_type": "execute_result"
    }
   ],
   "source": [
    "foo = ' AB '\n",
    "foo.strip()"
   ]
  },
  {
   "cell_type": "markdown",
   "metadata": {},
   "source": [
    "なお，strip()メソッドは全角の空白文字にも対応しています．\n",
    "\n",
    "リスト配列に対して，前後の空白文字を削除するには次のようにリスト内包表現で処理を行います．\n",
    "\n",
    "```Python\n",
    "\n",
    "```"
   ]
  },
  {
   "cell_type": "code",
   "execution_count": 11,
   "metadata": {},
   "outputs": [
    {
     "data": {
      "text/plain": [
       "['A',\n",
       " 'O',\n",
       " 'B',\n",
       " 'AB',\n",
       " 'Z',\n",
       " 'AA',\n",
       " 'AO',\n",
       " 'Ｂ',\n",
       " 'B',\n",
       " 'ＡＢ',\n",
       " 'Ｏ型',\n",
       " '不明',\n",
       " '',\n",
       " '',\n",
       " 'a',\n",
       " 'o',\n",
       " 'b',\n",
       " 'ab']"
      ]
     },
     "execution_count": 11,
     "metadata": {},
     "output_type": "execute_result"
    }
   ],
   "source": [
    "[value.strip() for value in bloodData]"
   ]
  },
  {
   "cell_type": "markdown",
   "metadata": {},
   "source": [
    "### 全角を半角に統一\n",
    "\n",
    "血液型データの値を全角文字で記載されている場合，この値を半角文字に直す必要があります．\n",
    "例えば，'Ａ'は'A'に矯正します．\n",
    "この処理を実施する方法は色々ありますが，ここでは分かりやすい方法を紹介します．\n",
    "\n",
    "この対応は<font color=green>unicodedata</font>ライブラリーの<font color=green>unicodedata.normalize()</font>関数を利用する方法が明快です．\n",
    "そのためにunicodedataライブラリーを搬入します．\n",
    "\n",
    "```Python\n",
    "import unicodedata\n",
    "```"
   ]
  },
  {
   "cell_type": "code",
   "execution_count": 12,
   "metadata": {
    "collapsed": true
   },
   "outputs": [],
   "source": [
    "import unicodedata"
   ]
  },
  {
   "cell_type": "markdown",
   "metadata": {},
   "source": [
    "まず，normalize()関数の使い方を確認します．\n",
    "この関数は２つの引数を持っています．２番目の引数に変換したい文字列を代入します．\n",
    "第１引数は，変換の規格を指定するもので，私たちは固定で 'NFKC' と記載します．\n",
    "それでは，全角文字の「ＡＢＣＤ０１２３」を半角に変換します．\n",
    "\n",
    "```Python\n",
    "unicodedata.normalize('NFKC','ＡＢＣＤ０１２３')\n",
    "```"
   ]
  },
  {
   "cell_type": "code",
   "execution_count": 13,
   "metadata": {},
   "outputs": [
    {
     "data": {
      "text/plain": [
       "'ABCD0123'"
      ]
     },
     "execution_count": 13,
     "metadata": {},
     "output_type": "execute_result"
    }
   ],
   "source": [
    "unicodedata.normalize('NFKC','ＡＢＣＤ０１２３')"
   ]
  },
  {
   "cell_type": "markdown",
   "metadata": {},
   "source": [
    "血液型データについて，リスト内包表記を用いて，その中でunicodedata.normalize()関数を適用します．\n",
    "\n",
    "```Python\n",
    "[unicodedata.normalize('NFKC',value) for value in bloodData]\n",
    "```"
   ]
  },
  {
   "cell_type": "code",
   "execution_count": 14,
   "metadata": {},
   "outputs": [
    {
     "data": {
      "text/plain": [
       "['A',\n",
       " 'O',\n",
       " 'B',\n",
       " 'AB',\n",
       " 'Z',\n",
       " 'AA',\n",
       " 'AO',\n",
       " 'B',\n",
       " ' B ',\n",
       " ' AB ',\n",
       " 'O型',\n",
       " '不明',\n",
       " '',\n",
       " ' ',\n",
       " 'a',\n",
       " 'o',\n",
       " 'b',\n",
       " 'ab']"
      ]
     },
     "execution_count": 14,
     "metadata": {},
     "output_type": "execute_result"
    }
   ],
   "source": [
    "[unicodedata.normalize('NFKC',value) for value in bloodData]"
   ]
  },
  {
   "cell_type": "markdown",
   "metadata": {},
   "source": [
    "### 全角半角変換，空白文字削除，小文字大文字変換の一括化\n",
    "\n",
    "ここまで3種類のクレンジングについて学習しましたが，これらの処理を個別に行うのではなく一括で実施すれば効率化が図れます．\n",
    "それそれに処理が，リスト内包表記になっているので，これを一つにまとめます．\n",
    "\n",
    "```Python\n",
    "spellCorrectedBloodData = [unicodedata.normalize('NFKC',value).strip().upper() for value in bloodData]\n",
    "```"
   ]
  },
  {
   "cell_type": "code",
   "execution_count": 15,
   "metadata": {
    "collapsed": true
   },
   "outputs": [],
   "source": [
    "spellCorrectedBloodData = [unicodedata.normalize('NFKC',value).strip().upper() for value in bloodData]"
   ]
  },
  {
   "cell_type": "markdown",
   "metadata": {},
   "source": [
    "この結果として，これらのスペル修正を施した結果を変数 spellCorrectedBloodData に保存しました．\n",
    "このデータでクレンジングが十分なのか確認します．"
   ]
  },
  {
   "cell_type": "markdown",
   "metadata": {},
   "source": [
    "### 想定外値の確認\n",
    "\n",
    "血液型データとして，A,B,O,ABおよび空白文字以外の想定外の値の存在について確認します．\n",
    "\n",
    "```Python\n",
    "[value for value in spellCorrectedBloodData if value not in ['A','B','O','AB','']]\n",
    "```"
   ]
  },
  {
   "cell_type": "code",
   "execution_count": 16,
   "metadata": {},
   "outputs": [
    {
     "data": {
      "text/plain": [
       "['Z', 'AA', 'AO', 'O型', '不明']"
      ]
     },
     "execution_count": 16,
     "metadata": {},
     "output_type": "execute_result"
    }
   ],
   "source": [
    "[value for value in spellCorrectedBloodData if value not in ['A','B','O','AB','']]"
   ]
  },
  {
   "cell_type": "markdown",
   "metadata": {},
   "source": [
    "このように想定外の値が5個ありました．\n",
    "それぞれの値について評価します．"
   ]
  },
  {
   "cell_type": "markdown",
   "metadata": {},
   "source": [
    "#### AA，AO，BB，BO\n",
    "想定外の値にある'AA'および'AO'に注目します．\n",
    "これらはA型の詳細です．したがって，これらをA型と見なすのが自然です．\n",
    "ここには出現しませんでしたが，同様に'BB','BO'はB型と見なすことにします．"
   ]
  },
  {
   "cell_type": "markdown",
   "metadata": {},
   "source": [
    "#### A型，B型，O型，AB型\n",
    "想定外の値にある'O型'についても，O型そのものを指しています．\n",
    "このような'A型'，'B型'，'O型'，'AB型'も正しい値として認識するようにします．"
   ]
  },
  {
   "cell_type": "markdown",
   "metadata": {},
   "source": [
    "### 血液型の表記の統一\n",
    "\n",
    "以上の検査で判明した'AO'や'A型'を統一して'A'と表すようにデータを変更します．\n",
    "そのためには，辞書型データを活用して，値のマッピングを行います．\n",
    "このとき，想定外の値にあった'Z'と'不明'についてはそのまま残すこととします．\n",
    "\n",
    "```Python\n",
    "bloodType = {'A型':'A','B型':'B','O型':'O','AB型':'AB','AA':'A','AO':'A','BB':'B','BO':'B'}\n",
    "cleansedBloodData = [bloodType[value] if (value in bloodType.keys()) else value for value in spellCorrectedBloodData]\n",
    "```"
   ]
  },
  {
   "cell_type": "code",
   "execution_count": 17,
   "metadata": {
    "collapsed": true
   },
   "outputs": [],
   "source": [
    "bloodType = {'A型':'A','B型':'B','O型':'O','AB型':'AB','AA':'A','AO':'A','BB':'B','BO':'B'}\n",
    "cleansedBloodData = [bloodType[value] if (value in bloodType.keys()) else value for value in spellCorrectedBloodData]"
   ]
  },
  {
   "cell_type": "markdown",
   "metadata": {},
   "source": [
    "これでクレンジング処理が完了し，その結果を変数cleansedBloodDataに代入しました．\n",
    "念のために，想定外の値を表示してみます．\n",
    "ここでは，血液型の表記統一のための辞書型データのキーを利用します．\n",
    "\n",
    "```Python\n",
    "[value for value in cleansedBloodData if value not in bloodType.keys()]\n",
    "```"
   ]
  },
  {
   "cell_type": "code",
   "execution_count": 18,
   "metadata": {},
   "outputs": [
    {
     "data": {
      "text/plain": [
       "['Z', '不明']"
      ]
     },
     "execution_count": 18,
     "metadata": {},
     "output_type": "execute_result"
    }
   ],
   "source": [
    "[value for value in cleansedBloodData if value not in ['A','B','O','AB','']]"
   ]
  },
  {
   "cell_type": "markdown",
   "metadata": {},
   "source": [
    "最後に，クレンジング済みのデータがどのような値で構成されているかを確認しましょう．\n",
    "取りうる値が限定されているので，データの値の重複を除いて要素を列記すれば確認できます．\n",
    "これは<font color=green>set()</font>関数によって実現できます．\n",
    "\n",
    "```Python\n",
    "set(cleansedBloodData)\n",
    "```"
   ]
  },
  {
   "cell_type": "code",
   "execution_count": 19,
   "metadata": {},
   "outputs": [
    {
     "data": {
      "text/plain": [
       "{'', 'A', 'AB', 'B', 'O', 'Z', '不明'}"
      ]
     },
     "execution_count": 19,
     "metadata": {},
     "output_type": "execute_result"
    }
   ],
   "source": [
    "set(cleansedBloodData)"
   ]
  },
  {
   "cell_type": "markdown",
   "metadata": {},
   "source": [
    "### クレンジング処理プログラムのまとめ\n",
    "\n",
    "これまで，一歩一歩進めてきたクレンジング処理をまとめると，次のプログラムとなります．\n",
    "\n",
    "```Python\n",
    "import unicodedata\n",
    "spellCorrectedBloodData = [unicodedata.normalize('NFKC',value).strip().upper() for value in bloodData]\n",
    "bloodType = {'A型':'A','B型':'B','O型':'O','AB型':'AB','AA':'A','AO':'A','BB':'B','BO':'B'}\n",
    "cleansedBloodData = [bloodType[value] if (value in bloodType.keys()) else value for value in spellCorrectedBloodData]\n",
    "set(cleansedBloodData)\n",
    "```"
   ]
  },
  {
   "cell_type": "code",
   "execution_count": 20,
   "metadata": {
    "scrolled": true
   },
   "outputs": [
    {
     "data": {
      "text/plain": [
       "{'', 'A', 'AB', 'B', 'O', 'Z', '不明'}"
      ]
     },
     "execution_count": 20,
     "metadata": {},
     "output_type": "execute_result"
    }
   ],
   "source": [
    "# 事前に import unicodedata は実施していることとします\n",
    "# 全角を半角に変換し，前後の空白文字を削除し，小文字を大文字に変換\n",
    "spellCorrectedBloodData = [unicodedata.normalize('NFKC',value).strip().upper() for value in bloodData]\n",
    "# 血液型の表記を統一する対応表の定義\n",
    "bloodType = {'A型':'A','B型':'B','O型':'O','AB型':'AB','AA':'A','AO':'A','BB':'B','BO':'B'}\n",
    "# 血液型の表記の統一\n",
    "cleansedBloodData = [bloodType[value] if (value in bloodType.keys()) else value for value in spellCorrectedBloodData]\n",
    "# 出現する値の重複を除いた集合の表示\n",
    "set(cleansedBloodData)"
   ]
  },
  {
   "cell_type": "markdown",
   "metadata": {},
   "source": [
    "最後のset()関数によって，この血液型データには，想定範囲内のデータである {'', 'A', 'AB', 'B', 'O'} および想定外のデータ {'Z', '不明'} が存在する事が分かります．\n",
    "この想定外のデータについて一旦はこのまま残しますが，後々の分析では'invalid'などの値に統一したり，あるいは空白文字と一緒にするなどの変更も考えられます．\n",
    "\n",
    "*****"
   ]
  }
 ],
 "metadata": {
  "kernelspec": {
   "display_name": "Python 3",
   "language": "python",
   "name": "python3"
  },
  "language_info": {
   "codemirror_mode": {
    "name": "ipython",
    "version": 3
   },
   "file_extension": ".py",
   "mimetype": "text/x-python",
   "name": "python",
   "nbconvert_exporter": "python",
   "pygments_lexer": "ipython3",
   "version": "3.6.1"
  }
 },
 "nbformat": 4,
 "nbformat_minor": 2
}
