{
 "cells": [
  {
   "cell_type": "markdown",
   "metadata": {},
   "source": [
    "# 浮動小数点数のクレンジング\n",
    "\n",
    "浮動小数点数について，文字列で記載されているデータを数値化するためのクレンジングについて学習します．\n",
    "ただし，指数部付きの浮動小数点数ではなく単純な小数点付数を扱うものとします．\n",
    "\n",
    "負の数も考慮して，小数点付数の例として温度データをクレンジングします．\n",
    "ただし，温度に単位（℃）は付けないものとします．"
   ]
  },
  {
   "cell_type": "markdown",
   "metadata": {},
   "source": [
    "## 練習用データ\n",
    "\n",
    "クレンジングの練習用データとして，温度を記載したリスト配列を用意します．\n",
    "これらのデータは小数点付数が記載されているつもりですが，全角になっていたり，前後に空白文字が入っている可能性があります．\n",
    "これらの文字データを綺麗にして，最終的には<font color=green>float</font>関数によって，数値に変換します．\n",
    "\n",
    "```Python\n",
    "temperData = ['23.8','-1.5',' 30 ','0','12.5','',' 　','ー８','　‐５．５　','1.2.3','20']\n",
    "```"
   ]
  },
  {
   "cell_type": "code",
   "execution_count": 1,
   "metadata": {
    "collapsed": true
   },
   "outputs": [],
   "source": [
    "temperData = ['23.8','-1.5',' 30 ','0','12.5','',' 　','ー８','　‐５．５　','1.2.3','20']"
   ]
  },
  {
   "cell_type": "markdown",
   "metadata": {},
   "source": [
    "まずは，データ件数を確認します．\n",
    "\n",
    "````Python\n",
    "len(temperData)\n",
    "```"
   ]
  },
  {
   "cell_type": "code",
   "execution_count": 2,
   "metadata": {
    "scrolled": true
   },
   "outputs": [
    {
     "data": {
      "text/plain": [
       "11"
      ]
     },
     "execution_count": 2,
     "metadata": {},
     "output_type": "execute_result"
    }
   ],
   "source": [
    "len(temperData)"
   ]
  },
  {
   "cell_type": "markdown",
   "metadata": {},
   "source": [
    "### 全角から半角への変換\n",
    "\n",
    "データの値が全角文字になっている場合に備えて，全角の数字を半角に変換します．\n",
    "そのために<font color=green>unicodedata</font>ライブラリーを利用します．\n",
    "まず，ライブラリーを搬入します．\n",
    "\n",
    "```Python\n",
    "import unicodedata\n",
    "```"
   ]
  },
  {
   "cell_type": "code",
   "execution_count": 3,
   "metadata": {
    "collapsed": true
   },
   "outputs": [],
   "source": [
    "import unicodedata"
   ]
  },
  {
   "cell_type": "markdown",
   "metadata": {},
   "source": [
    "文字列内の全角文字を半角文字に変換するには，<font color=green>unicodedata.normalize()</font>関数を使用します．\n",
    "ここでは，サンプルとして全角文字列を与えて，その半角文字を求めてみます．\n",
    "\n",
    "```Python\n",
    "sampleData = '１２３．０　ＡＢＣ,－‐―ー＋'\n",
    "unicodedata.normalize('NFKC',sampleData)\n",
    "```"
   ]
  },
  {
   "cell_type": "code",
   "execution_count": 4,
   "metadata": {},
   "outputs": [
    {
     "data": {
      "text/plain": [
       "'123.0 ABC,-‐―ー+'"
      ]
     },
     "execution_count": 4,
     "metadata": {},
     "output_type": "execute_result"
    }
   ],
   "source": [
    "sampleData = '１２３．０　ＡＢＣ,－‐―ー＋'\n",
    "unicodedata.normalize('NFKC',sampleData)"
   ]
  },
  {
   "cell_type": "markdown",
   "metadata": {},
   "source": [
    "このように，ほぼ全角文字を半角に変換できました．\n",
    "これを温度データに適用します．\n",
    "リスト内包表記にっよって対応します．\n",
    "\n",
    "```Python\n",
    "[unicodedata.normalize('NFKC',value) for value in temperData]\n",
    "```"
   ]
  },
  {
   "cell_type": "code",
   "execution_count": 5,
   "metadata": {},
   "outputs": [
    {
     "data": {
      "text/plain": [
       "['23.8', '-1.5', ' 30 ', '0', '12.5', '', '  ', 'ー8', ' ‐5.5 ', '1.2.3', '20']"
      ]
     },
     "execution_count": 5,
     "metadata": {},
     "output_type": "execute_result"
    }
   ],
   "source": [
    "[unicodedata.normalize('NFKC',value) for value in temperData]"
   ]
  },
  {
   "cell_type": "markdown",
   "metadata": {},
   "source": [
    "### マイナス記号に似た記号\n",
    "\n",
    "全角のマイナス記号ですが似たような記号があり，上記の例でも分かるようにハイフンなどの全角文字はマイナス記号ではないので，半角のマイナス記号にはなりません．\n",
    "しかし，全角でマイナス記号を記載する場合，それらの文字にしてしまう過ちが多くあります．\n",
    "そこで，それらも半角のマイナス記号に変換することにします．\n",
    "\n",
    "- －：全角のマイナス記号\n",
    "- ー：カタカナの伸ばし記号\n",
    "- ―：ハイフン\n",
    "\n",
    "このような数値を表現するときに使用されるであろう文字と記号について，<font color=green>str.translate()</font>関数を使用して変換します．\n",
    "そのための手続きとして，変換表を<font color=green>str.maketrans()</font>関数を使って用意します．\n",
    "\n",
    "```Python\n",
    "doubleToSingle = str.maketrans({'‐':'-','―':'-','ー':'-'})\n",
    "[unicodedata.normalize('NFKC',value).translate(doubleToSingle) for value in temperData]\n",
    "```"
   ]
  },
  {
   "cell_type": "code",
   "execution_count": 6,
   "metadata": {},
   "outputs": [
    {
     "data": {
      "text/plain": [
       "['23.8', '-1.5', ' 30 ', '0', '12.5', '', '  ', '-8', ' -5.5 ', '1.2.3', '20']"
      ]
     },
     "execution_count": 6,
     "metadata": {},
     "output_type": "execute_result"
    }
   ],
   "source": [
    "doubleToSingle = str.maketrans({'‐':'-','―':'-','ー':'-'})\n",
    "[unicodedata.normalize('NFKC',value).translate(doubleToSingle) for value in temperData]"
   ]
  },
  {
   "cell_type": "markdown",
   "metadata": {},
   "source": [
    "### 空白文字の削除\n",
    "\n",
    "さらに，数字の前後にある空白文字を<font color=green>strip()</font>メソッドを使って削除します．\n",
    "これらの処理をリスト内包表記で実行した結果を新しい変数に代入します．\n",
    "\n",
    "```Python\n",
    "sTemperData = [value.translate(doubleToSingle).strip() for value in temperData]\n",
    "sTemperData\n",
    "```"
   ]
  },
  {
   "cell_type": "code",
   "execution_count": 7,
   "metadata": {},
   "outputs": [
    {
     "data": {
      "text/plain": [
       "['23.8', '-1.5', '30', '0', '12.5', '', '', '-8', '-5.5', '1.2.3', '20']"
      ]
     },
     "execution_count": 7,
     "metadata": {},
     "output_type": "execute_result"
    }
   ],
   "source": [
    "sTemperData = [unicodedata.normalize('NFKC',value).translate(doubleToSingle).strip() for value in temperData]\n",
    "sTemperData"
   ]
  },
  {
   "cell_type": "markdown",
   "metadata": {},
   "source": [
    "このデータの10番目の値が'1.2.3'となっていることに注意してください．\n",
    "このデータは数字と小数点から出来ていますが，小数点が2か所にあり小数点付数とは言えません．\n",
    "このようなデータをfloat()関数で数値に変換しようとするとエラーになってしまいます．\n",
    "\n",
    "そこで，数値化可能についての判断を行う必要があります．\n",
    "整数の場合は isdecimal()メソッドで判断できましたが，小数点付数の場合は別な方法が求められます．"
   ]
  },
  {
   "cell_type": "markdown",
   "metadata": {},
   "source": [
    "### 正規表現による小数点付数の判断\n",
    "\n",
    "\n",
    "\n",
    "この判断を正規表現を使って実現します．\n",
    "正規表現とは，データのパターンマッチングや置き換えを専門に行うツールです．\n",
    "Pythonでは，正規表現はreライブラリーによって実現します．\n",
    "そこで，reライブラリーをインポートします．\n",
    "\n",
    "```Python\n",
    "import re\n",
    "```"
   ]
  },
  {
   "cell_type": "code",
   "execution_count": 8,
   "metadata": {
    "collapsed": true
   },
   "outputs": [],
   "source": [
    "import re"
   ]
  },
  {
   "cell_type": "markdown",
   "metadata": {},
   "source": [
    "正規表現において，小数点付数と完全一致するパターンは次のようになります．\n",
    "\n",
    "> <font face='courier new' color=blue>^&yen;s\\*([+-]?(&yen;d+&yen;.?&yen;d\\*|&yen;.&yen;d+))&yen;s\\*&#036;</font>\n",
    "\n",
    "このパターンを<font color=green>re.compile</font>関数によって実行モジュールに変換します．\n",
    "\n",
    "```Python\n",
    "floatCheck = re.compile(r'^\\s*([+-]?(\\d+\\.?\\d*|\\.\\d+))\\s*$')\n",
    "```"
   ]
  },
  {
   "cell_type": "code",
   "execution_count": 9,
   "metadata": {
    "collapsed": true
   },
   "outputs": [],
   "source": [
    "floatCheck = re.compile(r'^\\s*([+-]?(\\d+\\.?\\d*|\\.\\d+))\\s*$')"
   ]
  },
  {
   "cell_type": "markdown",
   "metadata": {},
   "source": [
    "ここで生成した変数floatCheck は，パターンマッチングを行うモジュールです．\n",
    "メンバーとして，<font color=green>fullmatch()</font>という完全一致のメソッドがあります．\n",
    "このメソッドの引数に文字列を与えるとマッチング結果を返します．\n",
    "\n",
    "```Python\n",
    "floatCheck.fullmatch('-2.71')\n",
    "```"
   ]
  },
  {
   "cell_type": "code",
   "execution_count": 10,
   "metadata": {},
   "outputs": [
    {
     "data": {
      "text/plain": [
       "<_sre.SRE_Match object; span=(0, 5), match='-2.71'>"
      ]
     },
     "execution_count": 10,
     "metadata": {},
     "output_type": "execute_result"
    }
   ],
   "source": [
    "floatCheck.fullmatch('-2.71')"
   ]
  },
  {
   "cell_type": "markdown",
   "metadata": {},
   "source": [
    "また，小数点数付数ではないと判断された場合は，返り値は何もありません．\n",
    "\n",
    "```Python\n",
    "floatCheck.fullmatch('1.2.3')\n",
    "```"
   ]
  },
  {
   "cell_type": "code",
   "execution_count": 11,
   "metadata": {
    "collapsed": true
   },
   "outputs": [],
   "source": [
    "floatCheck.fullmatch('1.2.3')"
   ]
  },
  {
   "cell_type": "markdown",
   "metadata": {},
   "source": [
    "したがって，この関数の結果をif文にかければ小数点数付数であるか否かの判定ができます．\n",
    "半角文字に変換した温度データのリスト配列の各要素についてfloatCheck()を行い，\n",
    "小数点数付数ならば，<font color=green>float()</font>関数によって数値化し，\n",
    "そうでなければ値を<font color=green>None</font>に置き換えます．\n",
    "\n",
    "```Python\n",
    "[float(value) if floatCheck.fullmatch(value) else None for value in sTemperData]\n",
    "```"
   ]
  },
  {
   "cell_type": "code",
   "execution_count": 12,
   "metadata": {},
   "outputs": [
    {
     "data": {
      "text/plain": [
       "[23.8, -1.5, 30.0, 0.0, 12.5, None, None, -8.0, -5.5, None, 20.0]"
      ]
     },
     "execution_count": 12,
     "metadata": {},
     "output_type": "execute_result"
    }
   ],
   "source": [
    "[float(value) if floatCheck.fullmatch(value) else None for value in sTemperData]"
   ]
  },
  {
   "cell_type": "markdown",
   "metadata": {},
   "source": [
    "### クレンジングプログラムのまとめ\n",
    "\n",
    "小数点数付数のリスト配列に対するクレンジングをまとめると次のようになります．\n",
    "\n",
    "```Python\n",
    "import unicodedata\n",
    "import re\n",
    "doubleToSingle = str.maketrans({'‐':'-','―':'-','ー':'-'})\n",
    "sTemperData = [unicodedata.normalize('NFKC',value).translate(doubleToSingle).strip() for value in temperData]\n",
    "floatCheck = re.compile(r'^\\s*([+-]?(\\d+\\.?\\d*|\\.\\d+))\\s*$')\n",
    "[float(value) if floatCheck.fullmatch(value) else None for value in sTemperData]\n",
    "```"
   ]
  },
  {
   "cell_type": "code",
   "execution_count": 13,
   "metadata": {},
   "outputs": [
    {
     "data": {
      "text/plain": [
       "[23.8, -1.5, 30.0, 0.0, 12.5, None, None, -8.0, -5.5, None, 20.0]"
      ]
     },
     "execution_count": 13,
     "metadata": {},
     "output_type": "execute_result"
    }
   ],
   "source": [
    "# 事前に import unicodedata は実施していることとします\n",
    "# 事前に import re は実施していることとします\n",
    "# マイナス記号に似た全角文字の変換ルール\n",
    "doubleToSingle = str.maketrans({'‐':'-','―':'-','ー':'-'})\n",
    "# 全角を半角に変換し，前後の空白文字を削除する\n",
    "sTemperData = [unicodedata.normalize('NFKC',value).translate(doubleToSingle).strip() for value in temperData]\n",
    "# 正規表現によって小数点数付数か否かの確認を行い，数値化する\n",
    "floatCheck = re.compile(r'^\\s*([+-]?(\\d+\\.?\\d*|\\.\\d+))\\s*$')\n",
    "[float(value) if floatCheck.fullmatch(value) else None for value in sTemperData]"
   ]
  },
  {
   "cell_type": "markdown",
   "metadata": {},
   "source": [
    "このクレンジング結果として，数値化できる値はfloat型に変換し，そうでない値はNoneに置き換えたリスト配列を生成することが出来ました．\n",
    "\n",
    "*****"
   ]
  }
 ],
 "metadata": {
  "kernelspec": {
   "display_name": "Python 3",
   "language": "python",
   "name": "python3"
  },
  "language_info": {
   "codemirror_mode": {
    "name": "ipython",
    "version": 3
   },
   "file_extension": ".py",
   "mimetype": "text/x-python",
   "name": "python",
   "nbconvert_exporter": "python",
   "pygments_lexer": "ipython3",
   "version": "3.6.1"
  }
 },
 "nbformat": 4,
 "nbformat_minor": 2
}
