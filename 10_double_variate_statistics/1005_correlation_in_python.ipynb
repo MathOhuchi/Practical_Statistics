{
 "cells": [
  {
   "cell_type": "markdown",
   "metadata": {},
   "source": [
    "# Pythonによる相関の確認\n",
    "\n",
    "サンプルデータを用いて相関について確認します．\n",
    "確認方法は，次のステップになります．\n",
    "\n",
    "1. 6個の変量からなるデータフレームを作成します．\n",
    "- 基準となる1つの変量と他の変量とのグラフによる比較を行います．\n",
    "    - 2変量の散布図を作成します．\n",
    "    - 散布図上に回帰直線を引きます．\n",
    "    - 相関係数を計算します．\n",
    "\n",
    "これらの結果のグラフから相関の強い/弱い，正/負の違いを確認します．"
   ]
  },
  {
   "cell_type": "markdown",
   "metadata": {},
   "source": [
    "## ライブラリーの搬入\n",
    "\n",
    "必要なライブラリーを搬入します．\n",
    "\n",
    "```Python\n",
    "import pandas as pd\n",
    "from sklearn import linear_model\n",
    "import matplotlib.pyplot as plt\n",
    "%matplotlib inline\n",
    "```"
   ]
  },
  {
   "cell_type": "code",
   "execution_count": 1,
   "metadata": {},
   "outputs": [],
   "source": [
    "import pandas as pd\n",
    "from sklearn import linear_model\n",
    "import matplotlib.pyplot as plt\n",
    "%matplotlib inline"
   ]
  },
  {
   "cell_type": "markdown",
   "metadata": {},
   "source": [
    "## データフレームの作成\n",
    "\n",
    "辞書配列とリスト配列を使って，6個の変量を持つデータフレームを作成します．\n",
    "\n",
    "```Python\n",
    "data = {\n",
    "    'data0':[10,20,30,40,50,60,70,80,90,100],\n",
    "    'data1':[16,25,24,38,52,66,78,84,86, 98],\n",
    "    'data2':[34,28,54,48,12,76,42,77,84, 62],\n",
    "    'data3':[50,88,36,44,84,46,68,34,86, 49],\n",
    "    'data4':[70,36,58,43,64,65,48,16,34, 20],\n",
    "    'data5':[88,74,68,58,64,38,33,22,14,  8]\n",
    "}\n",
    "df = pd.DataFrame(data)\n",
    "df.head(3)\n",
    "```"
   ]
  },
  {
   "cell_type": "code",
   "execution_count": 2,
   "metadata": {},
   "outputs": [
    {
     "data": {
      "text/html": [
       "<div>\n",
       "<style scoped>\n",
       "    .dataframe tbody tr th:only-of-type {\n",
       "        vertical-align: middle;\n",
       "    }\n",
       "\n",
       "    .dataframe tbody tr th {\n",
       "        vertical-align: top;\n",
       "    }\n",
       "\n",
       "    .dataframe thead th {\n",
       "        text-align: right;\n",
       "    }\n",
       "</style>\n",
       "<table border=\"1\" class=\"dataframe\">\n",
       "  <thead>\n",
       "    <tr style=\"text-align: right;\">\n",
       "      <th></th>\n",
       "      <th>data0</th>\n",
       "      <th>data1</th>\n",
       "      <th>data2</th>\n",
       "      <th>data3</th>\n",
       "      <th>data4</th>\n",
       "      <th>data5</th>\n",
       "    </tr>\n",
       "  </thead>\n",
       "  <tbody>\n",
       "    <tr>\n",
       "      <td>0</td>\n",
       "      <td>10</td>\n",
       "      <td>16</td>\n",
       "      <td>34</td>\n",
       "      <td>50</td>\n",
       "      <td>70</td>\n",
       "      <td>88</td>\n",
       "    </tr>\n",
       "    <tr>\n",
       "      <td>1</td>\n",
       "      <td>20</td>\n",
       "      <td>25</td>\n",
       "      <td>28</td>\n",
       "      <td>88</td>\n",
       "      <td>36</td>\n",
       "      <td>74</td>\n",
       "    </tr>\n",
       "    <tr>\n",
       "      <td>2</td>\n",
       "      <td>30</td>\n",
       "      <td>24</td>\n",
       "      <td>54</td>\n",
       "      <td>36</td>\n",
       "      <td>58</td>\n",
       "      <td>68</td>\n",
       "    </tr>\n",
       "  </tbody>\n",
       "</table>\n",
       "</div>"
      ],
      "text/plain": [
       "   data0  data1  data2  data3  data4  data5\n",
       "0     10     16     34     50     70     88\n",
       "1     20     25     28     88     36     74\n",
       "2     30     24     54     36     58     68"
      ]
     },
     "execution_count": 2,
     "metadata": {},
     "output_type": "execute_result"
    }
   ],
   "source": [
    "data = {\n",
    "    'data0':[10,20,30,40,50,60,70,80,90,100],\n",
    "    'data1':[16,25,24,38,52,66,78,84,86, 98],\n",
    "    'data2':[34,28,54,48,12,76,42,77,84, 62],\n",
    "    'data3':[50,88,36,44,84,46,68,34,86, 49],\n",
    "    'data4':[70,36,58,43,64,65,48,16,34, 20],\n",
    "    'data5':[88,74,68,58,64,38,33,22,14,  8]\n",
    "}\n",
    "df = pd.DataFrame(data)\n",
    "df.head(3)"
   ]
  },
  {
   "cell_type": "markdown",
   "metadata": {},
   "source": [
    "### 分散共分散の算出\n",
    "\n",
    "分散共分散行列は<font color='green'>cov()</font>メソッドによって求めることができます．\n",
    "\n",
    "```Python\n",
    "df.cov()\n",
    "```"
   ]
  },
  {
   "cell_type": "code",
   "execution_count": 3,
   "metadata": {},
   "outputs": [
    {
     "data": {
      "text/html": [
       "<div>\n",
       "<style scoped>\n",
       "    .dataframe tbody tr th:only-of-type {\n",
       "        vertical-align: middle;\n",
       "    }\n",
       "\n",
       "    .dataframe tbody tr th {\n",
       "        vertical-align: top;\n",
       "    }\n",
       "\n",
       "    .dataframe thead th {\n",
       "        text-align: right;\n",
       "    }\n",
       "</style>\n",
       "<table border=\"1\" class=\"dataframe\">\n",
       "  <thead>\n",
       "    <tr style=\"text-align: right;\">\n",
       "      <th></th>\n",
       "      <th>data0</th>\n",
       "      <th>data1</th>\n",
       "      <th>data2</th>\n",
       "      <th>data3</th>\n",
       "      <th>data4</th>\n",
       "      <th>data5</th>\n",
       "    </tr>\n",
       "  </thead>\n",
       "  <tbody>\n",
       "    <tr>\n",
       "      <td>data0</td>\n",
       "      <td>916.666667</td>\n",
       "      <td>888.333333</td>\n",
       "      <td>447.222222</td>\n",
       "      <td>0.555556</td>\n",
       "      <td>-365.555556</td>\n",
       "      <td>-817.222222</td>\n",
       "    </tr>\n",
       "    <tr>\n",
       "      <td>data1</td>\n",
       "      <td>888.333333</td>\n",
       "      <td>883.566667</td>\n",
       "      <td>414.900000</td>\n",
       "      <td>14.277778</td>\n",
       "      <td>-345.088889</td>\n",
       "      <td>-793.211111</td>\n",
       "    </tr>\n",
       "    <tr>\n",
       "      <td>data2</td>\n",
       "      <td>447.222222</td>\n",
       "      <td>414.900000</td>\n",
       "      <td>549.344444</td>\n",
       "      <td>-198.277778</td>\n",
       "      <td>-203.977778</td>\n",
       "      <td>-468.433333</td>\n",
       "    </tr>\n",
       "    <tr>\n",
       "      <td>data3</td>\n",
       "      <td>0.555556</td>\n",
       "      <td>14.277778</td>\n",
       "      <td>-198.277778</td>\n",
       "      <td>444.722222</td>\n",
       "      <td>18.555556</td>\n",
       "      <td>33.833333</td>\n",
       "    </tr>\n",
       "    <tr>\n",
       "      <td>data4</td>\n",
       "      <td>-365.555556</td>\n",
       "      <td>-345.088889</td>\n",
       "      <td>-203.977778</td>\n",
       "      <td>18.555556</td>\n",
       "      <td>359.377778</td>\n",
       "      <td>355.355556</td>\n",
       "    </tr>\n",
       "    <tr>\n",
       "      <td>data5</td>\n",
       "      <td>-817.222222</td>\n",
       "      <td>-793.211111</td>\n",
       "      <td>-468.433333</td>\n",
       "      <td>33.833333</td>\n",
       "      <td>355.355556</td>\n",
       "      <td>752.455556</td>\n",
       "    </tr>\n",
       "  </tbody>\n",
       "</table>\n",
       "</div>"
      ],
      "text/plain": [
       "            data0       data1       data2       data3       data4       data5\n",
       "data0  916.666667  888.333333  447.222222    0.555556 -365.555556 -817.222222\n",
       "data1  888.333333  883.566667  414.900000   14.277778 -345.088889 -793.211111\n",
       "data2  447.222222  414.900000  549.344444 -198.277778 -203.977778 -468.433333\n",
       "data3    0.555556   14.277778 -198.277778  444.722222   18.555556   33.833333\n",
       "data4 -365.555556 -345.088889 -203.977778   18.555556  359.377778  355.355556\n",
       "data5 -817.222222 -793.211111 -468.433333   33.833333  355.355556  752.455556"
      ]
     },
     "execution_count": 3,
     "metadata": {},
     "output_type": "execute_result"
    }
   ],
   "source": [
    "df.cov()"
   ]
  },
  {
   "cell_type": "markdown",
   "metadata": {},
   "source": [
    "### 相関係数の算出\n",
    "\n",
    "全ての数値変量間の相関係数は <font color='green'>corr()</font>メソッドによって求めることができます．\n",
    "\n",
    "```Python\n",
    "df.corr()\n",
    "```"
   ]
  },
  {
   "cell_type": "code",
   "execution_count": 4,
   "metadata": {},
   "outputs": [
    {
     "data": {
      "text/html": [
       "<div>\n",
       "<style scoped>\n",
       "    .dataframe tbody tr th:only-of-type {\n",
       "        vertical-align: middle;\n",
       "    }\n",
       "\n",
       "    .dataframe tbody tr th {\n",
       "        vertical-align: top;\n",
       "    }\n",
       "\n",
       "    .dataframe thead th {\n",
       "        text-align: right;\n",
       "    }\n",
       "</style>\n",
       "<table border=\"1\" class=\"dataframe\">\n",
       "  <thead>\n",
       "    <tr style=\"text-align: right;\">\n",
       "      <th></th>\n",
       "      <th>data0</th>\n",
       "      <th>data1</th>\n",
       "      <th>data2</th>\n",
       "      <th>data3</th>\n",
       "      <th>data4</th>\n",
       "      <th>data5</th>\n",
       "    </tr>\n",
       "  </thead>\n",
       "  <tbody>\n",
       "    <tr>\n",
       "      <td>data0</td>\n",
       "      <td>1.000000</td>\n",
       "      <td>0.987076</td>\n",
       "      <td>0.630225</td>\n",
       "      <td>0.000870</td>\n",
       "      <td>-0.636901</td>\n",
       "      <td>-0.983998</td>\n",
       "    </tr>\n",
       "    <tr>\n",
       "      <td>data1</td>\n",
       "      <td>0.987076</td>\n",
       "      <td>1.000000</td>\n",
       "      <td>0.595527</td>\n",
       "      <td>0.022777</td>\n",
       "      <td>-0.612401</td>\n",
       "      <td>-0.972812</td>\n",
       "    </tr>\n",
       "    <tr>\n",
       "      <td>data2</td>\n",
       "      <td>0.630225</td>\n",
       "      <td>0.595527</td>\n",
       "      <td>1.000000</td>\n",
       "      <td>-0.401150</td>\n",
       "      <td>-0.459076</td>\n",
       "      <td>-0.728593</td>\n",
       "    </tr>\n",
       "    <tr>\n",
       "      <td>data3</td>\n",
       "      <td>0.000870</td>\n",
       "      <td>0.022777</td>\n",
       "      <td>-0.401150</td>\n",
       "      <td>1.000000</td>\n",
       "      <td>0.046415</td>\n",
       "      <td>0.058487</td>\n",
       "    </tr>\n",
       "    <tr>\n",
       "      <td>data4</td>\n",
       "      <td>-0.636901</td>\n",
       "      <td>-0.612401</td>\n",
       "      <td>-0.459076</td>\n",
       "      <td>0.046415</td>\n",
       "      <td>1.000000</td>\n",
       "      <td>0.683356</td>\n",
       "    </tr>\n",
       "    <tr>\n",
       "      <td>data5</td>\n",
       "      <td>-0.983998</td>\n",
       "      <td>-0.972812</td>\n",
       "      <td>-0.728593</td>\n",
       "      <td>0.058487</td>\n",
       "      <td>0.683356</td>\n",
       "      <td>1.000000</td>\n",
       "    </tr>\n",
       "  </tbody>\n",
       "</table>\n",
       "</div>"
      ],
      "text/plain": [
       "          data0     data1     data2     data3     data4     data5\n",
       "data0  1.000000  0.987076  0.630225  0.000870 -0.636901 -0.983998\n",
       "data1  0.987076  1.000000  0.595527  0.022777 -0.612401 -0.972812\n",
       "data2  0.630225  0.595527  1.000000 -0.401150 -0.459076 -0.728593\n",
       "data3  0.000870  0.022777 -0.401150  1.000000  0.046415  0.058487\n",
       "data4 -0.636901 -0.612401 -0.459076  0.046415  1.000000  0.683356\n",
       "data5 -0.983998 -0.972812 -0.728593  0.058487  0.683356  1.000000"
      ]
     },
     "execution_count": 4,
     "metadata": {},
     "output_type": "execute_result"
    }
   ],
   "source": [
    "df.corr()"
   ]
  },
  {
   "cell_type": "markdown",
   "metadata": {},
   "source": [
    "また，個別に相関係数を求めるには次のようにします．\n",
    "この例は data0 と data1 との相関係数です．\n",
    "df.corr()メソッドの結果と一致しています．\n",
    "\n",
    "```Python\n",
    "df.data0.corr(df.data1)\n",
    "```"
   ]
  },
  {
   "cell_type": "code",
   "execution_count": 5,
   "metadata": {},
   "outputs": [
    {
     "data": {
      "text/plain": [
       "0.9870759656977014"
      ]
     },
     "execution_count": 5,
     "metadata": {},
     "output_type": "execute_result"
    }
   ],
   "source": [
    "df.data0.corr(df.data1)"
   ]
  },
  {
   "cell_type": "markdown",
   "metadata": {},
   "source": [
    "この後，各データ間の相関を理解するために散布図を作成しますが，相関の度合いを分かりやすくするために近似直線を引きます．\n",
    "近似直線には幾つかの方法がありますが，ここでは単純な回帰直線を利用します．"
   ]
  },
  {
   "cell_type": "markdown",
   "metadata": {},
   "source": [
    "### 線型回帰モデル\n",
    "\n",
    "線形回帰モデルは，sklean.linear_model にある関数によってオブジェクトを生成します．\n",
    "そして，このオブジェクトに対して回帰モデルの生成および予測の実施のために個別の関数を使用します．\n",
    "\n",
    "- <font face='courier new' color='green'>LinearRegression()</font>：オブジェクトの生成\n",
    "- <font face='courier new' color='green'>fit()</font>：回帰モデルの作成\n",
    "- <font face='courier new' color='green'>predict()</font>：予測の実施"
   ]
  },
  {
   "cell_type": "markdown",
   "metadata": {},
   "source": [
    "まず準備として，LinearRegression()関数によって線形回帰モデル用のオブジェクトを作成します．\n",
    "ここでは，そのオブジェクトを reg という変数に代入します．\n",
    "\n",
    "fit()関数には説明変数と目的変数を与える必要がありますが，このモジュールは重回帰分析に対応しているため説明変数は1つの場合でも2重配列にする必要があります．\n",
    "説明変数として data0 を採用しますが，このデータを2重配列に変更したものを変数 x に代入しておきます．\n",
    "\n",
    "```Python\n",
    "reg = linear_model.LinearRegression()\n",
    "x = df.data0.values.reshape([-1,1])\n",
    "x\n",
    "```"
   ]
  },
  {
   "cell_type": "code",
   "execution_count": 6,
   "metadata": {},
   "outputs": [
    {
     "data": {
      "text/plain": [
       "array([[ 10],\n",
       "       [ 20],\n",
       "       [ 30],\n",
       "       [ 40],\n",
       "       [ 50],\n",
       "       [ 60],\n",
       "       [ 70],\n",
       "       [ 80],\n",
       "       [ 90],\n",
       "       [100]], dtype=int64)"
      ]
     },
     "execution_count": 6,
     "metadata": {},
     "output_type": "execute_result"
    }
   ],
   "source": [
    "reg = linear_model.LinearRegression()\n",
    "x = df.data0.values.reshape([-1,1])\n",
    "x"
   ]
  },
  {
   "cell_type": "markdown",
   "metadata": {},
   "source": [
    "ここで，目的変数として data1 を採用した場合の線形回帰モデルは次の命令で構成されます．\n",
    "\n",
    "```Python\n",
    "reg.fit(x,df.data1.values)\n",
    "```"
   ]
  },
  {
   "cell_type": "code",
   "execution_count": 7,
   "metadata": {},
   "outputs": [
    {
     "data": {
      "text/plain": [
       "LinearRegression(copy_X=True, fit_intercept=True, n_jobs=None, normalize=False)"
      ]
     },
     "execution_count": 7,
     "metadata": {},
     "output_type": "execute_result"
    }
   ],
   "source": [
    "reg.fit(x,df.data1.values)"
   ]
  },
  {
   "cell_type": "markdown",
   "metadata": {},
   "source": [
    "この線形回帰モデルの予測値は，次の命令で求まります．\n",
    "\n",
    "```Python\n",
    "reg.predict(x)\n",
    "```"
   ]
  },
  {
   "cell_type": "code",
   "execution_count": 8,
   "metadata": {},
   "outputs": [
    {
     "data": {
      "text/plain": [
       "array([ 13.09090909,  22.78181818,  32.47272727,  42.16363636,\n",
       "        51.85454545,  61.54545455,  71.23636364,  80.92727273,\n",
       "        90.61818182, 100.30909091])"
      ]
     },
     "execution_count": 8,
     "metadata": {},
     "output_type": "execute_result"
    }
   ],
   "source": [
    "reg.predict(x)"
   ]
  },
  {
   "cell_type": "markdown",
   "metadata": {},
   "source": [
    "## 散布図での相関の確認\n",
    "\n",
    "変量data0と他の変量との相関について，散布図と回帰直線を描画して，確認していきます．\n",
    "比較する変量によって次のような傾向が分かります．\n",
    "\n",
    "- data1：強い正の相関\n",
    "- data2：弱い正の相関\n",
    "- data3：無相関\n",
    "- data4：弱い負の相関\n",
    "- data5：強い負の相関"
   ]
  },
  {
   "cell_type": "markdown",
   "metadata": {},
   "source": [
    "### 散布図（data0, data1）\n",
    "\n",
    "以上のプログラムを使用して data0 と data1 との相関を散布図上で確認します．\n",
    "散布図上に回帰直線を引いています．\n",
    "さらにタイトルに相関係数を記載しました．\n",
    "夫々の関数の役割は次のようになっています．\n",
    "\n",
    "- <font face='courier new' color='green'>reg.fit()</font>：回帰モデルの構築\n",
    "- <font face='courier new' color='green'>plt.plot()</font>：回帰直線の描画\n",
    "- <font face='courier new' color='green'>plt.scatter()</font>：散布図の描画\n",
    "- <font face='courier new' color='green'>plt.title()</font>：タイトルの追加\n",
    "- <font face='courier new' color='green'>plt.xlabel()</font>：x軸のラベルの追加\n",
    "- <font face='courier new' color='green'>plt.ylabel()</font>：y軸のラベルの追加\n",
    "- <font face='courier new' color='green'>plt.axis()</font>：グラフの縦横比の設定\n",
    "- <font face='courier new' color='green'>plt.show()</font>：以上の図の表示\n",
    "\n",
    "```Python\n",
    "reg.fit(x,df.data1.values)\n",
    "plt.plot(x,reg.predict(x),color='green')\n",
    "plt.scatter(df.data0,df.data1)\n",
    "plt.title('Correlation='+str(round(float(df.data0.corr(df.data1)),3)))\n",
    "plt.xlabel('data 0')\n",
    "plt.ylabel('data 1')\n",
    "plt.axis('scaled')\n",
    "plt.show()\n",
    "```"
   ]
  },
  {
   "cell_type": "code",
   "execution_count": 9,
   "metadata": {},
   "outputs": [
    {
     "data": {
      "image/png": "[encoded data removed]",
      "text/plain": [
       "<Figure size 432x288 with 1 Axes>"
      ]
     },
     "metadata": {
      "needs_background": "light"
     },
     "output_type": "display_data"
    }
   ],
   "source": [
    "reg.fit(x,df.data1.values)\n",
    "plt.plot(x,reg.predict(x),color='green')\n",
    "plt.scatter(df.data0,df.data1)\n",
    "plt.title('Correlation='+str(round(float(df.data0.corr(df.data1)),3)))\n",
    "plt.xlabel('data 0')\n",
    "plt.ylabel('data 1')\n",
    "plt.axis('scaled')\n",
    "plt.show()"
   ]
  },
  {
   "cell_type": "markdown",
   "metadata": {},
   "source": [
    "相関係数が 0.987 と，強い正の相関を示しています．\n",
    "プロットした点が回帰直線に沿っていることが分かります．"
   ]
  },
  {
   "cell_type": "markdown",
   "metadata": {},
   "source": [
    "### 散布図（data0, data2）\n",
    "\n",
    "```Python\n",
    "reg.fit(x,df.data2.values)\n",
    "plt.plot(x,reg.predict(x),color='green')\n",
    "plt.scatter(df.data0,df.data2)\n",
    "plt.title('Correlation='+str(round(float(df.data0.corr(df.data2)),3)))\n",
    "plt.xlabel('data 0')\n",
    "plt.ylabel('data 2')\n",
    "plt.axis('scaled')\n",
    "plt.show()\n",
    "```"
   ]
  },
  {
   "cell_type": "code",
   "execution_count": 10,
   "metadata": {
    "scrolled": false
   },
   "outputs": [
    {
     "data": {
      "image/png": "[encoded data removed]",
      "text/plain": [
       "<Figure size 432x288 with 1 Axes>"
      ]
     },
     "metadata": {
      "needs_background": "light"
     },
     "output_type": "display_data"
    }
   ],
   "source": [
    "reg.fit(x,df.data2.values)\n",
    "plt.plot(x,reg.predict(x),color='green')\n",
    "plt.scatter(df.data0,df.data2)\n",
    "plt.title('Correlation='+str(round(float(df.data0.corr(df.data2)),3)))\n",
    "plt.xlabel('data 0')\n",
    "plt.ylabel('data 2')\n",
    "plt.axis('scaled')\n",
    "plt.show()"
   ]
  },
  {
   "cell_type": "markdown",
   "metadata": {},
   "source": [
    "相関係数が 0.63 と正の相関になっていますが，それほど強い相関ではありません．\n",
    "散布図の点も回帰直線から離れて分布しています．"
   ]
  },
  {
   "cell_type": "markdown",
   "metadata": {},
   "source": [
    "### 散布図（data0, data3）\n",
    "\n",
    "```Python\n",
    "reg.fit(x,df.data3.values)\n",
    "plt.plot(x,reg.predict(x),color='green')\n",
    "plt.scatter(df.data0,df.data3)\n",
    "plt.title('Correlation='+str(round(float(df.data0.corr(df.data3)),3)))\n",
    "plt.xlabel('data 0')\n",
    "plt.ylabel('data 3')\n",
    "plt.axis('scaled')\n",
    "plt.show()\n",
    "```"
   ]
  },
  {
   "cell_type": "code",
   "execution_count": 11,
   "metadata": {
    "scrolled": true
   },
   "outputs": [
    {
     "data": {
      "image/png": "[encoded data removed]",
      "text/plain": [
       "<Figure size 432x288 with 1 Axes>"
      ]
     },
     "metadata": {
      "needs_background": "light"
     },
     "output_type": "display_data"
    }
   ],
   "source": [
    "reg.fit(x,df.data3.values)\n",
    "plt.plot(x,reg.predict(x),color='green')\n",
    "plt.scatter(df.data0,df.data3)\n",
    "plt.title('Correlation='+str(round(float(df.data0.corr(df.data3)),3)))\n",
    "plt.xlabel('data 0')\n",
    "plt.ylabel('data 3')\n",
    "plt.axis('scaled')\n",
    "plt.show()"
   ]
  },
  {
   "cell_type": "markdown",
   "metadata": {},
   "source": [
    "相関係数が 0.001 なので，ほぼ無相関です．\n",
    "この場合の回帰直線に利用価値はありません．"
   ]
  },
  {
   "cell_type": "markdown",
   "metadata": {},
   "source": [
    "### 散布図（data0, data4）\n",
    "\n",
    "```Python\n",
    "reg.fit(x,df.data4.values)\n",
    "plt.plot(x,reg.predict(x),color='green')\n",
    "plt.scatter(df.data0,df.data4)\n",
    "plt.title('Correlation='+str(round(float(df.data0.corr(df.data4)),3)))\n",
    "plt.xlabel('data 0')\n",
    "plt.ylabel('data 4')\n",
    "plt.axis('scaled')\n",
    "plt.show()\n",
    "```"
   ]
  },
  {
   "cell_type": "code",
   "execution_count": 12,
   "metadata": {},
   "outputs": [
    {
     "data": {
      "image/png": "[encoded data removed]",
      "text/plain": [
       "<Figure size 432x288 with 1 Axes>"
      ]
     },
     "metadata": {
      "needs_background": "light"
     },
     "output_type": "display_data"
    }
   ],
   "source": [
    "reg.fit(x,df.data4.values)\n",
    "plt.plot(x,reg.predict(x),color='green')\n",
    "plt.scatter(df.data0,df.data4)\n",
    "plt.title('Correlation='+str(round(float(df.data0.corr(df.data4)),3)))\n",
    "plt.xlabel('data 0')\n",
    "plt.ylabel('data 4')\n",
    "plt.axis('scaled')\n",
    "plt.show()"
   ]
  },
  {
   "cell_type": "markdown",
   "metadata": {},
   "source": [
    "相関係数が -0.637 と，負の相関になっています．\n",
    "相関の強さは中間的です．\n",
    "負の相関なので，回帰直線は右下がりになっています．"
   ]
  },
  {
   "cell_type": "markdown",
   "metadata": {},
   "source": [
    "### 散布図（data0, data5）\n",
    "\n",
    "```Python\n",
    "reg.fit(x,df.data5.values)\n",
    "plt.plot(x,reg.predict(x),color='green')\n",
    "plt.scatter(df.data0,df.data5)\n",
    "plt.title('Correlation='+str(round(float(df.data0.corr(df.data5)),3)))\n",
    "plt.xlabel('data 0')\n",
    "plt.ylabel('data 5')\n",
    "plt.axis('scaled')\n",
    "plt.show()\n",
    "```"
   ]
  },
  {
   "cell_type": "code",
   "execution_count": 13,
   "metadata": {},
   "outputs": [
    {
     "data": {
      "image/png": "[encoded data removed]",
      "text/plain": [
       "<Figure size 432x288 with 1 Axes>"
      ]
     },
     "metadata": {
      "needs_background": "light"
     },
     "output_type": "display_data"
    }
   ],
   "source": [
    "reg.fit(x,df.data5.values)\n",
    "plt.plot(x,reg.predict(x),color='green')\n",
    "plt.scatter(df.data0,df.data5)\n",
    "plt.title('Correlation='+str(round(float(df.data0.corr(df.data5)),3)))\n",
    "plt.xlabel('data 0')\n",
    "plt.ylabel('data 5')\n",
    "plt.axis('scaled')\n",
    "plt.show()"
   ]
  },
  {
   "cell_type": "markdown",
   "metadata": {
    "collapsed": true
   },
   "source": [
    "相関係数が -0.984 と強い負の相関になっています．\n",
    "右下がりの回帰直線に散布図の点が沿っています．\n",
    "\n",
    "*****"
   ]
  }
 ],
 "metadata": {
  "kernelspec": {
   "display_name": "Python 3",
   "language": "python",
   "name": "python3"
  },
  "language_info": {
   "codemirror_mode": {
    "name": "ipython",
    "version": 3
   },
   "file_extension": ".py",
   "mimetype": "text/x-python",
   "name": "python",
   "nbconvert_exporter": "python",
   "pygments_lexer": "ipython3",
   "version": "3.7.4"
  }
 },
 "nbformat": 4,
 "nbformat_minor": 2
}
