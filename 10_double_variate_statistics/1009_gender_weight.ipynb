{
 "cells": [
  {
   "cell_type": "markdown",
   "metadata": {},
   "source": [
    "# 2変量統計：性別×体重\n",
    "\n",
    "カテゴリー値と数値の組み合わせについての2変量統計です．\n",
    "カテゴリー値の各値ごとに数値の分布状況を記述統計とグラフによって確認します．"
   ]
  },
  {
   "cell_type": "markdown",
   "metadata": {},
   "source": [
    "## ライブラリーの搬入\n",
    "\n",
    "必要なライブラリーを搬入します．\n",
    "\n",
    "```Python\n",
    "import numpy as np\n",
    "import pandas as pd\n",
    "import matplotlib.pyplot as plt\n",
    "%matplotlib inline\n",
    "```"
   ]
  },
  {
   "cell_type": "code",
   "execution_count": 1,
   "metadata": {},
   "outputs": [],
   "source": [
    "import numpy as np\n",
    "import pandas as pd\n",
    "import matplotlib.pyplot as plt\n",
    "%matplotlib inline"
   ]
  },
  {
   "cell_type": "markdown",
   "metadata": {},
   "source": [
    "## データフレームの生成\n",
    "\n",
    "CSVファイルからデータを取り込み，データフレームを作成します．\n",
    "\n",
    "```Python\n",
    "df = pd.read_csv('./cleansed_body_data2.csv')\n",
    "df.set_index('person',inplace=True)\n",
    "```"
   ]
  },
  {
   "cell_type": "code",
   "execution_count": 2,
   "metadata": {},
   "outputs": [],
   "source": [
    "df = pd.read_csv('./cleansed_body_data2.csv')\n",
    "df.set_index('person',inplace=True)"
   ]
  },
  {
   "cell_type": "markdown",
   "metadata": {},
   "source": [
    "## カテゴリー値の確認\n",
    "\n",
    "既に1変量統計で求めていますが，カテゴリーデータである変量genderの取りうる値を確認します．\n",
    "\n",
    "```Python\n",
    "set(df.gender)\n",
    "```"
   ]
  },
  {
   "cell_type": "code",
   "execution_count": 3,
   "metadata": {},
   "outputs": [
    {
     "data": {
      "text/plain": [
       "{'Female', 'Male', nan}"
      ]
     },
     "execution_count": 3,
     "metadata": {},
     "output_type": "execute_result"
    }
   ],
   "source": [
    "set(df.gender)"
   ]
  },
  {
   "cell_type": "markdown",
   "metadata": {},
   "source": [
    "## 性別ごとの体重の記述統計\n",
    "\n",
    "性別ごとに体重データの統計量を比較します．\n",
    "\n",
    "女性だけに絞って変量weightの基本統計を求めるには，次のようにします．\n",
    "\n",
    "```Pthon\n",
    "df.weight[df.gender=='Female'].describe()\n",
    "```"
   ]
  },
  {
   "cell_type": "code",
   "execution_count": 4,
   "metadata": {},
   "outputs": [
    {
     "data": {
      "text/plain": [
       "count    101.000000\n",
       "mean      60.888119\n",
       "std       13.051523\n",
       "min        9.900000\n",
       "25%       51.500000\n",
       "50%       61.000000\n",
       "75%       71.200000\n",
       "max       83.000000\n",
       "Name: weight, dtype: float64"
      ]
     },
     "execution_count": 4,
     "metadata": {},
     "output_type": "execute_result"
    }
   ],
   "source": [
    "df.weight[df.gender=='Female'].describe()"
   ]
  },
  {
   "cell_type": "markdown",
   "metadata": {},
   "source": [
    "同様に，男性だけに絞る場合も求めてみます．\n",
    "\n",
    "```Python\n",
    "df.weight[df.gender=='Male'].describe()\n",
    "```"
   ]
  },
  {
   "cell_type": "code",
   "execution_count": 5,
   "metadata": {},
   "outputs": [
    {
     "data": {
      "text/plain": [
       "count     96.000000\n",
       "mean      74.101042\n",
       "std       18.488395\n",
       "min       12.900000\n",
       "25%       61.975000\n",
       "50%       74.850000\n",
       "75%       86.125000\n",
       "max      106.500000\n",
       "Name: weight, dtype: float64"
      ]
     },
     "execution_count": 5,
     "metadata": {},
     "output_type": "execute_result"
    }
   ],
   "source": [
    "df.weight[df.gender=='Male'].describe()"
   ]
  },
  {
   "cell_type": "markdown",
   "metadata": {},
   "source": [
    "このように個別に基本統計を求めることができますが，別々に求めると比較するには不便です．\n",
    "そこで，比較しやすいように，それぞれの基本統計をデータフレームにまとめてみます．\n",
    "ただし，カラム名が同じなので，繋げる前にカラム名を変更します．\n",
    "\n",
    "```Python\n",
    "weightF = pd.DataFrame(df.weight[df.gender=='Female'].describe())\n",
    "weightF.rename(columns={'weight':'female'},inplace=True)\n",
    "weightM = pd.DataFrame(df.weight[df.gender=='Male'].describe())\n",
    "weightM.rename(columns={'weight':'male'},inplace=True)\n",
    "pd.concat([weightF,weightM],axis=1)\n",
    "```"
   ]
  },
  {
   "cell_type": "code",
   "execution_count": 6,
   "metadata": {},
   "outputs": [
    {
     "data": {
      "text/html": [
       "<div>\n",
       "<style scoped>\n",
       "    .dataframe tbody tr th:only-of-type {\n",
       "        vertical-align: middle;\n",
       "    }\n",
       "\n",
       "    .dataframe tbody tr th {\n",
       "        vertical-align: top;\n",
       "    }\n",
       "\n",
       "    .dataframe thead th {\n",
       "        text-align: right;\n",
       "    }\n",
       "</style>\n",
       "<table border=\"1\" class=\"dataframe\">\n",
       "  <thead>\n",
       "    <tr style=\"text-align: right;\">\n",
       "      <th></th>\n",
       "      <th>female</th>\n",
       "      <th>male</th>\n",
       "    </tr>\n",
       "  </thead>\n",
       "  <tbody>\n",
       "    <tr>\n",
       "      <td>count</td>\n",
       "      <td>101.000000</td>\n",
       "      <td>96.000000</td>\n",
       "    </tr>\n",
       "    <tr>\n",
       "      <td>mean</td>\n",
       "      <td>60.888119</td>\n",
       "      <td>74.101042</td>\n",
       "    </tr>\n",
       "    <tr>\n",
       "      <td>std</td>\n",
       "      <td>13.051523</td>\n",
       "      <td>18.488395</td>\n",
       "    </tr>\n",
       "    <tr>\n",
       "      <td>min</td>\n",
       "      <td>9.900000</td>\n",
       "      <td>12.900000</td>\n",
       "    </tr>\n",
       "    <tr>\n",
       "      <td>25%</td>\n",
       "      <td>51.500000</td>\n",
       "      <td>61.975000</td>\n",
       "    </tr>\n",
       "    <tr>\n",
       "      <td>50%</td>\n",
       "      <td>61.000000</td>\n",
       "      <td>74.850000</td>\n",
       "    </tr>\n",
       "    <tr>\n",
       "      <td>75%</td>\n",
       "      <td>71.200000</td>\n",
       "      <td>86.125000</td>\n",
       "    </tr>\n",
       "    <tr>\n",
       "      <td>max</td>\n",
       "      <td>83.000000</td>\n",
       "      <td>106.500000</td>\n",
       "    </tr>\n",
       "  </tbody>\n",
       "</table>\n",
       "</div>"
      ],
      "text/plain": [
       "           female        male\n",
       "count  101.000000   96.000000\n",
       "mean    60.888119   74.101042\n",
       "std     13.051523   18.488395\n",
       "min      9.900000   12.900000\n",
       "25%     51.500000   61.975000\n",
       "50%     61.000000   74.850000\n",
       "75%     71.200000   86.125000\n",
       "max     83.000000  106.500000"
      ]
     },
     "execution_count": 6,
     "metadata": {},
     "output_type": "execute_result"
    }
   ],
   "source": [
    "weightF = pd.DataFrame(df.weight[df.gender=='Female'].describe())\n",
    "weightF.rename(columns={'weight':'female'},inplace=True)\n",
    "weightM = pd.DataFrame(df.weight[df.gender=='Male'].describe())\n",
    "weightM.rename(columns={'weight':'male'},inplace=True)\n",
    "pd.concat([weightF,weightM],axis=1)"
   ]
  },
  {
   "cell_type": "markdown",
   "metadata": {},
   "source": [
    "## ヒストグラムの比較\n",
    "\n",
    "女性および男性の体重のヒストグラムを一緒に描画して比較することを試みます．\n",
    "\n",
    "そのために，変量weightを階級化します．\n",
    "階級化にはpandus.cut()関数を利用します．\n",
    "\n",
    "- 階級は，range()関数で0から115までを5刻みで定義します．\n",
    "- 階級値は，その階級の中央の値とします．\n",
    "- 階級の境界の値は，パラメータright=Falseによって，左側に含めます．\n",
    "- 階級化した値をデータフレームのカラム名weightClassとして追加します．\n",
    "\n",
    "```Python\n",
    "bins = range(0,115,5)\n",
    "labels = [x+2.5 for x in range(0,110,5)]\n",
    "df['weightClass'] = pd.cut(df.weight,bins,right=False,labels=labels)\n",
    "df.head()\n",
    "```"
   ]
  },
  {
   "cell_type": "code",
   "execution_count": 7,
   "metadata": {},
   "outputs": [
    {
     "data": {
      "text/html": [
       "<div>\n",
       "<style scoped>\n",
       "    .dataframe tbody tr th:only-of-type {\n",
       "        vertical-align: middle;\n",
       "    }\n",
       "\n",
       "    .dataframe tbody tr th {\n",
       "        vertical-align: top;\n",
       "    }\n",
       "\n",
       "    .dataframe thead th {\n",
       "        text-align: right;\n",
       "    }\n",
       "</style>\n",
       "<table border=\"1\" class=\"dataframe\">\n",
       "  <thead>\n",
       "    <tr style=\"text-align: right;\">\n",
       "      <th></th>\n",
       "      <th>height</th>\n",
       "      <th>weight</th>\n",
       "      <th>age</th>\n",
       "      <th>gender</th>\n",
       "      <th>blood</th>\n",
       "      <th>weightClass</th>\n",
       "    </tr>\n",
       "    <tr>\n",
       "      <th>person</th>\n",
       "      <th></th>\n",
       "      <th></th>\n",
       "      <th></th>\n",
       "      <th></th>\n",
       "      <th></th>\n",
       "      <th></th>\n",
       "    </tr>\n",
       "  </thead>\n",
       "  <tbody>\n",
       "    <tr>\n",
       "      <td>p001</td>\n",
       "      <td>157.7</td>\n",
       "      <td>56.8</td>\n",
       "      <td>20.0</td>\n",
       "      <td>Male</td>\n",
       "      <td>B</td>\n",
       "      <td>57.5</td>\n",
       "    </tr>\n",
       "    <tr>\n",
       "      <td>p002</td>\n",
       "      <td>169.7</td>\n",
       "      <td>58.1</td>\n",
       "      <td>53.0</td>\n",
       "      <td>Female</td>\n",
       "      <td>A</td>\n",
       "      <td>57.5</td>\n",
       "    </tr>\n",
       "    <tr>\n",
       "      <td>p003</td>\n",
       "      <td>160.6</td>\n",
       "      <td>96.8</td>\n",
       "      <td>22.0</td>\n",
       "      <td>Male</td>\n",
       "      <td>O</td>\n",
       "      <td>97.5</td>\n",
       "    </tr>\n",
       "    <tr>\n",
       "      <td>p004</td>\n",
       "      <td>155.8</td>\n",
       "      <td>NaN</td>\n",
       "      <td>NaN</td>\n",
       "      <td>Female</td>\n",
       "      <td>O</td>\n",
       "      <td>NaN</td>\n",
       "    </tr>\n",
       "    <tr>\n",
       "      <td>p005</td>\n",
       "      <td>115.5</td>\n",
       "      <td>22.5</td>\n",
       "      <td>7.0</td>\n",
       "      <td>Male</td>\n",
       "      <td>NaN</td>\n",
       "      <td>22.5</td>\n",
       "    </tr>\n",
       "  </tbody>\n",
       "</table>\n",
       "</div>"
      ],
      "text/plain": [
       "        height  weight   age  gender blood weightClass\n",
       "person                                                \n",
       "p001     157.7    56.8  20.0    Male     B        57.5\n",
       "p002     169.7    58.1  53.0  Female     A        57.5\n",
       "p003     160.6    96.8  22.0    Male     O        97.5\n",
       "p004     155.8     NaN   NaN  Female     O         NaN\n",
       "p005     115.5    22.5   7.0    Male   NaN        22.5"
      ]
     },
     "execution_count": 7,
     "metadata": {},
     "output_type": "execute_result"
    }
   ],
   "source": [
    "bins = range(0,115,5)\n",
    "labels = [x+2.5 for x in range(0,110,5)]\n",
    "df['weightClass'] = pd.cut(df.weight,bins,right=False,labels=labels)\n",
    "df.head()"
   ]
  },
  {
   "cell_type": "markdown",
   "metadata": {},
   "source": [
    "性別および体重の階級を使ってクロス集計を行います．\n",
    "クロス集計は，pandasの<font color='green'>crostab()</font>関数を利用します．\n",
    "クロス集計表として合計が分かるように引数としてmargins=Trueを追加します．\n",
    "\n",
    "```Python\n",
    "pd.crosstab(df.weightClass,df.gender,dropna=False,margins=True)\n",
    "```"
   ]
  },
  {
   "cell_type": "code",
   "execution_count": 8,
   "metadata": {},
   "outputs": [
    {
     "data": {
      "text/html": [
       "<div>\n",
       "<style scoped>\n",
       "    .dataframe tbody tr th:only-of-type {\n",
       "        vertical-align: middle;\n",
       "    }\n",
       "\n",
       "    .dataframe tbody tr th {\n",
       "        vertical-align: top;\n",
       "    }\n",
       "\n",
       "    .dataframe thead th {\n",
       "        text-align: right;\n",
       "    }\n",
       "</style>\n",
       "<table border=\"1\" class=\"dataframe\">\n",
       "  <thead>\n",
       "    <tr style=\"text-align: right;\">\n",
       "      <th>gender</th>\n",
       "      <th>Female</th>\n",
       "      <th>Male</th>\n",
       "      <th>All</th>\n",
       "    </tr>\n",
       "    <tr>\n",
       "      <th>weightClass</th>\n",
       "      <th></th>\n",
       "      <th></th>\n",
       "      <th></th>\n",
       "    </tr>\n",
       "  </thead>\n",
       "  <tbody>\n",
       "    <tr>\n",
       "      <td>2.5</td>\n",
       "      <td>0</td>\n",
       "      <td>0</td>\n",
       "      <td>NaN</td>\n",
       "    </tr>\n",
       "    <tr>\n",
       "      <td>7.5</td>\n",
       "      <td>1</td>\n",
       "      <td>0</td>\n",
       "      <td>1.0</td>\n",
       "    </tr>\n",
       "    <tr>\n",
       "      <td>12.5</td>\n",
       "      <td>0</td>\n",
       "      <td>1</td>\n",
       "      <td>1.0</td>\n",
       "    </tr>\n",
       "    <tr>\n",
       "      <td>17.5</td>\n",
       "      <td>0</td>\n",
       "      <td>0</td>\n",
       "      <td>NaN</td>\n",
       "    </tr>\n",
       "    <tr>\n",
       "      <td>22.5</td>\n",
       "      <td>0</td>\n",
       "      <td>2</td>\n",
       "      <td>2.0</td>\n",
       "    </tr>\n",
       "    <tr>\n",
       "      <td>27.5</td>\n",
       "      <td>0</td>\n",
       "      <td>0</td>\n",
       "      <td>NaN</td>\n",
       "    </tr>\n",
       "    <tr>\n",
       "      <td>32.5</td>\n",
       "      <td>0</td>\n",
       "      <td>0</td>\n",
       "      <td>NaN</td>\n",
       "    </tr>\n",
       "    <tr>\n",
       "      <td>37.5</td>\n",
       "      <td>3</td>\n",
       "      <td>0</td>\n",
       "      <td>3.0</td>\n",
       "    </tr>\n",
       "    <tr>\n",
       "      <td>42.5</td>\n",
       "      <td>3</td>\n",
       "      <td>2</td>\n",
       "      <td>5.0</td>\n",
       "    </tr>\n",
       "    <tr>\n",
       "      <td>47.5</td>\n",
       "      <td>15</td>\n",
       "      <td>2</td>\n",
       "      <td>17.0</td>\n",
       "    </tr>\n",
       "    <tr>\n",
       "      <td>52.5</td>\n",
       "      <td>13</td>\n",
       "      <td>4</td>\n",
       "      <td>17.0</td>\n",
       "    </tr>\n",
       "    <tr>\n",
       "      <td>57.5</td>\n",
       "      <td>14</td>\n",
       "      <td>8</td>\n",
       "      <td>22.0</td>\n",
       "    </tr>\n",
       "    <tr>\n",
       "      <td>62.5</td>\n",
       "      <td>10</td>\n",
       "      <td>10</td>\n",
       "      <td>20.0</td>\n",
       "    </tr>\n",
       "    <tr>\n",
       "      <td>67.5</td>\n",
       "      <td>13</td>\n",
       "      <td>9</td>\n",
       "      <td>22.0</td>\n",
       "    </tr>\n",
       "    <tr>\n",
       "      <td>72.5</td>\n",
       "      <td>10</td>\n",
       "      <td>10</td>\n",
       "      <td>21.0</td>\n",
       "    </tr>\n",
       "    <tr>\n",
       "      <td>77.5</td>\n",
       "      <td>15</td>\n",
       "      <td>11</td>\n",
       "      <td>26.0</td>\n",
       "    </tr>\n",
       "    <tr>\n",
       "      <td>82.5</td>\n",
       "      <td>4</td>\n",
       "      <td>9</td>\n",
       "      <td>13.0</td>\n",
       "    </tr>\n",
       "    <tr>\n",
       "      <td>87.5</td>\n",
       "      <td>0</td>\n",
       "      <td>7</td>\n",
       "      <td>7.0</td>\n",
       "    </tr>\n",
       "    <tr>\n",
       "      <td>92.5</td>\n",
       "      <td>0</td>\n",
       "      <td>8</td>\n",
       "      <td>8.0</td>\n",
       "    </tr>\n",
       "    <tr>\n",
       "      <td>97.5</td>\n",
       "      <td>0</td>\n",
       "      <td>7</td>\n",
       "      <td>7.0</td>\n",
       "    </tr>\n",
       "    <tr>\n",
       "      <td>102.5</td>\n",
       "      <td>0</td>\n",
       "      <td>3</td>\n",
       "      <td>3.0</td>\n",
       "    </tr>\n",
       "    <tr>\n",
       "      <td>107.5</td>\n",
       "      <td>0</td>\n",
       "      <td>3</td>\n",
       "      <td>3.0</td>\n",
       "    </tr>\n",
       "    <tr>\n",
       "      <td>All</td>\n",
       "      <td>103</td>\n",
       "      <td>96</td>\n",
       "      <td>200.0</td>\n",
       "    </tr>\n",
       "  </tbody>\n",
       "</table>\n",
       "</div>"
      ],
      "text/plain": [
       "gender       Female  Male    All\n",
       "weightClass                     \n",
       "2.5               0     0    NaN\n",
       "7.5               1     0    1.0\n",
       "12.5              0     1    1.0\n",
       "17.5              0     0    NaN\n",
       "22.5              0     2    2.0\n",
       "27.5              0     0    NaN\n",
       "32.5              0     0    NaN\n",
       "37.5              3     0    3.0\n",
       "42.5              3     2    5.0\n",
       "47.5             15     2   17.0\n",
       "52.5             13     4   17.0\n",
       "57.5             14     8   22.0\n",
       "62.5             10    10   20.0\n",
       "67.5             13     9   22.0\n",
       "72.5             10    10   21.0\n",
       "77.5             15    11   26.0\n",
       "82.5              4     9   13.0\n",
       "87.5              0     7    7.0\n",
       "92.5              0     8    8.0\n",
       "97.5              0     7    7.0\n",
       "102.5             0     3    3.0\n",
       "107.5             0     3    3.0\n",
       "All             103    96  200.0"
      ]
     },
     "execution_count": 8,
     "metadata": {},
     "output_type": "execute_result"
    }
   ],
   "source": [
    "pd.crosstab(df.weightClass,df.gender,dropna=False,margins=True)"
   ]
  },
  {
   "cell_type": "markdown",
   "metadata": {},
   "source": [
    "グラフ作成のためのデータとして，変量genderとweightClassを使ったクロス集計を新しいデータフレームとして保存します．\n",
    "このとき，合計欄は不要ですのでmargins=Falseとします．\n",
    "\n",
    "```Python\n",
    "fdt = pd.crosstab(df.weightClass,df.gender,dropna=False,margins=False)\n",
    "```"
   ]
  },
  {
   "cell_type": "code",
   "execution_count": 9,
   "metadata": {},
   "outputs": [],
   "source": [
    "fdt = pd.crosstab(df.weightClass,df.gender,dropna=False,margins=False)"
   ]
  },
  {
   "cell_type": "markdown",
   "metadata": {},
   "source": [
    "## 積み上げグラフ\n",
    "\n",
    "ヒストグラムを描画しますが，男性・女性を色分けして表示します．  \n",
    "細かい設定が必要となるので，matplotlib.pyplotの<font color='green'>bar()</font>関数のオプションを利用して設定します．\n",
    "積み上げグラフにするために，bottom引数を利用します．\n",
    "\n",
    "```Python\n",
    "plt.bar([x for x in fdt.index],fdt.Female,bottom=fdt.Male,width=5,color='pink',edgecolor='black',label='Female')\n",
    "plt.bar([x for x in fdt.index],fdt.Male,width=5,color='lightcyan',edgecolor='black',label='Male')\n",
    "plt.xlabel('Weight (kg)')\n",
    "plt.ylabel('Frequency')\n",
    "plt.legend()\n",
    "plt.show()\n",
    "```"
   ]
  },
  {
   "cell_type": "code",
   "execution_count": 10,
   "metadata": {},
   "outputs": [
    {
     "data": {
      "image/png": "[encoded data removed]",
      "text/plain": [
       "<Figure size 432x288 with 1 Axes>"
      ]
     },
     "metadata": {
      "needs_background": "light"
     },
     "output_type": "display_data"
    }
   ],
   "source": [
    "plt.bar([x for x in fdt.index],fdt.Female,bottom=fdt.Male,width=5,color='pink',edgecolor='black',label='Female')\n",
    "plt.bar([x for x in fdt.index],fdt.Male,width=5,color='lightcyan',edgecolor='black',label='Male')\n",
    "plt.xlabel('Weight (kg)')\n",
    "plt.ylabel('Frequency')\n",
    "plt.legend()\n",
    "plt.show()"
   ]
  },
  {
   "cell_type": "markdown",
   "metadata": {},
   "source": [
    "次の例は，二つのヒストグラムを別々の座標面に描画するが，比較しやすいように対のグラフにしています．\n",
    "そのためにサブプロット領域を定義するので，プログラムは複雑になります．\n",
    "\n",
    "ここでの棒グラフはmatplotlib.pyplotの<font color='green'>barh()</font>関数を使用しています．\n",
    "\n",
    "```Python\n",
    "fig, ax = plt.subplots(ncols=2, figsize=(8,6))  # 2 plot area\n",
    "# Female\n",
    "ax[0].barh(fdt.index,fdt.Female,color='pink',edgecolor='black',height=5, label='Female')  # horizontal bar\n",
    "ax[0].yaxis.tick_right()\n",
    "ax[0].set_yticks(np.array(range(0,101,10)))\n",
    "ax[0].set_yticklabels([])\n",
    "ax[0].set_xlim([20,0])\n",
    "ax[0].set_xlabel('Female weight distribution')\n",
    "# Male\n",
    "ax[1].barh(fdt.index,fdt.Male,color='lightcyan',edgecolor='black', height=5, label='Male')  # horizontal bar\n",
    "ax[1].set_yticks(np.array(range(0,101,10)))\n",
    "ax[1].set_xlim([0,20])\n",
    "ax[1].set_xlabel('Male weight distribution')\n",
    "#\n",
    "plt.show()\n",
    "```"
   ]
  },
  {
   "cell_type": "code",
   "execution_count": 11,
   "metadata": {},
   "outputs": [
    {
     "data": {
      "image/png": "[encoded data removed]",
      "text/plain": [
       "<Figure size 576x432 with 2 Axes>"
      ]
     },
     "metadata": {
      "needs_background": "light"
     },
     "output_type": "display_data"
    }
   ],
   "source": [
    "fig, ax = plt.subplots(ncols=2, figsize=(8,6))  # 2 plot area\n",
    "# Female\n",
    "ax[0].barh(fdt.index,fdt.Female,color='pink',edgecolor='black',height=5, label='Female')  # horizontal bar\n",
    "ax[0].yaxis.tick_right()\n",
    "ax[0].set_yticks(np.array(range(0,101,10)))\n",
    "ax[0].set_yticklabels([])\n",
    "ax[0].set_xlim([20,0])\n",
    "ax[0].set_xlabel('Female weight distribution')\n",
    "# Male\n",
    "ax[1].barh(fdt.index,fdt.Male,color='lightcyan',edgecolor='black', height=5, label='Male')  # horizontal bar\n",
    "ax[1].set_yticks(np.array(range(0,101,10)))\n",
    "ax[1].set_xlim([0,20])\n",
    "ax[1].set_xlabel('Male weight distribution')\n",
    "#\n",
    "plt.show()"
   ]
  },
  {
   "cell_type": "markdown",
   "metadata": {},
   "source": [
    "このような分類ごとの数値分布の比較は利用範囲の多いデータ分析方法です．\n",
    "\n",
    "以上で，カテゴリー値×数値の2変量統計を終了します．\n",
    "\n",
    "*****"
   ]
  }
 ],
 "metadata": {
  "kernelspec": {
   "display_name": "Python 3",
   "language": "python",
   "name": "python3"
  },
  "language_info": {
   "codemirror_mode": {
    "name": "ipython",
    "version": 3
   },
   "file_extension": ".py",
   "mimetype": "text/x-python",
   "name": "python",
   "nbconvert_exporter": "python",
   "pygments_lexer": "ipython3",
   "version": "3.7.4"
  }
 },
 "nbformat": 4,
 "nbformat_minor": 2
}
