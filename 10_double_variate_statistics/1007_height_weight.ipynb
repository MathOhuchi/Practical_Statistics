{
 "cells": [
  {
   "cell_type": "markdown",
   "metadata": {},
   "source": [
    "# 2変量統計：身長×体重\n",
    "\n",
    "これまで扱ってきた身体測定データの身長と体重について2変量統計を行います．\n",
    "数値×数値の2変量統計では，次の分析を実施します．\n",
    "\n",
    "- 散布図\n",
    "- 相関係数\n",
    "- 近似直線\n",
    "\n",
    "また，別の変量の影響が考えられる場合には，相関係数からその変量の影響を取り除いた偏相関係数を求めます．  "
   ]
  },
  {
   "cell_type": "markdown",
   "metadata": {},
   "source": [
    "## ライブラリーの搬入\n",
    "\n",
    "必要なライブラリーを搬入します．\n",
    "\n",
    "```Python\n",
    "import numpy as np\n",
    "import pandas as pd\n",
    "from sklearn import linear_model\n",
    "import matplotlib.pyplot as plt\n",
    "%matplotlib inline\n",
    "```"
   ]
  },
  {
   "cell_type": "code",
   "execution_count": 1,
   "metadata": {},
   "outputs": [],
   "source": [
    "import numpy as np\n",
    "import pandas as pd\n",
    "from sklearn import linear_model\n",
    "import matplotlib.pyplot as plt\n",
    "%matplotlib inline"
   ]
  },
  {
   "cell_type": "markdown",
   "metadata": {},
   "source": [
    "## データフレームの生成\n",
    "\n",
    "クレンジング済みのCSVファイルからデータを取り込み，データフレームを作成します．\n",
    "\n",
    "```Python\n",
    "df = pd.read_csv('./cleansed_body_data2.csv')\n",
    "df.set_index('person',inplace=True)\n",
    "```"
   ]
  },
  {
   "cell_type": "code",
   "execution_count": 2,
   "metadata": {},
   "outputs": [],
   "source": [
    "df = pd.read_csv('./cleansed_body_data2.csv')\n",
    "df.set_index('person',inplace=True)"
   ]
  },
  {
   "cell_type": "markdown",
   "metadata": {},
   "source": [
    "## 身長，体重データ\n",
    "\n",
    "身長×体重の分析を行うので，身長データと体重データだけを取り出して新規のデータフレームを作成します．\n",
    "このときに，欠損値のある行は削除します．\n",
    "\n",
    "```Python\n",
    "dfHW = df[['height','weight']].dropna()\n",
    "dfHW.describe()\n",
    "```"
   ]
  },
  {
   "cell_type": "code",
   "execution_count": 3,
   "metadata": {},
   "outputs": [
    {
     "data": {
      "text/html": [
       "<div>\n",
       "<style scoped>\n",
       "    .dataframe tbody tr th:only-of-type {\n",
       "        vertical-align: middle;\n",
       "    }\n",
       "\n",
       "    .dataframe tbody tr th {\n",
       "        vertical-align: top;\n",
       "    }\n",
       "\n",
       "    .dataframe thead th {\n",
       "        text-align: right;\n",
       "    }\n",
       "</style>\n",
       "<table border=\"1\" class=\"dataframe\">\n",
       "  <thead>\n",
       "    <tr style=\"text-align: right;\">\n",
       "      <th></th>\n",
       "      <th>height</th>\n",
       "      <th>weight</th>\n",
       "    </tr>\n",
       "  </thead>\n",
       "  <tbody>\n",
       "    <tr>\n",
       "      <td>count</td>\n",
       "      <td>198.000000</td>\n",
       "      <td>198.000000</td>\n",
       "    </tr>\n",
       "    <tr>\n",
       "      <td>mean</td>\n",
       "      <td>161.894949</td>\n",
       "      <td>67.364646</td>\n",
       "    </tr>\n",
       "    <tr>\n",
       "      <td>std</td>\n",
       "      <td>15.481978</td>\n",
       "      <td>17.181526</td>\n",
       "    </tr>\n",
       "    <tr>\n",
       "      <td>min</td>\n",
       "      <td>77.300000</td>\n",
       "      <td>9.900000</td>\n",
       "    </tr>\n",
       "    <tr>\n",
       "      <td>25%</td>\n",
       "      <td>154.950000</td>\n",
       "      <td>55.650000</td>\n",
       "    </tr>\n",
       "    <tr>\n",
       "      <td>50%</td>\n",
       "      <td>162.250000</td>\n",
       "      <td>66.800000</td>\n",
       "    </tr>\n",
       "    <tr>\n",
       "      <td>75%</td>\n",
       "      <td>170.700000</td>\n",
       "      <td>77.650000</td>\n",
       "    </tr>\n",
       "    <tr>\n",
       "      <td>max</td>\n",
       "      <td>187.800000</td>\n",
       "      <td>106.500000</td>\n",
       "    </tr>\n",
       "  </tbody>\n",
       "</table>\n",
       "</div>"
      ],
      "text/plain": [
       "           height      weight\n",
       "count  198.000000  198.000000\n",
       "mean   161.894949   67.364646\n",
       "std     15.481978   17.181526\n",
       "min     77.300000    9.900000\n",
       "25%    154.950000   55.650000\n",
       "50%    162.250000   66.800000\n",
       "75%    170.700000   77.650000\n",
       "max    187.800000  106.500000"
      ]
     },
     "execution_count": 3,
     "metadata": {},
     "output_type": "execute_result"
    }
   ],
   "source": [
    "dfHW = df[['height','weight']].dropna()\n",
    "dfHW.describe()"
   ]
  },
  {
   "cell_type": "markdown",
   "metadata": {},
   "source": [
    "オリジナルのデータでは体重について2件の欠損値がありましたので，それらの行が削除されていることが分かります．"
   ]
  },
  {
   "cell_type": "markdown",
   "metadata": {},
   "source": [
    "## 相関係数\n",
    "\n",
    "身長と体重の相関係数を求めます．\n",
    "後でグラフに表示するために，相関係数を文字列に変換しています．\n",
    "\n",
    "```Python\n",
    "corrHW = str(round(float(dfHW.height.corr(dfHW.weight)),3))\n",
    "corrHW\n",
    "```"
   ]
  },
  {
   "cell_type": "code",
   "execution_count": 4,
   "metadata": {},
   "outputs": [
    {
     "data": {
      "text/plain": [
       "'0.665'"
      ]
     },
     "execution_count": 4,
     "metadata": {},
     "output_type": "execute_result"
    }
   ],
   "source": [
    "corrHW = str(round(float(dfHW.height.corr(dfHW.weight)),3))\n",
    "corrHW"
   ]
  },
  {
   "cell_type": "markdown",
   "metadata": {},
   "source": [
    "この結果，身長と体重の間の正の相関が明確になりました．\n",
    "\n",
    "この後，グラフに引く直線の準備をします．"
   ]
  },
  {
   "cell_type": "markdown",
   "metadata": {},
   "source": [
    "## 身長から体重を予測する回帰直線\n",
    "\n",
    "身長から体重を予測する単回帰分析を行い，その回帰直線のデータを取得します．\n",
    "\n",
    "```Python\n",
    "reg1 = linear_model.LinearRegression()\n",
    "X1 = dfHW.height.values.reshape([-1,1])\n",
    "reg1.fit(X1,dfHW.weight.values)\n",
    "Y1 = reg1.predict(X1)\n",
    "```"
   ]
  },
  {
   "cell_type": "code",
   "execution_count": 5,
   "metadata": {},
   "outputs": [],
   "source": [
    "reg1 = linear_model.LinearRegression()\n",
    "X1 = dfHW.height.values.reshape([-1,1])\n",
    "reg1.fit(X1,dfHW.weight.values)\n",
    "Y1 = reg1.predict(X1)"
   ]
  },
  {
   "cell_type": "markdown",
   "metadata": {},
   "source": [
    "## 体重から身長を予測する回帰直線\n",
    "\n",
    "体重から身長を予測する単回帰分析を行い，その回帰直線のデータを取得します．\n",
    "\n",
    "```Python\n",
    "reg2 = linear_model.LinearRegression()\n",
    "Y2 = dfHW.weight.values.reshape([-1,1])\n",
    "reg2.fit(Y2,dfHW.height.values)\n",
    "X2 = reg2.predict(Y2)\n",
    "```"
   ]
  },
  {
   "cell_type": "code",
   "execution_count": 6,
   "metadata": {},
   "outputs": [],
   "source": [
    "reg2 = linear_model.LinearRegression()\n",
    "Y2 = dfHW.weight.values.reshape([-1,1])\n",
    "reg2.fit(Y2,dfHW.height.values)\n",
    "X2 = reg2.predict(Y2)"
   ]
  },
  {
   "cell_type": "markdown",
   "metadata": {},
   "source": [
    "## 第1主成分の直線\n",
    "\n",
    "分散共分散行列の第1固有ベクトルによる直線を求めます．\n",
    "まず，分散共分散行列を求めて変数 covMatrix に代入します．\n",
    "\n",
    "```Python\n",
    "covMatrix = np.cov(dfHW.height,dfHW.weight,bias=True)\n",
    "covMatrix\n",
    "```"
   ]
  },
  {
   "cell_type": "code",
   "execution_count": 7,
   "metadata": {},
   "outputs": [
    {
     "data": {
      "text/plain": [
       "array([[238.4810856 , 176.05956892],\n",
       "       [176.05956892, 293.71390164]])"
      ]
     },
     "execution_count": 7,
     "metadata": {},
     "output_type": "execute_result"
    }
   ],
   "source": [
    "covMatrix = np.cov(dfHW.height,dfHW.weight,bias=True)\n",
    "covMatrix"
   ]
  },
  {
   "cell_type": "markdown",
   "metadata": {},
   "source": [
    "固有値と固有ベクトルを求めます．\n",
    "\n",
    "```Python\n",
    "eigen_values,eigen_vectors = np.linalg.eig(covMatrix)\n",
    "eigen_values\n",
    "```"
   ]
  },
  {
   "cell_type": "code",
   "execution_count": 8,
   "metadata": {},
   "outputs": [
    {
     "data": {
      "text/plain": [
       "array([ 87.88515454, 444.3098327 ])"
      ]
     },
     "execution_count": 8,
     "metadata": {},
     "output_type": "execute_result"
    }
   ],
   "source": [
    "eigen_values,eigen_vectors = np.linalg.eig(covMatrix)\n",
    "eigen_values"
   ]
  },
  {
   "cell_type": "markdown",
   "metadata": {},
   "source": [
    "大きい固有値に対応する固有ベクトルから直線の傾きを求めます．\n",
    "\n",
    "```Python\n",
    "if eigen_values[0] > eigen_values[1]:\n",
    "    coef = eigen_vectors[1,0]/eigen_vectors[0,0]\n",
    "else:\n",
    "    coef = eigen_vectors[1,1]/eigen_vectors[0,1]\n",
    "coef\n",
    "```"
   ]
  },
  {
   "cell_type": "code",
   "execution_count": 9,
   "metadata": {},
   "outputs": [
    {
     "data": {
      "text/plain": [
       "1.1690858290830943"
      ]
     },
     "execution_count": 9,
     "metadata": {},
     "output_type": "execute_result"
    }
   ],
   "source": [
    "if eigen_values[0] > eigen_values[1]:\n",
    "    coef = eigen_vectors[1,0]/eigen_vectors[0,0]\n",
    "else:\n",
    "    coef = eigen_vectors[1,1]/eigen_vectors[0,1]\n",
    "coef"
   ]
  },
  {
   "cell_type": "markdown",
   "metadata": {},
   "source": [
    "この傾きで，重心を通る直線を求めます．\n",
    "両端をどこまで取るかは，実際にグラフを描いて調整します．\n",
    "\n",
    "```Python\n",
    "X3 = [100,190]\n",
    "Y3 = [coef*a+dfHW.weight.mean()-coef*dfHW.height.mean() for a in X3]\n",
    "```"
   ]
  },
  {
   "cell_type": "code",
   "execution_count": 10,
   "metadata": {},
   "outputs": [],
   "source": [
    "X3 = [100,190]\n",
    "Y3 = [coef*a+dfHW.weight.mean()-coef*dfHW.height.mean() for a in X3]"
   ]
  },
  {
   "cell_type": "markdown",
   "metadata": {},
   "source": [
    "## グラフの描画\n",
    "\n",
    "matplotlibライブラリーを用いて散布図および近似直線のグラフを描画します．\n",
    "\n",
    "```Python\n",
    "# X based regression\n",
    "plt.plot(dfHW.height,Y1,color='green',label='Normal regression')\n",
    "# Y based regression\n",
    "plt.plot(X2,dfHW.weight,color='blue',label='Inverse regression')\n",
    "# eigen vector fitting\n",
    "plt.plot(X3,Y3,color='brown',label='Eigen vector')\n",
    "# scatter\n",
    "plt.scatter(dfHW.height,dfHW.weight,label='data plot',color='skyblue')\n",
    "# decoration\n",
    "plt.title('Correlation='+corrHW)\n",
    "plt.xlabel('Height (cm)')\n",
    "plt.ylabel('Weight (kg)')\n",
    "plt.axis('scaled') \n",
    "plt.legend(bbox_to_anchor=(1, 1))\n",
    "plt.show()\n",
    "```"
   ]
  },
  {
   "cell_type": "code",
   "execution_count": 11,
   "metadata": {
    "scrolled": true
   },
   "outputs": [
    {
     "data": {
      "image/png": "[encoded data removed]",
      "text/plain": [
       "<Figure size 432x288 with 1 Axes>"
      ]
     },
     "metadata": {
      "needs_background": "light"
     },
     "output_type": "display_data"
    }
   ],
   "source": [
    "# X based regression\n",
    "plt.plot(dfHW.height,Y1,color='green',label='Normal regression')\n",
    "# Y based regression\n",
    "plt.plot(X2,dfHW.weight,color='blue',label='Inverse regression')\n",
    "# eigen vector fitting\n",
    "plt.plot(X3,Y3,color='brown',label='Eigen vector')\n",
    "# scatter\n",
    "plt.scatter(dfHW.height,dfHW.weight,label='data plot',color='skyblue',alpha=0.5)\n",
    "# decoration\n",
    "plt.title('Correlation='+corrHW)\n",
    "plt.xlabel('Height (cm)')\n",
    "plt.ylabel('Weight (kg)')\n",
    "plt.axis('scaled') \n",
    "plt.legend(bbox_to_anchor=(1, 1))\n",
    "plt.show()"
   ]
  },
  {
   "cell_type": "markdown",
   "metadata": {},
   "source": [
    "## グラフの解読\n",
    "\n",
    "このグラフを見ると，改めて近似直線を選択することの難しさがあります．\n",
    "データの分布には幾つもの要因があり，必ずしも1つの直線的な関係に収めてしまうことは単純化し過ぎのようです．\n",
    "身長と体重の関係についての考察を検討します．\n",
    "\n",
    "- 身長と体重の間には正の相関が認められる．\n",
    "- 乳幼児から成人にかけての身長および体重については，年齢が隠れた要因になっている．\n",
    "- 成人以降は，年齢の影響が無くなる．\n",
    "\n",
    "このようなことを考慮するならば，成長期と成人のデータを分けて分布を確認することが，興味ある探索的データ分析と言えます．"
   ]
  },
  {
   "cell_type": "markdown",
   "metadata": {},
   "source": [
    "## 偏相関係数\n",
    "\n",
    "身長と体重の相関には，年齢の影響があると考えられます．\n",
    "そこで身長と体重の相関係数から年齢の影響を取り除いた相関係数を求めてみます．\n",
    "このような第3の変量の影響を除いた相関係数を偏相関係数と言います．\n",
    "\n",
    "変量 $x$, $y$, $z$ について，$z$ の影響を除いた $x$ と $y$ の偏相関係数を $r_{xy-z}$ とすると，\n",
    "\n",
    "> $$ r_{xy-z} = \\frac{r_{xy}-r_{xz}r_{yz}}{\\sqrt{1-{r_{xz}}^2}\\sqrt{1-{r_{yz}}^2}} $$"
   ]
  },
  {
   "cell_type": "markdown",
   "metadata": {},
   "source": [
    "データフレームの corr()関数によって，数値データの相関係数を一度に求めます．\n",
    "\n",
    "```Python\n",
    "corrXYZ = df.corr()\n",
    "corrXYZ\n",
    "```"
   ]
  },
  {
   "cell_type": "code",
   "execution_count": 12,
   "metadata": {},
   "outputs": [
    {
     "data": {
      "text/html": [
       "<div>\n",
       "<style scoped>\n",
       "    .dataframe tbody tr th:only-of-type {\n",
       "        vertical-align: middle;\n",
       "    }\n",
       "\n",
       "    .dataframe tbody tr th {\n",
       "        vertical-align: top;\n",
       "    }\n",
       "\n",
       "    .dataframe thead th {\n",
       "        text-align: right;\n",
       "    }\n",
       "</style>\n",
       "<table border=\"1\" class=\"dataframe\">\n",
       "  <thead>\n",
       "    <tr style=\"text-align: right;\">\n",
       "      <th></th>\n",
       "      <th>height</th>\n",
       "      <th>weight</th>\n",
       "      <th>age</th>\n",
       "    </tr>\n",
       "  </thead>\n",
       "  <tbody>\n",
       "    <tr>\n",
       "      <td>height</td>\n",
       "      <td>1.000000</td>\n",
       "      <td>0.665228</td>\n",
       "      <td>0.233123</td>\n",
       "    </tr>\n",
       "    <tr>\n",
       "      <td>weight</td>\n",
       "      <td>0.665228</td>\n",
       "      <td>1.000000</td>\n",
       "      <td>0.204400</td>\n",
       "    </tr>\n",
       "    <tr>\n",
       "      <td>age</td>\n",
       "      <td>0.233123</td>\n",
       "      <td>0.204400</td>\n",
       "      <td>1.000000</td>\n",
       "    </tr>\n",
       "  </tbody>\n",
       "</table>\n",
       "</div>"
      ],
      "text/plain": [
       "          height    weight       age\n",
       "height  1.000000  0.665228  0.233123\n",
       "weight  0.665228  1.000000  0.204400\n",
       "age     0.233123  0.204400  1.000000"
      ]
     },
     "execution_count": 12,
     "metadata": {},
     "output_type": "execute_result"
    }
   ],
   "source": [
    "corrXYZ = df.corr()\n",
    "corrXYZ"
   ]
  },
  {
   "cell_type": "markdown",
   "metadata": {},
   "source": [
    "このデータでは，成長期の人が少ないため，年齢と身長・体重との相関係数が小さな値になっています．\n",
    "ただし，成長期の人に限れば高い相関係数になります．\n",
    "\n",
    "さて，これらの相関係数を用いて，身長と体重から年齢の影響を除いた偏相関係数を求めます．\n",
    "\n",
    "```Python\n",
    "rXY = corrXYZ.height.weight\n",
    "rXZ = corrXYZ.height.age\n",
    "rYZ = corrXYZ.weight.age\n",
    "(rXY-rXZ*rYZ)/np.sqrt(1-rXZ**2)/np.sqrt(1-rYZ**2)\n",
    "```"
   ]
  },
  {
   "cell_type": "code",
   "execution_count": 13,
   "metadata": {},
   "outputs": [
    {
     "data": {
      "text/plain": [
       "0.6487728006300634"
      ]
     },
     "execution_count": 13,
     "metadata": {},
     "output_type": "execute_result"
    }
   ],
   "source": [
    "rXY = corrXYZ.height.weight\n",
    "rXZ = corrXYZ.height.age\n",
    "rYZ = corrXYZ.weight.age\n",
    "(rXY-rXZ*rYZ)/np.sqrt(1-rXZ**2)/np.sqrt(1-rYZ**2)"
   ]
  },
  {
   "cell_type": "markdown",
   "metadata": {},
   "source": [
    "年齢の影響を除くと，相関が若干ですが弱くなっていることが分かります．\n",
    "\n",
    "*****"
   ]
  }
 ],
 "metadata": {
  "kernelspec": {
   "display_name": "Python 3",
   "language": "python",
   "name": "python3"
  },
  "language_info": {
   "codemirror_mode": {
    "name": "ipython",
    "version": 3
   },
   "file_extension": ".py",
   "mimetype": "text/x-python",
   "name": "python",
   "nbconvert_exporter": "python",
   "pygments_lexer": "ipython3",
   "version": "3.7.4"
  }
 },
 "nbformat": 4,
 "nbformat_minor": 2
}
