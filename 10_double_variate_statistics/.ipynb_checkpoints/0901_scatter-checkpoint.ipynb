{
 "cells": [
  {
   "cell_type": "markdown",
   "metadata": {},
   "source": [
    "# 散布図\n",
    "\n",
    "2変量のデータを2軸の平面にプロットした図を散布図といいます．\n",
    "\n",
    "ここでは，身長と体重の2変量についての散布図を確認します．"
   ]
  },
  {
   "cell_type": "markdown",
   "metadata": {},
   "source": [
    "### ライブラリーの搬入\n",
    "Pythonで散布図を描画するには，matplotlib.pyplotの<font color=green>scatter()</font>関数を使用します．\n",
    "まずは，必要なライブラリーを搬入します．\n",
    "\n",
    "```Python\n",
    "import pandas as pd\n",
    "import matplotlib.pyplot as plt\n",
    "%matplotlib inline\n",
    "```"
   ]
  },
  {
   "cell_type": "code",
   "execution_count": 1,
   "metadata": {
    "collapsed": true
   },
   "outputs": [],
   "source": [
    "import pandas as pd\n",
    "import matplotlib.pyplot as plt\n",
    "%matplotlib inline"
   ]
  },
  {
   "cell_type": "markdown",
   "metadata": {},
   "source": [
    "### データフレームの作成\n",
    "クレンジング済みのデータをCSVファイルから取り込んでデータフレームを作成します．\n",
    "\n",
    "```Python\n",
    "df = pd.read_csv('./cleansed_body_data2.csv')\n",
    "df.set_index('person',inplace=True)\n",
    "```"
   ]
  },
  {
   "cell_type": "code",
   "execution_count": 2,
   "metadata": {
    "collapsed": true
   },
   "outputs": [],
   "source": [
    "df = pd.read_csv('./cleansed_body_data2.csv')\n",
    "df.set_index('person',inplace=True)"
   ]
  },
  {
   "cell_type": "markdown",
   "metadata": {},
   "source": [
    "### 散布図の描画\n",
    "グラフの作成には，次の関数を使用します．\n",
    "- <font face='courier new' color='green'>scatter</font>：散布図の点の描画\n",
    "- <font face='courier new' color='green'>xlabel</font>：x軸のラベル\n",
    "- <font face='courier new' color='green'>ylabel</font>：y軸のラベル\n",
    "- <font face='courier new' color='green'>axis</font>：グラフの縦横比の指定\n",
    "- <font face='courier new' color='green'>show</font>：完成した図の表示"
   ]
  },
  {
   "cell_type": "markdown",
   "metadata": {},
   "source": [
    "### scatter()関数\n",
    "\n",
    "scatter()関数の構文は次の通りになります．\n",
    "\n",
    "> <font face='courier new' color='green'>matplotlib.pyplot.scatter(*xdata*,*ydata*, **kwdargs)</font>\n",
    "\n",
    "**必須の引数**\n",
    "- xdata：x軸方向のデータを配列で指定\n",
    "- ydata：y軸方向のデータを配列で指定\n",
    "\n",
    "ただし，xdata と ydata の配列のサイズは同じです．\n",
    "2次元平面において，プロットする点は，$(x_i,y_i)$ となります．\n",
    "\n",
    "**主要なキーワード指定の引数**\n",
    "\n",
    "\\*\\*kwargsは，キーワードを指定して値を与える引数です．\n",
    "\n",
    "|引数|説明|デフォルト値|\n",
    "|:---:|:---:|:---:|\n",
    "| s    |マーカーのサイズ| =20 |\n",
    "| color|マーカーの色|  |\n",
    "| maker|マーカーの形| ='o' |\n",
    "| edgecolor|マーカーの縁の色|  |\n",
    "| alpha |マーカーの透明度, 0:透明～1:不透明| 1 |\n",
    "\n",
    "scatter()関数の詳細についてはマニュアルを参照してください．\n",
    "[https://matplotlib.org/3.1.1/api/_as_gen/matplotlib.pyplot.scatter.html](https://matplotlib.org/3.1.1/api/_as_gen/matplotlib.pyplot.scatter.html)"
   ]
  },
  {
   "cell_type": "markdown",
   "metadata": {},
   "source": [
    "散布図の描画プログラムは次の通りです．\n",
    "```Python\n",
    "plt.scatter(df['height'],df['weight'],color='skyblue',edgecolor='blue',alpha=0.5)\n",
    "plt.title('Scatter chart')\n",
    "plt.xlabel('Height (cm)')\n",
    "plt.ylabel('Weight (kg)')\n",
    "plt.axis('scaled')\n",
    "plt.show()\n",
    "```"
   ]
  },
  {
   "cell_type": "code",
   "execution_count": 3,
   "metadata": {},
   "outputs": [
    {
     "data": {
      "image/png": "[encoded data removed]",
      "text/plain": [
       "<matplotlib.figure.Figure at 0x236860d4da0>"
      ]
     },
     "metadata": {},
     "output_type": "display_data"
    }
   ],
   "source": [
    "plt.scatter(df['height'],df['weight'],color='skyblue',edgecolor='blue',alpha=0.5)\n",
    "plt.title('Scatter chart')\n",
    "plt.xlabel('Height (cm)')\n",
    "plt.ylabel('Weight (kg)')\n",
    "plt.axis('scaled')\n",
    "plt.show()"
   ]
  },
  {
   "cell_type": "markdown",
   "metadata": {},
   "source": [
    "この散布図を見ると身長と体重の間に何らかの関連性がありそうです．\n",
    "2変量の間の直線的な関係を相関と言います．\n",
    "相関については，後続のレクチャーで確認します．"
   ]
  },
  {
   "cell_type": "markdown",
   "metadata": {},
   "source": [
    "### 複数データの散布図\n",
    "\n",
    "scatter()関数において，そのマーカーの色や形を指定することができます．\n",
    "そこで，異なるデータに対して，異なるマーカーを指定することにより，1つのグラフに複数の散布を表示することが可能になります．\n",
    "\n",
    "\n",
    "> <font face='courier new' color='green'>matplotlib.pyplot.scatter(*xdata*,*ydata*,marker=*'o'*,color=*'blue'*)</font>\n",
    "\n",
    "- <font face='courier new' color='green'>marker</font>：マーカーの種類，<font face='courier new'>'o', '^', '\\*', 's' </font>など\n",
    "- <font face='courier new' color='green'>color</font>：マーカーの色，<font face='courier new'>'blue', 'green', 'red' </font>など"
   ]
  },
  {
   "cell_type": "markdown",
   "metadata": {},
   "source": [
    "データフレームにおいて，角括弧の中に条件を指定することによりデータの一部分を抽出することができます．  \n",
    "例として，女性で血液型がAB型の人の身長データを抽出します．\n",
    "\n",
    "```Python\n",
    "df[(df.gender=='Female')&(df.blood=='AB')].height\n",
    "```"
   ]
  },
  {
   "cell_type": "code",
   "execution_count": 4,
   "metadata": {},
   "outputs": [
    {
     "data": {
      "text/plain": [
       "person\n",
       "p037    161.5\n",
       "p108    162.4\n",
       "p186    153.4\n",
       "Name: height, dtype: float64"
      ]
     },
     "execution_count": 4,
     "metadata": {},
     "output_type": "execute_result"
    }
   ],
   "source": [
    "df[(df.gender=='Female')&(df.blood=='AB')].height"
   ]
  },
  {
   "cell_type": "markdown",
   "metadata": {},
   "source": [
    "この方法を使って2種類のデータを抽出して散布図を作成します．\n",
    "1. 男性の身長×体重\n",
    "- 女性の身長×体重\n",
    "\n",
    "```Python\n",
    "plt.scatter(df[df.gender=='Male'].height,df[df.gender=='Male'].weight,marker='o',color='blue',label='Male')\n",
    "plt.scatter(df[df.gender=='Female'].height,df[df.gender=='Female'].weight,marker='^',color='red',label='Female')\n",
    "plt.xlabel('Height (cm)')\n",
    "plt.ylabel('Weight (kg)')\n",
    "plt.legend()\n",
    "plt.axis('scaled')\n",
    "plt.show()\n",
    "```"
   ]
  },
  {
   "cell_type": "code",
   "execution_count": 5,
   "metadata": {},
   "outputs": [
    {
     "data": {
      "image/png": "[encoded data removed]",
      "text/plain": [
       "<matplotlib.figure.Figure at 0x2368653e978>"
      ]
     },
     "metadata": {},
     "output_type": "display_data"
    }
   ],
   "source": [
    "plt.scatter(df[df.gender=='Male'].height,df[df.gender=='Male'].weight,marker='o',color='blue',label='Male',alpha=0.5)\n",
    "plt.scatter(df[df.gender=='Female'].height,df[df.gender=='Female'].weight,marker='^',color='red',label='Female',alpha=0.5)\n",
    "plt.title('Scatter by gender')\n",
    "plt.xlabel('Height (cm)')\n",
    "plt.ylabel('Weight (kg)')\n",
    "plt.legend()\n",
    "plt.axis('scaled')\n",
    "plt.show()"
   ]
  },
  {
   "cell_type": "markdown",
   "metadata": {
    "collapsed": true
   },
   "source": [
    "以上が散布図の描画方法です．"
   ]
  },
  {
   "cell_type": "markdown",
   "metadata": {},
   "source": [
    "*****\n",
    "## バブルチャート\n",
    "\n",
    "散布図のマークの大きさは個々のプロットごとに変更することが可能です．\n",
    "この機能を利用するとバブルチャートを描画することが可能となります．"
   ]
  },
  {
   "cell_type": "markdown",
   "metadata": {},
   "source": [
    "ここでは，身長と体重を階級化して，その分布度数をバブルの大きさとしたチャートを作成します．\n",
    "それぞれの値の1桁目を四捨五入して階級幅10の階級にします．\n",
    "階級データはデータフレームの新しい列として保存します．\n",
    "\n",
    "```Python\n",
    "df['heightClass'] = round(df.height,-1)\n",
    "df['weightClass'] = round(df.weight,-1)\n",
    "```"
   ]
  },
  {
   "cell_type": "code",
   "execution_count": 6,
   "metadata": {
    "collapsed": true
   },
   "outputs": [],
   "source": [
    "df['heightClass'] = round(df.height,-1)\n",
    "df['weightClass'] = round(df.weight,-1)"
   ]
  },
  {
   "cell_type": "markdown",
   "metadata": {},
   "source": [
    "身長階級と体重階級のクロス集計を求めます．\n",
    "クロス集計は，<font color='green'>pd.crosstab()</font>関数で求まります．\n",
    "\n",
    "```Python\n",
    "xHW = pd.crosstab(df.heightClass,df.weightClass)\n",
    "xHW\n",
    "```"
   ]
  },
  {
   "cell_type": "code",
   "execution_count": 7,
   "metadata": {},
   "outputs": [
    {
     "data": {
      "text/html": [
       "<div>\n",
       "<style>\n",
       "    .dataframe thead tr:only-child th {\n",
       "        text-align: right;\n",
       "    }\n",
       "\n",
       "    .dataframe thead th {\n",
       "        text-align: left;\n",
       "    }\n",
       "\n",
       "    .dataframe tbody tr th {\n",
       "        vertical-align: top;\n",
       "    }\n",
       "</style>\n",
       "<table border=\"1\" class=\"dataframe\">\n",
       "  <thead>\n",
       "    <tr style=\"text-align: right;\">\n",
       "      <th>weightClass</th>\n",
       "      <th>10.0</th>\n",
       "      <th>20.0</th>\n",
       "      <th>40.0</th>\n",
       "      <th>50.0</th>\n",
       "      <th>60.0</th>\n",
       "      <th>70.0</th>\n",
       "      <th>80.0</th>\n",
       "      <th>90.0</th>\n",
       "      <th>100.0</th>\n",
       "      <th>110.0</th>\n",
       "    </tr>\n",
       "    <tr>\n",
       "      <th>heightClass</th>\n",
       "      <th></th>\n",
       "      <th></th>\n",
       "      <th></th>\n",
       "      <th></th>\n",
       "      <th></th>\n",
       "      <th></th>\n",
       "      <th></th>\n",
       "      <th></th>\n",
       "      <th></th>\n",
       "      <th></th>\n",
       "    </tr>\n",
       "  </thead>\n",
       "  <tbody>\n",
       "    <tr>\n",
       "      <th>80.0</th>\n",
       "      <td>2</td>\n",
       "      <td>0</td>\n",
       "      <td>0</td>\n",
       "      <td>0</td>\n",
       "      <td>0</td>\n",
       "      <td>0</td>\n",
       "      <td>0</td>\n",
       "      <td>0</td>\n",
       "      <td>0</td>\n",
       "      <td>0</td>\n",
       "    </tr>\n",
       "    <tr>\n",
       "      <th>100.0</th>\n",
       "      <td>0</td>\n",
       "      <td>1</td>\n",
       "      <td>0</td>\n",
       "      <td>0</td>\n",
       "      <td>0</td>\n",
       "      <td>0</td>\n",
       "      <td>0</td>\n",
       "      <td>0</td>\n",
       "      <td>0</td>\n",
       "      <td>0</td>\n",
       "    </tr>\n",
       "    <tr>\n",
       "      <th>120.0</th>\n",
       "      <td>0</td>\n",
       "      <td>1</td>\n",
       "      <td>0</td>\n",
       "      <td>0</td>\n",
       "      <td>0</td>\n",
       "      <td>0</td>\n",
       "      <td>0</td>\n",
       "      <td>0</td>\n",
       "      <td>0</td>\n",
       "      <td>0</td>\n",
       "    </tr>\n",
       "    <tr>\n",
       "      <th>130.0</th>\n",
       "      <td>0</td>\n",
       "      <td>0</td>\n",
       "      <td>1</td>\n",
       "      <td>0</td>\n",
       "      <td>0</td>\n",
       "      <td>0</td>\n",
       "      <td>0</td>\n",
       "      <td>0</td>\n",
       "      <td>0</td>\n",
       "      <td>0</td>\n",
       "    </tr>\n",
       "    <tr>\n",
       "      <th>140.0</th>\n",
       "      <td>0</td>\n",
       "      <td>0</td>\n",
       "      <td>3</td>\n",
       "      <td>4</td>\n",
       "      <td>3</td>\n",
       "      <td>1</td>\n",
       "      <td>0</td>\n",
       "      <td>0</td>\n",
       "      <td>0</td>\n",
       "      <td>0</td>\n",
       "    </tr>\n",
       "    <tr>\n",
       "      <th>150.0</th>\n",
       "      <td>0</td>\n",
       "      <td>0</td>\n",
       "      <td>2</td>\n",
       "      <td>9</td>\n",
       "      <td>11</td>\n",
       "      <td>8</td>\n",
       "      <td>4</td>\n",
       "      <td>0</td>\n",
       "      <td>0</td>\n",
       "      <td>0</td>\n",
       "    </tr>\n",
       "    <tr>\n",
       "      <th>160.0</th>\n",
       "      <td>0</td>\n",
       "      <td>0</td>\n",
       "      <td>2</td>\n",
       "      <td>17</td>\n",
       "      <td>12</td>\n",
       "      <td>15</td>\n",
       "      <td>14</td>\n",
       "      <td>3</td>\n",
       "      <td>2</td>\n",
       "      <td>0</td>\n",
       "    </tr>\n",
       "    <tr>\n",
       "      <th>170.0</th>\n",
       "      <td>0</td>\n",
       "      <td>0</td>\n",
       "      <td>0</td>\n",
       "      <td>4</td>\n",
       "      <td>12</td>\n",
       "      <td>9</td>\n",
       "      <td>16</td>\n",
       "      <td>5</td>\n",
       "      <td>4</td>\n",
       "      <td>1</td>\n",
       "    </tr>\n",
       "    <tr>\n",
       "      <th>180.0</th>\n",
       "      <td>0</td>\n",
       "      <td>0</td>\n",
       "      <td>0</td>\n",
       "      <td>0</td>\n",
       "      <td>4</td>\n",
       "      <td>6</td>\n",
       "      <td>4</td>\n",
       "      <td>7</td>\n",
       "      <td>3</td>\n",
       "      <td>1</td>\n",
       "    </tr>\n",
       "    <tr>\n",
       "      <th>190.0</th>\n",
       "      <td>0</td>\n",
       "      <td>0</td>\n",
       "      <td>0</td>\n",
       "      <td>0</td>\n",
       "      <td>1</td>\n",
       "      <td>3</td>\n",
       "      <td>1</td>\n",
       "      <td>0</td>\n",
       "      <td>1</td>\n",
       "      <td>1</td>\n",
       "    </tr>\n",
       "  </tbody>\n",
       "</table>\n",
       "</div>"
      ],
      "text/plain": [
       "weightClass  10.0   20.0   40.0   50.0   60.0   70.0   80.0   90.0   100.0  \\\n",
       "heightClass                                                                  \n",
       "80.0             2      0      0      0      0      0      0      0      0   \n",
       "100.0            0      1      0      0      0      0      0      0      0   \n",
       "120.0            0      1      0      0      0      0      0      0      0   \n",
       "130.0            0      0      1      0      0      0      0      0      0   \n",
       "140.0            0      0      3      4      3      1      0      0      0   \n",
       "150.0            0      0      2      9     11      8      4      0      0   \n",
       "160.0            0      0      2     17     12     15     14      3      2   \n",
       "170.0            0      0      0      4     12      9     16      5      4   \n",
       "180.0            0      0      0      0      4      6      4      7      3   \n",
       "190.0            0      0      0      0      1      3      1      0      1   \n",
       "\n",
       "weightClass  110.0  \n",
       "heightClass         \n",
       "80.0             0  \n",
       "100.0            0  \n",
       "120.0            0  \n",
       "130.0            0  \n",
       "140.0            0  \n",
       "150.0            0  \n",
       "160.0            0  \n",
       "170.0            1  \n",
       "180.0            1  \n",
       "190.0            1  "
      ]
     },
     "execution_count": 7,
     "metadata": {},
     "output_type": "execute_result"
    }
   ],
   "source": [
    "xHW = pd.crosstab(df.heightClass,df.weightClass)\n",
    "xHW"
   ]
  },
  {
   "cell_type": "markdown",
   "metadata": {},
   "source": [
    "このように，クロス集計は身長と体重の階級の組み合わせた値の度数になっています．\n",
    "\n",
    "この表からクロス集計の値がゼロでない階級と度数の組を抽出して新しいデータフレームとして作成します．\n",
    "この抽出にはリスト内包表記にてfor構文を2重に使用しています．\n",
    "\n",
    "```Python\n",
    "hwc = [[b,a,xHW[a][b]] for b in set(df.heightClass.dropna()) for a in set(df.weightClass.dropna()) if xHW[a][b]!=0 ]\n",
    "dfX = pd.DataFrame(hwc,columns=['height','weight','counts'])\n",
    "dfX.head(3)\n",
    "```"
   ]
  },
  {
   "cell_type": "code",
   "execution_count": 8,
   "metadata": {
    "scrolled": true
   },
   "outputs": [
    {
     "data": {
      "text/html": [
       "<div>\n",
       "<style>\n",
       "    .dataframe thead tr:only-child th {\n",
       "        text-align: right;\n",
       "    }\n",
       "\n",
       "    .dataframe thead th {\n",
       "        text-align: left;\n",
       "    }\n",
       "\n",
       "    .dataframe tbody tr th {\n",
       "        vertical-align: top;\n",
       "    }\n",
       "</style>\n",
       "<table border=\"1\" class=\"dataframe\">\n",
       "  <thead>\n",
       "    <tr style=\"text-align: right;\">\n",
       "      <th></th>\n",
       "      <th>height</th>\n",
       "      <th>weight</th>\n",
       "      <th>counts</th>\n",
       "    </tr>\n",
       "  </thead>\n",
       "  <tbody>\n",
       "    <tr>\n",
       "      <th>0</th>\n",
       "      <td>160.0</td>\n",
       "      <td>100.0</td>\n",
       "      <td>2</td>\n",
       "    </tr>\n",
       "    <tr>\n",
       "      <th>1</th>\n",
       "      <td>160.0</td>\n",
       "      <td>70.0</td>\n",
       "      <td>15</td>\n",
       "    </tr>\n",
       "    <tr>\n",
       "      <th>2</th>\n",
       "      <td>160.0</td>\n",
       "      <td>40.0</td>\n",
       "      <td>2</td>\n",
       "    </tr>\n",
       "  </tbody>\n",
       "</table>\n",
       "</div>"
      ],
      "text/plain": [
       "   height  weight  counts\n",
       "0   160.0   100.0       2\n",
       "1   160.0    70.0      15\n",
       "2   160.0    40.0       2"
      ]
     },
     "execution_count": 8,
     "metadata": {},
     "output_type": "execute_result"
    }
   ],
   "source": [
    "hwc = [[b,a,xHW[a][b]] for b in set(df.heightClass.dropna()) for a in set(df.weightClass.dropna()) if xHW[a][b]!=0 ]\n",
    "dfX = pd.DataFrame(hwc,columns=['height','weight','counts'])\n",
    "dfX.head(3)"
   ]
  },
  {
   "cell_type": "markdown",
   "metadata": {},
   "source": [
    "matplotlibのscatter()関数でX軸データをdfX.height，Y軸データをdfX.weight，円のサイズをdfX.countsにして，バブルチャートを描画します．\n",
    "\n",
    "> <font face='courier new' color='green'>\n",
    "plt.scatter(dfX.height,dfX.weight,s=20*dfX.counts,color='skyblue',edgecolor='blue',alpha=0.5)\n",
    "</font>\n",
    "\n",
    "ここでパラメータは次の通りです．\n",
    "\n",
    "- <font face='courier new'>s=20\\*dfX</font>：円の大きさ  \n",
    "- <font face='courier new'>color='skyblue'</font>：円の色  \n",
    "- <font face='courier new'>edgecolor='blue'</font>：円の縁の色  \n",
    "- <font face='courier new'>alpha=0.5</font>：円の透過度  "
   ]
  },
  {
   "cell_type": "markdown",
   "metadata": {},
   "source": [
    "さらにグラフに幾つかの情報を加えた次のプログラムで描画します．\n",
    "\n",
    "```Python\n",
    "plt.scatter(dfX.height,dfX.weight,s=20*dfX.counts,color='skyblue',edgecolor='blue',alpha=0.5)\n",
    "plt.title('Bubble chart')\n",
    "plt.xlabel('Height (cm)')\n",
    "plt.ylabel('Weight (kg)')\n",
    "plt.axis('scaled') \n",
    "plt.show()\n",
    "```"
   ]
  },
  {
   "cell_type": "code",
   "execution_count": 9,
   "metadata": {},
   "outputs": [
    {
     "data": {
      "image/png": "[encoded data removed]",
      "text/plain": [
       "<matplotlib.figure.Figure at 0x23686577f60>"
      ]
     },
     "metadata": {},
     "output_type": "display_data"
    }
   ],
   "source": [
    "plt.scatter(dfX.height,dfX.weight,s=20*dfX.counts,color='skyblue',edgecolor='blue',alpha=0.5)\n",
    "plt.title('Bubble chart')\n",
    "plt.xlabel('Height (cm)')\n",
    "plt.ylabel('Weight (kg)')\n",
    "plt.axis('scaled') \n",
    "plt.show()"
   ]
  },
  {
   "cell_type": "markdown",
   "metadata": {},
   "source": [
    "一般的にバブルチャートはポートフォリオを示すグラフとして利用されます．\n",
    "\n",
    "*****"
   ]
  }
 ],
 "metadata": {
  "kernelspec": {
   "display_name": "Python 3",
   "language": "python",
   "name": "python3"
  },
  "language_info": {
   "codemirror_mode": {
    "name": "ipython",
    "version": 3
   },
   "file_extension": ".py",
   "mimetype": "text/x-python",
   "name": "python",
   "nbconvert_exporter": "python",
   "pygments_lexer": "ipython3",
   "version": "3.6.1"
  }
 },
 "nbformat": 4,
 "nbformat_minor": 2
}
