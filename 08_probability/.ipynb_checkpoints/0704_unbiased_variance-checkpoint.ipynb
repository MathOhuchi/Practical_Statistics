{
 "cells": [
  {
   "cell_type": "markdown",
   "metadata": {},
   "source": [
    "# 不変推定量\n",
    "\n",
    "データを扱うときの前提として，そのデータが全てであるか或いは一部分を抽出したサンプルデータであるかによって，分散と標準偏差の計算が若干異なります．\n",
    "この違いについて説明します．\n",
    "\n",
    "まず，データの対象となる全ての集合を母集団と言います．\n",
    "この言葉を引用して，全体のデータを母集団データと言います．\n",
    "\n",
    "母集団からランダムに取り出した部分集合を標本（サンプル）と言います．\n",
    "標本のデータを標本データと言います．\n",
    "\n",
    "一般にデータ分析を行うためには母集団データを分析することがベストですが，全てのデータを集めることが困難な場合があります．\n",
    "その場合，なるべく偏りが無く標本データを取り出してデータ分析を行います．\n",
    "\n",
    "<font color=blue>**標本は母集団から偏りが無いようにランダムに抽出**</font>することが大変重要です．\n",
    "しかし現実では，標本データには偏り（バイアス）があることが当たり前です．\n",
    "このバイアスを見抜くには，データ分析者に十分な経験と知識が必要となります．"
   ]
  },
  {
   "cell_type": "markdown",
   "metadata": {},
   "source": [
    "### 母集団の場合\n",
    "\n",
    "母集団データを $x_1,x_2,\\cdots,x_N$ としたとき，その母集団の平均$\\mu$，分散$\\sigma^2$，標準偏差$\\sigma$は次の通りです．\n",
    "\n",
    "> $$ \\mu = \\frac{\\sum_{i=1}^{N}x_i}{N} $$\n",
    "\n",
    "> $$ \\sigma^2 = \\frac{\\sum_{i=1}^{N}(x_i-\\mu)^2}{N} $$\n",
    "\n",
    "> $$ \\sigma = \\sqrt{ \\frac{\\sum_{i=1}^{N}(x_i-\\mu)^2}{N} } $$\n",
    "\n",
    "それぞれ，母平均，母分散，母標準偏差と言います．"
   ]
  },
  {
   "cell_type": "markdown",
   "metadata": {},
   "source": [
    "### 標本の場合\n",
    "\n",
    "標本データを $x_1,x_2,\\cdots,x_n$ としたとき，その標本の平均$\\bar{x}$，分散$s^2$，標準偏差$s$は次の通りです．\n",
    "\n",
    "> $$ \\bar{x} = \\frac{\\sum_{i=1}^{n}x_i}{n} $$\n",
    "\n",
    "> $$ s^2 = \\frac{\\sum_{i=1}^{n}(x_i-\\bar{x})^2}{n} $$\n",
    "\n",
    "> $$ s = \\sqrt{ \\frac{\\sum_{i=1}^{n}(x_i-\\bar{x})^2}{n} } $$\n",
    "\n",
    "それぞれ，標本平均，標本分散，標本標準偏差と言います．\n",
    "計算式の形としては，母集団の場合と一致します．"
   ]
  },
  {
   "cell_type": "markdown",
   "metadata": {},
   "source": [
    "### 標本から母集団を推定の場合\n",
    "\n",
    "標本データを $x_1,x_2,\\cdots,x_n$ としたとき，その母集団の平均$\\check\\mu$，分散$\\check{\\sigma}^2$，標準偏差$\\check\\sigma$の推定値は次の通りです．\n",
    "\n",
    "> $$ \\check\\mu = \\frac{\\sum_{i=1}^{n}x_i}{n} $$\n",
    "\n",
    "> $$ \\check{\\sigma}^2 = \\frac{\\sum_{i=1}^{n}(x_i-\\bar{x})^2}{n-1} $$\n",
    "\n",
    "$$ \\check\\sigma = \\sqrt{ \\frac{\\sum_{i=1}^{n}(x_i-\\bar{x})^2}{n-1} } $$\n",
    "\n",
    "それぞれ，不偏平均，不偏分散，不偏標本標準偏差と言います．\n",
    "計算式の形としては，分散と標準偏差の割り算の分母が $n-1$ になっていることが異なります．"
   ]
  },
  {
   "cell_type": "markdown",
   "metadata": {},
   "source": [
    "*****\n",
    "## 期待値と不偏推定量\n",
    "\n",
    "標本データの統計値は，データのサンプリングをやり直すと異なる値になります．\n",
    "偏りの無いサンプリングを行っている限り，統計値は揺れますが近い値になります．\n",
    "\n",
    "標本データの統計値は，<font color=blue>その期待値が母集団データの統計値に一致</font>していることが望まれます．\n",
    "平均値，分散について，この条件は次式になります．\n",
    "\n",
    "> $$ E(\\check{\\mu}) = \\mu $$\n",
    "\n",
    "> $$ E(\\check{\\sigma}^2) = \\sigma^2 $$"
   ]
  },
  {
   "cell_type": "markdown",
   "metadata": {},
   "source": [
    "## 標本平均の期待値\n",
    "\n",
    "標本平均の期待値は，$E(x)=\\mu$ および加法定理によって求まります．\n",
    "標本データを $x_1,x_2,\\cdots,x_n$ として，標本平均 $\\bar{x}$ の期待値を計算します．\n",
    "\n",
    "$$ \n",
    "\\begin{eqnarray}\n",
    "E(\\bar{x})\n",
    "&=& E\\left(\\frac{1}{n}(x_1+x_2+\\cdots+x_n)\\right)  \\\\\n",
    "&=& \\frac{1}{n}\\{E(x_1)+E(x_2)+\\cdots+E(x_n)\\} \\\\\n",
    "&=& \\frac{1}{n}nE(x) \\\\\n",
    "&=& E(x) \\\\\n",
    "&=& \\mu\n",
    "\\end{eqnarray}\n",
    "$$"
   ]
  },
  {
   "cell_type": "markdown",
   "metadata": {},
   "source": [
    "したがって，不偏平均値は標本平均値に一致します．\n",
    "\n",
    "> <font color=blue>$$\\check{\\mu} = \\bar{x}$$</font> \n"
   ]
  },
  {
   "cell_type": "markdown",
   "metadata": {},
   "source": [
    "## 標本分散の期待値\n",
    "\n",
    "標本平均からの二乗偏差の総和について期待値を計算します．\n",
    "すると次式となります．\n",
    "\n",
    "> <font color='blue'>$$ E\\left( \\sum_{i=1}^{n}{(x_i-\\bar{x})}^2 \\right) = (n-1)\\sigma^2 $$</font>\n",
    "\n",
    "この結果から，$\\check{\\sigma}^2 = \\frac{1}{n-1}\\sum_{i=1}^{n}{(x_i-\\bar{x})}^2$ と置けば，\n",
    "$E(\\check{\\sigma})=\\sigma^2$ が得られます．"
   ]
  },
  {
   "cell_type": "markdown",
   "metadata": {},
   "source": [
    "### 証明\n",
    "\n",
    "$$\n",
    "\\begin{eqnarray}\n",
    "E\\left(\\sum_{i=1}^{n}{(x_i-\\bar{x})}^2  \\right) \n",
    "&=& E\\left(\\sum\\{(x_i-\\mu)-(\\bar{x}-\\mu) \\}^2 \\right) \\\\\n",
    "&=& E\\left(\\sum(x_i-\\mu)^2 - 2(\\bar{x}-\\mu)\\sum(x_i-\\mu) + \\sum(\\bar{x}-\\mu)^2 \\right) \\\\\n",
    "&=& E\\left(\\sum(x_i-\\mu)^2 - 2(\\bar{x}-\\mu)\\left\\{\\sum{x_i}-\\sum{\\mu}\\right\\} + n(\\bar{x}-\\mu)^2 \\right) \\\\\n",
    "&=& E\\left(\\sum(x_i-\\mu)^2 - 2(\\bar{x}-\\mu){\\cdot}n\\left\\{\\frac{1}{n}{\\sum}x_i-\\mu\\right\\} + n(\\bar{x}-\\mu)^2 \\right) \\\\\n",
    "&=& E\\left(\\sum(x_i-\\mu)^2 - 2(\\bar{x}-\\mu){\\cdot}n\\left\\{\\bar{x}-\\mu\\right\\} + n(\\bar{x}-\\mu)^2 \\right) \\\\\n",
    "&=& E\\left(\\sum(x_i-\\mu)^2 - n(\\bar{x}-\\mu)^2 \\right) \\\\\n",
    "&=& \\sum_{i=1}^{n} E\\left( (x_i-\\mu)^2 \\right) -nE\\left( (\\bar{x}-\\mu)^2 \\right) \\cdot\\cdot\\cdot (\\text{a}) \\\\\n",
    "\\end{eqnarray}\n",
    "$$"
   ]
  },
  {
   "cell_type": "markdown",
   "metadata": {
    "collapsed": true
   },
   "source": [
    "ここで母集団の値を $y_1,y_2,\\cdots,y_m$ と記載すると，\n",
    "$$\n",
    "E\\left((x_i-\\mu)^2\\right) = \\frac{1}{m}\\sum_{j=1}^{m}(y_j-\\mu)^2 = \\sigma^2\n",
    "$$\n",
    "と母集団の分散になるので，\n",
    "$$\n",
    "\\sum_{i=1}^{n}E\\left((x_i-\\mu)^2\\right) = \\sum_{i=1}^{n}\\sigma^2 = n\\sigma^2\n",
    "$$\n",
    "となります．"
   ]
  },
  {
   "cell_type": "markdown",
   "metadata": {},
   "source": [
    "また，\n",
    "$$\n",
    "\\begin{eqnarray}\n",
    "E\\left((\\bar{x}-\\mu)^2\\right)\n",
    "&=& E\\left(\\left(\\frac{1}{n}\\sum_{i=1}^{n}x_i-\\mu\\right)^2\\right) \\\\\n",
    "&=& \\frac{1}{n^2}E\\left( \\left(\\sum_{i=1}^{n}x_i-n\\mu\\right)^2 \\right) \\\\\n",
    "&=& \\frac{1}{n^2}E\\left( \\left(\\sum_{i=1}^{n}(x_i-\\mu)\\right)^2 \\right) \\\\\n",
    "&=& \\frac{1}{n^2}E\\left( \\sum_{i=1}^{n}(x_i-\\mu)^2 + 2\\sum_{i<j}(x_i-\\mu)(x_j-\\mu) \\right) \\\\\n",
    "&=& \\frac{1}{n^2}\\left\\{ \\sum_{i=1}^{n}E\\left((x_i-\\mu)^2\\right) + 2\\sum_{i<j}E\\left((x_i-\\mu)(x_j-\\mu)\\right) \\right\\} \\\\\n",
    "&=& \\frac{1}{n^2}\\left\\{ \\sum_{i=1}^{n}V(X) + 2\\sum_{i<j}E\\left((x_i-\\mu)(x_j-\\mu)\\right) \\right\\} \\\\\n",
    "&=& \\frac{1}{n}V(X) + \\frac{2}{n^2}\\sum_{i<j}E\\left((x_i-\\mu)(x_j-\\mu)\\right) \\\\\n",
    "\\end{eqnarray}\n",
    "$$\n",
    "となります．"
   ]
  },
  {
   "cell_type": "markdown",
   "metadata": {},
   "source": [
    "ここで，$x_i$ と $x_j$ は独立な事象であるため，$E((x_i-\\mu)(x_j-\\mu))=0$ が成立します．\n",
    "よって，\n",
    "\n",
    "$$\n",
    "\\begin{eqnarray}\n",
    "E\\left((\\bar{x}-\\mu)^2\\right) \n",
    "&=& \\frac{1}{n}V(X) \\\\\n",
    "&=& \\frac{1}{n}\\sigma^2\n",
    "\\end{eqnarray}\n",
    "$$\n",
    "が成立します．"
   ]
  },
  {
   "cell_type": "markdown",
   "metadata": {},
   "source": [
    "これらを式 $(\\text{a})$ に代入すると，\n",
    "\n",
    "$$\n",
    "\\begin{eqnarray}\n",
    "E\\left(\\sum_{i=1}^{n}{(x_i-\\bar{x})}^2  \\right) \n",
    "&=& \\sum_{i=1}^{n} E\\left( (x_i-\\mu)^2 \\right) -nE\\left( (\\bar{x}-\\mu)^2 \\right) \\\\\n",
    "&=& n\\sigma^2-n\\frac{1}{n}\\sigma^2 \\\\\n",
    "&=& (n-1)\\sigma^2 \\\\\n",
    "\\end{eqnarray}\n",
    "$$"
   ]
  },
  {
   "cell_type": "markdown",
   "metadata": {},
   "source": [
    "この結果，\n",
    "\n",
    "$$ E\\left( \\frac{1}{n-1}\\sum_{i=1}^{n}(x_i-\\bar{x})^2 \\right) = \\sigma^2 $$\n",
    "\n",
    "が成り立つので，不変分散を\n",
    "\n",
    "> <font color=blue>$$ \\check{\\sigma}^2 = \\frac{1}{n-1}\\sum_{i=1}^{n}(x_i-\\bar{x})^2 $$</font>\n",
    "\n",
    "と定義します．\n",
    "これが分母が $(n-1)$ になることの根拠です．"
   ]
  },
  {
   "cell_type": "markdown",
   "metadata": {},
   "source": [
    "*****"
   ]
  }
 ],
 "metadata": {
  "kernelspec": {
   "display_name": "Python 3",
   "language": "python",
   "name": "python3"
  },
  "language_info": {
   "codemirror_mode": {
    "name": "ipython",
    "version": 3
   },
   "file_extension": ".py",
   "mimetype": "text/x-python",
   "name": "python",
   "nbconvert_exporter": "python",
   "pygments_lexer": "ipython3",
   "version": "3.6.1"
  }
 },
 "nbformat": 4,
 "nbformat_minor": 2
}
