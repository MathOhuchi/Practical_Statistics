{
 "cells": [
  {
   "cell_type": "markdown",
   "metadata": {},
   "source": [
    "# ベイズ統計の入口\n",
    "\n",
    "ベイズ統計は機械学習において，中心的な役割を果たす統計手法です．\n",
    "\n",
    "ベイズ統計は，<font color='blue'>条件付確率，加法定理，乗法定理</font>によって構築されていると言っても過言ではありません．  \n",
    "そして，その中心的な役割を果たすのが<font color='blue'>**ベイズの定理**</font>です．\n",
    "\n",
    "機械学習では，データから取得した情報に基づいて事象の確率を変化させていきます．\n",
    "このアプローチは，計算式としては単純ですが膨大な量の計算が必要になるので，手計算の世界では非現実的な方法でした．\n",
    "コンピューターサイエンスの発展による機械学習の登場によってベイズ統計に注目が集まるようになりました．"
   ]
  },
  {
   "cell_type": "markdown",
   "metadata": {},
   "source": [
    "## ベイズの定理\n",
    "\n",
    "事象の集合$A$および$B$について次の式が成り立ちます．\n",
    "\n",
    "> <font color=blue>$$\n",
    "\\begin{eqnarray}\n",
    "P(A{\\mid}B) \n",
    "&=& \\frac{P(B{\\mid}A)P(A)}{P(B)} \\\\\n",
    "&=& \\frac{P(B{\\mid}A)P(A)}{P(B{\\mid}A)P(A) + P(B{\\mid}A^c)P(A^c)}  \\\\\n",
    "\\end{eqnarray}\n",
    "$$</font>\n",
    "\n",
    "この式をベイズの定理と言います．\n",
    "ここで $A^c$ は $A$ の補集合です．"
   ]
  },
  {
   "cell_type": "markdown",
   "metadata": {},
   "source": [
    "## ベイズ定理の用語\n",
    "\n",
    "ベイズの定理では次の解釈を与えています．\n",
    "\n",
    "- $P(A)$：事象$A$の事前確率\n",
    "- $P(A{\\mid}B)$：事象$B$が起きた後の事象$A$の事後確率\n"
   ]
  },
  {
   "cell_type": "markdown",
   "metadata": {},
   "source": [
    "## 証明\n",
    "\n",
    "乗法定理の式を$A$と$B$を入替えた2通りの表現で記述します．\n",
    "\n",
    "$$ P(A{\\cap}B) = P(B){\\cdot}P(A{\\mid}B) $$\n",
    "$$ P(B{\\cap}A) = P(A){\\cdot}P(B{\\mid}A) $$\n",
    "\n",
    "これらの式から$P(A{\\cap}B)=P(B{\\cap}A)$なので2つの式が結びつきます．\n",
    "\n",
    "$$ P(B){\\cdot}P(A{\\mid}B) = P(A){\\cdot}P(B{\\mid}A) $$\n",
    "\n",
    "両辺を$P(B)$で割れば次の式が得られます．\n",
    "\n",
    "<font color=blue> $$ P(A{\\mid}B) = \\frac{P(B{\\mid}A)P(A)}{P(B)} $$ </font>"
   ]
  },
  {
   "cell_type": "markdown",
   "metadata": {},
   "source": [
    "右辺の分母にある$P(B)$ですが，$B = (B{\\cap}A)\\cup(B{\\cap}A^c)$ であるので，\n",
    "この式に加法定理と乗法定理を適用して式変形を行います．\n",
    "\n",
    "$$\n",
    "\\begin{eqnarray}\n",
    "P(B)\n",
    "&=& P((B{\\cap}A)\\cup(B{\\cap}A^c)) \\\\\n",
    "&=& P(B{\\cap}A) + P(B{\\cap}A^c) \\\\\n",
    "&=& P(B{\\mid}A)P(A) + P(B{\\mid}A^c)P(A^c) \\\\\n",
    "\\end{eqnarray}\n",
    "$$\n",
    "\n",
    "これを上式に代入すればベイズの定理が求まります．"
   ]
  },
  {
   "cell_type": "markdown",
   "metadata": {},
   "source": [
    "## ベイズの定理の一般化\n",
    "\n",
    "最初に提示したベイズの定理は事象$A$が起こる確率を考えましたが，この事象を複数の排反する事象 $A_1,A_2,\\cdots,A_n$とします．\n",
    "さらに，これらの事象のどれかが必ず起こるものとします．\n",
    "すなわち，次の2つの条件が成立すると仮定します．\n",
    "\n",
    "- $ A_i \\cap A_j = \\emptyset \\ (i \\neq j) $\n",
    "- $ A_1 \\cup A_2 \\cup \\cdots \\cup A_n = \\Omega $\n",
    "\n",
    "このとき次の式が成立します．\n",
    "\n",
    "> <font color=blue>$$\n",
    "P(A_i{\\mid}B) = \\frac{P(B{\\mid}A_i)P(A_i)}{\\sum_{j=1}^{n}P(B{\\mid}A_j)P(A_j)} \n",
    "$$</font>\n",
    "\n",
    "この式が一般的なベイズの定理です．\n",
    "\n",
    "証明は，$B = (A_1{\\cap}B) \\cup (A_2{\\cap}B) \\cup \\cdots \\cup (A_n{\\cap}B)$ に対して加法定理と乗法定理を適用すれば一般的なベイズの定理の式が求まります．"
   ]
  },
  {
   "cell_type": "markdown",
   "metadata": {},
   "source": [
    "## ベイズの定理の解釈\n",
    "\n",
    "事象$B$を得られたとき，その原因が事象$A_i \\ (i=1,\\cdots,n)$ のどれか1つだと仮定します．\n",
    "\n",
    "- 原因$A_i$について，それぞれの起こりやすさの確率が$P(A_i)$です．\n",
    "- 原因$A_i$が発生したときに結果$B$が起こる確率は$P(B{\\mid}A_i)$です．\n",
    "- $P(A_i{\\mid}B)$は，事象$B$が得られたときに，その原因が$A_i$である確率です．\n",
    "\n",
    "ベイズ統計は機械学習において中心的な役割を果たします．"
   ]
  },
  {
   "cell_type": "markdown",
   "metadata": {},
   "source": [
    "*****\n",
    "## ベイズ定理の具体例\n",
    "\n",
    "次の図のように，2つの箱があり，その中に「黄，青，緑」の玉が入っている状況を考えます．\n",
    "\n",
    "![ベイズ玉箱](./images/ball_2box.jpg)\n",
    "\n",
    "これらの箱は自分からは見えないところにあり，誰かに頼んで，玉を1つ取ってきてもらいます．"
   ]
  },
  {
   "cell_type": "markdown",
   "metadata": {},
   "source": [
    "### 事前確率\n",
    "\n",
    "2つの箱に差異が無く，どちらの箱から玉を抜き出すかは同じ条件とします．\n",
    "玉を抜き出した箱が箱1である確率は 1/2 です．また，箱2である確率も 1/2 です．\n",
    "これらの確率を<font color='blue'>事前確率</font>と言います．"
   ]
  },
  {
   "cell_type": "markdown",
   "metadata": {},
   "source": [
    "### 事後確率\n",
    "\n",
    "さて，抜き出した玉の色が判明したときに，抜き出した箱の確率は変化します．\n",
    "例えば，玉の色が黄色だとすると，必ず箱1から抜き出したことになるので，箱1の確率は 1 となり，箱2の確率は 0 となります．\n",
    "黄色の場合は明らかですが，その他の色の場合についてベイズ定理を用いて計算します．\n",
    "\n",
    "このように玉の色を知った後，玉を取り出した箱の確率を<font color='blue'>事後確率</font>と言います．"
   ]
  },
  {
   "cell_type": "markdown",
   "metadata": {},
   "source": [
    "### ベイズ定理の適用\n",
    "\n",
    "取り出した玉が緑色だった場合に，箱2から取り出された確率 $P(2{\\mid}G)$ をベイズ定理で求めます．\n",
    "ベイズ定理を適用すると次の式になります．\n",
    "\n",
    "$$ \\begin{eqnarray}\n",
    "P(2{\\mid}G) \n",
    "&=& \\frac{P(G{\\mid}2)P(2)}{P(G{\\mid}2)P(2)+P(G{\\mid}1)P(1)} \\\\\n",
    "&=& \\frac{ \\frac{3}{5}{\\cdot}\\frac{1}{2} }{ \\frac{3}{5}{\\cdot}\\frac{1}{2}+\\frac{1}{5}{\\cdot}\\frac{1}{2} } \\\\\n",
    "&=& \\frac{3}{4} \\\\\n",
    "\\end{eqnarray} $$"
   ]
  },
  {
   "cell_type": "markdown",
   "metadata": {},
   "source": [
    "このように緑の玉を取り出した結果から，75%の確率で箱2を選んでいるであろうと推測されます．\n",
    "\n",
    "*****"
   ]
  }
 ],
 "metadata": {
  "kernelspec": {
   "display_name": "Python 3",
   "language": "python",
   "name": "python3"
  },
  "language_info": {
   "codemirror_mode": {
    "name": "ipython",
    "version": 3
   },
   "file_extension": ".py",
   "mimetype": "text/x-python",
   "name": "python",
   "nbconvert_exporter": "python",
   "pygments_lexer": "ipython3",
   "version": "3.7.4"
  }
 },
 "nbformat": 4,
 "nbformat_minor": 2
}
