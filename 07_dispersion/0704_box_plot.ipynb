{
 "cells": [
  {
   "cell_type": "markdown",
   "metadata": {},
   "source": [
    "# 箱ひげ図\n",
    "\n",
    "四分位数に基づいてデータの分布を図にしたものが箱ひげ図です．\n",
    "箱ひげ図は，複数の変量の分布を並べて比較するために利用されます．\n",
    "一つの箱ひげ図は，幾つかの部品によって構成されます．\n",
    "\n",
    "- 第1四分位数から第4四分位数までの長方形の箱\n",
    "- 第4四分位数から上の $Q_{3/4}+1.5\\text{IQR}$ 以下のデータを示す線のひげ\n",
    "- 第1四分位数から下の $Q_{1/4}-1.5\\text{IQR}$ 以上のデータを示す線のひげ\n",
    "- 外れ値を示す小さい丸"
   ]
  },
  {
   "cell_type": "markdown",
   "metadata": {},
   "source": [
    "![箱ひげ図](./images/box_plot.jpg)"
   ]
  },
  {
   "cell_type": "markdown",
   "metadata": {},
   "source": [
    "この図で Outliers は外れ値です．\n",
    "また，IQR は interquatile range の略で四分位範囲です．\n",
    "\n",
    "この図は値を縦軸にしていますが，横軸にしても構いません．"
   ]
  },
  {
   "cell_type": "markdown",
   "metadata": {},
   "source": [
    "*****\n",
    "## Pythonによる箱ひげ図の描画\n",
    "\n",
    "箱ひげ図は matplotlib.pyplot の <font color=green>boxplot()</font>によって描画します．\n",
    "まずデータフレームの作成および作画のためのライブラリーを搬入します．\n",
    "\n",
    "```Python\n",
    "import pandas as pd\n",
    "import matplotlib.pyplot as plt\n",
    "%matplotlib inline\n",
    "```"
   ]
  },
  {
   "cell_type": "code",
   "execution_count": 1,
   "metadata": {
    "collapsed": true
   },
   "outputs": [],
   "source": [
    "import pandas as pd\n",
    "import matplotlib.pyplot as plt\n",
    "%matplotlib inline"
   ]
  },
  {
   "cell_type": "markdown",
   "metadata": {},
   "source": [
    "サンプルデータとして，那覇，横浜，札幌の三都市の2006年から2015年までの10年間の毎年の年間降水量（mm）を使用します．\n",
    "このデータを箱ひげ図として描画することによって，三都市間の年間降水量の分布を比較します．\n",
    "\n",
    "```Python\n",
    "data = {\n",
    "    'Naha'    :[2068,2817,1621,1865,2896,2122,2733,2071,2585,1425],\n",
    "    'Yokohama':[1856,1465,1919,1894,1856,1557,1998,1517,1860,1836],\n",
    "    'Sapporo' :[1146,1029, 843,1147,1325,1254,1279,1347,1204,1275]}\n",
    "\n",
    "df = pd.DataFrame(data,index=range(2006,2016),columns=['Naha','Yokohama','Sapporo'])\n",
    "df\n",
    "```"
   ]
  },
  {
   "cell_type": "code",
   "execution_count": 2,
   "metadata": {},
   "outputs": [
    {
     "data": {
      "text/html": [
       "<div>\n",
       "<style>\n",
       "    .dataframe thead tr:only-child th {\n",
       "        text-align: right;\n",
       "    }\n",
       "\n",
       "    .dataframe thead th {\n",
       "        text-align: left;\n",
       "    }\n",
       "\n",
       "    .dataframe tbody tr th {\n",
       "        vertical-align: top;\n",
       "    }\n",
       "</style>\n",
       "<table border=\"1\" class=\"dataframe\">\n",
       "  <thead>\n",
       "    <tr style=\"text-align: right;\">\n",
       "      <th></th>\n",
       "      <th>Naha</th>\n",
       "      <th>Yokohama</th>\n",
       "      <th>Sapporo</th>\n",
       "    </tr>\n",
       "  </thead>\n",
       "  <tbody>\n",
       "    <tr>\n",
       "      <th>2006</th>\n",
       "      <td>2068</td>\n",
       "      <td>1856</td>\n",
       "      <td>1146</td>\n",
       "    </tr>\n",
       "    <tr>\n",
       "      <th>2007</th>\n",
       "      <td>2817</td>\n",
       "      <td>1465</td>\n",
       "      <td>1029</td>\n",
       "    </tr>\n",
       "    <tr>\n",
       "      <th>2008</th>\n",
       "      <td>1621</td>\n",
       "      <td>1919</td>\n",
       "      <td>843</td>\n",
       "    </tr>\n",
       "    <tr>\n",
       "      <th>2009</th>\n",
       "      <td>1865</td>\n",
       "      <td>1894</td>\n",
       "      <td>1147</td>\n",
       "    </tr>\n",
       "    <tr>\n",
       "      <th>2010</th>\n",
       "      <td>2896</td>\n",
       "      <td>1856</td>\n",
       "      <td>1325</td>\n",
       "    </tr>\n",
       "    <tr>\n",
       "      <th>2011</th>\n",
       "      <td>2122</td>\n",
       "      <td>1557</td>\n",
       "      <td>1254</td>\n",
       "    </tr>\n",
       "    <tr>\n",
       "      <th>2012</th>\n",
       "      <td>2733</td>\n",
       "      <td>1998</td>\n",
       "      <td>1279</td>\n",
       "    </tr>\n",
       "    <tr>\n",
       "      <th>2013</th>\n",
       "      <td>2071</td>\n",
       "      <td>1517</td>\n",
       "      <td>1347</td>\n",
       "    </tr>\n",
       "    <tr>\n",
       "      <th>2014</th>\n",
       "      <td>2585</td>\n",
       "      <td>1860</td>\n",
       "      <td>1204</td>\n",
       "    </tr>\n",
       "    <tr>\n",
       "      <th>2015</th>\n",
       "      <td>1425</td>\n",
       "      <td>1836</td>\n",
       "      <td>1275</td>\n",
       "    </tr>\n",
       "  </tbody>\n",
       "</table>\n",
       "</div>"
      ],
      "text/plain": [
       "      Naha  Yokohama  Sapporo\n",
       "2006  2068      1856     1146\n",
       "2007  2817      1465     1029\n",
       "2008  1621      1919      843\n",
       "2009  1865      1894     1147\n",
       "2010  2896      1856     1325\n",
       "2011  2122      1557     1254\n",
       "2012  2733      1998     1279\n",
       "2013  2071      1517     1347\n",
       "2014  2585      1860     1204\n",
       "2015  1425      1836     1275"
      ]
     },
     "execution_count": 2,
     "metadata": {},
     "output_type": "execute_result"
    }
   ],
   "source": [
    "data = {\n",
    "    'Naha'    :[2068,2817,1621,1865,2896,2122,2733,2071,2585,1425],\n",
    "    'Yokohama':[1856,1465,1919,1894,1856,1557,1998,1517,1860,1836],\n",
    "    'Sapporo' :[1146,1029, 843,1147,1325,1254,1279,1347,1204,1275]}\n",
    "\n",
    "df = pd.DataFrame(data,index=range(2006,2016),columns=['Naha','Yokohama','Sapporo'])\n",
    "df"
   ]
  },
  {
   "cell_type": "markdown",
   "metadata": {},
   "source": [
    "このデータフレームは3つの変量 Naha, Yokohama, Sapporo は浮動小数点数です．\n",
    "全ての変量の基本統計を<font color=green>describe()</font>関数によって一括して求めます．\n",
    "\n",
    "```Python\n",
    "df.describe()\n",
    "```"
   ]
  },
  {
   "cell_type": "code",
   "execution_count": 3,
   "metadata": {},
   "outputs": [
    {
     "data": {
      "text/html": [
       "<div>\n",
       "<style>\n",
       "    .dataframe thead tr:only-child th {\n",
       "        text-align: right;\n",
       "    }\n",
       "\n",
       "    .dataframe thead th {\n",
       "        text-align: left;\n",
       "    }\n",
       "\n",
       "    .dataframe tbody tr th {\n",
       "        vertical-align: top;\n",
       "    }\n",
       "</style>\n",
       "<table border=\"1\" class=\"dataframe\">\n",
       "  <thead>\n",
       "    <tr style=\"text-align: right;\">\n",
       "      <th></th>\n",
       "      <th>Naha</th>\n",
       "      <th>Yokohama</th>\n",
       "      <th>Sapporo</th>\n",
       "    </tr>\n",
       "  </thead>\n",
       "  <tbody>\n",
       "    <tr>\n",
       "      <th>count</th>\n",
       "      <td>10.000000</td>\n",
       "      <td>10.000000</td>\n",
       "      <td>10.000000</td>\n",
       "    </tr>\n",
       "    <tr>\n",
       "      <th>mean</th>\n",
       "      <td>2220.300000</td>\n",
       "      <td>1775.800000</td>\n",
       "      <td>1184.900000</td>\n",
       "    </tr>\n",
       "    <tr>\n",
       "      <th>std</th>\n",
       "      <td>514.407761</td>\n",
       "      <td>188.230237</td>\n",
       "      <td>153.538594</td>\n",
       "    </tr>\n",
       "    <tr>\n",
       "      <th>min</th>\n",
       "      <td>1425.000000</td>\n",
       "      <td>1465.000000</td>\n",
       "      <td>843.000000</td>\n",
       "    </tr>\n",
       "    <tr>\n",
       "      <th>25%</th>\n",
       "      <td>1915.750000</td>\n",
       "      <td>1626.750000</td>\n",
       "      <td>1146.250000</td>\n",
       "    </tr>\n",
       "    <tr>\n",
       "      <th>50%</th>\n",
       "      <td>2096.500000</td>\n",
       "      <td>1856.000000</td>\n",
       "      <td>1229.000000</td>\n",
       "    </tr>\n",
       "    <tr>\n",
       "      <th>75%</th>\n",
       "      <td>2696.000000</td>\n",
       "      <td>1885.500000</td>\n",
       "      <td>1278.000000</td>\n",
       "    </tr>\n",
       "    <tr>\n",
       "      <th>max</th>\n",
       "      <td>2896.000000</td>\n",
       "      <td>1998.000000</td>\n",
       "      <td>1347.000000</td>\n",
       "    </tr>\n",
       "  </tbody>\n",
       "</table>\n",
       "</div>"
      ],
      "text/plain": [
       "              Naha     Yokohama      Sapporo\n",
       "count    10.000000    10.000000    10.000000\n",
       "mean   2220.300000  1775.800000  1184.900000\n",
       "std     514.407761   188.230237   153.538594\n",
       "min    1425.000000  1465.000000   843.000000\n",
       "25%    1915.750000  1626.750000  1146.250000\n",
       "50%    2096.500000  1856.000000  1229.000000\n",
       "75%    2696.000000  1885.500000  1278.000000\n",
       "max    2896.000000  1998.000000  1347.000000"
      ]
     },
     "execution_count": 3,
     "metadata": {},
     "output_type": "execute_result"
    }
   ],
   "source": [
    "df.describe()"
   ]
  },
  {
   "cell_type": "markdown",
   "metadata": {},
   "source": [
    "この出力には四分位数も含まれています．\n",
    "この表を見ると，那覇の年間降水量が他の都市より多く，かつバラツキも大きいことが分かります．\n",
    "この基本統計の結果をじっくり眺めれば三都市の年間降水量の分布について理解できますが，直感性がありません．\n",
    "そこで，箱ひげ図を描画することによって，統計情報を視覚的に把握することができます．"
   ]
  },
  {
   "cell_type": "markdown",
   "metadata": {},
   "source": [
    "### boxplot()関数\n",
    "\n",
    "matplotlib.pyplotの<font color='green'>boxplot()</font>関数は，箱ひげ図を描画する関数です．\n",
    "\n",
    "boxplotr()関数の呼出しは次のようになります．\n",
    "\n",
    "> <font face='courier new'>matplotlib.pyplot.boxplot(x, **kwargs)</font>\n",
    "\n",
    "**必須の引数**\n",
    "- x：データ\n",
    "\n",
    "**主要なキーワード指定の引数**\n",
    "\n",
    "\\*\\*kwargsは，キーワードを指定して値を与える引数です．\n",
    "\n",
    "|引数|説明|デフォルト値|\n",
    "|:---:|:---:|:---:|\n",
    "| label |各箱ひげ図のラベルの配列 | |\n",
    "| vert  |True:縦表示, False:横表示|True|\n",
    "| whis  |ひげの長さを決めるIRQに掛ける係数| 1.5 |\n",
    "\n",
    "boxplot()関数の詳細については，マニュアルを参照してください．\n",
    "[https://matplotlib.org/3.1.1/api/_as_gen/matplotlib.pyplot.boxplot.html](https://matplotlib.org/3.1.1/api/_as_gen/matplotlib.pyplot.boxplot.html)"
   ]
  },
  {
   "cell_type": "markdown",
   "metadata": {},
   "source": [
    "各都市の気温を比較する箱ひげ図の描画は以下の通りとなります．\n",
    "\n",
    "```Python\n",
    "plt.boxplot(df.values,labels=df.columns)\n",
    "plt.ylabel('Annual rainfall (mm)')\n",
    "plt.show()\n",
    "```"
   ]
  },
  {
   "cell_type": "code",
   "execution_count": 4,
   "metadata": {
    "scrolled": true
   },
   "outputs": [
    {
     "data": {
      "image/png": "[encoded data removed]",
      "text/plain": [
       "<matplotlib.figure.Figure at 0x1c0a8b24e48>"
      ]
     },
     "metadata": {},
     "output_type": "display_data"
    }
   ],
   "source": [
    "plt.boxplot(df.values,labels=df.columns)\n",
    "plt.ylabel('Annual rainfall (mm)')\n",
    "plt.show()"
   ]
  },
  {
   "cell_type": "markdown",
   "metadata": {
    "collapsed": true
   },
   "source": [
    "このように箱ひげ図は，似たような数値の分布を視覚的に比較する良い方法です．\n",
    "\n",
    "*****"
   ]
  }
 ],
 "metadata": {
  "kernelspec": {
   "display_name": "Python 3",
   "language": "python",
   "name": "python3"
  },
  "language_info": {
   "codemirror_mode": {
    "name": "ipython",
    "version": 3
   },
   "file_extension": ".py",
   "mimetype": "text/x-python",
   "name": "python",
   "nbconvert_exporter": "python",
   "pygments_lexer": "ipython3",
   "version": "3.7.4"
  }
 },
 "nbformat": 4,
 "nbformat_minor": 2
}
