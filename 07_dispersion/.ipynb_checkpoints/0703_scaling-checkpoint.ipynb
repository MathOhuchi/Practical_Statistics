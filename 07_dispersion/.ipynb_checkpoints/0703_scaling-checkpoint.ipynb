{
 "cells": [
  {
   "cell_type": "markdown",
   "metadata": {},
   "source": [
    "# 変量のスケール変換\n",
    "\n",
    "データ分析において，各変量はそれぞれ独自のスケールでデータが分布しています．\n",
    "データを分析する上で見通しを良くするために変量のスケールを変換して統一することがあります．\n",
    "ここでは，代表的なスケール変化として次のものを紹介します．\n",
    "\n",
    "- 標準化変量\n",
    "- 偏差値\n",
    "- 正規化"
   ]
  },
  {
   "cell_type": "markdown",
   "metadata": {},
   "source": [
    "## 標準化変量\n",
    "\n",
    "変量の平均値と標準偏差が求まった後，変数変換によってデータの分布を平均値が $0$ で標準偏差が $1$ になるようにした変量を標準化変量と言います．\n",
    "標準化変量を求める式では標準偏差で割っているので，元の変数は固定値でないことが標準化の前提条件となります．\n",
    "\n",
    "- データ：$x_1,x_2,\\cdots,x_n$  \n",
    "- 平均値：$\\mu$  \n",
    "- 標準偏差：$\\sigma$  \n",
    "\n",
    "としたときに，標準化変量 $y_1,y_2,\\cdots,y_n$ を次のように定義します．\n",
    "\n",
    "> $$ y_i = \\frac{x_i-\\mu}{\\sigma} $$\n",
    "\n",
    "標準化変量に変換するメリットは，異なるスケールの変量の分布を同じグラフで比較できることです．"
   ]
  },
  {
   "cell_type": "markdown",
   "metadata": {},
   "source": [
    "## 偏差値\n",
    "\n",
    "偏差値は平均値が $50$ で標準偏差が $10$ になるように変数変換したものです．\n",
    "偏差値は標準化変量から次式でもとめることができます．\n",
    "\n",
    "> $$ z_i = 10y_i+50 $$\n",
    "\n",
    "偏差値は学校教育の現場で頻繁に利用されています．"
   ]
  },
  {
   "cell_type": "markdown",
   "metadata": {},
   "source": [
    "## 正規化\n",
    "\n",
    "正規化とは機械学習でよく用いられる手法で，データの最小値を $0$ とし，最大値を $1$ にする変数変換です．\n",
    "\n",
    "> $$ w_i = \\frac{x_i-\\min(x)}{\\max(x)-\\min(x)} $$"
   ]
  },
  {
   "cell_type": "markdown",
   "metadata": {
    "collapsed": true
   },
   "source": [
    "*****\n",
    "## Pythonによるスケール変換の例\n",
    "\n",
    "標準化および正規化は簡単な計算式で実施することができますので，NumPyおよびPandasライブラリーだけで変換する方法を確認します．  \n",
    "まず，NumPyおよびPandasライブラリーを搬入します．\n",
    "\n",
    "```Python\n",
    "import numpy as np\n",
    "import pandas as pd\n",
    "```"
   ]
  },
  {
   "cell_type": "code",
   "execution_count": 1,
   "metadata": {},
   "outputs": [],
   "source": [
    "import numpy as np\n",
    "import pandas as pd"
   ]
  },
  {
   "cell_type": "markdown",
   "metadata": {},
   "source": [
    "試行用の配列データを定義します．\n",
    "\n",
    "```Python\n",
    "data =[2,6,8,16,18]\n",
    "data\n",
    "```"
   ]
  },
  {
   "cell_type": "code",
   "execution_count": 2,
   "metadata": {
    "scrolled": true
   },
   "outputs": [
    {
     "data": {
      "text/plain": [
       "[2, 6, 8, 16, 18]"
      ]
     },
     "execution_count": 2,
     "metadata": {},
     "output_type": "execute_result"
    }
   ],
   "source": [
    "data =[2,6,8,16,18]\n",
    "data"
   ]
  },
  {
   "cell_type": "markdown",
   "metadata": {},
   "source": [
    "*****\n",
    "## NumPyにおける変換\n",
    "\n",
    "NumPyのArrayには，平均値，標準偏差，最大値，最小値を求める関数として，\n",
    "<font face='courier new' color='green'>mean(), std(), max(), min()</font> が提供されています．\n",
    "これらを利用するためにデータをNumPyのArrayに変換します．\n",
    "\n",
    "```Python\n",
    "array = np.array(data)\n",
    "array\n",
    "```"
   ]
  },
  {
   "cell_type": "code",
   "execution_count": 3,
   "metadata": {},
   "outputs": [
    {
     "data": {
      "text/plain": [
       "array([ 2,  6,  8, 16, 18])"
      ]
     },
     "execution_count": 3,
     "metadata": {},
     "output_type": "execute_result"
    }
   ],
   "source": [
    "array = np.array(data)\n",
    "array"
   ]
  },
  {
   "cell_type": "markdown",
   "metadata": {},
   "source": [
    "元データを与えて，それぞれの定義に従って標準化変量，偏差値，正規化を実施します．\n",
    "\n",
    "```Python\n",
    "std_variate = (array-array.mean())/array.std(ddof=0)\n",
    "std_score = 10*std_variate+50\n",
    "normalize = (array-array.min())/(array.max()-array.min())\n",
    "```"
   ]
  },
  {
   "cell_type": "code",
   "execution_count": 4,
   "metadata": {},
   "outputs": [],
   "source": [
    "std_variate = (array-array.mean())/array.std(ddof=0)\n",
    "std_score = 10*std_variate+50\n",
    "normalize = (array-array.min())/(array.max()-array.min())"
   ]
  },
  {
   "cell_type": "markdown",
   "metadata": {},
   "source": [
    "生成した標準化変量，偏差値，正規化データを印字して確認します．\n",
    "\n",
    "```Python\n",
    "print('データ：',array)\n",
    "print('標準化：',std_variate)\n",
    "print('偏差値：',std_score)\n",
    "print('正規化：',normalize)\n",
    "```"
   ]
  },
  {
   "cell_type": "code",
   "execution_count": 5,
   "metadata": {},
   "outputs": [
    {
     "name": "stdout",
     "output_type": "stream",
     "text": [
      "データ： [ 2  6  8 16 18]\n",
      "標準化： [-1.31876095 -0.65938047 -0.32969024  0.98907071  1.31876095]\n",
      "偏差値： [36.81239053 43.40619527 46.70309763 59.8907071  63.18760947]\n",
      "正規化： [0.    0.25  0.375 0.875 1.   ]\n"
     ]
    }
   ],
   "source": [
    "print('データ：',array)\n",
    "print('標準化：',std_variate)\n",
    "print('偏差値：',std_score)\n",
    "print('正規化：',normalize)"
   ]
  },
  {
   "cell_type": "markdown",
   "metadata": {
    "collapsed": true
   },
   "source": [
    "*****\n",
    "## Pandasにおける変換\n",
    "\n",
    "まず試行用の配列データからデータフレームを生成します．\n",
    "\n",
    "```Python\n",
    "df = pd.DataFrame(data,columns=['data'])\n",
    "df\n",
    "```"
   ]
  },
  {
   "cell_type": "code",
   "execution_count": 6,
   "metadata": {},
   "outputs": [
    {
     "data": {
      "text/html": [
       "<div>\n",
       "<style scoped>\n",
       "    .dataframe tbody tr th:only-of-type {\n",
       "        vertical-align: middle;\n",
       "    }\n",
       "\n",
       "    .dataframe tbody tr th {\n",
       "        vertical-align: top;\n",
       "    }\n",
       "\n",
       "    .dataframe thead th {\n",
       "        text-align: right;\n",
       "    }\n",
       "</style>\n",
       "<table border=\"1\" class=\"dataframe\">\n",
       "  <thead>\n",
       "    <tr style=\"text-align: right;\">\n",
       "      <th></th>\n",
       "      <th>data</th>\n",
       "    </tr>\n",
       "  </thead>\n",
       "  <tbody>\n",
       "    <tr>\n",
       "      <td>0</td>\n",
       "      <td>2</td>\n",
       "    </tr>\n",
       "    <tr>\n",
       "      <td>1</td>\n",
       "      <td>6</td>\n",
       "    </tr>\n",
       "    <tr>\n",
       "      <td>2</td>\n",
       "      <td>8</td>\n",
       "    </tr>\n",
       "    <tr>\n",
       "      <td>3</td>\n",
       "      <td>16</td>\n",
       "    </tr>\n",
       "    <tr>\n",
       "      <td>4</td>\n",
       "      <td>18</td>\n",
       "    </tr>\n",
       "  </tbody>\n",
       "</table>\n",
       "</div>"
      ],
      "text/plain": [
       "   data\n",
       "0     2\n",
       "1     6\n",
       "2     8\n",
       "3    16\n",
       "4    18"
      ]
     },
     "execution_count": 6,
     "metadata": {},
     "output_type": "execute_result"
    }
   ],
   "source": [
    "df = pd.DataFrame(data,columns=['data'])\n",
    "df"
   ]
  },
  {
   "cell_type": "markdown",
   "metadata": {},
   "source": [
    "データフレームに付随する平均値，標準偏差，最大値，最小値のメソッドを利用して，定義に従って標準化変量，偏差値，正規化を実施します．\n",
    "\n",
    "```Python\n",
    "df['std_variate'] = (df.data-df.data.mean())/df.data.std(ddof=0)\n",
    "df['std_score'] = 10*df.std_variate+50\n",
    "df['normalize'] = (df.data-df.data.min())/(df.data.max()-df.data.min())\n",
    "df\n",
    "```"
   ]
  },
  {
   "cell_type": "code",
   "execution_count": 7,
   "metadata": {},
   "outputs": [
    {
     "data": {
      "text/html": [
       "<div>\n",
       "<style scoped>\n",
       "    .dataframe tbody tr th:only-of-type {\n",
       "        vertical-align: middle;\n",
       "    }\n",
       "\n",
       "    .dataframe tbody tr th {\n",
       "        vertical-align: top;\n",
       "    }\n",
       "\n",
       "    .dataframe thead th {\n",
       "        text-align: right;\n",
       "    }\n",
       "</style>\n",
       "<table border=\"1\" class=\"dataframe\">\n",
       "  <thead>\n",
       "    <tr style=\"text-align: right;\">\n",
       "      <th></th>\n",
       "      <th>data</th>\n",
       "      <th>std_variate</th>\n",
       "      <th>std_score</th>\n",
       "      <th>normalize</th>\n",
       "    </tr>\n",
       "  </thead>\n",
       "  <tbody>\n",
       "    <tr>\n",
       "      <td>0</td>\n",
       "      <td>2</td>\n",
       "      <td>-1.318761</td>\n",
       "      <td>36.812391</td>\n",
       "      <td>0.000</td>\n",
       "    </tr>\n",
       "    <tr>\n",
       "      <td>1</td>\n",
       "      <td>6</td>\n",
       "      <td>-0.659380</td>\n",
       "      <td>43.406195</td>\n",
       "      <td>0.250</td>\n",
       "    </tr>\n",
       "    <tr>\n",
       "      <td>2</td>\n",
       "      <td>8</td>\n",
       "      <td>-0.329690</td>\n",
       "      <td>46.703098</td>\n",
       "      <td>0.375</td>\n",
       "    </tr>\n",
       "    <tr>\n",
       "      <td>3</td>\n",
       "      <td>16</td>\n",
       "      <td>0.989071</td>\n",
       "      <td>59.890707</td>\n",
       "      <td>0.875</td>\n",
       "    </tr>\n",
       "    <tr>\n",
       "      <td>4</td>\n",
       "      <td>18</td>\n",
       "      <td>1.318761</td>\n",
       "      <td>63.187609</td>\n",
       "      <td>1.000</td>\n",
       "    </tr>\n",
       "  </tbody>\n",
       "</table>\n",
       "</div>"
      ],
      "text/plain": [
       "   data  std_variate  std_score  normalize\n",
       "0     2    -1.318761  36.812391      0.000\n",
       "1     6    -0.659380  43.406195      0.250\n",
       "2     8    -0.329690  46.703098      0.375\n",
       "3    16     0.989071  59.890707      0.875\n",
       "4    18     1.318761  63.187609      1.000"
      ]
     },
     "execution_count": 7,
     "metadata": {},
     "output_type": "execute_result"
    }
   ],
   "source": [
    "df['std_variate'] = (df.data-df.data.mean())/df.data.std(ddof=0)\n",
    "df['std_score'] = 10*df.std_variate+50\n",
    "df['normalize'] = (df.data-df.data.min())/(df.data.max()-df.data.min())\n",
    "df"
   ]
  },
  {
   "cell_type": "markdown",
   "metadata": {},
   "source": [
    "*****\n",
    "## SciPy, Scikit-learnによる変換\n",
    "\n",
    "SciPyやScit-learnには変量を標準化する関数が用意されています．\n",
    "それらを利用した方法について確認します．  \n",
    "そのために，これらのライブラリーを搬入します．\n",
    "\n",
    "```Python\n",
    "import scipy.stats\n",
    "from sklearn import preprocessing\n",
    "```"
   ]
  },
  {
   "cell_type": "code",
   "execution_count": 8,
   "metadata": {},
   "outputs": [],
   "source": [
    "import scipy.stats\n",
    "from sklearn import preprocessing"
   ]
  },
  {
   "cell_type": "markdown",
   "metadata": {},
   "source": [
    "SciPyライブラリーでは，<font face='courier new' color='green'>scipy.stats.zscore()</font>関数によって，標準化することができます．\n",
    "\n",
    "```Python\n",
    "scipy.stats.zscore(data,ddof=0)\n",
    "```"
   ]
  },
  {
   "cell_type": "code",
   "execution_count": 9,
   "metadata": {},
   "outputs": [
    {
     "data": {
      "text/plain": [
       "array([-1.31876095, -0.65938047, -0.32969024,  0.98907071,  1.31876095])"
      ]
     },
     "execution_count": 9,
     "metadata": {},
     "output_type": "execute_result"
    }
   ],
   "source": [
    "scipy.stats.zscore(data,ddof=0)"
   ]
  },
  {
   "cell_type": "markdown",
   "metadata": {},
   "source": [
    "Scikit-learnライブラリーでは<font face='courier new' color='green'>preprocessing.scale()</font> によって標準化することができます．\n",
    "\n",
    "```Python\n",
    "preprocessing.scale(data)\n",
    "```"
   ]
  },
  {
   "cell_type": "code",
   "execution_count": 10,
   "metadata": {},
   "outputs": [
    {
     "data": {
      "text/plain": [
       "array([-1.31876095, -0.65938047, -0.32969024,  0.98907071,  1.31876095])"
      ]
     },
     "execution_count": 10,
     "metadata": {},
     "output_type": "execute_result"
    }
   ],
   "source": [
    "preprocessing.scale(data)"
   ]
  },
  {
   "cell_type": "markdown",
   "metadata": {},
   "source": [
    "一般的には，複数の変量を標準化するので，\n",
    "<font face='courier new' color='green'>preprocessing.StandardScaler()</font> 関数が使用されます．  \n",
    "ただし1変量の場合は，NumPyの配列を<font face='courier new' color='green'>reshape(-1,1)</font> メソッドによって2次元配列に変換する必要があります．\n",
    "\n",
    "```Python\n",
    "preprocessing.StandardScaler().fit_transform(array.reshape(-1,1))\n",
    "```"
   ]
  },
  {
   "cell_type": "code",
   "execution_count": 11,
   "metadata": {
    "scrolled": true
   },
   "outputs": [
    {
     "data": {
      "text/plain": [
       "array([[-1.31876095],\n",
       "       [-0.65938047],\n",
       "       [-0.32969024],\n",
       "       [ 0.98907071],\n",
       "       [ 1.31876095]])"
      ]
     },
     "execution_count": 11,
     "metadata": {},
     "output_type": "execute_result"
    }
   ],
   "source": [
    "preprocessing.StandardScaler().fit_transform(array.reshape(-1,1))"
   ]
  },
  {
   "cell_type": "markdown",
   "metadata": {},
   "source": [
    "Scikit-learnには正規化のために <font face='courier new' color='green'>preprocession.minmax_scale()</font> 関数が用意されています．\n",
    "\n",
    "```Python\n",
    "preprocessing.minmax_scale(data)\n",
    "```"
   ]
  },
  {
   "cell_type": "code",
   "execution_count": 12,
   "metadata": {},
   "outputs": [
    {
     "data": {
      "text/plain": [
       "array([0.   , 0.25 , 0.375, 0.875, 1.   ])"
      ]
     },
     "execution_count": 12,
     "metadata": {},
     "output_type": "execute_result"
    }
   ],
   "source": [
    "preprocessing.minmax_scale(data)"
   ]
  },
  {
   "cell_type": "markdown",
   "metadata": {},
   "source": [
    "変量の標準化や正規化は，複数の変量間の比較を容易にすることと，データ処理のプログラムを統一するためにもよく使われる方法です．\n",
    "\n",
    "また，ここで紹介したスケール変換の他にも様々な手法が利用されています．\n",
    "\n",
    "*****"
   ]
  }
 ],
 "metadata": {
  "kernelspec": {
   "display_name": "Python 3",
   "language": "python",
   "name": "python3"
  },
  "language_info": {
   "codemirror_mode": {
    "name": "ipython",
    "version": 3
   },
   "file_extension": ".py",
   "mimetype": "text/x-python",
   "name": "python",
   "nbconvert_exporter": "python",
   "pygments_lexer": "ipython3",
   "version": "3.7.4"
  }
 },
 "nbformat": 4,
 "nbformat_minor": 2
}
