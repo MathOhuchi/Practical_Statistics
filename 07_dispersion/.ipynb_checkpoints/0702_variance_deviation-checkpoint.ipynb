{
 "cells": [
  {
   "cell_type": "markdown",
   "metadata": {},
   "source": [
    "# Pythonによる分散と標準偏差\n",
    "\n",
    "Pythonでは分散と標準偏差を求める方法が幾つか提供されています．\n",
    "しかし，使用するライブラリーによって，異なる定義を採用しているので，使用の際は注意が必要です．\n",
    "\n",
    "### データ件数で割る場合\n",
    "- 母分散，標本分散\n",
    "- 母標準偏差，標本標準偏差\n",
    "\n",
    "### データ件数マイナス1 で割る場合\n",
    "- 不偏分散\n",
    "- 不偏標準偏差\n",
    "\n",
    "これらを区別して，計算方法を確認します．"
   ]
  },
  {
   "cell_type": "markdown",
   "metadata": {},
   "source": [
    "## Pythonでの分散の計算方法\n",
    "\n",
    "Pythonで分散を計算する方法をまとめた表です．\n",
    "\n",
    "| | 母分散，標本分散 | 不偏分散 |\n",
    "|:---:|:---:|:---:|\n",
    "| 計算式 | $${\\sigma}^2 = \\frac{1}{n}\\sum_{i=1}^{n}(x_i-\\bar{x})^2$$ | $$ s^2= \\frac{1}{n-1}\\sum_{i=1}^{n}(x_i-\\bar{x})^2$$ |\n",
    "| NumPy  | <font face='courier new'>np.var(data)</font> | <font face='courier new'>np.var(data,ddof=1)</font> | \n",
    "| Pandas | <font face='courier new'>df.data.var(ddof=0)</font> | <font face='courier new'>df.data.var()</font> |\n",
    "| Statistics | <font face='courier new'>stat.pvariance(data)</font> | <font face='courier new'>stat.variance(data)</font> |\n",
    "\n",
    "この表において，data は配列で与えられたデータです．\n",
    "df はデータフレームで，その中のカラム data が対象となるデータです．\n",
    "また，ddof は計算式の分母のデータ件数から引く数値を与えます．"
   ]
  },
  {
   "cell_type": "markdown",
   "metadata": {},
   "source": [
    "## Pythonでの標準偏差の計算方法\n",
    "\n",
    "Pythonで標準偏差を計算する方法をまとめた表です．\n",
    "\n",
    "| | 母標準偏差，標本標準偏差 | 不偏標準偏差 |\n",
    "|:---:|:---:|:---:|\n",
    "| 計算式 | $${\\sigma} = \\sqrt{\\frac{1}{n}\\sum_{i=1}^{n}(x_i-\\bar{x})^2}$$ | $$s = \\sqrt{\\frac{1}{n-1}\\sum_{i=1}^{n}(x_i-\\bar{x})^2}$$ |\n",
    "| NumPy  | <font face='courier new'>np.std(data)</font> | <font face='courier new'>np.std(data,ddof=1)</font> | \n",
    "| Pandas | <font face='courier new'>df.data.std(ddof=0)</font> | <font face='courier new'>df.data.std()</font> |\n",
    "| Statistics | <font face='courier new'>stat.pstdev(data)</font> | <font face='courier new'>stat.stdev(data)</font> |\n",
    "\n",
    "この表において，data は配列で与えられたデータです．\n",
    "df はデータフレームで，その中のカラム data が対象となるデータです．\n",
    "また，ddof は計算式の分母のデータ件数から引く数値を与えます．"
   ]
  },
  {
   "cell_type": "markdown",
   "metadata": {},
   "source": [
    "### ddof のデフォルト値\n",
    "\n",
    "分散の計算式において，分母から引く数をオプションパラメータ **<font face='courier new' color='blue'>ddof</font>** によって与えますが，\n",
    "このデフォルト値がNumPyとPandasでは異なっています．\n",
    "\n",
    "|ライブラリー| ddof デフォルト値 |\n",
    "|:---:|:---:|\n",
    "| NumPy | 0 |\n",
    "| Pandas| 1 |\n",
    "\n",
    "したがって，NumPyとPandasの分散や標準偏差を混在して利用すると混乱が生じる危険があります．\n",
    "そこで，標本値か不偏値かを明確にするために，ddofをデフォルトで使用せず，明示的に値を与える事を推奨します．"
   ]
  },
  {
   "cell_type": "markdown",
   "metadata": {},
   "source": [
    "*****\n",
    "まず，これから使用するライブラリーを搬入します．\n",
    "\n",
    "```Python\n",
    "import numpy as np\n",
    "import pandas as pd\n",
    "import statistics as stat\n",
    "```"
   ]
  },
  {
   "cell_type": "code",
   "execution_count": 1,
   "metadata": {},
   "outputs": [],
   "source": [
    "import numpy as np\n",
    "import pandas as pd\n",
    "import statistics as stat"
   ]
  },
  {
   "cell_type": "markdown",
   "metadata": {},
   "source": [
    "分散と標準偏差の計算を具体的に実施するためのデータを配列で用意します．\n",
    "\n",
    "```Python\n",
    "data = [1,2,3,4,5,6,7,8,9]\n",
    "data\n",
    "```"
   ]
  },
  {
   "cell_type": "code",
   "execution_count": 2,
   "metadata": {},
   "outputs": [
    {
     "data": {
      "text/plain": [
       "[1, 2, 3, 4, 5, 6, 7, 8, 9]"
      ]
     },
     "execution_count": 2,
     "metadata": {},
     "output_type": "execute_result"
    }
   ],
   "source": [
    "data = [1,2,3,4,5,6,7,8,9]\n",
    "data"
   ]
  },
  {
   "cell_type": "markdown",
   "metadata": {},
   "source": [
    "一つの計算方法として，pandasのデータフレームを使用するので，作成したは列データをデータフレームに変換します．\n",
    "\n",
    "```Python\n",
    "df = pd.DataFrame(data,columns=['data'])\n",
    "df\n",
    "```"
   ]
  },
  {
   "cell_type": "code",
   "execution_count": 3,
   "metadata": {},
   "outputs": [
    {
     "data": {
      "text/html": [
       "<div>\n",
       "<style scoped>\n",
       "    .dataframe tbody tr th:only-of-type {\n",
       "        vertical-align: middle;\n",
       "    }\n",
       "\n",
       "    .dataframe tbody tr th {\n",
       "        vertical-align: top;\n",
       "    }\n",
       "\n",
       "    .dataframe thead th {\n",
       "        text-align: right;\n",
       "    }\n",
       "</style>\n",
       "<table border=\"1\" class=\"dataframe\">\n",
       "  <thead>\n",
       "    <tr style=\"text-align: right;\">\n",
       "      <th></th>\n",
       "      <th>data</th>\n",
       "    </tr>\n",
       "  </thead>\n",
       "  <tbody>\n",
       "    <tr>\n",
       "      <td>0</td>\n",
       "      <td>1</td>\n",
       "    </tr>\n",
       "    <tr>\n",
       "      <td>1</td>\n",
       "      <td>2</td>\n",
       "    </tr>\n",
       "    <tr>\n",
       "      <td>2</td>\n",
       "      <td>3</td>\n",
       "    </tr>\n",
       "    <tr>\n",
       "      <td>3</td>\n",
       "      <td>4</td>\n",
       "    </tr>\n",
       "    <tr>\n",
       "      <td>4</td>\n",
       "      <td>5</td>\n",
       "    </tr>\n",
       "    <tr>\n",
       "      <td>5</td>\n",
       "      <td>6</td>\n",
       "    </tr>\n",
       "    <tr>\n",
       "      <td>6</td>\n",
       "      <td>7</td>\n",
       "    </tr>\n",
       "    <tr>\n",
       "      <td>7</td>\n",
       "      <td>8</td>\n",
       "    </tr>\n",
       "    <tr>\n",
       "      <td>8</td>\n",
       "      <td>9</td>\n",
       "    </tr>\n",
       "  </tbody>\n",
       "</table>\n",
       "</div>"
      ],
      "text/plain": [
       "   data\n",
       "0     1\n",
       "1     2\n",
       "2     3\n",
       "3     4\n",
       "4     5\n",
       "5     6\n",
       "6     7\n",
       "7     8\n",
       "8     9"
      ]
     },
     "execution_count": 3,
     "metadata": {},
     "output_type": "execute_result"
    }
   ],
   "source": [
    "df = pd.DataFrame(data,columns=['data'])\n",
    "df"
   ]
  },
  {
   "cell_type": "markdown",
   "metadata": {},
   "source": [
    "*****\n",
    "## 母分散，標本分散\n",
    "\n",
    "母分散，標本分散を定義式に沿って計算します．\n",
    "\n",
    "```Python\n",
    "average = sum(data)/len(data)\n",
    "sample_variance = sum((a-average)**2 for a in data)/len(data)\n",
    "sample_variance\n",
    "```"
   ]
  },
  {
   "cell_type": "code",
   "execution_count": 4,
   "metadata": {},
   "outputs": [
    {
     "data": {
      "text/plain": [
       "6.666666666666667"
      ]
     },
     "execution_count": 4,
     "metadata": {},
     "output_type": "execute_result"
    }
   ],
   "source": [
    "average = sum(data)/len(data)\n",
    "sample_variance = sum((a-average)**2 for a in data)/len(data)\n",
    "sample_variance"
   ]
  },
  {
   "cell_type": "markdown",
   "metadata": {},
   "source": [
    "NumPyのvar()関数を用いた母分散，標本分散の計算方法です．\n",
    "この命令において，ddof=0はデフォルトなので記載しなくても大丈夫ですが，分散の定義を明示的に表しています．\n",
    "\n",
    "```Python\n",
    "np.var(data,ddof=0)\n",
    "```"
   ]
  },
  {
   "cell_type": "code",
   "execution_count": 5,
   "metadata": {},
   "outputs": [
    {
     "data": {
      "text/plain": [
       "6.666666666666667"
      ]
     },
     "execution_count": 5,
     "metadata": {},
     "output_type": "execute_result"
    }
   ],
   "source": [
    "np.var(data,ddof=0)"
   ]
  },
  {
   "cell_type": "markdown",
   "metadata": {},
   "source": [
    "pandasのデータフレームにおけるvar()メソッドを用いた母分散，標本分散の計算方法です．\n",
    "\n",
    "```Python\n",
    "df.data.var(ddof=0)\n",
    "```"
   ]
  },
  {
   "cell_type": "code",
   "execution_count": 6,
   "metadata": {
    "scrolled": true
   },
   "outputs": [
    {
     "data": {
      "text/plain": [
       "6.666666666666667"
      ]
     },
     "execution_count": 6,
     "metadata": {},
     "output_type": "execute_result"
    }
   ],
   "source": [
    "df.data.var(ddof=0)"
   ]
  },
  {
   "cell_type": "markdown",
   "metadata": {},
   "source": [
    "statisticsライブラリーのpvariance()関数を用いた母分散，標本分散の計算方法です．\n",
    "\n",
    "```Python\n",
    "stat.pvariance(data)\n",
    "```"
   ]
  },
  {
   "cell_type": "code",
   "execution_count": 7,
   "metadata": {},
   "outputs": [
    {
     "data": {
      "text/plain": [
       "6.666666666666667"
      ]
     },
     "execution_count": 7,
     "metadata": {},
     "output_type": "execute_result"
    }
   ],
   "source": [
    "stat.pvariance(data)"
   ]
  },
  {
   "cell_type": "markdown",
   "metadata": {},
   "source": [
    "*****\n",
    "## 母標準偏差，標本標準偏差\n",
    "\n",
    "母標準偏差，標本標準偏差は標本分散の平方根として定義されています．\n",
    "\n",
    "```Python\n",
    "sample_std = sample_variance**(1/2)\n",
    "sample_std\n",
    "```"
   ]
  },
  {
   "cell_type": "code",
   "execution_count": 8,
   "metadata": {},
   "outputs": [
    {
     "data": {
      "text/plain": [
       "2.581988897471611"
      ]
     },
     "execution_count": 8,
     "metadata": {},
     "output_type": "execute_result"
    }
   ],
   "source": [
    "sample_std = sample_variance**(1/2)\n",
    "sample_std"
   ]
  },
  {
   "cell_type": "markdown",
   "metadata": {},
   "source": [
    "NumPyのstd()関数を用いた母標準偏差，標本標準偏差の計算方法です．\n",
    "この命令において，ddof=0はデフォルトなので記載しなくても大丈夫ですが，標準偏差の定義を明示的に表しています．\n",
    "\n",
    "```Python\n",
    "np.std(data,ddof=0)\n",
    "```"
   ]
  },
  {
   "cell_type": "code",
   "execution_count": 9,
   "metadata": {},
   "outputs": [
    {
     "data": {
      "text/plain": [
       "2.581988897471611"
      ]
     },
     "execution_count": 9,
     "metadata": {},
     "output_type": "execute_result"
    }
   ],
   "source": [
    "np.std(data,ddof=0)"
   ]
  },
  {
   "cell_type": "markdown",
   "metadata": {},
   "source": [
    "pandasのデータフレームにおけるstd()メソッドを用いた母標準偏差，標本標準偏差の計算方法です．\n",
    "\n",
    "```Python\n",
    "df.data.std(ddof=0)\n",
    "```"
   ]
  },
  {
   "cell_type": "code",
   "execution_count": 10,
   "metadata": {},
   "outputs": [
    {
     "data": {
      "text/plain": [
       "2.581988897471611"
      ]
     },
     "execution_count": 10,
     "metadata": {},
     "output_type": "execute_result"
    }
   ],
   "source": [
    "df.data.std(ddof=0)"
   ]
  },
  {
   "cell_type": "markdown",
   "metadata": {},
   "source": [
    "statisticsライブラリーのpstdev()関数を用いた母標準偏差，標本標準偏差の計算方法です．\n",
    "\n",
    "```Python\n",
    "stat.pstdev(data)\n",
    "```"
   ]
  },
  {
   "cell_type": "code",
   "execution_count": 11,
   "metadata": {
    "scrolled": true
   },
   "outputs": [
    {
     "data": {
      "text/plain": [
       "2.581988897471611"
      ]
     },
     "execution_count": 11,
     "metadata": {},
     "output_type": "execute_result"
    }
   ],
   "source": [
    "stat.pstdev(data)"
   ]
  },
  {
   "cell_type": "markdown",
   "metadata": {},
   "source": [
    "*****\n",
    "## 不偏分散\n",
    "\n",
    "まずは，不偏分散を定義式に沿って計算します．\n",
    "\n",
    "```Python\n",
    "average = sum(data)/len(data)\n",
    "unviased_variance = sum((a-average)**2 for a in data)/(len(data)-1)\n",
    "unviased_variance\n",
    "```"
   ]
  },
  {
   "cell_type": "code",
   "execution_count": 12,
   "metadata": {},
   "outputs": [
    {
     "data": {
      "text/plain": [
       "7.5"
      ]
     },
     "execution_count": 12,
     "metadata": {},
     "output_type": "execute_result"
    }
   ],
   "source": [
    "average = sum(data)/len(data)\n",
    "unviased_variance = sum((a-average)**2 for a in data)/(len(data)-1)\n",
    "unviased_variance"
   ]
  },
  {
   "cell_type": "markdown",
   "metadata": {},
   "source": [
    "NumPyのvar()関数を用いた不偏分散の計算方法です．\n",
    "\n",
    "```Python\n",
    "np.var(data,ddof=1)\n",
    "```"
   ]
  },
  {
   "cell_type": "code",
   "execution_count": 13,
   "metadata": {},
   "outputs": [
    {
     "data": {
      "text/plain": [
       "7.5"
      ]
     },
     "execution_count": 13,
     "metadata": {},
     "output_type": "execute_result"
    }
   ],
   "source": [
    "np.var(data,ddof=1)"
   ]
  },
  {
   "cell_type": "markdown",
   "metadata": {},
   "source": [
    "pandasのデータフレームにおけるvar()メソッドを用いた不偏分散の計算方法です．\n",
    "この命令において，ddof=1はデフォルトなので記載しなくても大丈夫ですが，分散の定義を明示的に表しています．\n",
    "\n",
    "```Python\n",
    "df.data.var(ddof=1)\n",
    "```"
   ]
  },
  {
   "cell_type": "code",
   "execution_count": 14,
   "metadata": {},
   "outputs": [
    {
     "data": {
      "text/plain": [
       "7.5"
      ]
     },
     "execution_count": 14,
     "metadata": {},
     "output_type": "execute_result"
    }
   ],
   "source": [
    "df.data.var(ddof=1)"
   ]
  },
  {
   "cell_type": "markdown",
   "metadata": {},
   "source": [
    "statisticsライブラリーのpvariance()関数を用いた不偏分散の計算方法です．\n",
    "\n",
    "```Python\n",
    "stat.variance(data)\n",
    "```"
   ]
  },
  {
   "cell_type": "code",
   "execution_count": 15,
   "metadata": {
    "scrolled": true
   },
   "outputs": [
    {
     "data": {
      "text/plain": [
       "7.5"
      ]
     },
     "execution_count": 15,
     "metadata": {},
     "output_type": "execute_result"
    }
   ],
   "source": [
    "stat.variance(data)"
   ]
  },
  {
   "cell_type": "markdown",
   "metadata": {},
   "source": [
    "*****\n",
    "## 不偏標準偏差\n",
    "\n",
    "不偏標準偏差は不偏分散の平方根として定義されています．\n",
    "\n",
    "```Python\n",
    "unviased_std = unviased_variance**(1/2)\n",
    "unviased_std\n",
    "```"
   ]
  },
  {
   "cell_type": "code",
   "execution_count": 16,
   "metadata": {},
   "outputs": [
    {
     "data": {
      "text/plain": [
       "2.7386127875258306"
      ]
     },
     "execution_count": 16,
     "metadata": {},
     "output_type": "execute_result"
    }
   ],
   "source": [
    "unviased_std = unviased_variance**(1/2)\n",
    "unviased_std"
   ]
  },
  {
   "cell_type": "markdown",
   "metadata": {},
   "source": [
    "NumPyのstd()関数を用いた不偏標準偏差の計算方法です．\n",
    "\n",
    "```Python\n",
    "np.std(data,ddof=1)\n",
    "```"
   ]
  },
  {
   "cell_type": "code",
   "execution_count": 17,
   "metadata": {},
   "outputs": [
    {
     "data": {
      "text/plain": [
       "2.7386127875258306"
      ]
     },
     "execution_count": 17,
     "metadata": {},
     "output_type": "execute_result"
    }
   ],
   "source": [
    "np.std(data,ddof=1)"
   ]
  },
  {
   "cell_type": "markdown",
   "metadata": {},
   "source": [
    "pandasのデータフレームにおけるstd()メソッドを用いた不偏標準偏差の計算方法です．\n",
    "この命令において，ddof=1はデフォルトなので記載しなくても大丈夫ですが，標準偏差の定義を明示的に表しています．\n",
    "\n",
    "```Python\n",
    "df.data.std(ddof=1)\n",
    "```"
   ]
  },
  {
   "cell_type": "code",
   "execution_count": 18,
   "metadata": {},
   "outputs": [
    {
     "data": {
      "text/plain": [
       "2.7386127875258306"
      ]
     },
     "execution_count": 18,
     "metadata": {},
     "output_type": "execute_result"
    }
   ],
   "source": [
    "df.data.std(ddof=1)"
   ]
  },
  {
   "cell_type": "markdown",
   "metadata": {},
   "source": [
    "statisticsライブラリーのstdev()関数を用いた不偏標準偏差の計算方法です．\n",
    "\n",
    "```Python\n",
    "stat.stdev(data)\n",
    "```"
   ]
  },
  {
   "cell_type": "code",
   "execution_count": 19,
   "metadata": {},
   "outputs": [
    {
     "data": {
      "text/plain": [
       "2.7386127875258306"
      ]
     },
     "execution_count": 19,
     "metadata": {},
     "output_type": "execute_result"
    }
   ],
   "source": [
    "stat.stdev(data)"
   ]
  },
  {
   "cell_type": "markdown",
   "metadata": {},
   "source": [
    "*****\n",
    "## 平均偏差と中央値絶対偏差\n",
    "\n",
    "平均偏差と中央値絶対偏差について，データフレームにおける計算方法を示します．\n",
    "\n",
    "平均偏差の計算方法は次のようになります．\n",
    "\n",
    "```Python\n",
    "(df.data-df.data.mean()).abs().mean()\n",
    "```"
   ]
  },
  {
   "cell_type": "code",
   "execution_count": 20,
   "metadata": {},
   "outputs": [
    {
     "data": {
      "text/plain": [
       "2.2222222222222223"
      ]
     },
     "execution_count": 20,
     "metadata": {},
     "output_type": "execute_result"
    }
   ],
   "source": [
    "(df.data-df.data.mean()).abs().mean()"
   ]
  },
  {
   "cell_type": "markdown",
   "metadata": {},
   "source": [
    "中央値絶対偏差のデータフレームにおける計算方法は次のようになります．\n",
    "\n",
    "```Python\n",
    "(df.data-df.data.median()).abs().median()\n",
    "```"
   ]
  },
  {
   "cell_type": "code",
   "execution_count": 21,
   "metadata": {},
   "outputs": [
    {
     "data": {
      "text/plain": [
       "2.0"
      ]
     },
     "execution_count": 21,
     "metadata": {},
     "output_type": "execute_result"
    }
   ],
   "source": [
    "(df.data-df.data.median()).abs().median()"
   ]
  },
  {
   "cell_type": "markdown",
   "metadata": {},
   "source": [
    "*****\n"
   ]
  }
 ],
 "metadata": {
  "kernelspec": {
   "display_name": "Python 3",
   "language": "python",
   "name": "python3"
  },
  "language_info": {
   "codemirror_mode": {
    "name": "ipython",
    "version": 3
   },
   "file_extension": ".py",
   "mimetype": "text/x-python",
   "name": "python",
   "nbconvert_exporter": "python",
   "pygments_lexer": "ipython3",
   "version": "3.7.4"
  }
 },
 "nbformat": 4,
 "nbformat_minor": 2
}
