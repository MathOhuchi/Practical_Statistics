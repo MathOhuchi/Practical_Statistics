{
 "cells": [
  {
   "cell_type": "markdown",
   "metadata": {},
   "source": [
    "# 2変量の関係\n",
    "\n",
    "2変量の間の線形関係を示す統計指標として共分散と相関係数があります．\n",
    "\n",
    "- 共分散：2変量のバラツキの同調性を指数化した値です．\n",
    "- 相関係数：共分散をそれぞれの変量の標準偏差で割って標準化した値です．"
   ]
  },
  {
   "cell_type": "markdown",
   "metadata": {},
   "source": [
    "*****\n",
    "## 共分散\n",
    "\n",
    "2つの変量を $x = x_1,x_2,\\cdots,x_n$ および $y = y_1,y_2,\\cdots,y_n$ とします．\n",
    "このとき，この2変量の共分散 $\\sigma_{xy}$ は次式で定義されます．\n",
    "\n",
    "> <font color='green'>$$\\sigma_{xy} = \\frac{1}{n} \\sum_{i=1}^{n} (x_i-\\mu_x)(y_i-\\mu_y) $$</font>\n",
    "\n",
    "ここで，\n",
    "\n",
    "- $\\mu_x$：変量 $x$ の平均値\n",
    "- $\\mu_y$：変量 $y$ の平均値"
   ]
  },
  {
   "cell_type": "markdown",
   "metadata": {},
   "source": [
    "### 共分散の可換性\n",
    "\n",
    "共分散の定義式より，変量を交換しても同じ値になります．\n",
    "\n",
    "> <font color='green'>$$ \\sigma_{xy} = \\sigma_{yx} $$</font>"
   ]
  },
  {
   "cell_type": "markdown",
   "metadata": {},
   "source": [
    "### 共分散と分散\n",
    "\n",
    "共分散の式において，2つの変量が同じ場合は分散に一致します．\n",
    "\n",
    "$$ \\sigma_{xx} \n",
    "= \\frac{1}{n}\\sum_{i=1}^{n}(x_i-\\mu_x)(x_i-\\mu_x)\n",
    "= \\frac{1}{n}\\sum_{i=1}^{n}(x_i-\\mu_x)^2\n",
    "= {\\sigma_x}^2 $$\n",
    "\n",
    "すなわち，\n",
    "\n",
    "> <font color='green'>$$ \\sigma_{xx} = {\\sigma_x}^2 $$</font>"
   ]
  },
  {
   "cell_type": "markdown",
   "metadata": {},
   "source": [
    "### 共分散の計算公式\n",
    "\n",
    "共分散$\\sigma_{xy}$は次式で求まります\n",
    "\n",
    "> <font color='green'>$$ \\sigma_{xy} = \\frac{1}{n}\\sum_{i=1}^{n}x_i y_i - \\mu_x\\mu_y $$</font>"
   ]
  },
  {
   "cell_type": "markdown",
   "metadata": {},
   "source": [
    "この式は，共分散の計算式を展開すれば求まります．\n",
    "\n",
    "$$ \\begin{eqnarray}\n",
    "\\sigma_{xy}\n",
    "&=& \\frac{1}{n}\\sum_{i=1}^{n} (x_i-\\mu_x)(y_i-\\mu_y) \\\\\n",
    "&=& \\frac{1}{n}\\sum_{i=1}^{n} \\left\\{ x_iy_i - x_i\\mu_y - y_i\\mu_x + \\mu_x\\mu_y \\right\\} \\\\\n",
    "&=& \\frac{1}{n}\\sum_{i=1}^{n}x_iy_i \n",
    "   -\\frac{1}{n}\\sum_{i=1}^{n}x_i\\mu_y \n",
    "   -\\frac{1}{n}\\sum_{i=1}^{n}y_i\\mu_x \n",
    "   +\\frac{1}{n}\\sum_{i=1}^{n}\\mu_x\\mu_y \\\\\n",
    "&=& \\frac{1}{n}\\sum_{i=1}^{n}x_iy_i - \\mu_x\\mu_y - \\mu_y\\mu_x + \\mu_x\\mu_y \\\\\n",
    "&=& \\frac{1}{n}\\sum_{i=1}^{n}x_iy_i - \\mu_x\\mu_y \\\\\n",
    "\\end{eqnarray} $$"
   ]
  },
  {
   "cell_type": "markdown",
   "metadata": {},
   "source": [
    "*****\n",
    "## 分散共分散行列\n",
    "\n",
    "2変量より多い多変量の共分散を考えます．\n",
    "今，$m$個の変量を次のように定義します．\n",
    "\n",
    "- $i$番目の変量を $x_i$ とします．各変量$x_i$は $n$個の値をとります．\n",
    "- 変量 $x_i$ の分散を ${\\sigma_i}^2$ とします．\n",
    "- 変量 $x_i$ と $x_j$ との共分散を $\\sigma_{ij}$ とします．\n",
    "\n",
    "このとき分散共分散行列 $\\bf\\Sigma$ は，次のように定義されます．\n",
    "\n",
    "> \n",
    "$$\n",
    "{\\bf \\Sigma} = \n",
    "\\left( \\begin{array}{c}\n",
    "{\\sigma_1}^2& \\sigma_{12} & \\cdots & \\sigma_{1m} \\\\\n",
    "\\sigma_{21} & {\\sigma_2}^2& \\ddots & \\sigma_{2m} \\\\\n",
    "\\vdots      & \\ddots      & \\ddots & \\vdots  \\\\\n",
    "\\sigma_{m1} & \\sigma_{m2} & \\cdots & {\\sigma_m}^2 \\\\\n",
    "\\end{array} \\right)\n",
    "$$"
   ]
  },
  {
   "cell_type": "markdown",
   "metadata": {},
   "source": [
    "分散共分散行列の逆行列 ${\\bf \\Sigma}^{-1}$ を精度行列と言い，機械学習では頻繁に利用されます．"
   ]
  },
  {
   "cell_type": "markdown",
   "metadata": {},
   "source": [
    "*****\n",
    "## 相関\n",
    "\n",
    "2変量の間に直線的な関係性を相関と言い，その指標を<font color=blue>相関係数</font>と言います．\n",
    "\n",
    "相関係数は $-1$ から $1$ の間の値となり，\n",
    "その絶対値が $1$ に近いと相関が強いと言い， $0$ に近いと相関が弱いと言います．\n",
    "また，相関係数の符号がプラスの場合は正の相関と言い，マイナスの場合は負の相関と言います．"
   ]
  },
  {
   "cell_type": "markdown",
   "metadata": {},
   "source": [
    "### 相関係数\n",
    "\n",
    "相関係数は，2変量の共分散をそれぞれの標準偏差で割った値として定義します．  \n",
    "- 変量 $x$ を $x_1,x_2,\\cdots,x_n$\n",
    "- 変量 $y$ を $y_1,y_2,\\cdots,y_n$\n",
    "- $\\mu_x$：変量 $x$ の平均値\n",
    "- $\\mu_y$：変量 $y$ の平均値\n",
    "- $\\sigma_x$：変量 $x$ の標準偏差\n",
    "- $\\sigma_y$：変量 $y$ の標準偏差\n",
    "- $\\sigma_{xy}$：$x$ と $y$ の共分散 \n",
    "\n",
    "としたとき，変量 $x$ と $y$ との相関係数 $r$ は次式となります．\n",
    "\n",
    "> \n",
    "$$\n",
    "r = \\frac{\\sigma_{xy}}{\\sigma_x\\sigma_y}\n",
    "= \\frac{\\sum_{i=1}^{n}(x_i-\\mu_x)(y_i-\\mu_y)}{\\sqrt{\\sum_{i=1}^{n}(x_i-\\mu_x)^2}\\sqrt{\\sum_{i=1}^{n}(y_i-\\mu_y)^2}}\n",
    "$$"
   ]
  },
  {
   "cell_type": "markdown",
   "metadata": {},
   "source": [
    "相関係数について，その評価は次のようになります．\n",
    "\n",
    "|$-1$|  | ～ |  | $0$ |  | ～ |  | $1$ |\n",
    "|:---:|:---:|:---:|:---:|:---:|:---:|:---:|:---:|:---:|\n",
    "|  |強い負の相関|  |弱い負の相関|無相関|弱い正の相関|  |強い正の相関| 　 |\n",
    "\n",
    "相関係数の絶対値が幾つ以上だと相関があるのかという質問があります．\n",
    "その基準は，扱っている現象によって異なります．\n",
    "自然科学だと $0.8$ 以上の目安が多いですが，マーケティング目的だと $0.6$ でも相関があると判断されることがあります．\n",
    "これは慣例的であり，数学的な規定はありません．"
   ]
  },
  {
   "cell_type": "markdown",
   "metadata": {},
   "source": [
    "*****\n",
    "## 相関行列\n",
    "\n",
    "分散共分散行列の場合と同じく，$m$個の変量を次のように定義します．\n",
    "\n",
    "- $i$番目の変量を $x_i$ とします．各変量$x_i$は $n$個の値をとります．\n",
    "- 変量 $x_i$ と $x_j$ との相関 $r_{ij}$ とします．$r_{ij}=r_{ji}$ が成り立ちます．\n",
    "- 変量 $x_i$ と $x_i$ 自身との相関は 1 となります．\n",
    "\n",
    "このとき相関行列は，次のように定義されます．\n",
    "\n",
    "> \n",
    "$$\n",
    "{\\bf R} = \n",
    "\\left( \\begin{array}{c}\n",
    "1      & r_{12} & \\cdots & r_{1m} \\\\\n",
    "r_{21} & 1      & \\ddots & r_{2m} \\\\\n",
    "\\vdots & \\ddots & \\ddots & \\vdots \\\\\n",
    "r_{m1} & r_{m2} & \\cdots & 1      \\\\\n",
    "\\end{array} \\right)\n",
    "$$\n"
   ]
  },
  {
   "cell_type": "markdown",
   "metadata": {},
   "source": [
    "多変量の計算は自然と行列計算になります．\n",
    "多変量を克服するためには，統計以前に線形代数が重要になってきますので，回り道でも線形代数を学習することをお薦めします．\n",
    "\n",
    "*****"
   ]
  }
 ],
 "metadata": {
  "kernelspec": {
   "display_name": "Python 3",
   "language": "python",
   "name": "python3"
  },
  "language_info": {
   "codemirror_mode": {
    "name": "ipython",
    "version": 3
   },
   "file_extension": ".py",
   "mimetype": "text/x-python",
   "name": "python",
   "nbconvert_exporter": "python",
   "pygments_lexer": "ipython3",
   "version": "3.6.1"
  }
 },
 "nbformat": 4,
 "nbformat_minor": 2
}
