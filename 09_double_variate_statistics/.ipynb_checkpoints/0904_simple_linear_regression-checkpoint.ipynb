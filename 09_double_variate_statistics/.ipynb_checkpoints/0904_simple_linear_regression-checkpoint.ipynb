{
 "cells": [
  {
   "cell_type": "markdown",
   "metadata": {},
   "source": [
    "# 単回帰分析\n",
    "\n",
    "2変量データの散布図における近似直線の一つである回帰直線は，単回帰分析によって得られます．\n",
    "\n",
    "線形代数によって回帰分析は線形部分空間への射影として定義することができますが，線形代数の学習だけで大変なボリュームになりますので，ここでの言及は避けることにします．\n",
    "\n",
    "ここでは，単純な単回帰分析について最小二乗法によって説明します．"
   ]
  },
  {
   "cell_type": "markdown",
   "metadata": {},
   "source": [
    "## 単回帰直線\n",
    "\n",
    "ここでは2変量の組を扱います．\n",
    "データを，$(x_1,y_1), (x_2,y_2), \\cdots, (x_n,y_n)$ とします．\n",
    "それぞれの統計量を次の記号で表します．\n",
    ">  \n",
    "$\\mu_x$：変量 $x$ の平均値  \n",
    "$\\mu_y$：変量 $y$ の平均値  \n",
    "${\\sigma_x}^2$：変量 $x$ の標本分散  \n",
    "$\\sigma_{xy}$：変量 $x$ と $y$ との共分散  \n",
    "\n",
    "このとき，単回帰直線は次式で与えられます．\n",
    "\n",
    "> $\\displaystyle Y = aX + b $\n",
    "\n",
    "> $\\displaystyle a = \\frac{\\sigma_{xy}}{{\\sigma_x}^2} = \\frac{\\sum_{i=1}^{n}(x_i-\\mu_x)(y_i-\\mu_y)}{\\sum_{i=1}^{n}{(x_i-\\mu_x)}^2} $\n",
    "\n",
    "> $\\displaystyle b = \\mu_y - a\\mu_x $"
   ]
  },
  {
   "cell_type": "markdown",
   "metadata": {},
   "source": [
    "### 証明\n",
    "\n",
    "回帰直線の傾きとY切片を最小二乗法によって求めます．\n",
    "最小二乗法とは，予測値と実測値との差の2乗の総和を最小にする直線を求める方法です．\n",
    "したがって，評価関数は次の式となります．\n",
    "\n",
    "$$ K(a,b) = \\sum_{i=1}^{n}\\{ax_i+b-y_i\\}^2  $$\n",
    "\n",
    "この式は，パラメータ $a$ および $b$ について2次関数になっています．\n",
    "よって，それぞれの極値は各パラメータで微分した値がゼロとなるところです．"
   ]
  },
  {
   "cell_type": "markdown",
   "metadata": {},
   "source": [
    "まずパラメータ $b$ による微分の式を求めます．\n",
    "\n",
    "$$ \\frac{\\partial K}{\\partial b} = 2\\sum_{i=1}^{n}(ax_i+b-y_i) = 0 $$"
   ]
  },
  {
   "cell_type": "markdown",
   "metadata": {},
   "source": [
    "この式を整理します．\n",
    "\n",
    "$$ \\begin{eqnarray}\n",
    "a\\sum_{i=1}^{n}x_i + \\sum_{i=1}^{n}b - \\sum_{i=1}^{n}y_i &=& 0 \\\\\n",
    "an\\mu_x + bn - n\\mu_y &=& 0 \\\\\n",
    "a\\mu_x + b - {\\mu_y} &=& 0 \\\\\n",
    "b &=& \\mu_y - a\\mu_x \\\\\n",
    "\\end{eqnarray}$$"
   ]
  },
  {
   "cell_type": "markdown",
   "metadata": {},
   "source": [
    "次にパラメータ $a$ による微分の式を求めます．\n",
    "\n",
    "$$ \\frac{\\partial K}{\\partial a} = 2\\sum_{i=1}^{n}x_i(ax_i+b-y_i) = 0 $$"
   ]
  },
  {
   "cell_type": "markdown",
   "metadata": {},
   "source": [
    "この式に，$b=\\mu_y-a\\mu_x$ を代入して整理ます．\n",
    "\n",
    "$$ \\begin{eqnarray}\n",
    "a\\sum_{i=1}^{n}{x_i}^2 + b\\sum_{i=1}^{n}x_i - \\sum_{i=1}^{n}x_iy_i &=& 0 \\\\\n",
    "a\\sum_{i=1}^{n}{x_i}^2 + (\\mu_y-a\\mu_x)n\\mu_x - \\sum_{i=1}^{n}x_iy_i &=& 0 \\\\\n",
    "a\\left\\{\\sum_{i=1}^{n}{x_i}^2-n{\\mu_x}^2\\right\\} + n\\mu_x\\mu_y - \\sum_{i=1}^{n}x_iy_i &=& 0 \\\\\n",
    "\\end{eqnarray}$$\n",
    "\n",
    "これにより\n",
    "$$ a = \\frac{\\sum_{i=1}^{n}x_iy_i-n\\mu_x\\mu_y}{\\sum_{i=1}^{n}{x_i}^2-n{\\mu_x}^2} $$"
   ]
  },
  {
   "cell_type": "markdown",
   "metadata": {},
   "source": [
    "となります．\n",
    "ここで，\n",
    "\n",
    "$$ \\begin{eqnarray}\n",
    "\\sum_{i=1}^{n}(x_i-\\mu_x)(y_i-\\mu_y)\n",
    "&=& \\sum_{i=1}^{n}\\{ x_iy_i - x_i\\mu_y - y_i\\mu_x + \\mu_x\\mu_y \\} \\\\\n",
    "&=& \\sum_{i=1}^{n}x_iy_i - \\mu_y\\sum_{i=1}^{n}x_i - \\mu_x\\sum_{i=1}^{n}y_i + \\sum_{i=1}^{n}\\mu_x\\mu_y \\\\\n",
    "&=& \\sum_{i=1}^{n}x_iy_i - \\mu_yn\\mu_x - \\mu_xn\\mu_y + n\\mu_x\\mu_y \\\\\n",
    "&=& \\sum_{i=1}^{n}x_iy_i - n\\mu_x\\mu_y \\\\\n",
    "\\end{eqnarray} $$"
   ]
  },
  {
   "cell_type": "markdown",
   "metadata": {},
   "source": [
    "さらに，この式で $x_i=y_i$ の場合は，\n",
    "$$ \\sum_{i=1}^{n}(x_i-\\mu_x)^2 = \\sum_{i=1}^{n}{x_i}^2-n{\\mu_x}^2 $$\n",
    "となります．"
   ]
  },
  {
   "cell_type": "markdown",
   "metadata": {},
   "source": [
    "これらの式より，\n",
    "\n",
    "$$  a = \\frac{\\sum_{i=1}^{n}(x_i-\\mu_x)(y_i-\\mu_y)}{\\sum_{i=1}^{n}{(x_i-\\mu_x)}^2} $$\n",
    "\n",
    "が得られました．"
   ]
  },
  {
   "cell_type": "markdown",
   "metadata": {},
   "source": [
    "以上で，単回帰の直線の方程式が求まりました．\n",
    "\n",
    "*****"
   ]
  }
 ],
 "metadata": {
  "kernelspec": {
   "display_name": "Python 3",
   "language": "python",
   "name": "python3"
  },
  "language_info": {
   "codemirror_mode": {
    "name": "ipython",
    "version": 3
   },
   "file_extension": ".py",
   "mimetype": "text/x-python",
   "name": "python",
   "nbconvert_exporter": "python",
   "pygments_lexer": "ipython3",
   "version": "3.6.1"
  }
 },
 "nbformat": 4,
 "nbformat_minor": 2
}
