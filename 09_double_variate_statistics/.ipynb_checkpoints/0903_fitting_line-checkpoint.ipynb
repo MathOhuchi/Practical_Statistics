{
 "cells": [
  {
   "cell_type": "markdown",
   "metadata": {},
   "source": [
    "# 直線近似\n",
    "\n",
    "2変量のデータ分布の外観を散布図でみることができますが，\n",
    "この分布に強い相関がある場合，散布図上に直線を描いてデータ分布を近似することができます．\n",
    "この近似直線を求め方として，3つの方法があります．\n",
    "\n",
    "- 回帰分析による回帰直線\n",
    "- X軸とY軸を交換した回帰直線\n",
    "- 分散共分散行列の第1固有ベクトルによる直線"
   ]
  },
  {
   "cell_type": "markdown",
   "metadata": {},
   "source": [
    "単純なデータで，これらの近似の違いを確認します．\n",
    "> \n",
    "<font face='courier new'>\n",
    "(X,Y) = {(2,2), (4,5), (7,4), (9,6), (10,11)}\n",
    "</font>\n",
    "\n",
    "このデータを散布図にすると下図のようになります．\n",
    "![散布図](./images/scatter.jpg)"
   ]
  },
  {
   "cell_type": "markdown",
   "metadata": {},
   "source": [
    "### 回帰分析による回帰直線\n",
    "この散布図にXを説明変数，Yを目的変数とした回帰分析による回帰直線を引いた図が下図です．\n",
    "この図に示した赤い点線の長さの2乗和，すなわち，各点と直線とのY成分を最小にするような直線です．\n",
    "\n",
    "![回帰直線](./images/normal_regression.jpg)"
   ]
  },
  {
   "cell_type": "markdown",
   "metadata": {},
   "source": [
    "### XとYを交換した回帰分析による回帰直線\n",
    "この散布図にYを説明変数，Xを目的変数とした回帰分析による回帰直線を引いた図が下図です．\n",
    "この図に示した赤い点線の長さの2乗和，すなわち，各点と直線とのX成分を最小にするような直線です．\n",
    "\n",
    "![逆回帰直線](./images/inverse_regression.jpg)"
   ]
  },
  {
   "cell_type": "markdown",
   "metadata": {},
   "source": [
    "### 第1固有ベクトルによる直線\n",
    "この散布図の第1固有ベクトルによる直線を引いた図が下図です．\n",
    "この図に示した赤い点線の長さの2乗和，すなわち，各点から直線への推薦の長さを最小にするような直線です．\n",
    "実は，この直線は主成分分析における第1成分の基底となるベクトルです．\n",
    "\n",
    "![固有ベクトル直線](./images/eigen_vector.jpg)"
   ]
  },
  {
   "cell_type": "markdown",
   "metadata": {},
   "source": [
    "### 近似直線の比較\n",
    "\n",
    "ここまで求めた3種類の近似曲線を同じ図に描画したもので下図です．\n",
    "\n",
    "![近似直線](./images/approximate_lines.jpg)\n",
    "\n",
    "このように，どの直線もデータの重心である（X平均値, Y平均値）を通っています．\n",
    "各直線の比較として，回帰直線は水平に近くなり，XとYを入替えた回帰直線は垂直に近くなります．\n",
    "第1固有ベクトルによる直線は変量XとYを公平に扱っています．"
   ]
  },
  {
   "cell_type": "markdown",
   "metadata": {},
   "source": [
    "*****\n",
    "## Pythonによる近似直線\n",
    "\n",
    "Pythonで近似直線を描画する方法を学習します．\n",
    "\n",
    "必要なライブラリーを搬入します．\n",
    "回帰分析は，sklearn.linear_modelを使用します．\n",
    "固有ベクトルについては，NumPyの関数で対応します．\n",
    "\n",
    "```Python\n",
    "import numpy as np\n",
    "import pandas as pd\n",
    "from sklearn import linear_model\n",
    "import matplotlib.pyplot as plt\n",
    "%matplotlib inline\n",
    "```"
   ]
  },
  {
   "cell_type": "code",
   "execution_count": 1,
   "metadata": {
    "collapsed": true
   },
   "outputs": [],
   "source": [
    "import numpy as np\n",
    "import pandas as pd\n",
    "from sklearn import linear_model\n",
    "import matplotlib.pyplot as plt\n",
    "%matplotlib inline"
   ]
  },
  {
   "cell_type": "markdown",
   "metadata": {},
   "source": [
    "### データの準備\n",
    "\n",
    "データをリスト配列で用意して，データフレームを作成します．\n",
    "データフレームの内容の確認において，縦長のデータを転置にして表示することにより省スペースになります．\n",
    "\n",
    "```Python\n",
    "dataX = [11,18,33,45,56,60,68,78,91,99]\n",
    "dataY = [14,16,44,66,33,80,87,58,85,97]\n",
    "df = pd.DataFrame({'x':dataX,'y':dataY})\n",
    "df.T\n",
    "```"
   ]
  },
  {
   "cell_type": "code",
   "execution_count": 2,
   "metadata": {},
   "outputs": [
    {
     "data": {
      "text/html": [
       "<div>\n",
       "<style>\n",
       "    .dataframe thead tr:only-child th {\n",
       "        text-align: right;\n",
       "    }\n",
       "\n",
       "    .dataframe thead th {\n",
       "        text-align: left;\n",
       "    }\n",
       "\n",
       "    .dataframe tbody tr th {\n",
       "        vertical-align: top;\n",
       "    }\n",
       "</style>\n",
       "<table border=\"1\" class=\"dataframe\">\n",
       "  <thead>\n",
       "    <tr style=\"text-align: right;\">\n",
       "      <th></th>\n",
       "      <th>0</th>\n",
       "      <th>1</th>\n",
       "      <th>2</th>\n",
       "      <th>3</th>\n",
       "      <th>4</th>\n",
       "      <th>5</th>\n",
       "      <th>6</th>\n",
       "      <th>7</th>\n",
       "      <th>8</th>\n",
       "      <th>9</th>\n",
       "    </tr>\n",
       "  </thead>\n",
       "  <tbody>\n",
       "    <tr>\n",
       "      <th>x</th>\n",
       "      <td>11</td>\n",
       "      <td>18</td>\n",
       "      <td>33</td>\n",
       "      <td>45</td>\n",
       "      <td>56</td>\n",
       "      <td>60</td>\n",
       "      <td>68</td>\n",
       "      <td>78</td>\n",
       "      <td>91</td>\n",
       "      <td>99</td>\n",
       "    </tr>\n",
       "    <tr>\n",
       "      <th>y</th>\n",
       "      <td>14</td>\n",
       "      <td>16</td>\n",
       "      <td>44</td>\n",
       "      <td>66</td>\n",
       "      <td>33</td>\n",
       "      <td>80</td>\n",
       "      <td>87</td>\n",
       "      <td>58</td>\n",
       "      <td>85</td>\n",
       "      <td>97</td>\n",
       "    </tr>\n",
       "  </tbody>\n",
       "</table>\n",
       "</div>"
      ],
      "text/plain": [
       "    0   1   2   3   4   5   6   7   8   9\n",
       "x  11  18  33  45  56  60  68  78  91  99\n",
       "y  14  16  44  66  33  80  87  58  85  97"
      ]
     },
     "execution_count": 2,
     "metadata": {},
     "output_type": "execute_result"
    }
   ],
   "source": [
    "dataX = [11,18,33,45,56,60,68,78,91,99]\n",
    "dataY = [14,16,44,66,33,80,87,58,85,97]\n",
    "df = pd.DataFrame({'x':dataX,'y':dataY})\n",
    "df.T"
   ]
  },
  {
   "cell_type": "markdown",
   "metadata": {},
   "source": [
    "### 相関係数\n",
    "\n",
    "変量 x と y の相関係数を確認します．\n",
    "\n",
    "```Python\n",
    "df.x.corr(df.y)\n",
    "```"
   ]
  },
  {
   "cell_type": "code",
   "execution_count": 3,
   "metadata": {},
   "outputs": [
    {
     "data": {
      "text/plain": [
       "0.8588415647980604"
      ]
     },
     "execution_count": 3,
     "metadata": {},
     "output_type": "execute_result"
    }
   ],
   "source": [
    "df.x.corr(df.y)"
   ]
  },
  {
   "cell_type": "markdown",
   "metadata": {},
   "source": [
    "この相関係数を見ると，変量 x と y は強い正の相関があることが分かります．\n",
    "\n",
    "グラフのタイトルに相関係数の値を記載するので，相関係数の桁数を丸めて文字列に変換した変数を用意します．\n",
    "\n",
    "```Python\n",
    "corrXY = str(round(float(df.x.corr(df.y)),3))\n",
    "corrXY\n",
    "```"
   ]
  },
  {
   "cell_type": "code",
   "execution_count": 4,
   "metadata": {},
   "outputs": [
    {
     "data": {
      "text/plain": [
       "'0.859'"
      ]
     },
     "execution_count": 4,
     "metadata": {},
     "output_type": "execute_result"
    }
   ],
   "source": [
    "corrXY = str(round(float(df.x.corr(df.y)),3))\n",
    "corrXY"
   ]
  },
  {
   "cell_type": "markdown",
   "metadata": {},
   "source": [
    "### 線形回帰による直線\n",
    "\n",
    "線形回帰モデルは，sklearn.linear_modelライブラリーのLinearRegression()関数によってオブジェクトを用意します．\n",
    "\n",
    "> <font face='courier new' color='green'>reg1 = linear_model.LinearRegression()</font>\n",
    "\n",
    "この関数を実行した結果は，回帰モデルのオブジェクトが生成されるだけで，回帰モデルは未だ構築されていません．\n",
    "このオブジェクトを変数 reg1 に代入して使用します．"
   ]
  },
  {
   "cell_type": "markdown",
   "metadata": {},
   "source": [
    "線形回帰モデルを構築するには，説明変数と目的変数を与える必要があります．\n",
    "\n",
    "> <font face='courier new'>reg1.fit(*X*, *Y*)</font>\n",
    "\n",
    "ここでXは説明変数，Yは目的変数です．\n",
    "\n",
    "ここでは単回帰分析なので説明変数は1変量ですが，重回帰分析の場合は多変量になります．\n",
    "そのため，説明変数である変数 *X* は2重配列でなければなりません．\n",
    "そこで，データフレームの列を2重配列にフォーマット変換した変数を作成します．\n",
    "\n",
    "> <font face='courier new' color='green'>X1 = [[a] for a in df.x.values]</font>\n",
    "\n",
    "この結果，変数 X1 の内容は下記の通りです．\n",
    "\n",
    "<font face='courier new'> [[11], [18], [33], [45], [56], [60], [68], [78], [91], [99]] </font>\n",
    "\n",
    "この変数 X1 を関数fit()の説明変数として使用します．\n",
    "目的変数は，df.y.values をそのまま使用できます．\n",
    "\n",
    "> <font face='courier new' color='green'>reg1.fit(X1,df.y.values)</font>"
   ]
  },
  {
   "cell_type": "markdown",
   "metadata": {},
   "source": [
    "回帰モデルが生成されたら，そのモデルを用いて回帰直線のための予測値を計算します．\n",
    "予測値は predict()関数によって求まります．\n",
    "\n",
    "> <font face='courier new' color='green'>Y1 = reg1.predict(X1)</font>\n",
    "\n",
    "以上の結果で生成されたX1とY1とを用いて直線を描画します．"
   ]
  },
  {
   "cell_type": "markdown",
   "metadata": {},
   "source": [
    "以上のプログラムをまとめて，Codeセルに記載します．\n",
    "\n",
    "```Python\n",
    "reg1 = linear_model.LinearRegression()\n",
    "X1 = [[a] for a in df.x.values]\n",
    "reg1.fit(X1,df.y.values)\n",
    "Y1 = reg1.predict(X1)\n",
    "```"
   ]
  },
  {
   "cell_type": "code",
   "execution_count": 5,
   "metadata": {
    "collapsed": true
   },
   "outputs": [],
   "source": [
    "reg1 = linear_model.LinearRegression()\n",
    "X1 = [[a] for a in df.x.values]\n",
    "reg1.fit(X1,df.y.values)\n",
    "Y1 = reg1.predict(X1)"
   ]
  },
  {
   "cell_type": "markdown",
   "metadata": {},
   "source": [
    "### XとYを交換した線形回帰による直線\n",
    "\n",
    "この手順は上記と同じです．\n",
    "ただし，XとYを入替えている点に注意します．\n",
    "この結果として求まるX2とY2を用いて直線を描画します．\n",
    "\n",
    "```Python\n",
    "reg2 = linear_model.LinearRegression()\n",
    "Y2 = [[a] for a in df.y.values]\n",
    "reg2.fit(Y2,df.x.values)\n",
    "X2 = reg2.predict(Y2)\n",
    "```"
   ]
  },
  {
   "cell_type": "code",
   "execution_count": 6,
   "metadata": {
    "collapsed": true
   },
   "outputs": [],
   "source": [
    "reg2 = linear_model.LinearRegression()\n",
    "Y2 = [[a] for a in df.y.values]\n",
    "reg2.fit(Y2,df.x.values)\n",
    "X2 = reg2.predict(Y2)"
   ]
  },
  {
   "cell_type": "markdown",
   "metadata": {},
   "source": [
    "### 第1固有ベクトルによる直線\n",
    "\n",
    "求めるものは，データの関連性を示す分散共分散行列の固有ベクトルです．\n",
    "まず，変量XとYの分散共分散行列をNumPyのcov()関数によって求めます．\n",
    "\n",
    "> <font face='courier new' color='green'>covMatrix = np.cov(dataX,dataY,bias=True)</font>\n",
    "\n",
    "この関数に2つの変量を引き数として渡しています．  \n",
    "オプションのパラメータとして <font color='green'>bias=True</font> を渡していますが，\n",
    "この場合は分散の分母がデータ件数 n になります．\n",
    "デフォルトは bias=False でその場合は分散の分母が n-1 となり不偏分散を表します．\n",
    "\n",
    "```Python\n",
    "covMatrix = np.cov(dataX,dataY,bias=True)\n",
    "covMatrix\n",
    "```"
   ]
  },
  {
   "cell_type": "code",
   "execution_count": 7,
   "metadata": {},
   "outputs": [
    {
     "data": {
      "text/plain": [
       "array([[ 783.69,  686.8 ],\n",
       "       [ 686.8 ,  816.  ]])"
      ]
     },
     "execution_count": 7,
     "metadata": {},
     "output_type": "execute_result"
    }
   ],
   "source": [
    "covMatrix = np.cov(dataX,dataY,bias=True)\n",
    "covMatrix"
   ]
  },
  {
   "cell_type": "markdown",
   "metadata": {},
   "source": [
    "この分散共分散行列の固有値と固有ベクトルを求めるには，NumPyの<font color='green'>np.linalg.eig()</font>関数を使用します．\n",
    "\n",
    "> <font face='courier new' color='green'>eigen_values,eigen_vectors = np.linalg.eig(covMatrix)</font>\n",
    "\n",
    "この関数の引数に分散共分散行列の2次元配列を渡しています．\n",
    "返り値は，固有値と固有ベクトルのベアが返ってきますので，2つの変数 eigen_values と eigen_vectors に別々に格納します．\n",
    "\n",
    "```Python\n",
    "eigen_values,eigen_vectors = np.linalg.eig(covMatrix)\n",
    "eigen_values\n",
    "```"
   ]
  },
  {
   "cell_type": "code",
   "execution_count": 8,
   "metadata": {},
   "outputs": [
    {
     "data": {
      "text/plain": [
       "array([  112.85502626,  1486.83497374])"
      ]
     },
     "execution_count": 8,
     "metadata": {},
     "output_type": "execute_result"
    }
   ],
   "source": [
    "eigen_values,eigen_vectors = np.linalg.eig(covMatrix)\n",
    "eigen_values"
   ]
  },
  {
   "cell_type": "markdown",
   "metadata": {},
   "source": [
    "変数 eigen_values に入っている固有値の値が2個あることが分かります．\n",
    "変数 eigeh_vectors に入っている固有ベクトルは，eigen_values にある固有値の並び順に対応して格納されています．\n",
    "第1固有ベクトルは，大きい方の固有値に対応する固有ベクトルですので，第1固有ベクトルは次の値になります．\n",
    "\n",
    "|最大の固有値|<font face='courier new'>eigne_values[0]</font>|<font face='courier new'>eigen_values[1]</font>|\n",
    "|:---:|:---:|:---:|\n",
    "|**第1固有ベクトルのX成分**|<font face='courier new'>eigen_vectors[0,0]</font> | <font face='courier new'>eigen_vetors[0,1]</font> |\n",
    "|**第1固有ベクトルのY成分**|<font face='courier new'>eigen_vectors[1,0]</font> | <font face='courier new'>eigen_vetors[1,1]</font> |\n",
    "\n",
    "この情報から直線の傾きは，固有ベクトルの（Y成分／X成分）で求まります．  \n",
    "条件分けして傾きを計算して変数 coef に代入します．\n",
    "\n",
    "```Python\n",
    "if eigen_values[0] > eigen_values[1]:\n",
    "    coef = eigen_vectors[1,0]/eigen_vectors[0,0]\n",
    "else:\n",
    "    coef = eigen_vectors[1,1]/eigen_vectors[0,1]\n",
    "coef\n",
    "```"
   ]
  },
  {
   "cell_type": "code",
   "execution_count": 9,
   "metadata": {},
   "outputs": [
    {
     "data": {
      "text/plain": [
       "1.0237987387072784"
      ]
     },
     "execution_count": 9,
     "metadata": {},
     "output_type": "execute_result"
    }
   ],
   "source": [
    "if eigen_values[0] > eigen_values[1]:\n",
    "    coef = eigen_vectors[1,0]/eigen_vectors[0,0]\n",
    "else:\n",
    "    coef = eigen_vectors[1,1]/eigen_vectors[0,1]\n",
    "coef"
   ]
  },
  {
   "cell_type": "markdown",
   "metadata": {},
   "source": [
    "近似直線はデータの重心を通るので，直線の方程式にXの平均値を入れたらYの平均値が求まらなければなりません．\n",
    "この条件によって直線の方程式の定数項も決定します．\n",
    "\n",
    "> $$ Y = {\\alpha}X + (\\mu_y - {\\alpha}\\mu_x) $$\n",
    "\n",
    "データ範囲に合うようにX軸の値を適当に採用して2重配列を作り，変数X3に代入します．\n",
    "このX3を直線の計算式に代入してYの値の配列を求め，変数Y3に代入します．\n",
    "\n",
    "```Python\n",
    "X3 = [5,95]\n",
    "Y3 = [coef*a+df.y.mean()-coef*df.x.mean() for a in X3]\n",
    "```"
   ]
  },
  {
   "cell_type": "code",
   "execution_count": 10,
   "metadata": {
    "collapsed": true
   },
   "outputs": [],
   "source": [
    "X3 = [5,95]\n",
    "Y3 = [coef*a+df.y.mean()-coef*df.x.mean() for a in X3]"
   ]
  },
  {
   "cell_type": "markdown",
   "metadata": {},
   "source": [
    "以上で，3種類の近似直線のデータが求まりました．\n",
    "\n",
    "- (X1,Y1)：回帰分析による直線\n",
    "- (X2,Y2)：XとYを交換した回帰分析による直線\n",
    "- (X3,Y3)：分散共分散行列の第1固有ベクトルによる直線"
   ]
  },
  {
   "cell_type": "markdown",
   "metadata": {},
   "source": [
    "### グラフの描画\n",
    "\n",
    "グラフの描画では次の関数を使用します．\n",
    "\n",
    "- <font face='courier new' color='green'>plt.plot</font>：直線の描画\n",
    "- <font face='courier new' color='green'>plt.scatter</font>：散布点の描画\n",
    "- <font face='courier new' color='green'>plt.title</font>：図タイトルの設定\n",
    "- <font face='courier new' color='green'>plt.xlabel</font>：X軸ラベルの設定\n",
    "- <font face='courier new' color='green'>plt.ylabel</font>：Y軸ラベルの設定\n",
    "- <font face='courier new' color='green'>plt.axis</font>：縦横比の設定\n",
    "- <font face='courier new' color='green'>plt.legend</font>：凡例の表示\n",
    "- <font face='courier new' color='green'>plt.show</font>：図の表示\n"
   ]
  },
  {
   "cell_type": "markdown",
   "metadata": {},
   "source": [
    "#### 直線の描画\n",
    "\n",
    "直線の描画は，plot()関数に次のように引数を渡します．\n",
    "\n",
    "> <font face='courier new' color='green'>plt.fit(*X*,*Y*,color='*color_name*',label='*any_text*')</font>\n",
    "\n",
    "> - <font face='courier new' color='green'>*X*</font>：X軸データの配列\n",
    "> - <font face='courier new' color='green'>*Y*</font>：Y軸データの配列\n",
    "> - <font face='courier new' color='green'>color='*color_name*'</font>：色の名前，green, blue, red, gray, ...\n",
    "> - <font face='courier new' color='green'>label='*any_text*'</font>：凡例に表示するテキスト"
   ]
  },
  {
   "cell_type": "markdown",
   "metadata": {},
   "source": [
    "3本の直線についての引数は下表となります．\n",
    "\n",
    "|直線の原理|X|Y|color|label|\n",
    "|:---:|:---:|:---:|:---:|:---:|\n",
    "|回帰分析による直線                       | df.x | Y1 | green | Normal regression |\n",
    "|XとYを交換した回帰分析による直線         | X2 | df.y | blue | Inverse regression |\n",
    "|分散共分散行列の第1固有ベクトルによる直線| X3 | Y3 | gray | Eigen vector |"
   ]
  },
  {
   "cell_type": "markdown",
   "metadata": {},
   "source": [
    "#### 散布点の描画\n",
    "\n",
    "散布点の描画は次の関数になります．\n",
    "\n",
    "> <font face='courier new' color='green'>plt.scatter(df.x,df.y,label='data plot')</font>\n",
    "\n",
    "scatter()関数のデータはデータフレームの2つの列をそのまま採用できます．"
   ]
  },
  {
   "cell_type": "markdown",
   "metadata": {},
   "source": [
    "#### 全体の描画\n",
    "\n",
    "3つの直線と散布点およびグラフ全体の表示を綺麗にする部分も含めたプログラムは，次のようになります．\n",
    "\n",
    "```Python\n",
    "# X based regression\n",
    "plt.plot(df.x,Y1,color='green',label='Normal regression')\n",
    "# Y based regression\n",
    "plt.plot(X2,df.y,color='blue',label='Inverse regression')\n",
    "# eigen vector fitting\n",
    "plt.plot(X3,Y3,color='gray',label='Eigen vector')\n",
    "# scatter\n",
    "plt.scatter(df.x,df.y,label='data plot')\n",
    "# decoration\n",
    "plt.title('Correlation='+corrXY)\n",
    "plt.xlabel('x')\n",
    "plt.ylabel('y')\n",
    "plt.axis('scaled') \n",
    "plt.legend(bbox_to_anchor=(1, 1))\n",
    "plt.show()\n",
    "```"
   ]
  },
  {
   "cell_type": "code",
   "execution_count": 11,
   "metadata": {},
   "outputs": [
    {
     "data": {
      "image/png": "[encoded data removed]",
      "text/plain": [
       "<matplotlib.figure.Figure at 0x1a93fc4eba8>"
      ]
     },
     "metadata": {},
     "output_type": "display_data"
    }
   ],
   "source": [
    "# X based regression\n",
    "plt.plot(df.x,Y1,color='green',label='Normal regression')\n",
    "# Y based regression\n",
    "plt.plot(X2,df.y,color='blue',label='Inverse regression')\n",
    "# eigen vector fitting\n",
    "plt.plot(X3,Y3,color='gray',label='Eigen vector')\n",
    "# scatter\n",
    "plt.scatter(df.x,df.y,label='data plot')\n",
    "# decoration\n",
    "plt.title('Correlation='+corrXY)\n",
    "plt.xlabel('x')\n",
    "plt.ylabel('y')\n",
    "plt.axis('scaled') \n",
    "plt.legend(bbox_to_anchor=(1, 1))\n",
    "plt.show()"
   ]
  },
  {
   "cell_type": "markdown",
   "metadata": {
    "collapsed": true
   },
   "source": [
    "\n",
    "\n",
    "*****"
   ]
  }
 ],
 "metadata": {
  "kernelspec": {
   "display_name": "Python 3",
   "language": "python",
   "name": "python3"
  },
  "language_info": {
   "codemirror_mode": {
    "name": "ipython",
    "version": 3
   },
   "file_extension": ".py",
   "mimetype": "text/x-python",
   "name": "python",
   "nbconvert_exporter": "python",
   "pygments_lexer": "ipython3",
   "version": "3.6.1"
  }
 },
 "nbformat": 4,
 "nbformat_minor": 2
}
