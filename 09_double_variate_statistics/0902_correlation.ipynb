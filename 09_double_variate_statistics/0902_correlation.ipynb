{
 "cells": [
  {
   "cell_type": "markdown",
   "metadata": {},
   "source": [
    "# 相関\n",
    "\n",
    "2変量の間に直線的な関係性を相関と言い，その指標を<font color=blue>相関係数</font>と言います．\n",
    "\n",
    "相関係数は $-1$ から $1$ の間の値となり，\n",
    "その絶対値が $1$ に近いと相関が強いと言い， $0$ に近いと相関が弱いと言います．\n",
    "また，相関係数の符号がプラスの場合は正の相関と言い，マイナスの場合は負の相関と言います．"
   ]
  },
  {
   "cell_type": "markdown",
   "metadata": {},
   "source": [
    "## 相関係数\n",
    "\n",
    "相関係数は，2変量の共分散をそれぞれの標準偏差で割った値として定義します．  \n",
    "- 変量 $x$ を $x_1,x_2,\\cdots,x_n$\n",
    "- 変量 $y$ を $y_1,y_2,\\cdots,y_n$\n",
    "- $\\mu_x$：へ変量 $x$ の平均値\n",
    "- $\\mu_y$：へ変量 $y$ の平均値\n",
    "- $\\sigma_x$：変量 $x$ の標準偏差\n",
    "- $\\sigma_y$：変量 $y$ の標準偏差\n",
    "- $\\sigma_{xy}$：$x$ と $y$ の共分散 \n",
    "\n",
    "としたとき，変量 $x$ と $y$ との相関係数 $r$ は次式となります．\n",
    "\n",
    "> \n",
    "$$\n",
    "r = \\frac{\\sigma_{xy}}{\\sigma_x\\sigma_y}\n",
    "= \\frac{\\sum_{i=1}^{n}(x_i-\\mu_x)(y_i-\\mu_y)}{\\sqrt{\\sum_{i=1}^{n}(x_i-\\mu_x)^2}\\sqrt{\\sum_{i=1}^{n}(y_i-\\mu_y)^2}}\n",
    "$$"
   ]
  },
  {
   "cell_type": "markdown",
   "metadata": {},
   "source": [
    "相関係数の絶対値が幾つ以上だと相関があるのかという質問があります．\n",
    "その基準は，扱っている現象によって異なります．\n",
    "自然科学だと $0.8$ 以上の目安が多いですが，マーケティング目的だと $0.6$ でも相関があると判断されることがあります．\n",
    "\n",
    "相関の度合いの判断ですが，大まかには次のような表現になります．\n",
    "\n",
    "|$-1$|  | ～ |  | $0$ |  | ～ |  | $1$ |\n",
    "|:---:|:---:|:---:|:---:|:---:|:---:|:---:|:---:|:---:|\n",
    "|  |強い負の相関|  |弱い負の相関|無相関|弱い正の相関|  |強い正の相関|  |\n",
    "\n",
    "これは慣例的な表現であり，数学的な規定はありません．"
   ]
  },
  {
   "cell_type": "markdown",
   "metadata": {},
   "source": [
    "*****\n",
    "## Pythonによる相関の確認\n",
    "\n",
    "サンプルデータを用いて相関について確認します．\n",
    "確認方法は，次のステップになります．\n",
    "\n",
    "1. 6個の変量からなるデータフレームを作成します．\n",
    "- 基準となる1つの変量と他の変量とのグラフによる比較を行います．\n",
    "    - 2変量の散布図を作成します．\n",
    "    - 散布図上に回帰直線を引きます．\n",
    "    - 相関係数を計算します．\n"
   ]
  },
  {
   "cell_type": "markdown",
   "metadata": {},
   "source": [
    "### ライブラリーの搬入\n",
    "\n",
    "必要なライブラリーを搬入します．\n",
    "- <font face='courier new' color='green'>pandas</font>：データフレーム\n",
    "- <font face='courier new' color='green'>sklean.linear_model</font>：線形回帰\n",
    "- <font face='courier new' color='green'>matplotlib.pyplot</font>：作図\n",
    "\n",
    "具体的には，次のように記載して実行します．\n",
    "\n",
    "```Python\n",
    "import pandas as pd\n",
    "from sklearn import linear_model\n",
    "import matplotlib.pyplot as plt\n",
    "%matplotlib inline\n",
    "```"
   ]
  },
  {
   "cell_type": "code",
   "execution_count": 1,
   "metadata": {
    "collapsed": true
   },
   "outputs": [],
   "source": [
    "import pandas as pd\n",
    "from sklearn import linear_model\n",
    "import matplotlib.pyplot as plt\n",
    "%matplotlib inline"
   ]
  },
  {
   "cell_type": "markdown",
   "metadata": {},
   "source": [
    "### データフレームの作成\n",
    "\n",
    "辞書配列とリスト配列を使って，6個の変量を持つデータフレームを作成します．\n",
    "\n",
    "```Python\n",
    "data = {\n",
    "    'data0':[10,20,30,40,50,60,70,80,90,100],\n",
    "    'data1':[16,25,24,38,52,66,78,84,86, 98],\n",
    "    'data2':[34,28,54,48,12,76,42,77,84, 62],\n",
    "    'data3':[50,88,36,44,84,46,68,34,86, 49],\n",
    "    'data4':[70,36,58,43,64,65,48,16,34, 20],\n",
    "    'data5':[88,74,68,58,64,38,33,22,14,  8]\n",
    "}\n",
    "df = pd.DataFrame(data)\n",
    "df.head(3)\n",
    "```"
   ]
  },
  {
   "cell_type": "code",
   "execution_count": 2,
   "metadata": {},
   "outputs": [
    {
     "data": {
      "text/html": [
       "<div>\n",
       "<style>\n",
       "    .dataframe thead tr:only-child th {\n",
       "        text-align: right;\n",
       "    }\n",
       "\n",
       "    .dataframe thead th {\n",
       "        text-align: left;\n",
       "    }\n",
       "\n",
       "    .dataframe tbody tr th {\n",
       "        vertical-align: top;\n",
       "    }\n",
       "</style>\n",
       "<table border=\"1\" class=\"dataframe\">\n",
       "  <thead>\n",
       "    <tr style=\"text-align: right;\">\n",
       "      <th></th>\n",
       "      <th>data0</th>\n",
       "      <th>data1</th>\n",
       "      <th>data2</th>\n",
       "      <th>data3</th>\n",
       "      <th>data4</th>\n",
       "      <th>data5</th>\n",
       "    </tr>\n",
       "  </thead>\n",
       "  <tbody>\n",
       "    <tr>\n",
       "      <th>0</th>\n",
       "      <td>10</td>\n",
       "      <td>16</td>\n",
       "      <td>34</td>\n",
       "      <td>50</td>\n",
       "      <td>70</td>\n",
       "      <td>88</td>\n",
       "    </tr>\n",
       "    <tr>\n",
       "      <th>1</th>\n",
       "      <td>20</td>\n",
       "      <td>25</td>\n",
       "      <td>28</td>\n",
       "      <td>88</td>\n",
       "      <td>36</td>\n",
       "      <td>74</td>\n",
       "    </tr>\n",
       "    <tr>\n",
       "      <th>2</th>\n",
       "      <td>30</td>\n",
       "      <td>24</td>\n",
       "      <td>54</td>\n",
       "      <td>36</td>\n",
       "      <td>58</td>\n",
       "      <td>68</td>\n",
       "    </tr>\n",
       "  </tbody>\n",
       "</table>\n",
       "</div>"
      ],
      "text/plain": [
       "   data0  data1  data2  data3  data4  data5\n",
       "0     10     16     34     50     70     88\n",
       "1     20     25     28     88     36     74\n",
       "2     30     24     54     36     58     68"
      ]
     },
     "execution_count": 2,
     "metadata": {},
     "output_type": "execute_result"
    }
   ],
   "source": [
    "data = {\n",
    "    'data0':[10,20,30,40,50,60,70,80,90,100],\n",
    "    'data1':[16,25,24,38,52,66,78,84,86, 98],\n",
    "    'data2':[34,28,54,48,12,76,42,77,84, 62],\n",
    "    'data3':[50,88,36,44,84,46,68,34,86, 49],\n",
    "    'data4':[70,36,58,43,64,65,48,16,34, 20],\n",
    "    'data5':[88,74,68,58,64,38,33,22,14,  8]\n",
    "}\n",
    "df = pd.DataFrame(data)\n",
    "df.head(3)"
   ]
  },
  {
   "cell_type": "markdown",
   "metadata": {},
   "source": [
    "### 相関係数の算出\n",
    "\n",
    "全ての数値変量間の相関係数は <font color='green'>corr()</font>によって求めることができます．\n",
    "\n",
    "```Python\n",
    "df.corr()\n",
    "```"
   ]
  },
  {
   "cell_type": "code",
   "execution_count": 3,
   "metadata": {},
   "outputs": [
    {
     "data": {
      "text/html": [
       "<div>\n",
       "<style>\n",
       "    .dataframe thead tr:only-child th {\n",
       "        text-align: right;\n",
       "    }\n",
       "\n",
       "    .dataframe thead th {\n",
       "        text-align: left;\n",
       "    }\n",
       "\n",
       "    .dataframe tbody tr th {\n",
       "        vertical-align: top;\n",
       "    }\n",
       "</style>\n",
       "<table border=\"1\" class=\"dataframe\">\n",
       "  <thead>\n",
       "    <tr style=\"text-align: right;\">\n",
       "      <th></th>\n",
       "      <th>data0</th>\n",
       "      <th>data1</th>\n",
       "      <th>data2</th>\n",
       "      <th>data3</th>\n",
       "      <th>data4</th>\n",
       "      <th>data5</th>\n",
       "    </tr>\n",
       "  </thead>\n",
       "  <tbody>\n",
       "    <tr>\n",
       "      <th>data0</th>\n",
       "      <td>1.000000</td>\n",
       "      <td>0.987076</td>\n",
       "      <td>0.630225</td>\n",
       "      <td>0.000870</td>\n",
       "      <td>-0.636901</td>\n",
       "      <td>-0.983998</td>\n",
       "    </tr>\n",
       "    <tr>\n",
       "      <th>data1</th>\n",
       "      <td>0.987076</td>\n",
       "      <td>1.000000</td>\n",
       "      <td>0.595527</td>\n",
       "      <td>0.022777</td>\n",
       "      <td>-0.612401</td>\n",
       "      <td>-0.972812</td>\n",
       "    </tr>\n",
       "    <tr>\n",
       "      <th>data2</th>\n",
       "      <td>0.630225</td>\n",
       "      <td>0.595527</td>\n",
       "      <td>1.000000</td>\n",
       "      <td>-0.401150</td>\n",
       "      <td>-0.459076</td>\n",
       "      <td>-0.728593</td>\n",
       "    </tr>\n",
       "    <tr>\n",
       "      <th>data3</th>\n",
       "      <td>0.000870</td>\n",
       "      <td>0.022777</td>\n",
       "      <td>-0.401150</td>\n",
       "      <td>1.000000</td>\n",
       "      <td>0.046415</td>\n",
       "      <td>0.058487</td>\n",
       "    </tr>\n",
       "    <tr>\n",
       "      <th>data4</th>\n",
       "      <td>-0.636901</td>\n",
       "      <td>-0.612401</td>\n",
       "      <td>-0.459076</td>\n",
       "      <td>0.046415</td>\n",
       "      <td>1.000000</td>\n",
       "      <td>0.683356</td>\n",
       "    </tr>\n",
       "    <tr>\n",
       "      <th>data5</th>\n",
       "      <td>-0.983998</td>\n",
       "      <td>-0.972812</td>\n",
       "      <td>-0.728593</td>\n",
       "      <td>0.058487</td>\n",
       "      <td>0.683356</td>\n",
       "      <td>1.000000</td>\n",
       "    </tr>\n",
       "  </tbody>\n",
       "</table>\n",
       "</div>"
      ],
      "text/plain": [
       "          data0     data1     data2     data3     data4     data5\n",
       "data0  1.000000  0.987076  0.630225  0.000870 -0.636901 -0.983998\n",
       "data1  0.987076  1.000000  0.595527  0.022777 -0.612401 -0.972812\n",
       "data2  0.630225  0.595527  1.000000 -0.401150 -0.459076 -0.728593\n",
       "data3  0.000870  0.022777 -0.401150  1.000000  0.046415  0.058487\n",
       "data4 -0.636901 -0.612401 -0.459076  0.046415  1.000000  0.683356\n",
       "data5 -0.983998 -0.972812 -0.728593  0.058487  0.683356  1.000000"
      ]
     },
     "execution_count": 3,
     "metadata": {},
     "output_type": "execute_result"
    }
   ],
   "source": [
    "df.corr()"
   ]
  },
  {
   "cell_type": "markdown",
   "metadata": {},
   "source": [
    "また，個別に相関係数を求めるには次のようにします．\n",
    "この例は daata0 と data1 との相関係数です．\n",
    "df.corr()関数の結果と一致しています．\n",
    "\n",
    "```Python\n",
    "df.data0.corr(df.data1)\n",
    "```"
   ]
  },
  {
   "cell_type": "code",
   "execution_count": 4,
   "metadata": {},
   "outputs": [
    {
     "data": {
      "text/plain": [
       "0.9870759656977014"
      ]
     },
     "execution_count": 4,
     "metadata": {},
     "output_type": "execute_result"
    }
   ],
   "source": [
    "df.data0.corr(df.data1)"
   ]
  },
  {
   "cell_type": "markdown",
   "metadata": {},
   "source": [
    "### 線型回帰モデル\n",
    "\n",
    "線形回帰モデルは，sklean.linear_model にある関数によってオブジェクトを生成します．\n",
    "その関数ではオブジェクトが生成されるだけなので，回帰モデルは未完成です．\n",
    "そこで，このオブジェクトに対して回帰モデルの生成および予測の実施のために個別の関数を使用します．\n",
    "\n",
    "- <font face='courier new' color='green'>LinearRegression()</font>：オブジェクトの生成\n",
    "- <font face='courier new' color='green'>fit()</font>：回帰モデルの作成\n",
    "- <font face='courier new' color='green'>predict()</font>：予測の実施"
   ]
  },
  {
   "cell_type": "markdown",
   "metadata": {},
   "source": [
    "まず準備として，LinearRegression()関数によって線形回帰モデル用のオブジェクトを作成します．\n",
    "ここでは，そのオブジェクトを reg という変数に代入します．\n",
    "\n",
    "fit()関数には説明変数と目的変数を与える必要がありますが，このモジュールは重回帰分析に対応しているため説明変数は1つの場合でも2重配列にする必要があります．\n",
    "説明変数として data0 を採用しますが，このデータを2重配列に変更したものを変数 x に代入しておきます．\n",
    "\n",
    "```Python\n",
    "reg = linear_model.LinearRegression()\n",
    "x = [[a] for a in df.data0.values]\n",
    "```"
   ]
  },
  {
   "cell_type": "code",
   "execution_count": 5,
   "metadata": {
    "collapsed": true
   },
   "outputs": [],
   "source": [
    "reg = linear_model.LinearRegression()\n",
    "x = [[a] for a in df.data0.values]"
   ]
  },
  {
   "cell_type": "markdown",
   "metadata": {},
   "source": [
    "ここで，目的変数として data1 を採用した場合の線形回帰モデルは次の命令で構成されます．\n",
    "\n",
    "```Python\n",
    "reg.fit(x,df.data1.values)\n",
    "```"
   ]
  },
  {
   "cell_type": "code",
   "execution_count": 6,
   "metadata": {},
   "outputs": [
    {
     "data": {
      "text/plain": [
       "LinearRegression(copy_X=True, fit_intercept=True, n_jobs=1, normalize=False)"
      ]
     },
     "execution_count": 6,
     "metadata": {},
     "output_type": "execute_result"
    }
   ],
   "source": [
    "reg.fit(x,df.data1.values)"
   ]
  },
  {
   "cell_type": "markdown",
   "metadata": {},
   "source": [
    "この線形回帰モデルの予測値は，次の命令で求まります．\n",
    "\n",
    "```Python\n",
    "reg.predict(x)\n",
    "```"
   ]
  },
  {
   "cell_type": "code",
   "execution_count": 7,
   "metadata": {},
   "outputs": [
    {
     "data": {
      "text/plain": [
       "array([  13.09090909,   22.78181818,   32.47272727,   42.16363636,\n",
       "         51.85454545,   61.54545455,   71.23636364,   80.92727273,\n",
       "         90.61818182,  100.30909091])"
      ]
     },
     "execution_count": 7,
     "metadata": {},
     "output_type": "execute_result"
    }
   ],
   "source": [
    "reg.predict(x)"
   ]
  },
  {
   "cell_type": "markdown",
   "metadata": {},
   "source": [
    "### 散布図（data0, data1）\n",
    "\n",
    "以上のプログラムを使用して data0 と data1 との相関を散布図上で確認します．\n",
    "散布図上に回帰直線を引いています．\n",
    "さらにタイトルに相関係数を記載しました．\n",
    "夫々の関数の役割は次のようになっています．\n",
    "\n",
    "- <font face='courier new' color='green'>reg.fit()</font>：回帰モデルの構築\n",
    "- <font face='courier new' color='green'>plt.plot()</font>：回帰直線の描画\n",
    "- <font face='courier new' color='green'>plt.scatter()</font>：散布図の描画\n",
    "- <font face='courier new' color='green'>plt.title()</font>：タイトルの追加\n",
    "- <font face='courier new' color='green'>plt.xlabel()</font>：x軸のラベルの追加\n",
    "- <font face='courier new' color='green'>plt.ylabel()</font>：y軸のラベルの追加\n",
    "- <font face='courier new' color='green'>plt.axis()</font>：グラフの縦横比の設定\n",
    "- <font face='courier new' color='green'>plt.show()</font>：以上の図の表示"
   ]
  },
  {
   "cell_type": "code",
   "execution_count": 8,
   "metadata": {},
   "outputs": [
    {
     "data": {
      "image/png": "[encoded data removed]",
      "text/plain": [
       "<matplotlib.figure.Figure at 0x18abc1ee860>"
      ]
     },
     "metadata": {},
     "output_type": "display_data"
    }
   ],
   "source": [
    "reg.fit(x,df.data1.values)\n",
    "plt.plot(x,reg.predict(x),color='green')\n",
    "plt.scatter(df.data0,df.data1)\n",
    "plt.title('Correlation='+str(round(float(df.data0.corr(df.data1)),3)))\n",
    "plt.xlabel('data 0')\n",
    "plt.ylabel('data 1')\n",
    "plt.axis('scaled')\n",
    "plt.show()"
   ]
  },
  {
   "cell_type": "markdown",
   "metadata": {},
   "source": [
    "相関係数が 0.987 と，強い正の相関を示しています．\n",
    "プロットした点が回帰直線に沿っていることが分かります．"
   ]
  },
  {
   "cell_type": "markdown",
   "metadata": {},
   "source": [
    "### 散布図（data0, data2）"
   ]
  },
  {
   "cell_type": "code",
   "execution_count": 9,
   "metadata": {
    "scrolled": false
   },
   "outputs": [
    {
     "data": {
      "image/png": "[encoded data removed]",
      "text/plain": [
       "<matplotlib.figure.Figure at 0x18abc1f9518>"
      ]
     },
     "metadata": {},
     "output_type": "display_data"
    }
   ],
   "source": [
    "reg.fit(x,df.data2.values)\n",
    "plt.plot(x,reg.predict(x),color='green')\n",
    "plt.scatter(df.data0,df.data2)\n",
    "plt.title('Correlation='+str(round(float(df.data0.corr(df.data2)),3)))\n",
    "plt.xlabel('data 0')\n",
    "plt.ylabel('data 2')\n",
    "plt.axis('scaled')\n",
    "plt.show()"
   ]
  },
  {
   "cell_type": "markdown",
   "metadata": {},
   "source": [
    "相関係数が 0.63 と正の相関になっていますが，それほど強い相関ではありません．\n",
    "散布図の点も回帰直線から離れて分布しています．"
   ]
  },
  {
   "cell_type": "markdown",
   "metadata": {},
   "source": [
    "### 散布図（data0, data3）"
   ]
  },
  {
   "cell_type": "code",
   "execution_count": 10,
   "metadata": {
    "scrolled": true
   },
   "outputs": [
    {
     "data": {
      "image/png": "[encoded data removed]",
      "text/plain": [
       "<matplotlib.figure.Figure at 0x18abdb06198>"
      ]
     },
     "metadata": {},
     "output_type": "display_data"
    }
   ],
   "source": [
    "reg.fit(x,df.data3.values)\n",
    "plt.plot(x,reg.predict(x),color='green')\n",
    "plt.scatter(df.data0,df.data3)\n",
    "plt.title('Correlation='+str(round(float(df.data0.corr(df.data3)),3)))\n",
    "plt.xlabel('data 0')\n",
    "plt.ylabel('data 3')\n",
    "plt.axis('scaled')\n",
    "plt.show()"
   ]
  },
  {
   "cell_type": "markdown",
   "metadata": {},
   "source": [
    "相関係数が 0.001 なので，ほぼ無相関です．\n",
    "この場合の回帰直線に利用価値はありません．"
   ]
  },
  {
   "cell_type": "markdown",
   "metadata": {},
   "source": [
    "### 散布図（data0, data4）"
   ]
  },
  {
   "cell_type": "code",
   "execution_count": 11,
   "metadata": {},
   "outputs": [
    {
     "data": {
      "image/png": "[encoded data removed]",
      "text/plain": [
       "<matplotlib.figure.Figure at 0x18abdb6e3c8>"
      ]
     },
     "metadata": {},
     "output_type": "display_data"
    }
   ],
   "source": [
    "reg.fit(x,df.data4.values)\n",
    "plt.plot(x,reg.predict(x),color='green')\n",
    "plt.scatter(df.data0,df.data4)\n",
    "plt.title('Correlation='+str(round(float(df.data0.corr(df.data4)),3)))\n",
    "plt.xlabel('data 0')\n",
    "plt.ylabel('data 4')\n",
    "plt.axis('scaled')\n",
    "plt.show()"
   ]
  },
  {
   "cell_type": "markdown",
   "metadata": {},
   "source": [
    "相関係数が -0.637 と，負の相関になっています．\n",
    "相関の強さは中間的です．\n",
    "負の相関なので，回帰直線は右下がりになっています．"
   ]
  },
  {
   "cell_type": "markdown",
   "metadata": {},
   "source": [
    "### 散布図（data0, data5）"
   ]
  },
  {
   "cell_type": "code",
   "execution_count": 12,
   "metadata": {},
   "outputs": [
    {
     "data": {
      "image/png": "[encoded data removed]",
      "text/plain": [
       "<matplotlib.figure.Figure at 0x18abdc16f60>"
      ]
     },
     "metadata": {},
     "output_type": "display_data"
    }
   ],
   "source": [
    "reg.fit(x,df.data5.values)\n",
    "plt.plot(x,reg.predict(x),color='green')\n",
    "plt.scatter(df.data0,df.data5)\n",
    "plt.title('Correlation='+str(round(float(df.data0.corr(df.data5)),3)))\n",
    "plt.xlabel('data 0')\n",
    "plt.ylabel('data 5')\n",
    "plt.axis('scaled')\n",
    "plt.show()"
   ]
  },
  {
   "cell_type": "markdown",
   "metadata": {
    "collapsed": true
   },
   "source": [
    "相関係数が -0.984 と強い負の相関になっています．\n",
    "右下がりの回帰直線に散布図の点が沿っています．\n",
    "\n",
    "*****"
   ]
  }
 ],
 "metadata": {
  "kernelspec": {
   "display_name": "Python 3",
   "language": "python",
   "name": "python3"
  },
  "language_info": {
   "codemirror_mode": {
    "name": "ipython",
    "version": 3
   },
   "file_extension": ".py",
   "mimetype": "text/x-python",
   "name": "python",
   "nbconvert_exporter": "python",
   "pygments_lexer": "ipython3",
   "version": "3.6.1"
  }
 },
 "nbformat": 4,
 "nbformat_minor": 2
}
