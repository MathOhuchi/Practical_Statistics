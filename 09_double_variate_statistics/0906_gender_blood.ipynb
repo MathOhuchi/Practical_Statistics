{
 "cells": [
  {
   "cell_type": "markdown",
   "metadata": {},
   "source": [
    "# 2変量統計：性別×血液型\n",
    "\n",
    "今度はカテゴリーデータ間の2変量統計を求めます．\n",
    "数値データとは異なり，カテゴリーデータの場合はクロス集計が分析の中心になります．\n",
    "クロス集計は実務的な観点から最もよく用いられる方法で，カテゴリーデータだけでなく，数値データに関しても階級化することによって応用することができます．\n",
    "\n",
    "クロス集計は，2変量の度数分布表と見なすことができます．\n",
    "したがって，その相対度数分布表を求めることもできます．"
   ]
  },
  {
   "cell_type": "markdown",
   "metadata": {},
   "source": [
    "## ライブラリーの搬入\n",
    "\n",
    "必要なライブラリーを搬入します．\n",
    "\n",
    "```Python\n",
    "import numpy as np\n",
    "import pandas as pd\n",
    "import matplotlib.pyplot as plt\n",
    "%matplotlib inline\n",
    "```"
   ]
  },
  {
   "cell_type": "code",
   "execution_count": 1,
   "metadata": {
    "collapsed": true
   },
   "outputs": [],
   "source": [
    "import numpy as np\n",
    "import pandas as pd\n",
    "import matplotlib.pyplot as plt\n",
    "%matplotlib inline"
   ]
  },
  {
   "cell_type": "markdown",
   "metadata": {},
   "source": [
    "## データフレームの生成\n",
    "\n",
    "CSVファイルからデータを取り込み，データフレームを作成します．\n",
    "\n",
    "```Python\n",
    "df = pd.read_csv('./cleansed_body_data2.csv')\n",
    "df.set_index('person',inplace=True)\n",
    "```"
   ]
  },
  {
   "cell_type": "code",
   "execution_count": 2,
   "metadata": {
    "collapsed": true
   },
   "outputs": [],
   "source": [
    "df = pd.read_csv('./cleansed_body_data2.csv')\n",
    "df.set_index('person',inplace=True)"
   ]
  },
  {
   "cell_type": "markdown",
   "metadata": {},
   "source": [
    "## データ分布の確認\n",
    "\n",
    "まず，各データの頻度の集計を再確認しておきます．\n",
    "引数に dropna=False を付けて NaN の件数もカウントします．\n",
    "\n",
    "```Python\n",
    "print('gender:\\n',df.gender.value_counts(dropna=False))\n",
    "print('blood:\\n',df.blood.value_counts(dropna=False))\n",
    "```"
   ]
  },
  {
   "cell_type": "code",
   "execution_count": 3,
   "metadata": {
    "scrolled": true
   },
   "outputs": [
    {
     "name": "stdout",
     "output_type": "stream",
     "text": [
      "gender:\n",
      " Female    103\n",
      "Male       96\n",
      "NaN         1\n",
      "Name: gender, dtype: int64\n",
      "blood:\n",
      " A      71\n",
      "O      61\n",
      "B      44\n",
      "AB     14\n",
      "NaN    10\n",
      "Name: blood, dtype: int64\n"
     ]
    }
   ],
   "source": [
    "print('gender:\\n',df.gender.value_counts(dropna=False))\n",
    "print('blood:\\n',df.blood.value_counts(dropna=False))"
   ]
  },
  {
   "cell_type": "markdown",
   "metadata": {},
   "source": [
    "## クロス集計\n",
    "\n",
    "クロス集計を計算するには，pandasの<font color=green>crostab()</font>関数を使用します．\n",
    "クロス集計の列合計と行合計を表示するために引数として，margines=True を追加します．\n",
    "さらにデータには欠損値があるので，集計に欠損値の件数を含めるために，dropna=False を指定します．\n",
    "\n",
    "```Python\n",
    "pd.crosstab(df.gender,df.blood,dropna=False,margins=True)\n",
    "```"
   ]
  },
  {
   "cell_type": "code",
   "execution_count": 4,
   "metadata": {},
   "outputs": [
    {
     "data": {
      "text/html": [
       "<div>\n",
       "<style>\n",
       "    .dataframe thead tr:only-child th {\n",
       "        text-align: right;\n",
       "    }\n",
       "\n",
       "    .dataframe thead th {\n",
       "        text-align: left;\n",
       "    }\n",
       "\n",
       "    .dataframe tbody tr th {\n",
       "        vertical-align: top;\n",
       "    }\n",
       "</style>\n",
       "<table border=\"1\" class=\"dataframe\">\n",
       "  <thead>\n",
       "    <tr style=\"text-align: right;\">\n",
       "      <th>blood</th>\n",
       "      <th>A</th>\n",
       "      <th>AB</th>\n",
       "      <th>B</th>\n",
       "      <th>O</th>\n",
       "      <th>All</th>\n",
       "    </tr>\n",
       "    <tr>\n",
       "      <th>gender</th>\n",
       "      <th></th>\n",
       "      <th></th>\n",
       "      <th></th>\n",
       "      <th></th>\n",
       "      <th></th>\n",
       "    </tr>\n",
       "  </thead>\n",
       "  <tbody>\n",
       "    <tr>\n",
       "      <th>Female</th>\n",
       "      <td>38</td>\n",
       "      <td>3</td>\n",
       "      <td>22</td>\n",
       "      <td>35</td>\n",
       "      <td>103</td>\n",
       "    </tr>\n",
       "    <tr>\n",
       "      <th>Male</th>\n",
       "      <td>33</td>\n",
       "      <td>11</td>\n",
       "      <td>21</td>\n",
       "      <td>26</td>\n",
       "      <td>96</td>\n",
       "    </tr>\n",
       "    <tr>\n",
       "      <th>All</th>\n",
       "      <td>71</td>\n",
       "      <td>14</td>\n",
       "      <td>44</td>\n",
       "      <td>61</td>\n",
       "      <td>200</td>\n",
       "    </tr>\n",
       "  </tbody>\n",
       "</table>\n",
       "</div>"
      ],
      "text/plain": [
       "blood    A  AB   B   O  All\n",
       "gender                     \n",
       "Female  38   3  22  35  103\n",
       "Male    33  11  21  26   96\n",
       "All     71  14  44  61  200"
      ]
     },
     "execution_count": 4,
     "metadata": {},
     "output_type": "execute_result"
    }
   ],
   "source": [
    "pd.crosstab(df.gender,df.blood,dropna=False,margins=True)"
   ]
  },
  {
   "cell_type": "markdown",
   "metadata": {},
   "source": [
    "この集計表の列合計と行合計には欠損値の件数が含まれていますが，欠損値そのもの分布は明示されていません．\n",
    "そこで，欠損値を文字列に置き換えて集計を行います．\n",
    "\n",
    "gender と blood による新しいデータフレームを作成します\n",
    "このときに fillna('unknown') メソッドを実行して，欠損値を 'unknown' に置き換えます．\n",
    "そのデータフレームのデータを用いて，crosstab()関数を実施します．\n",
    "\n",
    "```Python\n",
    "dfGB = df[['gender','blood']].fillna('unknown')\n",
    "pd.crosstab(dfGB.gender,dfGB.blood,margins=True)\n",
    "```"
   ]
  },
  {
   "cell_type": "code",
   "execution_count": 5,
   "metadata": {},
   "outputs": [
    {
     "data": {
      "text/html": [
       "<div>\n",
       "<style>\n",
       "    .dataframe thead tr:only-child th {\n",
       "        text-align: right;\n",
       "    }\n",
       "\n",
       "    .dataframe thead th {\n",
       "        text-align: left;\n",
       "    }\n",
       "\n",
       "    .dataframe tbody tr th {\n",
       "        vertical-align: top;\n",
       "    }\n",
       "</style>\n",
       "<table border=\"1\" class=\"dataframe\">\n",
       "  <thead>\n",
       "    <tr style=\"text-align: right;\">\n",
       "      <th>blood</th>\n",
       "      <th>A</th>\n",
       "      <th>AB</th>\n",
       "      <th>B</th>\n",
       "      <th>O</th>\n",
       "      <th>unknown</th>\n",
       "      <th>All</th>\n",
       "    </tr>\n",
       "    <tr>\n",
       "      <th>gender</th>\n",
       "      <th></th>\n",
       "      <th></th>\n",
       "      <th></th>\n",
       "      <th></th>\n",
       "      <th></th>\n",
       "      <th></th>\n",
       "    </tr>\n",
       "  </thead>\n",
       "  <tbody>\n",
       "    <tr>\n",
       "      <th>Female</th>\n",
       "      <td>38</td>\n",
       "      <td>3</td>\n",
       "      <td>22</td>\n",
       "      <td>35</td>\n",
       "      <td>5</td>\n",
       "      <td>103</td>\n",
       "    </tr>\n",
       "    <tr>\n",
       "      <th>Male</th>\n",
       "      <td>33</td>\n",
       "      <td>11</td>\n",
       "      <td>21</td>\n",
       "      <td>26</td>\n",
       "      <td>5</td>\n",
       "      <td>96</td>\n",
       "    </tr>\n",
       "    <tr>\n",
       "      <th>unknown</th>\n",
       "      <td>0</td>\n",
       "      <td>0</td>\n",
       "      <td>1</td>\n",
       "      <td>0</td>\n",
       "      <td>0</td>\n",
       "      <td>1</td>\n",
       "    </tr>\n",
       "    <tr>\n",
       "      <th>All</th>\n",
       "      <td>71</td>\n",
       "      <td>14</td>\n",
       "      <td>44</td>\n",
       "      <td>61</td>\n",
       "      <td>10</td>\n",
       "      <td>200</td>\n",
       "    </tr>\n",
       "  </tbody>\n",
       "</table>\n",
       "</div>"
      ],
      "text/plain": [
       "blood     A  AB   B   O  unknown  All\n",
       "gender                               \n",
       "Female   38   3  22  35        5  103\n",
       "Male     33  11  21  26        5   96\n",
       "unknown   0   0   1   0        0    1\n",
       "All      71  14  44  61       10  200"
      ]
     },
     "execution_count": 5,
     "metadata": {},
     "output_type": "execute_result"
    }
   ],
   "source": [
    "dfGB = df[['gender','blood']].fillna('unknown')\n",
    "pd.crosstab(dfGB.gender,dfGB.blood,margins=True)"
   ]
  },
  {
   "cell_type": "markdown",
   "metadata": {},
   "source": [
    "これで，性別×血液型の欠損値を含めたクロス集計が求まりました．"
   ]
  },
  {
   "cell_type": "markdown",
   "metadata": {},
   "source": [
    "## クロス集計度数分布\n",
    "\n",
    "クロス集計の度数分布をもとめるには，crosstab()関数にオプション引数 normarize を追加します．\n",
    "normarizeの値によって，分母の扱いが変わります．\n",
    "\n",
    "- <font face='courier new' color='green'>normarize='all'</font>：全件数に対する割合\n",
    "- <font face='courier new' color='green'>normarize='columns'</font>：列合計に対する割合\n",
    "- <font face='courier new' color='green'>normarize='index'</font>：行合計に対する割合"
   ]
  },
  {
   "cell_type": "markdown",
   "metadata": {},
   "source": [
    "### 全体に対する割合\n",
    "\n",
    "normalize='all'でcrosstab()関数を実行すうると，全体に対する割合が求まります．\n",
    "\n",
    "```Python\n",
    "pd.crosstab(dfGB.gender,dfGB.blood,margins=True,normalize='all')\n",
    "```"
   ]
  },
  {
   "cell_type": "code",
   "execution_count": 6,
   "metadata": {},
   "outputs": [
    {
     "data": {
      "text/html": [
       "<div>\n",
       "<style>\n",
       "    .dataframe thead tr:only-child th {\n",
       "        text-align: right;\n",
       "    }\n",
       "\n",
       "    .dataframe thead th {\n",
       "        text-align: left;\n",
       "    }\n",
       "\n",
       "    .dataframe tbody tr th {\n",
       "        vertical-align: top;\n",
       "    }\n",
       "</style>\n",
       "<table border=\"1\" class=\"dataframe\">\n",
       "  <thead>\n",
       "    <tr style=\"text-align: right;\">\n",
       "      <th>blood</th>\n",
       "      <th>A</th>\n",
       "      <th>AB</th>\n",
       "      <th>B</th>\n",
       "      <th>O</th>\n",
       "      <th>unknown</th>\n",
       "      <th>All</th>\n",
       "    </tr>\n",
       "    <tr>\n",
       "      <th>gender</th>\n",
       "      <th></th>\n",
       "      <th></th>\n",
       "      <th></th>\n",
       "      <th></th>\n",
       "      <th></th>\n",
       "      <th></th>\n",
       "    </tr>\n",
       "  </thead>\n",
       "  <tbody>\n",
       "    <tr>\n",
       "      <th>Female</th>\n",
       "      <td>0.190</td>\n",
       "      <td>0.015</td>\n",
       "      <td>0.110</td>\n",
       "      <td>0.175</td>\n",
       "      <td>0.025</td>\n",
       "      <td>0.515</td>\n",
       "    </tr>\n",
       "    <tr>\n",
       "      <th>Male</th>\n",
       "      <td>0.165</td>\n",
       "      <td>0.055</td>\n",
       "      <td>0.105</td>\n",
       "      <td>0.130</td>\n",
       "      <td>0.025</td>\n",
       "      <td>0.480</td>\n",
       "    </tr>\n",
       "    <tr>\n",
       "      <th>unknown</th>\n",
       "      <td>0.000</td>\n",
       "      <td>0.000</td>\n",
       "      <td>0.005</td>\n",
       "      <td>0.000</td>\n",
       "      <td>0.000</td>\n",
       "      <td>0.005</td>\n",
       "    </tr>\n",
       "    <tr>\n",
       "      <th>All</th>\n",
       "      <td>0.355</td>\n",
       "      <td>0.070</td>\n",
       "      <td>0.220</td>\n",
       "      <td>0.305</td>\n",
       "      <td>0.050</td>\n",
       "      <td>1.000</td>\n",
       "    </tr>\n",
       "  </tbody>\n",
       "</table>\n",
       "</div>"
      ],
      "text/plain": [
       "blood        A     AB      B      O  unknown    All\n",
       "gender                                             \n",
       "Female   0.190  0.015  0.110  0.175    0.025  0.515\n",
       "Male     0.165  0.055  0.105  0.130    0.025  0.480\n",
       "unknown  0.000  0.000  0.005  0.000    0.000  0.005\n",
       "All      0.355  0.070  0.220  0.305    0.050  1.000"
      ]
     },
     "execution_count": 6,
     "metadata": {},
     "output_type": "execute_result"
    }
   ],
   "source": [
    "pd.crosstab(dfGB.gender,dfGB.blood,margins=True,normalize='all')"
   ]
  },
  {
   "cell_type": "markdown",
   "metadata": {},
   "source": [
    "### 列合計に対する割合\n",
    "\n",
    "normalize='columns'でcrosstab()関数を実行すうると，列合計に対する割合が求まります．\n",
    "\n",
    "```Python\n",
    "pd.crosstab(dfGB.gender,dfGB.blood,margins=True,normalize='columns')\n",
    "```"
   ]
  },
  {
   "cell_type": "code",
   "execution_count": 7,
   "metadata": {
    "scrolled": true
   },
   "outputs": [
    {
     "data": {
      "text/html": [
       "<div>\n",
       "<style>\n",
       "    .dataframe thead tr:only-child th {\n",
       "        text-align: right;\n",
       "    }\n",
       "\n",
       "    .dataframe thead th {\n",
       "        text-align: left;\n",
       "    }\n",
       "\n",
       "    .dataframe tbody tr th {\n",
       "        vertical-align: top;\n",
       "    }\n",
       "</style>\n",
       "<table border=\"1\" class=\"dataframe\">\n",
       "  <thead>\n",
       "    <tr style=\"text-align: right;\">\n",
       "      <th>blood</th>\n",
       "      <th>A</th>\n",
       "      <th>AB</th>\n",
       "      <th>B</th>\n",
       "      <th>O</th>\n",
       "      <th>unknown</th>\n",
       "      <th>All</th>\n",
       "    </tr>\n",
       "    <tr>\n",
       "      <th>gender</th>\n",
       "      <th></th>\n",
       "      <th></th>\n",
       "      <th></th>\n",
       "      <th></th>\n",
       "      <th></th>\n",
       "      <th></th>\n",
       "    </tr>\n",
       "  </thead>\n",
       "  <tbody>\n",
       "    <tr>\n",
       "      <th>Female</th>\n",
       "      <td>0.535211</td>\n",
       "      <td>0.214286</td>\n",
       "      <td>0.500000</td>\n",
       "      <td>0.57377</td>\n",
       "      <td>0.5</td>\n",
       "      <td>0.515</td>\n",
       "    </tr>\n",
       "    <tr>\n",
       "      <th>Male</th>\n",
       "      <td>0.464789</td>\n",
       "      <td>0.785714</td>\n",
       "      <td>0.477273</td>\n",
       "      <td>0.42623</td>\n",
       "      <td>0.5</td>\n",
       "      <td>0.480</td>\n",
       "    </tr>\n",
       "    <tr>\n",
       "      <th>unknown</th>\n",
       "      <td>0.000000</td>\n",
       "      <td>0.000000</td>\n",
       "      <td>0.022727</td>\n",
       "      <td>0.00000</td>\n",
       "      <td>0.0</td>\n",
       "      <td>0.005</td>\n",
       "    </tr>\n",
       "  </tbody>\n",
       "</table>\n",
       "</div>"
      ],
      "text/plain": [
       "blood           A        AB         B        O  unknown    All\n",
       "gender                                                        \n",
       "Female   0.535211  0.214286  0.500000  0.57377      0.5  0.515\n",
       "Male     0.464789  0.785714  0.477273  0.42623      0.5  0.480\n",
       "unknown  0.000000  0.000000  0.022727  0.00000      0.0  0.005"
      ]
     },
     "execution_count": 7,
     "metadata": {},
     "output_type": "execute_result"
    }
   ],
   "source": [
    "pd.crosstab(dfGB.gender,dfGB.blood,margins=True,normalize='columns')"
   ]
  },
  {
   "cell_type": "markdown",
   "metadata": {},
   "source": [
    "### 行合計に対する割合\n",
    "\n",
    "normalize='index'でcrosstab()関数を実行すうると，行合計に対する割合が求まります．\n",
    "\n",
    "```Python\n",
    "pd.crosstab(dfGB.gender,dfGB.blood,margins=True,normalize='index')\n",
    "```"
   ]
  },
  {
   "cell_type": "code",
   "execution_count": 8,
   "metadata": {},
   "outputs": [
    {
     "data": {
      "text/html": [
       "<div>\n",
       "<style>\n",
       "    .dataframe thead tr:only-child th {\n",
       "        text-align: right;\n",
       "    }\n",
       "\n",
       "    .dataframe thead th {\n",
       "        text-align: left;\n",
       "    }\n",
       "\n",
       "    .dataframe tbody tr th {\n",
       "        vertical-align: top;\n",
       "    }\n",
       "</style>\n",
       "<table border=\"1\" class=\"dataframe\">\n",
       "  <thead>\n",
       "    <tr style=\"text-align: right;\">\n",
       "      <th>blood</th>\n",
       "      <th>A</th>\n",
       "      <th>AB</th>\n",
       "      <th>B</th>\n",
       "      <th>O</th>\n",
       "      <th>unknown</th>\n",
       "    </tr>\n",
       "    <tr>\n",
       "      <th>gender</th>\n",
       "      <th></th>\n",
       "      <th></th>\n",
       "      <th></th>\n",
       "      <th></th>\n",
       "      <th></th>\n",
       "    </tr>\n",
       "  </thead>\n",
       "  <tbody>\n",
       "    <tr>\n",
       "      <th>Female</th>\n",
       "      <td>0.368932</td>\n",
       "      <td>0.029126</td>\n",
       "      <td>0.213592</td>\n",
       "      <td>0.339806</td>\n",
       "      <td>0.048544</td>\n",
       "    </tr>\n",
       "    <tr>\n",
       "      <th>Male</th>\n",
       "      <td>0.343750</td>\n",
       "      <td>0.114583</td>\n",
       "      <td>0.218750</td>\n",
       "      <td>0.270833</td>\n",
       "      <td>0.052083</td>\n",
       "    </tr>\n",
       "    <tr>\n",
       "      <th>unknown</th>\n",
       "      <td>0.000000</td>\n",
       "      <td>0.000000</td>\n",
       "      <td>1.000000</td>\n",
       "      <td>0.000000</td>\n",
       "      <td>0.000000</td>\n",
       "    </tr>\n",
       "    <tr>\n",
       "      <th>All</th>\n",
       "      <td>0.355000</td>\n",
       "      <td>0.070000</td>\n",
       "      <td>0.220000</td>\n",
       "      <td>0.305000</td>\n",
       "      <td>0.050000</td>\n",
       "    </tr>\n",
       "  </tbody>\n",
       "</table>\n",
       "</div>"
      ],
      "text/plain": [
       "blood           A        AB         B         O   unknown\n",
       "gender                                                   \n",
       "Female   0.368932  0.029126  0.213592  0.339806  0.048544\n",
       "Male     0.343750  0.114583  0.218750  0.270833  0.052083\n",
       "unknown  0.000000  0.000000  1.000000  0.000000  0.000000\n",
       "All      0.355000  0.070000  0.220000  0.305000  0.050000"
      ]
     },
     "execution_count": 8,
     "metadata": {},
     "output_type": "execute_result"
    }
   ],
   "source": [
    "pd.crosstab(dfGB.gender,dfGB.blood,margins=True,normalize='index')"
   ]
  },
  {
   "cell_type": "markdown",
   "metadata": {},
   "source": [
    "## 比較棒グラフ\n",
    "\n",
    "血液型の構成比を男女で比較するグラフを描画します．\n",
    "データはcrosstab()関数によるクロス集計の結果を利用します．\n",
    "グラフには集計値は不要ですので，列合計と行合計は求めません．\n",
    "\n",
    "棒グラフはmatplotlibの<font color='green'>bar()</font>関数によって描画できます．\n",
    "\n",
    "- X軸は血液型とします．（A，AB，B，O，unknown）\n",
    "- Y軸を男女それぞれの血液型の人数として棒グラフにします．\n",
    "- 男性，女性，性別不明の棒グラフを並べて比較します．\n",
    "\n",
    "実際のプログラムは次のようになります．\n",
    "\n",
    "```Python\n",
    "xGB = pd.crosstab(dfGB.gender,dfGB.blood)\n",
    "left = np.arange(len(xGB.columns))\n",
    "width = 0.3\n",
    "plt.bar(left-width,xGB.loc['Female'],width=width,color='lightgreen',edgecolor='black',label='Female')\n",
    "plt.bar(left,xGB.loc['Male'],width=width,color='lightblue',edgecolor='black',label='Male')\n",
    "plt.bar(left+width,xGB.loc['unknown'],width=width,color='lightgray',edgecolor='black',label='unknown')\n",
    "plt.xticks(left-width/2,xGB.columns)\n",
    "plt.ylabel('counts')\n",
    "plt.legend(bbox_to_anchor=(1, 1))\n",
    "plt.show()\n",
    "```"
   ]
  },
  {
   "cell_type": "code",
   "execution_count": 9,
   "metadata": {},
   "outputs": [
    {
     "data": {
      "image/png": "[encoded data removed]",
      "text/plain": [
       "<matplotlib.figure.Figure at 0x2c9bf493f28>"
      ]
     },
     "metadata": {},
     "output_type": "display_data"
    }
   ],
   "source": [
    "xGB = pd.crosstab(dfGB.gender,dfGB.blood)\n",
    "left = np.arange(len(xGB.columns))\n",
    "width = 0.3\n",
    "plt.bar(left-width,xGB.loc['Female'],width=width,color='lightgreen',edgecolor='black',label='Female')\n",
    "plt.bar(left,xGB.loc['Male'],width=width,color='lightblue',edgecolor='black',label='Male')\n",
    "plt.bar(left+width,xGB.loc['unknown'],width=width,color='lightgray',edgecolor='black',label='unknown')\n",
    "plt.xticks(left-width/2,xGB.columns)\n",
    "plt.ylabel('counts')\n",
    "plt.legend(bbox_to_anchor=(1, 1))\n",
    "plt.show()"
   ]
  },
  {
   "cell_type": "markdown",
   "metadata": {},
   "source": [
    "## 構成比グラフ\n",
    "\n",
    "各性別における血液型の構成比を帯グラフにします．\n",
    "このデータもcrosstab()関数で用意した値を用いますが，各性別の合計値で割った値とします．\n",
    "\n",
    "棒グラフの積み上げにしなければならないので，各棒グラフの開始位置を前の棒グラフの頂上になるようにbottom引数を設定します．\n",
    "\n",
    "プログラムの詳細は以下の通りです．\n",
    "\n",
    "```Python\n",
    "xGB = pd.crosstab(dfGB.gender,dfGB.blood,normalize='index')\n",
    "left = np.arange(len(xGB.index))\n",
    "width = 0.5\n",
    "base = 0\n",
    "plt.bar(left,xGB['A'],bottom=base,width=width,color='lightblue',edgecolor='black',label='A')\n",
    "base += xGB['A']\n",
    "plt.bar(left,xGB['O'],bottom=base,width=width,color='bisque',edgecolor='black',label='O')\n",
    "base += xGB['O']\n",
    "plt.bar(left,xGB['B'],bottom=base,width=width,color='lightpink',edgecolor='black',label='B')\n",
    "base += xGB['B']\n",
    "plt.bar(left,xGB['AB'],bottom=base,width=width,color='aquamarine',edgecolor='black',label='AB')\n",
    "base += xGB['AB']\n",
    "plt.bar(left,xGB['unknown'],bottom=base,width=width,color='white',edgecolor='black',label='unknown')\n",
    "plt.xticks(left,xGB.index)\n",
    "plt.ylabel('ratio')\n",
    "plt.legend(bbox_to_anchor=(1, 1))\n",
    "plt.show()\n",
    "```"
   ]
  },
  {
   "cell_type": "code",
   "execution_count": 10,
   "metadata": {},
   "outputs": [
    {
     "data": {
      "image/png": "[encoded data removed]",
      "text/plain": [
       "<matplotlib.figure.Figure at 0x2c9bf98ee48>"
      ]
     },
     "metadata": {},
     "output_type": "display_data"
    }
   ],
   "source": [
    "xGB = pd.crosstab(dfGB.gender,dfGB.blood,normalize='index')\n",
    "left = np.arange(len(xGB.index))\n",
    "width = 0.5\n",
    "base = 0\n",
    "plt.bar(left,xGB['A'],bottom=base,width=width,color='lightblue',edgecolor='black',label='A')\n",
    "base += xGB['A']\n",
    "plt.bar(left,xGB['O'],bottom=base,width=width,color='bisque',edgecolor='black',label='O')\n",
    "base += xGB['O']\n",
    "plt.bar(left,xGB['B'],bottom=base,width=width,color='lightpink',edgecolor='black',label='B')\n",
    "base += xGB['B']\n",
    "plt.bar(left,xGB['AB'],bottom=base,width=width,color='aquamarine',edgecolor='black',label='AB')\n",
    "base += xGB['AB']\n",
    "plt.bar(left,xGB['unknown'],bottom=base,width=width,color='white',edgecolor='black',label='unknown')\n",
    "plt.xticks(left,xGB.index)\n",
    "plt.ylabel('ratio')\n",
    "plt.legend(bbox_to_anchor=(1, 1))\n",
    "plt.show()"
   ]
  },
  {
   "cell_type": "markdown",
   "metadata": {
    "collapsed": true
   },
   "source": [
    "以上がカテゴリーデータについての2変量統計です．\n",
    "\n",
    "対象となる変量が数値データの場合，階級化することによって同様の分析が可能になります．\n",
    "\n",
    "*****"
   ]
  }
 ],
 "metadata": {
  "kernelspec": {
   "display_name": "Python 3",
   "language": "python",
   "name": "python3"
  },
  "language_info": {
   "codemirror_mode": {
    "name": "ipython",
    "version": 3
   },
   "file_extension": ".py",
   "mimetype": "text/x-python",
   "name": "python",
   "nbconvert_exporter": "python",
   "pygments_lexer": "ipython3",
   "version": "3.6.1"
  }
 },
 "nbformat": 4,
 "nbformat_minor": 2
}
