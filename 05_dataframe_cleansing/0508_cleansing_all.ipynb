{
 "cells": [
  {
   "cell_type": "markdown",
   "metadata": {},
   "source": [
    "# クレンジングの統合\n",
    "\n",
    "これまでは各変量のクレンジングを行ってきましたが，ここではそれらを統合したプロセスにします．\n"
   ]
  },
  {
   "cell_type": "code",
   "execution_count": 1,
   "metadata": {
    "collapsed": true
   },
   "outputs": [],
   "source": [
    "import re\n",
    "import unicodedata\n",
    "import pandas as pd"
   ]
  },
  {
   "cell_type": "code",
   "execution_count": 2,
   "metadata": {
    "collapsed": true
   },
   "outputs": [],
   "source": [
    "df = pd.read_csv('original_body_data.csv')\n",
    "df.set_index('person',inplace=True)"
   ]
  },
  {
   "cell_type": "raw",
   "metadata": {
    "collapsed": true
   },
   "source": [
    "# マイナス記号がある場合のオプション\n",
    "d2s = {'‐':'-','―':'-','ー':'-'}\n",
    "doubleToSingle = str.maketrans(d2s)"
   ]
  },
  {
   "cell_type": "code",
   "execution_count": 3,
   "metadata": {
    "collapsed": true
   },
   "outputs": [],
   "source": [
    "floatCheck = re.compile(r'^\\s*([+-]?(\\d+\\.?\\d*|\\.\\d+))\\s*$')"
   ]
  },
  {
   "cell_type": "code",
   "execution_count": 4,
   "metadata": {},
   "outputs": [
    {
     "data": {
      "text/plain": [
       "200"
      ]
     },
     "execution_count": 4,
     "metadata": {},
     "output_type": "execute_result"
    }
   ],
   "source": [
    "len(df)"
   ]
  },
  {
   "cell_type": "code",
   "execution_count": 5,
   "metadata": {},
   "outputs": [
    {
     "data": {
      "text/plain": [
       "Index(['p001', 'p002', 'p003', 'p004', 'p005', 'p006', 'p007', 'p008', 'p009',\n",
       "       'p010',\n",
       "       ...\n",
       "       'p191', 'p192', 'p193', 'p194', 'p195', 'p196', 'p197', 'p198', 'p199',\n",
       "       'p200'],\n",
       "      dtype='object', name='person', length=200)"
      ]
     },
     "execution_count": 5,
     "metadata": {},
     "output_type": "execute_result"
    }
   ],
   "source": [
    "df.index"
   ]
  },
  {
   "cell_type": "code",
   "execution_count": 6,
   "metadata": {},
   "outputs": [
    {
     "data": {
      "text/plain": [
       "Index(['height', 'weight', 'age', 'gender', 'blood'], dtype='object')"
      ]
     },
     "execution_count": 6,
     "metadata": {},
     "output_type": "execute_result"
    }
   ],
   "source": [
    "df.columns"
   ]
  },
  {
   "cell_type": "code",
   "execution_count": 7,
   "metadata": {
    "scrolled": true
   },
   "outputs": [
    {
     "data": {
      "text/html": [
       "<div>\n",
       "<style>\n",
       "    .dataframe thead tr:only-child th {\n",
       "        text-align: right;\n",
       "    }\n",
       "\n",
       "    .dataframe thead th {\n",
       "        text-align: left;\n",
       "    }\n",
       "\n",
       "    .dataframe tbody tr th {\n",
       "        vertical-align: top;\n",
       "    }\n",
       "</style>\n",
       "<table border=\"1\" class=\"dataframe\">\n",
       "  <thead>\n",
       "    <tr style=\"text-align: right;\">\n",
       "      <th></th>\n",
       "      <th>height</th>\n",
       "      <th>weight</th>\n",
       "      <th>age</th>\n",
       "      <th>gender</th>\n",
       "      <th>blood</th>\n",
       "    </tr>\n",
       "  </thead>\n",
       "  <tbody>\n",
       "    <tr>\n",
       "      <th>count</th>\n",
       "      <td>200</td>\n",
       "      <td>199</td>\n",
       "      <td>197</td>\n",
       "      <td>199</td>\n",
       "      <td>190</td>\n",
       "    </tr>\n",
       "    <tr>\n",
       "      <th>unique</th>\n",
       "      <td>160</td>\n",
       "      <td>175</td>\n",
       "      <td>68</td>\n",
       "      <td>7</td>\n",
       "      <td>13</td>\n",
       "    </tr>\n",
       "    <tr>\n",
       "      <th>top</th>\n",
       "      <td>157.3</td>\n",
       "      <td>76.3</td>\n",
       "      <td>48</td>\n",
       "      <td>Female</td>\n",
       "      <td>A</td>\n",
       "    </tr>\n",
       "    <tr>\n",
       "      <th>freq</th>\n",
       "      <td>4</td>\n",
       "      <td>3</td>\n",
       "      <td>7</td>\n",
       "      <td>101</td>\n",
       "      <td>67</td>\n",
       "    </tr>\n",
       "  </tbody>\n",
       "</table>\n",
       "</div>"
      ],
      "text/plain": [
       "       height weight  age  gender blood\n",
       "count     200    199  197     199   190\n",
       "unique    160    175   68       7    13\n",
       "top     157.3   76.3   48  Female     A\n",
       "freq        4      3    7     101    67"
      ]
     },
     "execution_count": 7,
     "metadata": {},
     "output_type": "execute_result"
    }
   ],
   "source": [
    "df.describe()"
   ]
  },
  {
   "cell_type": "code",
   "execution_count": 8,
   "metadata": {},
   "outputs": [
    {
     "data": {
      "text/html": [
       "<div>\n",
       "<style>\n",
       "    .dataframe thead tr:only-child th {\n",
       "        text-align: right;\n",
       "    }\n",
       "\n",
       "    .dataframe thead th {\n",
       "        text-align: left;\n",
       "    }\n",
       "\n",
       "    .dataframe tbody tr th {\n",
       "        vertical-align: top;\n",
       "    }\n",
       "</style>\n",
       "<table border=\"1\" class=\"dataframe\">\n",
       "  <thead>\n",
       "    <tr style=\"text-align: right;\">\n",
       "      <th></th>\n",
       "      <th>height</th>\n",
       "      <th>weight</th>\n",
       "      <th>age</th>\n",
       "      <th>gender</th>\n",
       "      <th>blood</th>\n",
       "    </tr>\n",
       "    <tr>\n",
       "      <th>person</th>\n",
       "      <th></th>\n",
       "      <th></th>\n",
       "      <th></th>\n",
       "      <th></th>\n",
       "      <th></th>\n",
       "    </tr>\n",
       "  </thead>\n",
       "  <tbody>\n",
       "    <tr>\n",
       "      <th>p001</th>\n",
       "      <td>157.7</td>\n",
       "      <td>56.8</td>\n",
       "      <td>20</td>\n",
       "      <td>Male</td>\n",
       "      <td>B</td>\n",
       "    </tr>\n",
       "    <tr>\n",
       "      <th>p002</th>\n",
       "      <td>169.7</td>\n",
       "      <td>58.1</td>\n",
       "      <td>53</td>\n",
       "      <td>Female</td>\n",
       "      <td>A</td>\n",
       "    </tr>\n",
       "    <tr>\n",
       "      <th>p003</th>\n",
       "      <td>160.6</td>\n",
       "      <td>96.8</td>\n",
       "      <td>22</td>\n",
       "      <td>Male</td>\n",
       "      <td>O</td>\n",
       "    </tr>\n",
       "    <tr>\n",
       "      <th>p004</th>\n",
       "      <td>'155.8'</td>\n",
       "      <td></td>\n",
       "      <td></td>\n",
       "      <td>Female</td>\n",
       "      <td>O</td>\n",
       "    </tr>\n",
       "    <tr>\n",
       "      <th>p005</th>\n",
       "      <td>115.5</td>\n",
       "      <td>22.5</td>\n",
       "      <td>7</td>\n",
       "      <td>Male</td>\n",
       "      <td>NaN</td>\n",
       "    </tr>\n",
       "  </tbody>\n",
       "</table>\n",
       "</div>"
      ],
      "text/plain": [
       "         height weight age  gender blood\n",
       "person                                  \n",
       "p001      157.7   56.8  20    Male     B\n",
       "p002      169.7   58.1  53  Female     A\n",
       "p003      160.6   96.8  22    Male     O\n",
       "p004    '155.8'             Female     O\n",
       "p005      115.5   22.5   7    Male   NaN"
      ]
     },
     "execution_count": 8,
     "metadata": {},
     "output_type": "execute_result"
    }
   ],
   "source": [
    "df.head(5)"
   ]
  },
  {
   "cell_type": "markdown",
   "metadata": {},
   "source": [
    "*****\n",
    "## 変量のクレンジング\n",
    "\n",
    "変量のクレンジングについては，処理の可読性を重視して各変量ごとにクレンジングを実施します．\n",
    "\n",
    "しかし，変量の個数が多い場合は行のループを1回にして，その中で全ての変量についてクレンジングを行うようなプロセスに変更した方が効率的になります．\n",
    "ただし，バグが発生するリスクも高くなるので注意が必要です．"
   ]
  },
  {
   "cell_type": "markdown",
   "metadata": {},
   "source": [
    "### height のクレンジング\n"
   ]
  },
  {
   "cell_type": "code",
   "execution_count": 9,
   "metadata": {
    "collapsed": true
   },
   "outputs": [],
   "source": [
    "df['cleansedHeight'] = [unicodedata.normalize('NFKC',x.strip(\"'\")) for x in df.height]\n",
    "df['height'] = [float(x) if floatCheck.fullmatch(x) else None for x in df.cleansedHeight]\n",
    "df.drop('cleansedHeight',axis=1,inplace=True)"
   ]
  },
  {
   "cell_type": "markdown",
   "metadata": {},
   "source": [
    "### weight のクレンジング\n"
   ]
  },
  {
   "cell_type": "code",
   "execution_count": 10,
   "metadata": {
    "collapsed": true
   },
   "outputs": [],
   "source": [
    "df['cleansedWeight'] = [unicodedata.normalize('NFKC',x.strip(\"'\")) if type(x)==str else x for x in df.weight]\n",
    "df['weight'] = [float(x) if type(x)==str and floatCheck.fullmatch(x) else None for x in df.cleansedWeight]\n",
    "df.drop('cleansedWeight',axis=1,inplace=True)"
   ]
  },
  {
   "cell_type": "markdown",
   "metadata": {},
   "source": [
    "### age のクレンジング\n"
   ]
  },
  {
   "cell_type": "code",
   "execution_count": 11,
   "metadata": {
    "collapsed": true
   },
   "outputs": [],
   "source": [
    "df['cleansedAge'] = [unicodedata.normalize('NFKC',x).strip(\"'\").strip() if type(x)==str else x for x in df.age]\n",
    "df['age'] = [int(x) if type(x)==str and x.isdecimal() else None for x in df.cleansedAge]\n",
    "df.drop('cleansedAge',axis=1,inplace=True)"
   ]
  },
  {
   "cell_type": "markdown",
   "metadata": {},
   "source": [
    "### gender のクレンジング\n"
   ]
  },
  {
   "cell_type": "code",
   "execution_count": 12,
   "metadata": {
    "collapsed": true
   },
   "outputs": [],
   "source": [
    "df['gender'] = [unicodedata.normalize('NFKC',x).strip().capitalize() if type(x)==str else x for x in df.gender]"
   ]
  },
  {
   "cell_type": "markdown",
   "metadata": {},
   "source": [
    "### blood のクレンジング\n"
   ]
  },
  {
   "cell_type": "code",
   "execution_count": 13,
   "metadata": {
    "collapsed": true
   },
   "outputs": [],
   "source": [
    "df['blood'] = [unicodedata.normalize('NFKC',x).strip().upper() if type(x)==str else x for x in df.blood]"
   ]
  },
  {
   "cell_type": "markdown",
   "metadata": {},
   "source": [
    "*****\n",
    "## クレンジング結果の確認\n"
   ]
  },
  {
   "cell_type": "code",
   "execution_count": 14,
   "metadata": {},
   "outputs": [
    {
     "data": {
      "text/plain": [
       "Index(['height', 'weight', 'age', 'gender', 'blood'], dtype='object')"
      ]
     },
     "execution_count": 14,
     "metadata": {},
     "output_type": "execute_result"
    }
   ],
   "source": [
    "df.columns"
   ]
  },
  {
   "cell_type": "code",
   "execution_count": 15,
   "metadata": {},
   "outputs": [
    {
     "data": {
      "text/html": [
       "<div>\n",
       "<style>\n",
       "    .dataframe thead tr:only-child th {\n",
       "        text-align: right;\n",
       "    }\n",
       "\n",
       "    .dataframe thead th {\n",
       "        text-align: left;\n",
       "    }\n",
       "\n",
       "    .dataframe tbody tr th {\n",
       "        vertical-align: top;\n",
       "    }\n",
       "</style>\n",
       "<table border=\"1\" class=\"dataframe\">\n",
       "  <thead>\n",
       "    <tr style=\"text-align: right;\">\n",
       "      <th></th>\n",
       "      <th>height</th>\n",
       "      <th>weight</th>\n",
       "      <th>age</th>\n",
       "    </tr>\n",
       "  </thead>\n",
       "  <tbody>\n",
       "    <tr>\n",
       "      <th>count</th>\n",
       "      <td>200.000000</td>\n",
       "      <td>198.000000</td>\n",
       "      <td>196.000000</td>\n",
       "    </tr>\n",
       "    <tr>\n",
       "      <th>mean</th>\n",
       "      <td>169.107500</td>\n",
       "      <td>67.364646</td>\n",
       "      <td>40.066327</td>\n",
       "    </tr>\n",
       "    <tr>\n",
       "      <th>std</th>\n",
       "      <td>103.481227</td>\n",
       "      <td>17.181526</td>\n",
       "      <td>16.338744</td>\n",
       "    </tr>\n",
       "    <tr>\n",
       "      <th>min</th>\n",
       "      <td>77.300000</td>\n",
       "      <td>9.900000</td>\n",
       "      <td>1.000000</td>\n",
       "    </tr>\n",
       "    <tr>\n",
       "      <th>25%</th>\n",
       "      <td>155.250000</td>\n",
       "      <td>55.650000</td>\n",
       "      <td>29.000000</td>\n",
       "    </tr>\n",
       "    <tr>\n",
       "      <th>50%</th>\n",
       "      <td>162.350000</td>\n",
       "      <td>66.800000</td>\n",
       "      <td>39.500000</td>\n",
       "    </tr>\n",
       "    <tr>\n",
       "      <th>75%</th>\n",
       "      <td>170.750000</td>\n",
       "      <td>77.650000</td>\n",
       "      <td>52.250000</td>\n",
       "    </tr>\n",
       "    <tr>\n",
       "      <th>max</th>\n",
       "      <td>1609.000000</td>\n",
       "      <td>106.500000</td>\n",
       "      <td>79.000000</td>\n",
       "    </tr>\n",
       "  </tbody>\n",
       "</table>\n",
       "</div>"
      ],
      "text/plain": [
       "            height      weight         age\n",
       "count   200.000000  198.000000  196.000000\n",
       "mean    169.107500   67.364646   40.066327\n",
       "std     103.481227   17.181526   16.338744\n",
       "min      77.300000    9.900000    1.000000\n",
       "25%     155.250000   55.650000   29.000000\n",
       "50%     162.350000   66.800000   39.500000\n",
       "75%     170.750000   77.650000   52.250000\n",
       "max    1609.000000  106.500000   79.000000"
      ]
     },
     "execution_count": 15,
     "metadata": {},
     "output_type": "execute_result"
    }
   ],
   "source": [
    "df.describe()"
   ]
  },
  {
   "cell_type": "code",
   "execution_count": 16,
   "metadata": {},
   "outputs": [
    {
     "data": {
      "text/plain": [
       "count        199\n",
       "unique         2\n",
       "top       Female\n",
       "freq         103\n",
       "Name: gender, dtype: object"
      ]
     },
     "execution_count": 16,
     "metadata": {},
     "output_type": "execute_result"
    }
   ],
   "source": [
    "df.gender.describe()"
   ]
  },
  {
   "cell_type": "code",
   "execution_count": 17,
   "metadata": {},
   "outputs": [
    {
     "data": {
      "text/plain": [
       "{nan, 'Female', 'Male'}"
      ]
     },
     "execution_count": 17,
     "metadata": {},
     "output_type": "execute_result"
    }
   ],
   "source": [
    "set([x for x in df.gender])"
   ]
  },
  {
   "cell_type": "code",
   "execution_count": 18,
   "metadata": {},
   "outputs": [
    {
     "data": {
      "text/plain": [
       "count     190\n",
       "unique      4\n",
       "top         A\n",
       "freq       71\n",
       "Name: blood, dtype: object"
      ]
     },
     "execution_count": 18,
     "metadata": {},
     "output_type": "execute_result"
    }
   ],
   "source": [
    "df.blood.describe()"
   ]
  },
  {
   "cell_type": "code",
   "execution_count": 19,
   "metadata": {},
   "outputs": [
    {
     "data": {
      "text/plain": [
       "{nan, 'A', 'AB', 'O', 'B'}"
      ]
     },
     "execution_count": 19,
     "metadata": {},
     "output_type": "execute_result"
    }
   ],
   "source": [
    "set([x for x in df.blood])"
   ]
  },
  {
   "cell_type": "code",
   "execution_count": 20,
   "metadata": {},
   "outputs": [
    {
     "data": {
      "text/html": [
       "<div>\n",
       "<style>\n",
       "    .dataframe thead tr:only-child th {\n",
       "        text-align: right;\n",
       "    }\n",
       "\n",
       "    .dataframe thead th {\n",
       "        text-align: left;\n",
       "    }\n",
       "\n",
       "    .dataframe tbody tr th {\n",
       "        vertical-align: top;\n",
       "    }\n",
       "</style>\n",
       "<table border=\"1\" class=\"dataframe\">\n",
       "  <thead>\n",
       "    <tr style=\"text-align: right;\">\n",
       "      <th></th>\n",
       "      <th>height</th>\n",
       "      <th>weight</th>\n",
       "      <th>age</th>\n",
       "      <th>gender</th>\n",
       "      <th>blood</th>\n",
       "    </tr>\n",
       "    <tr>\n",
       "      <th>person</th>\n",
       "      <th></th>\n",
       "      <th></th>\n",
       "      <th></th>\n",
       "      <th></th>\n",
       "      <th></th>\n",
       "    </tr>\n",
       "  </thead>\n",
       "  <tbody>\n",
       "    <tr>\n",
       "      <th>p197</th>\n",
       "      <td>174.9</td>\n",
       "      <td>73.5</td>\n",
       "      <td>72.0</td>\n",
       "      <td>Male</td>\n",
       "      <td>A</td>\n",
       "    </tr>\n",
       "    <tr>\n",
       "      <th>p198</th>\n",
       "      <td>165.0</td>\n",
       "      <td>58.7</td>\n",
       "      <td>40.0</td>\n",
       "      <td>Female</td>\n",
       "      <td>O</td>\n",
       "    </tr>\n",
       "    <tr>\n",
       "      <th>p199</th>\n",
       "      <td>184.5</td>\n",
       "      <td>92.8</td>\n",
       "      <td>37.0</td>\n",
       "      <td>Male</td>\n",
       "      <td>B</td>\n",
       "    </tr>\n",
       "    <tr>\n",
       "      <th>p200</th>\n",
       "      <td>173.9</td>\n",
       "      <td>97.7</td>\n",
       "      <td>55.0</td>\n",
       "      <td>Male</td>\n",
       "      <td>O</td>\n",
       "    </tr>\n",
       "  </tbody>\n",
       "</table>\n",
       "</div>"
      ],
      "text/plain": [
       "        height  weight   age  gender blood\n",
       "person                                    \n",
       "p197     174.9    73.5  72.0    Male     A\n",
       "p198     165.0    58.7  40.0  Female     O\n",
       "p199     184.5    92.8  37.0    Male     B\n",
       "p200     173.9    97.7  55.0    Male     O"
      ]
     },
     "execution_count": 20,
     "metadata": {},
     "output_type": "execute_result"
    }
   ],
   "source": [
    "df.tail(4)"
   ]
  },
  {
   "cell_type": "markdown",
   "metadata": {},
   "source": [
    "## クレンジング済みデータのCSVファイルへの保管\n"
   ]
  },
  {
   "cell_type": "code",
   "execution_count": 21,
   "metadata": {
    "collapsed": true
   },
   "outputs": [],
   "source": [
    "df.to_csv('./cleansed_body_data.csv')"
   ]
  },
  {
   "cell_type": "markdown",
   "metadata": {},
   "source": [
    "\n",
    "*****"
   ]
  }
 ],
 "metadata": {
  "kernelspec": {
   "display_name": "Python 3",
   "language": "python",
   "name": "python3"
  },
  "language_info": {
   "codemirror_mode": {
    "name": "ipython",
    "version": 3
   },
   "file_extension": ".py",
   "mimetype": "text/x-python",
   "name": "python",
   "nbconvert_exporter": "python",
   "pygments_lexer": "ipython3",
   "version": "3.6.1"
  }
 },
 "nbformat": 4,
 "nbformat_minor": 2
}
