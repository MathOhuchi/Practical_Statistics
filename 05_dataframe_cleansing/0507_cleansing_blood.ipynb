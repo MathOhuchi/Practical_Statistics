{
 "cells": [
  {
   "cell_type": "markdown",
   "metadata": {},
   "source": [
    "# 変量bloodクレンジング\n",
    "\n",
    "変量bloodについてクレンジングを実施します．\n",
    "この変量に対するクレンジングは，変量genderに対するプロセスとほぼ同じです．\n",
    "\n",
    "先ず，前提として次のプログラムを実施します．\n",
    "\n",
    "- ライブラリーの搬入\n",
    "- CSVファイルを読み込んでデータフレームを生成\n",
    "- 全角半角変換ツールの準備\n",
    "- 小数点付数を判別する正規表現のコンパイル\n"
   ]
  },
  {
   "cell_type": "code",
   "execution_count": 1,
   "metadata": {
    "collapsed": true
   },
   "outputs": [],
   "source": [
    "import re\n",
    "import unicodedata\n",
    "import pandas as pd"
   ]
  },
  {
   "cell_type": "code",
   "execution_count": 2,
   "metadata": {
    "collapsed": true
   },
   "outputs": [],
   "source": [
    "df = pd.read_csv('original_body_data.csv')\n",
    "df.set_index('person',inplace=True)"
   ]
  },
  {
   "cell_type": "code",
   "execution_count": 3,
   "metadata": {
    "collapsed": true
   },
   "outputs": [],
   "source": [
    "floatCheck = re.compile(r'^\\s*([+-]?(\\d+\\.?\\d*|\\.\\d+))\\s*$')"
   ]
  },
  {
   "cell_type": "markdown",
   "metadata": {},
   "source": [
    "*****\n",
    "## データフレームの基礎情報\n",
    "\n",
    "まずはデータフレームの行数を確認します．\n",
    "そして，データフレームの一部を表示します．\n",
    "\n",
    "```Python\n",
    "len(df)\n",
    "df.head(5)\n",
    "```"
   ]
  },
  {
   "cell_type": "code",
   "execution_count": 4,
   "metadata": {
    "scrolled": true
   },
   "outputs": [
    {
     "data": {
      "text/plain": [
       "200"
      ]
     },
     "execution_count": 4,
     "metadata": {},
     "output_type": "execute_result"
    }
   ],
   "source": [
    "len(df)"
   ]
  },
  {
   "cell_type": "code",
   "execution_count": 5,
   "metadata": {},
   "outputs": [
    {
     "data": {
      "text/html": [
       "<div>\n",
       "<style>\n",
       "    .dataframe thead tr:only-child th {\n",
       "        text-align: right;\n",
       "    }\n",
       "\n",
       "    .dataframe thead th {\n",
       "        text-align: left;\n",
       "    }\n",
       "\n",
       "    .dataframe tbody tr th {\n",
       "        vertical-align: top;\n",
       "    }\n",
       "</style>\n",
       "<table border=\"1\" class=\"dataframe\">\n",
       "  <thead>\n",
       "    <tr style=\"text-align: right;\">\n",
       "      <th></th>\n",
       "      <th>height</th>\n",
       "      <th>weight</th>\n",
       "      <th>age</th>\n",
       "      <th>gender</th>\n",
       "      <th>blood</th>\n",
       "    </tr>\n",
       "    <tr>\n",
       "      <th>person</th>\n",
       "      <th></th>\n",
       "      <th></th>\n",
       "      <th></th>\n",
       "      <th></th>\n",
       "      <th></th>\n",
       "    </tr>\n",
       "  </thead>\n",
       "  <tbody>\n",
       "    <tr>\n",
       "      <th>p001</th>\n",
       "      <td>157.7</td>\n",
       "      <td>56.8</td>\n",
       "      <td>20</td>\n",
       "      <td>Male</td>\n",
       "      <td>B</td>\n",
       "    </tr>\n",
       "    <tr>\n",
       "      <th>p002</th>\n",
       "      <td>169.7</td>\n",
       "      <td>58.1</td>\n",
       "      <td>53</td>\n",
       "      <td>Female</td>\n",
       "      <td>A</td>\n",
       "    </tr>\n",
       "    <tr>\n",
       "      <th>p003</th>\n",
       "      <td>160.6</td>\n",
       "      <td>96.8</td>\n",
       "      <td>22</td>\n",
       "      <td>Male</td>\n",
       "      <td>O</td>\n",
       "    </tr>\n",
       "    <tr>\n",
       "      <th>p004</th>\n",
       "      <td>'155.8'</td>\n",
       "      <td></td>\n",
       "      <td></td>\n",
       "      <td>Female</td>\n",
       "      <td>O</td>\n",
       "    </tr>\n",
       "    <tr>\n",
       "      <th>p005</th>\n",
       "      <td>115.5</td>\n",
       "      <td>22.5</td>\n",
       "      <td>7</td>\n",
       "      <td>Male</td>\n",
       "      <td>NaN</td>\n",
       "    </tr>\n",
       "  </tbody>\n",
       "</table>\n",
       "</div>"
      ],
      "text/plain": [
       "         height weight age  gender blood\n",
       "person                                  \n",
       "p001      157.7   56.8  20    Male     B\n",
       "p002      169.7   58.1  53  Female     A\n",
       "p003      160.6   96.8  22    Male     O\n",
       "p004    '155.8'             Female     O\n",
       "p005      115.5   22.5   7    Male   NaN"
      ]
     },
     "execution_count": 5,
     "metadata": {},
     "output_type": "execute_result"
    }
   ],
   "source": [
    "df.head(5)"
   ]
  },
  {
   "cell_type": "markdown",
   "metadata": {},
   "source": [
    "*****\n",
    "## 変量genderの概要\n",
    "\n",
    "変量の概要は<font color=green>describe()</font>メソッドを発行することによって得ることができます．\n",
    "\n",
    "```Python\n",
    "df.blood.describe()\n",
    "```"
   ]
  },
  {
   "cell_type": "code",
   "execution_count": 6,
   "metadata": {
    "scrolled": true
   },
   "outputs": [
    {
     "data": {
      "text/plain": [
       "count     190\n",
       "unique     13\n",
       "top         A\n",
       "freq       67\n",
       "Name: blood, dtype: object"
      ]
     },
     "execution_count": 6,
     "metadata": {},
     "output_type": "execute_result"
    }
   ],
   "source": [
    "df.blood.describe()"
   ]
  },
  {
   "cell_type": "markdown",
   "metadata": {},
   "source": [
    "describe()メソッドの出力の最後の行に注目します．\n",
    "\n",
    "> \n",
    "```\n",
    "Name: blood, dtype: object\n",
    "```\n",
    "\n",
    "これは，df.bloodの各データのデータ型がobject型であることを示しています．\n",
    "各要素のデータ型を調べるために，リスト内包表記とtype()関数を組み合わせます．そして，その結果をset()関数で重複を除いたデータ型の取得します．\n",
    "\n",
    "```Python\n",
    "set([type(x) for x in df.blood])\n",
    "```"
   ]
  },
  {
   "cell_type": "code",
   "execution_count": 7,
   "metadata": {
    "scrolled": true
   },
   "outputs": [
    {
     "data": {
      "text/plain": [
       "{str, float}"
      ]
     },
     "execution_count": 7,
     "metadata": {},
     "output_type": "execute_result"
    }
   ],
   "source": [
    "set([type(x) for x in df.blood])"
   ]
  },
  {
   "cell_type": "markdown",
   "metadata": {},
   "source": [
    "df.bloodの各要素はstr型とfloat型が混在していることが分かりました．\n",
    "そこで，float型のデータの値を確認します．\n",
    "\n",
    "```Python\n",
    "[x for x in df.blood if type(x)==float]\n",
    "```"
   ]
  },
  {
   "cell_type": "code",
   "execution_count": 8,
   "metadata": {
    "scrolled": true
   },
   "outputs": [
    {
     "data": {
      "text/plain": [
       "[nan, nan, nan, nan, nan, nan, nan, nan, nan, nan]"
      ]
     },
     "execution_count": 8,
     "metadata": {},
     "output_type": "execute_result"
    }
   ],
   "source": [
    "[x for x in df.blood if type(x)==float]"
   ]
  },
  {
   "cell_type": "markdown",
   "metadata": {},
   "source": [
    "この出力を見るとfloat型の値は全て欠損値であることが分かります．\n"
   ]
  },
  {
   "cell_type": "markdown",
   "metadata": {},
   "source": [
    "## カテゴリー値の確認\n",
    "\n",
    "df.bloodの各要素の文字列で，その重複を除いた値を確認します．\n",
    "\n",
    "\n",
    "\n",
    "```Python\n",
    "set([x for x in df.blood if type(x)==str])\n",
    "```"
   ]
  },
  {
   "cell_type": "code",
   "execution_count": 9,
   "metadata": {
    "scrolled": true
   },
   "outputs": [
    {
     "data": {
      "text/plain": [
       "{' AB ',\n",
       " ' o ',\n",
       " 'A',\n",
       " 'A ',\n",
       " 'AB',\n",
       " 'Ab',\n",
       " 'B',\n",
       " 'O',\n",
       " 'o',\n",
       " '\\u3000Ａ',\n",
       " '\\u3000Ａ\\u3000',\n",
       " 'Ｏ',\n",
       " 'ａ'}"
      ]
     },
     "execution_count": 9,
     "metadata": {},
     "output_type": "execute_result"
    }
   ],
   "source": [
    "set([x for x in df.blood if type(x)==str])"
   ]
  },
  {
   "cell_type": "markdown",
   "metadata": {},
   "source": [
    "df.bloodの有効な値として想定しているものは['A','B','O','AB']です．\n",
    "しかし，この出力を見ると次の問題があります．\n",
    "\n",
    "- 全角文字がある．\n",
    "- 大文字小文字が混在している．\n",
    "- 文字列の前後に空白文字がある．\n",
    "\n",
    "これらの課題を解消するようにクレンジングを実施します．"
   ]
  },
  {
   "cell_type": "markdown",
   "metadata": {},
   "source": [
    "## 全角から半角への変換\n",
    "\n",
    "全角文字の例として，データ「\\u3000Ａ\\u3000」について，全角文字を半角に変換します．\n",
    "\n",
    "```Python\n",
    "'\\u3000３９\\u3000'.strip(\"'\").translate(doubleToSingle)\n",
    "```"
   ]
  },
  {
   "cell_type": "code",
   "execution_count": 10,
   "metadata": {
    "scrolled": true
   },
   "outputs": [
    {
     "data": {
      "text/plain": [
       "' A '"
      ]
     },
     "execution_count": 10,
     "metadata": {},
     "output_type": "execute_result"
    }
   ],
   "source": [
    "unicodedata.normalize('NFKC','\\u3000Ａ\\u3000')"
   ]
  },
  {
   "cell_type": "markdown",
   "metadata": {},
   "source": [
    "df.bloodの全データについて全角を半角に変換した結果の値の集合を表示します．\n",
    "これはリスト内包表記によって半角に変換したリストからset()関数によって重複を除いた値を求めます．\n",
    "\n",
    "```Python\n",
    "set([unicodedata.normalize('NFKC',x) if type(x)==str else x for x in df.blood])\n",
    "```"
   ]
  },
  {
   "cell_type": "code",
   "execution_count": 11,
   "metadata": {},
   "outputs": [
    {
     "data": {
      "text/plain": [
       "{nan, 'Ab', 'O', 'o', ' AB ', 'a', 'B', 'AB', 'A ', ' A ', ' A', ' o ', 'A'}"
      ]
     },
     "execution_count": 11,
     "metadata": {},
     "output_type": "execute_result"
    }
   ],
   "source": [
    "set([unicodedata.normalize('NFKC',x) if type(x)==str else x for x in df.blood])"
   ]
  },
  {
   "cell_type": "markdown",
   "metadata": {},
   "source": [
    "## 空白の削除\n",
    "\n",
    "文字列の前後にある空白を削除します．\n",
    "空白の削除は<font color=green>strip()</font>メソッドを使用します．\n",
    "確認のために ' AB ' について実施してみます．\n",
    "\n",
    "```Python\n",
    "' AB '.strip()\n",
    "```"
   ]
  },
  {
   "cell_type": "code",
   "execution_count": 12,
   "metadata": {},
   "outputs": [
    {
     "data": {
      "text/plain": [
       "'AB'"
      ]
     },
     "execution_count": 12,
     "metadata": {},
     "output_type": "execute_result"
    }
   ],
   "source": [
    "' AB '.strip()"
   ]
  },
  {
   "cell_type": "markdown",
   "metadata": {},
   "source": [
    "全角を半角の変換した後に，前後の空白文字を削除します．\n",
    "その結果で求まる値を重複を除いて表示します．\n",
    "\n",
    "```Python\n",
    "set([x.translate(doubleToSingle).strip() for x in df.blood if type(x)==str])\n",
    "```"
   ]
  },
  {
   "cell_type": "code",
   "execution_count": 13,
   "metadata": {},
   "outputs": [
    {
     "data": {
      "text/plain": [
       "{nan, 'Ab', 'O', 'o', 'a', 'B', 'AB', 'A'}"
      ]
     },
     "execution_count": 13,
     "metadata": {},
     "output_type": "execute_result"
    }
   ],
   "source": [
    "set([unicodedata.normalize('NFKC',x).strip() if type(x)==str else x for x in df.blood])"
   ]
  },
  {
   "cell_type": "markdown",
   "metadata": {},
   "source": [
    "## 小文字を大文字に統一\n",
    "\n",
    "ここまでクレンジングした結果として文字列は血液型を示す値となりました．\n",
    "しかし，大文字小文字の統制が取れていません．\n",
    "そこで全ての小文字を大文字に変換します．\n",
    "この処理は<font color=green>upper()</font>メソッドで実現します．\n",
    "試しに一つの文字列を変換してみます．\n",
    "\n",
    "```Python\n",
    "'ab'.upper()\n",
    "```"
   ]
  },
  {
   "cell_type": "code",
   "execution_count": 14,
   "metadata": {},
   "outputs": [
    {
     "data": {
      "text/plain": [
       "'AB'"
      ]
     },
     "execution_count": 14,
     "metadata": {},
     "output_type": "execute_result"
    }
   ],
   "source": [
    "'ab'.upper()"
   ]
  },
  {
   "cell_type": "markdown",
   "metadata": {},
   "source": [
    "この処理も追加して，その結果の文字列の種類を表示します．\n",
    "\n",
    "```Pythonn\n",
    "set([unicodedata.normalize('NFKC',x).strip().upper() if type(x)==str else x for x in df.blood])\n",
    "```"
   ]
  },
  {
   "cell_type": "code",
   "execution_count": 15,
   "metadata": {},
   "outputs": [
    {
     "data": {
      "text/plain": [
       "{nan, 'O', 'B', 'AB', 'A'}"
      ]
     },
     "execution_count": 15,
     "metadata": {},
     "output_type": "execute_result"
    }
   ],
   "source": [
    "set([unicodedata.normalize('NFKC',x).strip().upper() if type(x)==str else x for x in df.blood])"
   ]
  },
  {
   "cell_type": "markdown",
   "metadata": {},
   "source": [
    "## データフレームでの処理\n",
    "\n",
    "ここまでdf.bloodを取り出してリスト配列としてクレンジング処理を行ってきましたが，実際にはデータフレームの更新作業となります．\n",
    "よって，データフレーム内でのクレンジングを行うプログラムを作成します．\n"
   ]
  },
  {
   "cell_type": "markdown",
   "metadata": {},
   "source": [
    "### 文字列の整形\n",
    "\n",
    "まず，df.bloodを文字列として綺麗な形に整えます．\n",
    "その結果は新しい列blood2としてデータフレームに追加します．\n",
    "\n",
    "```Python\n",
    "df['blood2'] = [x.translate(doubleToSingle).strip().upper() if type(x)==str else x for x in df.blood]\n",
    "```"
   ]
  },
  {
   "cell_type": "code",
   "execution_count": 16,
   "metadata": {
    "collapsed": true
   },
   "outputs": [],
   "source": [
    "df['blood2'] = [unicodedata.normalize('NFKC',x).strip().upper() if type(x)==str else x for x in df.blood]"
   ]
  },
  {
   "cell_type": "markdown",
   "metadata": {},
   "source": [
    "### クレンジング済み変量gender2の確認\n",
    "\n",
    "これで性別データについてのクレンジングが終了したので，その結果を<font color=green>describe()</font>メソッドで確認します．\n",
    "\n",
    "```Python\n",
    "df.blood2.describe()\n",
    "```"
   ]
  },
  {
   "cell_type": "code",
   "execution_count": 17,
   "metadata": {},
   "outputs": [
    {
     "data": {
      "text/plain": [
       "count     190\n",
       "unique      4\n",
       "top         A\n",
       "freq       71\n",
       "Name: blood2, dtype: object"
      ]
     },
     "execution_count": 17,
     "metadata": {},
     "output_type": "execute_result"
    }
   ],
   "source": [
    "df.blood2.describe()"
   ]
  },
  {
   "cell_type": "markdown",
   "metadata": {},
   "source": [
    "この出力により，190個の全てのデータが文字列になっていることが分かります．\n",
    "行数は200行でしたので，残りのデータは数値として値が入っていない欠損値になっています．\n",
    "欠損値以外のユニークな値は想定通り4個になりました．\n",
    "\n",
    "df.bloodr2の取りうる値の種類を確認します．\n",
    "\n",
    "```Python\n",
    "set(df.blood2)\n",
    "```"
   ]
  },
  {
   "cell_type": "code",
   "execution_count": 18,
   "metadata": {
    "scrolled": true
   },
   "outputs": [
    {
     "data": {
      "text/plain": [
       "{nan, 'O', 'B', 'AB', 'A'}"
      ]
     },
     "execution_count": 18,
     "metadata": {},
     "output_type": "execute_result"
    }
   ],
   "source": [
    "set(df.blood2)"
   ]
  },
  {
   "cell_type": "markdown",
   "metadata": {},
   "source": [
    "念のためにデータフレームの先頭の数行を表示します．\n",
    "新たにblood2という列が追加されていることが確認できます．"
   ]
  },
  {
   "cell_type": "code",
   "execution_count": 19,
   "metadata": {
    "scrolled": true
   },
   "outputs": [
    {
     "data": {
      "text/html": [
       "<div>\n",
       "<style>\n",
       "    .dataframe thead tr:only-child th {\n",
       "        text-align: right;\n",
       "    }\n",
       "\n",
       "    .dataframe thead th {\n",
       "        text-align: left;\n",
       "    }\n",
       "\n",
       "    .dataframe tbody tr th {\n",
       "        vertical-align: top;\n",
       "    }\n",
       "</style>\n",
       "<table border=\"1\" class=\"dataframe\">\n",
       "  <thead>\n",
       "    <tr style=\"text-align: right;\">\n",
       "      <th></th>\n",
       "      <th>height</th>\n",
       "      <th>weight</th>\n",
       "      <th>age</th>\n",
       "      <th>gender</th>\n",
       "      <th>blood</th>\n",
       "      <th>blood2</th>\n",
       "    </tr>\n",
       "    <tr>\n",
       "      <th>person</th>\n",
       "      <th></th>\n",
       "      <th></th>\n",
       "      <th></th>\n",
       "      <th></th>\n",
       "      <th></th>\n",
       "      <th></th>\n",
       "    </tr>\n",
       "  </thead>\n",
       "  <tbody>\n",
       "    <tr>\n",
       "      <th>p001</th>\n",
       "      <td>157.7</td>\n",
       "      <td>56.8</td>\n",
       "      <td>20</td>\n",
       "      <td>Male</td>\n",
       "      <td>B</td>\n",
       "      <td>B</td>\n",
       "    </tr>\n",
       "    <tr>\n",
       "      <th>p002</th>\n",
       "      <td>169.7</td>\n",
       "      <td>58.1</td>\n",
       "      <td>53</td>\n",
       "      <td>Female</td>\n",
       "      <td>A</td>\n",
       "      <td>A</td>\n",
       "    </tr>\n",
       "    <tr>\n",
       "      <th>p003</th>\n",
       "      <td>160.6</td>\n",
       "      <td>96.8</td>\n",
       "      <td>22</td>\n",
       "      <td>Male</td>\n",
       "      <td>O</td>\n",
       "      <td>O</td>\n",
       "    </tr>\n",
       "    <tr>\n",
       "      <th>p004</th>\n",
       "      <td>'155.8'</td>\n",
       "      <td></td>\n",
       "      <td></td>\n",
       "      <td>Female</td>\n",
       "      <td>O</td>\n",
       "      <td>O</td>\n",
       "    </tr>\n",
       "  </tbody>\n",
       "</table>\n",
       "</div>"
      ],
      "text/plain": [
       "         height weight age  gender blood blood2\n",
       "person                                         \n",
       "p001      157.7   56.8  20    Male     B      B\n",
       "p002      169.7   58.1  53  Female     A      A\n",
       "p003      160.6   96.8  22    Male     O      O\n",
       "p004    '155.8'             Female     O      O"
      ]
     },
     "execution_count": 19,
     "metadata": {},
     "output_type": "execute_result"
    }
   ],
   "source": [
    "df.head(4)"
   ]
  },
  {
   "cell_type": "markdown",
   "metadata": {},
   "source": [
    "これで，血液型のデータについてのクレンジングは完了です．\n",
    "\n",
    "*****"
   ]
  }
 ],
 "metadata": {
  "kernelspec": {
   "display_name": "Python 3",
   "language": "python",
   "name": "python3"
  },
  "language_info": {
   "codemirror_mode": {
    "name": "ipython",
    "version": 3
   },
   "file_extension": ".py",
   "mimetype": "text/x-python",
   "name": "python",
   "nbconvert_exporter": "python",
   "pygments_lexer": "ipython3",
   "version": "3.6.1"
  }
 },
 "nbformat": 4,
 "nbformat_minor": 2
}
