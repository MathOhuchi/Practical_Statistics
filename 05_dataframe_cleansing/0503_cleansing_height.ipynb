{
 "cells": [
  {
   "cell_type": "markdown",
   "metadata": {},
   "source": [
    "# 変量heightのクレンジング\n",
    "\n",
    "ここからは各変量について個別にクレンジングを実施します．\n",
    "\n",
    "先ず，前提として次のプログラムを実施します．\n",
    "\n",
    "- ライブラリーの搬入\n",
    "- CSVファイルを読み込んでデータフレームを生成\n",
    "- 全角半角変換ツールの準備\n",
    "- 小数点付数を判別する正規表現のコンパイル\n"
   ]
  },
  {
   "cell_type": "code",
   "execution_count": 1,
   "metadata": {
    "collapsed": true
   },
   "outputs": [],
   "source": [
    "import re\n",
    "import unicodedata\n",
    "import pandas as pd"
   ]
  },
  {
   "cell_type": "code",
   "execution_count": 2,
   "metadata": {
    "collapsed": true
   },
   "outputs": [],
   "source": [
    "df = pd.read_csv('original_body_data.csv')\n",
    "df.set_index('person',inplace=True)"
   ]
  },
  {
   "cell_type": "raw",
   "metadata": {
    "collapsed": true
   },
   "source": [
    "# マイナス記号がある場合のオプション\n",
    "d2s = {'‐':'-','―':'-','ー':'-'}\n",
    "doubleToSingle = str.maketrans(d2s)"
   ]
  },
  {
   "cell_type": "code",
   "execution_count": 3,
   "metadata": {
    "collapsed": true
   },
   "outputs": [],
   "source": [
    "floatCheck = re.compile(r'^\\s*([+-]?(\\d+\\.?\\d*|\\.\\d+))\\s*$')"
   ]
  },
  {
   "cell_type": "markdown",
   "metadata": {},
   "source": [
    "*****\n",
    "## データフレームの基礎情報\n",
    "\n",
    "まずはデータフレームの行数を確認します．\n",
    "そして，データフレームの一部を表示します．\n",
    "\n",
    "```Python\n",
    "len(df)\n",
    "df.head(5)\n",
    "```"
   ]
  },
  {
   "cell_type": "code",
   "execution_count": 4,
   "metadata": {},
   "outputs": [
    {
     "data": {
      "text/plain": [
       "200"
      ]
     },
     "execution_count": 4,
     "metadata": {},
     "output_type": "execute_result"
    }
   ],
   "source": [
    "len(df)"
   ]
  },
  {
   "cell_type": "code",
   "execution_count": 5,
   "metadata": {},
   "outputs": [
    {
     "data": {
      "text/html": [
       "<div>\n",
       "<style>\n",
       "    .dataframe thead tr:only-child th {\n",
       "        text-align: right;\n",
       "    }\n",
       "\n",
       "    .dataframe thead th {\n",
       "        text-align: left;\n",
       "    }\n",
       "\n",
       "    .dataframe tbody tr th {\n",
       "        vertical-align: top;\n",
       "    }\n",
       "</style>\n",
       "<table border=\"1\" class=\"dataframe\">\n",
       "  <thead>\n",
       "    <tr style=\"text-align: right;\">\n",
       "      <th></th>\n",
       "      <th>height</th>\n",
       "      <th>weight</th>\n",
       "      <th>age</th>\n",
       "      <th>gender</th>\n",
       "      <th>blood</th>\n",
       "    </tr>\n",
       "    <tr>\n",
       "      <th>person</th>\n",
       "      <th></th>\n",
       "      <th></th>\n",
       "      <th></th>\n",
       "      <th></th>\n",
       "      <th></th>\n",
       "    </tr>\n",
       "  </thead>\n",
       "  <tbody>\n",
       "    <tr>\n",
       "      <th>p001</th>\n",
       "      <td>157.7</td>\n",
       "      <td>56.8</td>\n",
       "      <td>20</td>\n",
       "      <td>Male</td>\n",
       "      <td>B</td>\n",
       "    </tr>\n",
       "    <tr>\n",
       "      <th>p002</th>\n",
       "      <td>169.7</td>\n",
       "      <td>58.1</td>\n",
       "      <td>53</td>\n",
       "      <td>Female</td>\n",
       "      <td>A</td>\n",
       "    </tr>\n",
       "    <tr>\n",
       "      <th>p003</th>\n",
       "      <td>160.6</td>\n",
       "      <td>96.8</td>\n",
       "      <td>22</td>\n",
       "      <td>Male</td>\n",
       "      <td>O</td>\n",
       "    </tr>\n",
       "    <tr>\n",
       "      <th>p004</th>\n",
       "      <td>'155.8'</td>\n",
       "      <td></td>\n",
       "      <td></td>\n",
       "      <td>Female</td>\n",
       "      <td>O</td>\n",
       "    </tr>\n",
       "    <tr>\n",
       "      <th>p005</th>\n",
       "      <td>115.5</td>\n",
       "      <td>22.5</td>\n",
       "      <td>7</td>\n",
       "      <td>Male</td>\n",
       "      <td>NaN</td>\n",
       "    </tr>\n",
       "  </tbody>\n",
       "</table>\n",
       "</div>"
      ],
      "text/plain": [
       "         height weight age  gender blood\n",
       "person                                  \n",
       "p001      157.7   56.8  20    Male     B\n",
       "p002      169.7   58.1  53  Female     A\n",
       "p003      160.6   96.8  22    Male     O\n",
       "p004    '155.8'             Female     O\n",
       "p005      115.5   22.5   7    Male   NaN"
      ]
     },
     "execution_count": 5,
     "metadata": {},
     "output_type": "execute_result"
    }
   ],
   "source": [
    "df.head(5)"
   ]
  },
  {
   "cell_type": "markdown",
   "metadata": {},
   "source": [
    "*****\n",
    "## 変量heightの概要\n",
    "\n",
    "変量の概要は<font color=green>describe()</font>メソッドを発行することによって得ることができます．\n",
    "\n",
    "```Python\n",
    "df.height.describe()\n",
    "```"
   ]
  },
  {
   "cell_type": "code",
   "execution_count": 6,
   "metadata": {},
   "outputs": [
    {
     "data": {
      "text/plain": [
       "count       200\n",
       "unique      160\n",
       "top       160.7\n",
       "freq          4\n",
       "Name: height, dtype: object"
      ]
     },
     "execution_count": 6,
     "metadata": {},
     "output_type": "execute_result"
    }
   ],
   "source": [
    "df.height.describe()"
   ]
  },
  {
   "cell_type": "markdown",
   "metadata": {},
   "source": [
    "describe()メソッドによって基礎統計が得られます．\n",
    "この結果は後ほど使うことになりますが，ここでは最後の行に注目します．\n",
    "\n",
    "> \n",
    "```\n",
    "Name: height, dtype: object\n",
    "```\n",
    "\n",
    "これは，df.heightの各データのデータ型がobject型であることを示しています．\n",
    "object型はpandasにある特別なデータ型でオブジェクトへのポインターを格納しています．\n",
    "各データはそれぞれ独自のデータ型を持っています．\n",
    "各要素のデータ型を調べるために，リスト内包表記とtype()関数を組み合わせます．そして，その結果をset()関数で重複を除いたデータ型の取得します．\n",
    "\n",
    "```Python\n",
    "set([type(x) for x in df.height])\n",
    "```"
   ]
  },
  {
   "cell_type": "code",
   "execution_count": 7,
   "metadata": {},
   "outputs": [
    {
     "data": {
      "text/plain": [
       "{str}"
      ]
     },
     "execution_count": 7,
     "metadata": {},
     "output_type": "execute_result"
    }
   ],
   "source": [
    "set([type(x) for x in df.height])"
   ]
  },
  {
   "cell_type": "markdown",
   "metadata": {},
   "source": [
    "df.heightの各要素はstr型すなわち文字列であることが分かりました．"
   ]
  },
  {
   "cell_type": "markdown",
   "metadata": {},
   "source": [
    "## 数値化の可能性の確認\n",
    "\n",
    "df.heightの各要素である文字列が小数点付数として数値化可能であるかを確認する必要があります．\n",
    "\n",
    "もし確認なしで数値への変換を<font color=green>float()</font>関数で実施したらどうなるかテストします．\n",
    "まずは，df.heightの最初のデータだけを数値化してみます\n",
    "\n",
    "```Python\n",
    "float(df.height[0])\n",
    "```"
   ]
  },
  {
   "cell_type": "code",
   "execution_count": 8,
   "metadata": {},
   "outputs": [
    {
     "data": {
      "text/plain": [
       "157.7"
      ]
     },
     "execution_count": 8,
     "metadata": {},
     "output_type": "execute_result"
    }
   ],
   "source": [
    "float(df.height[0])"
   ]
  },
  {
   "cell_type": "markdown",
   "metadata": {},
   "source": [
    "このように数値化が成功しました．\n",
    "そこで，リスト内包表記を使って，df.heightのデータ全ての数値化を試みます．\n",
    "エラーが起こることを想定して実施するので，この処理を<font color=green>try:</font>ブロックで実施してエラーが発生した場合は例外処理でエラー内容をプリントするようにします．\n",
    "\n",
    "```Python\n",
    "try:\n",
    "    [float(x) for x in df.height]\n",
    "except ValueError as err:\n",
    "    print(err)\n",
    "```"
   ]
  },
  {
   "cell_type": "code",
   "execution_count": 9,
   "metadata": {},
   "outputs": [
    {
     "name": "stdout",
     "output_type": "stream",
     "text": [
      "could not convert string to float: \"'155.8'\"\n"
     ]
    }
   ],
   "source": [
    "try:\n",
    "    [float(x) for x in df.height]\n",
    "except ValueError as err:\n",
    "    print(err)"
   ]
  },
  {
   "cell_type": "markdown",
   "metadata": {},
   "source": [
    "すると，途中で数値化できない文字列がありエラーが発生しました．\n",
    "ここで発生したエラーは，数値化できない文字列\"'155.8'\"をfloat()関数に渡したために起こったものです．\n",
    "プログラムの処理はここで中断して例外処理になり，エラーメッセージを出力しました．\n",
    "\n",
    "このように，クレンジングせずに数値化を実施することは無謀な試みとなります．\n",
    "他にも数値化できないデータがあるかもしれませんので，<font color=green>floatCheck.fullmatch()</font>関数によって，数値化できないデータをリストアップします．\n",
    "\n",
    "```Python\n",
    "[x for x in df.height if not floatCheck.match(x)]\n",
    "```"
   ]
  },
  {
   "cell_type": "code",
   "execution_count": 10,
   "metadata": {},
   "outputs": [
    {
     "data": {
      "text/plain": [
       "[\"'155.8'\", \"' 151.2 '\", \"'１７２．９'\"]"
      ]
     },
     "execution_count": 10,
     "metadata": {},
     "output_type": "execute_result"
    }
   ],
   "source": [
    "[x for x in df.height if not floatCheck.fullmatch(x)]"
   ]
  },
  {
   "cell_type": "markdown",
   "metadata": {},
   "source": [
    "この結果で，クレンジング対象となるデータが判明しました．\n",
    "これらのデータを綺麗にするように処理を進めていきます．\n",
    "この数値化できないデータを観察すると，次の事が課題であると思われます．\n",
    "\n",
    "- 文字列がシングルクォーテーション「'」で囲われている\n",
    "- 数字の前後に空白文字がある\n",
    "- 全角で小数点付数が記載されている\n",
    "\n",
    "これらを解消するようにクレンジングを実施していきます．"
   ]
  },
  {
   "cell_type": "markdown",
   "metadata": {},
   "source": [
    "## シングルクォーテーションの削除\n",
    "\n",
    "文字列がシングルクォーテーションで囲われているので，これを<font color=green>strip()</font>メソッドで削除します．\n",
    "例として，文字列「'155.8'」からシングルクォーテーションを除去します．\n",
    "\n",
    "```Python\n",
    "\"'155.8'\".strip(\"'\")\n",
    "```"
   ]
  },
  {
   "cell_type": "code",
   "execution_count": 11,
   "metadata": {},
   "outputs": [
    {
     "data": {
      "text/plain": [
       "'155.8'"
      ]
     },
     "execution_count": 11,
     "metadata": {},
     "output_type": "execute_result"
    }
   ],
   "source": [
    "\"'155.8'\".strip(\"'\")"
   ]
  },
  {
   "cell_type": "markdown",
   "metadata": {},
   "source": [
    "この操作をdf.heightの全てのデータについて適用します．\n",
    "その結果として，数値化できないデータを表示します．\n",
    "\n",
    "```Python\n",
    "[x for x in df.height if not floatCheck.fullmatch(x.strip(\"'\"))]\n",
    "```"
   ]
  },
  {
   "cell_type": "code",
   "execution_count": 12,
   "metadata": {},
   "outputs": [
    {
     "data": {
      "text/plain": [
       "[\"'１７２．９'\"]"
      ]
     },
     "execution_count": 12,
     "metadata": {},
     "output_type": "execute_result"
    }
   ],
   "source": [
    "[x for x in df.height if not floatCheck.fullmatch(x.strip(\"'\"))]"
   ]
  },
  {
   "cell_type": "markdown",
   "metadata": {},
   "source": [
    "シングルクォーテーションを除去した後でも数値化できないデータは「'１７２．９'」だけとなりました．"
   ]
  },
  {
   "cell_type": "markdown",
   "metadata": {},
   "source": [
    "## 全角から半角への変換\n",
    "\n",
    "データ「'１７２．９'」について，シングルクォーテーションを除去した後に全角文字を半角に変換します．\n",
    "\n",
    "```Python\n",
    "unicodedata.normalize('NFKC',\"'１７２．９'\".strip(\"'\"))\n",
    "```"
   ]
  },
  {
   "cell_type": "code",
   "execution_count": 13,
   "metadata": {},
   "outputs": [
    {
     "data": {
      "text/plain": [
       "'172.9'"
      ]
     },
     "execution_count": 13,
     "metadata": {},
     "output_type": "execute_result"
    }
   ],
   "source": [
    "unicodedata.normalize('NFKC',\"'１７２．９'\".strip(\"'\"))"
   ]
  },
  {
   "cell_type": "markdown",
   "metadata": {},
   "source": [
    "身長データには負の数はありませんが，負の数がある場合は，この後ろにtranslate(doubleToSingle)関数を付けます．\n",
    "\n",
    "```Python\n",
    "unicodedata.normalize('NFKC',\"'１７２．９'\".strip(\"'\")).translate(doubleToSingle)\n",
    "```"
   ]
  },
  {
   "cell_type": "markdown",
   "metadata": {},
   "source": [
    "この操作をdf.heightの全データに適用し，その結果として数値化できないデータを表示します．\n",
    "\n",
    "```Python\n",
    "[x for x in df.height if not floatCheck.fullmatch(unicodedata.normalize('NFKC',x.strip(\"'\")))]\n",
    "```"
   ]
  },
  {
   "cell_type": "code",
   "execution_count": 14,
   "metadata": {},
   "outputs": [
    {
     "data": {
      "text/plain": [
       "[]"
      ]
     },
     "execution_count": 14,
     "metadata": {},
     "output_type": "execute_result"
    }
   ],
   "source": [
    "[x for x in df.height if not floatCheck.fullmatch(unicodedata.normalize('NFKC',x.strip(\"'\")))]"
   ]
  },
  {
   "cell_type": "markdown",
   "metadata": {},
   "source": [
    "これで，df.heightの値が全て数値化可能になります．\n",
    "df.height[3]を例にとって，この値に対してクレンジングして数値化するプロセスを単純なコードで書くと次のようになります．\n",
    "\n",
    "```Python\n",
    "cleansedValue = unicodedata.normalize('NFKC',df.height[3].strip(\"'\"))\n",
    "if floatCheck.fullmatch(cleansedValue):\n",
    "    floatValue = float(cleansedValue)\n",
    "else:\n",
    "    floatValue = None\n",
    "print(floatValue)\n",
    "```"
   ]
  },
  {
   "cell_type": "code",
   "execution_count": 15,
   "metadata": {},
   "outputs": [
    {
     "name": "stdout",
     "output_type": "stream",
     "text": [
      "155.8\n"
     ]
    }
   ],
   "source": [
    "cleansedValue = unicodedata.normalize('NFKC',df.height[3].strip(\"'\"))\n",
    "if floatCheck.fullmatch(cleansedValue):\n",
    "    floatValue = float(cleansedValue)\n",
    "else:\n",
    "    floatValue = None\n",
    "print(floatValue)"
   ]
  },
  {
   "cell_type": "markdown",
   "metadata": {},
   "source": [
    "これは処理を分かりやすく書いたものです．\n",
    "実際は，もっとコンパクトなプログラムになります．"
   ]
  },
  {
   "cell_type": "markdown",
   "metadata": {},
   "source": [
    "## データフレームでの処理\n",
    "\n",
    "ここまでdf.heightを取り出してリスト配列としてクレンジング処理を行ってきましたが，実際にはデータフレームの更新作業となります．\n",
    "よって，データフレーム内でのクレンジングを行うプログラムを作成します．\n",
    "この処理は次のステップで行います．\n",
    "\n",
    "- シングルクォーテーションを除去し全角文字を半角に変換したデータを新たにcleansedHeightという列に格納する．\n",
    "- cleansedHeightの値を数値化したデータを新たにheight2という列に格納する．\n",
    "- 列cleansedHeightを削除する．\n",
    "\n",
    "この処理では文字列を綺麗にした中間データを作成することによって，プログラムが複雑になることを避けています．"
   ]
  },
  {
   "cell_type": "markdown",
   "metadata": {},
   "source": [
    "### 文字列の整形\n",
    "\n",
    "まず，df.heightの値を文字列として綺麗な形に整えます．\n",
    "その結果は新しい列cleansedHeightとしてデータフレームに追加します．\n",
    "\n",
    "```Python\n",
    "df['cleansedHeight'] = [unicodedata.normalize('NFKC',x.strip(\"'\")) for x in df.height]\n",
    "```"
   ]
  },
  {
   "cell_type": "code",
   "execution_count": 16,
   "metadata": {
    "collapsed": true
   },
   "outputs": [],
   "source": [
    "df['cleansedHeight'] = [unicodedata.normalize('NFKC',x.strip(\"'\")) for x in df.height]"
   ]
  },
  {
   "cell_type": "markdown",
   "metadata": {},
   "source": [
    "### 文字列の数値化\n",
    "\n",
    "次にdf.cleansedHeightの値を数値化します．\n",
    "ただし，数値化できない値については<font color=green>None</font>で置き換えます．\n",
    "\n",
    "```Python\n",
    "df['height2'] = [float(x) if floatCheck.fullmatch(x) else None for x in df.cleansedHeight]\n",
    "```"
   ]
  },
  {
   "cell_type": "code",
   "execution_count": 17,
   "metadata": {
    "collapsed": true
   },
   "outputs": [],
   "source": [
    "df['height2'] = [float(x) if floatCheck.fullmatch(x) else None for x in df.cleansedHeight]"
   ]
  },
  {
   "cell_type": "markdown",
   "metadata": {},
   "source": [
    "### 不要な中間データの削除\n",
    "\n",
    "使用済みとなったdf.cleansedHeight列を削除します．\n",
    "列の削除には，drop()メソッドとdel命令の2通りの方法があります．\n",
    "ここでは<font color=green>drop()</font>メソッドによる方法で実施します．\n",
    "\n",
    "```Python\n",
    "df.drop('cleansedHeight',axis=1,inplace=True)\n",
    "```\n",
    "あるいは\n",
    "```Python\n",
    "del df['cleansedHeight']\n",
    "```"
   ]
  },
  {
   "cell_type": "code",
   "execution_count": 18,
   "metadata": {
    "collapsed": true
   },
   "outputs": [],
   "source": [
    "df.drop('cleansedHeight',axis=1,inplace=True)"
   ]
  },
  {
   "cell_type": "markdown",
   "metadata": {},
   "source": [
    "### クレンジング済み変量height2の確認\n",
    "\n",
    "これで身長データについてのクレンジングが終了したので，その結果を<font color=green>describe()</font>メソッドで確認します．\n",
    "\n",
    "```Python\n",
    "df.height2.describe()\n",
    "```"
   ]
  },
  {
   "cell_type": "code",
   "execution_count": 19,
   "metadata": {},
   "outputs": [
    {
     "data": {
      "text/plain": [
       "count     200.000000\n",
       "mean      169.107500\n",
       "std       103.481227\n",
       "min        77.300000\n",
       "25%       155.250000\n",
       "50%       162.350000\n",
       "75%       170.750000\n",
       "max      1609.000000\n",
       "Name: height2, dtype: float64"
      ]
     },
     "execution_count": 19,
     "metadata": {},
     "output_type": "execute_result"
    }
   ],
   "source": [
    "df.height2.describe()"
   ]
  },
  {
   "cell_type": "markdown",
   "metadata": {},
   "source": [
    "この出力により，200個の全てのデータが小数点付数になっていることが分かります．\n",
    "念のためにデータフレームの先頭の数行を表示します．\n",
    "新たにheight2という列が追加されていることが確認できます．"
   ]
  },
  {
   "cell_type": "code",
   "execution_count": 20,
   "metadata": {},
   "outputs": [
    {
     "data": {
      "text/html": [
       "<div>\n",
       "<style>\n",
       "    .dataframe thead tr:only-child th {\n",
       "        text-align: right;\n",
       "    }\n",
       "\n",
       "    .dataframe thead th {\n",
       "        text-align: left;\n",
       "    }\n",
       "\n",
       "    .dataframe tbody tr th {\n",
       "        vertical-align: top;\n",
       "    }\n",
       "</style>\n",
       "<table border=\"1\" class=\"dataframe\">\n",
       "  <thead>\n",
       "    <tr style=\"text-align: right;\">\n",
       "      <th></th>\n",
       "      <th>height</th>\n",
       "      <th>weight</th>\n",
       "      <th>age</th>\n",
       "      <th>gender</th>\n",
       "      <th>blood</th>\n",
       "      <th>height2</th>\n",
       "    </tr>\n",
       "    <tr>\n",
       "      <th>person</th>\n",
       "      <th></th>\n",
       "      <th></th>\n",
       "      <th></th>\n",
       "      <th></th>\n",
       "      <th></th>\n",
       "      <th></th>\n",
       "    </tr>\n",
       "  </thead>\n",
       "  <tbody>\n",
       "    <tr>\n",
       "      <th>p001</th>\n",
       "      <td>157.7</td>\n",
       "      <td>56.8</td>\n",
       "      <td>20</td>\n",
       "      <td>Male</td>\n",
       "      <td>B</td>\n",
       "      <td>157.7</td>\n",
       "    </tr>\n",
       "    <tr>\n",
       "      <th>p002</th>\n",
       "      <td>169.7</td>\n",
       "      <td>58.1</td>\n",
       "      <td>53</td>\n",
       "      <td>Female</td>\n",
       "      <td>A</td>\n",
       "      <td>169.7</td>\n",
       "    </tr>\n",
       "    <tr>\n",
       "      <th>p003</th>\n",
       "      <td>160.6</td>\n",
       "      <td>96.8</td>\n",
       "      <td>22</td>\n",
       "      <td>Male</td>\n",
       "      <td>O</td>\n",
       "      <td>160.6</td>\n",
       "    </tr>\n",
       "    <tr>\n",
       "      <th>p004</th>\n",
       "      <td>'155.8'</td>\n",
       "      <td></td>\n",
       "      <td></td>\n",
       "      <td>Female</td>\n",
       "      <td>O</td>\n",
       "      <td>155.8</td>\n",
       "    </tr>\n",
       "  </tbody>\n",
       "</table>\n",
       "</div>"
      ],
      "text/plain": [
       "         height weight age  gender blood  height2\n",
       "person                                           \n",
       "p001      157.7   56.8  20    Male     B    157.7\n",
       "p002      169.7   58.1  53  Female     A    169.7\n",
       "p003      160.6   96.8  22    Male     O    160.6\n",
       "p004    '155.8'             Female     O    155.8"
      ]
     },
     "execution_count": 20,
     "metadata": {},
     "output_type": "execute_result"
    }
   ],
   "source": [
    "df.head(4)"
   ]
  },
  {
   "cell_type": "markdown",
   "metadata": {},
   "source": [
    "ここでは，df.heightに対して別の列としてdf.height2を作成しました．\n",
    "これは元のデータとクレンジング済みのデータを比較するためです．\n",
    "実際には，オリジナルデータが別に保管されている前提で，df.heightを上書きする方が一般的です．\n",
    "\n",
    "これで，身長のデータについてのクレンジングは完了です．\n",
    "\n",
    "*****"
   ]
  }
 ],
 "metadata": {
  "kernelspec": {
   "display_name": "Python 3",
   "language": "python",
   "name": "python3"
  },
  "language_info": {
   "codemirror_mode": {
    "name": "ipython",
    "version": 3
   },
   "file_extension": ".py",
   "mimetype": "text/x-python",
   "name": "python",
   "nbconvert_exporter": "python",
   "pygments_lexer": "ipython3",
   "version": "3.6.1"
  }
 },
 "nbformat": 4,
 "nbformat_minor": 2
}
