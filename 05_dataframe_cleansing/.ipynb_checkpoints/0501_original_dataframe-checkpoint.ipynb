{
 "cells": [
  {
   "cell_type": "markdown",
   "metadata": {},
   "source": [
    "# Pandasデータフレームの用意\n",
    "\n",
    "ここからは，本格的に記述統計を行うデータを使用していきます．\n",
    "オリジナルデータは，CSVファイルで保管してあります．\n",
    "そのデータを読み込んで，PythonのPandasのデータフレームにします．\n",
    "そして，そのデータフレームに対して，クレンジングを行っていきます．"
   ]
  },
  {
   "cell_type": "markdown",
   "metadata": {},
   "source": [
    "## 重要なライブラリー\n",
    "\n",
    "データ分析において必需品と言えるライブラリーがあります．\n",
    "\n",
    "| ライブラリー | 特徴 |\n",
    "| :---:      |:---:|\n",
    "| re         | 正規表現 |\n",
    "| unicodedata| 全角半角文字の統一 |\n",
    "| NumPy      | 高機能の多次元配列演算 |\n",
    "| pandas     | データフレーム |\n",
    "| matplotlib | グラフ描画 |\n",
    "\n",
    "ここでは，これらのライブラリーを搬入して使用します．\n",
    "ライブラリーを使用するには，それらを<font color=green>import</font>文によって明示的に指定しなければなりません．\n",
    "import文の構文は次のようになります．\n",
    "\n",
    "> <font color=green>import</font> ライブラリー名 <font color=green>as</font> 別名\n",
    "\n",
    "コードセルの最初に次のように記載して実行します．\n",
    "なお，ここで記載した別名の np, pd, plt はPythonのプログラムでは慣用的に使用される名前です．\n",
    "正規表現のreライブラリーおよびunicodedataには別名は付けません．\n",
    "\n",
    "```Python\n",
    "import re\n",
    "import unicodedata\n",
    "import numpy as np\n",
    "import pandas as pd\n",
    "import matplotlib.pyplot as plt\n",
    "%matplotlib inline\n",
    "```"
   ]
  },
  {
   "cell_type": "code",
   "execution_count": 1,
   "metadata": {},
   "outputs": [],
   "source": [
    "import re\n",
    "import unicodedata\n",
    "import numpy as np\n",
    "import pandas as pd\n",
    "import matplotlib.pyplot as plt\n",
    "%matplotlib inline"
   ]
  },
  {
   "cell_type": "markdown",
   "metadata": {},
   "source": [
    "ここで，最後の一文「%matplotlib inline」ですが，プログラムをJupyter notebookで実行する場合に記載します．\n",
    "これはグラフをJupyter notebookの画面内に描画するための環境制御文です．\n",
    "\n",
    "また，これらのライブラリーを全て一律に搬入する必要はありません．\n",
    "必要な場合に対応するライブラリーのみを搬入してください．"
   ]
  },
  {
   "cell_type": "markdown",
   "metadata": {},
   "source": [
    "## CSVファイルからデータフレームの生成\n",
    "\n",
    "オリジナルのデータファイルは，original_body_data.csvというファイルにあります．\n",
    "このファイルからデータフレームを生成するには，pandasの<font color=green>read_csv()</font>関数を使用します．\n",
    "\n",
    "```Python\n",
    "df = pd.read_csv('original_body_data.csv')\n",
    "\n",
    "```"
   ]
  },
  {
   "cell_type": "code",
   "execution_count": 2,
   "metadata": {},
   "outputs": [],
   "source": [
    "df = pd.read_csv('original_body_data.csv')"
   ]
  },
  {
   "cell_type": "markdown",
   "metadata": {},
   "source": [
    "この命令文の実行結果で何もエラーが出ていないので，dfという変数名のデータフレームが生成されました．"
   ]
  },
  {
   "cell_type": "markdown",
   "metadata": {},
   "source": [
    "## データの確認\n",
    "\n",
    "まずはデータフレームの中身を確認します．\n",
    "この段階では，データ量についても不明なので，データ全体を表示するのは無謀です．\n",
    "データを確認するステップとして，最初はデータの形状と量を調べます．\n",
    "\n",
    "```Python\n",
    "df.shape\n",
    "```"
   ]
  },
  {
   "cell_type": "code",
   "execution_count": 3,
   "metadata": {},
   "outputs": [
    {
     "data": {
      "text/plain": [
       "(200, 6)"
      ]
     },
     "execution_count": 3,
     "metadata": {},
     "output_type": "execute_result"
    }
   ],
   "source": [
    "df.shape"
   ]
  },
  {
   "cell_type": "markdown",
   "metadata": {},
   "source": [
    "この出力を見るとデータフレームの構造は，200行×6列のデータであることが分かります．"
   ]
  },
  {
   "cell_type": "markdown",
   "metadata": {},
   "source": [
    "### 行インデックスの確認\n",
    "\n",
    "データの行のインデックスを確認します．\n",
    "データフレーム内の行数は<font color=green>index</font>属性によって参照することができます．\n",
    "\n",
    "```Python\n",
    "df.index\n",
    "```"
   ]
  },
  {
   "cell_type": "code",
   "execution_count": 4,
   "metadata": {},
   "outputs": [
    {
     "data": {
      "text/plain": [
       "RangeIndex(start=0, stop=200, step=1)"
      ]
     },
     "execution_count": 4,
     "metadata": {},
     "output_type": "execute_result"
    }
   ],
   "source": [
    "df.index"
   ]
  },
  {
   "cell_type": "markdown",
   "metadata": {},
   "source": [
    "この出力を見ると，インデックスは自動附番で，0から始まって200の直前で止まっています． \n",
    "ここで200の直前で止まっているという事は最後のインデックスは199であることに注意してください． \n",
    "この出力により，行数は200行であることが分かりました．"
   ]
  },
  {
   "cell_type": "markdown",
   "metadata": {},
   "source": [
    "### 列数とカラム名の確認\n",
    "\n",
    "次に列の種類を確認します．\n",
    "カラム名はcolumns属性によって参照することができます．\n",
    "\n",
    "````Python\n",
    "df.columns\n",
    "```"
   ]
  },
  {
   "cell_type": "code",
   "execution_count": 5,
   "metadata": {},
   "outputs": [
    {
     "data": {
      "text/plain": [
       "Index(['person', 'height', 'weight', 'age', 'gender', 'blood'], dtype='object')"
      ]
     },
     "execution_count": 5,
     "metadata": {},
     "output_type": "execute_result"
    }
   ],
   "source": [
    "df.columns"
   ]
  },
  {
   "cell_type": "markdown",
   "metadata": {},
   "source": [
    "この出力により，このデータフレームは6個の列で構成されていることが分かります．\n",
    "それぞれの列は次の名前で参照することができます．\n",
    "\n",
    "- person\n",
    "- height\n",
    "- weight\n",
    "- age\n",
    "- gender\n",
    "- blood"
   ]
  },
  {
   "cell_type": "markdown",
   "metadata": {},
   "source": [
    "### データの一瞥\n",
    "\n",
    "ここで，データフレームの内容について，最初の3行だけ眺めて見ましょう．\n",
    "インデックスは0から始まります．\n",
    "\n",
    "```Python\n",
    "df.head(3)\n",
    "```"
   ]
  },
  {
   "cell_type": "code",
   "execution_count": 6,
   "metadata": {},
   "outputs": [
    {
     "data": {
      "text/html": [
       "<div>\n",
       "<style scoped>\n",
       "    .dataframe tbody tr th:only-of-type {\n",
       "        vertical-align: middle;\n",
       "    }\n",
       "\n",
       "    .dataframe tbody tr th {\n",
       "        vertical-align: top;\n",
       "    }\n",
       "\n",
       "    .dataframe thead th {\n",
       "        text-align: right;\n",
       "    }\n",
       "</style>\n",
       "<table border=\"1\" class=\"dataframe\">\n",
       "  <thead>\n",
       "    <tr style=\"text-align: right;\">\n",
       "      <th></th>\n",
       "      <th>person</th>\n",
       "      <th>height</th>\n",
       "      <th>weight</th>\n",
       "      <th>age</th>\n",
       "      <th>gender</th>\n",
       "      <th>blood</th>\n",
       "    </tr>\n",
       "  </thead>\n",
       "  <tbody>\n",
       "    <tr>\n",
       "      <td>0</td>\n",
       "      <td>p001</td>\n",
       "      <td>157.7</td>\n",
       "      <td>56.8</td>\n",
       "      <td>20</td>\n",
       "      <td>Male</td>\n",
       "      <td>B</td>\n",
       "    </tr>\n",
       "    <tr>\n",
       "      <td>1</td>\n",
       "      <td>p002</td>\n",
       "      <td>169.7</td>\n",
       "      <td>58.1</td>\n",
       "      <td>53</td>\n",
       "      <td>Female</td>\n",
       "      <td>A</td>\n",
       "    </tr>\n",
       "    <tr>\n",
       "      <td>2</td>\n",
       "      <td>p003</td>\n",
       "      <td>160.6</td>\n",
       "      <td>96.8</td>\n",
       "      <td>22</td>\n",
       "      <td>Male</td>\n",
       "      <td>O</td>\n",
       "    </tr>\n",
       "  </tbody>\n",
       "</table>\n",
       "</div>"
      ],
      "text/plain": [
       "  person height weight age  gender blood\n",
       "0   p001  157.7   56.8  20    Male     B\n",
       "1   p002  169.7   58.1  53  Female     A\n",
       "2   p003  160.6   96.8  22    Male     O"
      ]
     },
     "execution_count": 6,
     "metadata": {},
     "output_type": "execute_result"
    }
   ],
   "source": [
    "df.head(3)"
   ]
  },
  {
   "cell_type": "markdown",
   "metadata": {},
   "source": [
    "念のために，最後の3行についても表示してみます．\n",
    "一番最後のインデックスは199となっています．\n",
    "\n",
    "```Python\n",
    "df.tail(3)\n",
    "```"
   ]
  },
  {
   "cell_type": "code",
   "execution_count": 7,
   "metadata": {},
   "outputs": [
    {
     "data": {
      "text/html": [
       "<div>\n",
       "<style scoped>\n",
       "    .dataframe tbody tr th:only-of-type {\n",
       "        vertical-align: middle;\n",
       "    }\n",
       "\n",
       "    .dataframe tbody tr th {\n",
       "        vertical-align: top;\n",
       "    }\n",
       "\n",
       "    .dataframe thead th {\n",
       "        text-align: right;\n",
       "    }\n",
       "</style>\n",
       "<table border=\"1\" class=\"dataframe\">\n",
       "  <thead>\n",
       "    <tr style=\"text-align: right;\">\n",
       "      <th></th>\n",
       "      <th>person</th>\n",
       "      <th>height</th>\n",
       "      <th>weight</th>\n",
       "      <th>age</th>\n",
       "      <th>gender</th>\n",
       "      <th>blood</th>\n",
       "    </tr>\n",
       "  </thead>\n",
       "  <tbody>\n",
       "    <tr>\n",
       "      <td>197</td>\n",
       "      <td>p198</td>\n",
       "      <td>165</td>\n",
       "      <td>58.7</td>\n",
       "      <td>40</td>\n",
       "      <td>Female</td>\n",
       "      <td>O</td>\n",
       "    </tr>\n",
       "    <tr>\n",
       "      <td>198</td>\n",
       "      <td>p199</td>\n",
       "      <td>184.5</td>\n",
       "      <td>92.8</td>\n",
       "      <td>37</td>\n",
       "      <td>Male</td>\n",
       "      <td>B</td>\n",
       "    </tr>\n",
       "    <tr>\n",
       "      <td>199</td>\n",
       "      <td>p200</td>\n",
       "      <td>173.9</td>\n",
       "      <td>97.7</td>\n",
       "      <td>55</td>\n",
       "      <td>Male</td>\n",
       "      <td>O</td>\n",
       "    </tr>\n",
       "  </tbody>\n",
       "</table>\n",
       "</div>"
      ],
      "text/plain": [
       "    person height weight age  gender blood\n",
       "197   p198    165   58.7  40  Female     O\n",
       "198   p199  184.5   92.8  37    Male     B\n",
       "199   p200  173.9   97.7  55    Male     O"
      ]
     },
     "execution_count": 7,
     "metadata": {},
     "output_type": "execute_result"
    }
   ],
   "source": [
    "df.tail(3)"
   ]
  },
  {
   "cell_type": "markdown",
   "metadata": {},
   "source": [
    "このようにデータの一部を見ることによって，データの外観を掴むことができます．"
   ]
  },
  {
   "cell_type": "markdown",
   "metadata": {},
   "source": [
    "### インデックスの設定\n",
    "\n",
    "単純にCSVファイルを取り込んだデータフレームには自動でインデックスが付いています．\n",
    "このインデックスは，0始まりの整数になっています．\n",
    "データフレームの先頭および末尾の表示から，このインデックスの値は，0,1,2,…,199 となっていることが分かります．\n",
    "\n",
    "しかし，このデータは変量personがキーになっている予定です．\n",
    "このpersonが全ての行でユニークならばデータフレームのインデックスとして設定できます．\n",
    "そこで，personの基本統計を確認します．\n",
    "\n",
    "```Python\n",
    "df.person.describe()\n",
    "```"
   ]
  },
  {
   "cell_type": "code",
   "execution_count": 8,
   "metadata": {
    "scrolled": true
   },
   "outputs": [
    {
     "data": {
      "text/plain": [
       "count      200\n",
       "unique     200\n",
       "top       p112\n",
       "freq         1\n",
       "Name: person, dtype: object"
      ]
     },
     "execution_count": 8,
     "metadata": {},
     "output_type": "execute_result"
    }
   ],
   "source": [
    "df.person.describe()"
   ]
  },
  {
   "cell_type": "markdown",
   "metadata": {},
   "source": [
    "この出力結果を見ると，personは全体で200個のデータがあり，その200個に重複がないことが分かります．\n",
    "また，データフレームの行数も200件でしたので，この値をインデックスとして設定できます．\n",
    "\n",
    "データフレームに恣意的にインデックスとして設定するには<font color=green>set_index()</font>メソッドを使用します．\n",
    "ここで，このデータフレーム自身を更新するためのオプションとして引数<font color=green>inplace=True</font>を記載します．\n",
    "この引数が無い場合は，新しいデータフレームを生成することになります．\n",
    "\n",
    "```Python\n",
    "df.set_index('person',inplace=True)\n",
    "```"
   ]
  },
  {
   "cell_type": "code",
   "execution_count": 9,
   "metadata": {},
   "outputs": [],
   "source": [
    "df.set_index('person',inplace=True)"
   ]
  },
  {
   "cell_type": "markdown",
   "metadata": {},
   "source": [
    "これによって変更されたデータフレームの先頭の数行を表示してみます．\n",
    "\n",
    "```Python\n",
    "df.head(3)\n",
    "```"
   ]
  },
  {
   "cell_type": "code",
   "execution_count": 10,
   "metadata": {},
   "outputs": [
    {
     "data": {
      "text/html": [
       "<div>\n",
       "<style scoped>\n",
       "    .dataframe tbody tr th:only-of-type {\n",
       "        vertical-align: middle;\n",
       "    }\n",
       "\n",
       "    .dataframe tbody tr th {\n",
       "        vertical-align: top;\n",
       "    }\n",
       "\n",
       "    .dataframe thead th {\n",
       "        text-align: right;\n",
       "    }\n",
       "</style>\n",
       "<table border=\"1\" class=\"dataframe\">\n",
       "  <thead>\n",
       "    <tr style=\"text-align: right;\">\n",
       "      <th></th>\n",
       "      <th>height</th>\n",
       "      <th>weight</th>\n",
       "      <th>age</th>\n",
       "      <th>gender</th>\n",
       "      <th>blood</th>\n",
       "    </tr>\n",
       "    <tr>\n",
       "      <th>person</th>\n",
       "      <th></th>\n",
       "      <th></th>\n",
       "      <th></th>\n",
       "      <th></th>\n",
       "      <th></th>\n",
       "    </tr>\n",
       "  </thead>\n",
       "  <tbody>\n",
       "    <tr>\n",
       "      <td>p001</td>\n",
       "      <td>157.7</td>\n",
       "      <td>56.8</td>\n",
       "      <td>20</td>\n",
       "      <td>Male</td>\n",
       "      <td>B</td>\n",
       "    </tr>\n",
       "    <tr>\n",
       "      <td>p002</td>\n",
       "      <td>169.7</td>\n",
       "      <td>58.1</td>\n",
       "      <td>53</td>\n",
       "      <td>Female</td>\n",
       "      <td>A</td>\n",
       "    </tr>\n",
       "    <tr>\n",
       "      <td>p003</td>\n",
       "      <td>160.6</td>\n",
       "      <td>96.8</td>\n",
       "      <td>22</td>\n",
       "      <td>Male</td>\n",
       "      <td>O</td>\n",
       "    </tr>\n",
       "  </tbody>\n",
       "</table>\n",
       "</div>"
      ],
      "text/plain": [
       "       height weight age  gender blood\n",
       "person                                \n",
       "p001    157.7   56.8  20    Male     B\n",
       "p002    169.7   58.1  53  Female     A\n",
       "p003    160.6   96.8  22    Male     O"
      ]
     },
     "execution_count": 10,
     "metadata": {},
     "output_type": "execute_result"
    }
   ],
   "source": [
    "df.head(3)"
   ]
  },
  {
   "cell_type": "markdown",
   "metadata": {},
   "source": [
    "このように，インデックスがpersonに変更されていることが確認できます．\n",
    "このようにインデックスを付けることによって，personに対する変量の値を明示的に指定することが可能となります．\n",
    "例えば，person='p002'の血液型は次のように参照できます．\n",
    "\n",
    "```Python\n",
    "df.blood['p002']\n",
    "```"
   ]
  },
  {
   "cell_type": "code",
   "execution_count": 11,
   "metadata": {},
   "outputs": [
    {
     "data": {
      "text/plain": [
       "'A'"
      ]
     },
     "execution_count": 11,
     "metadata": {},
     "output_type": "execute_result"
    }
   ],
   "source": [
    "df.blood['p002']"
   ]
  },
  {
   "cell_type": "markdown",
   "metadata": {
    "collapsed": true
   },
   "source": [
    "ここまでで，オリジナルデータのデータフレームが完了しました．\n",
    "\n",
    "このあとは，ここを起点としてクレンジングを進めていきます．\n",
    "\n",
    "***"
   ]
  }
 ],
 "metadata": {
  "kernelspec": {
   "display_name": "Python 3",
   "language": "python",
   "name": "python3"
  },
  "language_info": {
   "codemirror_mode": {
    "name": "ipython",
    "version": 3
   },
   "file_extension": ".py",
   "mimetype": "text/x-python",
   "name": "python",
   "nbconvert_exporter": "python",
   "pygments_lexer": "ipython3",
   "version": "3.7.4"
  }
 },
 "nbformat": 4,
 "nbformat_minor": 2
}
