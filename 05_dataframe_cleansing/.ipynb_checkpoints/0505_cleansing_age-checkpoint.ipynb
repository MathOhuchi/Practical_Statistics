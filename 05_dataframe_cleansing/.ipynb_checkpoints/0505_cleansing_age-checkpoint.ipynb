{
 "cells": [
  {
   "cell_type": "markdown",
   "metadata": {},
   "source": [
    "# 変量ageクレンジング\n",
    "\n",
    "変量ageについてクレンジングを実施します．\n",
    "これは変量heightやweightの場合と殆ど同じ処理となります．\n",
    "違いは小数点付数か整数かという事です．\n",
    "\n",
    "先ず，前提として次のプログラムを実施します．\n",
    "\n",
    "- ライブラリーの搬入\n",
    "- CSVファイルを読み込んでデータフレームを生成"
   ]
  },
  {
   "cell_type": "code",
   "execution_count": 1,
   "metadata": {},
   "outputs": [],
   "source": [
    "import re\n",
    "import unicodedata\n",
    "import pandas as pd"
   ]
  },
  {
   "cell_type": "code",
   "execution_count": 2,
   "metadata": {},
   "outputs": [],
   "source": [
    "df = pd.read_csv('original_body_data.csv')\n",
    "df.set_index('person',inplace=True)"
   ]
  },
  {
   "cell_type": "raw",
   "metadata": {
    "collapsed": true
   },
   "source": [
    "# マイナス記号がある場合のオプション\n",
    "minusSign = re.compile(r'[－−‐‒–—―ーｰ]')"
   ]
  },
  {
   "cell_type": "raw",
   "metadata": {
    "collapsed": true
   },
   "source": [
    "# 浮動小数点数の確認用正規表現\n",
    "floatCheck = re.compile(r'^\\s*([+-]?(\\d+\\.?\\d*|\\.\\d+))\\s*$')"
   ]
  },
  {
   "cell_type": "markdown",
   "metadata": {},
   "source": [
    "*****\n",
    "## データフレームの基礎情報\n",
    "\n",
    "まずはデータフレームの行数を確認します．\n",
    "そして，データフレームの一部を表示します．\n",
    "\n",
    "```Python\n",
    "df.head(5)\n",
    "```"
   ]
  },
  {
   "cell_type": "code",
   "execution_count": 3,
   "metadata": {},
   "outputs": [
    {
     "data": {
      "text/html": [
       "<div>\n",
       "<style scoped>\n",
       "    .dataframe tbody tr th:only-of-type {\n",
       "        vertical-align: middle;\n",
       "    }\n",
       "\n",
       "    .dataframe tbody tr th {\n",
       "        vertical-align: top;\n",
       "    }\n",
       "\n",
       "    .dataframe thead th {\n",
       "        text-align: right;\n",
       "    }\n",
       "</style>\n",
       "<table border=\"1\" class=\"dataframe\">\n",
       "  <thead>\n",
       "    <tr style=\"text-align: right;\">\n",
       "      <th></th>\n",
       "      <th>height</th>\n",
       "      <th>weight</th>\n",
       "      <th>age</th>\n",
       "      <th>gender</th>\n",
       "      <th>blood</th>\n",
       "    </tr>\n",
       "    <tr>\n",
       "      <th>person</th>\n",
       "      <th></th>\n",
       "      <th></th>\n",
       "      <th></th>\n",
       "      <th></th>\n",
       "      <th></th>\n",
       "    </tr>\n",
       "  </thead>\n",
       "  <tbody>\n",
       "    <tr>\n",
       "      <td>p001</td>\n",
       "      <td>157.7</td>\n",
       "      <td>56.8</td>\n",
       "      <td>20</td>\n",
       "      <td>Male</td>\n",
       "      <td>B</td>\n",
       "    </tr>\n",
       "    <tr>\n",
       "      <td>p002</td>\n",
       "      <td>169.7</td>\n",
       "      <td>58.1</td>\n",
       "      <td>53</td>\n",
       "      <td>Female</td>\n",
       "      <td>A</td>\n",
       "    </tr>\n",
       "    <tr>\n",
       "      <td>p003</td>\n",
       "      <td>160.6</td>\n",
       "      <td>96.8</td>\n",
       "      <td>22</td>\n",
       "      <td>Male</td>\n",
       "      <td>O</td>\n",
       "    </tr>\n",
       "    <tr>\n",
       "      <td>p004</td>\n",
       "      <td>'155.8'</td>\n",
       "      <td></td>\n",
       "      <td></td>\n",
       "      <td>Female</td>\n",
       "      <td>O</td>\n",
       "    </tr>\n",
       "    <tr>\n",
       "      <td>p005</td>\n",
       "      <td>115.5</td>\n",
       "      <td>22.5</td>\n",
       "      <td>7</td>\n",
       "      <td>Male</td>\n",
       "      <td>NaN</td>\n",
       "    </tr>\n",
       "  </tbody>\n",
       "</table>\n",
       "</div>"
      ],
      "text/plain": [
       "         height weight age  gender blood\n",
       "person                                  \n",
       "p001      157.7   56.8  20    Male     B\n",
       "p002      169.7   58.1  53  Female     A\n",
       "p003      160.6   96.8  22    Male     O\n",
       "p004    '155.8'             Female     O\n",
       "p005      115.5   22.5   7    Male   NaN"
      ]
     },
     "execution_count": 3,
     "metadata": {},
     "output_type": "execute_result"
    }
   ],
   "source": [
    "df.head(5)"
   ]
  },
  {
   "cell_type": "markdown",
   "metadata": {},
   "source": [
    "*****\n",
    "## 変量ageの概要\n",
    "\n",
    "変量の概要は<font color=green>describe()</font>メソッドを発行することによって得ることができます．\n",
    "\n",
    "```Python\n",
    "df.age.describe()\n",
    "```"
   ]
  },
  {
   "cell_type": "code",
   "execution_count": 4,
   "metadata": {
    "scrolled": true
   },
   "outputs": [
    {
     "data": {
      "text/plain": [
       "count     197\n",
       "unique     68\n",
       "top        23\n",
       "freq        7\n",
       "Name: age, dtype: object"
      ]
     },
     "execution_count": 4,
     "metadata": {},
     "output_type": "execute_result"
    }
   ],
   "source": [
    "df.age.describe()"
   ]
  },
  {
   "cell_type": "markdown",
   "metadata": {},
   "source": [
    "describe()メソッドの出力の最後の行に注目します．\n",
    "\n",
    ">  \n",
    "```\n",
    "Name: age, dtype: object\n",
    "```\n",
    "\n",
    "これは，df.ageの各データのデータ型がobject型であることを示しています．\n",
    "各要素のデータ型を調べるために，リスト内包表記とtype()関数を組み合わせます．そして，その結果をset()関数で重複を除いたデータ型の取得します．\n",
    "\n",
    "```Python\n",
    "set([type(x) for x in df.age])\n",
    "```"
   ]
  },
  {
   "cell_type": "code",
   "execution_count": 5,
   "metadata": {
    "scrolled": true
   },
   "outputs": [
    {
     "data": {
      "text/plain": [
       "{float, str}"
      ]
     },
     "execution_count": 5,
     "metadata": {},
     "output_type": "execute_result"
    }
   ],
   "source": [
    "set([type(x) for x in df.age])"
   ]
  },
  {
   "cell_type": "markdown",
   "metadata": {},
   "source": [
    "df.ageの各要素はstr型とfloat型が混在していることが分かりました．\n",
    "そこで，float型のデータの値を確認します．\n",
    "\n",
    "```Python\n",
    "[x for x in df.age if type(x)==float]\n",
    "```"
   ]
  },
  {
   "cell_type": "code",
   "execution_count": 6,
   "metadata": {},
   "outputs": [
    {
     "data": {
      "text/plain": [
       "[nan, nan, nan]"
      ]
     },
     "execution_count": 6,
     "metadata": {},
     "output_type": "execute_result"
    }
   ],
   "source": [
    "[x for x in df.age if type(x)==float]"
   ]
  },
  {
   "cell_type": "markdown",
   "metadata": {},
   "source": [
    "この出力を見ると欠損値が3ヶ所あり，そこがfloat型であることが分かります．\n",
    "\n",
    "この先の数値化処理では，この欠損値はそのまま残していきます．"
   ]
  },
  {
   "cell_type": "markdown",
   "metadata": {},
   "source": [
    "## 数値化の可能性の確認\n",
    "\n",
    "df.ageの各要素である文字列が小数点付数として数値化可能であるかを確認する必要があります．\n",
    "\n",
    "もし確認なしで数値への変換を<font color=green>int()</font>関数で実施したらどうなるかテストします．\n",
    "まずは，df.ageの最初のデータだけを数値化してみます\n",
    "\n",
    "```Python\n",
    "int(df.age[0])\n",
    "```"
   ]
  },
  {
   "cell_type": "code",
   "execution_count": 7,
   "metadata": {},
   "outputs": [
    {
     "data": {
      "text/plain": [
       "20"
      ]
     },
     "execution_count": 7,
     "metadata": {},
     "output_type": "execute_result"
    }
   ],
   "source": [
    "int(df.age[0])"
   ]
  },
  {
   "cell_type": "markdown",
   "metadata": {},
   "source": [
    "このように数値化が成功しました．\n",
    "そこで，リスト内包表記を使って，df.ageのデータ全ての数値化を試みます．\n",
    "エラーが起こることを想定して実施するので，この処理を<font color=green>try:</font>ブロックで実施してエラーが発生した場合は例外処理でエラー内容をプリントするようにします．\n",
    "\n",
    "```Python\n",
    "try:\n",
    "    [int(x) for x in df.age if type(x)==str]\n",
    "except ValueError as err:\n",
    "    print(err)\n",
    "```"
   ]
  },
  {
   "cell_type": "code",
   "execution_count": 8,
   "metadata": {},
   "outputs": [
    {
     "name": "stdout",
     "output_type": "stream",
     "text": [
      "invalid literal for int() with base 10: ' '\n"
     ]
    }
   ],
   "source": [
    "try:\n",
    "    [int(x) for x in df.age if type(x)==str]\n",
    "except ValueError as err:\n",
    "    print(err)"
   ]
  },
  {
   "cell_type": "markdown",
   "metadata": {},
   "source": [
    "途中で数値化できない文字列がありエラーが発生しました．\n",
    "ここで発生したエラーは，数値化できない空白文字をint()関数に渡したために起こったものです．\n",
    "プログラムの処理はここで中断して例外処理になり，エラーメッセージを出力しました．\n",
    "\n",
    "他にも数値化できないデータがあるかもしれませんので，<font color=green>isdecimal()</font>関数によって，数値化できないデータをリストアップします．\n",
    "\n",
    "```Python\n",
    "[x for x in df.age if type(x)==str and not x.isdecimal()]\n",
    "```"
   ]
  },
  {
   "cell_type": "code",
   "execution_count": 9,
   "metadata": {},
   "outputs": [
    {
     "data": {
      "text/plain": [
       "[' ', ' 39 ', '50 ', '\\u3000３９\\u3000']"
      ]
     },
     "execution_count": 9,
     "metadata": {},
     "output_type": "execute_result"
    }
   ],
   "source": [
    "[x for x in df.age if type(x)==str and not x.isdecimal()]"
   ]
  },
  {
   "cell_type": "markdown",
   "metadata": {},
   "source": [
    "この結果で，クレンジング対象となるデータが判明しました．\n",
    "これらのデータを綺麗にするように処理を進めていきます．\n",
    "この数値化できないデータを観察すると，次の事が課題であると思われます．\n",
    "\n",
    "- 値が空白文字だけ\n",
    "- 数字の前後に空白文字がある\n",
    "- 全角で数字と空白が記載されている\n",
    "\n",
    "これらを解消するようにクレンジングを実施していきます．"
   ]
  },
  {
   "cell_type": "markdown",
   "metadata": {},
   "source": [
    "## 全角から半角への変換\n",
    "\n",
    "データ「&yen;u3000３９&yen;u3000」について，全角を半角に変換した後にシングルクォーテーションおよび空白を除去します．\n",
    "\n",
    "```Python\n",
    "unicodedata.normalize('NFKC','\\u3000３９\\u3000').strip(\"'\").strip()\n",
    "```"
   ]
  },
  {
   "cell_type": "code",
   "execution_count": 10,
   "metadata": {},
   "outputs": [
    {
     "data": {
      "text/plain": [
       "'39'"
      ]
     },
     "execution_count": 10,
     "metadata": {},
     "output_type": "execute_result"
    }
   ],
   "source": [
    "unicodedata.normalize('NFKC','\\u3000３９\\u3000').strip(\"'\").strip()"
   ]
  },
  {
   "cell_type": "markdown",
   "metadata": {},
   "source": [
    "この操作をdf.ageの全データに適用し，その結果として数値化できないデータを表示します．\n",
    "\n",
    "```Python\n",
    "[x for x in df.age if type(x)==str and not unicodedata.normalize('NFKC',x).strip(\"'\").strip().isdecimal() ]\n",
    "```"
   ]
  },
  {
   "cell_type": "code",
   "execution_count": 11,
   "metadata": {},
   "outputs": [
    {
     "data": {
      "text/plain": [
       "[' ']"
      ]
     },
     "execution_count": 11,
     "metadata": {},
     "output_type": "execute_result"
    }
   ],
   "source": [
    "[x for x in df.age if type(x)==str and not unicodedata.normalize('NFKC',x).strip(\"'\").strip().isdecimal() ]"
   ]
  },
  {
   "cell_type": "markdown",
   "metadata": {},
   "source": [
    "これで，df.ageの値で空白文字以外は全て数値化可能になります．\n",
    "df.age['p004']を例にとって，この値に対してクレンジングして数値化するプロセスを単純なコードで書くと次のようになります．\n",
    "このdf.age['p004']の値は空白文字になっています．\n",
    "\n",
    "```Python\n",
    "cleansedValue = unicodedata.normalize('NFKC',df.age['p004'])\n",
    "if cleansedValue.isdecimal():\n",
    "    intValue = int(cleansedValue)\n",
    "else:\n",
    "    intValue = None\n",
    "print(intValue)\n",
    "```"
   ]
  },
  {
   "cell_type": "code",
   "execution_count": 12,
   "metadata": {},
   "outputs": [
    {
     "name": "stdout",
     "output_type": "stream",
     "text": [
      "None\n"
     ]
    }
   ],
   "source": [
    "cleansedValue = unicodedata.normalize('NFKC',df.age['p004'])\n",
    "if cleansedValue.isdecimal():\n",
    "    intValue = int(cleansedValue)\n",
    "else:\n",
    "    intValue = None\n",
    "print(intValue)"
   ]
  },
  {
   "cell_type": "markdown",
   "metadata": {},
   "source": [
    "これは処理を分かりやすく書いたものです．\n",
    "実際は，もっとコンパクトなプログラムになります．"
   ]
  },
  {
   "cell_type": "markdown",
   "metadata": {},
   "source": [
    "## データフレームでの処理\n",
    "\n",
    "ここまでdf.ageを取り出してリスト配列としてクレンジング処理を行ってきましたが，実際にはデータフレームの更新作業となります．\n",
    "よって，データフレーム内でのクレンジングを行うプログラムを作成します．\n",
    "この処理は次のステップで行います．\n",
    "\n",
    "- 全角半角変換を行いシングルクォーテーションと空白文字を除去したデータを新たにcleansedAgeという列に格納する．\n",
    "- cleansedAgeの値を数値化したデータを新たにage2という列に格納する．\n",
    "- 列cleansedAgeを削除する．\n",
    "\n",
    "この処理では文字列を綺麗にした中間データを作成することによって，プログラムが複雑になることを避けています．"
   ]
  },
  {
   "cell_type": "markdown",
   "metadata": {},
   "source": [
    "### 文字列の整形\n",
    "\n",
    "まず，df.ageの値を文字列として綺麗な形に整えます．\n",
    "その結果は新しい列cleansedAgeとしてデータフレームに追加します．\n",
    "\n",
    "```Python\n",
    "df['cleansedAge'] = [unicodedata.normalize('NFKC',x).strip(\"'\").strip() if type(x)==str else x for x in df.age]\n",
    "```"
   ]
  },
  {
   "cell_type": "code",
   "execution_count": 13,
   "metadata": {},
   "outputs": [],
   "source": [
    "df['cleansedAge'] = [unicodedata.normalize('NFKC',x).strip(\"'\").strip() if type(x)==str else x for x in df.age]"
   ]
  },
  {
   "cell_type": "markdown",
   "metadata": {},
   "source": [
    "### 文字列の数値化\n",
    "\n",
    "次にdf.cleansedAgeの値を数値化します．\n",
    "ただし，数値化できない値については<font color=green>None</font>で置き換えます．\n",
    "\n",
    "```Python\n",
    "df['age2'] = [int(x) if type(x)==str and x.isdecimal() else None for x in df.cleansedAge]\n",
    "```"
   ]
  },
  {
   "cell_type": "code",
   "execution_count": 14,
   "metadata": {},
   "outputs": [],
   "source": [
    "df['age2'] = [int(x) if type(x)==str and x.isdecimal() else None for x in df.cleansedAge]"
   ]
  },
  {
   "cell_type": "markdown",
   "metadata": {},
   "source": [
    "### 不要な中間データの削除\n",
    "\n",
    "使用済みとなったdf.cleansedAge列を削除します．\n",
    "列の削除には，drop()メソッドとdel命令の2通りの方法があります．\n",
    "ここでは<font color=green>drop()</font>メソッドによる方法で実施します．\n",
    "\n",
    "```Python\n",
    "df.drop('cleansedAge',axis=1,inplace=True)\n",
    "```"
   ]
  },
  {
   "cell_type": "code",
   "execution_count": 15,
   "metadata": {},
   "outputs": [],
   "source": [
    "df.drop('cleansedAge',axis=1,inplace=True)"
   ]
  },
  {
   "cell_type": "markdown",
   "metadata": {},
   "source": [
    "### クレンジング済み変量age2の確認\n",
    "\n",
    "これで年齢データについてのクレンジングが終了したので，その結果を<font color=green>describe()</font>メソッドで確認します．\n",
    "\n",
    "```Python\n",
    "df.age2.describe()\n",
    "```"
   ]
  },
  {
   "cell_type": "code",
   "execution_count": 16,
   "metadata": {},
   "outputs": [
    {
     "data": {
      "text/plain": [
       "count    196.000000\n",
       "mean      40.066327\n",
       "std       16.338744\n",
       "min        1.000000\n",
       "25%       29.000000\n",
       "50%       39.500000\n",
       "75%       52.250000\n",
       "max       79.000000\n",
       "Name: age2, dtype: float64"
      ]
     },
     "execution_count": 16,
     "metadata": {},
     "output_type": "execute_result"
    }
   ],
   "source": [
    "df.age2.describe()"
   ]
  },
  {
   "cell_type": "markdown",
   "metadata": {},
   "source": [
    "この出力により，196個の全てのデータが小数点付数になっていることが分かります．\n",
    "行数は200行でしたので，残りのデータは数値として値が入っていない欠損値になっています．\n",
    "またデータ型がint型ではなく，float型になっています．\n",
    "これは，値の中に欠損値があり，これがfloat型あるため全体がfloat型に統一されるためです．\n",
    "\n",
    "念のためにデータフレームの先頭の数行を表示します．\n",
    "新たにage2という列が追加されていることが確認できます．\n",
    "\n",
    "```Python\n",
    "df.head(4)\n",
    "```"
   ]
  },
  {
   "cell_type": "code",
   "execution_count": 17,
   "metadata": {
    "scrolled": true
   },
   "outputs": [
    {
     "data": {
      "text/html": [
       "<div>\n",
       "<style scoped>\n",
       "    .dataframe tbody tr th:only-of-type {\n",
       "        vertical-align: middle;\n",
       "    }\n",
       "\n",
       "    .dataframe tbody tr th {\n",
       "        vertical-align: top;\n",
       "    }\n",
       "\n",
       "    .dataframe thead th {\n",
       "        text-align: right;\n",
       "    }\n",
       "</style>\n",
       "<table border=\"1\" class=\"dataframe\">\n",
       "  <thead>\n",
       "    <tr style=\"text-align: right;\">\n",
       "      <th></th>\n",
       "      <th>height</th>\n",
       "      <th>weight</th>\n",
       "      <th>age</th>\n",
       "      <th>gender</th>\n",
       "      <th>blood</th>\n",
       "      <th>age2</th>\n",
       "    </tr>\n",
       "    <tr>\n",
       "      <th>person</th>\n",
       "      <th></th>\n",
       "      <th></th>\n",
       "      <th></th>\n",
       "      <th></th>\n",
       "      <th></th>\n",
       "      <th></th>\n",
       "    </tr>\n",
       "  </thead>\n",
       "  <tbody>\n",
       "    <tr>\n",
       "      <td>p001</td>\n",
       "      <td>157.7</td>\n",
       "      <td>56.8</td>\n",
       "      <td>20</td>\n",
       "      <td>Male</td>\n",
       "      <td>B</td>\n",
       "      <td>20.0</td>\n",
       "    </tr>\n",
       "    <tr>\n",
       "      <td>p002</td>\n",
       "      <td>169.7</td>\n",
       "      <td>58.1</td>\n",
       "      <td>53</td>\n",
       "      <td>Female</td>\n",
       "      <td>A</td>\n",
       "      <td>53.0</td>\n",
       "    </tr>\n",
       "    <tr>\n",
       "      <td>p003</td>\n",
       "      <td>160.6</td>\n",
       "      <td>96.8</td>\n",
       "      <td>22</td>\n",
       "      <td>Male</td>\n",
       "      <td>O</td>\n",
       "      <td>22.0</td>\n",
       "    </tr>\n",
       "    <tr>\n",
       "      <td>p004</td>\n",
       "      <td>'155.8'</td>\n",
       "      <td></td>\n",
       "      <td></td>\n",
       "      <td>Female</td>\n",
       "      <td>O</td>\n",
       "      <td>NaN</td>\n",
       "    </tr>\n",
       "  </tbody>\n",
       "</table>\n",
       "</div>"
      ],
      "text/plain": [
       "         height weight age  gender blood  age2\n",
       "person                                        \n",
       "p001      157.7   56.8  20    Male     B  20.0\n",
       "p002      169.7   58.1  53  Female     A  53.0\n",
       "p003      160.6   96.8  22    Male     O  22.0\n",
       "p004    '155.8'             Female     O   NaN"
      ]
     },
     "execution_count": 17,
     "metadata": {},
     "output_type": "execute_result"
    }
   ],
   "source": [
    "df.head(4)"
   ]
  },
  {
   "cell_type": "markdown",
   "metadata": {},
   "source": [
    "これで，年齢のデータについてのクレンジングは完了です．\n",
    "\n",
    "*****"
   ]
  }
 ],
 "metadata": {
  "kernelspec": {
   "display_name": "Python 3",
   "language": "python",
   "name": "python3"
  },
  "language_info": {
   "codemirror_mode": {
    "name": "ipython",
    "version": 3
   },
   "file_extension": ".py",
   "mimetype": "text/x-python",
   "name": "python",
   "nbconvert_exporter": "python",
   "pygments_lexer": "ipython3",
   "version": "3.7.4"
  }
 },
 "nbformat": 4,
 "nbformat_minor": 2
}
