{
 "cells": [
  {
   "cell_type": "markdown",
   "metadata": {},
   "source": [
    "# 変量weightのクレンジング\n",
    "\n",
    "変量weightについてクレンジングを実施します．\n",
    "これは変量heightの場合と殆ど同じ処理となります．\n",
    "\n",
    "先ず，前提として次のプログラムを実施します．\n",
    "\n",
    "- ライブラリーの搬入\n",
    "- CSVファイルを読み込んでデータフレームを生成\n",
    "- 全角半角変換ツールの準備\n",
    "- 小数点付数を判別する正規表現のコンパイル\n"
   ]
  },
  {
   "cell_type": "code",
   "execution_count": 1,
   "metadata": {
    "collapsed": true
   },
   "outputs": [],
   "source": [
    "import re\n",
    "import unicodedata\n",
    "import pandas as pd"
   ]
  },
  {
   "cell_type": "code",
   "execution_count": 2,
   "metadata": {
    "collapsed": true
   },
   "outputs": [],
   "source": [
    "df = pd.read_csv('original_body_data.csv')\n",
    "df.set_index('person',inplace=True)"
   ]
  },
  {
   "cell_type": "raw",
   "metadata": {
    "collapsed": true
   },
   "source": [
    "# マイナス記号がある場合のオプション\n",
    "d2s = {'‐':'-','―':'-','ー':'-'}\n",
    "doubleToSingle = str.maketrans(d2s)"
   ]
  },
  {
   "cell_type": "code",
   "execution_count": 3,
   "metadata": {
    "collapsed": true
   },
   "outputs": [],
   "source": [
    "floatCheck = re.compile(r'^\\s*([+-]?(\\d+\\.?\\d*|\\.\\d+))\\s*$')"
   ]
  },
  {
   "cell_type": "markdown",
   "metadata": {},
   "source": [
    "*****\n",
    "## データフレームの基礎情報\n",
    "\n",
    "まずはデータフレームの行数を確認します．\n",
    "そして，データフレームの一部を表示します．\n",
    "\n",
    "```Python\n",
    "len(df)\n",
    "df.head(5)\n",
    "```"
   ]
  },
  {
   "cell_type": "code",
   "execution_count": 4,
   "metadata": {},
   "outputs": [
    {
     "data": {
      "text/plain": [
       "200"
      ]
     },
     "execution_count": 4,
     "metadata": {},
     "output_type": "execute_result"
    }
   ],
   "source": [
    "len(df)"
   ]
  },
  {
   "cell_type": "code",
   "execution_count": 5,
   "metadata": {},
   "outputs": [
    {
     "data": {
      "text/html": [
       "<div>\n",
       "<style>\n",
       "    .dataframe thead tr:only-child th {\n",
       "        text-align: right;\n",
       "    }\n",
       "\n",
       "    .dataframe thead th {\n",
       "        text-align: left;\n",
       "    }\n",
       "\n",
       "    .dataframe tbody tr th {\n",
       "        vertical-align: top;\n",
       "    }\n",
       "</style>\n",
       "<table border=\"1\" class=\"dataframe\">\n",
       "  <thead>\n",
       "    <tr style=\"text-align: right;\">\n",
       "      <th></th>\n",
       "      <th>height</th>\n",
       "      <th>weight</th>\n",
       "      <th>age</th>\n",
       "      <th>gender</th>\n",
       "      <th>blood</th>\n",
       "    </tr>\n",
       "    <tr>\n",
       "      <th>person</th>\n",
       "      <th></th>\n",
       "      <th></th>\n",
       "      <th></th>\n",
       "      <th></th>\n",
       "      <th></th>\n",
       "    </tr>\n",
       "  </thead>\n",
       "  <tbody>\n",
       "    <tr>\n",
       "      <th>p001</th>\n",
       "      <td>157.7</td>\n",
       "      <td>56.8</td>\n",
       "      <td>20</td>\n",
       "      <td>Male</td>\n",
       "      <td>B</td>\n",
       "    </tr>\n",
       "    <tr>\n",
       "      <th>p002</th>\n",
       "      <td>169.7</td>\n",
       "      <td>58.1</td>\n",
       "      <td>53</td>\n",
       "      <td>Female</td>\n",
       "      <td>A</td>\n",
       "    </tr>\n",
       "    <tr>\n",
       "      <th>p003</th>\n",
       "      <td>160.6</td>\n",
       "      <td>96.8</td>\n",
       "      <td>22</td>\n",
       "      <td>Male</td>\n",
       "      <td>O</td>\n",
       "    </tr>\n",
       "    <tr>\n",
       "      <th>p004</th>\n",
       "      <td>'155.8'</td>\n",
       "      <td></td>\n",
       "      <td></td>\n",
       "      <td>Female</td>\n",
       "      <td>O</td>\n",
       "    </tr>\n",
       "    <tr>\n",
       "      <th>p005</th>\n",
       "      <td>115.5</td>\n",
       "      <td>22.5</td>\n",
       "      <td>7</td>\n",
       "      <td>Male</td>\n",
       "      <td>NaN</td>\n",
       "    </tr>\n",
       "  </tbody>\n",
       "</table>\n",
       "</div>"
      ],
      "text/plain": [
       "         height weight age  gender blood\n",
       "person                                  \n",
       "p001      157.7   56.8  20    Male     B\n",
       "p002      169.7   58.1  53  Female     A\n",
       "p003      160.6   96.8  22    Male     O\n",
       "p004    '155.8'             Female     O\n",
       "p005      115.5   22.5   7    Male   NaN"
      ]
     },
     "execution_count": 5,
     "metadata": {},
     "output_type": "execute_result"
    }
   ],
   "source": [
    "df.head(5)"
   ]
  },
  {
   "cell_type": "markdown",
   "metadata": {},
   "source": [
    "*****\n",
    "## 変量weightの概要\n",
    "\n",
    "変量の概要は<font color=green>describe()</font>メソッドを発行することによって得ることができます．\n",
    "\n",
    "```Python\n",
    "df.weight.describe()\n",
    "```"
   ]
  },
  {
   "cell_type": "code",
   "execution_count": 6,
   "metadata": {
    "scrolled": true
   },
   "outputs": [
    {
     "data": {
      "text/plain": [
       "count     199\n",
       "unique    175\n",
       "top        77\n",
       "freq        3\n",
       "Name: weight, dtype: object"
      ]
     },
     "execution_count": 6,
     "metadata": {},
     "output_type": "execute_result"
    }
   ],
   "source": [
    "df.weight.describe()"
   ]
  },
  {
   "cell_type": "markdown",
   "metadata": {},
   "source": [
    "describe()メソッドの出力の最後の行に注目します．\n",
    "\n",
    "> \n",
    "```\n",
    "Name: weight, dtype: object\n",
    "```\n",
    "\n",
    "これは，df.weightの各データのデータ型がobject型であることを示しています．\n",
    "各要素のデータ型を調べるために，リスト内包表記とtype()関数を組み合わせます．そして，その結果をset()関数で重複を除いたデータ型の取得します．\n",
    "\n",
    "```Python\n",
    "set([type(x) for x in df.weight])\n",
    "```"
   ]
  },
  {
   "cell_type": "code",
   "execution_count": 7,
   "metadata": {},
   "outputs": [
    {
     "data": {
      "text/plain": [
       "{str, float}"
      ]
     },
     "execution_count": 7,
     "metadata": {},
     "output_type": "execute_result"
    }
   ],
   "source": [
    "set([type(x) for x in df.weight])"
   ]
  },
  {
   "cell_type": "markdown",
   "metadata": {},
   "source": [
    "df.weightの各要素はstr型とfloat型が混在する事が分かりました．"
   ]
  },
  {
   "cell_type": "markdown",
   "metadata": {},
   "source": [
    "## float型のデータは何か\n",
    "\n",
    "文字型は数値への変換が必要なのでクレンジングを行ってから数値化しますが，\n",
    "元々float型になっているデータについては変換は不要となります．\n",
    "\n",
    "しかし元々float型のデータについては，その値を確認しておく必要があります．\n",
    "そこで元々float型のデータだけをリスト内包表記を用いてい抜き出します．\n",
    "\n",
    "```Python\n",
    "[x for x in df.weight if type(x)==float]\n",
    "```"
   ]
  },
  {
   "cell_type": "code",
   "execution_count": 8,
   "metadata": {},
   "outputs": [
    {
     "data": {
      "text/plain": [
       "[nan]"
      ]
     },
     "execution_count": 8,
     "metadata": {},
     "output_type": "execute_result"
    }
   ],
   "source": [
    "[x for x in df.weight if type(x)==float]"
   ]
  },
  {
   "cell_type": "markdown",
   "metadata": {},
   "source": [
    "nanは欠損値です．\n",
    "すなわち，このデータでfloat型のデータは欠損値nanだったことが分かりました．\n",
    "\n",
    "この後のクレンジング処理では欠損値は何もせずに残すこととします．"
   ]
  },
  {
   "cell_type": "markdown",
   "metadata": {},
   "source": [
    "## 数値化の可能性の確認\n",
    "\n",
    "df.weightの各要素である文字列が小数点付数として数値化可能であるかを確認する必要があります．\n",
    "\n",
    "もし確認なしで数値への変換を<font color=green>float()</font>関数で実施したらどうなるかテストします．\n",
    "まずは，df.weightの最初のデータだけを数値化してみます\n",
    "\n",
    "```Python\n",
    "float(df.weight[0])\n",
    "```"
   ]
  },
  {
   "cell_type": "code",
   "execution_count": 9,
   "metadata": {},
   "outputs": [
    {
     "data": {
      "text/plain": [
       "56.8"
      ]
     },
     "execution_count": 9,
     "metadata": {},
     "output_type": "execute_result"
    }
   ],
   "source": [
    "float(df.weight[0])"
   ]
  },
  {
   "cell_type": "markdown",
   "metadata": {},
   "source": [
    "このように数値化が成功しました．\n",
    "そこで，リスト内包表記を使って，df.weightのデータ全ての数値化を試みます．\n",
    "エラーが起こることを想定して実施するので，この処理を<font color=green>try:</font>ブロックで実施してエラーが発生した場合は例外処理でエラー内容を表示します．\n",
    "\n",
    "```Python\n",
    "try:\n",
    "    [float(x) for x in df.weight if type(x)==str]\n",
    "except ValueError as err:\n",
    "    print(err)\n",
    "```"
   ]
  },
  {
   "cell_type": "code",
   "execution_count": 10,
   "metadata": {},
   "outputs": [
    {
     "name": "stdout",
     "output_type": "stream",
     "text": [
      "could not convert string to float: \n"
     ]
    }
   ],
   "source": [
    "try:\n",
    "    [float(x) for x in df.weight if type(x)==str]\n",
    "except ValueError as err:\n",
    "    print(err)"
   ]
  },
  {
   "cell_type": "markdown",
   "metadata": {},
   "source": [
    "途中で数値化できない文字列がありエラーが発生しました．\n",
    "ここで発生したエラーは，数値化できない空白文字をfloat()関数に渡したために起こったものです．\n",
    "プログラムの処理はここで中断して例外処理になり，エラーメッセージを出力しました．\n",
    "\n",
    "他にも数値化できないデータがあるかもしれませんので，<font color=green>floatCheck.match()</font>関数によって，数値化できないデータをリストアップします．\n",
    "\n",
    "```Python\n",
    "[x for x in df.weight if type(x)==str and not floatCheck.fullmatch(x)]\n",
    "```"
   ]
  },
  {
   "cell_type": "code",
   "execution_count": 11,
   "metadata": {},
   "outputs": [
    {
     "data": {
      "text/plain": [
       "[' ', \"' 67.7 '\", \"'７４．８'\"]"
      ]
     },
     "execution_count": 11,
     "metadata": {},
     "output_type": "execute_result"
    }
   ],
   "source": [
    "[x for x in df.weight if type(x)==str and not floatCheck.fullmatch(x)]"
   ]
  },
  {
   "cell_type": "markdown",
   "metadata": {},
   "source": [
    "この結果で，クレンジング対象となるデータが判明しました．\n",
    "これらのデータを綺麗にするように処理を進めていきます．\n",
    "この数値化できないデータを観察すると，次の事が課題であると思われます．\n",
    "\n",
    "- 値が空白文字だけ\n",
    "- 文字列がシングルクォーテーション「'」で囲われている\n",
    "- 数字の前後に空白文字がある\n",
    "- 全角で小数点付数が記載されている\n",
    "\n",
    "これらを解消するようにクレンジングを実施していきます．"
   ]
  },
  {
   "cell_type": "markdown",
   "metadata": {},
   "source": [
    "## シングルクォーテーションの削除\n",
    "\n",
    "文字列がシングルクォーテーションで囲われているので，これを<font color=green>strip()</font>メソッドで削除します．\n",
    "この操作をdf.weightの全てのデータについて適用します．\n",
    "その結果として，数値化できないデータを表示します．\n",
    "\n",
    "```Python\n",
    "[x for x in df.weight if type(x)==str and not floatCheck.fullmatch(x.strip(\"'\"))]\n",
    "```"
   ]
  },
  {
   "cell_type": "code",
   "execution_count": 12,
   "metadata": {},
   "outputs": [
    {
     "data": {
      "text/plain": [
       "[' ', \"'７４．８'\"]"
      ]
     },
     "execution_count": 12,
     "metadata": {},
     "output_type": "execute_result"
    }
   ],
   "source": [
    "[x for x in df.weight if type(x)==str and not floatCheck.fullmatch(x.strip(\"'\"))]"
   ]
  },
  {
   "cell_type": "markdown",
   "metadata": {},
   "source": [
    "シングルクォーテーションを除去した後でも数値化できないデータは「' ', \"'７４．８'\"」となりました．"
   ]
  },
  {
   "cell_type": "markdown",
   "metadata": {},
   "source": [
    "## 全角から半角への変換\n",
    "\n",
    "データ「'７４．８'」について，シングルクォーテーションを除去した後に全角文字を半角に変換します．\n",
    "\n",
    "```Python\n",
    "\"'７４．８'\".strip(\"'\").translate(doubleToSingle)\n",
    "```"
   ]
  },
  {
   "cell_type": "code",
   "execution_count": 13,
   "metadata": {
    "scrolled": true
   },
   "outputs": [
    {
     "data": {
      "text/plain": [
       "'74.8'"
      ]
     },
     "execution_count": 13,
     "metadata": {},
     "output_type": "execute_result"
    }
   ],
   "source": [
    "unicodedata.normalize('NFKC',\"'７４．８'\".strip(\"'\"))"
   ]
  },
  {
   "cell_type": "markdown",
   "metadata": {},
   "source": [
    "この操作をdf.weightの全データに適用し，その結果として数値化できないデータを表示します．\n",
    "\n",
    "```Python\n",
    "[x for x in df.weight if type(x)==str and not floatCheck.fullmatch(x.strip(\"'\").translate(doubleToSingle))]\n",
    "```"
   ]
  },
  {
   "cell_type": "code",
   "execution_count": 14,
   "metadata": {},
   "outputs": [
    {
     "data": {
      "text/plain": [
       "[' ']"
      ]
     },
     "execution_count": 14,
     "metadata": {},
     "output_type": "execute_result"
    }
   ],
   "source": [
    "[x for x in df.weight if type(x)==str and not floatCheck.fullmatch(unicodedata.normalize('NFKC',x.strip(\"'\"))) ]"
   ]
  },
  {
   "cell_type": "markdown",
   "metadata": {},
   "source": [
    "これで，df.weightの値で空白文字以外は全て数値化可能になります．\n",
    "df.weight[3]を例にとって，この値に対してクレンジングして数値化するプロセスを単純なコードで書くと次のようになります．\n",
    "このdf.weight[3]の値は空白文字になっています．\n",
    "\n",
    "```Python\n",
    "cleansedValue = unicodedata.normalize('NFKC',df.weight[3].strip(\"'\"))\n",
    "if floatCheck.fullmatch(cleansedValue):\n",
    "    floatValue = float(cleansedValue)\n",
    "else:\n",
    "    floatValue = None\n",
    "print(floatValue)\n",
    "```"
   ]
  },
  {
   "cell_type": "code",
   "execution_count": 15,
   "metadata": {},
   "outputs": [
    {
     "name": "stdout",
     "output_type": "stream",
     "text": [
      "None\n"
     ]
    }
   ],
   "source": [
    "cleansedValue = unicodedata.normalize('NFKC',df.weight[3].strip(\"'\"))\n",
    "if floatCheck.fullmatch(cleansedValue):\n",
    "    floatValue = float(cleansedValue)\n",
    "else:\n",
    "    floatValue = None\n",
    "print(floatValue)"
   ]
  },
  {
   "cell_type": "markdown",
   "metadata": {},
   "source": [
    "これは処理を分かりやすく書いたものです．\n",
    "実際は，もっとスマートなプログラムになります．"
   ]
  },
  {
   "cell_type": "markdown",
   "metadata": {},
   "source": [
    "## データフレームでの処理\n",
    "\n",
    "ここまでdf.weightを取り出してリスト配列としてクレンジング処理を行ってきましたが，実際にはデータフレームの更新作業となります．\n",
    "よって，データフレーム内でのクレンジングを行うプログラムを作成します．\n",
    "この処理は次のステップで行います．\n",
    "\n",
    "- シングルクォーテーションを除去し全角文字を半角に変換したデータを新たにcleansedWeightという列に格納する．\n",
    "- cleansedWeightの値を数値化したデータを新たにweight2という列に格納する．\n",
    "- 列cleansedWeightを削除する．\n",
    "\n",
    "この処理では文字列を綺麗にした中間データを作成することによって，プログラムが複雑になることを避けています．"
   ]
  },
  {
   "cell_type": "markdown",
   "metadata": {},
   "source": [
    "### 文字列の整形\n",
    "\n",
    "まず，df.weightの値を文字列として綺麗な形に整えます．\n",
    "その結果は新しい列cleansedWeightとしてデータフレームに追加します．\n",
    "\n",
    "```Python\n",
    "df['cleansedWeight'] = [unicodedata.normalize('NFKC',x.strip(\"'\")) if type(x)==str else x for x in df.weight]\n",
    "```"
   ]
  },
  {
   "cell_type": "code",
   "execution_count": 16,
   "metadata": {
    "collapsed": true
   },
   "outputs": [],
   "source": [
    "df['cleansedWeight'] = [unicodedata.normalize('NFKC',x.strip(\"'\")) if type(x)==str else x for x in df.weight]"
   ]
  },
  {
   "cell_type": "markdown",
   "metadata": {},
   "source": [
    "### 文字列の数値化\n",
    "\n",
    "次にdf.cleansedWeightの値を数値化します．\n",
    "ただし，数値化できない値については<font color=green>None</font>で置き換えます．\n",
    "\n",
    "```Python\n",
    "df['weight2'] = [float(x) if type(x)==str and floatCheck.fullmatch(x) else None for x in df.cleansedWeight]\n",
    "```"
   ]
  },
  {
   "cell_type": "code",
   "execution_count": 17,
   "metadata": {
    "collapsed": true
   },
   "outputs": [],
   "source": [
    "df['weight2'] = [float(x) if type(x)==str and floatCheck.fullmatch(x) else None for x in df.cleansedWeight]"
   ]
  },
  {
   "cell_type": "markdown",
   "metadata": {},
   "source": [
    "### 不要な中間データの削除\n",
    "\n",
    "使用済みとなったdf.cleansedWeight列を削除します．\n",
    "列の削除には，drop()メソッドとdel命令の2通りの方法があります．\n",
    "ここでは<font color=green>drop()</font>メソッドによる方法で実施します．\n",
    "\n",
    "```Python\n",
    "df.drop('cleansedWeight',axis=1,inplace=True)\n",
    "```"
   ]
  },
  {
   "cell_type": "code",
   "execution_count": 18,
   "metadata": {
    "collapsed": true
   },
   "outputs": [],
   "source": [
    "df.drop('cleansedWeight',axis=1,inplace=True)"
   ]
  },
  {
   "cell_type": "markdown",
   "metadata": {},
   "source": [
    "### クレンジング済み変量height2の確認\n",
    "\n",
    "これで体重データについてのクレンジングが終了したので，その結果を<font color=green>describe()</font>メソッドで確認します．\n",
    "\n",
    "```Python\n",
    "df.weight2.describe()\n",
    "```"
   ]
  },
  {
   "cell_type": "code",
   "execution_count": 19,
   "metadata": {},
   "outputs": [
    {
     "data": {
      "text/plain": [
       "count    198.000000\n",
       "mean      67.364646\n",
       "std       17.181526\n",
       "min        9.900000\n",
       "25%       55.650000\n",
       "50%       66.800000\n",
       "75%       77.650000\n",
       "max      106.500000\n",
       "Name: weight2, dtype: float64"
      ]
     },
     "execution_count": 19,
     "metadata": {},
     "output_type": "execute_result"
    }
   ],
   "source": [
    "df.weight2.describe()"
   ]
  },
  {
   "cell_type": "markdown",
   "metadata": {},
   "source": [
    "この出力により，198個の全てのデータが小数点付数になっていることが分かります．\n",
    "行数は200行でしたので，残り2つのデータは数値として値が入っていない欠損値になっています．\n",
    "\n",
    "念のためにデータフレームの先頭の数行を表示します．\n",
    "新たにweight2という列が追加されていることが確認できます．\n",
    "そして，df.weight2['p004']の値がNaNになっています．\n",
    "このNaNは，Not a Numberの略で数値が入っていないことを明示しています．"
   ]
  },
  {
   "cell_type": "code",
   "execution_count": 20,
   "metadata": {},
   "outputs": [
    {
     "data": {
      "text/html": [
       "<div>\n",
       "<style>\n",
       "    .dataframe thead tr:only-child th {\n",
       "        text-align: right;\n",
       "    }\n",
       "\n",
       "    .dataframe thead th {\n",
       "        text-align: left;\n",
       "    }\n",
       "\n",
       "    .dataframe tbody tr th {\n",
       "        vertical-align: top;\n",
       "    }\n",
       "</style>\n",
       "<table border=\"1\" class=\"dataframe\">\n",
       "  <thead>\n",
       "    <tr style=\"text-align: right;\">\n",
       "      <th></th>\n",
       "      <th>height</th>\n",
       "      <th>weight</th>\n",
       "      <th>age</th>\n",
       "      <th>gender</th>\n",
       "      <th>blood</th>\n",
       "      <th>weight2</th>\n",
       "    </tr>\n",
       "    <tr>\n",
       "      <th>person</th>\n",
       "      <th></th>\n",
       "      <th></th>\n",
       "      <th></th>\n",
       "      <th></th>\n",
       "      <th></th>\n",
       "      <th></th>\n",
       "    </tr>\n",
       "  </thead>\n",
       "  <tbody>\n",
       "    <tr>\n",
       "      <th>p001</th>\n",
       "      <td>157.7</td>\n",
       "      <td>56.8</td>\n",
       "      <td>20</td>\n",
       "      <td>Male</td>\n",
       "      <td>B</td>\n",
       "      <td>56.8</td>\n",
       "    </tr>\n",
       "    <tr>\n",
       "      <th>p002</th>\n",
       "      <td>169.7</td>\n",
       "      <td>58.1</td>\n",
       "      <td>53</td>\n",
       "      <td>Female</td>\n",
       "      <td>A</td>\n",
       "      <td>58.1</td>\n",
       "    </tr>\n",
       "    <tr>\n",
       "      <th>p003</th>\n",
       "      <td>160.6</td>\n",
       "      <td>96.8</td>\n",
       "      <td>22</td>\n",
       "      <td>Male</td>\n",
       "      <td>O</td>\n",
       "      <td>96.8</td>\n",
       "    </tr>\n",
       "    <tr>\n",
       "      <th>p004</th>\n",
       "      <td>'155.8'</td>\n",
       "      <td></td>\n",
       "      <td></td>\n",
       "      <td>Female</td>\n",
       "      <td>O</td>\n",
       "      <td>NaN</td>\n",
       "    </tr>\n",
       "    <tr>\n",
       "      <th>p005</th>\n",
       "      <td>115.5</td>\n",
       "      <td>22.5</td>\n",
       "      <td>7</td>\n",
       "      <td>Male</td>\n",
       "      <td>NaN</td>\n",
       "      <td>22.5</td>\n",
       "    </tr>\n",
       "  </tbody>\n",
       "</table>\n",
       "</div>"
      ],
      "text/plain": [
       "         height weight age  gender blood  weight2\n",
       "person                                           \n",
       "p001      157.7   56.8  20    Male     B     56.8\n",
       "p002      169.7   58.1  53  Female     A     58.1\n",
       "p003      160.6   96.8  22    Male     O     96.8\n",
       "p004    '155.8'             Female     O      NaN\n",
       "p005      115.5   22.5   7    Male   NaN     22.5"
      ]
     },
     "execution_count": 20,
     "metadata": {},
     "output_type": "execute_result"
    }
   ],
   "source": [
    "df.head(5)"
   ]
  },
  {
   "cell_type": "markdown",
   "metadata": {},
   "source": [
    "df.weight2に数値が入っていないデータは2件です．\n",
    "これらを抽出するには isnull()メソッドを利用します．\n",
    "\n",
    "```Python\n",
    "df[df.weight2.isnull()]\n",
    "```"
   ]
  },
  {
   "cell_type": "code",
   "execution_count": 21,
   "metadata": {},
   "outputs": [
    {
     "data": {
      "text/html": [
       "<div>\n",
       "<style>\n",
       "    .dataframe thead tr:only-child th {\n",
       "        text-align: right;\n",
       "    }\n",
       "\n",
       "    .dataframe thead th {\n",
       "        text-align: left;\n",
       "    }\n",
       "\n",
       "    .dataframe tbody tr th {\n",
       "        vertical-align: top;\n",
       "    }\n",
       "</style>\n",
       "<table border=\"1\" class=\"dataframe\">\n",
       "  <thead>\n",
       "    <tr style=\"text-align: right;\">\n",
       "      <th></th>\n",
       "      <th>height</th>\n",
       "      <th>weight</th>\n",
       "      <th>age</th>\n",
       "      <th>gender</th>\n",
       "      <th>blood</th>\n",
       "      <th>weight2</th>\n",
       "    </tr>\n",
       "    <tr>\n",
       "      <th>person</th>\n",
       "      <th></th>\n",
       "      <th></th>\n",
       "      <th></th>\n",
       "      <th></th>\n",
       "      <th></th>\n",
       "      <th></th>\n",
       "    </tr>\n",
       "  </thead>\n",
       "  <tbody>\n",
       "    <tr>\n",
       "      <th>p004</th>\n",
       "      <td>'155.8'</td>\n",
       "      <td></td>\n",
       "      <td></td>\n",
       "      <td>Female</td>\n",
       "      <td>O</td>\n",
       "      <td>NaN</td>\n",
       "    </tr>\n",
       "    <tr>\n",
       "      <th>p108</th>\n",
       "      <td>162.4</td>\n",
       "      <td>NaN</td>\n",
       "      <td>NaN</td>\n",
       "      <td>Female</td>\n",
       "      <td>AB</td>\n",
       "      <td>NaN</td>\n",
       "    </tr>\n",
       "  </tbody>\n",
       "</table>\n",
       "</div>"
      ],
      "text/plain": [
       "         height weight  age  gender blood  weight2\n",
       "person                                            \n",
       "p004    '155.8'              Female     O      NaN\n",
       "p108      162.4    NaN  NaN  Female    AB      NaN"
      ]
     },
     "execution_count": 21,
     "metadata": {},
     "output_type": "execute_result"
    }
   ],
   "source": [
    "df[df.weight2.isnull()]"
   ]
  },
  {
   "cell_type": "markdown",
   "metadata": {},
   "source": [
    "これで，体重のデータについてのクレンジングは完了です．\n",
    "\n",
    "*****"
   ]
  }
 ],
 "metadata": {
  "kernelspec": {
   "display_name": "Python 3",
   "language": "python",
   "name": "python3"
  },
  "language_info": {
   "codemirror_mode": {
    "name": "ipython",
    "version": 3
   },
   "file_extension": ".py",
   "mimetype": "text/x-python",
   "name": "python",
   "nbconvert_exporter": "python",
   "pygments_lexer": "ipython3",
   "version": "3.6.1"
  }
 },
 "nbformat": 4,
 "nbformat_minor": 2
}
