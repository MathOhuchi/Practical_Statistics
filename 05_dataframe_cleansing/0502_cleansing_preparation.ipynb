{
 "cells": [
  {
   "cell_type": "markdown",
   "metadata": {},
   "source": [
    "# クレンジングの準備\n",
    "\n",
    "これから各変数のクレンジングを行うための準備を行います．\n",
    "まず，次の操作については事前に説明してありますので，まとめて実行します．\n",
    "\n",
    "- ライブラリーの搬入\n",
    "- CSVからのデータを取り込んでデータフレーム生成\n"
   ]
  },
  {
   "cell_type": "code",
   "execution_count": 1,
   "metadata": {
    "collapsed": true
   },
   "outputs": [],
   "source": [
    "import re\n",
    "import unicodedata\n",
    "import pandas as pd"
   ]
  },
  {
   "cell_type": "code",
   "execution_count": 2,
   "metadata": {
    "collapsed": true
   },
   "outputs": [],
   "source": [
    "df = pd.read_csv('original_body_data.csv')\n",
    "df.set_index('person',inplace=True)"
   ]
  },
  {
   "cell_type": "markdown",
   "metadata": {},
   "source": [
    "*****\n",
    "ここでは，クレンジングを実施するために次のデータを準備します．\n",
    "\n",
    "- 全角を半角に変換するための対応表\n",
    "- 小数点付数を判別するための正規表現の実行モジュール\n"
   ]
  },
  {
   "cell_type": "markdown",
   "metadata": {},
   "source": [
    "## 全角から半角への変換ツール\n",
    "\n",
    "文字列の中の文字を変換するために<font color=green>unicode.normalize()</font>関数を利用します．\n",
    "\n",
    "ただし，マイナス記号に似た記号については<font color=green>str.translate()</font>関数によって対応します．\n",
    "その前提として，変換テーブルを<font color=green>str.maketrans()</font>関数によって生成します．\n",
    "\n",
    "ここでは，事前に変換テーブルを用意します．\n",
    "\n",
    "```Python\n",
    "d2s = {'‐':'-','―':'-','ー':'-','＋':'+'}\n",
    "doubleToSingle = str.maketrans(d2s)\n",
    "```"
   ]
  },
  {
   "cell_type": "code",
   "execution_count": 3,
   "metadata": {
    "collapsed": true
   },
   "outputs": [],
   "source": [
    "d2s = {'‐':'-','―':'-','ー':'-'}\n",
    "doubleToSingle = str.maketrans(d2s)"
   ]
  },
  {
   "cell_type": "markdown",
   "metadata": {},
   "source": [
    "確認のために，全角の文字列に対して全角から半角への変換を行ってみます．\n",
    "\n",
    "```Python\n",
    "unicodedata.normalize('NFKC','ａｂｃｄ―ー‐－ＸＹＺ１２．３　＋７').translate(doubleToSingle)\n",
    "```"
   ]
  },
  {
   "cell_type": "code",
   "execution_count": 4,
   "metadata": {},
   "outputs": [
    {
     "data": {
      "text/plain": [
       "'abcd----XYZ12.3 +7'"
      ]
     },
     "execution_count": 4,
     "metadata": {},
     "output_type": "execute_result"
    }
   ],
   "source": [
    "unicodedata.normalize('NFKC','ａｂｃｄ―ー‐－ＸＹＺ１２．３　＋７').translate(doubleToSingle)"
   ]
  },
  {
   "cell_type": "markdown",
   "metadata": {},
   "source": [
    "## 小数点付数を判別する正規表現\n",
    "\n",
    "文字列を小数点数に変換する前に判定のために使用する正規表現の実行ツールを用意します．\n",
    "\n",
    "```Python\n",
    "floatCheck = re.compile(r'^\\s*([+-]?(\\d+\\.?\\d*|\\.\\d+))\\s*$')\n",
    "```"
   ]
  },
  {
   "cell_type": "code",
   "execution_count": 5,
   "metadata": {
    "collapsed": true
   },
   "outputs": [],
   "source": [
    "floatCheck = re.compile(r'^\\s*([+-]?(\\d+\\.?\\d*|\\.\\d+))\\s*$')"
   ]
  },
  {
   "cell_type": "markdown",
   "metadata": {},
   "source": [
    "これも動作確認のためにテストを行います．\n",
    "まず数値化可能な文字列の場合です．\n",
    "\n",
    "```Python\n",
    "floatCheck.match(' -3.14 ')\n",
    "```"
   ]
  },
  {
   "cell_type": "code",
   "execution_count": 6,
   "metadata": {},
   "outputs": [
    {
     "data": {
      "text/plain": [
       "<_sre.SRE_Match object; span=(0, 7), match=' -3.14 '>"
      ]
     },
     "execution_count": 6,
     "metadata": {},
     "output_type": "execute_result"
    }
   ],
   "source": [
    "floatCheck.match(' -3.14 ')"
   ]
  },
  {
   "cell_type": "markdown",
   "metadata": {},
   "source": [
    "数値化できる場合は，マッチオブジェクトが返ってきます．\n",
    "このオブジェクトをif文に渡すとTrueとして扱われます．\n",
    "\n",
    "そして，数値化できない場合のテストです．\n",
    "\n",
    "```Python\n",
    "floatCheck.match('.0.0.1')\n",
    "```"
   ]
  },
  {
   "cell_type": "code",
   "execution_count": 7,
   "metadata": {
    "collapsed": true
   },
   "outputs": [],
   "source": [
    "floatCheck.match('.0.0.1')"
   ]
  },
  {
   "cell_type": "markdown",
   "metadata": {},
   "source": [
    "このように数値化できない場合は返り値がありません．\n",
    "この結果をif文にかけるとFalseと判定します．\n",
    "\n",
    "以上でクレンジング前の用意が整いました．\n",
    "\n",
    "*****"
   ]
  }
 ],
 "metadata": {
  "kernelspec": {
   "display_name": "Python 3",
   "language": "python",
   "name": "python3"
  },
  "language_info": {
   "codemirror_mode": {
    "name": "ipython",
    "version": 3
   },
   "file_extension": ".py",
   "mimetype": "text/x-python",
   "name": "python",
   "nbconvert_exporter": "python",
   "pygments_lexer": "ipython3",
   "version": "3.6.1"
  }
 },
 "nbformat": 4,
 "nbformat_minor": 2
}
