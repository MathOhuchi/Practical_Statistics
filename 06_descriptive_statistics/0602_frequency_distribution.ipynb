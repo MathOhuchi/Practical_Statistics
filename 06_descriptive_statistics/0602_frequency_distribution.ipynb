{
 "cells": [
  {
   "cell_type": "markdown",
   "metadata": {},
   "source": [
    "# 度数分布表とヒストグラム\n",
    "\n",
    "クレンジング済みの数値データについて，最初にデータの分布を見ます．\n",
    "1変量の数値データのデータ分布はヒストグラムによって眺めますが，その前提として度数分布表を作成します．"
   ]
  },
  {
   "cell_type": "markdown",
   "metadata": {},
   "source": [
    "## サンプルデータ\n",
    "\n",
    "ここに50名の身長を測定したデータがあります．\n",
    "既にクレンジングは済んでます．\n",
    "このデータを元にして，度数分布表について説明します．\n",
    "\n",
    "```Python\n",
    "    144.5, 146.5, 147.5, 149.0, 150.0, 152.6, 153.2, 154.5, 154.8, 155.6, \n",
    "    156.0, 156.6, 157.2, 158.1, 158.8, 159.8, 160.1, 160.8, 161.5, 162.2, \n",
    "    162.7, 163.0, 163.6, 164.0, 165.3, 166.0, 166.4, 166.7, 167.0, 167.4, \n",
    "    167.8, 168.2, 169.8, 170.2, 170.5, 171.3, 171.8, 172.8, 173.3, 174.0, \n",
    "    174.2, 175.1, 175.3, 175.6, 176.3, 177.7, 179.8, 183.3, 184.4, 187.0\n",
    "```"
   ]
  },
  {
   "cell_type": "markdown",
   "metadata": {},
   "source": [
    "## 階級化\n",
    "\n",
    "まず変量の値のとり得る範囲を複数の区間に分けます．\n",
    "それぞれの区間を<font color=blue>階級</font>と言います．\n",
    "そして，その階級の中心の値を<font color=blue>階級値</font>と言います．\n",
    "それぞれの値に対して，階級値を割り当てることを階級化と言います．\n",
    "\n",
    "このサンプルデータの値は140~190cmの間に分布しています．\n",
    "この範囲について，5cm刻みの階級を設定します．"
   ]
  },
  {
   "cell_type": "markdown",
   "metadata": {},
   "source": [
    "| 階級 | 階級値 | 正確な範囲 |\n",
    "|:---:|:---:|:---:|\n",
    "| 140~145 | 142.5 | 140以上かつ145未満 | \n",
    "| 145~150 | 147.5 | 145以上かつ150未満 | \n",
    "| 150~155 | 152.5 | 150以上かつ155未満 | \n",
    "| 155~160 | 157.5 | 155以上かつ160未満 | \n",
    "| 160~165 | 162.5 | 160以上かつ165未満 | \n",
    "| 165~170 | 167.5 | 165以上かつ170未満 | \n",
    "| 170~175 | 172.5 | 170以上かつ175未満 | \n",
    "| 175~180 | 177.5 | 175以上かつ180未満 | \n",
    "| 180~185 | 182.5 | 180以上かつ185未満 | \n",
    "| 185~190 | 187.5 | 185以上かつ190未満 | "
   ]
  },
  {
   "cell_type": "markdown",
   "metadata": {},
   "source": [
    "階級を分けるときに境界値をどちらに入れるかを明確にします．\n",
    "例えば階級140~145は次の2通りの方法があります．\n",
    "\n",
    "- $140 \\le x \\lt 145$：140以上かつ145未満\n",
    "- $140 \\lt x \\le 145$：140より大きくかつ145以下\n",
    "\n",
    "ここでは，前者の定義を採用しました．\n",
    "各値に対応する階級値は下表のようになります．"
   ]
  },
  {
   "cell_type": "markdown",
   "metadata": {},
   "source": [
    "|      |     |     |     |     |     |      |     |     |     |     |     |\n",
    "|:---: |:---:|:---:|:---:|:---:|:---:|:---: |:---:|:---:|:---:|:---:|:---:|\n",
    "|値    |144.5|146.5|147.5|149.0|150.0|・・・|177.7|179.8|183.3|184.4|187.0|\n",
    "|階級値|142.5|147.5|147.5|147.5|152.5|・・・|177.5|177.5|182.5|182.5|187.5|"
   ]
  },
  {
   "cell_type": "markdown",
   "metadata": {},
   "source": [
    "## 度数分布表\n",
    "\n",
    "各階級に属するデータの件数を集計したものを<font color=blue>度数</font>と言います．\n",
    "例えば，階級140\\~145に属する人は1名です，階級145\\~150に属する人は3名います．\n",
    "この集計値を，階級値をインデックスとした表にまとめたものが度数分布表(Frequency Distribution Table)です．\n",
    "\n",
    "度数分布表には度数の他にも幾つかの情報が追加されます．"
   ]
  },
  {
   "cell_type": "markdown",
   "metadata": {},
   "source": [
    "- 度数：各階級に含まれるデータ件数\n",
    "- 相対度数：度数を全体のデータ件数で割った値\n",
    "- 累積度数：小さい階級から順番に度数を累積した値\n",
    "- 相対累積度数：累積度数を全体のデータ件数で割った値"
   ]
  },
  {
   "cell_type": "markdown",
   "metadata": {},
   "source": [
    "|階級値|度数|相対度数|累積度数|相対累積度数|\n",
    "|:---:|:---:|:---:|:---:|:---:|\n",
    "|142.5| 1 |  2% |  1 |  2% |\n",
    "|147.5| 3 |  6% |  4 |  8% |\n",
    "|152.5| 5 | 10% |  9 | 18% |\n",
    "|157.5| 7 | 14% | 16 | 32% |\n",
    "|162.5| 8 | 16% | 24 | 48% |\n",
    "|167.5| 9 | 18% | 33 | 66% |\n",
    "|172.5| 8 | 16% | 41 | 82% |\n",
    "|177.5| 6 | 12% | 47 | 94% |\n",
    "|182.5| 2 |  4% | 49 | 98% |\n",
    "|187.5| 1 |  2% | 50 |100% |"
   ]
  },
  {
   "cell_type": "markdown",
   "metadata": {},
   "source": [
    "## ヒストグラム\n",
    "\n",
    "度数分布表の階級を横軸とし，度数を縦軸にしてヒストグラムを記述します．\n",
    "ヒストグラムは数値の分布を表示する最も一般的なグラフです．\n",
    "\n",
    "![ヒストグラム](./images/histgram_fdt.png)\n",
    "\n",
    "ヒストグラムは棒グラフに似ていますが，グラフの長方形の幅が階級の範囲をカバーしている点がヒストグラムの特徴です．\n",
    "\n",
    "ヒストグラムの縦軸を相対度数にすると，グラフの形状は同じですが，縦軸が0~100%となり，異なるグラフの形状を比較するときに便利です．"
   ]
  },
  {
   "cell_type": "markdown",
   "metadata": {},
   "source": [
    "ヒストグラムを見るとデータ分布の概要が把握できます．\n",
    "この50名の身長に関しては，170㎝を中心に分布していることが分かります．\n",
    "データについての知見があれば，ヒストグラムを見ただけでデータの不具合や偏りを見抜くことが可能です．\n",
    "\n",
    "グラフを作成したら，そのグラフをよく観察することをお薦めします．"
   ]
  },
  {
   "cell_type": "markdown",
   "metadata": {},
   "source": [
    "*****\n",
    "## Pythonによる度数分布表\n",
    "\n",
    "まず，このデータからデータフレームを作成します．\n",
    "そのためにpandasライブラリーを搬入します．\n",
    "\n",
    "```Python\n",
    "import pandas as pd\n",
    "```"
   ]
  },
  {
   "cell_type": "code",
   "execution_count": 1,
   "metadata": {},
   "outputs": [],
   "source": [
    "import pandas as pd"
   ]
  },
  {
   "cell_type": "markdown",
   "metadata": {},
   "source": [
    "サンプルデータをリスト配列で用意します．\n",
    "\n",
    "```Python\n",
    "sample = [\n",
    "    144.5, 146.5, 147.5, 149.0, 150.0, 152.6, 153.2, 154.5, 154.8, 155.6, \n",
    "    156.0, 156.6, 157.2, 158.1, 158.8, 159.8, 160.1, 160.8, 161.5, 162.2, \n",
    "    162.7, 163.0, 163.6, 164.0, 165.3, 166.0, 166.4, 166.7, 167.0, 167.4, \n",
    "    167.8, 168.2, 169.8, 170.2, 170.5, 171.3, 171.8, 172.8, 173.3, 174.0, \n",
    "    174.2, 175.1, 175.3, 175.6, 176.3, 177.7, 179.8, 183.3, 184.4, 187.0]\n",
    "```"
   ]
  },
  {
   "cell_type": "code",
   "execution_count": 2,
   "metadata": {},
   "outputs": [],
   "source": [
    "sample = [\n",
    "    144.5, 146.5, 147.5, 149.0, 150.0, 152.6, 153.2, 154.5, 154.8, 155.6, \n",
    "    156.0, 156.6, 157.2, 158.1, 158.8, 159.8, 160.1, 160.8, 161.5, 162.2, \n",
    "    162.7, 163.0, 163.6, 164.0, 165.3, 166.0, 166.4, 166.7, 167.0, 167.4, \n",
    "    167.8, 168.2, 169.8, 170.2, 170.5, 171.3, 171.8, 172.8, 173.3, 174.0, \n",
    "    174.2, 175.1, 175.3, 175.6, 176.3, 177.7, 179.8, 183.3, 184.4, 187.0]"
   ]
  },
  {
   "cell_type": "markdown",
   "metadata": {},
   "source": [
    "### データフレームの生成\n",
    "変量は身長だけなので1列で20行のデータを持つデータフレームになります．\n",
    "データフレームは<font color=green>pandas.DataFrame()</font>関数によって生成されます．\n",
    "\n",
    "```Python\n",
    "df = pd.DataFrame(sample,columns=['height'])\n",
    "```"
   ]
  },
  {
   "cell_type": "code",
   "execution_count": 3,
   "metadata": {},
   "outputs": [],
   "source": [
    "df = pd.DataFrame(sample,columns=['height'])"
   ]
  },
  {
   "cell_type": "markdown",
   "metadata": {},
   "source": [
    "### 最大値および最小値の確認\n",
    "\n",
    "身長の最大値と最小値を調べます．\n",
    "それぞれ，<font color=green>max()</font>メソッドおよび<font color=green>min()</font>メソッドによって確認できます．\n",
    "\n",
    "```Python\n",
    "print('最大値：',df.height.max())\n",
    "print('最小値：',df.height.min())\n",
    "```"
   ]
  },
  {
   "cell_type": "code",
   "execution_count": 4,
   "metadata": {},
   "outputs": [
    {
     "name": "stdout",
     "output_type": "stream",
     "text": [
      "最大値： 187.0\n",
      "最小値： 144.5\n"
     ]
    }
   ],
   "source": [
    "print('最大値：',df.height.max())\n",
    "print('最小値：',df.height.min())"
   ]
  },
  {
   "cell_type": "markdown",
   "metadata": {},
   "source": [
    "最大値と最小値の差が約50cmなので，階級の幅を5cmにすれば，10個の階級に集約されます．"
   ]
  },
  {
   "cell_type": "markdown",
   "metadata": {},
   "source": [
    "### 階級の決定\n",
    "\n",
    "変量 height から階級値 class を求めます．\n",
    "階級値を求めるには，<font color='green'>pandas.cut()</font>関数を利用します．\n",
    "この関数の呼出し形式は次のようになります．\n",
    "\n",
    "> <font face='courier new'>pandas.cut(x,bins,right=True,labels=None)\n",
    ">  \n",
    "    ・ x      : データの配列\n",
    "    ・ bins   : 階級の区切りの配列\n",
    "    ・ right  : Trueならば（より大きくかつ以下］，Falseならば［以上かつ未満）\n",
    "    ・ labels : 階級値の配列\n",
    "</font>\n",
    "\n",
    "この他にも引数の与え方はありますが，ここでは明確な方法を使用します．"
   ]
  },
  {
   "cell_type": "markdown",
   "metadata": {},
   "source": [
    "階級の区切りおよび階級値をそれぞれ配列で与えます．\n",
    "また，区切りの値は下の階級にするので，right=<font color='green'>False</font> とします．  \n",
    "\n",
    "変量 height の階級値をデータフレームの新しい変量 class として追加します．\n",
    "\n",
    "```Python\n",
    "bins = [140,145,150,155,160,165,170,175,180,185,190]\n",
    "labels = [142.5,147.5,152.5,157.5,162.5,167.5,172.5,177.5,182.5,187.5]\n",
    "df['class'] = pd.cut(df.height,bins,right=False,labels=labels)\n",
    "```"
   ]
  },
  {
   "cell_type": "code",
   "execution_count": 5,
   "metadata": {},
   "outputs": [],
   "source": [
    "bins = [140,145,150,155,160,165,170,175,180,185,190]\n",
    "labels = [142.5,147.5,152.5,157.5,162.5,167.5,172.5,177.5,182.5,187.5]\n",
    "df['class'] = pd.cut(df.height,bins,right=False,labels=labels)"
   ]
  },
  {
   "cell_type": "markdown",
   "metadata": {},
   "source": [
    "変量 class の計算結果を含んだデータフレームの先頭を表示して内容を確認します．\n",
    "\n",
    "```Python\n",
    "df.head()\n",
    "```"
   ]
  },
  {
   "cell_type": "code",
   "execution_count": 6,
   "metadata": {},
   "outputs": [
    {
     "data": {
      "text/html": [
       "<div>\n",
       "<style scoped>\n",
       "    .dataframe tbody tr th:only-of-type {\n",
       "        vertical-align: middle;\n",
       "    }\n",
       "\n",
       "    .dataframe tbody tr th {\n",
       "        vertical-align: top;\n",
       "    }\n",
       "\n",
       "    .dataframe thead th {\n",
       "        text-align: right;\n",
       "    }\n",
       "</style>\n",
       "<table border=\"1\" class=\"dataframe\">\n",
       "  <thead>\n",
       "    <tr style=\"text-align: right;\">\n",
       "      <th></th>\n",
       "      <th>height</th>\n",
       "      <th>class</th>\n",
       "    </tr>\n",
       "  </thead>\n",
       "  <tbody>\n",
       "    <tr>\n",
       "      <td>0</td>\n",
       "      <td>144.5</td>\n",
       "      <td>142.5</td>\n",
       "    </tr>\n",
       "    <tr>\n",
       "      <td>1</td>\n",
       "      <td>146.5</td>\n",
       "      <td>147.5</td>\n",
       "    </tr>\n",
       "    <tr>\n",
       "      <td>2</td>\n",
       "      <td>147.5</td>\n",
       "      <td>147.5</td>\n",
       "    </tr>\n",
       "    <tr>\n",
       "      <td>3</td>\n",
       "      <td>149.0</td>\n",
       "      <td>147.5</td>\n",
       "    </tr>\n",
       "    <tr>\n",
       "      <td>4</td>\n",
       "      <td>150.0</td>\n",
       "      <td>152.5</td>\n",
       "    </tr>\n",
       "  </tbody>\n",
       "</table>\n",
       "</div>"
      ],
      "text/plain": [
       "   height  class\n",
       "0   144.5  142.5\n",
       "1   146.5  147.5\n",
       "2   147.5  147.5\n",
       "3   149.0  147.5\n",
       "4   150.0  152.5"
      ]
     },
     "execution_count": 6,
     "metadata": {},
     "output_type": "execute_result"
    }
   ],
   "source": [
    "df.head()"
   ]
  },
  {
   "cell_type": "markdown",
   "metadata": {},
   "source": [
    "## 度数分布データフレーム\n",
    "\n",
    "度数分布は，データフレームの列について<font color=green>value_counts()</font>メソッドを発行することによって得られます．\n",
    "その結果をデータとして新しデータフレームを作成します．\n",
    "\n",
    "```Python\n",
    "fdt = pd.DataFrame(df['class'].value_counts())\n",
    "fdt.rename(columns={'class':'frequency'},inplace=True)\n",
    "fdt.sort_index(inplace=True)\n",
    "fdt\n",
    "```"
   ]
  },
  {
   "cell_type": "code",
   "execution_count": 7,
   "metadata": {},
   "outputs": [
    {
     "data": {
      "text/html": [
       "<div>\n",
       "<style scoped>\n",
       "    .dataframe tbody tr th:only-of-type {\n",
       "        vertical-align: middle;\n",
       "    }\n",
       "\n",
       "    .dataframe tbody tr th {\n",
       "        vertical-align: top;\n",
       "    }\n",
       "\n",
       "    .dataframe thead th {\n",
       "        text-align: right;\n",
       "    }\n",
       "</style>\n",
       "<table border=\"1\" class=\"dataframe\">\n",
       "  <thead>\n",
       "    <tr style=\"text-align: right;\">\n",
       "      <th></th>\n",
       "      <th>frequency</th>\n",
       "    </tr>\n",
       "  </thead>\n",
       "  <tbody>\n",
       "    <tr>\n",
       "      <td>142.5</td>\n",
       "      <td>1</td>\n",
       "    </tr>\n",
       "    <tr>\n",
       "      <td>147.5</td>\n",
       "      <td>3</td>\n",
       "    </tr>\n",
       "    <tr>\n",
       "      <td>152.5</td>\n",
       "      <td>5</td>\n",
       "    </tr>\n",
       "    <tr>\n",
       "      <td>157.5</td>\n",
       "      <td>7</td>\n",
       "    </tr>\n",
       "    <tr>\n",
       "      <td>162.5</td>\n",
       "      <td>8</td>\n",
       "    </tr>\n",
       "    <tr>\n",
       "      <td>167.5</td>\n",
       "      <td>9</td>\n",
       "    </tr>\n",
       "    <tr>\n",
       "      <td>172.5</td>\n",
       "      <td>8</td>\n",
       "    </tr>\n",
       "    <tr>\n",
       "      <td>177.5</td>\n",
       "      <td>6</td>\n",
       "    </tr>\n",
       "    <tr>\n",
       "      <td>182.5</td>\n",
       "      <td>2</td>\n",
       "    </tr>\n",
       "    <tr>\n",
       "      <td>187.5</td>\n",
       "      <td>1</td>\n",
       "    </tr>\n",
       "  </tbody>\n",
       "</table>\n",
       "</div>"
      ],
      "text/plain": [
       "       frequency\n",
       "142.5          1\n",
       "147.5          3\n",
       "152.5          5\n",
       "157.5          7\n",
       "162.5          8\n",
       "167.5          9\n",
       "172.5          8\n",
       "177.5          6\n",
       "182.5          2\n",
       "187.5          1"
      ]
     },
     "execution_count": 7,
     "metadata": {},
     "output_type": "execute_result"
    }
   ],
   "source": [
    "fdt = pd.DataFrame(df['class'].value_counts())\n",
    "fdt.rename(columns={'class':'frequency'},inplace=True)\n",
    "fdt.sort_index(inplace=True)\n",
    "fdt"
   ]
  },
  {
   "cell_type": "markdown",
   "metadata": {},
   "source": [
    "### 相対度数，累積度数，相対累積度数\n",
    "\n",
    "データフレームに相対度数，累積度数，相対累積度数の項目を追加します．\n",
    "\n",
    "```Python\n",
    "fdt['relativeFreq']  = fdt.frequency/fdt.frequency.sum()\n",
    "fdt['accumulate']    = fdt.frequency.cumsum()\n",
    "fdt['relativeAccum'] = fdt.accumulate/fdt.frequency.sum()\n",
    "fdt\n",
    "```"
   ]
  },
  {
   "cell_type": "code",
   "execution_count": 8,
   "metadata": {
    "scrolled": true
   },
   "outputs": [
    {
     "data": {
      "text/html": [
       "<div>\n",
       "<style scoped>\n",
       "    .dataframe tbody tr th:only-of-type {\n",
       "        vertical-align: middle;\n",
       "    }\n",
       "\n",
       "    .dataframe tbody tr th {\n",
       "        vertical-align: top;\n",
       "    }\n",
       "\n",
       "    .dataframe thead th {\n",
       "        text-align: right;\n",
       "    }\n",
       "</style>\n",
       "<table border=\"1\" class=\"dataframe\">\n",
       "  <thead>\n",
       "    <tr style=\"text-align: right;\">\n",
       "      <th></th>\n",
       "      <th>frequency</th>\n",
       "      <th>relativeFreq</th>\n",
       "      <th>accumulate</th>\n",
       "      <th>relativeAccum</th>\n",
       "    </tr>\n",
       "  </thead>\n",
       "  <tbody>\n",
       "    <tr>\n",
       "      <td>142.5</td>\n",
       "      <td>1</td>\n",
       "      <td>0.02</td>\n",
       "      <td>1</td>\n",
       "      <td>0.02</td>\n",
       "    </tr>\n",
       "    <tr>\n",
       "      <td>147.5</td>\n",
       "      <td>3</td>\n",
       "      <td>0.06</td>\n",
       "      <td>4</td>\n",
       "      <td>0.08</td>\n",
       "    </tr>\n",
       "    <tr>\n",
       "      <td>152.5</td>\n",
       "      <td>5</td>\n",
       "      <td>0.10</td>\n",
       "      <td>9</td>\n",
       "      <td>0.18</td>\n",
       "    </tr>\n",
       "    <tr>\n",
       "      <td>157.5</td>\n",
       "      <td>7</td>\n",
       "      <td>0.14</td>\n",
       "      <td>16</td>\n",
       "      <td>0.32</td>\n",
       "    </tr>\n",
       "    <tr>\n",
       "      <td>162.5</td>\n",
       "      <td>8</td>\n",
       "      <td>0.16</td>\n",
       "      <td>24</td>\n",
       "      <td>0.48</td>\n",
       "    </tr>\n",
       "    <tr>\n",
       "      <td>167.5</td>\n",
       "      <td>9</td>\n",
       "      <td>0.18</td>\n",
       "      <td>33</td>\n",
       "      <td>0.66</td>\n",
       "    </tr>\n",
       "    <tr>\n",
       "      <td>172.5</td>\n",
       "      <td>8</td>\n",
       "      <td>0.16</td>\n",
       "      <td>41</td>\n",
       "      <td>0.82</td>\n",
       "    </tr>\n",
       "    <tr>\n",
       "      <td>177.5</td>\n",
       "      <td>6</td>\n",
       "      <td>0.12</td>\n",
       "      <td>47</td>\n",
       "      <td>0.94</td>\n",
       "    </tr>\n",
       "    <tr>\n",
       "      <td>182.5</td>\n",
       "      <td>2</td>\n",
       "      <td>0.04</td>\n",
       "      <td>49</td>\n",
       "      <td>0.98</td>\n",
       "    </tr>\n",
       "    <tr>\n",
       "      <td>187.5</td>\n",
       "      <td>1</td>\n",
       "      <td>0.02</td>\n",
       "      <td>50</td>\n",
       "      <td>1.00</td>\n",
       "    </tr>\n",
       "  </tbody>\n",
       "</table>\n",
       "</div>"
      ],
      "text/plain": [
       "       frequency  relativeFreq  accumulate  relativeAccum\n",
       "142.5          1          0.02           1           0.02\n",
       "147.5          3          0.06           4           0.08\n",
       "152.5          5          0.10           9           0.18\n",
       "157.5          7          0.14          16           0.32\n",
       "162.5          8          0.16          24           0.48\n",
       "167.5          9          0.18          33           0.66\n",
       "172.5          8          0.16          41           0.82\n",
       "177.5          6          0.12          47           0.94\n",
       "182.5          2          0.04          49           0.98\n",
       "187.5          1          0.02          50           1.00"
      ]
     },
     "execution_count": 8,
     "metadata": {},
     "output_type": "execute_result"
    }
   ],
   "source": [
    "fdt['relativeFreq']  = fdt.frequency/fdt.frequency.sum()\n",
    "fdt['accumulate']    = fdt.frequency.cumsum()\n",
    "fdt['relativeAccum'] = fdt.accumulate/fdt.frequency.sum()\n",
    "fdt"
   ]
  },
  {
   "cell_type": "markdown",
   "metadata": {},
   "source": [
    "*****\n",
    "## ヒストグラム\n",
    "\n",
    "集計した身長の度数分布表を元にヒストグラムを表示します．\n",
    "グラフは<font color=green>matplotlib.pyplot</font>ライブラリーを利用するので，これを搬入します．  \n",
    "さらに，<font color=green>%matplotlib inline</font>によって，グラフをJupyter notebook内で表示するようにします．\n",
    "\n",
    "```Python\n",
    "import matplotlib.pyplot as plt\n",
    "%matplotlib inline\n",
    "```"
   ]
  },
  {
   "cell_type": "code",
   "execution_count": 9,
   "metadata": {},
   "outputs": [],
   "source": [
    "import matplotlib.pyplot as plt\n",
    "%matplotlib inline"
   ]
  },
  {
   "cell_type": "markdown",
   "metadata": {},
   "source": [
    "### bar()関数\n",
    "\n",
    "matplotlib.pyplotの<font color='green'>bar()</font>関数は，棒グラフを描画する関数です．\n",
    "この関数は多彩なアレンジが可能なので，ヒストグラムの描画にも使用できます．\n",
    "\n",
    "bar()関数の呼出しは次のようになります．\n",
    "\n",
    "> <font face='courier new'>matplotlib.pyplot.bar(x, height, **kwargs)</font>\n",
    "\n",
    "**必須の引数**\n",
    "- x    ：X軸上の値\n",
    "- height：棒の高さ\n",
    "\n",
    "**主要なキーワード指定の引数**\n",
    "\n",
    "\\*\\*kwargsは，キーワードを指定して値を与える引数です．\n",
    "\n",
    "|引数|説明|デフォルト値|\n",
    "|:---:|:---:|:---:|\n",
    "| width   |棒の幅      |=0.8 |\n",
    "| bottom  |棒の下の余白位置|= 0 |\n",
    "| align   |棒の合わせ位置：'center','edge'  |='center'|\n",
    "| color   |棒の内部の色| |\n",
    "|edgecolor|棒の縁の色  | |\n",
    "\n",
    "bar()関数の詳細については，マニュアルを参照してください．\n",
    "[https://matplotlib.org/3.1.1/api/_as_gen/matplotlib.pyplot.bar.html](https://matplotlib.org/3.1.1/api/_as_gen/matplotlib.pyplot.bar.html)"
   ]
  },
  {
   "cell_type": "markdown",
   "metadata": {},
   "source": [
    "bar()関数を使用して度数分布表からヒストグラムを作成するプログラムは以下の通りです．\n",
    "\n",
    "```Python\n",
    "plt.bar(fdt.index,fdt.frequency,width=5,color='lightcyan',edgecolor='black')\n",
    "plt.xlabel('Height (cm)')\n",
    "plt.ylabel('Frequency')\n",
    "plt.show()\n",
    "```"
   ]
  },
  {
   "cell_type": "code",
   "execution_count": 10,
   "metadata": {},
   "outputs": [
    {
     "data": {
      "image/png": "[encoded data removed]",
      "text/plain": [
       "<Figure size 432x288 with 1 Axes>"
      ]
     },
     "metadata": {
      "needs_background": "light"
     },
     "output_type": "display_data"
    }
   ],
   "source": [
    "plt.bar(fdt.index,fdt.frequency,width=5,color='lightcyan',edgecolor='black')\n",
    "plt.xlabel('Height (cm)')\n",
    "plt.ylabel('Frequency')\n",
    "plt.show()"
   ]
  },
  {
   "cell_type": "markdown",
   "metadata": {},
   "source": [
    "### hist()関数\n",
    "\n",
    "データフレームにある階級化した身長 class から直接ヒストグラムを作成するには，<font color=green>hist()</font>関数を使用します．\n",
    "hist()関数では，指定した階級の個数(bins)によって，自動的に階級化したグラフを作成してくれます．\n",
    "ただし，自動的に階級化するので，階級の境界も自動的な値になります．\n",
    "\n",
    "hist()関数の呼出しは次のようになります．\n",
    "\n",
    "> <font face='courier new'>matplotlib.pyplot.hist(x, **kwargs)</font>\n",
    "\n",
    "**必須の引数**\n",
    "- x：生データの配列\n",
    "\n",
    "**主要なキーワード指定の引数**\n",
    "\n",
    "\\*\\*kwargsは，キーワードを指定して値を与える引数です．\n",
    "\n",
    "|引数|説明|デフォルト値|\n",
    "|:---:|:---:|:---:|\n",
    "| bins   |描画する棒の個数 |=10 |\n",
    "| normed |False:度数, True:相対度数|=False|\n",
    "| bottom  |棒の下の余白位置|= 0 |\n",
    "| align   |棒の合わせ位置：'mid','left','rignt'  |='mid'|\n",
    "| color   |棒の内部の色| |\n",
    "|edgecolor|棒の縁の色  | |\n",
    "\n",
    "hist()関数の詳細については，マニュアルを参照してください．\n",
    "[https://matplotlib.org/3.1.1/api/_as_gen/matplotlib.pyplot.hist.html](https://matplotlib.org/3.1.1/api/_as_gen/matplotlib.pyplot.hist.html)"
   ]
  },
  {
   "cell_type": "markdown",
   "metadata": {},
   "source": [
    "hist()関数を利用して元のデータフレームから直接ヒストグラムを描画する方法は以下の通りです．\n",
    "\n",
    "```Python\n",
    "plt.hist(df['class'],bins=10,color='lightcyan',edgecolor='black')\n",
    "plt.xlabel('Height (cm)')\n",
    "plt.ylabel('Frequency')\n",
    "plt.show()\n",
    "```"
   ]
  },
  {
   "cell_type": "code",
   "execution_count": 11,
   "metadata": {},
   "outputs": [
    {
     "data": {
      "image/png": "[encoded data removed]",
      "text/plain": [
       "<Figure size 432x288 with 1 Axes>"
      ]
     },
     "metadata": {
      "needs_background": "light"
     },
     "output_type": "display_data"
    }
   ],
   "source": [
    "plt.hist(df['class'],bins=10,color='lightcyan',edgecolor='black')\n",
    "plt.xlabel('Height (cm)')\n",
    "plt.ylabel('Frequency')\n",
    "plt.show()"
   ]
  },
  {
   "cell_type": "markdown",
   "metadata": {},
   "source": [
    "matplotlibにはヒストグラムを作成するためのhist()関数も用意されています．\n",
    "hist()関数を使ってヒストグラムを作成するときに，データの引数として元の身長 df.height を使用することも可能です．\n",
    "この場合の作図も行っておきます．\n",
    "\n",
    "```Python\n",
    "plt.hist(df.height,bins=10,color='lightcyan',edgecolor='black')\n",
    "plt.xlabel('Height (cm)')\n",
    "plt.ylabel('Frequency')\n",
    "plt.show()\n",
    "```"
   ]
  },
  {
   "cell_type": "code",
   "execution_count": 12,
   "metadata": {},
   "outputs": [
    {
     "data": {
      "image/png": "[encoded data removed]",
      "text/plain": [
       "<Figure size 432x288 with 1 Axes>"
      ]
     },
     "metadata": {
      "needs_background": "light"
     },
     "output_type": "display_data"
    }
   ],
   "source": [
    "plt.hist(df.height,bins=10,color='lightcyan',edgecolor='black')\n",
    "plt.xlabel('Height (cm)')\n",
    "plt.ylabel('Frequency')\n",
    "plt.show()"
   ]
  },
  {
   "cell_type": "markdown",
   "metadata": {},
   "source": [
    "これらのヒストグラムを比較すると分かるように，階級化の設定によって形状がかなり変わる可能性があります．\n",
    "階級化が信頼できるようにするには，次の点に注意が必要です．\n",
    "\n",
    "- データ件数が十分多いこと\n",
    "- 近接するデータの間隔が十分に密接していること\n",
    "- 階級幅が広すぎず狭すぎない\n",
    "\n",
    "度数分布表もヒストグラムもデータ情報の集約が目的ですので，データ件数が少ない場合に無理やり作成するものではありません．"
   ]
  },
  {
   "cell_type": "markdown",
   "metadata": {},
   "source": [
    "度数分布表とヒストグラムは，クレンジングが済んだデータの分析において最初に実施します．\n",
    "これによって，各変量の外観を把握します．\n",
    "\n",
    "*****"
   ]
  }
 ],
 "metadata": {
  "kernelspec": {
   "display_name": "Python 3",
   "language": "python",
   "name": "python3"
  },
  "language_info": {
   "codemirror_mode": {
    "name": "ipython",
    "version": 3
   },
   "file_extension": ".py",
   "mimetype": "text/x-python",
   "name": "python",
   "nbconvert_exporter": "python",
   "pygments_lexer": "ipython3",
   "version": "3.7.4"
  }
 },
 "nbformat": 4,
 "nbformat_minor": 2
}
