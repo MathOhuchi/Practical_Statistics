{
 "cells": [
  {
   "cell_type": "markdown",
   "metadata": {},
   "source": [
    "# 重要な代表値\n",
    "\n",
    "分布する一塊の数値データの特徴を1つのデータで表すものを代表値と言います．\n",
    "よく知られている代表値としては次のものがあります．\n",
    "\n",
    "- 平均値\n",
    "- 中央値\n",
    "- 最頻値\n",
    "\n",
    "この説明で扱うデータの件数を $n$ として，変量の値を $x_1, x_2, \\cdots, x_n$ と表します．"
   ]
  },
  {
   "cell_type": "markdown",
   "metadata": {},
   "source": [
    "*****\n",
    "## 平均値\n",
    "\n",
    "変量の値の総和をデータ件数で割った値を<font color=blue>平均値</font>と言います．\n",
    "平均値 $\\bar{x}$ はつぎの式で求まります．\n",
    "なお，平均値を表す記号として，$\\mu$ を使うこともあります．\n",
    "\n",
    ">  \n",
    "$$ \\bar{x} = \\frac{1}{n} \\sum_{i=1}^n x_i = \\frac{x_1+x_2+{\\cdots}+x_n}{n} $$"
   ]
  },
  {
   "cell_type": "markdown",
   "metadata": {},
   "source": [
    "### 平均値の例\n",
    "\n",
    "次のデータの平均値を計算します．\n",
    "\n",
    "|index|value|\n",
    "|:---:|:---:|\n",
    "| a | 1 |\n",
    "| b | 2 |\n",
    "| c | 2 |\n",
    "| d | 3 |\n",
    "| e | 4 |\n",
    "\n",
    "ここでデータの個数は 5個です．\n",
    "平均値$\\bar{x}$は，\n",
    "\n",
    "$$ \\bar{x} = \\frac{1+2+2+3+4}{5} = 2.4 $$\n",
    "\n",
    "となります．"
   ]
  },
  {
   "cell_type": "markdown",
   "metadata": {},
   "source": [
    "******\n",
    "## 中央値\n",
    "\n",
    "データ全体を昇順に並べたときに真ん中にあるデータの値を<font color=blue>中央値</font>と言います．\n",
    "ただし，データ全体の個数が奇数の場合と偶数の場合では求め方が異なります．\n",
    "\n",
    "データを $x_1 \\le x_2 \\le \\cdots \\le x_n$ としたとき，\n",
    "\n",
    "$$ \\tilde{x} = \n",
    "\\begin{eqnarray}\n",
    "  \\begin{cases}\n",
    "    x_{m} & ,m=\\frac{n+1}{2} & \\text{if} & n \\ \\text{is odd} \\\\\n",
    "    \\frac{x_{m}+x_{m+1}}{2} & ,m=\\frac{n}{2} & \\text{if} & n \\ \\text{is even} \\\\\n",
    "  \\end{cases}\n",
    "\\end{eqnarray}\n",
    "$$"
   ]
  },
  {
   "cell_type": "markdown",
   "metadata": {},
   "source": [
    "### 奇数の場合\n",
    "\n",
    "データ件数が奇数の場合，$m \\in \\mathbb{N}$があって $n= 2m-1$ となります．\n",
    "このとき，中央値 $\\tilde{x}$は，\n",
    "\n",
    ">  \n",
    "$$ \\tilde{x} = x_{m} $$\n",
    "\n",
    "\n",
    "### 偶数の場合\n",
    "\n",
    "データ件数が偶数の場合，$m \\in \\mathbb{N}$があって $n= 2m$ となります．\n",
    "このとき，中央値 $\\tilde{x}$は，\n",
    "\n",
    ">  \n",
    "$$ \\tilde{x} = \\frac{x_{m}+x_{m+1}}{2} $$\n"
   ]
  },
  {
   "cell_type": "markdown",
   "metadata": {},
   "source": [
    "### 中央値の例（奇数の場合）\n",
    "\n",
    "次のデータの平均値を計算します．\n",
    "\n",
    "|index|value|\n",
    "|:---:|:---:|\n",
    "| a | 1 |\n",
    "| b | 2 |\n",
    "| c | 2 |\n",
    "| d | 3 |\n",
    "| e | 4 |\n",
    "\n",
    "このデータは昇順に並んでいます．\n",
    "データの個数は5個で奇数になっています．\n",
    "したがって，真ん中の値は3番目のcの値となります．\n",
    "\n",
    "$$ \\tilde{x} = 2 $$"
   ]
  },
  {
   "cell_type": "markdown",
   "metadata": {},
   "source": [
    "### 中央値の例（偶数の場合）\n",
    "\n",
    "次のデータの平均値を計算します．\n",
    "前のデータに1個だけ大きなデータを追加しました．\n",
    "\n",
    "|index|value|\n",
    "|:---:|:---:|\n",
    "| a | 1 |\n",
    "| b | 2 |\n",
    "| c | 2 |\n",
    "| d | 3 |\n",
    "| e | 4 |\n",
    "| f | 99 |\n",
    "\n",
    "このデータは昇順に並んでいます．\n",
    "データの個数は6個で奇数になっています．\n",
    "したがって，真ん中の値は3番目のcの値と4番目のdの値の平均となります．\n",
    "\n",
    "$$ \\tilde{x} = \\frac{2+3}{2} = 2.5 $$\n",
    "\n",
    "ここで注目すべきことは，最大値がどんなに大きくても中央値が大きく振れることがありません．\n",
    "最小値についても同様です．\n",
    "すなわち，中央値は外れ値の影響を受けない代表値と言えます．"
   ]
  },
  {
   "cell_type": "markdown",
   "metadata": {},
   "source": [
    "*****\n",
    "## 最頻値\n",
    "\n",
    "最頻値は，平均値や中央値とことなり<font color=blue>度数分布表を前提</font>としています．\n",
    "度数分布表において，度数が最も大きい階級値を<font color=blue>最頻値</font>と言います．\n",
    "\n",
    "$\\hat{x}_1, \\hat{x}_2,\\cdots, \\hat{x}_m$ を階級値として，対応する度数を\n",
    "$r_1, r_2, \\cdots, r_m$ としたとき，最頻値$\\hat{x}$は，\n",
    "\n",
    ">  \n",
    "$$ \\hat{x}=\\hat{x}_k \\ ; \\ r_k \\ge r_j \\ (\\ j=1,\\cdots,m) $$\n",
    "\n",
    "定義により，最頻値が複数になる場合もあります．"
   ]
  },
  {
   "cell_type": "markdown",
   "metadata": {},
   "source": [
    "### 最頻値の例\n",
    "\n",
    "次のデータの最頻値を求めます．\n",
    "\n",
    "|index|value|\n",
    "|:---:|:---:|\n",
    "| a | 1 |\n",
    "| b | 2 |\n",
    "| c | 2 |\n",
    "| d | 3 |\n",
    "| e | 4 |\n",
    "| f | 4 |\n",
    "\n",
    "最頻値を求めるために，度数分布表を作成します．\n",
    "階級の幅については，離散的な値なので 1 とし，階級値を 1,2,3,4 とします．\n",
    "\n",
    "|階級値|度数|\n",
    "|:---:|:---:|\n",
    "| 1 | 1 |\n",
    "| 2 | 2 |\n",
    "| 3 | 1 |\n",
    "| 4 | 2 |\n",
    "\n",
    "この度数分布表を見ると最大度数は 2 で，この場合の階級値が 2 と 4 の2つの値となっています．\n",
    "\n",
    "$$ \\hat{x} = 2,4 $$"
   ]
  },
  {
   "cell_type": "markdown",
   "metadata": {},
   "source": [
    "\n",
    "*****"
   ]
  }
 ],
 "metadata": {
  "kernelspec": {
   "display_name": "Python 3",
   "language": "python",
   "name": "python3"
  },
  "language_info": {
   "codemirror_mode": {
    "name": "ipython",
    "version": 3
   },
   "file_extension": ".py",
   "mimetype": "text/x-python",
   "name": "python",
   "nbconvert_exporter": "python",
   "pygments_lexer": "ipython3",
   "version": "3.7.4"
  }
 },
 "nbformat": 4,
 "nbformat_minor": 2
}
