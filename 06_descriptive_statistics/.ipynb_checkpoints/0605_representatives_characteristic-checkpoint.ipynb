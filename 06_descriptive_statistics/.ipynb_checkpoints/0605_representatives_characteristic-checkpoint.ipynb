{
 "cells": [
  {
   "cell_type": "markdown",
   "metadata": {},
   "source": [
    "# 代表値の特徴\n",
    "\n",
    "データ分布に偏りがあると3つの代表値の間に差異が生じます．\n",
    "ここでは，代表値の特徴について学習します．"
   ]
  },
  {
   "cell_type": "markdown",
   "metadata": {},
   "source": [
    "## サンプルデータ\n",
    "\n",
    "ここでは，50個のサンプルについて保証期間の10倍の期間を想定した耐久検査を行ったときに発生した不具合の件数を記録しました．\n",
    "このデータの分布と代表値の関係を確認します．\n",
    "\n",
    "```Python\n",
    "    0,0,0,1,1,1,1,1,1,1,\n",
    "    1,1,1,2,2,2,2,2,2,2,\n",
    "    2,2,3,3,3,3,3,3,3,3,\n",
    "    4,4,4,4,4,4,5,5,5,5,\n",
    "    6,6,6,7,8,8,9,10,20,24\n",
    "```"
   ]
  },
  {
   "cell_type": "markdown",
   "metadata": {},
   "source": [
    "## プログラムによる確認\n",
    "\n",
    "ここに記述したプログラムは既に学習済みなので，解説は省略します．\n",
    "\n",
    "まず，必要なライブラリーを搬入します．\n",
    "\n",
    "```Python\n",
    "import pandas as pd\n",
    "import matplotlib.pyplot as plt\n",
    "%matplotlib inline\n",
    "```"
   ]
  },
  {
   "cell_type": "code",
   "execution_count": 1,
   "metadata": {
    "collapsed": true
   },
   "outputs": [],
   "source": [
    "import pandas as pd\n",
    "import matplotlib.pyplot as plt\n",
    "%matplotlib inline"
   ]
  },
  {
   "cell_type": "markdown",
   "metadata": {},
   "source": [
    "### データフレームの生成\n",
    "\n",
    "サンプルデータを元にしてデータフレームを生成します．\n",
    "\n",
    "```Python\n",
    "sample = [0,0,0,1,1,1,1,1,1,1,\n",
    "          1,1,1,2,2,2,2,2,2,2,\n",
    "          2,2,3,3,3,3,3,3,3,3,\n",
    "          4,4,4,4,4,4,5,5,5,5,\n",
    "          6,6,6,7,8,8,9,10,20,24]\n",
    "df = pd.DataFrame(sample,columns=['defects'])\n",
    "```"
   ]
  },
  {
   "cell_type": "code",
   "execution_count": 2,
   "metadata": {
    "collapsed": true
   },
   "outputs": [],
   "source": [
    "sample = [0,0,0,1,1,1,1,1,1,1,\n",
    "          1,1,1,2,2,2,2,2,2,2,\n",
    "          2,2,3,3,3,3,3,3,3,3,\n",
    "          4,4,4,4,4,4,5,5,5,5,\n",
    "          6,6,6,7,8,8,9,10,20,24]\n",
    "df = pd.DataFrame(sample,columns=['defects'])"
   ]
  },
  {
   "cell_type": "markdown",
   "metadata": {},
   "source": [
    "### 代表値の確認\n",
    "\n",
    "データフレームのデータから平均値，中央値，最頻値を求めます．\n",
    "なお，最頻値については数値データが離散的なため値そのものが階級になっています．\n",
    "\n",
    "```Python\n",
    "print('平均値',df.defects.mean())\n",
    "print('中央値',df.defects.median())\n",
    "print('最頻値',df.defects.mode()[0])\n",
    "```"
   ]
  },
  {
   "cell_type": "code",
   "execution_count": 3,
   "metadata": {
    "scrolled": true
   },
   "outputs": [
    {
     "name": "stdout",
     "output_type": "stream",
     "text": [
      "平均値 4.0\n",
      "中央値 3.0\n",
      "最頻値 1\n"
     ]
    }
   ],
   "source": [
    "print('平均値',df.defects.mean())\n",
    "print('中央値',df.defects.median())\n",
    "print('最頻値',df.defects.mode()[0])"
   ]
  },
  {
   "cell_type": "markdown",
   "metadata": {},
   "source": [
    "この例では，3つの代表値が異なる値になっています．\n",
    "この差異は，データ分布によって引き起こされています．\n",
    "したがって，ヒストグラムと代表値を一緒に眺めることが大切です．"
   ]
  },
  {
   "cell_type": "markdown",
   "metadata": {},
   "source": [
    "### 度数分布表\n",
    "\n",
    "度数分布表を作成します．\n",
    "\n",
    "```Python\n",
    "fdt = pd.DataFrame(df.defects.value_counts())\n",
    "fdt.rename(columns={'defects':'frequency'},inplace=True)\n",
    "fdt.sort_index(inplace=True)\n",
    "```"
   ]
  },
  {
   "cell_type": "code",
   "execution_count": 4,
   "metadata": {
    "collapsed": true
   },
   "outputs": [],
   "source": [
    "fdt = pd.DataFrame(df.defects.value_counts())\n",
    "fdt.rename(columns={'defects':'frequency'},inplace=True)\n",
    "fdt.sort_index(inplace=True)"
   ]
  },
  {
   "cell_type": "markdown",
   "metadata": {},
   "source": [
    "### ヒストグラム\n",
    "\n",
    "サンプルデータのヒストグラムを作成し，その上に平均値，中央値，最頻値を記載します．\n",
    "\n",
    "```Python\n",
    "plt.bar(fdt.index,fdt.frequency,width=1,color='lightcyan',edgecolor='black')\n",
    "plt.vlines(df.defects.mean(),0,11,color='blue',linestyles='dashed',label='mean')\n",
    "plt.vlines(df.defects.median(),0,11,color='green',linestyles='dashed',label='median')\n",
    "plt.vlines(df.defects.mode()[0],0,11,color='red',linestyles='dashed',label='mode')\n",
    "plt.legend()\n",
    "plt.xlabel('Defects')\n",
    "plt.ylabel('Frequency')\n",
    "plt.show()\n",
    "```"
   ]
  },
  {
   "cell_type": "code",
   "execution_count": 5,
   "metadata": {},
   "outputs": [
    {
     "data": {
      "image/png": "[encoded data removed]",
      "text/plain": [
       "<matplotlib.figure.Figure at 0x228e838cc18>"
      ]
     },
     "metadata": {},
     "output_type": "display_data"
    }
   ],
   "source": [
    "plt.bar(fdt.index,fdt.frequency,width=1,color='lightcyan',edgecolor='black')\n",
    "plt.vlines(df.defects.mean(),0,11,color='blue',linestyles='dashed',label='mean')\n",
    "plt.vlines(df.defects.median(),0,11,color='green',linestyles='dashed',label='median')\n",
    "plt.vlines(df.defects.mode()[0],0,11,color='red',linestyles='dashed',label='mode')\n",
    "plt.legend()\n",
    "plt.xlabel('Defects')\n",
    "plt.ylabel('Frequency')\n",
    "plt.show()"
   ]
  },
  {
   "cell_type": "markdown",
   "metadata": {},
   "source": [
    "### 代表値の独り歩きを避ける\n",
    "\n",
    "代表値を求める前にヒストグラムでデータ分布を確認することが重要です．\n",
    "特に，このように左右対称でない場合は平均値だけを公表することは危険です．"
   ]
  },
  {
   "cell_type": "markdown",
   "metadata": {},
   "source": [
    "*****\n",
    "## 代表値の特徴\n",
    "\n",
    "平均値，中央値，最頻値には，下表のような長所，短所があります．\n",
    "\n",
    "|代表値|長所|短所|\n",
    "|:---:|:---:|:---:|\n",
    "|平均値|計算処理上，扱いやすい|外れ値の影響を受けやすい|\n",
    "|中央値|外れ値やのノイズに対して安定性がある|データの並べ替え作業が発生する|\n",
    "|最頻値|カテゴリーデータに対しても求められる|階級の設定に依存する|"
   ]
  },
  {
   "cell_type": "markdown",
   "metadata": {},
   "source": [
    "### 外れ値の影響を考慮したら中央値\n",
    "\n",
    "サンプルデータの平均値と中央値を比較すると，平均値の方が高くなっています．\n",
    "この理由は，ヒストグラムの右側に大きな値を取っているデータがあり，この値に引きずられて平均値が大きくなっています．\n",
    "\n",
    "これに対して中央値は，最大値がどんなに大きくなっても引きずられることはありません．\n",
    "したがって，<font color=blue>中央値はノイズに強い代表値</font>という事ができます．\n",
    "\n",
    "一般に度数分布が左右歪になっている場合は，代表値として平均値を採用しないことがデータ分析の常識となっています．"
   ]
  },
  {
   "cell_type": "markdown",
   "metadata": {},
   "source": [
    "### カテゴリーデータには最頻値\n",
    "\n",
    "カテゴリーデータの代表値としては最頻値しか取得できません．\n",
    "満足度などを便宜的に5段階で示して，その平均値を計算することもありますが，それはお勧めできる方法ではありません．\n",
    "\n",
    "カテゴリーデータの例として，日本人の血液型の分布を見て見ましょう．\n",
    "\n",
    "|血液型|割合|\n",
    "|:---:|:---:|\n",
    "| A | 40% |\n",
    "| B | 20% |\n",
    "| O | 30% |\n",
    "|AB | 10% |\n",
    "\n",
    "このデータには平均値や中央値の概念が適用できません．\n",
    "最頻値については，血液型A型が40%で最頻値であることが分かります．"
   ]
  },
  {
   "cell_type": "markdown",
   "metadata": {},
   "source": [
    "### 平均値が重宝する例\n",
    "\n",
    "3つのグループの観測データがあり，それぞれの平均値，中央値，最頻値が求まっています．\n",
    "\n",
    "|グループ|データ件数|平均値|中央値|最頻値|\n",
    "|:---:|:---:|:---:|:---:|:---:|\n",
    "| A | 20 | 70 | 70 | 70 |\n",
    "| B | 30 | 60 | 60 | 60 |\n",
    "| C | 50 | 40 | 40 | 40 |\n",
    "\n",
    "この代表値から全体（A+B+C）の平均値，中央値，最頻値を求めることを考えます．\n",
    "中央値と最頻値は，元データをまとめたデータを作成して，そこから求めることになります．\n",
    "しかし平均値については，グループの平均値の加重平均によって求めることができます．\n",
    "\n",
    "$$ \\bar{x}_{A+B+C} = \\frac{20{\\times}70+30{\\times}60+50{\\times}40}{20+30+50} = 52 $$"
   ]
  },
  {
   "cell_type": "markdown",
   "metadata": {},
   "source": [
    "*****"
   ]
  }
 ],
 "metadata": {
  "kernelspec": {
   "display_name": "Python 3",
   "language": "python",
   "name": "python3"
  },
  "language_info": {
   "codemirror_mode": {
    "name": "ipython",
    "version": 3
   },
   "file_extension": ".py",
   "mimetype": "text/x-python",
   "name": "python",
   "nbconvert_exporter": "python",
   "pygments_lexer": "ipython3",
   "version": "3.6.1"
  }
 },
 "nbformat": 4,
 "nbformat_minor": 2
}
