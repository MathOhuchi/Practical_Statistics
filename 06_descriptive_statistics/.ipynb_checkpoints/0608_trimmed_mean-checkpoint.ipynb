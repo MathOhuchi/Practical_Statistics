{
 "cells": [
  {
   "cell_type": "markdown",
   "metadata": {},
   "source": [
    "# トリム平均\n",
    "\n",
    "全データから最小値付近のデータと最大値付近のデータを取り除いたデータで平均をとった値をトリム平均と言います．\n",
    "取り除くデータの個数に規定はありませんが，データ全体の件数と比較して少ない件数です．\n",
    "最も単純な方法は，最小値と最大値を1つずつ取り除く方法です．\n",
    "\n",
    "何かのノイズの影響を排除するために最小値側か最大値側のどちらかのデータを多く取り除くことも考えられます．\n",
    "しかし，その場合は恣意的データ選択となるので，明確な説明を付随することが前提となります．"
   ]
  },
  {
   "cell_type": "markdown",
   "metadata": {},
   "source": [
    "データを $x_1 \\le x_2 \\le \\cdots \\le x_n$ として，ここから上下の $k$個ずつ削除したトリム平均は次の計算式になります．\n",
    "\n",
    "> $$ \\text{トリム平均} = \\frac{1}{n-2k} \\sum_{i=k+1}^{n-k} x_i $$\n",
    "\n",
    "取り除くデータ件数を増やしていき，残りのデータが1個か2個になったときのトリム平均は中央値に一致します．\n",
    "\n",
    "> $$ \\text{平均値} \\xrightarrow[]{\\,k=1,{\\cdots},{\\lceil}\\frac{n}{2}{\\rceil}-1\\,} \\text{中央値} $$"
   ]
  },
  {
   "cell_type": "markdown",
   "metadata": {},
   "source": [
    "*****\n",
    "## Pythonによるトリム平均\n",
    "\n",
    "Pythonにてトリム平均を求めるには，SciPyライブラリーの<font color=green>trim_mean()</font>関数を使用します．\n",
    "まずは，SciPyライブラリーのstatsを搬入します．\n",
    "また，平均値および中央値を計算するためにNumPyライブラリーも搬入します．\n",
    "\n",
    "```Python\n",
    "from scipy import stats\n",
    "import numpy as np\n",
    "```"
   ]
  },
  {
   "cell_type": "code",
   "execution_count": 1,
   "metadata": {},
   "outputs": [],
   "source": [
    "from scipy import stats\n",
    "import numpy as np"
   ]
  },
  {
   "cell_type": "markdown",
   "metadata": {},
   "source": [
    "テスト用のデータとして10個の値を持つリスト配列を用意します．\n",
    "\n",
    "```Python\n",
    "sample = [10,120,130,140,150,260,370,480,5900,7000]\n",
    "```"
   ]
  },
  {
   "cell_type": "code",
   "execution_count": 2,
   "metadata": {},
   "outputs": [],
   "source": [
    "sample = [10,120,130,140,150,260,370,480,5900,7000]"
   ]
  },
  {
   "cell_type": "markdown",
   "metadata": {},
   "source": [
    "トリム平均は次の関数によって求めることができます．\n",
    "\n",
    ">  \n",
    "<font face='courier new' color='green'>\n",
    "stats.trim_mean(data,proportionToCut)\n",
    "</font>\n",
    "\n",
    "> <font face='courier new'>data </font> : 配列データ  \n",
    "> <font face='courier new'>proportionToCut </font> : 排除するデータの<font color='blue'>片側の割合で0以上0.5未満</font>の値 　\n",
    "\n",
    "proportionToCut=0.1とすると最小値側の10%および最大値側の10%の合わせて20%のデータを排除します．"
   ]
  },
  {
   "cell_type": "markdown",
   "metadata": {},
   "source": [
    "データsampleについて，両端を10%ずつ取り除いたトリム平均は次式となります．\n",
    "\n",
    "```Python\n",
    "stats.trim_mean(sample,0.1)\n",
    "```"
   ]
  },
  {
   "cell_type": "code",
   "execution_count": 3,
   "metadata": {},
   "outputs": [
    {
     "data": {
      "text/plain": [
       "943.75"
      ]
     },
     "execution_count": 3,
     "metadata": {},
     "output_type": "execute_result"
    }
   ],
   "source": [
    "stats.trim_mean(sample,0.1)"
   ]
  },
  {
   "cell_type": "markdown",
   "metadata": {},
   "source": [
    "次のプログラムでは，平均値からトリムの片側の割合を10%ずつ増やしていくと中央値に近づいて行くことを確認します．\n",
    "\n",
    "```Python\n",
    "print(f'平均値\\t\\t：{np.mean(sample)}')\n",
    "for i in range(0,50,10):\n",
    "    print(f'{i:2d}%トリム平均\\t：{stats.trim_mean(sample,i/100)}')\n",
    "print(f'中央値\\t\\t：{np.median(sample)}')\n",
    "```"
   ]
  },
  {
   "cell_type": "code",
   "execution_count": 4,
   "metadata": {},
   "outputs": [
    {
     "name": "stdout",
     "output_type": "stream",
     "text": [
      "平均値\t\t：1456.0\n",
      " 0%トリム平均\t：1456.0\n",
      "10%トリム平均\t：943.75\n",
      "20%トリム平均\t：255.0\n",
      "30%トリム平均\t：230.0\n",
      "40%トリム平均\t：205.0\n",
      "中央値\t\t：205.0\n"
     ]
    }
   ],
   "source": [
    "print(f'平均値\\t\\t：{np.mean(sample)}')\n",
    "for i in range(0,50,10):\n",
    "    print(f'{i:2d}%トリム平均\\t：{stats.trim_mean(sample,i/100)}')\n",
    "print(f'中央値\\t\\t：{np.median(sample)}')"
   ]
  },
  {
   "cell_type": "markdown",
   "metadata": {},
   "source": [
    "トリム平均は，外れ値を除いた平均を求めるために使用します．\n",
    "しかし，外れ値の指定が恣意的になる危険性があるので注意が必要です．\n",
    "\n",
    "*****"
   ]
  }
 ],
 "metadata": {
  "kernelspec": {
   "display_name": "Python 3",
   "language": "python",
   "name": "python3"
  },
  "language_info": {
   "codemirror_mode": {
    "name": "ipython",
    "version": 3
   },
   "file_extension": ".py",
   "mimetype": "text/x-python",
   "name": "python",
   "nbconvert_exporter": "python",
   "pygments_lexer": "ipython3",
   "version": "3.7.4"
  }
 },
 "nbformat": 4,
 "nbformat_minor": 2
}
