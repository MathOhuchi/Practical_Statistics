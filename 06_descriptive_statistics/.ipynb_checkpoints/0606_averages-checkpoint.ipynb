{
 "cells": [
  {
   "cell_type": "markdown",
   "metadata": {},
   "source": [
    "# 色々な平均\n",
    "\n",
    "これまで説明した平均は，正確には相加平均と言われる計算方法です．\n",
    "実は，平均と言われる計算方法には3種類の計算方法があります．\n",
    "\n",
    "- 算術平均（相加平均）\n",
    "- 幾何平均（相乗平均）\n",
    "- 調和平均\n",
    "\n",
    "説明のためのデータを $x_1,x_2,{\\cdots},x_n$ とします．"
   ]
  },
  {
   "cell_type": "markdown",
   "metadata": {
    "collapsed": true
   },
   "source": [
    "*****\n",
    "## 算術平均\n",
    "\n",
    "私たちが普段使っている平均を算術平均と言います．\n",
    "この平均については既に説明済みなので，定義式を再度掲示するだけに留めます．\n",
    "\n",
    ">  \n",
    "$$ \\bar{x} = \\frac{1}{n} \\sum_{i=1}^n x_i = \\frac{x_1+x_2+{\\cdots}+x_n}{n} $$"
   ]
  },
  {
   "cell_type": "markdown",
   "metadata": {},
   "source": [
    "*****\n",
    "## 幾何平均\n",
    "\n",
    "データを全て掛け合わせ，そのn乗根をとったものを幾何平均と言います．\n",
    "掛け算になるので，前提条件として全てのデータは正の実数を仮定します．\n",
    "幾何平均 $x_G$ は次の式で定義します．\n",
    "\n",
    ">  \n",
    "$$ x_G = \\sqrt[n]{x_1{\\cdot}x_2{\\cdots}x_n} $$"
   ]
  },
  {
   "cell_type": "markdown",
   "metadata": {},
   "source": [
    "### 幾何平均の適用例\n",
    "\n",
    "毎年，利率が変化するローンがについて，全期間を通した利率を計算する場合に幾何平均を使用します．\n",
    "次の例は5年ローンの毎年の利率を示しています．\n",
    "この全体の平均利率を計算します．\n",
    "\n",
    "|     |1年目|2年目|3年目|4年目|5年目|\n",
    "|:---:|:---:|:---:|:---:|:---:|:---:|\n",
    "|**利率**| 10% | 20% | 30% | 50% | 90% |"
   ]
  },
  {
   "cell_type": "markdown",
   "metadata": {},
   "source": [
    "データを倍率に換算してリスト配列で定義します．\n",
    "また，算術平均との比較のために算術平均も計算します．\n",
    "\n",
    "```Python\n",
    "x = [1.1,1.2,1.3,1.5,1.9]\n",
    "sum(x)/len(x)\n",
    "```"
   ]
  },
  {
   "cell_type": "code",
   "execution_count": 1,
   "metadata": {},
   "outputs": [
    {
     "data": {
      "text/plain": [
       "1.4"
      ]
     },
     "execution_count": 1,
     "metadata": {},
     "output_type": "execute_result"
    }
   ],
   "source": [
    "x = [1.1,1.2,1.3,1.5,1.9]\n",
    "sum(x)/len(x)"
   ]
  },
  {
   "cell_type": "markdown",
   "metadata": {},
   "source": [
    "リスト配列の要素の総積の計算はNumPyライブラリーの<font color=green>prod()</font>関数を使用します．\n",
    "そのためにNumPyライブラリーを搬入します．\n",
    "また冪乗根は<font color=green>pow()</font>関数で計算します．\n",
    "\n",
    "```Python\n",
    "import numpy as np\n",
    "pow(np.prod(x),1/len(x))\n",
    "```"
   ]
  },
  {
   "cell_type": "code",
   "execution_count": 2,
   "metadata": {},
   "outputs": [
    {
     "data": {
      "text/plain": [
       "1.3736384180250774"
      ]
     },
     "execution_count": 2,
     "metadata": {},
     "output_type": "execute_result"
    }
   ],
   "source": [
    "import numpy as np\n",
    "pow(np.prod(x),1/len(x))"
   ]
  },
  {
   "cell_type": "markdown",
   "metadata": {},
   "source": [
    "また，幾何平均を計算する関数として，<font color=green>SciPy.stats.mstats</font>ライブラリーの<font color=green>gmean()</font>関数があります．\n",
    "この関数を利用した計算も実施します．\n",
    "\n",
    "```Python\n",
    "from scipy.stats.mstats import gmean\n",
    "gmean(x)\n",
    "```"
   ]
  },
  {
   "cell_type": "code",
   "execution_count": 3,
   "metadata": {},
   "outputs": [
    {
     "data": {
      "text/plain": [
       "1.3736384180250774"
      ]
     },
     "execution_count": 3,
     "metadata": {},
     "output_type": "execute_result"
    }
   ],
   "source": [
    "from scipy.stats.mstats import gmean\n",
    "gmean(x)"
   ]
  },
  {
   "cell_type": "markdown",
   "metadata": {},
   "source": [
    "幾何平均が算術平均と異なる値になることが確認できました．"
   ]
  },
  {
   "cell_type": "markdown",
   "metadata": {},
   "source": [
    "*****\n",
    "## 調和平均\n",
    "\n",
    "データの値の逆数を算術平均して，その逆数を調和平均と言います．\n",
    "逆数を計算するので，各データの値は正の整数であることを仮定します．\n",
    "調和平均 $x_H$ は次の式で定義されます．\n",
    "\n",
    "> \n",
    "$$ \\frac{1}{x_H} = \\frac{1}{n} \\left( \\frac{1}{x_1} + \\frac{1}{x_2} + \\cdots + \\frac{1}{x_n} \\right) $$\n",
    "\n",
    "この式を $x_H$ で解くと次式になります．\n",
    "\n",
    "> \n",
    "$$ x_H = \\frac{n}{\\left( \\frac{1}{x_1} + \\frac{1}{x_2} + \\cdots + \\frac{1}{x_n} \\right)} $$"
   ]
  },
  {
   "cell_type": "markdown",
   "metadata": {},
   "source": [
    "### 調和平均の適用例\n",
    "\n",
    "何らかの変化率の平均を計算するときは調和平均を使います．\n",
    "具体例として，自動車で2ヶ所の間を往復するときの行きの速度と返りの速度の平均を考えます．\n",
    "\n",
    "- 2ヶ所の距離を 100Km とします．\n",
    "- 行きは4時間かかりました．\n",
    "- 帰りは2時間かかりました．\n",
    "\n",
    "この結果として，行きの速度は 25Km/h で，帰りの速度は 50Km/h となります．  \n",
    "また往復は200Kmを6時間かかったので往復での速度は$200 \\div 6 = 33.333\\cdots $となります．"
   ]
  },
  {
   "cell_type": "markdown",
   "metadata": {},
   "source": [
    "まず，行きと帰りの速度のデータを定義します．\n",
    "そして，比較のために算術平均を計算します．\n",
    "\n",
    "```Python\n",
    "x = [25,50]\n",
    "sum(x)/len(x)\n",
    "```"
   ]
  },
  {
   "cell_type": "code",
   "execution_count": 4,
   "metadata": {},
   "outputs": [
    {
     "data": {
      "text/plain": [
       "37.5"
      ]
     },
     "execution_count": 4,
     "metadata": {},
     "output_type": "execute_result"
    }
   ],
   "source": [
    "x = [25,50]\n",
    "sum(x)/len(x)"
   ]
  },
  {
   "cell_type": "markdown",
   "metadata": {},
   "source": [
    "算術平均の結果は，往復の平均速度にはなっていません．\n",
    "\n",
    "今度は，調和平均の定義に沿って計算します．\n",
    "\n",
    "```Python\n",
    "len(x)/sum([1/a for a in x])\n",
    "```"
   ]
  },
  {
   "cell_type": "code",
   "execution_count": 5,
   "metadata": {
    "scrolled": true
   },
   "outputs": [
    {
     "data": {
      "text/plain": [
       "33.333333333333336"
      ]
     },
     "execution_count": 5,
     "metadata": {},
     "output_type": "execute_result"
    }
   ],
   "source": [
    "len(x)/sum([1/a for a in x])"
   ]
  },
  {
   "cell_type": "markdown",
   "metadata": {},
   "source": [
    "調和平均の結果が往復の平均速度と一致しました．\n",
    "\n",
    "また調和平均は，<font color=green>statistics</font>ライブラリーの<font color=green>harmonic_mean()</font>関数で計算することができます．\n",
    "\n",
    "```Python\n",
    "from statistics import harmonic_mean\n",
    "harmonic_mean(x)\n",
    "```"
   ]
  },
  {
   "cell_type": "code",
   "execution_count": 6,
   "metadata": {},
   "outputs": [
    {
     "data": {
      "text/plain": [
       "33.333333333333336"
      ]
     },
     "execution_count": 6,
     "metadata": {},
     "output_type": "execute_result"
    }
   ],
   "source": [
    "from statistics import harmonic_mean\n",
    "harmonic_mean(x)"
   ]
  },
  {
   "cell_type": "markdown",
   "metadata": {},
   "source": [
    "以上のように状況によって，算術平均，幾何平均，調和平均を使い分けることを理解しましょう．\n",
    "\n",
    "*****"
   ]
  }
 ],
 "metadata": {
  "kernelspec": {
   "display_name": "Python 3",
   "language": "python",
   "name": "python3"
  },
  "language_info": {
   "codemirror_mode": {
    "name": "ipython",
    "version": 3
   },
   "file_extension": ".py",
   "mimetype": "text/x-python",
   "name": "python",
   "nbconvert_exporter": "python",
   "pygments_lexer": "ipython3",
   "version": "3.6.1"
  }
 },
 "nbformat": 4,
 "nbformat_minor": 2
}
