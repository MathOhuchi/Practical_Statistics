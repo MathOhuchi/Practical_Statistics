{
 "cells": [
  {
   "cell_type": "markdown",
   "metadata": {},
   "source": [
    "# 記述統計\n",
    "\n",
    "取扱う変量を単独の変量に限定して記述統計の基礎を学習します．\n",
    "\n",
    "ここで取扱うデータは実数値とします．"
   ]
  },
  {
   "cell_type": "markdown",
   "metadata": {
    "collapsed": true
   },
   "source": [
    "## 分布を確認する\n",
    "\n",
    "まずはデータの分布を確認します．\n",
    "そのために度数分布表とヒストグラムについて学びます．\n",
    "\n",
    "- 数値の階級化\n",
    "- 度数分布表\n",
    "- ヒストグラム\n",
    "\n",
    "この具体的例についてはPythonのデータフレームのデータで学習します．"
   ]
  },
  {
   "cell_type": "markdown",
   "metadata": {},
   "source": [
    "## 代表値を調べる\n",
    "\n",
    "次に一般的な代表値について学習します．\n",
    "次のものが具体的な代表値です．\n",
    "\n",
    "- 平均値\n",
    "- 中央値\n",
    "- 最頻値\n",
    "\n",
    "さらにPytohonのデータフレームにおいて代表値を求めます．\n",
    "そして，それぞれの代表値の特徴について学びます．"
   ]
  },
  {
   "cell_type": "markdown",
   "metadata": {},
   "source": [
    "平均値についてですば，私たちが普段使っている平均値は算術平均と言います．\n",
    "平均値には3種類あるので，それらの違いを確認します．\n",
    "\n",
    "- 算術平均（相加平均）\n",
    "- 幾何平均（相乗平均）\n",
    "- 調和平均"
   ]
  },
  {
   "cell_type": "markdown",
   "metadata": {},
   "source": [
    "その外にも代表値がありますので，それらについて学習します．\n",
    "\n",
    "- 最大値，最小値\n",
    "- トリム平均\n",
    "- 分位数：四分位数，パーセンタイル"
   ]
  },
  {
   "cell_type": "markdown",
   "metadata": {},
   "source": [
    "## 散布度\n",
    "\n",
    "データのバラツキ具合を表す指標として散布度があります．\n",
    "\n",
    "- 標準偏差と分散\n",
    "- 平均偏差\n",
    "- 中央値絶対偏差\n",
    "- 四分位範囲と四分位偏差\n",
    "\n",
    "これらについて学習します．\n",
    "また，外れ値についての定義も確認します．"
   ]
  },
  {
   "cell_type": "markdown",
   "metadata": {},
   "source": [
    "四分位数に基づいた箱ひげ図についても学びます．\n",
    "更にPythonでの箱ひげ図の作図方法も学びます．"
   ]
  },
  {
   "cell_type": "markdown",
   "metadata": {},
   "source": [
    "## 変量の標準化\n",
    "\n",
    "統計では異なるデータを比較するためにデータの標準化を行いますので，標準化の方法について学習します．\n",
    "\n",
    "- 標準化変量\n",
    "- 偏差値\n",
    "- 正規化"
   ]
  },
  {
   "cell_type": "markdown",
   "metadata": {},
   "source": [
    "*****"
   ]
  }
 ],
 "metadata": {
  "kernelspec": {
   "display_name": "Python 3",
   "language": "python",
   "name": "python3"
  },
  "language_info": {
   "codemirror_mode": {
    "name": "ipython",
    "version": 3
   },
   "file_extension": ".py",
   "mimetype": "text/x-python",
   "name": "python",
   "nbconvert_exporter": "python",
   "pygments_lexer": "ipython3",
   "version": "3.6.1"
  }
 },
 "nbformat": 4,
 "nbformat_minor": 2
}
