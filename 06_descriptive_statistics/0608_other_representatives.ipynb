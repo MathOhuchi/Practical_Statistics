{
 "cells": [
  {
   "cell_type": "markdown",
   "metadata": {},
   "source": [
    "# その他の代表値\n",
    "\n",
    "重要な代表値を説明しましたが，その他にもよく使われる代表値があります．\n",
    "\n",
    "- 最大値，最小値\n",
    "- トリム平均"
   ]
  },
  {
   "cell_type": "markdown",
   "metadata": {},
   "source": [
    "*****\n",
    "## 最大値，最小値\n",
    "\n",
    "最大値は，そのデータ集合の中で最大の値です．\n",
    "最小値は，そのデータ集合の中で最小の値です．\n",
    "\n",
    "ここでデータを $x_1,x_2,\\cdots,x_n$ とします．\n",
    "最大値を $x_{max}$，最小値を $x_{min}$ とすると，\n",
    "\n",
    "> $$ x_{max} \\ge x_i \\ (i=1,\\cdots,n) $$\n",
    "\n",
    "> $$ x_{min} \\le x_i \\ (i=1,\\cdots,n) $$\n",
    "\n",
    "が成り立ちます．"
   ]
  },
  {
   "cell_type": "markdown",
   "metadata": {},
   "source": [
    "データを昇順にソートして，$x_1 \\le x_2 \\le \\cdots \\le x_n$ とすると，\n",
    "\n",
    "> $$ x_{max} = x_n $$\n",
    "\n",
    "> $$ x_{min} = x_1 $$\n",
    "\n",
    "となります．"
   ]
  },
  {
   "cell_type": "markdown",
   "metadata": {},
   "source": [
    "*****\n",
    "## トリム平均\n",
    "\n",
    "全データから最小値付近のデータと最大値付近のデータを取り除いたデータで平均をとった値をトリム平均と言います．\n",
    "取り除くデータの個数に規定はありませんが，データ全体の件数と比較して少ない件数です．\n",
    "最も単純な方法は，最小値と最大値を1つずつ取り除く方法です．\n",
    "\n",
    "何かのノイズの影響を排除するために最小値側か最大値側のどちらかのデータを多く取り除くことも考えられます．\n",
    "しかし，その場合は恣意的データ選択となるので，明確な説明を付随することが前提となります．"
   ]
  },
  {
   "cell_type": "markdown",
   "metadata": {},
   "source": [
    "データを $x_1 \\le x_2 \\le \\cdots \\le x_n$ として，ここから上下の $k$個ずつ削除したトリム平均は次の計算式になります．\n",
    "\n",
    "> $$ \\text{トリム平均} = \\frac{1}{n-2k} \\sum_{i=k+1}^{n-k} x_i $$\n",
    "\n",
    "取り除くデータ件数を増やしていき，残りのデータが1個か2個になったときのトリム平均は中央値に一致します．"
   ]
  },
  {
   "cell_type": "markdown",
   "metadata": {},
   "source": [
    "*****\n",
    "## Pythonによるトリム平均\n",
    "\n",
    "Pythonにてトリム平均を求めるには，SciPyライブラリーの<font color=green>trim_mean()</font>関数を使用します．\n",
    "まずは，SciPyライブラリーのstatsを搬入します．\n",
    "\n",
    "```Python\n",
    "from scipy import stats\n",
    "```"
   ]
  },
  {
   "cell_type": "code",
   "execution_count": 1,
   "metadata": {
    "collapsed": true
   },
   "outputs": [],
   "source": [
    "from scipy import stats"
   ]
  },
  {
   "cell_type": "markdown",
   "metadata": {},
   "source": [
    "テスト用のデータとして10個の値を持つリスト配列を用意します．\n",
    "\n",
    "```Python\n",
    "pretrim = [10,120,130,140,150,260,370,480,5900,7000]\n",
    "```"
   ]
  },
  {
   "cell_type": "code",
   "execution_count": 2,
   "metadata": {
    "collapsed": true
   },
   "outputs": [],
   "source": [
    "pretrim = [10,120,130,140,150,260,370,480,5900,7000]"
   ]
  },
  {
   "cell_type": "markdown",
   "metadata": {},
   "source": [
    "トリム平均は次の関数によって求めることができます．\n",
    "\n",
    "> \n",
    "<font face='courier new'>\n",
    "stats.trim_mean(data,proportionToCut)\n",
    "</font>\n",
    "\n",
    "引数の<font face='courier new'>proportionToCut</font>は，排除するデータの割合で0以上0.5未満の値です．\n",
    "proportionToCut=0.1とすると最小値側の10%および最大値側の10%の合わせて20%のデータを排除します．\n",
    "\n",
    "```Python\n",
    "print(stats.trim_mean(pretrim,0))\n",
    "print(stats.trim_mean(pretrim,0.1))\n",
    "print(stats.trim_mean(pretrim,0.2))\n",
    "print(stats.trim_mean(pretrim,0.3))\n",
    "print(stats.trim_mean(pretrim,0.4))\n",
    "```"
   ]
  },
  {
   "cell_type": "code",
   "execution_count": 3,
   "metadata": {},
   "outputs": [
    {
     "name": "stdout",
     "output_type": "stream",
     "text": [
      "1456.0\n",
      "943.75\n",
      "255.0\n",
      "230.0\n",
      "205.0\n"
     ]
    }
   ],
   "source": [
    "print(stats.trim_mean(pretrim,0))\n",
    "print(stats.trim_mean(pretrim,0.1))\n",
    "print(stats.trim_mean(pretrim,0.2))\n",
    "print(stats.trim_mean(pretrim,0.3))\n",
    "print(stats.trim_mean(pretrim,0.4))"
   ]
  },
  {
   "cell_type": "markdown",
   "metadata": {},
   "source": [
    "トリム平均は，外れ値を除いた平均を求めるために使用します．\n",
    "しかし，外れ値の指定が恣意的になる危険性があるので注意が必要です．\n",
    "\n",
    "*****"
   ]
  }
 ],
 "metadata": {
  "kernelspec": {
   "display_name": "Python 3",
   "language": "python",
   "name": "python3"
  },
  "language_info": {
   "codemirror_mode": {
    "name": "ipython",
    "version": 3
   },
   "file_extension": ".py",
   "mimetype": "text/x-python",
   "name": "python",
   "nbconvert_exporter": "python",
   "pygments_lexer": "ipython3",
   "version": "3.6.1"
  }
 },
 "nbformat": 4,
 "nbformat_minor": 2
}
