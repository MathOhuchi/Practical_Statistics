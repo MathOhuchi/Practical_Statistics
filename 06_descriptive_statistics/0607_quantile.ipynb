{
 "cells": [
  {
   "cell_type": "markdown",
   "metadata": {},
   "source": [
    "# その他の代表値\n",
    "\n",
    "重要な代表値として平均値，中央値，最頻値を説明しましたが，その他にもよく使われる代表値があります．\n",
    "\n",
    "- 最大値，最小値\n",
    "- トリム平均\n",
    "- 分位数：四分位数，パーセンタイル"
   ]
  },
  {
   "cell_type": "markdown",
   "metadata": {},
   "source": [
    "*****\n",
    "## 最大値，最小値\n",
    "\n",
    "最大値は，そのデータ集合の中で最大の値です．\n",
    "最小値は，そのデータ集合の中で最小の値です．\n",
    "\n",
    "ここでデータを $x_1,x_2,\\cdots,x_n$ とします．\n",
    "最大値を $x_{max}$，最小値を $x_{min}$ とすると，\n",
    "\n",
    "> $$ x_{max} \\ge x_i \\ (i=1,\\cdots,n) $$\n",
    "\n",
    "> $$ x_{min} \\le x_i \\ (i=1,\\cdots,n) $$\n",
    "\n",
    "が成り立ちます．"
   ]
  },
  {
   "cell_type": "markdown",
   "metadata": {},
   "source": [
    "データを昇順にソートして，$x_1 \\le x_2 \\le \\cdots \\le x_n$ とすると，\n",
    "\n",
    "> $$ x_{max} = x_n $$\n",
    "\n",
    "> $$ x_{min} = x_1 $$\n",
    "\n",
    "となります．"
   ]
  },
  {
   "cell_type": "markdown",
   "metadata": {},
   "source": [
    "*****\n",
    "## トリム平均\n",
    "\n",
    "全データから最小値付近のデータと最大値付近のデータを取り除いたデータで平均をとった値をトリム平均と言います．\n",
    "取り除くデータの個数に規定はありませんが，データ全体の件数と比較して少ない件数です．\n",
    "最も単純な方法は，最小値と最大値を1つずつ取り除く方法です．\n",
    "\n",
    "何かのノイズの影響を排除するために最小値側か最大値側のどちらかのデータを多く取り除くことも考えられます．\n",
    "しかし，その場合は恣意的データ選択となるので，明確な説明を付随することが前提となります．"
   ]
  },
  {
   "cell_type": "markdown",
   "metadata": {},
   "source": [
    "データを $x_1 \\le x_2 \\le \\cdots \\le x_n$ として，ここから上下の $k$個ずつ削除したトリム平均は次の計算式になります．\n",
    "\n",
    "> $$ \\text{トリム平均} = \\frac{1}{n-2k} \\sum_{i=k+1}^{n-k} x_i $$\n",
    "\n",
    "取り除くデータ件数を増やしていき，残りのデータが1個か2個になったときのトリム平均は中央値に一致します．"
   ]
  },
  {
   "cell_type": "markdown",
   "metadata": {},
   "source": [
    "*****\n",
    "## Pythonによるトリム平均\n",
    "\n",
    "Pythonにてトリム平均を求めるには，SciPyライブラリーの<font color=green>trim_mean()</font>関数を使用します．\n",
    "まずは，SciPyライブラリーのstatsを搬入します．\n",
    "\n",
    "```Python\n",
    "from scipy import stats\n",
    "```"
   ]
  },
  {
   "cell_type": "code",
   "execution_count": 1,
   "metadata": {
    "collapsed": true
   },
   "outputs": [],
   "source": [
    "from scipy import stats"
   ]
  },
  {
   "cell_type": "markdown",
   "metadata": {},
   "source": [
    "テスト用のデータとして10個の値を持つリスト配列を用意します．\n",
    "\n",
    "```Python\n",
    "pretrim = [10,120,130,140,150,260,370,480,5900,7000]\n",
    "```"
   ]
  },
  {
   "cell_type": "code",
   "execution_count": 2,
   "metadata": {
    "collapsed": true
   },
   "outputs": [],
   "source": [
    "pretrim = [10,120,130,140,150,260,370,480,5900,7000]"
   ]
  },
  {
   "cell_type": "markdown",
   "metadata": {},
   "source": [
    "トリム平均は次の関数によって求めることができます．\n",
    "\n",
    "> \n",
    "<font face='courier new'>\n",
    "stats.trim_mean(data,proportionToCut)\n",
    "</font>\n",
    "\n",
    "引数の<font face='courier new'>proportionToCut</font>は，排除するデータの割合で0以上0.5未満の値です．\n",
    "proportionToCut=0.1とすると最小値側の10%および最大値側の10%の合わせて20%のデータを排除します．\n",
    "\n",
    "```Python\n",
    "print(stats.trim_mean(pretrim,0))\n",
    "print(stats.trim_mean(pretrim,0.1))\n",
    "print(stats.trim_mean(pretrim,0.2))\n",
    "print(stats.trim_mean(pretrim,0.3))\n",
    "print(stats.trim_mean(pretrim,0.4))\n",
    "```"
   ]
  },
  {
   "cell_type": "code",
   "execution_count": 3,
   "metadata": {},
   "outputs": [
    {
     "name": "stdout",
     "output_type": "stream",
     "text": [
      "1456.0\n",
      "943.75\n",
      "255.0\n",
      "230.0\n",
      "205.0\n"
     ]
    }
   ],
   "source": [
    "print(stats.trim_mean(pretrim,0))\n",
    "print(stats.trim_mean(pretrim,0.1))\n",
    "print(stats.trim_mean(pretrim,0.2))\n",
    "print(stats.trim_mean(pretrim,0.3))\n",
    "print(stats.trim_mean(pretrim,0.4))"
   ]
  },
  {
   "cell_type": "markdown",
   "metadata": {},
   "source": [
    "*****\n",
    "## 分位数\n",
    "\n",
    "n個のデータについて K分位数とは，このデータを昇順にして同じ個数のK個のグループに分割します．\n",
    "nとKとの関係としては，K $\\ll$ n を想定します．\n",
    "この最初の分割点のデータの値を第$1$K分位数と言います．\n",
    "そして，m番目の分割点のデータの値を第$m$K分位数と言います．\n",
    "このようにK個に分けると，K-1個の分位数が定まります．\n",
    "\n",
    "分位数の代表的なものが四分位数とパーセンタイルです．\n",
    "パーセンタイルは百分位数とも言います．\n",
    "なお二分位数は中央値です．\n",
    "\n",
    "分位数を定めるときの問題は，K個のグループに分けようとしても丁度切りの良い整数にならないことです．"
   ]
  },
  {
   "cell_type": "markdown",
   "metadata": {},
   "source": [
    "## 分位数の定義\n",
    "\n",
    "$m$K分位数によって，データ件数が$\\frac{m}{K}:\\frac{K-m}{K}$の比率になるように分けるのですが，\n",
    "データ件数が少ない場合に定義の仕方によって差が生じる可能性があります．\n",
    "\n",
    "まず，n個のデータが昇順に定義されているとします．\n",
    "\n",
    "> $$ x_1 \\le x_2 \\le \\cdots \\le x_n $$\n",
    "\n",
    "このデータに対して，**第$m$K分位数**の定義を記載します．\n",
    "第$m$K分位数を $Q_{m/K}$ あるいは $K$を省略して $Q_m$ と表記します．\n",
    "慣例として，四分位数の場合は$K$を省略して第1四分位数を$Q_1$のように表すことが多いです．"
   ]
  },
  {
   "cell_type": "markdown",
   "metadata": {},
   "source": [
    "### 両端の値\n",
    "\n",
    "分位数の定義の方針として，両端を次のように考えます．\n",
    "\n",
    "> $$ Q_{0/K} = x_0 $$\n",
    "\n",
    "> $$ Q_{K/K} = x_n $$\n",
    "\n",
    "すなわち，$Q_{0/K}$ は最小値，$Q_{K/K}$ は最大値です．"
   ]
  },
  {
   "cell_type": "markdown",
   "metadata": {},
   "source": [
    "### $Q_{m/K}$の定義\n",
    "\n",
    "$0 \\le m \\le K$とします．\n",
    "\n",
    "\n",
    "> $$ Q_{m/K} = x\\left(\\frac{m}{K}(n-1)+1\\right) $$\n",
    "\n",
    "ここで $t = t(m) = \\frac{m}{K}(n-1)+1$ と置くと，\n",
    "$t(0)=1$ かつ $t(K)=n$ となるので，\n",
    "$1{\\le}t{\\le}n$ が成り立ちます．"
   ]
  },
  {
   "cell_type": "markdown",
   "metadata": {},
   "source": [
    "ここで，関数 $x(t)$ を\n",
    "\n",
    "> $$ x(t) = \n",
    "\\begin{eqnarray}\n",
    "  \\begin{cases}\n",
    "    x_t & \\text{if} & t \\in \\mathbb{N} \\\\\n",
    "    ({\\lceil}t{\\rceil}-t)x_{\\lfloor t \\rfloor} + (t-{\\lfloor}t{\\rfloor})x_{\\lceil t \\rceil} & \\text{if} & t \\notin \\mathbb{N} \\\\\n",
    "  \\end{cases}\n",
    "\\end{eqnarray}\n",
    "$$\n",
    "\n",
    "とします．"
   ]
  },
  {
   "cell_type": "markdown",
   "metadata": {},
   "source": [
    "### 床関数と天井関数\n",
    "\n",
    "関数 $x(t)$ の定義において目新しい記号 ${\\lfloor}t{\\rfloor}$ および ${\\lceil}t{\\rceil}$ がありますが，\n",
    "これは床関数と天井関数と言います．\n",
    "\n",
    "$t \\in \\mathbb{R}$ に対して，\n",
    "\n",
    "> $$ {\\lfloor}t{\\rfloor} = max\\{ n \\in \\mathbb{N} \\mid n \\le t \\} $$\n",
    "\n",
    "> $$ {\\lceil}t{\\rceil}   = min\\{ n \\in \\mathbb{N} \\mid t \\le n \\} $$\n",
    "\n",
    "すなわち，${\\lfloor}t{\\rfloor}$ は $t$ 以下の最大の整数です．\n",
    "また， ${\\lceil}t{\\rceil}$ は $t$ 以上の最小の整数です．"
   ]
  },
  {
   "cell_type": "markdown",
   "metadata": {},
   "source": [
    "*****\n",
    "## 四分位数の例\n",
    "\n",
    "データ件数が少ない場合を例にとって具体的な四分位数を求めます．\n",
    "\n",
    "|$x_1$|$x_2$|$x_3$|$x_4$|$x_5$|$x_6$|\n",
    "|:---:|:---:|:---:|:---:|:---:|:---:|\n",
    "| 10  | 20  | 30  | 40  | 60  | 80  |\n",
    "\n",
    "パラメータを確認します．\n",
    "\n",
    ">  \n",
    "- データ件数：$n=6$\n",
    "- グループ数：$K=4$"
   ]
  },
  {
   "cell_type": "markdown",
   "metadata": {},
   "source": [
    "### 第1四分位数\n",
    "\n",
    "$$ \\begin{eqnarray}\n",
    "Q_{1/4} &=& x\\left( \\frac{1}{4}(6-1)+1 \\right) \\\\ \n",
    "&=& x\\left( 2.25 \\right) \\\\\n",
    "&=& ({\\lceil}2.25{\\rceil}-2.25)x_{\\lfloor 2.25 \\rfloor} + (2.25-{\\lfloor}2.25{\\rfloor})x_{\\lceil 2.25 \\rceil} \\\\\n",
    "&=& (3-2.25)x_2 + (2.25-2)x_3 \\\\\n",
    "&=& 0.75{\\times}20 + 0.25{\\times}30 \\\\\n",
    "&=& 15+7.5 \\\\\n",
    "&=& 22.5\n",
    "\\end{eqnarray} $$"
   ]
  },
  {
   "cell_type": "markdown",
   "metadata": {},
   "source": [
    "### 第2四分位数（中央値）\n",
    "\n",
    "$$ \\begin{eqnarray}\n",
    "Q_{2/4} &=& x\\left( \\frac{2}{4}(6-1)+1 \\right) \\\\ \n",
    "&=& x\\left( 3.5 \\right) \\\\\n",
    "&=& ({\\lceil}3.5{\\rceil}-3.5)x_{\\lfloor 3.5 \\rfloor} + (3.5-{\\lfloor}3.5{\\rfloor})x_{\\lceil 3.5 \\rceil} \\\\\n",
    "&=& (4-3.5)x_3 + (3.5-3)x_4 \\\\\n",
    "&=& 0.5{\\times}30 + 0.5{\\times}40 \\\\\n",
    "&=& 15+20 \\\\\n",
    "&=& 35\n",
    "\\end{eqnarray} $$"
   ]
  },
  {
   "cell_type": "markdown",
   "metadata": {},
   "source": [
    "### 第3四分位数\n",
    "\n",
    "$$ \\begin{eqnarray}\n",
    "Q_{3/4} &=& x\\left( \\frac{3}{4}(6-1)+1 \\right) \\\\ \n",
    "&=& x\\left( 4.75 \\right) \\\\\n",
    "&=& ({\\lceil}4.75{\\rceil}-4.75)x_{\\lfloor 4.75 \\rfloor} + (4.75-{\\lfloor}4.75{\\rfloor})x_{\\lceil 4.75 \\rceil} \\\\\n",
    "&=& (5-4.75)x_4 + (4.75-4)x_5 \\\\\n",
    "&=& 0.25{\\times}40 + 0.75{\\times}60 \\\\\n",
    "&=& 10+45 \\\\\n",
    "&=& 55\n",
    "\\end{eqnarray} $$"
   ]
  },
  {
   "cell_type": "markdown",
   "metadata": {},
   "source": [
    "*****\n",
    "## Pythonによる分位数\n",
    "\n",
    "上記の四分位数の例をPythonで求めます．\n",
    "PythonではNumPyのpercentile()関数を利用する方法とpandasのquantile()関数を利用する方法があります．\n",
    "ここでは両者の方法で四分位数を求めます．\n",
    "\n",
    "まず，NumPyライブラリーとpandasライブラリーを搬入します．\n",
    "\n",
    "```Python\n",
    "import numpy as np\n",
    "import pandas as pd\n",
    "```"
   ]
  },
  {
   "cell_type": "code",
   "execution_count": 4,
   "metadata": {
    "collapsed": true
   },
   "outputs": [],
   "source": [
    "import numpy as np\n",
    "import pandas as pd"
   ]
  },
  {
   "cell_type": "markdown",
   "metadata": {},
   "source": [
    "データをリスト配列で定義します．\n",
    "\n",
    "```Python\n",
    "data = [10,20,30,40,60,80]\n",
    "```"
   ]
  },
  {
   "cell_type": "code",
   "execution_count": 5,
   "metadata": {
    "collapsed": true
   },
   "outputs": [],
   "source": [
    "data = [10,20,30,40,60,80]"
   ]
  },
  {
   "cell_type": "markdown",
   "metadata": {},
   "source": [
    "まず<font color=green>numpy.percentile()</font>関数によって求めます．\n",
    "\n",
    "```Python\n",
    "np.percentile(data,[0,25,50,75,100])\n",
    "```"
   ]
  },
  {
   "cell_type": "code",
   "execution_count": 6,
   "metadata": {
    "scrolled": true
   },
   "outputs": [
    {
     "data": {
      "text/plain": [
       "array([ 10. ,  22.5,  35. ,  55. ,  80. ])"
      ]
     },
     "execution_count": 6,
     "metadata": {},
     "output_type": "execute_result"
    }
   ],
   "source": [
    "np.percentile(data,[0,25,50,75,100])"
   ]
  },
  {
   "cell_type": "markdown",
   "metadata": {},
   "source": [
    "次に<font color=green>pandas.DataFrame.quantile()</font>関数によって求めます．\n",
    "\n",
    "```Python\n",
    "df = pd.DataFrame(data,columns=['data'])\n",
    "df.quantile([0,0.25,0.5,0.75,1])\n",
    "```"
   ]
  },
  {
   "cell_type": "code",
   "execution_count": 7,
   "metadata": {},
   "outputs": [
    {
     "data": {
      "text/html": [
       "<div>\n",
       "<style>\n",
       "    .dataframe thead tr:only-child th {\n",
       "        text-align: right;\n",
       "    }\n",
       "\n",
       "    .dataframe thead th {\n",
       "        text-align: left;\n",
       "    }\n",
       "\n",
       "    .dataframe tbody tr th {\n",
       "        vertical-align: top;\n",
       "    }\n",
       "</style>\n",
       "<table border=\"1\" class=\"dataframe\">\n",
       "  <thead>\n",
       "    <tr style=\"text-align: right;\">\n",
       "      <th></th>\n",
       "      <th>data</th>\n",
       "    </tr>\n",
       "  </thead>\n",
       "  <tbody>\n",
       "    <tr>\n",
       "      <th>0.00</th>\n",
       "      <td>10.0</td>\n",
       "    </tr>\n",
       "    <tr>\n",
       "      <th>0.25</th>\n",
       "      <td>22.5</td>\n",
       "    </tr>\n",
       "    <tr>\n",
       "      <th>0.50</th>\n",
       "      <td>35.0</td>\n",
       "    </tr>\n",
       "    <tr>\n",
       "      <th>0.75</th>\n",
       "      <td>55.0</td>\n",
       "    </tr>\n",
       "    <tr>\n",
       "      <th>1.00</th>\n",
       "      <td>80.0</td>\n",
       "    </tr>\n",
       "  </tbody>\n",
       "</table>\n",
       "</div>"
      ],
      "text/plain": [
       "      data\n",
       "0.00  10.0\n",
       "0.25  22.5\n",
       "0.50  35.0\n",
       "0.75  55.0\n",
       "1.00  80.0"
      ]
     },
     "execution_count": 7,
     "metadata": {},
     "output_type": "execute_result"
    }
   ],
   "source": [
    "df = pd.DataFrame(data,columns=['data'])\n",
    "df.quantile([0,0.25,0.5,0.75,1])"
   ]
  },
  {
   "cell_type": "markdown",
   "metadata": {},
   "source": [
    "両方とも定義通りの結果になっています．\n",
    "\n",
    "*****"
   ]
  }
 ],
 "metadata": {
  "kernelspec": {
   "display_name": "Python 3",
   "language": "python",
   "name": "python3"
  },
  "language_info": {
   "codemirror_mode": {
    "name": "ipython",
    "version": 3
   },
   "file_extension": ".py",
   "mimetype": "text/x-python",
   "name": "python",
   "nbconvert_exporter": "python",
   "pygments_lexer": "ipython3",
   "version": "3.6.1"
  }
 },
 "nbformat": 4,
 "nbformat_minor": 2
}
