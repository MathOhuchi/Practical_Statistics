{
 "cells": [
  {
   "cell_type": "markdown",
   "metadata": {},
   "source": [
    "# 変量の標準化\n",
    "\n"
   ]
  },
  {
   "cell_type": "markdown",
   "metadata": {},
   "source": [
    "## 標準化変量\n",
    "\n",
    "変量の平均値と標準偏差が求まった後，変数変換によってデータの分布を平均値が $0$ で標準偏差が $1$ になるようにした変量を標準化変量と言います．\n",
    "標準化変量を求める式では標準偏差で割っているので，元の変数は固定値でないことが標準化の前提条件となります．\n",
    "\n",
    "- 元のデータ：$x_1,x_2,\\cdots,x_n$  \n",
    "- 元の平均値：$\\mu$  \n",
    "- 元の標準偏差：$\\sigma$  \n",
    "\n",
    "としたときに，標準化変量 $y_1,y_2,\\cdots,y_n$ を次のように定義します．\n",
    "\n",
    "> $$ y_i = \\frac{x_i-\\mu}{\\sigma} $$\n",
    "\n",
    "標準化変量に変換するメリットは，異なるスケールの変量の分布を同じグラフで比較できることです．"
   ]
  },
  {
   "cell_type": "markdown",
   "metadata": {},
   "source": [
    "## 偏差値\n",
    "\n",
    "偏差値は平均値が $50$ で標準偏差が $10$ になるように変数変換したものです．\n",
    "偏差値は標準化変量から次式でもとめることができます．\n",
    "\n",
    "> $$ z_i = 10y_i+50 $$\n",
    "\n",
    "偏差値は学校教育の現場で頻繁に利用されています．"
   ]
  },
  {
   "cell_type": "markdown",
   "metadata": {},
   "source": [
    "## 正規化\n",
    "\n",
    "正規化とは機械学習でよく用いられる手法で，データの最小値を $0$ とし，最大値を $1$ にする変数変換です．\n",
    "\n",
    "> $$ w_i = \\frac{x_i-\\min(x)}{\\max(x)-\\min(x)} $$"
   ]
  },
  {
   "cell_type": "markdown",
   "metadata": {
    "collapsed": true
   },
   "source": [
    "*****\n",
    "## Pythonによる標準化の例\n",
    "\n",
    "サンプルとしてnumpyの配列でデータを用意します．\n",
    "numpyの配列には，平均値，標準偏差，最大値，最小値を求めるメソッド，<font color=green>mean(), std(), max(), min()</font> がありますので，\n",
    "これらを利用して変数変換を行います．\n",
    "\n",
    "まず，NumPyライブラリーを搬入します．\n",
    "\n",
    "```Python\n",
    "import numpy as np\n",
    "```"
   ]
  },
  {
   "cell_type": "code",
   "execution_count": 1,
   "metadata": {
    "collapsed": true
   },
   "outputs": [],
   "source": [
    "import numpy as np"
   ]
  },
  {
   "cell_type": "markdown",
   "metadata": {},
   "source": [
    "元データを与えて，それぞれの定義に従って標準化変量，偏差値，正規化を実施します．\n",
    "\n",
    "```Python\n",
    "x = np.array([2,6,8,16,18])\n",
    "y = (x-x.mean())/x.std()\n",
    "z = 10*y+50\n",
    "w = (x-x.min())/(x.max()-x.min())\n",
    "```"
   ]
  },
  {
   "cell_type": "code",
   "execution_count": 2,
   "metadata": {},
   "outputs": [],
   "source": [
    "x = np.array([2,6,8,16,18])\n",
    "y = (x-x.mean())/x.std()\n",
    "z = 10*y+50\n",
    "w = (x-x.min())/(x.max()-x.min())"
   ]
  },
  {
   "cell_type": "markdown",
   "metadata": {},
   "source": [
    "生成した標準化変量，偏差値，正規化データを印字して確認します．"
   ]
  },
  {
   "cell_type": "code",
   "execution_count": 3,
   "metadata": {},
   "outputs": [
    {
     "name": "stdout",
     "output_type": "stream",
     "text": [
      "データ： [ 2  6  8 16 18]\n",
      "標準化： [-1.32 -0.66 -0.33  0.99  1.32]\n",
      "偏差値： [ 37.  43.  47.  60.  63.]\n",
      "正規化： [ 0.     0.25   0.375  0.875  1.   ]\n"
     ]
    }
   ],
   "source": [
    "print('データ：',x)\n",
    "print('標準化：',y.round(2))\n",
    "print('偏差値：',z.round())\n",
    "print('正規化：',w)"
   ]
  },
  {
   "cell_type": "markdown",
   "metadata": {},
   "source": [
    "*****"
   ]
  }
 ],
 "metadata": {
  "kernelspec": {
   "display_name": "Python 3",
   "language": "python",
   "name": "python3"
  },
  "language_info": {
   "codemirror_mode": {
    "name": "ipython",
    "version": 3
   },
   "file_extension": ".py",
   "mimetype": "text/x-python",
   "name": "python",
   "nbconvert_exporter": "python",
   "pygments_lexer": "ipython3",
   "version": "3.6.1"
  }
 },
 "nbformat": 4,
 "nbformat_minor": 2
}
