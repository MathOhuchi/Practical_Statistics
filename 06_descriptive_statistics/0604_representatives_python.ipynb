{
 "cells": [
  {
   "cell_type": "markdown",
   "metadata": {},
   "source": [
    "# Pythonでの代表値の求め方\n",
    "\n",
    "度数分布表とヒストグラムで使用したサンプルデータについて代表値を求めます．\n",
    "データフレームを前提として処理を進めるために，pandasライブラリーを搬入します．\n",
    "\n",
    "```Python\n",
    "import pandas as pd\n",
    "```"
   ]
  },
  {
   "cell_type": "code",
   "execution_count": 1,
   "metadata": {},
   "outputs": [],
   "source": [
    "import pandas as pd"
   ]
  },
  {
   "cell_type": "markdown",
   "metadata": {},
   "source": [
    "サンプルデータからデータフレームを生成します．\n",
    "データフレームを作成するためには<font color=green>pandas.DataFrame</font>関数を使用します．\n",
    "変量としては，身長をカラム名 height に格納し，その階級値は計算によって求めてカラム名 heightClass に格納します．\n",
    "\n",
    "```Python\n",
    "sample = [\n",
    "    144.5, 146.5, 147.5, 149.0, 150.0, 152.6, 153.2, 154.5, 154.8, 155.6, \n",
    "    156.0, 156.6, 157.2, 158.1, 158.8, 159.8, 160.1, 160.8, 161.5, 162.2, \n",
    "    162.7, 163.0, 163.6, 164.0, 165.3, 166.0, 166.4, 166.7, 167.0, 167.4, \n",
    "    167.8, 168.2, 169.8, 170.2, 170.5, 171.3, 171.8, 172.8, 173.3, 174.0, \n",
    "    174.2, 175.1, 175.3, 175.6, 176.3, 177.7, 179.8, 183.3, 184.4, 187.0]\n",
    "df = pd.DataFrame(sample,columns=['height'])\n",
    "bins = [140,145,150,155,160,165,170,175,180,185,190]\n",
    "labels = [142.5,147.5,152.5,157.5,162.5,167.5,172.5,177.5,182.5,187.5]\n",
    "df['heightClass'] = pd.cut(df.height,bins,right=False,labels=labels)\n",
    "df.head()\n",
    "```"
   ]
  },
  {
   "cell_type": "code",
   "execution_count": 2,
   "metadata": {},
   "outputs": [
    {
     "data": {
      "text/html": [
       "<div>\n",
       "<style scoped>\n",
       "    .dataframe tbody tr th:only-of-type {\n",
       "        vertical-align: middle;\n",
       "    }\n",
       "\n",
       "    .dataframe tbody tr th {\n",
       "        vertical-align: top;\n",
       "    }\n",
       "\n",
       "    .dataframe thead th {\n",
       "        text-align: right;\n",
       "    }\n",
       "</style>\n",
       "<table border=\"1\" class=\"dataframe\">\n",
       "  <thead>\n",
       "    <tr style=\"text-align: right;\">\n",
       "      <th></th>\n",
       "      <th>height</th>\n",
       "      <th>heightClass</th>\n",
       "    </tr>\n",
       "  </thead>\n",
       "  <tbody>\n",
       "    <tr>\n",
       "      <td>0</td>\n",
       "      <td>144.5</td>\n",
       "      <td>142.5</td>\n",
       "    </tr>\n",
       "    <tr>\n",
       "      <td>1</td>\n",
       "      <td>146.5</td>\n",
       "      <td>147.5</td>\n",
       "    </tr>\n",
       "    <tr>\n",
       "      <td>2</td>\n",
       "      <td>147.5</td>\n",
       "      <td>147.5</td>\n",
       "    </tr>\n",
       "    <tr>\n",
       "      <td>3</td>\n",
       "      <td>149.0</td>\n",
       "      <td>147.5</td>\n",
       "    </tr>\n",
       "    <tr>\n",
       "      <td>4</td>\n",
       "      <td>150.0</td>\n",
       "      <td>152.5</td>\n",
       "    </tr>\n",
       "  </tbody>\n",
       "</table>\n",
       "</div>"
      ],
      "text/plain": [
       "   height heightClass\n",
       "0   144.5       142.5\n",
       "1   146.5       147.5\n",
       "2   147.5       147.5\n",
       "3   149.0       147.5\n",
       "4   150.0       152.5"
      ]
     },
     "execution_count": 2,
     "metadata": {},
     "output_type": "execute_result"
    }
   ],
   "source": [
    "sample = [\n",
    "    144.5, 146.5, 147.5, 149.0, 150.0, 152.6, 153.2, 154.5, 154.8, 155.6, \n",
    "    156.0, 156.6, 157.2, 158.1, 158.8, 159.8, 160.1, 160.8, 161.5, 162.2, \n",
    "    162.7, 163.0, 163.6, 164.0, 165.3, 166.0, 166.4, 166.7, 167.0, 167.4, \n",
    "    167.8, 168.2, 169.8, 170.2, 170.5, 171.3, 171.8, 172.8, 173.3, 174.0, \n",
    "    174.2, 175.1, 175.3, 175.6, 176.3, 177.7, 179.8, 183.3, 184.4, 187.0]\n",
    "df = pd.DataFrame(sample,columns=['height'])\n",
    "bins = [140,145,150,155,160,165,170,175,180,185,190]\n",
    "labels = [142.5,147.5,152.5,157.5,162.5,167.5,172.5,177.5,182.5,187.5]\n",
    "df['heightClass'] = pd.cut(df.height,bins,right=False,labels=labels)\n",
    "df.head()"
   ]
  },
  {
   "cell_type": "markdown",
   "metadata": {},
   "source": [
    "### 平均値の算出\n",
    "\n",
    "平均値は変量の<font color=green>mean()</font>メソッドによって求まります．\n",
    "\n",
    "```Python\n",
    "df.height.mean()\n",
    "```"
   ]
  },
  {
   "cell_type": "code",
   "execution_count": 3,
   "metadata": {
    "scrolled": false
   },
   "outputs": [
    {
     "data": {
      "text/plain": [
       "164.996"
      ]
     },
     "execution_count": 3,
     "metadata": {},
     "output_type": "execute_result"
    }
   ],
   "source": [
    "df.height.mean()"
   ]
  },
  {
   "cell_type": "markdown",
   "metadata": {},
   "source": [
    "### 中央値の算出\n",
    "\n",
    "中央値は変量の<font color=green>median()</font>メソッドによって求まります．\n",
    "\n",
    "```Python\n",
    "df.height.median()\n",
    "```"
   ]
  },
  {
   "cell_type": "code",
   "execution_count": 4,
   "metadata": {},
   "outputs": [
    {
     "data": {
      "text/plain": [
       "165.65"
      ]
     },
     "execution_count": 4,
     "metadata": {},
     "output_type": "execute_result"
    }
   ],
   "source": [
    "df.height.median()"
   ]
  },
  {
   "cell_type": "markdown",
   "metadata": {},
   "source": [
    "### 最頻値の算出\n",
    "\n",
    "最頻値は変量の<font color=green>mode()</font>メソッドによって求まります．\n",
    "ただし，対象となる変量は階級値 heightClass です．\n",
    "\n",
    "```Python\n",
    "df.heightClass.mode()\n",
    "```"
   ]
  },
  {
   "cell_type": "code",
   "execution_count": 5,
   "metadata": {},
   "outputs": [
    {
     "data": {
      "text/plain": [
       "0    167.5\n",
       "Name: heightClass, dtype: category\n",
       "Categories (10, float64): [142.5 < 147.5 < 152.5 < 157.5 ... 172.5 < 177.5 < 182.5 < 187.5]"
      ]
     },
     "execution_count": 5,
     "metadata": {},
     "output_type": "execute_result"
    }
   ],
   "source": [
    "df.heightClass.mode()"
   ]
  },
  {
   "cell_type": "markdown",
   "metadata": {},
   "source": [
    "*****\n",
    "## データ分布と代表値\n",
    "\n",
    "ここで求めた3つの代表値をヒストグラム上にプロットしてみます．\n",
    "度数分布表とヒストグラムのプログラムを再度実行します．\n",
    "\n",
    "まず，グラフ用のライブラリーを搬入します．\n",
    "\n",
    "```Python\n",
    "import matplotlib.pyplot as plt\n",
    "%matplotlib inline\n",
    "```"
   ]
  },
  {
   "cell_type": "code",
   "execution_count": 6,
   "metadata": {},
   "outputs": [],
   "source": [
    "import matplotlib.pyplot as plt\n",
    "%matplotlib inline"
   ]
  },
  {
   "cell_type": "markdown",
   "metadata": {},
   "source": [
    "身長の階級値ごとに頻度を集計したデータで新しいデータフレームを作成します．\n",
    "\n",
    "```Python\n",
    "fdt = pd.DataFrame(df['heightClass'].value_counts())\n",
    "fdt.rename(columns={'heightClass':'frequency'},inplace=True)\n",
    "fdt.sort_index(inplace=True)\n",
    "```"
   ]
  },
  {
   "cell_type": "code",
   "execution_count": 7,
   "metadata": {},
   "outputs": [],
   "source": [
    "fdt = pd.DataFrame(df['heightClass'].value_counts())\n",
    "fdt.rename(columns={'heightClass':'frequency'},inplace=True)\n",
    "fdt.sort_index(inplace=True)"
   ]
  },
  {
   "cell_type": "markdown",
   "metadata": {},
   "source": [
    "代表値の直線を引くために作図のプログラムに次の4行を追加します．\n",
    "垂直線を引くために，<font color=green>plt.vlines()</font>関数を追加します．\n",
    "平均値，中央値および最頻値の3本の破線を引いています．\n",
    "それぞれの直線の凡例を表示するために，<font color=green>plt.legend()</font>関数を追加します．\n",
    "\n",
    "```Python\n",
    "plt.bar(fdt.index,fdt.frequency,width=5,color='lightcyan',edgecolor='black')\n",
    "plt.vlines(df.height.mean(),0,9.5,color='blue',linestyles='dashed',label='mean')\n",
    "plt.vlines(df.height.median(),0,9.5,color='green',linestyles='dashed',label='median')\n",
    "plt.vlines(df['heightClass'].mode()[0],0,9.5,color='red',linestyles='dashed',label='mode')\n",
    "plt.legend()\n",
    "plt.xlabel('Height (cm)')\n",
    "plt.ylabel('Frequency')\n",
    "plt.show()\n",
    "```"
   ]
  },
  {
   "cell_type": "code",
   "execution_count": 8,
   "metadata": {},
   "outputs": [
    {
     "data": {
      "image/png": "[encoded data removed]",
      "text/plain": [
       "<Figure size 432x288 with 1 Axes>"
      ]
     },
     "metadata": {
      "needs_background": "light"
     },
     "output_type": "display_data"
    }
   ],
   "source": [
    "plt.bar(fdt.index,fdt.frequency,width=5,color='lightcyan',edgecolor='black')\n",
    "plt.vlines(df.height.mean(),0,9.5,color='blue',linestyles='dashed',label='mean')\n",
    "plt.vlines(df.height.median(),0,9.5,color='green',linestyles='dashed',label='median')\n",
    "plt.vlines(df['heightClass'].mode()[0],0,9.5,color='red',linestyles='dashed',label='mode')\n",
    "plt.legend()\n",
    "plt.xlabel('Height (cm)')\n",
    "plt.ylabel('Frequency')\n",
    "plt.show()"
   ]
  },
  {
   "cell_type": "markdown",
   "metadata": {},
   "source": [
    "この例では平均値，中央値，最頻値が近い値になっていますが，その理由はデータの分布が中心部分が盛り上がっているためです．\n",
    "データの分布によっては，それぞれの代表値の特徴が顕著になります．\n",
    "\n",
    "*****"
   ]
  }
 ],
 "metadata": {
  "kernelspec": {
   "display_name": "Python 3",
   "language": "python",
   "name": "python3"
  },
  "language_info": {
   "codemirror_mode": {
    "name": "ipython",
    "version": 3
   },
   "file_extension": ".py",
   "mimetype": "text/x-python",
   "name": "python",
   "nbconvert_exporter": "python",
   "pygments_lexer": "ipython3",
   "version": "3.7.4"
  }
 },
 "nbformat": 4,
 "nbformat_minor": 2
}
