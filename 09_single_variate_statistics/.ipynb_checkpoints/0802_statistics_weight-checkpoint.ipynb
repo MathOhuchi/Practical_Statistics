{
 "cells": [
  {
   "cell_type": "markdown",
   "metadata": {},
   "source": [
    "# 1変量の基本統計：weight\n",
    "\n",
    "変量 height の基本統計を参考にして，変量 weight の基本統計を実施してください．"
   ]
  },
  {
   "cell_type": "markdown",
   "metadata": {},
   "source": [
    "## ライブラリーの搬入\n",
    "\n",
    "```Python\n",
    "import numpy as np\n",
    "import pandas as pd\n",
    "import matplotlib.pyplot as plt\n",
    "%matplotlib inline\n",
    "```"
   ]
  },
  {
   "cell_type": "code",
   "execution_count": 1,
   "metadata": {
    "collapsed": true
   },
   "outputs": [],
   "source": [
    "import numpy as np\n",
    "import pandas as pd\n",
    "import matplotlib.pyplot as plt\n",
    "%matplotlib inline"
   ]
  },
  {
   "cell_type": "markdown",
   "metadata": {},
   "source": [
    "## CSVファイルからデータフレームの生成\n",
    "\n",
    "```Python\n",
    "df = pd.read_csv('./cleansed_body_data.csv')\n",
    "df.set_index('person',inplace=True)\n",
    "```"
   ]
  },
  {
   "cell_type": "code",
   "execution_count": 2,
   "metadata": {
    "collapsed": true
   },
   "outputs": [],
   "source": [
    "df = pd.read_csv('./cleansed_body_data.csv')\n",
    "df.set_index('person',inplace=True)"
   ]
  },
  {
   "cell_type": "markdown",
   "metadata": {},
   "source": [
    "## 基本統計の確認\n",
    "\n",
    "```Python\n",
    "df.weight.describe()\n",
    "```"
   ]
  },
  {
   "cell_type": "code",
   "execution_count": 3,
   "metadata": {},
   "outputs": [
    {
     "data": {
      "text/plain": [
       "count    198.000000\n",
       "mean      67.364646\n",
       "std       17.181526\n",
       "min        9.900000\n",
       "25%       55.650000\n",
       "50%       66.800000\n",
       "75%       77.650000\n",
       "max      106.500000\n",
       "Name: weight, dtype: float64"
      ]
     },
     "execution_count": 3,
     "metadata": {},
     "output_type": "execute_result"
    }
   ],
   "source": [
    "df.weight.describe()"
   ]
  },
  {
   "cell_type": "markdown",
   "metadata": {},
   "source": [
    "## ヒストグラムの表示\n",
    "\n",
    "注意点として，df.weight には欠損値が2個あります．\n",
    "データ全体をプロットに使用するとエラーが発生します．\n",
    "そこでデータの指定において欠損値を除去した<font color=green>df.weight.dropna()</font>を指定します．\n",
    "\n",
    "```Python\n",
    "plt.hist(df.weight.dropna(),bins=20,color='lightcyan',edgecolor='black')\n",
    "plt.xlabel('Weight (kg)')\n",
    "plt.ylabel('Counts')\n",
    "plt.show()\n",
    "```"
   ]
  },
  {
   "cell_type": "code",
   "execution_count": 4,
   "metadata": {},
   "outputs": [
    {
     "data": {
      "image/png": "[encoded data removed]",
      "text/plain": [
       "<matplotlib.figure.Figure at 0x1e49ff63780>"
      ]
     },
     "metadata": {},
     "output_type": "display_data"
    }
   ],
   "source": [
    "plt.hist(df.weight.dropna(),bins=20,color='lightcyan',edgecolor='black')\n",
    "plt.xlabel('Weight (kg)')\n",
    "plt.ylabel('Counts')\n",
    "plt.show()"
   ]
  },
  {
   "cell_type": "markdown",
   "metadata": {},
   "source": [
    "以上の結果の統計量とヒストグラムを確認して，weightデータの分布について考察してください．\n",
    "\n",
    "*****"
   ]
  }
 ],
 "metadata": {
  "kernelspec": {
   "display_name": "Python 3",
   "language": "python",
   "name": "python3"
  },
  "language_info": {
   "codemirror_mode": {
    "name": "ipython",
    "version": 3
   },
   "file_extension": ".py",
   "mimetype": "text/x-python",
   "name": "python",
   "nbconvert_exporter": "python",
   "pygments_lexer": "ipython3",
   "version": "3.6.1"
  }
 },
 "nbformat": 4,
 "nbformat_minor": 2
}
