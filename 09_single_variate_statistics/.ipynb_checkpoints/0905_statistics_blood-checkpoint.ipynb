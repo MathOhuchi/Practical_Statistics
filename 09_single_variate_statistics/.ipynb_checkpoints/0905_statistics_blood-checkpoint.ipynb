{
 "cells": [
  {
   "cell_type": "markdown",
   "metadata": {},
   "source": [
    "# 1変量の基本統計：blood\n",
    "\n",
    "血液型を表す変量 blood もカテゴリーデータとしての集計になります．"
   ]
  },
  {
   "cell_type": "markdown",
   "metadata": {},
   "source": [
    "## ライブラリーの搬入\n",
    "\n",
    "```Python\n",
    "import numpy as np\n",
    "import pandas as pd\n",
    "import matplotlib.pyplot as plt\n",
    "%matplotlib inline\n",
    "```"
   ]
  },
  {
   "cell_type": "code",
   "execution_count": 1,
   "metadata": {
    "collapsed": true
   },
   "outputs": [],
   "source": [
    "import numpy as np\n",
    "import pandas as pd\n",
    "import matplotlib.pyplot as plt\n",
    "%matplotlib inline"
   ]
  },
  {
   "cell_type": "markdown",
   "metadata": {},
   "source": [
    "## CSVファイルからデータフレームの生成\n",
    "\n",
    "```Python\n",
    "df = pd.read_csv('./cleansed_body_data.csv')\n",
    "df.set_index('person',inplace=True)\n",
    "```"
   ]
  },
  {
   "cell_type": "code",
   "execution_count": 2,
   "metadata": {
    "collapsed": true
   },
   "outputs": [],
   "source": [
    "df = pd.read_csv('./cleansed_body_data.csv')\n",
    "df.set_index('person',inplace=True)"
   ]
  },
  {
   "cell_type": "markdown",
   "metadata": {},
   "source": [
    "## 基本統計の確認\n",
    "\n",
    "```Python\n",
    "df.blood.describe()\n",
    "```"
   ]
  },
  {
   "cell_type": "code",
   "execution_count": 3,
   "metadata": {},
   "outputs": [
    {
     "data": {
      "text/plain": [
       "count     190\n",
       "unique      4\n",
       "top         A\n",
       "freq       71\n",
       "Name: blood, dtype: object"
      ]
     },
     "execution_count": 3,
     "metadata": {},
     "output_type": "execute_result"
    }
   ],
   "source": [
    "df.blood.describe()"
   ]
  },
  {
   "cell_type": "markdown",
   "metadata": {},
   "source": [
    "df.blood.describe()の結果の統計量は次の通りです．\n",
    "\n",
    "|記述|値|説明|\n",
    "|:---:|:---:|:---:|\n",
    "|count |190|欠損値以外の有効なデータ件数|\n",
    "|unique|  4|有効な値の種類 |\n",
    "|top   |  A|最頻値         |\n",
    "|freq  | 71|最頻値の度数   |\n",
    "\n",
    "実際に記載されている値をset()関数でリストアップしてみます．\n",
    "\n",
    "```Python\n",
    "set(df.blood)\n",
    "```"
   ]
  },
  {
   "cell_type": "code",
   "execution_count": 4,
   "metadata": {},
   "outputs": [
    {
     "data": {
      "text/plain": [
       "{nan, 'AB', 'B', 'O', 'A'}"
      ]
     },
     "execution_count": 4,
     "metadata": {},
     "output_type": "execute_result"
    }
   ],
   "source": [
    "set(df.blood)"
   ]
  },
  {
   "cell_type": "markdown",
   "metadata": {},
   "source": [
    "さらに，頻度を value_counts()メソッドによって求めます．\n",
    "引数に dropna=False を与えることによって NaN の件数もカウントします．\n",
    "\n",
    "```Python\n",
    "df.blood.value_counts(dropna=False)\n",
    "```"
   ]
  },
  {
   "cell_type": "code",
   "execution_count": 5,
   "metadata": {},
   "outputs": [
    {
     "data": {
      "text/plain": [
       "A      71\n",
       "O      61\n",
       "B      44\n",
       "AB     14\n",
       "NaN    10\n",
       "Name: blood, dtype: int64"
      ]
     },
     "execution_count": 5,
     "metadata": {},
     "output_type": "execute_result"
    }
   ],
   "source": [
    "df.blood.value_counts(dropna=False)"
   ]
  },
  {
   "cell_type": "markdown",
   "metadata": {},
   "source": [
    "## パイチャートの表示\n",
    "\n",
    "カテゴリー値なので，パイチャートでデータの分布を確認します．\n",
    "データの頻度を得るためにデータフレームの機能である<font color=green>value_counts(dropna=False)</font>を使用します．\n",
    "パイチャートは matplotlib.pyplot の<font color=green>pie()</font>関数を使用します．\n",
    "\n",
    "```Python\n",
    "bloodDistribution = df.blood.value_counts(dropna=False)\n",
    "plt.pie(bloodDistribution, labels=bloodDistribution.index,\n",
    "        startangle=90, counterclock=False, autopct='%1.1f%%', wedgeprops={'linewidth': 1, 'edgecolor':\"white\"})\n",
    "plt.axis('equal')\n",
    "plt.show()\n",
    "```"
   ]
  },
  {
   "cell_type": "code",
   "execution_count": 6,
   "metadata": {},
   "outputs": [
    {
     "data": {
      "image/png": "[encoded data removed]",
      "text/plain": [
       "<matplotlib.figure.Figure at 0x1f3aaef0630>"
      ]
     },
     "metadata": {},
     "output_type": "display_data"
    }
   ],
   "source": [
    "bloodDistribution = df.blood.value_counts(dropna=False)\n",
    "plt.pie(bloodDistribution, labels=bloodDistribution.index,\n",
    "        startangle=90, counterclock=False, autopct='%1.1f%%', wedgeprops={'linewidth': 1, 'edgecolor':\"white\"})\n",
    "plt.axis('equal')\n",
    "plt.show()"
   ]
  },
  {
   "cell_type": "markdown",
   "metadata": {},
   "source": [
    "このように血液型の比率が，A:O:B:AB:不明 = 36:30:22:7:5 になっていることが分かります．\n",
    "\n",
    "*****"
   ]
  }
 ],
 "metadata": {
  "kernelspec": {
   "display_name": "Python 3",
   "language": "python",
   "name": "python3"
  },
  "language_info": {
   "codemirror_mode": {
    "name": "ipython",
    "version": 3
   },
   "file_extension": ".py",
   "mimetype": "text/x-python",
   "name": "python",
   "nbconvert_exporter": "python",
   "pygments_lexer": "ipython3",
   "version": "3.7.4"
  }
 },
 "nbformat": 4,
 "nbformat_minor": 2
}
