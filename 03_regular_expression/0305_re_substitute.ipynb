{
 "cells": [
  {
   "cell_type": "markdown",
   "metadata": {},
   "source": [
    "# 文字列の置換\n",
    "\n",
    "正規表現による文字列の置換について学習します．\n",
    "正規表現を使った文字列の置換には，<font color='green'>re.sub()</font>関数を使用します．\n",
    "この関数の呼出し形式は次のようになります．\n",
    "\n",
    ">  <font face='courier new' color='green'>re.sub(*pattern*,*repl*,*string*,*count*=0,*flags*=0)</font>\n",
    "\n",
    "引数：\n",
    "- <font face='courier new'>*pattern*</font> ：置換対象の文字列のパターン\n",
    "- <font face='courier new'>*repl*</font> ：置き換える文字\n",
    "- <font face='courier new'>*string*</font> ：検索対象となる文章\n",
    "- <font face='courier new'>*count*</font> ：マッチした場合の置換する件数，0の場合は全て置換する\n",
    "- <font face='courier new'>*flags*</font> ：オプションフラグ，デフォルトで0がセットされている\n",
    "\n"
   ]
  },
  {
   "cell_type": "markdown",
   "metadata": {},
   "source": [
    "### 数字を伏字にする例\n",
    "\n",
    "ここでは，文章の中にある数字を伏字にした文に変更するプログラムを作成します．\n",
    "\n",
    "まず最初にreライブラリーを搬入します．\n",
    "\n",
    "```Python\n",
    "import re\n",
    "```"
   ]
  },
  {
   "cell_type": "code",
   "execution_count": 1,
   "metadata": {},
   "outputs": [],
   "source": [
    "import re"
   ]
  },
  {
   "cell_type": "markdown",
   "metadata": {},
   "source": [
    "テスト用に次の文章を変数として定義します．\n",
    "\n",
    "```Python\n",
    "string = '当選者番号は，123番と456番です。'\n",
    "```"
   ]
  },
  {
   "cell_type": "code",
   "execution_count": 2,
   "metadata": {},
   "outputs": [],
   "source": [
    "string = '当選者番号は，123番と456番です。'"
   ]
  },
  {
   "cell_type": "markdown",
   "metadata": {},
   "source": [
    "この文章中にある数字を全て「●」で置き換えるプログラムをre.sub()関数で作成します．\n",
    "\n",
    "```Python\n",
    "re.sub(r'\\d','●',string)\n",
    "```"
   ]
  },
  {
   "cell_type": "code",
   "execution_count": 3,
   "metadata": {},
   "outputs": [
    {
     "data": {
      "text/plain": [
       "'当選者番号は，●●●番と●●●番です。'"
      ]
     },
     "execution_count": 3,
     "metadata": {},
     "output_type": "execute_result"
    }
   ],
   "source": [
    "re.sub(r'\\d','●',string)"
   ]
  },
  {
   "cell_type": "markdown",
   "metadata": {},
   "source": [
    "このように全ての数字が伏字に置き換わりました．\n",
    "\n",
    "今度は，数字の塊を一つの「●」で置き換えるプログラムを実行してみます．\n",
    "\n",
    "```Python\n",
    "re.sub(r'\\d+','●',string)\n",
    "```"
   ]
  },
  {
   "cell_type": "code",
   "execution_count": 4,
   "metadata": {},
   "outputs": [
    {
     "data": {
      "text/plain": [
       "'当選者番号は，●番と●番です。'"
      ]
     },
     "execution_count": 4,
     "metadata": {},
     "output_type": "execute_result"
    }
   ],
   "source": [
    "re.sub(r'\\d+','●',string)"
   ]
  },
  {
   "cell_type": "markdown",
   "metadata": {},
   "source": [
    "### 複数の置換対象\n",
    "\n",
    "次の例は，複数の置換対象がある場合の例です．\n",
    "\n",
    "テスト用として，次の文章を定義します．\n",
    "\n",
    "```Python\n",
    "string = '月曜日，火曜日，水曜日，木曜日，金曜日，土曜日，日曜日'\n",
    "```"
   ]
  },
  {
   "cell_type": "code",
   "execution_count": 5,
   "metadata": {},
   "outputs": [],
   "source": [
    "string = '月曜日，火曜日，水曜日，木曜日，金曜日，土曜日，日曜日'"
   ]
  },
  {
   "cell_type": "markdown",
   "metadata": {},
   "source": [
    "この文中の土曜日と日曜日を休日に変更するプログラムです．\n",
    "\n",
    "```Python\n",
    "re.sub(r'(土曜日)|(日曜日)','休日',string)\n",
    "```"
   ]
  },
  {
   "cell_type": "code",
   "execution_count": 6,
   "metadata": {},
   "outputs": [
    {
     "data": {
      "text/plain": [
       "'月曜日，火曜日，水曜日，木曜日，金曜日，休日，休日'"
      ]
     },
     "execution_count": 6,
     "metadata": {},
     "output_type": "execute_result"
    }
   ],
   "source": [
    "re.sub(r'(土曜日)|(日曜日)','休日',string)"
   ]
  },
  {
   "cell_type": "markdown",
   "metadata": {},
   "source": [
    "このように複数の文字列を一括して一つの文字列に変更することが可能です．\n",
    "\n",
    "ただし，正規表現の活用は副作用が起こりやすいので，念入りにテストを行ってください．\n",
    "*****"
   ]
  }
 ],
 "metadata": {
  "kernelspec": {
   "display_name": "Python 3",
   "language": "python",
   "name": "python3"
  },
  "language_info": {
   "codemirror_mode": {
    "name": "ipython",
    "version": 3
   },
   "file_extension": ".py",
   "mimetype": "text/x-python",
   "name": "python",
   "nbconvert_exporter": "python",
   "pygments_lexer": "ipython3",
   "version": "3.7.4"
  }
 },
 "nbformat": 4,
 "nbformat_minor": 2
}
