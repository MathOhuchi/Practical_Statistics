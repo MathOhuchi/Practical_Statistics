{
 "cells": [
  {
   "cell_type": "markdown",
   "metadata": {},
   "source": [
    "# 正規表現についての課題\n",
    "\n",
    "正規表現は使いこなせば大変効率的なプログラムを作れる可能性があります．\n",
    "その反面，思わぬ落とし穴があっても見過ごしてしまう危険もあります．\n",
    "適切な正規表現を作成するには，多くのテストケースを作成して確認することです．\n",
    "\n",
    "ここでは，ここまで学習したことを利用して正規表現の課題を実施してください．\n",
    "そして，正規表現の利用では思ってもいなかった結果になる危険性があることを学んでください．"
   ]
  },
  {
   "cell_type": "markdown",
   "metadata": {},
   "source": [
    "## 課題\n",
    "\n",
    "任意の文章の中に記載されている<font color=blue>正の整数</font>を全て数値として抽出するプログラムを正規表現を用いて作成してください．\n",
    "\n",
    "【条件】\n",
    "- 抽出数値は整数のみとします．\n",
    "- 整数は文章の中に複数存在する可能性があります．\n",
    "- 整数は半角文字とします．\n",
    "- 整数は3桁ごとにカンマ区切りの場合とカンマ無しの場合があります．\n",
    "    - 例「123,456,789」，「12,345」，「12345」\n",
    "- カンマの位置が間違っている数値は無効とします．\n",
    "- 複数の整数をカンマと空白を用いて続けて書くことがあります．\n",
    "    - 例「12, 13, 14, 15」\n",
    "- プラスマイナス記号は無視します．\n",
    "- 小数点付数は抽出から除外します．\n",
    "\n",
    "（注）1個の正規表現で完結しようとすると思わぬバグが出る危険性があります．\n",
    "確実で分かりやすいプログラムを心がけてください．"
   ]
  },
  {
   "cell_type": "markdown",
   "metadata": {
    "collapsed": true
   },
   "source": [
    "## アウトライン\n",
    "\n",
    "次の手順でプログラミングを行って行きます．\n",
    "\n",
    "1. テスト用の文章を用意します．\n",
    "- reライブラリーを搬入します．\n",
    "- 正規表現パターンの文字列を作成して，プログラムを作成します．\n",
    "    - 正規表現は単純な表現から徐々に複雑な表現に拡張していきます．\n",
    "    - 文章から全ての数値の抽出には，re.findall()関数を使用します．\n",
    "    - 一つの正規表現だと難しい場合は，複数のステップに分けることを検討します．\n",
    "- テストが完了したら，パターンをコンパイルします．\n",
    "    - コンパイル済みオブジェクトで最終確認をします．"
   ]
  },
  {
   "cell_type": "markdown",
   "metadata": {},
   "source": [
    "## テスト用文章\n",
    "\n",
    "テスト用文章として下記のデータを用意します．\n",
    "\n",
    "```Python\n",
    "string1 = '主催者側の発表では13,450となっていますが，当局の集計では8,234となっています．'\n",
    "string2 = '表現は異なりますが，12345と12,345は同じ値です．'\n",
    "string3 = '桁数の違いによって1や12,345さらに1,234,567および12,345,678,900なども対象になります．'\n",
    "string4 = '数字は三桁ごとに区切るので12,34や1,2345,6などは間違いです．'\n",
    "string5 = '123は有理数123.45の整数部です．'\n",
    "string6 = '合格者の番号は「4, 56, 138, 260, 379」です．'\n",
    "```"
   ]
  },
  {
   "cell_type": "code",
   "execution_count": 1,
   "metadata": {
    "collapsed": true
   },
   "outputs": [],
   "source": [
    "string1 = '主催者側の発表では13,450となっていますが，当局の集計では8,234となっています．'\n",
    "string2 = '表現は異なりますが，12345と12,345は同じ値です．'\n",
    "string3 = '桁数の違いによって1や12,345さらに1,234,567および12,345,678,900なども対象になります．'\n",
    "string4 = '数字は三桁ごとに区切るので12,34や1,2345,6などは間違いです．'\n",
    "string5 = '123は有理数123.45の整数部です．'\n",
    "string6 = '合格者の番号は「4, 56, 138, 260, 379」です．'"
   ]
  },
  {
   "cell_type": "markdown",
   "metadata": {},
   "source": [
    "*****\n",
    "## 課題の解答\n",
    "\n",
    "まず，reライブラリーを搬入します．\n",
    "\n",
    "```Python\n",
    "import re\n",
    "```"
   ]
  },
  {
   "cell_type": "code",
   "execution_count": 2,
   "metadata": {
    "collapsed": true
   },
   "outputs": [],
   "source": [
    "import re"
   ]
  },
  {
   "cell_type": "markdown",
   "metadata": {},
   "source": [
    "### 単純な正の整数\n",
    "カンマ付き整数を表す正規表現を順番に構成していきます．\n",
    "既に学習した整数の表現を土台として拡張します．\n",
    "単純な正の整数は次の表現で表します．\n",
    "\n",
    ">  \n",
    "```Python\n",
    "r'\\d+'\n",
    "```"
   ]
  },
  {
   "cell_type": "markdown",
   "metadata": {},
   "source": [
    "この正規表現はカンマで区切らない整数です．\n",
    "これでカンマ区切りのある文章の検索をするとどうなるか，確認します．\n",
    "\n",
    "```Python\n",
    "re.findall(r'\\d+',string1)\n",
    "```"
   ]
  },
  {
   "cell_type": "code",
   "execution_count": 3,
   "metadata": {},
   "outputs": [
    {
     "data": {
      "text/plain": [
       "['13', '450', '8', '234']"
      ]
     },
     "execution_count": 3,
     "metadata": {},
     "output_type": "execute_result"
    }
   ],
   "source": [
    "re.findall(r'\\d+',string1)"
   ]
  },
  {
   "cell_type": "markdown",
   "metadata": {},
   "source": [
    "このように，カンマで区切られた部分を独立の数値と認識して抽出してしまいます．"
   ]
  },
  {
   "cell_type": "markdown",
   "metadata": {},
   "source": [
    "### カンマ区切りの正の整数\n",
    "\n",
    "まず，カンマ区切りの正の整数の実際の文字列を確認します．\n",
    "\n",
    "| 数値 | 一致するパターン |\n",
    "|:---:|:---:|\n",
    "| 1~999 | &yen;d{1,3} |\n",
    "| 1,000~999,999 | &yen;d{1,3},&yen;d{3} |\n",
    "| 1,000,000~999,999,999 | &yen;d{1,3},&yen;d{3},&yen;d{3} |\n"
   ]
  },
  {
   "cell_type": "markdown",
   "metadata": {},
   "source": [
    "このように桁を増やしていくと，文字列が「&yen;d{1,3}」で始まって，その後に「,&yen;d{3}」を繰返す形になります．\n",
    "\n",
    "> \n",
    "```Python\n",
    "r'\\d{1,3}(,\\d{3})*'\n",
    "```"
   ]
  },
  {
   "cell_type": "markdown",
   "metadata": {},
   "source": [
    "このパターンによる抽出をテストします．\n",
    "\n",
    "```Python\n",
    "re.findall(r'(\\d{1,3}(,\\d{3})*)',string1)\n",
    "```"
   ]
  },
  {
   "cell_type": "code",
   "execution_count": 4,
   "metadata": {},
   "outputs": [
    {
     "data": {
      "text/plain": [
       "[('13,450', ',450'), ('8,234', ',234')]"
      ]
     },
     "execution_count": 4,
     "metadata": {},
     "output_type": "execute_result"
    }
   ],
   "source": [
    "re.findall(r'(\\d{1,3}(,\\d{3})*)',string1)"
   ]
  },
  {
   "cell_type": "markdown",
   "metadata": {},
   "source": [
    "テスト文書 string1 については，正しく抽出できています．\n",
    "次に string2 について確認します．\n",
    "\n",
    "```Python\n",
    "re.findall(r'(\\d{1,3}(,\\d{3})*)',string2)\n",
    "```"
   ]
  },
  {
   "cell_type": "code",
   "execution_count": 5,
   "metadata": {},
   "outputs": [
    {
     "data": {
      "text/plain": [
       "[('123', ''), ('45', ''), ('12,345', ',345')]"
      ]
     },
     "execution_count": 5,
     "metadata": {},
     "output_type": "execute_result"
    }
   ],
   "source": [
    "re.findall(r'(\\d{1,3}(,\\d{3})*)',string2)"
   ]
  },
  {
   "cell_type": "markdown",
   "metadata": {},
   "source": [
    "この結果として，数値'12345'が二つに分割されて検出されてしまっています．\n",
    "このパターン検索では上手くいきません．\n",
    "そこで，カンマ無し数値にも反応するように両方のパターンを含んだ正規表現を考えます．\n",
    "\n",
    ">  \n",
    "```Python\n",
    "r'(\\d+)|(\\d{1,3}(,\\d{3})*)'\n",
    "```\n",
    "\n",
    "これは，カンマ無しの正の整数<font face='courier new' color=blue>&yen;d+</font>と\n",
    "カンマ区切りの整数<font face='courier new' color=blue>&yen;d{1,3}(,&yen;d{3})\\*</font>の\n",
    "どちらかにマッチする正規表現です．"
   ]
  },
  {
   "cell_type": "markdown",
   "metadata": {},
   "source": [
    "この正規表現でテストします．\n",
    "\n",
    "```Python\n",
    "re.findall(r'(\\d+)|(\\d{1,3}(,\\d{3})*)',string2) \n",
    "```"
   ]
  },
  {
   "cell_type": "code",
   "execution_count": 6,
   "metadata": {},
   "outputs": [
    {
     "data": {
      "text/plain": [
       "[('12345', '', ''), ('12', '', ''), ('345', '', '')]"
      ]
     },
     "execution_count": 6,
     "metadata": {},
     "output_type": "execute_result"
    }
   ],
   "source": [
    "re.findall(r'(\\d+)|(\\d{1,3}(,\\d{3})*)',string2) "
   ]
  },
  {
   "cell_type": "markdown",
   "metadata": {},
   "source": [
    "今度はカンマ無しの数値は正しく抽出されましたが，カンマ付きの数値「12,345」が 12 と 345 に分割されてしまいました．\n",
    "この正規表現も上手くいきません．"
   ]
  },
  {
   "cell_type": "markdown",
   "metadata": {
    "collapsed": true
   },
   "source": [
    "### 二段階処理\n",
    "\n",
    "ここまで見てきたように，一つの正規表現を複雑化して一度の処理で目的の数値を取り出す方法には副作用があります．\n",
    "そこで，処理を二段階に分けて行う方法を検討します．\n",
    "\n",
    "一段階目の処理は，とにかく数値らしき文字列だけを抽出したリスト配列を作ります．\n",
    "この処理にはre.findall()関数を使用します．\n",
    "そこで数値とピリオドおよびカンマを含む一連の文字列を次の正規表現で抽出します．\n",
    "\n",
    "> \n",
    "```Python\n",
    "r'[\\d,.]*\\d'\n",
    "```"
   ]
  },
  {
   "cell_type": "markdown",
   "metadata": {},
   "source": [
    "re.findall()関数でこの正規表現を使うことによって，数値らしき文字列が全てリスト配列となって抽出されます．\n",
    "\n",
    "```Python\n",
    "re.findall(r'[\\d,.]*\\d',string2)\n",
    "```"
   ]
  },
  {
   "cell_type": "code",
   "execution_count": 7,
   "metadata": {},
   "outputs": [
    {
     "data": {
      "text/plain": [
       "['12345', '12,345']"
      ]
     },
     "execution_count": 7,
     "metadata": {},
     "output_type": "execute_result"
    }
   ],
   "source": [
    "re.findall(r'[\\d,.]*\\d',string2)"
   ]
  },
  {
   "cell_type": "markdown",
   "metadata": {},
   "source": [
    "次に，取り出したリスト配列の各要素が私たちが想定している正の整数にマッチするかをre.fullmatch()関数で確認して抽出します．\n",
    "そこで使用する正規表現は，次のようになります．\n",
    "\n",
    ">  \n",
    "```Python\n",
    "r'\\d{1,3}(,\\d{3})*|\\d+'\n",
    "```"
   ]
  },
  {
   "cell_type": "markdown",
   "metadata": {},
   "source": [
    "取り出した数字の列に対して，このパターンの完全一致を見るので，文章中で発生したカンマ付きとカンマ無しのトラブルを回避することができます．\n",
    "第一段階で取り出したリスト配列['12345', '12,345']に対してリスト内包表記によってre.fullmatch()を実行します．\n",
    "\n",
    "```Python\n",
    "[x for x in ['12345', '12,345'] if re.fullmatch(r'\\d{1,3}(,\\d{3})*|\\d+',x) ]\n",
    "```"
   ]
  },
  {
   "cell_type": "code",
   "execution_count": 8,
   "metadata": {},
   "outputs": [
    {
     "data": {
      "text/plain": [
       "['12345', '12,345']"
      ]
     },
     "execution_count": 8,
     "metadata": {},
     "output_type": "execute_result"
    }
   ],
   "source": [
    "[x for x in ['12345', '12,345'] if re.fullmatch(r'\\d{1,3}(,\\d{3})*|\\d+',x) ]"
   ]
  },
  {
   "cell_type": "markdown",
   "metadata": {},
   "source": [
    "このようにプログラムを二段階にすることによって正の整数を正しく抽出できるようになりました．\n"
   ]
  },
  {
   "cell_type": "markdown",
   "metadata": {
    "collapsed": true
   },
   "source": [
    "## コンパイル\n",
    "\n",
    "それでは，全てのテスト用文章で確認するために，オーバーヘッドとなるコンパイルを事前に実施することにします．\n",
    "\n",
    "```Python\n",
    "step1 = re.compile(r'[\\d,.]*\\d')\n",
    "step2 = re.compile(r'\\d{1,3}(,\\d{3})*|\\d+')\n",
    "```"
   ]
  },
  {
   "cell_type": "code",
   "execution_count": 9,
   "metadata": {
    "collapsed": true
   },
   "outputs": [],
   "source": [
    "step1 = re.compile(r'[\\d,.]*\\d')\n",
    "step2 = re.compile(r'\\d{1,3}(,\\d{3})*|\\d+')"
   ]
  },
  {
   "cell_type": "raw",
   "metadata": {},
   "source": [
    "pattern1 = r'[\\d,.]*\\d'\n",
    "pattern2 = r'\\d{1,3}(,\\d{3})*|\\d+'"
   ]
  },
  {
   "cell_type": "markdown",
   "metadata": {},
   "source": [
    "## テスト用関数\n",
    "\n",
    "それぞれの文章に対して数値を取り出す処理は同じプログラムになるので，これを関数として定義します．  \n",
    "抽出した数字を数値化する前に，<font color=green>replace(r',','')</font>によってカンマを削除しています．  \n",
    "このプログラムでは次の3つの値をprint()関数で表示します．\n",
    "- 対象の文章\n",
    "- 取り出した数字の塊\n",
    "- 正の整数を数値化した値\n",
    "\n",
    "```Python\n",
    "def testProgram(string):\n",
    "    print('文章→',string)\n",
    "    temp = (step1.findall(string))\n",
    "    print('抽出→',temp)\n",
    "    print('数値→',[int(x.replace(r',','')) for x in temp if step2.fullmatch(x)])\n",
    "```"
   ]
  },
  {
   "cell_type": "code",
   "execution_count": 10,
   "metadata": {
    "collapsed": true
   },
   "outputs": [],
   "source": [
    "def testProgram(string):\n",
    "    print('文章→',string)\n",
    "    temp = (step1.findall(string))\n",
    "    print('抽出→',temp)\n",
    "    print('数値→',[int(x.replace(r',','')) for x in temp if step2.fullmatch(x)])"
   ]
  },
  {
   "cell_type": "markdown",
   "metadata": {},
   "source": [
    "## テストの実施\n",
    "\n",
    "それぞれの文章にテストプログラムを適用して正しく動作する事を確認します．"
   ]
  },
  {
   "cell_type": "code",
   "execution_count": 11,
   "metadata": {},
   "outputs": [
    {
     "name": "stdout",
     "output_type": "stream",
     "text": [
      "文章→ 主催者側の発表では13,450となっていますが，当局の集計では8,234となっています．\n",
      "抽出→ ['13,450', '8,234']\n",
      "数値→ [13450, 8234]\n"
     ]
    }
   ],
   "source": [
    "testProgram(string1)"
   ]
  },
  {
   "cell_type": "code",
   "execution_count": 12,
   "metadata": {},
   "outputs": [
    {
     "name": "stdout",
     "output_type": "stream",
     "text": [
      "文章→ 表現は異なりますが，12345と12,345は同じ値です．\n",
      "抽出→ ['12345', '12,345']\n",
      "数値→ [12345, 12345]\n"
     ]
    }
   ],
   "source": [
    "testProgram(string2)"
   ]
  },
  {
   "cell_type": "code",
   "execution_count": 13,
   "metadata": {},
   "outputs": [
    {
     "name": "stdout",
     "output_type": "stream",
     "text": [
      "文章→ 桁数の違いによって1や12,345さらに1,234,567および12,345,678,900なども対象になります．\n",
      "抽出→ ['1', '12,345', '1,234,567', '12,345,678,900']\n",
      "数値→ [1, 12345, 1234567, 12345678900]\n"
     ]
    }
   ],
   "source": [
    "testProgram(string3)"
   ]
  },
  {
   "cell_type": "code",
   "execution_count": 14,
   "metadata": {},
   "outputs": [
    {
     "name": "stdout",
     "output_type": "stream",
     "text": [
      "文章→ 数字は三桁ごとに区切るので12,34や1,2345,6などは間違いです．\n",
      "抽出→ ['12,34', '1,2345,6']\n",
      "数値→ []\n"
     ]
    }
   ],
   "source": [
    "testProgram(string4)"
   ]
  },
  {
   "cell_type": "code",
   "execution_count": 15,
   "metadata": {},
   "outputs": [
    {
     "name": "stdout",
     "output_type": "stream",
     "text": [
      "文章→ 123は有理数123.45の整数部です．\n",
      "抽出→ ['123', '123.45']\n",
      "数値→ [123]\n"
     ]
    }
   ],
   "source": [
    "testProgram(string5)"
   ]
  },
  {
   "cell_type": "code",
   "execution_count": 16,
   "metadata": {},
   "outputs": [
    {
     "name": "stdout",
     "output_type": "stream",
     "text": [
      "文章→ 合格者の番号は「4, 56, 138, 260, 379」です．\n",
      "抽出→ ['4', '56', '138', '260', '379']\n",
      "数値→ [4, 56, 138, 260, 379]\n"
     ]
    }
   ],
   "source": [
    "testProgram(string6)"
   ]
  },
  {
   "cell_type": "markdown",
   "metadata": {},
   "source": [
    "以上の結果を見ると，正の整数を抽出するプログラムが正しく機能していることが分かります．"
   ]
  },
  {
   "cell_type": "markdown",
   "metadata": {},
   "source": [
    "## スリム化した関数の定義\n",
    "\n",
    "テスト用のプログラムは途中結果を出力するために冗長なプログラムにしていました．\n",
    "そこで，単に結果を返す関数にします．\n",
    "\n",
    "```Python\n",
    "def extractNumericalValues(string):\n",
    "    return [int(x.replace(r',','')) for x in step1.findall(string) if step2.fullmatch(x)]\n",
    "```"
   ]
  },
  {
   "cell_type": "code",
   "execution_count": 17,
   "metadata": {
    "collapsed": true
   },
   "outputs": [],
   "source": [
    "def extractNumericalValues(string):\n",
    "    return [int(x.replace(r',','')) for x in step1.findall(string) if step2.fullmatch(x)]"
   ]
  },
  {
   "cell_type": "markdown",
   "metadata": {},
   "source": [
    "念のためにテスト文章からの抽出を実施します．\n",
    "テスト文章の下に抽出した正の整数を表示します．"
   ]
  },
  {
   "cell_type": "code",
   "execution_count": 18,
   "metadata": {},
   "outputs": [
    {
     "name": "stdout",
     "output_type": "stream",
     "text": [
      "*****\n",
      " 主催者側の発表では13,450となっていますが，当局の集計では8,234となっています． \n",
      " [13450, 8234]\n",
      "*****\n",
      " 表現は異なりますが，12345と12,345は同じ値です． \n",
      " [12345, 12345]\n",
      "*****\n",
      " 桁数の違いによって1や12,345さらに1,234,567および12,345,678,900なども対象になります． \n",
      " [1, 12345, 1234567, 12345678900]\n",
      "*****\n",
      " 数字は三桁ごとに区切るので12,34や1,2345,6などは間違いです． \n",
      " []\n",
      "*****\n",
      " 123は有理数123.45の整数部です． \n",
      " [123]\n",
      "*****\n",
      " 合格者の番号は「4, 56, 138, 260, 379」です． \n",
      " [4, 56, 138, 260, 379]\n"
     ]
    }
   ],
   "source": [
    "print('*****\\n',string1,'\\n',extractNumericalValues(string1))\n",
    "print('*****\\n',string2,'\\n',extractNumericalValues(string2))\n",
    "print('*****\\n',string3,'\\n',extractNumericalValues(string3))\n",
    "print('*****\\n',string4,'\\n',extractNumericalValues(string4))\n",
    "print('*****\\n',string5,'\\n',extractNumericalValues(string5))\n",
    "print('*****\\n',string6,'\\n',extractNumericalValues(string6))"
   ]
  },
  {
   "cell_type": "markdown",
   "metadata": {},
   "source": [
    "最終的なプログラムは次のようになりました．\n",
    "\n",
    ">  \n",
    "```Python\n",
    "step1 = re.compile(r'[\\d,.]*\\d')\n",
    "step2 = re.compile(r'\\d{1,3}(,\\d{3})*|\\d+')\n",
    "def extractNumericalValues(string):\n",
    "    return [int(x.replace(r',','')) for x in step1.findall(string) if step2.fullmatch(x)]\n",
    "```\n",
    "\n",
    "これで，課題の解答を終了します．\n",
    "\n",
    "*****"
   ]
  }
 ],
 "metadata": {
  "kernelspec": {
   "display_name": "Python 3",
   "language": "python",
   "name": "python3"
  },
  "language_info": {
   "codemirror_mode": {
    "name": "ipython",
    "version": 3
   },
   "file_extension": ".py",
   "mimetype": "text/x-python",
   "name": "python",
   "nbconvert_exporter": "python",
   "pygments_lexer": "ipython3",
   "version": "3.6.1"
  }
 },
 "nbformat": 4,
 "nbformat_minor": 2
}
