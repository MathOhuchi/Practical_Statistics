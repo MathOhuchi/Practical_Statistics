{
 "cells": [
  {
   "cell_type": "markdown",
   "metadata": {},
   "source": [
    "# 正規表現のコンパイル\n",
    "\n",
    "これまで正規表現の学習では，re.search()などの関数に正規表現パターンを文字列の引数として与えてきました．\n",
    "この方法では，reモジュールが正規表現パターンの文字列を受け取った時点で構文解析を行いマッチングパターンをコンパイルしてから検索を開始します．\n",
    "すなわち，re.search()関数が呼び出されるたびにコンパイルが実行されます．\n",
    "\n",
    "一般的なデータクレンジングにおいては，同じ文字検索が繰り返し実行されます．\n",
    "その度にコンパイルが繰り返されることは効率的ではありません．\n",
    "そこで，コンパイルを独立させて事前に実施することにより，検索時のオーバーヘッドを軽減することができます．\n",
    "ここでは，事前にコンパイルする方法について学習します．\n",
    "\n",
    "題材として，小数点付数の文字列をfullmatch()で判別するプログラムを扱います．"
   ]
  },
  {
   "cell_type": "markdown",
   "metadata": {},
   "source": [
    "まず，reライブラリーを搬入します．\n",
    "\n",
    "```Python\n",
    "import re\n",
    "```"
   ]
  },
  {
   "cell_type": "code",
   "execution_count": 1,
   "metadata": {
    "collapsed": true
   },
   "outputs": [],
   "source": [
    "import re"
   ]
  },
  {
   "cell_type": "markdown",
   "metadata": {},
   "source": [
    "既に確認したように小数点付数と一致する文字列の正規表現は次のようになります．\n",
    "\n",
    "> <font face='courier new'> r'^&yen;s\\*([+-]?(&yen;d+&yen;.?&yen;d\\*|&yen;.&yen;d+))\\s\\*&#036;' </font>\n",
    "\n",
    "この正規表現をコンパイルするには，<font color='green'>re.compile()</font>関数を使用します．\n",
    "そして，コンパイル済みの正規表現オブジェクトを変数に代入します．\n",
    "\n",
    "```Python\n",
    "floatCheck = re.compile(r'^\\s*([+-]?(\\d+\\.?\\d*|\\.\\d+))\\s*$')\n",
    "floatCheck\n",
    "```"
   ]
  },
  {
   "cell_type": "code",
   "execution_count": 2,
   "metadata": {},
   "outputs": [
    {
     "data": {
      "text/plain": [
       "re.compile(r'^\\s*([+-]?(\\d+\\.?\\d*|\\.\\d+))\\s*$', re.UNICODE)"
      ]
     },
     "execution_count": 2,
     "metadata": {},
     "output_type": "execute_result"
    }
   ],
   "source": [
    "floatCheck = re.compile(r'^\\s*([+-]?(\\d+\\.?\\d*|\\.\\d+))\\s*$')\n",
    "floatCheck"
   ]
  },
  {
   "cell_type": "markdown",
   "metadata": {},
   "source": [
    "マッチングする関数の呼出しですがコンパイルしない場合は，\n",
    "\n",
    "> <font face='courier new'>re.fullmatch(*pattern*,*string*)</font>\n",
    "\n",
    "と記載しました．\n",
    "コンパイル後は，コンパイル済みの正規表現オブジェクトを使って，\n",
    "\n",
    "> <font face='courier new'>floatCheck.fullmatch(*string*)</font>\n",
    "\n",
    "と記載します．"
   ]
  },
  {
   "cell_type": "markdown",
   "metadata": {},
   "source": [
    "具体的に文字列を与えてfullmatch()を実行してみます．\n",
    "\n",
    "```Python\n",
    "floatCheck.fullmatch(' -123.4 ')\n",
    "```"
   ]
  },
  {
   "cell_type": "code",
   "execution_count": 3,
   "metadata": {},
   "outputs": [
    {
     "data": {
      "text/plain": [
       "<_sre.SRE_Match object; span=(0, 8), match=' -123.4 '>"
      ]
     },
     "execution_count": 3,
     "metadata": {},
     "output_type": "execute_result"
    }
   ],
   "source": [
    "floatCheck.fullmatch(' -123.4 ')"
   ]
  },
  {
   "cell_type": "markdown",
   "metadata": {},
   "source": [
    "このように一致しているので，マッチオブジェクトが返ってきました．\n",
    "\n",
    "また，ここで使用している小数点付数のパターンではカンマ区切りの数字を認めていないので，カンマ区切りの文字列を与えた場合は不一致となります．\n",
    "\n",
    "```python\n",
    "floatCheck.fullmatch('1,234.5')\n",
    "```"
   ]
  },
  {
   "cell_type": "code",
   "execution_count": 4,
   "metadata": {
    "collapsed": true
   },
   "outputs": [],
   "source": [
    "floatCheck.fullmatch('1,234.5')"
   ]
  },
  {
   "cell_type": "markdown",
   "metadata": {},
   "source": [
    "データクレンジングにて正規表現を使用する場面では，必ずコンパイルを行ってから，マッチングを実施します．\n",
    "\n",
    "*****"
   ]
  }
 ],
 "metadata": {
  "kernelspec": {
   "display_name": "Python 3",
   "language": "python",
   "name": "python3"
  },
  "language_info": {
   "codemirror_mode": {
    "name": "ipython",
    "version": 3
   },
   "file_extension": ".py",
   "mimetype": "text/x-python",
   "name": "python",
   "nbconvert_exporter": "python",
   "pygments_lexer": "ipython3",
   "version": "3.7.4"
  }
 },
 "nbformat": 4,
 "nbformat_minor": 2
}
