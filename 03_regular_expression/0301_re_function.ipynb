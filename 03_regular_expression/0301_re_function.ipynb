{
 "cells": [
  {
   "cell_type": "markdown",
   "metadata": {},
   "source": [
    "# 正規表現によるパターンマッチング\n",
    "\n",
    "文字列の中から特定の文字パターンを検索したり置換するときに<font color=blue>正規表現</font>というツールを使うことができます．\n",
    "正規表現は様々なプログラミング言語に組み込まれているサブ言語です．\n",
    "\n",
    "かつて，Perlプログラマーは正規表現を用いた数行のプログラムを組むことを競うように行っていましたが，出来上がったプログラムは暗号のようで他人には理解できないものでした．\n",
    "\n",
    "正規表現は文字列のパターンマッチングにおいて強力な武器となりますが，その構文ルールが特殊なので使い方を凝ると解読困難なプログラムになってしまいます．\n",
    "\n",
    "正規表現について一通り学ぼうとすると相当なボリュームになってしまいます．\n",
    "ここでは，最低限必要な事だけをコンパクトにまとめて学習します．"
   ]
  },
  {
   "cell_type": "markdown",
   "metadata": {},
   "source": [
    "正規表現は英語で Regular Expression といいます．\n",
    "Pythonではその頭文字をとった reライブラリーが提供されています．\n",
    "まずは，reライブラリーを搬入します．\n",
    "\n",
    "```Python\n",
    "import re\n",
    "```"
   ]
  },
  {
   "cell_type": "code",
   "execution_count": 1,
   "metadata": {
    "collapsed": true
   },
   "outputs": [],
   "source": [
    "import re"
   ]
  },
  {
   "cell_type": "markdown",
   "metadata": {},
   "source": [
    "*****\n",
    "## マッチング関数\n",
    "\n",
    "正規表現には，様々なマッチング関数が用意されています．\n",
    "ここでは代表的な関数について紹介します．\n",
    "\n",
    "- <font face='courier new'>findall</font>\n",
    "- <font face='courier new'>search</font>\n",
    "- <font face='courier new'>match</font>\n",
    "- <font face='courier new'>fullmatch</font>"
   ]
  },
  {
   "cell_type": "markdown",
   "metadata": {},
   "source": [
    "*****\n",
    "### findall関数\n",
    "\n",
    "分かりやすい例として，文章の中にある数字を全て検索するプログラムを紹介します．\n",
    "これを実現するには，<font color=green>re.findall()</font>関数を利用します．\n",
    "\n",
    "> <font face='courier new'>re.findall(*pattern*,*string*,*flags=0*)</font>\n",
    "\n",
    "引数：\n",
    "- <font face='courier new'>*pattern*</font> ：探し出す文字列のパターン\n",
    "- <font face='courier new'>*string*</font> ：検索対象となる文章\n",
    "- <font face='courier new'>*flags*</font> ：オプションフラグ，デフォルトでゼロがセットされている\n",
    "\n",
    "<font face='courier new'>*pattern*</font>の文字列を記述する方法として，制御コードによる副作用を避けるためにraw文字列で指定しましょう．\n",
    "\n",
    "オプションフラグについては，デフォルトのままとします．"
   ]
  },
  {
   "cell_type": "markdown",
   "metadata": {},
   "source": [
    "#### 数字のパターン\n",
    "\n",
    "正規表現では，文字列のパターンの表し方が重要です．\n",
    "初歩的な例として，数字1文字は次のように表します．\n",
    "\n",
    "> <font face='courier new'> r'&yen;d' </font>\n",
    "\n",
    "この表現と一致する文字は 0~9 の単一の数字になります．  \n",
    "そして，2桁以上の数字も含めて一致させるには，次のような表現にします．\n",
    "\n",
    "> <font face='courier new'> r'&yen;d+' </font>\n",
    "\n",
    "ここでプラス記号は前の条件の文字を1文字以上続けた文字に一致することを意味します．"
   ]
  },
  {
   "cell_type": "markdown",
   "metadata": {},
   "source": [
    "#### 数字を抽出する例\n",
    "\n",
    "最初の例は，宝くじの発表文章から当選番号を抽出するプログラムです．\n",
    "re.findall関数の引数に次の値を直接代入します．\n",
    "\n",
    "> \n",
    "<font face='courier new'>pattern : r'&yen;d+'</font>  \n",
    "<font face='courier new'>string : 'The lottery winning numbers are 23, 50, 177 and 256.</font>\n",
    "\n",
    "\n",
    "```Python\n",
    "re.findall(r'\\d+','The lottery winning numbers are 23, 50, 177 and 256.')\n",
    "```"
   ]
  },
  {
   "cell_type": "code",
   "execution_count": 2,
   "metadata": {},
   "outputs": [
    {
     "data": {
      "text/plain": [
       "['23', '50', '177', '256']"
      ]
     },
     "execution_count": 2,
     "metadata": {},
     "output_type": "execute_result"
    }
   ],
   "source": [
    "re.findall(r'\\d+','The lottery winning numbers are 23, 50, 177 and 256.')"
   ]
  },
  {
   "cell_type": "markdown",
   "metadata": {},
   "source": [
    "次は日本語の文章の中から半角の数字を抽出するプログラムです．\n",
    "\n",
    "```Python\n",
    "re.findall(r'\\d+','国語は80点で、社会は95点だった。でも英語は50点でした。')\n",
    "```"
   ]
  },
  {
   "cell_type": "code",
   "execution_count": 3,
   "metadata": {},
   "outputs": [
    {
     "data": {
      "text/plain": [
       "['80', '95', '50']"
      ]
     },
     "execution_count": 3,
     "metadata": {},
     "output_type": "execute_result"
    }
   ],
   "source": [
    "re.findall(r'\\d+','国語は80点で、社会は95点だった。でも英語は50点でした。')"
   ]
  },
  {
   "cell_type": "markdown",
   "metadata": {},
   "source": [
    "このように，文章の中から特定の文字列パターンを全て拾い出すにはdindall関数が重宝します．"
   ]
  },
  {
   "cell_type": "markdown",
   "metadata": {},
   "source": [
    "*****\n",
    "### search関数\n",
    "\n",
    "search関数は，文章の中から指定したパターンを検索する関数です．\n",
    "マッチする部分が複数ある場合は，最初の部分が返されます．\n",
    "構文は次のようになります．\n",
    "\n",
    "> <font face='courier new'>re.search(*pattern*,*string*,*flags=0*)</font>\n",
    "\n",
    "引数：\n",
    "- <font face='courier new'>*pattern*</font> ：探し出す文字列のパターン\n",
    "- <font face='courier new'>*string*</font> ：検索対象となる文章\n",
    "- <font face='courier new'>*flags*</font> ：オプションフラグ，デフォルトでゼロがセットされている"
   ]
  },
  {
   "cell_type": "markdown",
   "metadata": {},
   "source": [
    "#### 単純な文字列の検索\n",
    "\n",
    "調査対象の文章から文字列の「what」を検索します．\n",
    "\n",
    "```Python\n",
    "matchObj = re.search(r'what','what I believe is what I see.')\n",
    "matchObj\n",
    "```"
   ]
  },
  {
   "cell_type": "code",
   "execution_count": 4,
   "metadata": {},
   "outputs": [
    {
     "data": {
      "text/plain": [
       "<_sre.SRE_Match object; span=(18, 22), match='what'>"
      ]
     },
     "execution_count": 4,
     "metadata": {},
     "output_type": "execute_result"
    }
   ],
   "source": [
    "matchObj = re.search(r'what','What I believe is what I see.')\n",
    "matchObj"
   ]
  },
  {
   "cell_type": "markdown",
   "metadata": {},
   "source": [
    "#### マッチオブジェクト\n",
    "\n",
    "この処理で「what」という文字列が見つかったので，返り値として<font color=blue>マッチオブジェクト</font>が返ってきます．\n",
    "マッチオブジェクトとは，検索結果の一致情報をまとめたものです．\n",
    "マッチオブジェクトには次のメソッドが用意されています．\n",
    "\n",
    "- <font face='courier new'>start()</font> ：見つかった文字列の先頭位置\n",
    "- <font face='courier new'>end()</font> ：見つかった文字列の最後尾の次の位置\n",
    "- <font face='courier new'>span()</font> ：見つかった文字列の（先頭位置，最後尾の次の位置）\n",
    "- <font face='courier new'>group()</font> ：マッチした文字列\n",
    "\n",
    "それぞれのメソッドを実行して結果を確認します．"
   ]
  },
  {
   "cell_type": "code",
   "execution_count": 5,
   "metadata": {
    "scrolled": true
   },
   "outputs": [
    {
     "data": {
      "text/plain": [
       "18"
      ]
     },
     "execution_count": 5,
     "metadata": {},
     "output_type": "execute_result"
    }
   ],
   "source": [
    "matchObj.start()"
   ]
  },
  {
   "cell_type": "code",
   "execution_count": 6,
   "metadata": {},
   "outputs": [
    {
     "data": {
      "text/plain": [
       "22"
      ]
     },
     "execution_count": 6,
     "metadata": {},
     "output_type": "execute_result"
    }
   ],
   "source": [
    "matchObj.end()"
   ]
  },
  {
   "cell_type": "code",
   "execution_count": 7,
   "metadata": {},
   "outputs": [
    {
     "data": {
      "text/plain": [
       "(18, 22)"
      ]
     },
     "execution_count": 7,
     "metadata": {},
     "output_type": "execute_result"
    }
   ],
   "source": [
    "matchObj.span()"
   ]
  },
  {
   "cell_type": "code",
   "execution_count": 8,
   "metadata": {},
   "outputs": [
    {
     "data": {
      "text/plain": [
       "'what'"
      ]
     },
     "execution_count": 8,
     "metadata": {},
     "output_type": "execute_result"
    }
   ],
   "source": [
    "matchObj.group()"
   ]
  },
  {
   "cell_type": "markdown",
   "metadata": {},
   "source": [
    "#### group\n",
    "\n",
    "文字列の検索結果を分割して取り出すことも可能です．\n",
    "一例として，電話番号がマイナス記号付きで記載されている「01-2345-6789」という文字列から市外局番や市内局番を個別で取り出す方法を紹介します．\n",
    "この電話番号に一致するパターンは，\n",
    "\n",
    "> <font face='courier new'>r'&yen;d+-&yen;d+-&yen;d+'</font>\n",
    "\n",
    "です．\n",
    "文章の中から電話番号を取り出します．\n",
    "\n",
    "```Python\n",
    "re.search(r'\\d+-\\d+-\\d+','My phone number is 01-2345-6789.')\n",
    "```"
   ]
  },
  {
   "cell_type": "code",
   "execution_count": 9,
   "metadata": {
    "scrolled": true
   },
   "outputs": [
    {
     "data": {
      "text/plain": [
       "<_sre.SRE_Match object; span=(19, 31), match='01-2345-6789'>"
      ]
     },
     "execution_count": 9,
     "metadata": {},
     "output_type": "execute_result"
    }
   ],
   "source": [
    "re.search(r'\\d+-\\d+-\\d+','My phone number is 01-2345-6789.')"
   ]
  },
  {
   "cell_type": "markdown",
   "metadata": {},
   "source": [
    "しかし，この結果として抽出される文字列は「01-2345-6789」だけですので，この後で文字列を分割する操作が必要になります．\n",
    "そこで，3つの部分を取り出せるようにマッチングパターンを変更します．\n",
    "その方法は，取り出したい部分を括弧 ( ) で囲うだけです．\n",
    "マッチングパターンを次のようにします．\n",
    "\n",
    "> <font face='courier new'> r'(&yen;d+)-(&yen;d+)-(&yen;d+)' </font>\n",
    "\n",
    "このパターンを使って電話番号を取り出します．\n",
    "\n",
    "```Python\n",
    "matchObj = re.search(r'(\\d+)-(\\d+)-(\\d+)','My phone number is 01-2345-6789.')\n",
    "matchObj\n",
    "```"
   ]
  },
  {
   "cell_type": "code",
   "execution_count": 10,
   "metadata": {},
   "outputs": [
    {
     "data": {
      "text/plain": [
       "<_sre.SRE_Match object; span=(19, 31), match='01-2345-6789'>"
      ]
     },
     "execution_count": 10,
     "metadata": {},
     "output_type": "execute_result"
    }
   ],
   "source": [
    "matchObj = re.search(r'(\\d+)-(\\d+)-(\\d+)','My phone number is 01-2345-6789.')\n",
    "matchObj"
   ]
  },
  {
   "cell_type": "markdown",
   "metadata": {},
   "source": [
    "このマッチオブジェクトの結果を見ると先ほどと同じように思えますが，group()関数に引数を渡すことによって個別の数字を取り出すことができます．\n",
    "このgroup()関数に渡せる引数の最大値はlastindex属性によって知ることができます．\n",
    "\n",
    "```Python\n",
    "matchObj.group()   # 一致した文字列全体\n",
    "matchObj.lastindex # group()関数に指定できるインデックスの最後の値\n",
    "matchObj.group(1)  # 一致した文字列の最初の指定部分\n",
    "```"
   ]
  },
  {
   "cell_type": "code",
   "execution_count": 11,
   "metadata": {
    "scrolled": true
   },
   "outputs": [
    {
     "data": {
      "text/plain": [
       "'01-2345-6789'"
      ]
     },
     "execution_count": 11,
     "metadata": {},
     "output_type": "execute_result"
    }
   ],
   "source": [
    "matchObj.group()"
   ]
  },
  {
   "cell_type": "code",
   "execution_count": 12,
   "metadata": {},
   "outputs": [
    {
     "data": {
      "text/plain": [
       "3"
      ]
     },
     "execution_count": 12,
     "metadata": {},
     "output_type": "execute_result"
    }
   ],
   "source": [
    "matchObj.lastindex"
   ]
  },
  {
   "cell_type": "code",
   "execution_count": 13,
   "metadata": {
    "scrolled": true
   },
   "outputs": [
    {
     "data": {
      "text/plain": [
       "'01'"
      ]
     },
     "execution_count": 13,
     "metadata": {},
     "output_type": "execute_result"
    }
   ],
   "source": [
    "matchObj.group(1)"
   ]
  },
  {
   "cell_type": "markdown",
   "metadata": {},
   "source": [
    "さらに，groups()メソッドによって個別に取り出した文字列をタプルとして得ることができます．\n",
    "\n",
    "```Python\n",
    "matchObj.groups()\n",
    "```"
   ]
  },
  {
   "cell_type": "code",
   "execution_count": 14,
   "metadata": {
    "scrolled": true
   },
   "outputs": [
    {
     "data": {
      "text/plain": [
       "('01', '2345', '6789')"
      ]
     },
     "execution_count": 14,
     "metadata": {},
     "output_type": "execute_result"
    }
   ],
   "source": [
    "matchObj.groups()"
   ]
  },
  {
   "cell_type": "markdown",
   "metadata": {},
   "source": [
    "*****\n",
    "### match関数\n",
    "\n",
    "match()関数は文章の先頭から一致する場合のみマッチオブジェクトを返します．\n",
    "次の例は文章の先頭にある「What」と一致した例です．\n",
    "\n",
    "```Python\n",
    "re.match(r'What','What I believe is what I see.')\n",
    "```"
   ]
  },
  {
   "cell_type": "code",
   "execution_count": 15,
   "metadata": {
    "scrolled": true
   },
   "outputs": [
    {
     "data": {
      "text/plain": [
       "<_sre.SRE_Match object; span=(0, 4), match='What'>"
      ]
     },
     "execution_count": 15,
     "metadata": {},
     "output_type": "execute_result"
    }
   ],
   "source": [
    "re.match(r'What','What I believe is what I see.')"
   ]
  },
  {
   "cell_type": "markdown",
   "metadata": {},
   "source": [
    "この場合，「What」が先頭にあるのでパターンが一致して，マッチオブジェクトが生成されました．\n",
    "この文章の中には小文字の'w'で始まる「what」もありますが，この文字列をmatch()関数で調べても結果を得ることはできません．\n",
    "\n",
    "```Python\n",
    "re.match(r'what','What I believe is what I see.')\n",
    "```"
   ]
  },
  {
   "cell_type": "code",
   "execution_count": 16,
   "metadata": {
    "collapsed": true
   },
   "outputs": [],
   "source": [
    "re.match(r'what','What I believe is what I see.')"
   ]
  },
  {
   "cell_type": "markdown",
   "metadata": {},
   "source": [
    "このように返り値を得ることができません．\n",
    "文章の途中の文字列を検索する場合はmatch()関数ではなくsearch()関数を使用します．"
   ]
  },
  {
   "cell_type": "markdown",
   "metadata": {},
   "source": [
    "*****\n",
    "### fullmatch関数\n",
    "\n",
    "確認対象の文章がパターンと完全一致しているかを確かめるにはfullmatch()関数を使用します．\n",
    "次の例は，住所として認識できるかをfullmatch関数で判断しています．\n",
    "ここではマッチングパターンとして，次の記号を使っています．\n",
    "\n",
    ">  \n",
    "- <font face='courier new'> &yen;w+ </font>  \n",
    "- <font face='courier new'> .\\* </font>\n",
    "- <font face='courier new'> [都道府県] </font>\n",
    "- <font face='courier new'> (  ) <font>\n",
    "\n",
    "「&yen;w+」は特殊文字を除く任意の文字の1つ以上の文字列です．  \n",
    "「.\\*」は任意の文字の0個以上の文字列です．何もなくても構いません．  \n",
    "「[都道府県]」は都,道,府,県のどれか一つと一致している文字列です．  \n",
    "「(  )」は括弧内に一致した部分を独立して抽出できる仕組みです．\n",
    "\n",
    "```Python\n",
    "matchObj = re.fullmatch(r'(\\w+[都道府県])(\\w+[市町村]).*','神奈川県横浜市中央区1丁目1番地')\n",
    "matchObj.group()\n",
    "```"
   ]
  },
  {
   "cell_type": "code",
   "execution_count": 17,
   "metadata": {
    "scrolled": true
   },
   "outputs": [
    {
     "data": {
      "text/plain": [
       "'神奈川県横浜市中央区1丁目1番地'"
      ]
     },
     "execution_count": 17,
     "metadata": {},
     "output_type": "execute_result"
    }
   ],
   "source": [
    "matchObj = re.fullmatch(r'(\\w+[都道府県])(\\w+[市町村]).*','神奈川県横浜市中央区1丁目1番地')\n",
    "matchObj.group()"
   ]
  },
  {
   "cell_type": "markdown",
   "metadata": {},
   "source": [
    "このパターンでのマッチングでは，都道府県名と市町村名を抽出しています．\n",
    "groups()メソッドを使って確認します．\n",
    "\n",
    "```Python\n",
    "matchObj.groups()\n",
    "```"
   ]
  },
  {
   "cell_type": "code",
   "execution_count": 18,
   "metadata": {},
   "outputs": [
    {
     "data": {
      "text/plain": [
       "('神奈川県', '横浜市')"
      ]
     },
     "execution_count": 18,
     "metadata": {},
     "output_type": "execute_result"
    }
   ],
   "source": [
    "matchObj.groups()"
   ]
  },
  {
   "cell_type": "markdown",
   "metadata": {},
   "source": [
    "*****"
   ]
  }
 ],
 "metadata": {
  "kernelspec": {
   "display_name": "Python 3",
   "language": "python",
   "name": "python3"
  },
  "language_info": {
   "codemirror_mode": {
    "name": "ipython",
    "version": 3
   },
   "file_extension": ".py",
   "mimetype": "text/x-python",
   "name": "python",
   "nbconvert_exporter": "python",
   "pygments_lexer": "ipython3",
   "version": "3.6.1"
  }
 },
 "nbformat": 4,
 "nbformat_minor": 2
}
