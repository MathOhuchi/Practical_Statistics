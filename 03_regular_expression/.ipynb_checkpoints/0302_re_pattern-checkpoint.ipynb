{
 "cells": [
  {
   "cell_type": "markdown",
   "metadata": {},
   "source": [
    "# 正規表現のパターン\n",
    "\n",
    "正規表現は，検索対象の文字列の中でマッチングする文字列のパターンを正確に記述することが重要です．\n",
    "\n",
    "全てのパターンについて学習するのは大変ですので，ここでは最小限の正規表現について説明します．"
   ]
  },
  {
   "cell_type": "markdown",
   "metadata": {},
   "source": [
    "### 文字を指定する記号\n",
    "\n",
    "&yen;記号はエスケープシーケンスの開始文字で，この後の記号と合わせて特別な意味になっています．\n",
    "\n",
    "| 記号 | 説明 |\n",
    "|:---:|:---|\n",
    "| . | 改行以外の任意の1文字 |\n",
    "| &yen;w | 会話文字，数字，アンダースコアのどれか一文字（日本語も含む） |\n",
    "| &yen;W | &yen;w以外の一文字（空白文字，記号，制御コード） |\n",
    "| &yen;d | 数字0~9の一文字 |\n",
    "| &yen;D | &yen;d以外の一文字 |\n",
    "| &yen;s | 空白文字と改行，タブなどの制御文字の一文字 |\n",
    "| &yen;S | &yen;s以外の一文字 |\n",
    "| &yen;n | 改行 |\n",
    "| &yen;t | タブ |\n",
    "| &yen;&yen; | &yen;記号 |"
   ]
  },
  {
   "cell_type": "markdown",
   "metadata": {},
   "source": [
    "### 繰り返しの指定\n",
    "\n",
    "| 記号 | 説明 |\n",
    "|:---:|:---|\n",
    "| * | 直前の正規表現が0回以上できる限り多くマッチ |\n",
    "| + | 直前の正規表現が1回以上できる限り多くマッチ |\n",
    "| ? | 直前の正規表現が0回か1回マッチ |\n",
    "| {n} | 直前の正規表現がn回マッチ |\n",
    "| {m,n} | 直前の正規表現がm回以上n回以下マッチ |"
   ]
  },
  {
   "cell_type": "markdown",
   "metadata": {},
   "source": [
    "### 特別な記号\n",
    "\n",
    "| 記号 | 説明 |\n",
    "|:---:|:---|\n",
    "| ^  | 文字列の先頭とマッチ |\n",
    "| \\$ | 文字列の最後尾とマッチ |\n",
    "| ( ) | マッチする文字列中のグループ指定 |\n",
    "| &alpha; &#124; &beta; | &alpha; か &beta; のどちらか一方とマッチ |\n",
    "| [ ] | 文字の集合，[ ] 内の文字のどれかとマッチ |\n",
    "| [^ ] | ^に続く文字以外とマッチ |"
   ]
  },
  {
   "cell_type": "markdown",
   "metadata": {},
   "source": [
    "### 特殊な意味のある記号をそのままの文字にするには\n",
    "\n",
    "正規表現パターンの中で特殊な役割をする記号をそのままの記号として扱いたい場合は，その文字の前に円記号&yen;を記載します．\n",
    "\n",
    "| 文字 | 記載方法 |\n",
    "|:---:|:---:|\n",
    "| &yen; | &yen;&yen; |\n",
    "| . | &yen;. |\n",
    "| \\* |&yen;\\*|\n",
    "| + | &yen;+ |\n",
    "| ? | &yen;? |\n",
    "| ^ | &yen;^ |\n",
    "| \\$ | &yen;\\$ |\n",
    "| &#124; | &yen;&#124; |\n",
    "| ( | &yen;( |\n",
    "| ) | &yen;) |\n",
    "| [ | &yen;[ |\n",
    "| ] | &yen;] |"
   ]
  },
  {
   "cell_type": "markdown",
   "metadata": {},
   "source": [
    "*****\n",
    "## Pythonによる具体例\n",
    "\n",
    "具体例を確認するために，reライブラリーを搬入します．\n",
    "\n",
    "```Python\n",
    "import re\n",
    "```"
   ]
  },
  {
   "cell_type": "code",
   "execution_count": 1,
   "metadata": {
    "collapsed": true
   },
   "outputs": [],
   "source": [
    "import re"
   ]
  },
  {
   "cell_type": "markdown",
   "metadata": {},
   "source": [
    "*****\n",
    "## 整数に一致するパターン\n",
    "\n",
    "整数を集合で記述すると，\n",
    "\n",
    "> $\\{\\cdots, -3, -2, -1, 0, 1, 2, 3, \\cdots\\}$\n",
    "\n",
    "となります．また，正の数にはプラス記号が付いても構いません．\n",
    "\n",
    "文字列として整数に一致する正規表現パターンは次のようになります．\n",
    "ただし，文字列の前後に空白文字があっても良いものとします．\n",
    "\n",
    "> <font face='courier new'>r'^&yen;s\\*([+-]?&yen;d+)&yen;s\\*\\&#036;'</font>\n",
    "\n",
    "- <font face='courier new'>^&yen;s\\* </font>：文字列の先頭に空白文字が何文字あっても構わない\n",
    "- <font face='courier new'>[+-]?     </font>：プラス記号あるいはマイナス記号のどちらかがあっても無くてもよい\n",
    "- <font face='courier new'>&yen;d+   </font> ：数字文字0~9が1個以上ある\n",
    "- <font face='courier new'>&yen;s\\*\\&#036; </font>：文字列の末尾に空白文字が何文字あっても構わない\n"
   ]
  },
  {
   "cell_type": "markdown",
   "metadata": {},
   "source": [
    "整数に一致する文字列のパターンを次のように定義して，変数に代入します．\n",
    "\n",
    "```Python\n",
    "patternInt = r'^\\s*([+-]?\\d+)\\s*$'\n",
    "```"
   ]
  },
  {
   "cell_type": "code",
   "execution_count": 2,
   "metadata": {
    "collapsed": true
   },
   "outputs": [],
   "source": [
    "patternInt = r'^\\s*([+-]?\\d+)\\s*$'"
   ]
  },
  {
   "cell_type": "markdown",
   "metadata": {},
   "source": [
    "fullmatch()関数でこのパターンを使った場合，次のような文字列がマッチします．\n",
    "\n",
    "> <font face='courier new'> '123', ' 123 ', '+123',  ' -123 '</font>\n",
    "\n",
    "試しに，次の例を実行します．\n",
    "\n",
    "```Python\n",
    "result = re.fullmatch(patternInt,' -123 ')\n",
    "result\n",
    "```"
   ]
  },
  {
   "cell_type": "code",
   "execution_count": 3,
   "metadata": {},
   "outputs": [
    {
     "data": {
      "text/plain": [
       "<_sre.SRE_Match object; span=(0, 6), match=' -123 '>"
      ]
     },
     "execution_count": 3,
     "metadata": {},
     "output_type": "execute_result"
    }
   ],
   "source": [
    "result = re.fullmatch(patternInt,' -123 ')\n",
    "result"
   ]
  },
  {
   "cell_type": "markdown",
   "metadata": {},
   "source": [
    "数字そのものはresult.group(1)に格納されていますので，これを指定することにより純粋な整数の文字列が求まります．\n",
    "\n",
    "```Python\n",
    "result.group(1)\n",
    "```"
   ]
  },
  {
   "cell_type": "code",
   "execution_count": 4,
   "metadata": {
    "scrolled": true
   },
   "outputs": [
    {
     "data": {
      "text/plain": [
       "'-123'"
      ]
     },
     "execution_count": 4,
     "metadata": {},
     "output_type": "execute_result"
    }
   ],
   "source": [
    "result.group(1)"
   ]
  },
  {
   "cell_type": "markdown",
   "metadata": {},
   "source": [
    "チェックする文字列に小数点を付けるとマッチしません．\n",
    "次の例で確認します．\n",
    "\n",
    "```Python\n",
    "re.fullmatch(patternInt,'123.')\n",
    "```"
   ]
  },
  {
   "cell_type": "code",
   "execution_count": 5,
   "metadata": {
    "collapsed": true
   },
   "outputs": [],
   "source": [
    "re.fullmatch(patternInt,'123.')"
   ]
  },
  {
   "cell_type": "markdown",
   "metadata": {},
   "source": [
    "このようにマッチしない場合は返り値として何も返ってきません．\n",
    "この返り値を利用することにより，if文でマッチした場合としなかった場合を制御することができます．\n",
    "この例で変数stringに色々な値を代入して確かめてください．\n",
    "\n",
    "```Python\n",
    "string = '12345.'\n",
    "result = re.fullmatch(patternInt,string)\n",
    "if result:\n",
    "    print('Matched sentence : '+result.group())\n",
    "else:\n",
    "    print('Nothing matched!')\n",
    "```"
   ]
  },
  {
   "cell_type": "code",
   "execution_count": 6,
   "metadata": {},
   "outputs": [
    {
     "name": "stdout",
     "output_type": "stream",
     "text": [
      "Nothing matched!\n"
     ]
    }
   ],
   "source": [
    "string = '12345.'\n",
    "result = re.fullmatch(patternInt,string)\n",
    "if result:\n",
    "    print('Matched sentence : '+result.group())\n",
    "else:\n",
    "    print('Nothing matched!')"
   ]
  },
  {
   "cell_type": "markdown",
   "metadata": {},
   "source": [
    "*****\n",
    "## 小数点付き数に一致するパターン\n",
    "\n",
    "次に文字列全体が小数点付数とマッチするパターンを作成します．\n",
    "小数点付数としては次のような値を考えます．\n",
    "\n",
    "> <font face='courier new'> '12.3', '+12.', '-12.3', ' 12.3 ', ' 12 ' </font>\n",
    "\n",
    "この定義では小数点の無い整数も含みますが，指数形式の数値は対象にはしません．\n",
    "\n",
    "> <font face='courier new'> r'^&yen;s\\*([+-]?(&yen;d+&yen;.?&yen;d\\*|&yen;.&yen;d+))&yen;s\\*&#036;' </font>\n",
    "\n",
    "- <font face='courier new'>^&yen;s\\* </font>：文字列の先頭に空白文字が何文字あっても構わない\n",
    "- <font face='courier new'>[+-]?     </font>：プラス記号あるいはマイナス記号のどちらかがあっても無くてもよい\n",
    "- <font face='courier new'>( &alpha; | &beta; )  </font> ：正義表現の&alpha;か&beta;のどちらか\n",
    "- <font face='courier new'>&yen;d+&yen;.?&yen;d* </font> ：整数部が必ずあり，ピリオドと小数点部がオプションになっている表現\n",
    "- <font face='courier new'>&yen;.&yen;d\\+ </font> ：ピリオドから始まって小数点不がある表現\n",
    "- <font face='courier new'>&yen;s\\*\\&#036; </font>：文字列の末尾に空白文字が何文字あっても構わない"
   ]
  },
  {
   "cell_type": "markdown",
   "metadata": {},
   "source": [
    "小数点付数にマッチするパターンを作成して，変数に代入します．\n",
    "\n",
    "```Python\n",
    "patternFloat = r'^\\s*([+-]?(\\d+\\.?\\d*|\\.\\d+))\\s*$'\n",
    "```"
   ]
  },
  {
   "cell_type": "code",
   "execution_count": 7,
   "metadata": {
    "collapsed": true
   },
   "outputs": [],
   "source": [
    "patternFloat = r'^\\s*([+-]?(\\d+\\.?\\d*|\\.\\d+))\\s*$'"
   ]
  },
  {
   "cell_type": "markdown",
   "metadata": {},
   "source": [
    "このパターンを使って，fullmatch()関数により一致する文字列を確認します．\n",
    "\n",
    "```Python\n",
    "result = re.fullmatch(patternFloat,' -12.3 ')\n",
    "result\n",
    "```"
   ]
  },
  {
   "cell_type": "code",
   "execution_count": 8,
   "metadata": {},
   "outputs": [
    {
     "data": {
      "text/plain": [
       "<_sre.SRE_Match object; span=(0, 7), match=' -12.3 '>"
      ]
     },
     "execution_count": 8,
     "metadata": {},
     "output_type": "execute_result"
    }
   ],
   "source": [
    "result = re.fullmatch(patternFloat,' -12.3 ')\n",
    "result"
   ]
  },
  {
   "cell_type": "markdown",
   "metadata": {},
   "source": [
    "このマッチ結果において，小数点付数の部分はgroup(1)に格納されます．\n",
    "\n",
    "```Python\n",
    "result.group(1)\n",
    "```"
   ]
  },
  {
   "cell_type": "code",
   "execution_count": 9,
   "metadata": {
    "scrolled": true
   },
   "outputs": [
    {
     "data": {
      "text/plain": [
       "'-12.3'"
      ]
     },
     "execution_count": 9,
     "metadata": {},
     "output_type": "execute_result"
    }
   ],
   "source": [
    "result.group(1)"
   ]
  },
  {
   "cell_type": "markdown",
   "metadata": {},
   "source": [
    "この小数点付数のマッチングパターンはデータクレンジングで活用します．\n",
    "\n",
    "なお，正規表現パターンの先頭の「<font face='courier new'>^&yen;s\\*</font>」と\n",
    "最後尾の「<font face='courier new'>&yen;s\\*\\$</font>」を削除すれば文中の小数点付数の検索に利用できます．\n",
    "\n",
    "*****"
   ]
  }
 ],
 "metadata": {
  "kernelspec": {
   "display_name": "Python 3",
   "language": "python",
   "name": "python3"
  },
  "language_info": {
   "codemirror_mode": {
    "name": "ipython",
    "version": 3
   },
   "file_extension": ".py",
   "mimetype": "text/x-python",
   "name": "python",
   "nbconvert_exporter": "python",
   "pygments_lexer": "ipython3",
   "version": "3.6.1"
  }
 },
 "nbformat": 4,
 "nbformat_minor": 2
}
