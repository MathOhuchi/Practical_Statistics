{
 "cells": [
  {
   "cell_type": "markdown",
   "metadata": {},
   "source": [
    "# マイナス記号の統一\n",
    "\n",
    "数値を扱う上で負の数値にはマイナス記号が付きますが，文字としてマイナス記号に似た記号が複数存在します．\n",
    "コンピュータ上で負の数値が入力されている場合，マイナス記号の代わりに間違った記号が用いられるケースがあります．\n",
    "\n",
    "ここでは，そのような記号を正しいマイナス記号に置き換える正規表現プログラムを作成します．"
   ]
  },
  {
   "cell_type": "markdown",
   "metadata": {},
   "source": [
    "## マイナス記号に似た文字\n",
    "\n",
    "\n",
    "|記号|名称|ユニコード|補足説明|\n",
    "|:---:|:---:|:---:|:---|\n",
    "| &#x2D; | ハイフンマイナス | U+002D |キーボードからの英字入力ではハイフンとマイナス記号は統一したコードとなる|\n",
    "| &#xFF0D; | 全角ハイフンマイナス | U+FF0D |ハイフンマイナスを全角にしたもの|\n",
    "| &minus;  | 負符号，減算記号 | U+2212 |ユニコード上で独立したマイナス記号|\n",
    "| &#x2010; | 半角ハイフン | U+2010 |ユニコード上で独立したハイフン記号|\n",
    "| &#x2012; |フィギュアダッシュ| U+2012 |数字と同じ幅になるダッシュ記号|\n",
    "| &ndash;  | nダッシュ    | U+2013 |半角のダッシュ記号|\n",
    "| &mdash;  | mダッシュ    | U+2014 |全角のダッシュ記号\n",
    "| &#x2015; | 水平線       | U+2015 |レイアウトなどに使われる横線|\n",
    "| &#x30FC; | 長音記号     | U+30FC |カタカナの長音記号|\n",
    "| &#xFF70; | 半角長音記号 | U+FF70 |半角カタカナの調音記号|"
   ]
  },
  {
   "cell_type": "markdown",
   "metadata": {},
   "source": [
    "これらの記号のうち，ハイフンマイナス（U+002D）以外の記号がついた数値をint()関数で型変換しようとすると以下に示すようにエラーになります．\n",
    "\n",
    "```Python\n",
    "for x in ['-99', '－1', '−2', '‐3', '‒4', '–5', '—6', '―7', 'ー8', 'ｰ9']:\n",
    "    try:\n",
    "        print(x,'の数値化：',int(x))\n",
    "    except:\n",
    "        print(x,'の数値化はエラー')\n",
    "```"
   ]
  },
  {
   "cell_type": "code",
   "execution_count": 1,
   "metadata": {},
   "outputs": [
    {
     "name": "stdout",
     "output_type": "stream",
     "text": [
      "-99 の数値化： -99\n",
      "－1 の数値化はエラー\n",
      "−2 の数値化はエラー\n",
      "‐3 の数値化はエラー\n",
      "‒4 の数値化はエラー\n",
      "–5 の数値化はエラー\n",
      "—6 の数値化はエラー\n",
      "―7 の数値化はエラー\n",
      "ー8 の数値化はエラー\n",
      "ｰ9 の数値化はエラー\n"
     ]
    }
   ],
   "source": [
    "for x in ['-99', '－1', '−2', '‐3', '‒4', '–5', '—6', '―7', 'ー8', 'ｰ9']:\n",
    "    try:\n",
    "        print(x,'の数値化：',int(x))\n",
    "    except:\n",
    "        print(x,'の数値化はエラー')"
   ]
  },
  {
   "cell_type": "markdown",
   "metadata": {},
   "source": [
    "そこで，これらマイナス記号に似た記号を全て<font color='blue'>ハイフンマイナス記号</font>に変換することを考えます．\n",
    "\n",
    "*****\n",
    "まずは，reライブラリーを搬入します．\n",
    "\n",
    "```Python\n",
    "import re\n",
    "```"
   ]
  },
  {
   "cell_type": "code",
   "execution_count": 2,
   "metadata": {},
   "outputs": [],
   "source": [
    "import re"
   ]
  },
  {
   "cell_type": "markdown",
   "metadata": {},
   "source": [
    "表示される文字列を正確に入手するために，それぞれの記号をユニコードで記載して表示します．\n",
    "\n",
    "```Python\n",
    "'\\uff0d\\u2212\\u2010\\u2012\\u2013\\u2014\\u2015\\u30fc\\uff70'\n",
    "```"
   ]
  },
  {
   "cell_type": "code",
   "execution_count": 3,
   "metadata": {},
   "outputs": [
    {
     "data": {
      "text/plain": [
       "'－−‐‒–—―ーｰ'"
      ]
     },
     "execution_count": 3,
     "metadata": {},
     "output_type": "execute_result"
    }
   ],
   "source": [
    "'\\uff0d\\u2212\\u2010\\u2012\\u2013\\u2014\\u2015\\u30fc\\uff70'"
   ]
  },
  {
   "cell_type": "markdown",
   "metadata": {},
   "source": [
    "ここで得られらマイナス記号に似た記号の文字列を使ってマッチング対象の文字のパターンを作成します．  \n",
    "パターンは，角括弧でこれらの記号を囲うことによって，そのどれかとの一致を評価するものにします．\n",
    "\n",
    "```Python\n",
    "minusSign = re.compile(r'[－−‐‒–—―ーｰ]')\n",
    "```"
   ]
  },
  {
   "cell_type": "code",
   "execution_count": 4,
   "metadata": {},
   "outputs": [],
   "source": [
    "minusSign = re.compile(r'[－−‐‒–—―ーｰ]')"
   ]
  },
  {
   "cell_type": "markdown",
   "metadata": {},
   "source": [
    "テスト用の文字列として，マイナス記号に似た記号を付けた数字を列記したものを用意します．\n",
    "\n",
    "```Python\n",
    "string = '－1, −2, ‐3, ‒4, –5, —6, ―7, ー8, ｰ9.'\n",
    "string\n",
    "```"
   ]
  },
  {
   "cell_type": "code",
   "execution_count": 5,
   "metadata": {},
   "outputs": [
    {
     "data": {
      "text/plain": [
       "'－1, −2, ‐3, ‒4, –5, —6, ―7, ー8, ｰ9.'"
      ]
     },
     "execution_count": 5,
     "metadata": {},
     "output_type": "execute_result"
    }
   ],
   "source": [
    "string = '－1, −2, ‐3, ‒4, –5, —6, ―7, ー8, ｰ9.'\n",
    "string"
   ]
  },
  {
   "cell_type": "markdown",
   "metadata": {},
   "source": [
    "コンパイルした正規表現パターンを使用して，テスト用文字列のマイナス記号に似た記号を全てハイフンマイナス記号に変更します．\n",
    "\n",
    "```Python\n",
    "minusSign.sub('-',string)\n",
    "```"
   ]
  },
  {
   "cell_type": "code",
   "execution_count": 6,
   "metadata": {
    "scrolled": true
   },
   "outputs": [
    {
     "data": {
      "text/plain": [
       "'-1, -2, -3, -4, -5, -6, -7, -8, -9.'"
      ]
     },
     "execution_count": 6,
     "metadata": {},
     "output_type": "execute_result"
    }
   ],
   "source": [
    "minusSign.sub('-',string)"
   ]
  },
  {
   "cell_type": "markdown",
   "metadata": {},
   "source": [
    "このように，マイナス記号を統一することに成功しました．\n",
    "\n",
    "ただし，この置換も闇雲に実施するのではなく，負の数値だと判断できるものに限定することを忘れないようにしましょう．"
   ]
  },
  {
   "cell_type": "markdown",
   "metadata": {},
   "source": [
    "*****\n",
    "## 正規表現を使わない方法\n",
    "\n",
    "このマイナス記号に似た記号を統一する方法として，\n",
    "<font color=green>str.translate()</font>メソッドを使用する方法があります．\n",
    "ここでは，簡単に紹介します．\n",
    "\n",
    "まず準備として，変換表を<font color=green>str.maketrans()</font>関数を使って用意します．\n",
    "ここで与えるデータは辞書配列で，変換前の文字をインデックスとし，値をハイフンマイナス記号にします．\n",
    "\n",
    "```Python\n",
    "transMinus = str.maketrans({'－':'-', '−':'-', '‐':'-', '‒':'-', '–':'-', '—':'-', '―':'-', 'ー':'-', 'ｰ':'-'})\n",
    "```"
   ]
  },
  {
   "cell_type": "code",
   "execution_count": 7,
   "metadata": {},
   "outputs": [],
   "source": [
    "transMinus = str.maketrans({'－':'-', '−':'-', '‐':'-', '‒':'-', '–':'-', '—':'-', '―':'-', 'ー':'-', 'ｰ':'-'})"
   ]
  },
  {
   "cell_type": "markdown",
   "metadata": {},
   "source": [
    "対象となる文字列で translate()メソッドを実行します．\n",
    "\n",
    "```Python\n",
    "string.translate(transMinus)\n",
    "```"
   ]
  },
  {
   "cell_type": "code",
   "execution_count": 8,
   "metadata": {},
   "outputs": [
    {
     "data": {
      "text/plain": [
       "'-1, -2, -3, -4, -5, -6, -7, -8, -9.'"
      ]
     },
     "execution_count": 8,
     "metadata": {},
     "output_type": "execute_result"
    }
   ],
   "source": [
    "string.translate(transMinus)"
   ]
  },
  {
   "cell_type": "markdown",
   "metadata": {},
   "source": [
    "このように正規表現を使わずともマイナス記号を統一することができます．\n",
    "正規表現による方法と比較すると，translateの方が実行コードとしてコンパクトになりますが，準備データが複雑になります．\n",
    "\n",
    "*****"
   ]
  }
 ],
 "metadata": {
  "kernelspec": {
   "display_name": "Python 3",
   "language": "python",
   "name": "python3"
  },
  "language_info": {
   "codemirror_mode": {
    "name": "ipython",
    "version": 3
   },
   "file_extension": ".py",
   "mimetype": "text/x-python",
   "name": "python",
   "nbconvert_exporter": "python",
   "pygments_lexer": "ipython3",
   "version": "3.7.4"
  }
 },
 "nbformat": 4,
 "nbformat_minor": 2
}
